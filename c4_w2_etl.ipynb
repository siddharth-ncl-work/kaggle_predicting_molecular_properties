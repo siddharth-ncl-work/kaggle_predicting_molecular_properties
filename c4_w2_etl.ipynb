{
    "nbformat_minor": 1, 
    "cells": [
        {
            "source": "## Aim: To create a traing and test dataframes for downstream precesses\n\n# Load & Extract Data", 
            "cell_type": "markdown", 
            "metadata": {}
        }, 
        {
            "execution_count": 1, 
            "cell_type": "code", 
            "metadata": {}, 
            "outputs": [], 
            "source": "def load_data():\n    # The following code contains the credentials for a file in your IBM Cloud Object Storage.\n    # You might want to remove those credentials before you share your notebook.\n    credentials_1 = {\n        'IAM_SERVICE_ID': 'iam-ServiceId-18f05839-f64e-476f-a565-2a40dc0b9010',\n        'IBM_API_KEY_ID': 'uq8s0oFeBFgGIdqEAxAngmj3ZWKpDB-dmfJRrw1Oly4z',\n        'ENDPOINT': 'https://s3-api.us-geo.objectstorage.service.networklayer.com',\n        'IBM_AUTH_ENDPOINT': 'https://iam.ng.bluemix.net/oidc/token',\n        'BUCKET': 'courseraibmadvanceddatasciencecap-donotdelete-pr-r1kusvnwe7do2x',\n        'FILE': 'champs-scalar-coupling_new.zip'\n    }\n\n    from ibm_botocore.client import Config\n    import ibm_boto3\n    def download_file_cos(credentials,local_file_name,key):  \n        cos = ibm_boto3.client(service_name='s3',\n        ibm_api_key_id=credentials['IBM_API_KEY_ID'],\n        ibm_service_instance_id=credentials['IAM_SERVICE_ID'],\n        ibm_auth_endpoint=credentials['IBM_AUTH_ENDPOINT'],\n        config=Config(signature_version='oauth'),\n        endpoint_url=credentials['ENDPOINT'])\n        try:\n            res=cos.download_file(Bucket=credentials['BUCKET'],Key=key,Filename=local_file_name)\n        except Exception as e:\n            print(Exception, e)\n        else:\n            print('File Downloaded')\n\n    download_file_cos(credentials_1, 'champs-scalar-coupling_new.zip', 'champs-scalar-coupling_new.zip')\n\n    !ls\n    !unzip champs-scalar-coupling_new.zip\n    !chmod 600 *.csv"
        }, 
        {
            "execution_count": 2, 
            "cell_type": "code", 
            "metadata": {}, 
            "outputs": [
                {
                    "output_type": "stream", 
                    "name": "stdout", 
                    "text": "File Downloaded\nchamps-scalar-coupling_new.zip\nArchive:  champs-scalar-coupling_new.zip\n  inflating: mulliken_charges.csv    \n  inflating: structures.csv          \n  inflating: structures.zip          \n  inflating: test.csv                \n  inflating: train.csv               \n  inflating: sample_submission.csv   \n  inflating: magnetic_shielding_tensors.csv  \n  inflating: potential_energy.csv    \n  inflating: scalar_coupling_contributions.csv  \n  inflating: dipole_moments.csv      \nchamps-scalar-coupling_new.zip\tscalar_coupling_contributions.csv\ndipole_moments.csv\t\tstructures.csv\nmagnetic_shielding_tensors.csv\tstructures.zip\nmulliken_charges.csv\t\ttest.csv\npotential_energy.csv\t\ttrain.csv\nsample_submission.csv\n"
                }
            ], 
            "source": "load_data()\n!ls"
        }, 
        {
            "source": "# Basic Transfomations", 
            "cell_type": "markdown", 
            "metadata": {}
        }, 
        {
            "source": "## Training data", 
            "cell_type": "markdown", 
            "metadata": {}
        }, 
        {
            "execution_count": 3, 
            "cell_type": "code", 
            "metadata": {}, 
            "outputs": [], 
            "source": "import pandas as pd\nimport numpy as np\nimport matplotlib.pyplot as plt"
        }, 
        {
            "execution_count": 4, 
            "cell_type": "code", 
            "metadata": {}, 
            "outputs": [
                {
                    "execution_count": 4, 
                    "metadata": {}, 
                    "data": {
                        "text/html": "<div>\n<style scoped>\n    .dataframe tbody tr th:only-of-type {\n        vertical-align: middle;\n    }\n\n    .dataframe tbody tr th {\n        vertical-align: top;\n    }\n\n    .dataframe thead th {\n        text-align: right;\n    }\n</style>\n<table border=\"1\" class=\"dataframe\">\n  <thead>\n    <tr style=\"text-align: right;\">\n      <th></th>\n      <th>id</th>\n      <th>molecule_name</th>\n      <th>atom_index_0</th>\n      <th>atom_index_1</th>\n      <th>type</th>\n      <th>scalar_coupling_constant</th>\n    </tr>\n  </thead>\n  <tbody>\n    <tr>\n      <th>0</th>\n      <td>0</td>\n      <td>dsgdb9nsd_000001</td>\n      <td>1</td>\n      <td>0</td>\n      <td>1JHC</td>\n      <td>84.8076</td>\n    </tr>\n    <tr>\n      <th>1</th>\n      <td>1</td>\n      <td>dsgdb9nsd_000001</td>\n      <td>1</td>\n      <td>2</td>\n      <td>2JHH</td>\n      <td>-11.2570</td>\n    </tr>\n    <tr>\n      <th>2</th>\n      <td>2</td>\n      <td>dsgdb9nsd_000001</td>\n      <td>1</td>\n      <td>3</td>\n      <td>2JHH</td>\n      <td>-11.2548</td>\n    </tr>\n    <tr>\n      <th>3</th>\n      <td>3</td>\n      <td>dsgdb9nsd_000001</td>\n      <td>1</td>\n      <td>4</td>\n      <td>2JHH</td>\n      <td>-11.2543</td>\n    </tr>\n    <tr>\n      <th>4</th>\n      <td>4</td>\n      <td>dsgdb9nsd_000001</td>\n      <td>2</td>\n      <td>0</td>\n      <td>1JHC</td>\n      <td>84.8074</td>\n    </tr>\n  </tbody>\n</table>\n</div>", 
                        "text/plain": "   id     molecule_name  atom_index_0  atom_index_1  type  \\\n0   0  dsgdb9nsd_000001             1             0  1JHC   \n1   1  dsgdb9nsd_000001             1             2  2JHH   \n2   2  dsgdb9nsd_000001             1             3  2JHH   \n3   3  dsgdb9nsd_000001             1             4  2JHH   \n4   4  dsgdb9nsd_000001             2             0  1JHC   \n\n   scalar_coupling_constant  \n0                   84.8076  \n1                  -11.2570  \n2                  -11.2548  \n3                  -11.2543  \n4                   84.8074  "
                    }, 
                    "output_type": "execute_result"
                }
            ], 
            "source": "train=pd.read_csv('train.csv')\ntrain.head()"
        }, 
        {
            "execution_count": 5, 
            "cell_type": "code", 
            "metadata": {}, 
            "outputs": [
                {
                    "execution_count": 5, 
                    "metadata": {}, 
                    "data": {
                        "text/html": "<div>\n<style scoped>\n    .dataframe tbody tr th:only-of-type {\n        vertical-align: middle;\n    }\n\n    .dataframe tbody tr th {\n        vertical-align: top;\n    }\n\n    .dataframe thead th {\n        text-align: right;\n    }\n</style>\n<table border=\"1\" class=\"dataframe\">\n  <thead>\n    <tr style=\"text-align: right;\">\n      <th></th>\n      <th>molecule_name</th>\n      <th>atom_index</th>\n      <th>atom</th>\n      <th>x</th>\n      <th>y</th>\n      <th>z</th>\n    </tr>\n  </thead>\n  <tbody>\n    <tr>\n      <th>0</th>\n      <td>dsgdb9nsd_000001</td>\n      <td>0</td>\n      <td>C</td>\n      <td>-0.012698</td>\n      <td>1.085804</td>\n      <td>0.008001</td>\n    </tr>\n    <tr>\n      <th>1</th>\n      <td>dsgdb9nsd_000001</td>\n      <td>1</td>\n      <td>H</td>\n      <td>0.002150</td>\n      <td>-0.006031</td>\n      <td>0.001976</td>\n    </tr>\n    <tr>\n      <th>2</th>\n      <td>dsgdb9nsd_000001</td>\n      <td>2</td>\n      <td>H</td>\n      <td>1.011731</td>\n      <td>1.463751</td>\n      <td>0.000277</td>\n    </tr>\n    <tr>\n      <th>3</th>\n      <td>dsgdb9nsd_000001</td>\n      <td>3</td>\n      <td>H</td>\n      <td>-0.540815</td>\n      <td>1.447527</td>\n      <td>-0.876644</td>\n    </tr>\n    <tr>\n      <th>4</th>\n      <td>dsgdb9nsd_000001</td>\n      <td>4</td>\n      <td>H</td>\n      <td>-0.523814</td>\n      <td>1.437933</td>\n      <td>0.906397</td>\n    </tr>\n  </tbody>\n</table>\n</div>", 
                        "text/plain": "      molecule_name  atom_index atom         x         y         z\n0  dsgdb9nsd_000001           0    C -0.012698  1.085804  0.008001\n1  dsgdb9nsd_000001           1    H  0.002150 -0.006031  0.001976\n2  dsgdb9nsd_000001           2    H  1.011731  1.463751  0.000277\n3  dsgdb9nsd_000001           3    H -0.540815  1.447527 -0.876644\n4  dsgdb9nsd_000001           4    H -0.523814  1.437933  0.906397"
                    }, 
                    "output_type": "execute_result"
                }
            ], 
            "source": "structures=pd.read_csv('structures.csv')\nstructures.head()"
        }, 
        {
            "execution_count": 6, 
            "cell_type": "code", 
            "metadata": {}, 
            "outputs": [
                {
                    "execution_count": 6, 
                    "metadata": {}, 
                    "data": {
                        "text/html": "<div>\n<style scoped>\n    .dataframe tbody tr th:only-of-type {\n        vertical-align: middle;\n    }\n\n    .dataframe tbody tr th {\n        vertical-align: top;\n    }\n\n    .dataframe thead th {\n        text-align: right;\n    }\n</style>\n<table border=\"1\" class=\"dataframe\">\n  <thead>\n    <tr style=\"text-align: right;\">\n      <th></th>\n      <th>molecule_name</th>\n      <th>atom_index</th>\n      <th>mulliken_charge</th>\n    </tr>\n  </thead>\n  <tbody>\n    <tr>\n      <th>0</th>\n      <td>dsgdb9nsd_000001</td>\n      <td>0</td>\n      <td>-0.535689</td>\n    </tr>\n    <tr>\n      <th>1</th>\n      <td>dsgdb9nsd_000001</td>\n      <td>1</td>\n      <td>0.133921</td>\n    </tr>\n    <tr>\n      <th>2</th>\n      <td>dsgdb9nsd_000001</td>\n      <td>2</td>\n      <td>0.133922</td>\n    </tr>\n    <tr>\n      <th>3</th>\n      <td>dsgdb9nsd_000001</td>\n      <td>3</td>\n      <td>0.133923</td>\n    </tr>\n    <tr>\n      <th>4</th>\n      <td>dsgdb9nsd_000001</td>\n      <td>4</td>\n      <td>0.133923</td>\n    </tr>\n  </tbody>\n</table>\n</div>", 
                        "text/plain": "      molecule_name  atom_index  mulliken_charge\n0  dsgdb9nsd_000001           0        -0.535689\n1  dsgdb9nsd_000001           1         0.133921\n2  dsgdb9nsd_000001           2         0.133922\n3  dsgdb9nsd_000001           3         0.133923\n4  dsgdb9nsd_000001           4         0.133923"
                    }, 
                    "output_type": "execute_result"
                }
            ], 
            "source": "charges=pd.read_csv('mulliken_charges.csv')\ncharges.head()"
        }, 
        {
            "execution_count": 7, 
            "cell_type": "code", 
            "metadata": {}, 
            "outputs": [
                {
                    "execution_count": 7, 
                    "metadata": {}, 
                    "data": {
                        "text/html": "<div>\n<style scoped>\n    .dataframe tbody tr th:only-of-type {\n        vertical-align: middle;\n    }\n\n    .dataframe tbody tr th {\n        vertical-align: top;\n    }\n\n    .dataframe thead th {\n        text-align: right;\n    }\n</style>\n<table border=\"1\" class=\"dataframe\">\n  <thead>\n    <tr style=\"text-align: right;\">\n      <th></th>\n      <th>molecule_name</th>\n      <th>atom_index_0</th>\n      <th>atom_0</th>\n      <th>x_0</th>\n      <th>y_0</th>\n      <th>z_0</th>\n    </tr>\n  </thead>\n  <tbody>\n    <tr>\n      <th>0</th>\n      <td>dsgdb9nsd_000001</td>\n      <td>0</td>\n      <td>C</td>\n      <td>-0.012698</td>\n      <td>1.085804</td>\n      <td>0.008001</td>\n    </tr>\n    <tr>\n      <th>1</th>\n      <td>dsgdb9nsd_000001</td>\n      <td>1</td>\n      <td>H</td>\n      <td>0.002150</td>\n      <td>-0.006031</td>\n      <td>0.001976</td>\n    </tr>\n    <tr>\n      <th>2</th>\n      <td>dsgdb9nsd_000001</td>\n      <td>2</td>\n      <td>H</td>\n      <td>1.011731</td>\n      <td>1.463751</td>\n      <td>0.000277</td>\n    </tr>\n    <tr>\n      <th>3</th>\n      <td>dsgdb9nsd_000001</td>\n      <td>3</td>\n      <td>H</td>\n      <td>-0.540815</td>\n      <td>1.447527</td>\n      <td>-0.876644</td>\n    </tr>\n    <tr>\n      <th>4</th>\n      <td>dsgdb9nsd_000001</td>\n      <td>4</td>\n      <td>H</td>\n      <td>-0.523814</td>\n      <td>1.437933</td>\n      <td>0.906397</td>\n    </tr>\n  </tbody>\n</table>\n</div>", 
                        "text/plain": "      molecule_name  atom_index_0 atom_0       x_0       y_0       z_0\n0  dsgdb9nsd_000001             0      C -0.012698  1.085804  0.008001\n1  dsgdb9nsd_000001             1      H  0.002150 -0.006031  0.001976\n2  dsgdb9nsd_000001             2      H  1.011731  1.463751  0.000277\n3  dsgdb9nsd_000001             3      H -0.540815  1.447527 -0.876644\n4  dsgdb9nsd_000001             4      H -0.523814  1.437933  0.906397"
                    }, 
                    "output_type": "execute_result"
                }
            ], 
            "source": "structures_0=structures.rename(columns={'atom_index':'atom_index_0','atom':'atom_0','x':'x_0','y':'y_0','z':'z_0'})\nstructures_0.head()"
        }, 
        {
            "execution_count": 8, 
            "cell_type": "code", 
            "metadata": {}, 
            "outputs": [
                {
                    "execution_count": 8, 
                    "metadata": {}, 
                    "data": {
                        "text/html": "<div>\n<style scoped>\n    .dataframe tbody tr th:only-of-type {\n        vertical-align: middle;\n    }\n\n    .dataframe tbody tr th {\n        vertical-align: top;\n    }\n\n    .dataframe thead th {\n        text-align: right;\n    }\n</style>\n<table border=\"1\" class=\"dataframe\">\n  <thead>\n    <tr style=\"text-align: right;\">\n      <th></th>\n      <th>id</th>\n      <th>molecule_name</th>\n      <th>atom_index_0</th>\n      <th>atom_index_1</th>\n      <th>type</th>\n      <th>scalar_coupling_constant</th>\n      <th>atom_0</th>\n      <th>x_0</th>\n      <th>y_0</th>\n      <th>z_0</th>\n    </tr>\n  </thead>\n  <tbody>\n    <tr>\n      <th>0</th>\n      <td>0</td>\n      <td>dsgdb9nsd_000001</td>\n      <td>1</td>\n      <td>0</td>\n      <td>1JHC</td>\n      <td>84.8076</td>\n      <td>H</td>\n      <td>0.002150</td>\n      <td>-0.006031</td>\n      <td>0.001976</td>\n    </tr>\n    <tr>\n      <th>1</th>\n      <td>1</td>\n      <td>dsgdb9nsd_000001</td>\n      <td>1</td>\n      <td>2</td>\n      <td>2JHH</td>\n      <td>-11.2570</td>\n      <td>H</td>\n      <td>0.002150</td>\n      <td>-0.006031</td>\n      <td>0.001976</td>\n    </tr>\n    <tr>\n      <th>2</th>\n      <td>2</td>\n      <td>dsgdb9nsd_000001</td>\n      <td>1</td>\n      <td>3</td>\n      <td>2JHH</td>\n      <td>-11.2548</td>\n      <td>H</td>\n      <td>0.002150</td>\n      <td>-0.006031</td>\n      <td>0.001976</td>\n    </tr>\n    <tr>\n      <th>3</th>\n      <td>3</td>\n      <td>dsgdb9nsd_000001</td>\n      <td>1</td>\n      <td>4</td>\n      <td>2JHH</td>\n      <td>-11.2543</td>\n      <td>H</td>\n      <td>0.002150</td>\n      <td>-0.006031</td>\n      <td>0.001976</td>\n    </tr>\n    <tr>\n      <th>4</th>\n      <td>4</td>\n      <td>dsgdb9nsd_000001</td>\n      <td>2</td>\n      <td>0</td>\n      <td>1JHC</td>\n      <td>84.8074</td>\n      <td>H</td>\n      <td>1.011731</td>\n      <td>1.463751</td>\n      <td>0.000277</td>\n    </tr>\n  </tbody>\n</table>\n</div>", 
                        "text/plain": "   id     molecule_name  atom_index_0  atom_index_1  type  \\\n0   0  dsgdb9nsd_000001             1             0  1JHC   \n1   1  dsgdb9nsd_000001             1             2  2JHH   \n2   2  dsgdb9nsd_000001             1             3  2JHH   \n3   3  dsgdb9nsd_000001             1             4  2JHH   \n4   4  dsgdb9nsd_000001             2             0  1JHC   \n\n   scalar_coupling_constant atom_0       x_0       y_0       z_0  \n0                   84.8076      H  0.002150 -0.006031  0.001976  \n1                  -11.2570      H  0.002150 -0.006031  0.001976  \n2                  -11.2548      H  0.002150 -0.006031  0.001976  \n3                  -11.2543      H  0.002150 -0.006031  0.001976  \n4                   84.8074      H  1.011731  1.463751  0.000277  "
                    }, 
                    "output_type": "execute_result"
                }
            ], 
            "source": "train=pd.merge(train,structures_0,on=['molecule_name','atom_index_0'],how='left')\ntrain.head()"
        }, 
        {
            "execution_count": 9, 
            "cell_type": "code", 
            "metadata": {}, 
            "outputs": [
                {
                    "execution_count": 9, 
                    "metadata": {}, 
                    "data": {
                        "text/html": "<div>\n<style scoped>\n    .dataframe tbody tr th:only-of-type {\n        vertical-align: middle;\n    }\n\n    .dataframe tbody tr th {\n        vertical-align: top;\n    }\n\n    .dataframe thead th {\n        text-align: right;\n    }\n</style>\n<table border=\"1\" class=\"dataframe\">\n  <thead>\n    <tr style=\"text-align: right;\">\n      <th></th>\n      <th>molecule_name</th>\n      <th>atom_index_1</th>\n      <th>atom_1</th>\n      <th>x_1</th>\n      <th>y_1</th>\n      <th>z_1</th>\n    </tr>\n  </thead>\n  <tbody>\n    <tr>\n      <th>0</th>\n      <td>dsgdb9nsd_000001</td>\n      <td>0</td>\n      <td>C</td>\n      <td>-0.012698</td>\n      <td>1.085804</td>\n      <td>0.008001</td>\n    </tr>\n    <tr>\n      <th>1</th>\n      <td>dsgdb9nsd_000001</td>\n      <td>1</td>\n      <td>H</td>\n      <td>0.002150</td>\n      <td>-0.006031</td>\n      <td>0.001976</td>\n    </tr>\n    <tr>\n      <th>2</th>\n      <td>dsgdb9nsd_000001</td>\n      <td>2</td>\n      <td>H</td>\n      <td>1.011731</td>\n      <td>1.463751</td>\n      <td>0.000277</td>\n    </tr>\n    <tr>\n      <th>3</th>\n      <td>dsgdb9nsd_000001</td>\n      <td>3</td>\n      <td>H</td>\n      <td>-0.540815</td>\n      <td>1.447527</td>\n      <td>-0.876644</td>\n    </tr>\n    <tr>\n      <th>4</th>\n      <td>dsgdb9nsd_000001</td>\n      <td>4</td>\n      <td>H</td>\n      <td>-0.523814</td>\n      <td>1.437933</td>\n      <td>0.906397</td>\n    </tr>\n  </tbody>\n</table>\n</div>", 
                        "text/plain": "      molecule_name  atom_index_1 atom_1       x_1       y_1       z_1\n0  dsgdb9nsd_000001             0      C -0.012698  1.085804  0.008001\n1  dsgdb9nsd_000001             1      H  0.002150 -0.006031  0.001976\n2  dsgdb9nsd_000001             2      H  1.011731  1.463751  0.000277\n3  dsgdb9nsd_000001             3      H -0.540815  1.447527 -0.876644\n4  dsgdb9nsd_000001             4      H -0.523814  1.437933  0.906397"
                    }, 
                    "output_type": "execute_result"
                }
            ], 
            "source": "structures_1=structures.rename(columns={'atom_index':'atom_index_1','atom':'atom_1','x':'x_1','y':'y_1','z':'z_1'})\nstructures_1.head()"
        }, 
        {
            "execution_count": 10, 
            "cell_type": "code", 
            "metadata": {}, 
            "outputs": [
                {
                    "execution_count": 10, 
                    "metadata": {}, 
                    "data": {
                        "text/html": "<div>\n<style scoped>\n    .dataframe tbody tr th:only-of-type {\n        vertical-align: middle;\n    }\n\n    .dataframe tbody tr th {\n        vertical-align: top;\n    }\n\n    .dataframe thead th {\n        text-align: right;\n    }\n</style>\n<table border=\"1\" class=\"dataframe\">\n  <thead>\n    <tr style=\"text-align: right;\">\n      <th></th>\n      <th>id</th>\n      <th>molecule_name</th>\n      <th>atom_index_0</th>\n      <th>atom_index_1</th>\n      <th>type</th>\n      <th>scalar_coupling_constant</th>\n      <th>atom_0</th>\n      <th>x_0</th>\n      <th>y_0</th>\n      <th>z_0</th>\n      <th>atom_1</th>\n      <th>x_1</th>\n      <th>y_1</th>\n      <th>z_1</th>\n    </tr>\n  </thead>\n  <tbody>\n    <tr>\n      <th>0</th>\n      <td>0</td>\n      <td>dsgdb9nsd_000001</td>\n      <td>1</td>\n      <td>0</td>\n      <td>1JHC</td>\n      <td>84.8076</td>\n      <td>H</td>\n      <td>0.002150</td>\n      <td>-0.006031</td>\n      <td>0.001976</td>\n      <td>C</td>\n      <td>-0.012698</td>\n      <td>1.085804</td>\n      <td>0.008001</td>\n    </tr>\n    <tr>\n      <th>1</th>\n      <td>1</td>\n      <td>dsgdb9nsd_000001</td>\n      <td>1</td>\n      <td>2</td>\n      <td>2JHH</td>\n      <td>-11.2570</td>\n      <td>H</td>\n      <td>0.002150</td>\n      <td>-0.006031</td>\n      <td>0.001976</td>\n      <td>H</td>\n      <td>1.011731</td>\n      <td>1.463751</td>\n      <td>0.000277</td>\n    </tr>\n    <tr>\n      <th>2</th>\n      <td>2</td>\n      <td>dsgdb9nsd_000001</td>\n      <td>1</td>\n      <td>3</td>\n      <td>2JHH</td>\n      <td>-11.2548</td>\n      <td>H</td>\n      <td>0.002150</td>\n      <td>-0.006031</td>\n      <td>0.001976</td>\n      <td>H</td>\n      <td>-0.540815</td>\n      <td>1.447527</td>\n      <td>-0.876644</td>\n    </tr>\n    <tr>\n      <th>3</th>\n      <td>3</td>\n      <td>dsgdb9nsd_000001</td>\n      <td>1</td>\n      <td>4</td>\n      <td>2JHH</td>\n      <td>-11.2543</td>\n      <td>H</td>\n      <td>0.002150</td>\n      <td>-0.006031</td>\n      <td>0.001976</td>\n      <td>H</td>\n      <td>-0.523814</td>\n      <td>1.437933</td>\n      <td>0.906397</td>\n    </tr>\n    <tr>\n      <th>4</th>\n      <td>4</td>\n      <td>dsgdb9nsd_000001</td>\n      <td>2</td>\n      <td>0</td>\n      <td>1JHC</td>\n      <td>84.8074</td>\n      <td>H</td>\n      <td>1.011731</td>\n      <td>1.463751</td>\n      <td>0.000277</td>\n      <td>C</td>\n      <td>-0.012698</td>\n      <td>1.085804</td>\n      <td>0.008001</td>\n    </tr>\n  </tbody>\n</table>\n</div>", 
                        "text/plain": "   id     molecule_name  atom_index_0  atom_index_1  type  \\\n0   0  dsgdb9nsd_000001             1             0  1JHC   \n1   1  dsgdb9nsd_000001             1             2  2JHH   \n2   2  dsgdb9nsd_000001             1             3  2JHH   \n3   3  dsgdb9nsd_000001             1             4  2JHH   \n4   4  dsgdb9nsd_000001             2             0  1JHC   \n\n   scalar_coupling_constant atom_0       x_0       y_0       z_0 atom_1  \\\n0                   84.8076      H  0.002150 -0.006031  0.001976      C   \n1                  -11.2570      H  0.002150 -0.006031  0.001976      H   \n2                  -11.2548      H  0.002150 -0.006031  0.001976      H   \n3                  -11.2543      H  0.002150 -0.006031  0.001976      H   \n4                   84.8074      H  1.011731  1.463751  0.000277      C   \n\n        x_1       y_1       z_1  \n0 -0.012698  1.085804  0.008001  \n1  1.011731  1.463751  0.000277  \n2 -0.540815  1.447527 -0.876644  \n3 -0.523814  1.437933  0.906397  \n4 -0.012698  1.085804  0.008001  "
                    }, 
                    "output_type": "execute_result"
                }
            ], 
            "source": "train=pd.merge(train,structures_1,on=['molecule_name','atom_index_1'],how='left')\ntrain.head()"
        }, 
        {
            "execution_count": 11, 
            "cell_type": "code", 
            "metadata": {}, 
            "outputs": [
                {
                    "execution_count": 11, 
                    "metadata": {}, 
                    "data": {
                        "text/plain": "(4658147, 14)"
                    }, 
                    "output_type": "execute_result"
                }
            ], 
            "source": "train.shape"
        }, 
        {
            "execution_count": 12, 
            "cell_type": "code", 
            "metadata": {}, 
            "outputs": [
                {
                    "execution_count": 12, 
                    "metadata": {}, 
                    "data": {
                        "text/html": "<div>\n<style scoped>\n    .dataframe tbody tr th:only-of-type {\n        vertical-align: middle;\n    }\n\n    .dataframe tbody tr th {\n        vertical-align: top;\n    }\n\n    .dataframe thead th {\n        text-align: right;\n    }\n</style>\n<table border=\"1\" class=\"dataframe\">\n  <thead>\n    <tr style=\"text-align: right;\">\n      <th></th>\n      <th>molecule_name</th>\n      <th>atom_index</th>\n      <th>mulliken_charge</th>\n    </tr>\n  </thead>\n  <tbody>\n    <tr>\n      <th>0</th>\n      <td>dsgdb9nsd_000001</td>\n      <td>0</td>\n      <td>-0.535689</td>\n    </tr>\n    <tr>\n      <th>1</th>\n      <td>dsgdb9nsd_000001</td>\n      <td>1</td>\n      <td>0.133921</td>\n    </tr>\n    <tr>\n      <th>2</th>\n      <td>dsgdb9nsd_000001</td>\n      <td>2</td>\n      <td>0.133922</td>\n    </tr>\n    <tr>\n      <th>3</th>\n      <td>dsgdb9nsd_000001</td>\n      <td>3</td>\n      <td>0.133923</td>\n    </tr>\n    <tr>\n      <th>4</th>\n      <td>dsgdb9nsd_000001</td>\n      <td>4</td>\n      <td>0.133923</td>\n    </tr>\n  </tbody>\n</table>\n</div>", 
                        "text/plain": "      molecule_name  atom_index  mulliken_charge\n0  dsgdb9nsd_000001           0        -0.535689\n1  dsgdb9nsd_000001           1         0.133921\n2  dsgdb9nsd_000001           2         0.133922\n3  dsgdb9nsd_000001           3         0.133923\n4  dsgdb9nsd_000001           4         0.133923"
                    }, 
                    "output_type": "execute_result"
                }
            ], 
            "source": "charges.head()"
        }, 
        {
            "execution_count": 13, 
            "cell_type": "code", 
            "metadata": {}, 
            "outputs": [
                {
                    "execution_count": 13, 
                    "metadata": {}, 
                    "data": {
                        "text/html": "<div>\n<style scoped>\n    .dataframe tbody tr th:only-of-type {\n        vertical-align: middle;\n    }\n\n    .dataframe tbody tr th {\n        vertical-align: top;\n    }\n\n    .dataframe thead th {\n        text-align: right;\n    }\n</style>\n<table border=\"1\" class=\"dataframe\">\n  <thead>\n    <tr style=\"text-align: right;\">\n      <th></th>\n      <th>molecule_name</th>\n      <th>atom_index_0</th>\n      <th>mulliken_charge_0</th>\n    </tr>\n  </thead>\n  <tbody>\n    <tr>\n      <th>0</th>\n      <td>dsgdb9nsd_000001</td>\n      <td>0</td>\n      <td>-0.535689</td>\n    </tr>\n    <tr>\n      <th>1</th>\n      <td>dsgdb9nsd_000001</td>\n      <td>1</td>\n      <td>0.133921</td>\n    </tr>\n    <tr>\n      <th>2</th>\n      <td>dsgdb9nsd_000001</td>\n      <td>2</td>\n      <td>0.133922</td>\n    </tr>\n    <tr>\n      <th>3</th>\n      <td>dsgdb9nsd_000001</td>\n      <td>3</td>\n      <td>0.133923</td>\n    </tr>\n    <tr>\n      <th>4</th>\n      <td>dsgdb9nsd_000001</td>\n      <td>4</td>\n      <td>0.133923</td>\n    </tr>\n  </tbody>\n</table>\n</div>", 
                        "text/plain": "      molecule_name  atom_index_0  mulliken_charge_0\n0  dsgdb9nsd_000001             0          -0.535689\n1  dsgdb9nsd_000001             1           0.133921\n2  dsgdb9nsd_000001             2           0.133922\n3  dsgdb9nsd_000001             3           0.133923\n4  dsgdb9nsd_000001             4           0.133923"
                    }, 
                    "output_type": "execute_result"
                }
            ], 
            "source": "charges_0=charges.rename(columns={'atom_index':'atom_index_0','mulliken_charge':'mulliken_charge_0'})\ncharges_0.head()"
        }, 
        {
            "execution_count": 14, 
            "cell_type": "code", 
            "metadata": {}, 
            "outputs": [
                {
                    "execution_count": 14, 
                    "metadata": {}, 
                    "data": {
                        "text/html": "<div>\n<style scoped>\n    .dataframe tbody tr th:only-of-type {\n        vertical-align: middle;\n    }\n\n    .dataframe tbody tr th {\n        vertical-align: top;\n    }\n\n    .dataframe thead th {\n        text-align: right;\n    }\n</style>\n<table border=\"1\" class=\"dataframe\">\n  <thead>\n    <tr style=\"text-align: right;\">\n      <th></th>\n      <th>id</th>\n      <th>molecule_name</th>\n      <th>atom_index_0</th>\n      <th>atom_index_1</th>\n      <th>type</th>\n      <th>scalar_coupling_constant</th>\n      <th>atom_0</th>\n      <th>x_0</th>\n      <th>y_0</th>\n      <th>z_0</th>\n      <th>atom_1</th>\n      <th>x_1</th>\n      <th>y_1</th>\n      <th>z_1</th>\n      <th>mulliken_charge_0</th>\n    </tr>\n  </thead>\n  <tbody>\n    <tr>\n      <th>0</th>\n      <td>0</td>\n      <td>dsgdb9nsd_000001</td>\n      <td>1</td>\n      <td>0</td>\n      <td>1JHC</td>\n      <td>84.8076</td>\n      <td>H</td>\n      <td>0.002150</td>\n      <td>-0.006031</td>\n      <td>0.001976</td>\n      <td>C</td>\n      <td>-0.012698</td>\n      <td>1.085804</td>\n      <td>0.008001</td>\n      <td>0.133921</td>\n    </tr>\n    <tr>\n      <th>1</th>\n      <td>1</td>\n      <td>dsgdb9nsd_000001</td>\n      <td>1</td>\n      <td>2</td>\n      <td>2JHH</td>\n      <td>-11.2570</td>\n      <td>H</td>\n      <td>0.002150</td>\n      <td>-0.006031</td>\n      <td>0.001976</td>\n      <td>H</td>\n      <td>1.011731</td>\n      <td>1.463751</td>\n      <td>0.000277</td>\n      <td>0.133921</td>\n    </tr>\n    <tr>\n      <th>2</th>\n      <td>2</td>\n      <td>dsgdb9nsd_000001</td>\n      <td>1</td>\n      <td>3</td>\n      <td>2JHH</td>\n      <td>-11.2548</td>\n      <td>H</td>\n      <td>0.002150</td>\n      <td>-0.006031</td>\n      <td>0.001976</td>\n      <td>H</td>\n      <td>-0.540815</td>\n      <td>1.447527</td>\n      <td>-0.876644</td>\n      <td>0.133921</td>\n    </tr>\n    <tr>\n      <th>3</th>\n      <td>3</td>\n      <td>dsgdb9nsd_000001</td>\n      <td>1</td>\n      <td>4</td>\n      <td>2JHH</td>\n      <td>-11.2543</td>\n      <td>H</td>\n      <td>0.002150</td>\n      <td>-0.006031</td>\n      <td>0.001976</td>\n      <td>H</td>\n      <td>-0.523814</td>\n      <td>1.437933</td>\n      <td>0.906397</td>\n      <td>0.133921</td>\n    </tr>\n    <tr>\n      <th>4</th>\n      <td>4</td>\n      <td>dsgdb9nsd_000001</td>\n      <td>2</td>\n      <td>0</td>\n      <td>1JHC</td>\n      <td>84.8074</td>\n      <td>H</td>\n      <td>1.011731</td>\n      <td>1.463751</td>\n      <td>0.000277</td>\n      <td>C</td>\n      <td>-0.012698</td>\n      <td>1.085804</td>\n      <td>0.008001</td>\n      <td>0.133922</td>\n    </tr>\n  </tbody>\n</table>\n</div>", 
                        "text/plain": "   id     molecule_name  atom_index_0  atom_index_1  type  \\\n0   0  dsgdb9nsd_000001             1             0  1JHC   \n1   1  dsgdb9nsd_000001             1             2  2JHH   \n2   2  dsgdb9nsd_000001             1             3  2JHH   \n3   3  dsgdb9nsd_000001             1             4  2JHH   \n4   4  dsgdb9nsd_000001             2             0  1JHC   \n\n   scalar_coupling_constant atom_0       x_0       y_0       z_0 atom_1  \\\n0                   84.8076      H  0.002150 -0.006031  0.001976      C   \n1                  -11.2570      H  0.002150 -0.006031  0.001976      H   \n2                  -11.2548      H  0.002150 -0.006031  0.001976      H   \n3                  -11.2543      H  0.002150 -0.006031  0.001976      H   \n4                   84.8074      H  1.011731  1.463751  0.000277      C   \n\n        x_1       y_1       z_1  mulliken_charge_0  \n0 -0.012698  1.085804  0.008001           0.133921  \n1  1.011731  1.463751  0.000277           0.133921  \n2 -0.540815  1.447527 -0.876644           0.133921  \n3 -0.523814  1.437933  0.906397           0.133921  \n4 -0.012698  1.085804  0.008001           0.133922  "
                    }, 
                    "output_type": "execute_result"
                }
            ], 
            "source": "train=pd.merge(train,charges_0,on=['molecule_name','atom_index_0'],how='left')\ntrain.head()"
        }, 
        {
            "execution_count": 15, 
            "cell_type": "code", 
            "metadata": {}, 
            "outputs": [
                {
                    "execution_count": 15, 
                    "metadata": {}, 
                    "data": {
                        "text/html": "<div>\n<style scoped>\n    .dataframe tbody tr th:only-of-type {\n        vertical-align: middle;\n    }\n\n    .dataframe tbody tr th {\n        vertical-align: top;\n    }\n\n    .dataframe thead th {\n        text-align: right;\n    }\n</style>\n<table border=\"1\" class=\"dataframe\">\n  <thead>\n    <tr style=\"text-align: right;\">\n      <th></th>\n      <th>molecule_name</th>\n      <th>atom_index_1</th>\n      <th>mulliken_charge_1</th>\n    </tr>\n  </thead>\n  <tbody>\n    <tr>\n      <th>0</th>\n      <td>dsgdb9nsd_000001</td>\n      <td>0</td>\n      <td>-0.535689</td>\n    </tr>\n    <tr>\n      <th>1</th>\n      <td>dsgdb9nsd_000001</td>\n      <td>1</td>\n      <td>0.133921</td>\n    </tr>\n    <tr>\n      <th>2</th>\n      <td>dsgdb9nsd_000001</td>\n      <td>2</td>\n      <td>0.133922</td>\n    </tr>\n    <tr>\n      <th>3</th>\n      <td>dsgdb9nsd_000001</td>\n      <td>3</td>\n      <td>0.133923</td>\n    </tr>\n    <tr>\n      <th>4</th>\n      <td>dsgdb9nsd_000001</td>\n      <td>4</td>\n      <td>0.133923</td>\n    </tr>\n  </tbody>\n</table>\n</div>", 
                        "text/plain": "      molecule_name  atom_index_1  mulliken_charge_1\n0  dsgdb9nsd_000001             0          -0.535689\n1  dsgdb9nsd_000001             1           0.133921\n2  dsgdb9nsd_000001             2           0.133922\n3  dsgdb9nsd_000001             3           0.133923\n4  dsgdb9nsd_000001             4           0.133923"
                    }, 
                    "output_type": "execute_result"
                }
            ], 
            "source": "charges_1=charges.rename(columns={'atom_index':'atom_index_1','mulliken_charge':'mulliken_charge_1'})\ncharges_1.head()"
        }, 
        {
            "execution_count": 16, 
            "cell_type": "code", 
            "metadata": {}, 
            "outputs": [
                {
                    "execution_count": 16, 
                    "metadata": {}, 
                    "data": {
                        "text/html": "<div>\n<style scoped>\n    .dataframe tbody tr th:only-of-type {\n        vertical-align: middle;\n    }\n\n    .dataframe tbody tr th {\n        vertical-align: top;\n    }\n\n    .dataframe thead th {\n        text-align: right;\n    }\n</style>\n<table border=\"1\" class=\"dataframe\">\n  <thead>\n    <tr style=\"text-align: right;\">\n      <th></th>\n      <th>id</th>\n      <th>molecule_name</th>\n      <th>atom_index_0</th>\n      <th>atom_index_1</th>\n      <th>type</th>\n      <th>scalar_coupling_constant</th>\n      <th>atom_0</th>\n      <th>x_0</th>\n      <th>y_0</th>\n      <th>z_0</th>\n      <th>atom_1</th>\n      <th>x_1</th>\n      <th>y_1</th>\n      <th>z_1</th>\n      <th>mulliken_charge_0</th>\n      <th>mulliken_charge_1</th>\n    </tr>\n  </thead>\n  <tbody>\n    <tr>\n      <th>0</th>\n      <td>0</td>\n      <td>dsgdb9nsd_000001</td>\n      <td>1</td>\n      <td>0</td>\n      <td>1JHC</td>\n      <td>84.8076</td>\n      <td>H</td>\n      <td>0.002150</td>\n      <td>-0.006031</td>\n      <td>0.001976</td>\n      <td>C</td>\n      <td>-0.012698</td>\n      <td>1.085804</td>\n      <td>0.008001</td>\n      <td>0.133921</td>\n      <td>-0.535689</td>\n    </tr>\n    <tr>\n      <th>1</th>\n      <td>1</td>\n      <td>dsgdb9nsd_000001</td>\n      <td>1</td>\n      <td>2</td>\n      <td>2JHH</td>\n      <td>-11.2570</td>\n      <td>H</td>\n      <td>0.002150</td>\n      <td>-0.006031</td>\n      <td>0.001976</td>\n      <td>H</td>\n      <td>1.011731</td>\n      <td>1.463751</td>\n      <td>0.000277</td>\n      <td>0.133921</td>\n      <td>0.133922</td>\n    </tr>\n    <tr>\n      <th>2</th>\n      <td>2</td>\n      <td>dsgdb9nsd_000001</td>\n      <td>1</td>\n      <td>3</td>\n      <td>2JHH</td>\n      <td>-11.2548</td>\n      <td>H</td>\n      <td>0.002150</td>\n      <td>-0.006031</td>\n      <td>0.001976</td>\n      <td>H</td>\n      <td>-0.540815</td>\n      <td>1.447527</td>\n      <td>-0.876644</td>\n      <td>0.133921</td>\n      <td>0.133923</td>\n    </tr>\n    <tr>\n      <th>3</th>\n      <td>3</td>\n      <td>dsgdb9nsd_000001</td>\n      <td>1</td>\n      <td>4</td>\n      <td>2JHH</td>\n      <td>-11.2543</td>\n      <td>H</td>\n      <td>0.002150</td>\n      <td>-0.006031</td>\n      <td>0.001976</td>\n      <td>H</td>\n      <td>-0.523814</td>\n      <td>1.437933</td>\n      <td>0.906397</td>\n      <td>0.133921</td>\n      <td>0.133923</td>\n    </tr>\n    <tr>\n      <th>4</th>\n      <td>4</td>\n      <td>dsgdb9nsd_000001</td>\n      <td>2</td>\n      <td>0</td>\n      <td>1JHC</td>\n      <td>84.8074</td>\n      <td>H</td>\n      <td>1.011731</td>\n      <td>1.463751</td>\n      <td>0.000277</td>\n      <td>C</td>\n      <td>-0.012698</td>\n      <td>1.085804</td>\n      <td>0.008001</td>\n      <td>0.133922</td>\n      <td>-0.535689</td>\n    </tr>\n  </tbody>\n</table>\n</div>", 
                        "text/plain": "   id     molecule_name  atom_index_0  atom_index_1  type  \\\n0   0  dsgdb9nsd_000001             1             0  1JHC   \n1   1  dsgdb9nsd_000001             1             2  2JHH   \n2   2  dsgdb9nsd_000001             1             3  2JHH   \n3   3  dsgdb9nsd_000001             1             4  2JHH   \n4   4  dsgdb9nsd_000001             2             0  1JHC   \n\n   scalar_coupling_constant atom_0       x_0       y_0       z_0 atom_1  \\\n0                   84.8076      H  0.002150 -0.006031  0.001976      C   \n1                  -11.2570      H  0.002150 -0.006031  0.001976      H   \n2                  -11.2548      H  0.002150 -0.006031  0.001976      H   \n3                  -11.2543      H  0.002150 -0.006031  0.001976      H   \n4                   84.8074      H  1.011731  1.463751  0.000277      C   \n\n        x_1       y_1       z_1  mulliken_charge_0  mulliken_charge_1  \n0 -0.012698  1.085804  0.008001           0.133921          -0.535689  \n1  1.011731  1.463751  0.000277           0.133921           0.133922  \n2 -0.540815  1.447527 -0.876644           0.133921           0.133923  \n3 -0.523814  1.437933  0.906397           0.133921           0.133923  \n4 -0.012698  1.085804  0.008001           0.133922          -0.535689  "
                    }, 
                    "output_type": "execute_result"
                }
            ], 
            "source": "train=pd.merge(train,charges_1,on=['molecule_name','atom_index_1'],how='left')\ntrain.head()"
        }, 
        {
            "execution_count": 17, 
            "cell_type": "code", 
            "metadata": {}, 
            "outputs": [
                {
                    "execution_count": 17, 
                    "metadata": {}, 
                    "data": {
                        "text/plain": "Index(['id', 'molecule_name', 'atom_index_0', 'atom_index_1', 'type',\n       'scalar_coupling_constant', 'atom_0', 'x_0', 'y_0', 'z_0', 'atom_1',\n       'x_1', 'y_1', 'z_1', 'mulliken_charge_0', 'mulliken_charge_1'],\n      dtype='object')"
                    }, 
                    "output_type": "execute_result"
                }
            ], 
            "source": "train.columns"
        }, 
        {
            "execution_count": 18, 
            "cell_type": "code", 
            "metadata": {}, 
            "outputs": [], 
            "source": "train=train[['id', 'molecule_name', 'atom_index_0', 'atom_index_1',\n              'atom_0', 'x_0', 'y_0', 'z_0', \n              'atom_1', 'x_1', 'y_1', 'z_1',\n              'mulliken_charge_0', 'mulliken_charge_1',\n              'type','scalar_coupling_constant']]"
        }, 
        {
            "execution_count": 19, 
            "cell_type": "code", 
            "metadata": {}, 
            "outputs": [
                {
                    "execution_count": 19, 
                    "metadata": {}, 
                    "data": {
                        "text/html": "<div>\n<style scoped>\n    .dataframe tbody tr th:only-of-type {\n        vertical-align: middle;\n    }\n\n    .dataframe tbody tr th {\n        vertical-align: top;\n    }\n\n    .dataframe thead th {\n        text-align: right;\n    }\n</style>\n<table border=\"1\" class=\"dataframe\">\n  <thead>\n    <tr style=\"text-align: right;\">\n      <th></th>\n      <th>id</th>\n      <th>molecule_name</th>\n      <th>atom_index_0</th>\n      <th>atom_index_1</th>\n      <th>atom_0</th>\n      <th>x_0</th>\n      <th>y_0</th>\n      <th>z_0</th>\n      <th>atom_1</th>\n      <th>x_1</th>\n      <th>y_1</th>\n      <th>z_1</th>\n      <th>mulliken_charge_0</th>\n      <th>mulliken_charge_1</th>\n      <th>type</th>\n      <th>scalar_coupling_constant</th>\n    </tr>\n  </thead>\n  <tbody>\n    <tr>\n      <th>0</th>\n      <td>0</td>\n      <td>dsgdb9nsd_000001</td>\n      <td>1</td>\n      <td>0</td>\n      <td>H</td>\n      <td>0.002150</td>\n      <td>-0.006031</td>\n      <td>0.001976</td>\n      <td>C</td>\n      <td>-0.012698</td>\n      <td>1.085804</td>\n      <td>0.008001</td>\n      <td>0.133921</td>\n      <td>-0.535689</td>\n      <td>1JHC</td>\n      <td>84.8076</td>\n    </tr>\n    <tr>\n      <th>1</th>\n      <td>1</td>\n      <td>dsgdb9nsd_000001</td>\n      <td>1</td>\n      <td>2</td>\n      <td>H</td>\n      <td>0.002150</td>\n      <td>-0.006031</td>\n      <td>0.001976</td>\n      <td>H</td>\n      <td>1.011731</td>\n      <td>1.463751</td>\n      <td>0.000277</td>\n      <td>0.133921</td>\n      <td>0.133922</td>\n      <td>2JHH</td>\n      <td>-11.2570</td>\n    </tr>\n    <tr>\n      <th>2</th>\n      <td>2</td>\n      <td>dsgdb9nsd_000001</td>\n      <td>1</td>\n      <td>3</td>\n      <td>H</td>\n      <td>0.002150</td>\n      <td>-0.006031</td>\n      <td>0.001976</td>\n      <td>H</td>\n      <td>-0.540815</td>\n      <td>1.447527</td>\n      <td>-0.876644</td>\n      <td>0.133921</td>\n      <td>0.133923</td>\n      <td>2JHH</td>\n      <td>-11.2548</td>\n    </tr>\n    <tr>\n      <th>3</th>\n      <td>3</td>\n      <td>dsgdb9nsd_000001</td>\n      <td>1</td>\n      <td>4</td>\n      <td>H</td>\n      <td>0.002150</td>\n      <td>-0.006031</td>\n      <td>0.001976</td>\n      <td>H</td>\n      <td>-0.523814</td>\n      <td>1.437933</td>\n      <td>0.906397</td>\n      <td>0.133921</td>\n      <td>0.133923</td>\n      <td>2JHH</td>\n      <td>-11.2543</td>\n    </tr>\n    <tr>\n      <th>4</th>\n      <td>4</td>\n      <td>dsgdb9nsd_000001</td>\n      <td>2</td>\n      <td>0</td>\n      <td>H</td>\n      <td>1.011731</td>\n      <td>1.463751</td>\n      <td>0.000277</td>\n      <td>C</td>\n      <td>-0.012698</td>\n      <td>1.085804</td>\n      <td>0.008001</td>\n      <td>0.133922</td>\n      <td>-0.535689</td>\n      <td>1JHC</td>\n      <td>84.8074</td>\n    </tr>\n  </tbody>\n</table>\n</div>", 
                        "text/plain": "   id     molecule_name  atom_index_0  atom_index_1 atom_0       x_0  \\\n0   0  dsgdb9nsd_000001             1             0      H  0.002150   \n1   1  dsgdb9nsd_000001             1             2      H  0.002150   \n2   2  dsgdb9nsd_000001             1             3      H  0.002150   \n3   3  dsgdb9nsd_000001             1             4      H  0.002150   \n4   4  dsgdb9nsd_000001             2             0      H  1.011731   \n\n        y_0       z_0 atom_1       x_1       y_1       z_1  mulliken_charge_0  \\\n0 -0.006031  0.001976      C -0.012698  1.085804  0.008001           0.133921   \n1 -0.006031  0.001976      H  1.011731  1.463751  0.000277           0.133921   \n2 -0.006031  0.001976      H -0.540815  1.447527 -0.876644           0.133921   \n3 -0.006031  0.001976      H -0.523814  1.437933  0.906397           0.133921   \n4  1.463751  0.000277      C -0.012698  1.085804  0.008001           0.133922   \n\n   mulliken_charge_1  type  scalar_coupling_constant  \n0          -0.535689  1JHC                   84.8076  \n1           0.133922  2JHH                  -11.2570  \n2           0.133923  2JHH                  -11.2548  \n3           0.133923  2JHH                  -11.2543  \n4          -0.535689  1JHC                   84.8074  "
                    }, 
                    "output_type": "execute_result"
                }
            ], 
            "source": "train.head()"
        }, 
        {
            "execution_count": 20, 
            "cell_type": "code", 
            "metadata": {}, 
            "outputs": [
                {
                    "execution_count": 20, 
                    "metadata": {}, 
                    "data": {
                        "text/plain": "(4658147, 16)"
                    }, 
                    "output_type": "execute_result"
                }
            ], 
            "source": "train.shape"
        }, 
        {
            "source": "## Test data", 
            "cell_type": "markdown", 
            "metadata": {}
        }, 
        {
            "execution_count": 21, 
            "cell_type": "code", 
            "metadata": {}, 
            "outputs": [
                {
                    "execution_count": 21, 
                    "metadata": {}, 
                    "data": {
                        "text/html": "<div>\n<style scoped>\n    .dataframe tbody tr th:only-of-type {\n        vertical-align: middle;\n    }\n\n    .dataframe tbody tr th {\n        vertical-align: top;\n    }\n\n    .dataframe thead th {\n        text-align: right;\n    }\n</style>\n<table border=\"1\" class=\"dataframe\">\n  <thead>\n    <tr style=\"text-align: right;\">\n      <th></th>\n      <th>id</th>\n      <th>molecule_name</th>\n      <th>atom_index_0</th>\n      <th>atom_index_1</th>\n      <th>type</th>\n    </tr>\n  </thead>\n  <tbody>\n    <tr>\n      <th>0</th>\n      <td>4658147</td>\n      <td>dsgdb9nsd_000004</td>\n      <td>2</td>\n      <td>0</td>\n      <td>2JHC</td>\n    </tr>\n    <tr>\n      <th>1</th>\n      <td>4658148</td>\n      <td>dsgdb9nsd_000004</td>\n      <td>2</td>\n      <td>1</td>\n      <td>1JHC</td>\n    </tr>\n    <tr>\n      <th>2</th>\n      <td>4658149</td>\n      <td>dsgdb9nsd_000004</td>\n      <td>2</td>\n      <td>3</td>\n      <td>3JHH</td>\n    </tr>\n    <tr>\n      <th>3</th>\n      <td>4658150</td>\n      <td>dsgdb9nsd_000004</td>\n      <td>3</td>\n      <td>0</td>\n      <td>1JHC</td>\n    </tr>\n    <tr>\n      <th>4</th>\n      <td>4658151</td>\n      <td>dsgdb9nsd_000004</td>\n      <td>3</td>\n      <td>1</td>\n      <td>2JHC</td>\n    </tr>\n  </tbody>\n</table>\n</div>", 
                        "text/plain": "        id     molecule_name  atom_index_0  atom_index_1  type\n0  4658147  dsgdb9nsd_000004             2             0  2JHC\n1  4658148  dsgdb9nsd_000004             2             1  1JHC\n2  4658149  dsgdb9nsd_000004             2             3  3JHH\n3  4658150  dsgdb9nsd_000004             3             0  1JHC\n4  4658151  dsgdb9nsd_000004             3             1  2JHC"
                    }, 
                    "output_type": "execute_result"
                }
            ], 
            "source": "test=pd.read_csv('test.csv')\ntest.head()"
        }, 
        {
            "execution_count": 22, 
            "cell_type": "code", 
            "metadata": {}, 
            "outputs": [
                {
                    "execution_count": 22, 
                    "metadata": {}, 
                    "data": {
                        "text/html": "<div>\n<style scoped>\n    .dataframe tbody tr th:only-of-type {\n        vertical-align: middle;\n    }\n\n    .dataframe tbody tr th {\n        vertical-align: top;\n    }\n\n    .dataframe thead th {\n        text-align: right;\n    }\n</style>\n<table border=\"1\" class=\"dataframe\">\n  <thead>\n    <tr style=\"text-align: right;\">\n      <th></th>\n      <th>id</th>\n      <th>molecule_name</th>\n      <th>atom_index_0</th>\n      <th>atom_index_1</th>\n      <th>type</th>\n      <th>atom_0</th>\n      <th>x_0</th>\n      <th>y_0</th>\n      <th>z_0</th>\n    </tr>\n  </thead>\n  <tbody>\n    <tr>\n      <th>0</th>\n      <td>4658147</td>\n      <td>dsgdb9nsd_000004</td>\n      <td>2</td>\n      <td>0</td>\n      <td>2JHC</td>\n      <td>H</td>\n      <td>-1.661639</td>\n      <td>0.0</td>\n      <td>1.0</td>\n    </tr>\n    <tr>\n      <th>1</th>\n      <td>4658148</td>\n      <td>dsgdb9nsd_000004</td>\n      <td>2</td>\n      <td>1</td>\n      <td>1JHC</td>\n      <td>H</td>\n      <td>-1.661639</td>\n      <td>0.0</td>\n      <td>1.0</td>\n    </tr>\n    <tr>\n      <th>2</th>\n      <td>4658149</td>\n      <td>dsgdb9nsd_000004</td>\n      <td>2</td>\n      <td>3</td>\n      <td>3JHH</td>\n      <td>H</td>\n      <td>-1.661639</td>\n      <td>0.0</td>\n      <td>1.0</td>\n    </tr>\n    <tr>\n      <th>3</th>\n      <td>4658150</td>\n      <td>dsgdb9nsd_000004</td>\n      <td>3</td>\n      <td>0</td>\n      <td>1JHC</td>\n      <td>H</td>\n      <td>1.661639</td>\n      <td>0.0</td>\n      <td>1.0</td>\n    </tr>\n    <tr>\n      <th>4</th>\n      <td>4658151</td>\n      <td>dsgdb9nsd_000004</td>\n      <td>3</td>\n      <td>1</td>\n      <td>2JHC</td>\n      <td>H</td>\n      <td>1.661639</td>\n      <td>0.0</td>\n      <td>1.0</td>\n    </tr>\n  </tbody>\n</table>\n</div>", 
                        "text/plain": "        id     molecule_name  atom_index_0  atom_index_1  type atom_0  \\\n0  4658147  dsgdb9nsd_000004             2             0  2JHC      H   \n1  4658148  dsgdb9nsd_000004             2             1  1JHC      H   \n2  4658149  dsgdb9nsd_000004             2             3  3JHH      H   \n3  4658150  dsgdb9nsd_000004             3             0  1JHC      H   \n4  4658151  dsgdb9nsd_000004             3             1  2JHC      H   \n\n        x_0  y_0  z_0  \n0 -1.661639  0.0  1.0  \n1 -1.661639  0.0  1.0  \n2 -1.661639  0.0  1.0  \n3  1.661639  0.0  1.0  \n4  1.661639  0.0  1.0  "
                    }, 
                    "output_type": "execute_result"
                }
            ], 
            "source": "test=pd.merge(test,structures_0,on=['molecule_name','atom_index_0'],how='left')\ntest.head()"
        }, 
        {
            "execution_count": 23, 
            "cell_type": "code", 
            "metadata": {}, 
            "outputs": [
                {
                    "execution_count": 23, 
                    "metadata": {}, 
                    "data": {
                        "text/html": "<div>\n<style scoped>\n    .dataframe tbody tr th:only-of-type {\n        vertical-align: middle;\n    }\n\n    .dataframe tbody tr th {\n        vertical-align: top;\n    }\n\n    .dataframe thead th {\n        text-align: right;\n    }\n</style>\n<table border=\"1\" class=\"dataframe\">\n  <thead>\n    <tr style=\"text-align: right;\">\n      <th></th>\n      <th>id</th>\n      <th>molecule_name</th>\n      <th>atom_index_0</th>\n      <th>atom_index_1</th>\n      <th>type</th>\n      <th>atom_0</th>\n      <th>x_0</th>\n      <th>y_0</th>\n      <th>z_0</th>\n      <th>atom_1</th>\n      <th>x_1</th>\n      <th>y_1</th>\n      <th>z_1</th>\n    </tr>\n  </thead>\n  <tbody>\n    <tr>\n      <th>0</th>\n      <td>4658147</td>\n      <td>dsgdb9nsd_000004</td>\n      <td>2</td>\n      <td>0</td>\n      <td>2JHC</td>\n      <td>H</td>\n      <td>-1.661639</td>\n      <td>0.0</td>\n      <td>1.0</td>\n      <td>C</td>\n      <td>0.599539</td>\n      <td>0.0</td>\n      <td>1.0</td>\n    </tr>\n    <tr>\n      <th>1</th>\n      <td>4658148</td>\n      <td>dsgdb9nsd_000004</td>\n      <td>2</td>\n      <td>1</td>\n      <td>1JHC</td>\n      <td>H</td>\n      <td>-1.661639</td>\n      <td>0.0</td>\n      <td>1.0</td>\n      <td>C</td>\n      <td>-0.599539</td>\n      <td>0.0</td>\n      <td>1.0</td>\n    </tr>\n    <tr>\n      <th>2</th>\n      <td>4658149</td>\n      <td>dsgdb9nsd_000004</td>\n      <td>2</td>\n      <td>3</td>\n      <td>3JHH</td>\n      <td>H</td>\n      <td>-1.661639</td>\n      <td>0.0</td>\n      <td>1.0</td>\n      <td>H</td>\n      <td>1.661639</td>\n      <td>0.0</td>\n      <td>1.0</td>\n    </tr>\n    <tr>\n      <th>3</th>\n      <td>4658150</td>\n      <td>dsgdb9nsd_000004</td>\n      <td>3</td>\n      <td>0</td>\n      <td>1JHC</td>\n      <td>H</td>\n      <td>1.661639</td>\n      <td>0.0</td>\n      <td>1.0</td>\n      <td>C</td>\n      <td>0.599539</td>\n      <td>0.0</td>\n      <td>1.0</td>\n    </tr>\n    <tr>\n      <th>4</th>\n      <td>4658151</td>\n      <td>dsgdb9nsd_000004</td>\n      <td>3</td>\n      <td>1</td>\n      <td>2JHC</td>\n      <td>H</td>\n      <td>1.661639</td>\n      <td>0.0</td>\n      <td>1.0</td>\n      <td>C</td>\n      <td>-0.599539</td>\n      <td>0.0</td>\n      <td>1.0</td>\n    </tr>\n  </tbody>\n</table>\n</div>", 
                        "text/plain": "        id     molecule_name  atom_index_0  atom_index_1  type atom_0  \\\n0  4658147  dsgdb9nsd_000004             2             0  2JHC      H   \n1  4658148  dsgdb9nsd_000004             2             1  1JHC      H   \n2  4658149  dsgdb9nsd_000004             2             3  3JHH      H   \n3  4658150  dsgdb9nsd_000004             3             0  1JHC      H   \n4  4658151  dsgdb9nsd_000004             3             1  2JHC      H   \n\n        x_0  y_0  z_0 atom_1       x_1  y_1  z_1  \n0 -1.661639  0.0  1.0      C  0.599539  0.0  1.0  \n1 -1.661639  0.0  1.0      C -0.599539  0.0  1.0  \n2 -1.661639  0.0  1.0      H  1.661639  0.0  1.0  \n3  1.661639  0.0  1.0      C  0.599539  0.0  1.0  \n4  1.661639  0.0  1.0      C -0.599539  0.0  1.0  "
                    }, 
                    "output_type": "execute_result"
                }
            ], 
            "source": "test=pd.merge(test,structures_1,on=['molecule_name','atom_index_1'],how='left')\ntest.head()"
        }, 
        {
            "execution_count": 24, 
            "cell_type": "code", 
            "metadata": {}, 
            "outputs": [], 
            "source": "test['mulliken_charge_0']=np.nan\ntest['mulliken_charge_1']=np.nan"
        }, 
        {
            "execution_count": 25, 
            "cell_type": "code", 
            "metadata": {}, 
            "outputs": [
                {
                    "execution_count": 25, 
                    "metadata": {}, 
                    "data": {
                        "text/html": "<div>\n<style scoped>\n    .dataframe tbody tr th:only-of-type {\n        vertical-align: middle;\n    }\n\n    .dataframe tbody tr th {\n        vertical-align: top;\n    }\n\n    .dataframe thead th {\n        text-align: right;\n    }\n</style>\n<table border=\"1\" class=\"dataframe\">\n  <thead>\n    <tr style=\"text-align: right;\">\n      <th></th>\n      <th>id</th>\n      <th>molecule_name</th>\n      <th>atom_index_0</th>\n      <th>atom_index_1</th>\n      <th>type</th>\n      <th>atom_0</th>\n      <th>x_0</th>\n      <th>y_0</th>\n      <th>z_0</th>\n      <th>atom_1</th>\n      <th>x_1</th>\n      <th>y_1</th>\n      <th>z_1</th>\n      <th>mulliken_charge_0</th>\n      <th>mulliken_charge_1</th>\n    </tr>\n  </thead>\n  <tbody>\n    <tr>\n      <th>0</th>\n      <td>4658147</td>\n      <td>dsgdb9nsd_000004</td>\n      <td>2</td>\n      <td>0</td>\n      <td>2JHC</td>\n      <td>H</td>\n      <td>-1.661639</td>\n      <td>0.0</td>\n      <td>1.0</td>\n      <td>C</td>\n      <td>0.599539</td>\n      <td>0.0</td>\n      <td>1.0</td>\n      <td>NaN</td>\n      <td>NaN</td>\n    </tr>\n    <tr>\n      <th>1</th>\n      <td>4658148</td>\n      <td>dsgdb9nsd_000004</td>\n      <td>2</td>\n      <td>1</td>\n      <td>1JHC</td>\n      <td>H</td>\n      <td>-1.661639</td>\n      <td>0.0</td>\n      <td>1.0</td>\n      <td>C</td>\n      <td>-0.599539</td>\n      <td>0.0</td>\n      <td>1.0</td>\n      <td>NaN</td>\n      <td>NaN</td>\n    </tr>\n    <tr>\n      <th>2</th>\n      <td>4658149</td>\n      <td>dsgdb9nsd_000004</td>\n      <td>2</td>\n      <td>3</td>\n      <td>3JHH</td>\n      <td>H</td>\n      <td>-1.661639</td>\n      <td>0.0</td>\n      <td>1.0</td>\n      <td>H</td>\n      <td>1.661639</td>\n      <td>0.0</td>\n      <td>1.0</td>\n      <td>NaN</td>\n      <td>NaN</td>\n    </tr>\n    <tr>\n      <th>3</th>\n      <td>4658150</td>\n      <td>dsgdb9nsd_000004</td>\n      <td>3</td>\n      <td>0</td>\n      <td>1JHC</td>\n      <td>H</td>\n      <td>1.661639</td>\n      <td>0.0</td>\n      <td>1.0</td>\n      <td>C</td>\n      <td>0.599539</td>\n      <td>0.0</td>\n      <td>1.0</td>\n      <td>NaN</td>\n      <td>NaN</td>\n    </tr>\n    <tr>\n      <th>4</th>\n      <td>4658151</td>\n      <td>dsgdb9nsd_000004</td>\n      <td>3</td>\n      <td>1</td>\n      <td>2JHC</td>\n      <td>H</td>\n      <td>1.661639</td>\n      <td>0.0</td>\n      <td>1.0</td>\n      <td>C</td>\n      <td>-0.599539</td>\n      <td>0.0</td>\n      <td>1.0</td>\n      <td>NaN</td>\n      <td>NaN</td>\n    </tr>\n  </tbody>\n</table>\n</div>", 
                        "text/plain": "        id     molecule_name  atom_index_0  atom_index_1  type atom_0  \\\n0  4658147  dsgdb9nsd_000004             2             0  2JHC      H   \n1  4658148  dsgdb9nsd_000004             2             1  1JHC      H   \n2  4658149  dsgdb9nsd_000004             2             3  3JHH      H   \n3  4658150  dsgdb9nsd_000004             3             0  1JHC      H   \n4  4658151  dsgdb9nsd_000004             3             1  2JHC      H   \n\n        x_0  y_0  z_0 atom_1       x_1  y_1  z_1  mulliken_charge_0  \\\n0 -1.661639  0.0  1.0      C  0.599539  0.0  1.0                NaN   \n1 -1.661639  0.0  1.0      C -0.599539  0.0  1.0                NaN   \n2 -1.661639  0.0  1.0      H  1.661639  0.0  1.0                NaN   \n3  1.661639  0.0  1.0      C  0.599539  0.0  1.0                NaN   \n4  1.661639  0.0  1.0      C -0.599539  0.0  1.0                NaN   \n\n   mulliken_charge_1  \n0                NaN  \n1                NaN  \n2                NaN  \n3                NaN  \n4                NaN  "
                    }, 
                    "output_type": "execute_result"
                }
            ], 
            "source": "test.head()"
        }, 
        {
            "execution_count": 26, 
            "cell_type": "code", 
            "metadata": {}, 
            "outputs": [
                {
                    "execution_count": 26, 
                    "metadata": {}, 
                    "data": {
                        "text/plain": "(2505542, 15)"
                    }, 
                    "output_type": "execute_result"
                }
            ], 
            "source": "test.shape"
        }, 
        {
            "execution_count": 27, 
            "cell_type": "code", 
            "metadata": {}, 
            "outputs": [
                {
                    "execution_count": 27, 
                    "metadata": {}, 
                    "data": {
                        "text/plain": "Index(['id', 'molecule_name', 'atom_index_0', 'atom_index_1', 'type', 'atom_0',\n       'x_0', 'y_0', 'z_0', 'atom_1', 'x_1', 'y_1', 'z_1', 'mulliken_charge_0',\n       'mulliken_charge_1'],\n      dtype='object')"
                    }, 
                    "output_type": "execute_result"
                }
            ], 
            "source": "test.columns"
        }, 
        {
            "execution_count": 39, 
            "cell_type": "code", 
            "metadata": {}, 
            "outputs": [], 
            "source": "test=test[['id', 'molecule_name', 'atom_index_0', 'atom_index_1', 'atom_0',\n       'x_0', 'y_0', 'z_0', 'atom_1', 'x_1', 'y_1', 'z_1', 'mulliken_charge_0',\n       'mulliken_charge_1','type']]"
        }, 
        {
            "execution_count": 40, 
            "cell_type": "code", 
            "metadata": {}, 
            "outputs": [
                {
                    "execution_count": 40, 
                    "metadata": {}, 
                    "data": {
                        "text/html": "<div>\n<style scoped>\n    .dataframe tbody tr th:only-of-type {\n        vertical-align: middle;\n    }\n\n    .dataframe tbody tr th {\n        vertical-align: top;\n    }\n\n    .dataframe thead th {\n        text-align: right;\n    }\n</style>\n<table border=\"1\" class=\"dataframe\">\n  <thead>\n    <tr style=\"text-align: right;\">\n      <th></th>\n      <th>id</th>\n      <th>molecule_name</th>\n      <th>atom_index_0</th>\n      <th>atom_index_1</th>\n      <th>atom_0</th>\n      <th>x_0</th>\n      <th>y_0</th>\n      <th>z_0</th>\n      <th>atom_1</th>\n      <th>x_1</th>\n      <th>y_1</th>\n      <th>z_1</th>\n      <th>mulliken_charge_0</th>\n      <th>mulliken_charge_1</th>\n      <th>type</th>\n    </tr>\n  </thead>\n  <tbody>\n    <tr>\n      <th>0</th>\n      <td>4658147</td>\n      <td>dsgdb9nsd_000004</td>\n      <td>2</td>\n      <td>0</td>\n      <td>H</td>\n      <td>-1.661639</td>\n      <td>0.0</td>\n      <td>1.0</td>\n      <td>C</td>\n      <td>0.599539</td>\n      <td>0.0</td>\n      <td>1.0</td>\n      <td>NaN</td>\n      <td>NaN</td>\n      <td>2JHC</td>\n    </tr>\n    <tr>\n      <th>1</th>\n      <td>4658148</td>\n      <td>dsgdb9nsd_000004</td>\n      <td>2</td>\n      <td>1</td>\n      <td>H</td>\n      <td>-1.661639</td>\n      <td>0.0</td>\n      <td>1.0</td>\n      <td>C</td>\n      <td>-0.599539</td>\n      <td>0.0</td>\n      <td>1.0</td>\n      <td>NaN</td>\n      <td>NaN</td>\n      <td>1JHC</td>\n    </tr>\n    <tr>\n      <th>2</th>\n      <td>4658149</td>\n      <td>dsgdb9nsd_000004</td>\n      <td>2</td>\n      <td>3</td>\n      <td>H</td>\n      <td>-1.661639</td>\n      <td>0.0</td>\n      <td>1.0</td>\n      <td>H</td>\n      <td>1.661639</td>\n      <td>0.0</td>\n      <td>1.0</td>\n      <td>NaN</td>\n      <td>NaN</td>\n      <td>3JHH</td>\n    </tr>\n    <tr>\n      <th>3</th>\n      <td>4658150</td>\n      <td>dsgdb9nsd_000004</td>\n      <td>3</td>\n      <td>0</td>\n      <td>H</td>\n      <td>1.661639</td>\n      <td>0.0</td>\n      <td>1.0</td>\n      <td>C</td>\n      <td>0.599539</td>\n      <td>0.0</td>\n      <td>1.0</td>\n      <td>NaN</td>\n      <td>NaN</td>\n      <td>1JHC</td>\n    </tr>\n    <tr>\n      <th>4</th>\n      <td>4658151</td>\n      <td>dsgdb9nsd_000004</td>\n      <td>3</td>\n      <td>1</td>\n      <td>H</td>\n      <td>1.661639</td>\n      <td>0.0</td>\n      <td>1.0</td>\n      <td>C</td>\n      <td>-0.599539</td>\n      <td>0.0</td>\n      <td>1.0</td>\n      <td>NaN</td>\n      <td>NaN</td>\n      <td>2JHC</td>\n    </tr>\n  </tbody>\n</table>\n</div>", 
                        "text/plain": "        id     molecule_name  atom_index_0  atom_index_1 atom_0       x_0  \\\n0  4658147  dsgdb9nsd_000004             2             0      H -1.661639   \n1  4658148  dsgdb9nsd_000004             2             1      H -1.661639   \n2  4658149  dsgdb9nsd_000004             2             3      H -1.661639   \n3  4658150  dsgdb9nsd_000004             3             0      H  1.661639   \n4  4658151  dsgdb9nsd_000004             3             1      H  1.661639   \n\n   y_0  z_0 atom_1       x_1  y_1  z_1  mulliken_charge_0  mulliken_charge_1  \\\n0  0.0  1.0      C  0.599539  0.0  1.0                NaN                NaN   \n1  0.0  1.0      C -0.599539  0.0  1.0                NaN                NaN   \n2  0.0  1.0      H  1.661639  0.0  1.0                NaN                NaN   \n3  0.0  1.0      C  0.599539  0.0  1.0                NaN                NaN   \n4  0.0  1.0      C -0.599539  0.0  1.0                NaN                NaN   \n\n   type  \n0  2JHC  \n1  1JHC  \n2  3JHH  \n3  1JHC  \n4  2JHC  "
                    }, 
                    "output_type": "execute_result"
                }
            ], 
            "source": "test.head()"
        }, 
        {
            "execution_count": 41, 
            "cell_type": "code", 
            "metadata": {}, 
            "outputs": [
                {
                    "execution_count": 41, 
                    "metadata": {}, 
                    "data": {
                        "text/plain": "(2505542, 15)"
                    }, 
                    "output_type": "execute_result"
                }
            ], 
            "source": "test.shape"
        }, 
        {
            "execution_count": 42, 
            "cell_type": "code", 
            "metadata": {}, 
            "outputs": [
                {
                    "execution_count": 42, 
                    "metadata": {}, 
                    "data": {
                        "text/plain": "(4658147, 16)"
                    }, 
                    "output_type": "execute_result"
                }
            ], 
            "source": "train.shape"
        }, 
        {
            "source": "# Save Train and Test Data to disk", 
            "cell_type": "markdown", 
            "metadata": {}
        }, 
        {
            "execution_count": 43, 
            "cell_type": "code", 
            "metadata": {}, 
            "outputs": [], 
            "source": "train.to_csv('train_etl.csv',index=False)\ntest.to_csv('test_etl.csv',index=False)"
        }, 
        {
            "execution_count": 44, 
            "cell_type": "code", 
            "metadata": {}, 
            "outputs": [
                {
                    "output_type": "stream", 
                    "name": "stdout", 
                    "text": "champs-scalar-coupling_new.zip\tscalar_coupling_contributions.csv\r\nconnectivity_model_nn_03.h5\tstructures.csv\r\ndipole_moments.csv\t\tstructures.zip\r\nmagnetic_shielding_tensors.csv\ttest.csv\r\nmulliken_charges.csv\t\ttest_etl.csv\r\npairs_dict.pkl\t\t\ttrain.csv\r\npotential_energy.csv\t\ttrain_etl.csv\r\nsample_submission.csv\r\n"
                }
            ], 
            "source": "!ls"
        }, 
        {
            "source": "# Upload train and test data to the cloud object store", 
            "cell_type": "markdown", 
            "metadata": {}
        }, 
        {
            "execution_count": 45, 
            "cell_type": "code", 
            "metadata": {}, 
            "outputs": [], 
            "source": "# The code was removed by Watson Studio for sharing."
        }, 
        {
            "execution_count": 46, 
            "cell_type": "code", 
            "metadata": {}, 
            "outputs": [], 
            "source": "from ibm_botocore.client import Config\nimport ibm_boto3\ndef upload_file_cos(credentials,local_file_name,key):  \n    cos = ibm_boto3.client(service_name='s3',\n    ibm_api_key_id=credentials['IBM_API_KEY_ID'],\n    ibm_service_instance_id=credentials['IAM_SERVICE_ID'],\n    ibm_auth_endpoint=credentials['IBM_AUTH_ENDPOINT'],\n    config=Config(signature_version='oauth'),\n    endpoint_url=credentials['ENDPOINT'])\n    try:\n        res=cos.upload_file(Filename=local_file_name, Bucket=credentials['BUCKET'],Key=key)\n    except Exception as e:\n        print(Exception, e)\n    else:\n        print('File Uploaded')"
        }, 
        {
            "execution_count": 47, 
            "cell_type": "code", 
            "metadata": {}, 
            "outputs": [
                {
                    "output_type": "stream", 
                    "name": "stdout", 
                    "text": "File Uploaded\n"
                }
            ], 
            "source": "upload_file_cos(credentials_2,'train_etl.csv','train_etl.csv')"
        }, 
        {
            "execution_count": 48, 
            "cell_type": "code", 
            "metadata": {}, 
            "outputs": [
                {
                    "output_type": "stream", 
                    "name": "stdout", 
                    "text": "File Uploaded\n"
                }
            ], 
            "source": "upload_file_cos(credentials_2,'test_etl.csv','test_etl.csv')"
        }, 
        {
            "execution_count": null, 
            "cell_type": "code", 
            "metadata": {}, 
            "outputs": [], 
            "source": ""
        }
    ], 
    "metadata": {
        "kernelspec": {
            "display_name": "Python 3.6", 
            "name": "python3", 
            "language": "python"
        }, 
        "language_info": {
            "mimetype": "text/x-python", 
            "nbconvert_exporter": "python", 
            "version": "3.6.8", 
            "name": "python", 
            "file_extension": ".py", 
            "pygments_lexer": "ipython3", 
            "codemirror_mode": {
                "version": 3, 
                "name": "ipython"
            }
        }
    }, 
    "nbformat": 4
}