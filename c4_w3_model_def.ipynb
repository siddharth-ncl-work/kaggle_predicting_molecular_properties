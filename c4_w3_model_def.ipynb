{
    "nbformat_minor": 1, 
    "cells": [
        {
            "source": "# Aim: Create simple basic models(at least 2) and establish baseline model performance", 
            "cell_type": "markdown", 
            "metadata": {}
        }, 
        {
            "source": "# Models", 
            "cell_type": "markdown", 
            "metadata": {}
        }, 
        {
            "source": "* Linear Regression from scikit-learn (Baseline) \n* GradientBoostingRegressor from scikit-learn\n* Neural Netowrk (shallow and deep)", 
            "cell_type": "markdown", 
            "metadata": {}
        }, 
        {
            "execution_count": 23, 
            "cell_type": "code", 
            "metadata": {}, 
            "outputs": [], 
            "source": "from sklearn.linear_model import LinearRegression\nfrom sklearn.ensemble import GradientBoostingRegressor"
        }, 
        {
            "source": "## NN", 
            "cell_type": "markdown", 
            "metadata": {}
        }, 
        {
            "execution_count": 1, 
            "cell_type": "code", 
            "metadata": {}, 
            "outputs": [], 
            "source": "import tensorflow as tf\nfrom tensorflow import keras"
        }, 
        {
            "execution_count": 2, 
            "cell_type": "code", 
            "metadata": {}, 
            "outputs": [
                {
                    "output_type": "stream", 
                    "name": "stdout", 
                    "text": "WARNING:tensorflow:From /opt/conda/envs/Python36/lib/python3.6/site-packages/tensorflow/python/ops/resource_variable_ops.py:435: colocate_with (from tensorflow.python.framework.ops) is deprecated and will be removed in a future version.\nInstructions for updating:\nColocations handled automatically by placer.\n_________________________________________________________________\nLayer (type)                 Output Shape              Param #   \n=================================================================\ndense (Dense)                (None, 10)                170       \n_________________________________________________________________\ndense_1 (Dense)              (None, 20)                220       \n_________________________________________________________________\ndense_2 (Dense)              (None, 20)                420       \n_________________________________________________________________\ndense_3 (Dense)              (None, 1)                 21        \n=================================================================\nTotal params: 831\nTrainable params: 831\nNon-trainable params: 0\n_________________________________________________________________\n"
                }
            ], 
            "source": "input_shape=(16,)  #16 or 38\nmodel_nn_small=keras.Sequential()\nmodel_nn_small.add(keras.layers.Dense(10,activation='relu',input_shape=input_shape))\nmodel_nn_small.add(keras.layers.Dense(20,activation='relu'))\nmodel_nn_small.add(keras.layers.Dense(20,activation='relu'))\nmodel_nn_small.add(keras.layers.Dense(1))\n\nmodel_nn_small.summary()"
        }, 
        {
            "execution_count": 4, 
            "cell_type": "code", 
            "metadata": {}, 
            "outputs": [
                {
                    "output_type": "stream", 
                    "name": "stdout", 
                    "text": "_________________________________________________________________\nLayer (type)                 Output Shape              Param #   \n=================================================================\ndense_4 (Dense)              (None, 64)                1088      \n_________________________________________________________________\ndense_5 (Dense)              (None, 128)               8320      \n_________________________________________________________________\ndense_6 (Dense)              (None, 256)               33024     \n_________________________________________________________________\ndense_7 (Dense)              (None, 512)               131584    \n_________________________________________________________________\ndense_8 (Dense)              (None, 512)               262656    \n_________________________________________________________________\ndense_9 (Dense)              (None, 128)               65664     \n_________________________________________________________________\ndense_10 (Dense)             (None, 64)                8256      \n_________________________________________________________________\ndense_11 (Dense)             (None, 8)                 520       \n_________________________________________________________________\ndense_12 (Dense)             (None, 1)                 9         \n=================================================================\nTotal params: 511,121\nTrainable params: 511,121\nNon-trainable params: 0\n_________________________________________________________________\n"
                }
            ], 
            "source": "input_shape=(16,) #16 or 38\nmodel_dnn=keras.Sequential()\nmodel_dnn.add(keras.layers.Dense(64,activation='relu',input_shape=input_shape))\nmodel_dnn.add(keras.layers.Dense(128,activation='relu'))\nmodel_dnn.add(keras.layers.Dense(256,activation='relu'))\nmodel_dnn.add(keras.layers.Dense(512,activation='relu'))\nmodel_dnn.add(keras.layers.Dense(512,activation='relu'))\nmodel_dnn.add(keras.layers.Dense(128,activation='relu'))\nmodel_dnn.add(keras.layers.Dense(64,activation='relu'))\nmodel_dnn.add(keras.layers.Dense(8,activation='relu'))\nmodel_dnn.add(keras.layers.Dense(1))\n\nmodel_dnn.summary()"
        }
    ], 
    "metadata": {
        "kernelspec": {
            "display_name": "Python 3.6", 
            "name": "python3", 
            "language": "python"
        }, 
        "language_info": {
            "mimetype": "text/x-python", 
            "nbconvert_exporter": "python", 
            "version": "3.6.8", 
            "name": "python", 
            "file_extension": ".py", 
            "pygments_lexer": "ipython3", 
            "codemirror_mode": {
                "version": 3, 
                "name": "ipython"
            }
        }
    }, 
    "nbformat": 4
}