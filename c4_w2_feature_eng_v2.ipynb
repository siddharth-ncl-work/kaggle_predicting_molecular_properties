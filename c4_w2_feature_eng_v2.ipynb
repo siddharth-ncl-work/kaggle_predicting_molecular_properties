{
    "nbformat_minor": 1, 
    "cells": [
        {
            "source": "## Aim: To create final training and test dataframes with new & important features\n# Download data", 
            "cell_type": "markdown", 
            "metadata": {}
        }, 
        {
            "execution_count": 1, 
            "cell_type": "code", 
            "metadata": {}, 
            "outputs": [], 
            "source": "# The code was removed by Watson Studio for sharing."
        }, 
        {
            "execution_count": 2, 
            "cell_type": "code", 
            "metadata": {}, 
            "outputs": [
                {
                    "output_type": "stream", 
                    "name": "stdout", 
                    "text": "rm: cannot remove \u2018train_etl.csv\u2019: No such file or directory\r\nrm: cannot remove \u2018test_etl.csv\u2019: No such file or directory\r\nrm: cannot remove \u2018pairs_dict.pkl\u2019: No such file or directory\r\nrm: cannot remove \u2018connectivity_model_nn_03.h5\u2019: No such file or directory\r\n"
                }
            ], 
            "source": "!rm train_etl.csv test_etl.csv pairs_dict.pkl connectivity_model_nn_03.h5\n!ls"
        }, 
        {
            "execution_count": 3, 
            "cell_type": "code", 
            "metadata": {}, 
            "outputs": [
                {
                    "output_type": "stream", 
                    "name": "stdout", 
                    "text": "File Downloaded\nFile Downloaded\nFile Downloaded\nFile Downloaded\nconnectivity_model_nn_03.h5  pairs_dict.pkl  test_etl.csv  train_etl.csv\n"
                }
            ], 
            "source": "download_file_cos(credentials_2, 'train_etl.csv', 'train_etl.csv')\ndownload_file_cos(credentials_2, 'test_etl.csv', 'test_etl.csv')\ndownload_file_cos(credentials_2, 'pairs_dict.pkl', 'pairs_dict.pkl')\ndownload_file_cos(credentials_2, 'connectivity_model_nn_03.h5', 'connectivity_model_nn_03.h5')\n!ls"
        }, 
        {
            "execution_count": 4, 
            "cell_type": "code", 
            "metadata": {}, 
            "outputs": [
                {
                    "output_type": "stream", 
                    "name": "stdout", 
                    "text": "--2019-08-14 09:58:00--  https://www.kaggleusercontent.com/kf/15612312/eyJhbGciOiJkaXIiLCJlbmMiOiJBMTI4Q0JDLUhTMjU2In0..XpvpY1AwxFHBalEO6EW75w.4xvQ52UpYKPAQp5lmOt_cSCeO_zDbr49lhqEr-LSneu9R5C_de3BtMl2KyXRR6uTUcwCzSfRb4vrmg5kFhzFjfg91HmxgfBTSuwrK3MBA62w4S8P51t083QEE4RXibSirX11HYn7eAph-MFMSHJ_yA.r8PDG6MhWtotvYsMKAnlnA/data.covs.pickle\nResolving www.kaggleusercontent.com (www.kaggleusercontent.com)... 35.190.26.106\nConnecting to www.kaggleusercontent.com (www.kaggleusercontent.com)|35.190.26.106|:443... connected.\nHTTP request sent, awaiting response... 200 OK\nLength: 1678972335 (1.6G) [application/octet-stream]\nSaving to: \u2018data.covs.pickle\u2019\n\n100%[====================================>] 1,678,972,335  119MB/s   in 14s    \n\n2019-08-14 09:58:15 (113 MB/s) - \u2018data.covs.pickle\u2019 saved [1678972335/1678972335]\n\n"
                }
            ], 
            "source": "#QM9\n!wget https://www.kaggleusercontent.com/kf/15612312/eyJhbGciOiJkaXIiLCJlbmMiOiJBMTI4Q0JDLUhTMjU2In0..XpvpY1AwxFHBalEO6EW75w.4xvQ52UpYKPAQp5lmOt_cSCeO_zDbr49lhqEr-LSneu9R5C_de3BtMl2KyXRR6uTUcwCzSfRb4vrmg5kFhzFjfg91HmxgfBTSuwrK3MBA62w4S8P51t083QEE4RXibSirX11HYn7eAph-MFMSHJ_yA.r8PDG6MhWtotvYsMKAnlnA/data.covs.pickle"
        }, 
        {
            "execution_count": 5, 
            "cell_type": "code", 
            "metadata": {}, 
            "outputs": [], 
            "source": "import pandas as pd\nimport numpy as np\nimport matplotlib.pyplot as plt\nimport pickle\nimport tensorflow as tf\nfrom tensorflow import keras\n\n%matplotlib inline"
        }, 
        {
            "execution_count": 6, 
            "cell_type": "code", 
            "metadata": {}, 
            "outputs": [
                {
                    "execution_count": 6, 
                    "metadata": {}, 
                    "data": {
                        "text/plain": "'1.13.1'"
                    }, 
                    "output_type": "execute_result"
                }
            ], 
            "source": "tf.__version__"
        }, 
        {
            "execution_count": 7, 
            "cell_type": "code", 
            "metadata": {}, 
            "outputs": [
                {
                    "output_type": "stream", 
                    "name": "stdout", 
                    "text": "train:(4658147, 16)\ntest: (2505542, 15)\n"
                }
            ], 
            "source": "train=pd.read_csv('train_etl.csv')\ntest=pd.read_csv('test_etl.csv')\nprint('train:{}'.format(train.shape))\nprint('test: {}'.format(test.shape))"
        }, 
        {
            "execution_count": 8, 
            "cell_type": "code", 
            "metadata": {}, 
            "outputs": [
                {
                    "execution_count": 8, 
                    "metadata": {}, 
                    "data": {
                        "text/html": "<div>\n<style scoped>\n    .dataframe tbody tr th:only-of-type {\n        vertical-align: middle;\n    }\n\n    .dataframe tbody tr th {\n        vertical-align: top;\n    }\n\n    .dataframe thead th {\n        text-align: right;\n    }\n</style>\n<table border=\"1\" class=\"dataframe\">\n  <thead>\n    <tr style=\"text-align: right;\">\n      <th></th>\n      <th>id</th>\n      <th>molecule_name</th>\n      <th>atom_index_0</th>\n      <th>atom_index_1</th>\n      <th>atom_0</th>\n      <th>x_0</th>\n      <th>y_0</th>\n      <th>z_0</th>\n      <th>atom_1</th>\n      <th>x_1</th>\n      <th>y_1</th>\n      <th>z_1</th>\n      <th>mulliken_charge_0</th>\n      <th>mulliken_charge_1</th>\n      <th>type</th>\n      <th>scalar_coupling_constant</th>\n    </tr>\n  </thead>\n  <tbody>\n    <tr>\n      <th>0</th>\n      <td>0</td>\n      <td>dsgdb9nsd_000001</td>\n      <td>1</td>\n      <td>0</td>\n      <td>H</td>\n      <td>0.002150</td>\n      <td>-0.006031</td>\n      <td>0.001976</td>\n      <td>C</td>\n      <td>-0.012698</td>\n      <td>1.085804</td>\n      <td>0.008001</td>\n      <td>0.133921</td>\n      <td>-0.535689</td>\n      <td>1JHC</td>\n      <td>84.8076</td>\n    </tr>\n    <tr>\n      <th>1</th>\n      <td>1</td>\n      <td>dsgdb9nsd_000001</td>\n      <td>1</td>\n      <td>2</td>\n      <td>H</td>\n      <td>0.002150</td>\n      <td>-0.006031</td>\n      <td>0.001976</td>\n      <td>H</td>\n      <td>1.011731</td>\n      <td>1.463751</td>\n      <td>0.000277</td>\n      <td>0.133921</td>\n      <td>0.133922</td>\n      <td>2JHH</td>\n      <td>-11.2570</td>\n    </tr>\n    <tr>\n      <th>2</th>\n      <td>2</td>\n      <td>dsgdb9nsd_000001</td>\n      <td>1</td>\n      <td>3</td>\n      <td>H</td>\n      <td>0.002150</td>\n      <td>-0.006031</td>\n      <td>0.001976</td>\n      <td>H</td>\n      <td>-0.540815</td>\n      <td>1.447527</td>\n      <td>-0.876644</td>\n      <td>0.133921</td>\n      <td>0.133923</td>\n      <td>2JHH</td>\n      <td>-11.2548</td>\n    </tr>\n    <tr>\n      <th>3</th>\n      <td>3</td>\n      <td>dsgdb9nsd_000001</td>\n      <td>1</td>\n      <td>4</td>\n      <td>H</td>\n      <td>0.002150</td>\n      <td>-0.006031</td>\n      <td>0.001976</td>\n      <td>H</td>\n      <td>-0.523814</td>\n      <td>1.437933</td>\n      <td>0.906397</td>\n      <td>0.133921</td>\n      <td>0.133923</td>\n      <td>2JHH</td>\n      <td>-11.2543</td>\n    </tr>\n    <tr>\n      <th>4</th>\n      <td>4</td>\n      <td>dsgdb9nsd_000001</td>\n      <td>2</td>\n      <td>0</td>\n      <td>H</td>\n      <td>1.011731</td>\n      <td>1.463751</td>\n      <td>0.000277</td>\n      <td>C</td>\n      <td>-0.012698</td>\n      <td>1.085804</td>\n      <td>0.008001</td>\n      <td>0.133922</td>\n      <td>-0.535689</td>\n      <td>1JHC</td>\n      <td>84.8074</td>\n    </tr>\n  </tbody>\n</table>\n</div>", 
                        "text/plain": "   id     molecule_name  atom_index_0  atom_index_1 atom_0       x_0  \\\n0   0  dsgdb9nsd_000001             1             0      H  0.002150   \n1   1  dsgdb9nsd_000001             1             2      H  0.002150   \n2   2  dsgdb9nsd_000001             1             3      H  0.002150   \n3   3  dsgdb9nsd_000001             1             4      H  0.002150   \n4   4  dsgdb9nsd_000001             2             0      H  1.011731   \n\n        y_0       z_0 atom_1       x_1       y_1       z_1  mulliken_charge_0  \\\n0 -0.006031  0.001976      C -0.012698  1.085804  0.008001           0.133921   \n1 -0.006031  0.001976      H  1.011731  1.463751  0.000277           0.133921   \n2 -0.006031  0.001976      H -0.540815  1.447527 -0.876644           0.133921   \n3 -0.006031  0.001976      H -0.523814  1.437933  0.906397           0.133921   \n4  1.463751  0.000277      C -0.012698  1.085804  0.008001           0.133922   \n\n   mulliken_charge_1  type  scalar_coupling_constant  \n0          -0.535689  1JHC                   84.8076  \n1           0.133922  2JHH                  -11.2570  \n2           0.133923  2JHH                  -11.2548  \n3           0.133923  2JHH                  -11.2543  \n4          -0.535689  1JHC                   84.8074  "
                    }, 
                    "output_type": "execute_result"
                }
            ], 
            "source": "train.head()"
        }, 
        {
            "execution_count": 9, 
            "cell_type": "code", 
            "metadata": {}, 
            "outputs": [
                {
                    "execution_count": 9, 
                    "metadata": {}, 
                    "data": {
                        "text/html": "<div>\n<style scoped>\n    .dataframe tbody tr th:only-of-type {\n        vertical-align: middle;\n    }\n\n    .dataframe tbody tr th {\n        vertical-align: top;\n    }\n\n    .dataframe thead th {\n        text-align: right;\n    }\n</style>\n<table border=\"1\" class=\"dataframe\">\n  <thead>\n    <tr style=\"text-align: right;\">\n      <th></th>\n      <th>id</th>\n      <th>molecule_name</th>\n      <th>atom_index_0</th>\n      <th>atom_index_1</th>\n      <th>atom_0</th>\n      <th>x_0</th>\n      <th>y_0</th>\n      <th>z_0</th>\n      <th>atom_1</th>\n      <th>x_1</th>\n      <th>y_1</th>\n      <th>z_1</th>\n      <th>mulliken_charge_0</th>\n      <th>mulliken_charge_1</th>\n      <th>type</th>\n    </tr>\n  </thead>\n  <tbody>\n    <tr>\n      <th>0</th>\n      <td>4658147</td>\n      <td>dsgdb9nsd_000004</td>\n      <td>2</td>\n      <td>0</td>\n      <td>H</td>\n      <td>-1.661639</td>\n      <td>0.0</td>\n      <td>1.0</td>\n      <td>C</td>\n      <td>0.599539</td>\n      <td>0.0</td>\n      <td>1.0</td>\n      <td>NaN</td>\n      <td>NaN</td>\n      <td>2JHC</td>\n    </tr>\n    <tr>\n      <th>1</th>\n      <td>4658148</td>\n      <td>dsgdb9nsd_000004</td>\n      <td>2</td>\n      <td>1</td>\n      <td>H</td>\n      <td>-1.661639</td>\n      <td>0.0</td>\n      <td>1.0</td>\n      <td>C</td>\n      <td>-0.599539</td>\n      <td>0.0</td>\n      <td>1.0</td>\n      <td>NaN</td>\n      <td>NaN</td>\n      <td>1JHC</td>\n    </tr>\n    <tr>\n      <th>2</th>\n      <td>4658149</td>\n      <td>dsgdb9nsd_000004</td>\n      <td>2</td>\n      <td>3</td>\n      <td>H</td>\n      <td>-1.661639</td>\n      <td>0.0</td>\n      <td>1.0</td>\n      <td>H</td>\n      <td>1.661639</td>\n      <td>0.0</td>\n      <td>1.0</td>\n      <td>NaN</td>\n      <td>NaN</td>\n      <td>3JHH</td>\n    </tr>\n    <tr>\n      <th>3</th>\n      <td>4658150</td>\n      <td>dsgdb9nsd_000004</td>\n      <td>3</td>\n      <td>0</td>\n      <td>H</td>\n      <td>1.661639</td>\n      <td>0.0</td>\n      <td>1.0</td>\n      <td>C</td>\n      <td>0.599539</td>\n      <td>0.0</td>\n      <td>1.0</td>\n      <td>NaN</td>\n      <td>NaN</td>\n      <td>1JHC</td>\n    </tr>\n    <tr>\n      <th>4</th>\n      <td>4658151</td>\n      <td>dsgdb9nsd_000004</td>\n      <td>3</td>\n      <td>1</td>\n      <td>H</td>\n      <td>1.661639</td>\n      <td>0.0</td>\n      <td>1.0</td>\n      <td>C</td>\n      <td>-0.599539</td>\n      <td>0.0</td>\n      <td>1.0</td>\n      <td>NaN</td>\n      <td>NaN</td>\n      <td>2JHC</td>\n    </tr>\n  </tbody>\n</table>\n</div>", 
                        "text/plain": "        id     molecule_name  atom_index_0  atom_index_1 atom_0       x_0  \\\n0  4658147  dsgdb9nsd_000004             2             0      H -1.661639   \n1  4658148  dsgdb9nsd_000004             2             1      H -1.661639   \n2  4658149  dsgdb9nsd_000004             2             3      H -1.661639   \n3  4658150  dsgdb9nsd_000004             3             0      H  1.661639   \n4  4658151  dsgdb9nsd_000004             3             1      H  1.661639   \n\n   y_0  z_0 atom_1       x_1  y_1  z_1  mulliken_charge_0  mulliken_charge_1  \\\n0  0.0  1.0      C  0.599539  0.0  1.0                NaN                NaN   \n1  0.0  1.0      C -0.599539  0.0  1.0                NaN                NaN   \n2  0.0  1.0      H  1.661639  0.0  1.0                NaN                NaN   \n3  0.0  1.0      C  0.599539  0.0  1.0                NaN                NaN   \n4  0.0  1.0      C -0.599539  0.0  1.0                NaN                NaN   \n\n   type  \n0  2JHC  \n1  1JHC  \n2  3JHH  \n3  1JHC  \n4  2JHC  "
                    }, 
                    "output_type": "execute_result"
                }
            ], 
            "source": "test.head()"
        }, 
        {
            "execution_count": 10, 
            "cell_type": "code", 
            "metadata": {}, 
            "outputs": [
                {
                    "execution_count": 10, 
                    "metadata": {}, 
                    "data": {
                        "text/html": "<div>\n<style scoped>\n    .dataframe tbody tr th:only-of-type {\n        vertical-align: middle;\n    }\n\n    .dataframe tbody tr th {\n        vertical-align: top;\n    }\n\n    .dataframe thead th {\n        text-align: right;\n    }\n</style>\n<table border=\"1\" class=\"dataframe\">\n  <thead>\n    <tr style=\"text-align: right;\">\n      <th></th>\n      <th>count</th>\n      <th>unique</th>\n      <th>top</th>\n      <th>freq</th>\n      <th>mean</th>\n      <th>std</th>\n      <th>min</th>\n      <th>25%</th>\n      <th>50%</th>\n      <th>75%</th>\n      <th>max</th>\n    </tr>\n  </thead>\n  <tbody>\n    <tr>\n      <th>id</th>\n      <td>4.65815e+06</td>\n      <td>NaN</td>\n      <td>NaN</td>\n      <td>NaN</td>\n      <td>2.32907e+06</td>\n      <td>1.34469e+06</td>\n      <td>0</td>\n      <td>1.16454e+06</td>\n      <td>2.32907e+06</td>\n      <td>3.49361e+06</td>\n      <td>4.65815e+06</td>\n    </tr>\n    <tr>\n      <th>molecule_name</th>\n      <td>4658147</td>\n      <td>85003</td>\n      <td>dsgdb9nsd_042139</td>\n      <td>135</td>\n      <td>NaN</td>\n      <td>NaN</td>\n      <td>NaN</td>\n      <td>NaN</td>\n      <td>NaN</td>\n      <td>NaN</td>\n      <td>NaN</td>\n    </tr>\n    <tr>\n      <th>atom_index_0</th>\n      <td>4.65815e+06</td>\n      <td>NaN</td>\n      <td>NaN</td>\n      <td>NaN</td>\n      <td>13.3569</td>\n      <td>3.26771</td>\n      <td>0</td>\n      <td>11</td>\n      <td>13</td>\n      <td>16</td>\n      <td>28</td>\n    </tr>\n    <tr>\n      <th>atom_index_1</th>\n      <td>4.65815e+06</td>\n      <td>NaN</td>\n      <td>NaN</td>\n      <td>NaN</td>\n      <td>5.88397</td>\n      <td>4.99394</td>\n      <td>0</td>\n      <td>2</td>\n      <td>5</td>\n      <td>8</td>\n      <td>28</td>\n    </tr>\n    <tr>\n      <th>atom_0</th>\n      <td>4658147</td>\n      <td>1</td>\n      <td>H</td>\n      <td>4658147</td>\n      <td>NaN</td>\n      <td>NaN</td>\n      <td>NaN</td>\n      <td>NaN</td>\n      <td>NaN</td>\n      <td>NaN</td>\n      <td>NaN</td>\n    </tr>\n    <tr>\n      <th>x_0</th>\n      <td>4.65815e+06</td>\n      <td>NaN</td>\n      <td>NaN</td>\n      <td>NaN</td>\n      <td>0.105878</td>\n      <td>1.75987</td>\n      <td>-9.23489</td>\n      <td>-0.953092</td>\n      <td>0.134121</td>\n      <td>1.22775</td>\n      <td>9.38224</td>\n    </tr>\n    <tr>\n      <th>y_0</th>\n      <td>4.65815e+06</td>\n      <td>NaN</td>\n      <td>NaN</td>\n      <td>NaN</td>\n      <td>-0.220369</td>\n      <td>2.12179</td>\n      <td>-9.49416</td>\n      <td>-1.83697</td>\n      <td>-0.297994</td>\n      <td>1.75342</td>\n      <td>9.71447</td>\n    </tr>\n    <tr>\n      <th>z_0</th>\n      <td>4.65815e+06</td>\n      <td>NaN</td>\n      <td>NaN</td>\n      <td>NaN</td>\n      <td>0.0471289</td>\n      <td>1.56451</td>\n      <td>-9.13476</td>\n      <td>-0.964213</td>\n      <td>0.00497289</td>\n      <td>1.0351</td>\n      <td>7.63758</td>\n    </tr>\n    <tr>\n      <th>atom_1</th>\n      <td>4658147</td>\n      <td>3</td>\n      <td>C</td>\n      <td>3360469</td>\n      <td>NaN</td>\n      <td>NaN</td>\n      <td>NaN</td>\n      <td>NaN</td>\n      <td>NaN</td>\n      <td>NaN</td>\n      <td>NaN</td>\n    </tr>\n    <tr>\n      <th>x_1</th>\n      <td>4.65815e+06</td>\n      <td>NaN</td>\n      <td>NaN</td>\n      <td>NaN</td>\n      <td>0.0975718</td>\n      <td>1.47942</td>\n      <td>-9.23489</td>\n      <td>-0.79276</td>\n      <td>0.0466042</td>\n      <td>0.968224</td>\n      <td>8.42089</td>\n    </tr>\n    <tr>\n      <th>y_1</th>\n      <td>4.65815e+06</td>\n      <td>NaN</td>\n      <td>NaN</td>\n      <td>NaN</td>\n      <td>-0.395629</td>\n      <td>1.7672</td>\n      <td>-9.25441</td>\n      <td>-1.60757</td>\n      <td>-0.508191</td>\n      <td>0.288233</td>\n      <td>8.65366</td>\n    </tr>\n    <tr>\n      <th>z_1</th>\n      <td>4.65815e+06</td>\n      <td>NaN</td>\n      <td>NaN</td>\n      <td>NaN</td>\n      <td>0.0776826</td>\n      <td>1.25591</td>\n      <td>-8.78913</td>\n      <td>-0.669634</td>\n      <td>0.0154976</td>\n      <td>0.892613</td>\n      <td>7.46022</td>\n    </tr>\n    <tr>\n      <th>mulliken_charge_0</th>\n      <td>4.65815e+06</td>\n      <td>NaN</td>\n      <td>NaN</td>\n      <td>NaN</td>\n      <td>0.12211</td>\n      <td>0.0447492</td>\n      <td>-0.030867</td>\n      <td>0.098397</td>\n      <td>0.113503</td>\n      <td>0.12879</td>\n      <td>0.403094</td>\n    </tr>\n    <tr>\n      <th>mulliken_charge_1</th>\n      <td>4.65815e+06</td>\n      <td>NaN</td>\n      <td>NaN</td>\n      <td>NaN</td>\n      <td>-0.0412887</td>\n      <td>0.240268</td>\n      <td>-0.73345</td>\n      <td>-0.236281</td>\n      <td>-0.039839</td>\n      <td>0.118601</td>\n      <td>0.638614</td>\n    </tr>\n    <tr>\n      <th>type</th>\n      <td>4658147</td>\n      <td>8</td>\n      <td>3JHC</td>\n      <td>1510379</td>\n      <td>NaN</td>\n      <td>NaN</td>\n      <td>NaN</td>\n      <td>NaN</td>\n      <td>NaN</td>\n      <td>NaN</td>\n      <td>NaN</td>\n    </tr>\n    <tr>\n      <th>scalar_coupling_constant</th>\n      <td>4.65815e+06</td>\n      <td>NaN</td>\n      <td>NaN</td>\n      <td>NaN</td>\n      <td>15.9216</td>\n      <td>34.942</td>\n      <td>-36.2186</td>\n      <td>-0.254978</td>\n      <td>2.28113</td>\n      <td>7.39065</td>\n      <td>204.88</td>\n    </tr>\n  </tbody>\n</table>\n</div>", 
                        "text/plain": "                                count unique               top     freq  \\\nid                        4.65815e+06    NaN               NaN      NaN   \nmolecule_name                 4658147  85003  dsgdb9nsd_042139      135   \natom_index_0              4.65815e+06    NaN               NaN      NaN   \natom_index_1              4.65815e+06    NaN               NaN      NaN   \natom_0                        4658147      1                 H  4658147   \nx_0                       4.65815e+06    NaN               NaN      NaN   \ny_0                       4.65815e+06    NaN               NaN      NaN   \nz_0                       4.65815e+06    NaN               NaN      NaN   \natom_1                        4658147      3                 C  3360469   \nx_1                       4.65815e+06    NaN               NaN      NaN   \ny_1                       4.65815e+06    NaN               NaN      NaN   \nz_1                       4.65815e+06    NaN               NaN      NaN   \nmulliken_charge_0         4.65815e+06    NaN               NaN      NaN   \nmulliken_charge_1         4.65815e+06    NaN               NaN      NaN   \ntype                          4658147      8              3JHC  1510379   \nscalar_coupling_constant  4.65815e+06    NaN               NaN      NaN   \n\n                                 mean          std       min          25%  \\\nid                        2.32907e+06  1.34469e+06         0  1.16454e+06   \nmolecule_name                     NaN          NaN       NaN          NaN   \natom_index_0                  13.3569      3.26771         0           11   \natom_index_1                  5.88397      4.99394         0            2   \natom_0                            NaN          NaN       NaN          NaN   \nx_0                          0.105878      1.75987  -9.23489    -0.953092   \ny_0                         -0.220369      2.12179  -9.49416     -1.83697   \nz_0                         0.0471289      1.56451  -9.13476    -0.964213   \natom_1                            NaN          NaN       NaN          NaN   \nx_1                         0.0975718      1.47942  -9.23489     -0.79276   \ny_1                         -0.395629       1.7672  -9.25441     -1.60757   \nz_1                         0.0776826      1.25591  -8.78913    -0.669634   \nmulliken_charge_0             0.12211    0.0447492 -0.030867     0.098397   \nmulliken_charge_1          -0.0412887     0.240268  -0.73345    -0.236281   \ntype                              NaN          NaN       NaN          NaN   \nscalar_coupling_constant      15.9216       34.942  -36.2186    -0.254978   \n\n                                  50%          75%          max  \nid                        2.32907e+06  3.49361e+06  4.65815e+06  \nmolecule_name                     NaN          NaN          NaN  \natom_index_0                       13           16           28  \natom_index_1                        5            8           28  \natom_0                            NaN          NaN          NaN  \nx_0                          0.134121      1.22775      9.38224  \ny_0                         -0.297994      1.75342      9.71447  \nz_0                        0.00497289       1.0351      7.63758  \natom_1                            NaN          NaN          NaN  \nx_1                         0.0466042     0.968224      8.42089  \ny_1                         -0.508191     0.288233      8.65366  \nz_1                         0.0154976     0.892613      7.46022  \nmulliken_charge_0            0.113503      0.12879     0.403094  \nmulliken_charge_1           -0.039839     0.118601     0.638614  \ntype                              NaN          NaN          NaN  \nscalar_coupling_constant      2.28113      7.39065       204.88  "
                    }, 
                    "output_type": "execute_result"
                }
            ], 
            "source": "train.describe(include='all').T"
        }, 
        {
            "execution_count": 11, 
            "cell_type": "code", 
            "metadata": {}, 
            "outputs": [
                {
                    "execution_count": 11, 
                    "metadata": {}, 
                    "data": {
                        "text/html": "<div>\n<style scoped>\n    .dataframe tbody tr th:only-of-type {\n        vertical-align: middle;\n    }\n\n    .dataframe tbody tr th {\n        vertical-align: top;\n    }\n\n    .dataframe thead th {\n        text-align: right;\n    }\n</style>\n<table border=\"1\" class=\"dataframe\">\n  <thead>\n    <tr style=\"text-align: right;\">\n      <th></th>\n      <th>count</th>\n      <th>unique</th>\n      <th>top</th>\n      <th>freq</th>\n      <th>mean</th>\n      <th>std</th>\n      <th>min</th>\n      <th>25%</th>\n      <th>50%</th>\n      <th>75%</th>\n      <th>max</th>\n    </tr>\n  </thead>\n  <tbody>\n    <tr>\n      <th>id</th>\n      <td>2.50554e+06</td>\n      <td>NaN</td>\n      <td>NaN</td>\n      <td>NaN</td>\n      <td>5.91092e+06</td>\n      <td>723288</td>\n      <td>4.65815e+06</td>\n      <td>5.28453e+06</td>\n      <td>5.91092e+06</td>\n      <td>6.5373e+06</td>\n      <td>7.16369e+06</td>\n    </tr>\n    <tr>\n      <th>molecule_name</th>\n      <td>2505542</td>\n      <td>45772</td>\n      <td>dsgdb9nsd_060445</td>\n      <td>131</td>\n      <td>NaN</td>\n      <td>NaN</td>\n      <td>NaN</td>\n      <td>NaN</td>\n      <td>NaN</td>\n      <td>NaN</td>\n      <td>NaN</td>\n    </tr>\n    <tr>\n      <th>atom_index_0</th>\n      <td>2.50554e+06</td>\n      <td>NaN</td>\n      <td>NaN</td>\n      <td>NaN</td>\n      <td>13.3545</td>\n      <td>3.27221</td>\n      <td>1</td>\n      <td>11</td>\n      <td>13</td>\n      <td>16</td>\n      <td>28</td>\n    </tr>\n    <tr>\n      <th>atom_index_1</th>\n      <td>2.50554e+06</td>\n      <td>NaN</td>\n      <td>NaN</td>\n      <td>NaN</td>\n      <td>5.87795</td>\n      <td>4.99231</td>\n      <td>0</td>\n      <td>2</td>\n      <td>5</td>\n      <td>8</td>\n      <td>28</td>\n    </tr>\n    <tr>\n      <th>atom_0</th>\n      <td>2505542</td>\n      <td>1</td>\n      <td>H</td>\n      <td>2505542</td>\n      <td>NaN</td>\n      <td>NaN</td>\n      <td>NaN</td>\n      <td>NaN</td>\n      <td>NaN</td>\n      <td>NaN</td>\n      <td>NaN</td>\n    </tr>\n    <tr>\n      <th>x_0</th>\n      <td>2.50554e+06</td>\n      <td>NaN</td>\n      <td>NaN</td>\n      <td>NaN</td>\n      <td>0.111877</td>\n      <td>1.75132</td>\n      <td>-8.35577</td>\n      <td>-0.946371</td>\n      <td>0.139294</td>\n      <td>1.22997</td>\n      <td>9.15701</td>\n    </tr>\n    <tr>\n      <th>y_0</th>\n      <td>2.50554e+06</td>\n      <td>NaN</td>\n      <td>NaN</td>\n      <td>NaN</td>\n      <td>-0.223317</td>\n      <td>2.1128</td>\n      <td>-9.93394</td>\n      <td>-1.83265</td>\n      <td>-0.300268</td>\n      <td>1.74771</td>\n      <td>10.182</td>\n    </tr>\n    <tr>\n      <th>z_0</th>\n      <td>2.50554e+06</td>\n      <td>NaN</td>\n      <td>NaN</td>\n      <td>NaN</td>\n      <td>0.0532973</td>\n      <td>1.56707</td>\n      <td>-7.82342</td>\n      <td>-0.960673</td>\n      <td>0.00780067</td>\n      <td>1.04035</td>\n      <td>7.89473</td>\n    </tr>\n    <tr>\n      <th>atom_1</th>\n      <td>2505542</td>\n      <td>3</td>\n      <td>C</td>\n      <td>1805746</td>\n      <td>NaN</td>\n      <td>NaN</td>\n      <td>NaN</td>\n      <td>NaN</td>\n      <td>NaN</td>\n      <td>NaN</td>\n      <td>NaN</td>\n    </tr>\n    <tr>\n      <th>x_1</th>\n      <td>2.50554e+06</td>\n      <td>NaN</td>\n      <td>NaN</td>\n      <td>NaN</td>\n      <td>0.102163</td>\n      <td>1.4705</td>\n      <td>-8.35577</td>\n      <td>-0.775903</td>\n      <td>0.0472481</td>\n      <td>0.968822</td>\n      <td>8.18919</td>\n    </tr>\n    <tr>\n      <th>y_1</th>\n      <td>2.50554e+06</td>\n      <td>NaN</td>\n      <td>NaN</td>\n      <td>NaN</td>\n      <td>-0.398015</td>\n      <td>1.7556</td>\n      <td>-8.8722</td>\n      <td>-1.59286</td>\n      <td>-0.508021</td>\n      <td>0.26829</td>\n      <td>9.12042</td>\n    </tr>\n    <tr>\n      <th>z_1</th>\n      <td>2.50554e+06</td>\n      <td>NaN</td>\n      <td>NaN</td>\n      <td>NaN</td>\n      <td>0.0843158</td>\n      <td>1.25753</td>\n      <td>-7.82342</td>\n      <td>-0.654619</td>\n      <td>0.0170123</td>\n      <td>0.900107</td>\n      <td>7.89473</td>\n    </tr>\n    <tr>\n      <th>mulliken_charge_0</th>\n      <td>0</td>\n      <td>NaN</td>\n      <td>NaN</td>\n      <td>NaN</td>\n      <td>NaN</td>\n      <td>NaN</td>\n      <td>NaN</td>\n      <td>NaN</td>\n      <td>NaN</td>\n      <td>NaN</td>\n      <td>NaN</td>\n    </tr>\n    <tr>\n      <th>mulliken_charge_1</th>\n      <td>0</td>\n      <td>NaN</td>\n      <td>NaN</td>\n      <td>NaN</td>\n      <td>NaN</td>\n      <td>NaN</td>\n      <td>NaN</td>\n      <td>NaN</td>\n      <td>NaN</td>\n      <td>NaN</td>\n      <td>NaN</td>\n    </tr>\n    <tr>\n      <th>type</th>\n      <td>2505542</td>\n      <td>8</td>\n      <td>3JHC</td>\n      <td>811999</td>\n      <td>NaN</td>\n      <td>NaN</td>\n      <td>NaN</td>\n      <td>NaN</td>\n      <td>NaN</td>\n      <td>NaN</td>\n      <td>NaN</td>\n    </tr>\n  </tbody>\n</table>\n</div>", 
                        "text/plain": "                         count unique               top     freq         mean  \\\nid                 2.50554e+06    NaN               NaN      NaN  5.91092e+06   \nmolecule_name          2505542  45772  dsgdb9nsd_060445      131          NaN   \natom_index_0       2.50554e+06    NaN               NaN      NaN      13.3545   \natom_index_1       2.50554e+06    NaN               NaN      NaN      5.87795   \natom_0                 2505542      1                 H  2505542          NaN   \nx_0                2.50554e+06    NaN               NaN      NaN     0.111877   \ny_0                2.50554e+06    NaN               NaN      NaN    -0.223317   \nz_0                2.50554e+06    NaN               NaN      NaN    0.0532973   \natom_1                 2505542      3                 C  1805746          NaN   \nx_1                2.50554e+06    NaN               NaN      NaN     0.102163   \ny_1                2.50554e+06    NaN               NaN      NaN    -0.398015   \nz_1                2.50554e+06    NaN               NaN      NaN    0.0843158   \nmulliken_charge_0            0    NaN               NaN      NaN          NaN   \nmulliken_charge_1            0    NaN               NaN      NaN          NaN   \ntype                   2505542      8              3JHC   811999          NaN   \n\n                       std          min          25%          50%         75%  \\\nid                  723288  4.65815e+06  5.28453e+06  5.91092e+06  6.5373e+06   \nmolecule_name          NaN          NaN          NaN          NaN         NaN   \natom_index_0       3.27221            1           11           13          16   \natom_index_1       4.99231            0            2            5           8   \natom_0                 NaN          NaN          NaN          NaN         NaN   \nx_0                1.75132     -8.35577    -0.946371     0.139294     1.22997   \ny_0                 2.1128     -9.93394     -1.83265    -0.300268     1.74771   \nz_0                1.56707     -7.82342    -0.960673   0.00780067     1.04035   \natom_1                 NaN          NaN          NaN          NaN         NaN   \nx_1                 1.4705     -8.35577    -0.775903    0.0472481    0.968822   \ny_1                 1.7556      -8.8722     -1.59286    -0.508021     0.26829   \nz_1                1.25753     -7.82342    -0.654619    0.0170123    0.900107   \nmulliken_charge_0      NaN          NaN          NaN          NaN         NaN   \nmulliken_charge_1      NaN          NaN          NaN          NaN         NaN   \ntype                   NaN          NaN          NaN          NaN         NaN   \n\n                           max  \nid                 7.16369e+06  \nmolecule_name              NaN  \natom_index_0                28  \natom_index_1                28  \natom_0                     NaN  \nx_0                    9.15701  \ny_0                     10.182  \nz_0                    7.89473  \natom_1                     NaN  \nx_1                    8.18919  \ny_1                    9.12042  \nz_1                    7.89473  \nmulliken_charge_0          NaN  \nmulliken_charge_1          NaN  \ntype                       NaN  "
                    }, 
                    "output_type": "execute_result"
                }
            ], 
            "source": "test.describe(include='all').T"
        }, 
        {
            "source": "# Feature Engineering (train)", 
            "cell_type": "markdown", 
            "metadata": {}
        }, 
        {
            "source": "## Euclidian Distance", 
            "cell_type": "markdown", 
            "metadata": {}
        }, 
        {
            "execution_count": 13, 
            "cell_type": "code", 
            "metadata": {}, 
            "outputs": [], 
            "source": "def get_distance(df):\n    return np.sqrt(np.square(df['x_0']-df['x_1'])+np.square(df['y_0']-df['y_1'])+np.square(df['z_0']-df['z_1']))"
        }, 
        {
            "execution_count": 14, 
            "cell_type": "code", 
            "metadata": {}, 
            "outputs": [
                {
                    "execution_count": 14, 
                    "metadata": {}, 
                    "data": {
                        "text/html": "<div>\n<style scoped>\n    .dataframe tbody tr th:only-of-type {\n        vertical-align: middle;\n    }\n\n    .dataframe tbody tr th {\n        vertical-align: top;\n    }\n\n    .dataframe thead th {\n        text-align: right;\n    }\n</style>\n<table border=\"1\" class=\"dataframe\">\n  <thead>\n    <tr style=\"text-align: right;\">\n      <th></th>\n      <th>id</th>\n      <th>molecule_name</th>\n      <th>atom_index_0</th>\n      <th>atom_index_1</th>\n      <th>atom_0</th>\n      <th>x_0</th>\n      <th>y_0</th>\n      <th>z_0</th>\n      <th>atom_1</th>\n      <th>x_1</th>\n      <th>y_1</th>\n      <th>z_1</th>\n      <th>mulliken_charge_0</th>\n      <th>mulliken_charge_1</th>\n      <th>type</th>\n      <th>scalar_coupling_constant</th>\n      <th>distance</th>\n    </tr>\n  </thead>\n  <tbody>\n    <tr>\n      <th>0</th>\n      <td>0</td>\n      <td>dsgdb9nsd_000001</td>\n      <td>1</td>\n      <td>0</td>\n      <td>H</td>\n      <td>0.002150</td>\n      <td>-0.006031</td>\n      <td>0.001976</td>\n      <td>C</td>\n      <td>-0.012698</td>\n      <td>1.085804</td>\n      <td>0.008001</td>\n      <td>0.133921</td>\n      <td>-0.535689</td>\n      <td>1JHC</td>\n      <td>84.8076</td>\n      <td>1.091953</td>\n    </tr>\n    <tr>\n      <th>1</th>\n      <td>1</td>\n      <td>dsgdb9nsd_000001</td>\n      <td>1</td>\n      <td>2</td>\n      <td>H</td>\n      <td>0.002150</td>\n      <td>-0.006031</td>\n      <td>0.001976</td>\n      <td>H</td>\n      <td>1.011731</td>\n      <td>1.463751</td>\n      <td>0.000277</td>\n      <td>0.133921</td>\n      <td>0.133922</td>\n      <td>2JHH</td>\n      <td>-11.2570</td>\n      <td>1.783120</td>\n    </tr>\n    <tr>\n      <th>2</th>\n      <td>2</td>\n      <td>dsgdb9nsd_000001</td>\n      <td>1</td>\n      <td>3</td>\n      <td>H</td>\n      <td>0.002150</td>\n      <td>-0.006031</td>\n      <td>0.001976</td>\n      <td>H</td>\n      <td>-0.540815</td>\n      <td>1.447527</td>\n      <td>-0.876644</td>\n      <td>0.133921</td>\n      <td>0.133923</td>\n      <td>2JHH</td>\n      <td>-11.2548</td>\n      <td>1.783147</td>\n    </tr>\n    <tr>\n      <th>3</th>\n      <td>3</td>\n      <td>dsgdb9nsd_000001</td>\n      <td>1</td>\n      <td>4</td>\n      <td>H</td>\n      <td>0.002150</td>\n      <td>-0.006031</td>\n      <td>0.001976</td>\n      <td>H</td>\n      <td>-0.523814</td>\n      <td>1.437933</td>\n      <td>0.906397</td>\n      <td>0.133921</td>\n      <td>0.133923</td>\n      <td>2JHH</td>\n      <td>-11.2543</td>\n      <td>1.783157</td>\n    </tr>\n    <tr>\n      <th>4</th>\n      <td>4</td>\n      <td>dsgdb9nsd_000001</td>\n      <td>2</td>\n      <td>0</td>\n      <td>H</td>\n      <td>1.011731</td>\n      <td>1.463751</td>\n      <td>0.000277</td>\n      <td>C</td>\n      <td>-0.012698</td>\n      <td>1.085804</td>\n      <td>0.008001</td>\n      <td>0.133922</td>\n      <td>-0.535689</td>\n      <td>1JHC</td>\n      <td>84.8074</td>\n      <td>1.091952</td>\n    </tr>\n  </tbody>\n</table>\n</div>", 
                        "text/plain": "   id     molecule_name  atom_index_0  atom_index_1 atom_0       x_0  \\\n0   0  dsgdb9nsd_000001             1             0      H  0.002150   \n1   1  dsgdb9nsd_000001             1             2      H  0.002150   \n2   2  dsgdb9nsd_000001             1             3      H  0.002150   \n3   3  dsgdb9nsd_000001             1             4      H  0.002150   \n4   4  dsgdb9nsd_000001             2             0      H  1.011731   \n\n        y_0       z_0 atom_1       x_1       y_1       z_1  mulliken_charge_0  \\\n0 -0.006031  0.001976      C -0.012698  1.085804  0.008001           0.133921   \n1 -0.006031  0.001976      H  1.011731  1.463751  0.000277           0.133921   \n2 -0.006031  0.001976      H -0.540815  1.447527 -0.876644           0.133921   \n3 -0.006031  0.001976      H -0.523814  1.437933  0.906397           0.133921   \n4  1.463751  0.000277      C -0.012698  1.085804  0.008001           0.133922   \n\n   mulliken_charge_1  type  scalar_coupling_constant  distance  \n0          -0.535689  1JHC                   84.8076  1.091953  \n1           0.133922  2JHH                  -11.2570  1.783120  \n2           0.133923  2JHH                  -11.2548  1.783147  \n3           0.133923  2JHH                  -11.2543  1.783157  \n4          -0.535689  1JHC                   84.8074  1.091952  "
                    }, 
                    "output_type": "execute_result"
                }
            ], 
            "source": "train['distance']=train.apply(get_distance,axis=1)\ntrain.head()"
        }, 
        {
            "source": "## one-hot  encode atom names\n(Not neccessary)", 
            "cell_type": "markdown", 
            "metadata": {}
        }, 
        {
            "execution_count": 14, 
            "cell_type": "code", 
            "metadata": {}, 
            "outputs": [], 
            "source": "#train=train.join(pd.get_dummies(train['atom_0'],prefix='atom_0'))\n#train.head()"
        }, 
        {
            "execution_count": 15, 
            "cell_type": "code", 
            "metadata": {}, 
            "outputs": [], 
            "source": "#train=train.join(pd.get_dummies(train['atom_1'],prefix='atom_1'))\n#train.head()"
        }, 
        {
            "source": "## Label Encode type", 
            "cell_type": "markdown", 
            "metadata": {}
        }, 
        {
            "execution_count": 20, 
            "cell_type": "code", 
            "metadata": {}, 
            "outputs": [], 
            "source": "from sklearn.preprocessing import LabelEncoder\nle_type=LabelEncoder()\ntrain['type_enc']=le_type.fit_transform(train['type'])"
        }, 
        {
            "execution_count": 21, 
            "cell_type": "code", 
            "metadata": {}, 
            "outputs": [
                {
                    "execution_count": 21, 
                    "metadata": {}, 
                    "data": {
                        "text/html": "<div>\n<style scoped>\n    .dataframe tbody tr th:only-of-type {\n        vertical-align: middle;\n    }\n\n    .dataframe tbody tr th {\n        vertical-align: top;\n    }\n\n    .dataframe thead th {\n        text-align: right;\n    }\n</style>\n<table border=\"1\" class=\"dataframe\">\n  <thead>\n    <tr style=\"text-align: right;\">\n      <th></th>\n      <th>id</th>\n      <th>molecule_name</th>\n      <th>atom_index_0</th>\n      <th>atom_index_1</th>\n      <th>atom_0</th>\n      <th>x_0</th>\n      <th>y_0</th>\n      <th>z_0</th>\n      <th>atom_1</th>\n      <th>x_1</th>\n      <th>y_1</th>\n      <th>z_1</th>\n      <th>mulliken_charge_0</th>\n      <th>mulliken_charge_1</th>\n      <th>type</th>\n      <th>scalar_coupling_constant</th>\n      <th>distance</th>\n      <th>type_enc</th>\n    </tr>\n  </thead>\n  <tbody>\n    <tr>\n      <th>0</th>\n      <td>0</td>\n      <td>dsgdb9nsd_000001</td>\n      <td>1</td>\n      <td>0</td>\n      <td>H</td>\n      <td>0.002150</td>\n      <td>-0.006031</td>\n      <td>0.001976</td>\n      <td>C</td>\n      <td>-0.012698</td>\n      <td>1.085804</td>\n      <td>0.008001</td>\n      <td>0.133921</td>\n      <td>-0.535689</td>\n      <td>1JHC</td>\n      <td>84.8076</td>\n      <td>1.091953</td>\n      <td>0</td>\n    </tr>\n    <tr>\n      <th>1</th>\n      <td>1</td>\n      <td>dsgdb9nsd_000001</td>\n      <td>1</td>\n      <td>2</td>\n      <td>H</td>\n      <td>0.002150</td>\n      <td>-0.006031</td>\n      <td>0.001976</td>\n      <td>H</td>\n      <td>1.011731</td>\n      <td>1.463751</td>\n      <td>0.000277</td>\n      <td>0.133921</td>\n      <td>0.133922</td>\n      <td>2JHH</td>\n      <td>-11.2570</td>\n      <td>1.783120</td>\n      <td>3</td>\n    </tr>\n    <tr>\n      <th>2</th>\n      <td>2</td>\n      <td>dsgdb9nsd_000001</td>\n      <td>1</td>\n      <td>3</td>\n      <td>H</td>\n      <td>0.002150</td>\n      <td>-0.006031</td>\n      <td>0.001976</td>\n      <td>H</td>\n      <td>-0.540815</td>\n      <td>1.447527</td>\n      <td>-0.876644</td>\n      <td>0.133921</td>\n      <td>0.133923</td>\n      <td>2JHH</td>\n      <td>-11.2548</td>\n      <td>1.783147</td>\n      <td>3</td>\n    </tr>\n    <tr>\n      <th>3</th>\n      <td>3</td>\n      <td>dsgdb9nsd_000001</td>\n      <td>1</td>\n      <td>4</td>\n      <td>H</td>\n      <td>0.002150</td>\n      <td>-0.006031</td>\n      <td>0.001976</td>\n      <td>H</td>\n      <td>-0.523814</td>\n      <td>1.437933</td>\n      <td>0.906397</td>\n      <td>0.133921</td>\n      <td>0.133923</td>\n      <td>2JHH</td>\n      <td>-11.2543</td>\n      <td>1.783157</td>\n      <td>3</td>\n    </tr>\n    <tr>\n      <th>4</th>\n      <td>4</td>\n      <td>dsgdb9nsd_000001</td>\n      <td>2</td>\n      <td>0</td>\n      <td>H</td>\n      <td>1.011731</td>\n      <td>1.463751</td>\n      <td>0.000277</td>\n      <td>C</td>\n      <td>-0.012698</td>\n      <td>1.085804</td>\n      <td>0.008001</td>\n      <td>0.133922</td>\n      <td>-0.535689</td>\n      <td>1JHC</td>\n      <td>84.8074</td>\n      <td>1.091952</td>\n      <td>0</td>\n    </tr>\n  </tbody>\n</table>\n</div>", 
                        "text/plain": "   id     molecule_name  atom_index_0  atom_index_1 atom_0       x_0  \\\n0   0  dsgdb9nsd_000001             1             0      H  0.002150   \n1   1  dsgdb9nsd_000001             1             2      H  0.002150   \n2   2  dsgdb9nsd_000001             1             3      H  0.002150   \n3   3  dsgdb9nsd_000001             1             4      H  0.002150   \n4   4  dsgdb9nsd_000001             2             0      H  1.011731   \n\n        y_0       z_0 atom_1       x_1       y_1       z_1  mulliken_charge_0  \\\n0 -0.006031  0.001976      C -0.012698  1.085804  0.008001           0.133921   \n1 -0.006031  0.001976      H  1.011731  1.463751  0.000277           0.133921   \n2 -0.006031  0.001976      H -0.540815  1.447527 -0.876644           0.133921   \n3 -0.006031  0.001976      H -0.523814  1.437933  0.906397           0.133921   \n4  1.463751  0.000277      C -0.012698  1.085804  0.008001           0.133922   \n\n   mulliken_charge_1  type  scalar_coupling_constant  distance  type_enc  \n0          -0.535689  1JHC                   84.8076  1.091953         0  \n1           0.133922  2JHH                  -11.2570  1.783120         3  \n2           0.133923  2JHH                  -11.2548  1.783147         3  \n3           0.133923  2JHH                  -11.2543  1.783157         3  \n4          -0.535689  1JHC                   84.8074  1.091952         0  "
                    }, 
                    "output_type": "execute_result"
                }
            ], 
            "source": "train.head()"
        }, 
        {
            "execution_count": 18, 
            "cell_type": "code", 
            "metadata": {}, 
            "outputs": [
                {
                    "execution_count": 18, 
                    "metadata": {}, 
                    "data": {
                        "text/plain": "id                         -0.006968\natom_index_0                0.018839\natom_index_1               -0.218989\nx_0                        -0.006015\ny_0                        -0.013119\nz_0                         0.004807\nx_1                         0.005132\ny_1                         0.021189\nz_1                        -0.007792\nmulliken_charge_0          -0.025444\nmulliken_charge_1          -0.360745\nscalar_coupling_constant    1.000000\ndistance                   -0.668663\ntype_enc                   -0.641988\nName: scalar_coupling_constant, dtype: float64"
                    }, 
                    "output_type": "execute_result"
                }, 
                {
                    "execution_count": 18, 
                    "metadata": {}, 
                    "data": {
                        "text/plain": "id                         -0.006968\natom_index_0                0.018839\natom_index_1               -0.218989\nx_0                        -0.006015\ny_0                        -0.013119\nz_0                         0.004807\nx_1                         0.005132\ny_1                         0.021189\nz_1                        -0.007792\nmulliken_charge_0          -0.025444\nmulliken_charge_1          -0.360745\nscalar_coupling_constant    1.000000\ndistance                   -0.668663\ntype_enc                   -0.641988\nName: scalar_coupling_constant, dtype: float64"
                    }, 
                    "output_type": "execute_result"
                }
            ], 
            "source": "train.corr().loc['scalar_coupling_constant']"
        }, 
        {
            "source": "## Pairs", 
            "cell_type": "markdown", 
            "metadata": {}
        }, 
        {
            "execution_count": 19, 
            "cell_type": "code", 
            "metadata": {}, 
            "outputs": [], 
            "source": "train['pairs']=(train['atom_0']+'_'+train['atom_1']).apply(lambda x:x.split('_')).apply(sorted).apply(lambda x:'_'.join(x)).apply(str.lower)"
        }, 
        {
            "execution_count": 20, 
            "cell_type": "code", 
            "metadata": {}, 
            "outputs": [
                {
                    "execution_count": 20, 
                    "metadata": {}, 
                    "data": {
                        "text/html": "<div>\n<style scoped>\n    .dataframe tbody tr th:only-of-type {\n        vertical-align: middle;\n    }\n\n    .dataframe tbody tr th {\n        vertical-align: top;\n    }\n\n    .dataframe thead th {\n        text-align: right;\n    }\n</style>\n<table border=\"1\" class=\"dataframe\">\n  <thead>\n    <tr style=\"text-align: right;\">\n      <th></th>\n      <th>id</th>\n      <th>molecule_name</th>\n      <th>atom_index_0</th>\n      <th>atom_index_1</th>\n      <th>atom_0</th>\n      <th>x_0</th>\n      <th>y_0</th>\n      <th>z_0</th>\n      <th>atom_1</th>\n      <th>x_1</th>\n      <th>y_1</th>\n      <th>z_1</th>\n      <th>mulliken_charge_0</th>\n      <th>mulliken_charge_1</th>\n      <th>type</th>\n      <th>scalar_coupling_constant</th>\n      <th>distance</th>\n      <th>type_enc</th>\n      <th>pairs</th>\n    </tr>\n  </thead>\n  <tbody>\n    <tr>\n      <th>0</th>\n      <td>0</td>\n      <td>dsgdb9nsd_000001</td>\n      <td>1</td>\n      <td>0</td>\n      <td>H</td>\n      <td>0.002150</td>\n      <td>-0.006031</td>\n      <td>0.001976</td>\n      <td>C</td>\n      <td>-0.012698</td>\n      <td>1.085804</td>\n      <td>0.008001</td>\n      <td>0.133921</td>\n      <td>-0.535689</td>\n      <td>1JHC</td>\n      <td>84.8076</td>\n      <td>1.091953</td>\n      <td>0</td>\n      <td>c_h</td>\n    </tr>\n    <tr>\n      <th>1</th>\n      <td>1</td>\n      <td>dsgdb9nsd_000001</td>\n      <td>1</td>\n      <td>2</td>\n      <td>H</td>\n      <td>0.002150</td>\n      <td>-0.006031</td>\n      <td>0.001976</td>\n      <td>H</td>\n      <td>1.011731</td>\n      <td>1.463751</td>\n      <td>0.000277</td>\n      <td>0.133921</td>\n      <td>0.133922</td>\n      <td>2JHH</td>\n      <td>-11.2570</td>\n      <td>1.783120</td>\n      <td>3</td>\n      <td>h_h</td>\n    </tr>\n    <tr>\n      <th>2</th>\n      <td>2</td>\n      <td>dsgdb9nsd_000001</td>\n      <td>1</td>\n      <td>3</td>\n      <td>H</td>\n      <td>0.002150</td>\n      <td>-0.006031</td>\n      <td>0.001976</td>\n      <td>H</td>\n      <td>-0.540815</td>\n      <td>1.447527</td>\n      <td>-0.876644</td>\n      <td>0.133921</td>\n      <td>0.133923</td>\n      <td>2JHH</td>\n      <td>-11.2548</td>\n      <td>1.783147</td>\n      <td>3</td>\n      <td>h_h</td>\n    </tr>\n    <tr>\n      <th>3</th>\n      <td>3</td>\n      <td>dsgdb9nsd_000001</td>\n      <td>1</td>\n      <td>4</td>\n      <td>H</td>\n      <td>0.002150</td>\n      <td>-0.006031</td>\n      <td>0.001976</td>\n      <td>H</td>\n      <td>-0.523814</td>\n      <td>1.437933</td>\n      <td>0.906397</td>\n      <td>0.133921</td>\n      <td>0.133923</td>\n      <td>2JHH</td>\n      <td>-11.2543</td>\n      <td>1.783157</td>\n      <td>3</td>\n      <td>h_h</td>\n    </tr>\n    <tr>\n      <th>4</th>\n      <td>4</td>\n      <td>dsgdb9nsd_000001</td>\n      <td>2</td>\n      <td>0</td>\n      <td>H</td>\n      <td>1.011731</td>\n      <td>1.463751</td>\n      <td>0.000277</td>\n      <td>C</td>\n      <td>-0.012698</td>\n      <td>1.085804</td>\n      <td>0.008001</td>\n      <td>0.133922</td>\n      <td>-0.535689</td>\n      <td>1JHC</td>\n      <td>84.8074</td>\n      <td>1.091952</td>\n      <td>0</td>\n      <td>c_h</td>\n    </tr>\n  </tbody>\n</table>\n</div>", 
                        "text/plain": "   id     molecule_name  atom_index_0  atom_index_1 atom_0       x_0  \\\n0   0  dsgdb9nsd_000001             1             0      H  0.002150   \n1   1  dsgdb9nsd_000001             1             2      H  0.002150   \n2   2  dsgdb9nsd_000001             1             3      H  0.002150   \n3   3  dsgdb9nsd_000001             1             4      H  0.002150   \n4   4  dsgdb9nsd_000001             2             0      H  1.011731   \n\n        y_0       z_0 atom_1       x_1       y_1       z_1  mulliken_charge_0  \\\n0 -0.006031  0.001976      C -0.012698  1.085804  0.008001           0.133921   \n1 -0.006031  0.001976      H  1.011731  1.463751  0.000277           0.133921   \n2 -0.006031  0.001976      H -0.540815  1.447527 -0.876644           0.133921   \n3 -0.006031  0.001976      H -0.523814  1.437933  0.906397           0.133921   \n4  1.463751  0.000277      C -0.012698  1.085804  0.008001           0.133922   \n\n   mulliken_charge_1  type  scalar_coupling_constant  distance  type_enc pairs  \n0          -0.535689  1JHC                   84.8076  1.091953         0   c_h  \n1           0.133922  2JHH                  -11.2570  1.783120         3   h_h  \n2           0.133923  2JHH                  -11.2548  1.783147         3   h_h  \n3           0.133923  2JHH                  -11.2543  1.783157         3   h_h  \n4          -0.535689  1JHC                   84.8074  1.091952         0   c_h  "
                    }, 
                    "output_type": "execute_result"
                }, 
                {
                    "execution_count": 20, 
                    "metadata": {}, 
                    "data": {
                        "text/html": "<div>\n<style scoped>\n    .dataframe tbody tr th:only-of-type {\n        vertical-align: middle;\n    }\n\n    .dataframe tbody tr th {\n        vertical-align: top;\n    }\n\n    .dataframe thead th {\n        text-align: right;\n    }\n</style>\n<table border=\"1\" class=\"dataframe\">\n  <thead>\n    <tr style=\"text-align: right;\">\n      <th></th>\n      <th>id</th>\n      <th>molecule_name</th>\n      <th>atom_index_0</th>\n      <th>atom_index_1</th>\n      <th>atom_0</th>\n      <th>x_0</th>\n      <th>y_0</th>\n      <th>z_0</th>\n      <th>atom_1</th>\n      <th>x_1</th>\n      <th>y_1</th>\n      <th>z_1</th>\n      <th>mulliken_charge_0</th>\n      <th>mulliken_charge_1</th>\n      <th>type</th>\n      <th>scalar_coupling_constant</th>\n      <th>distance</th>\n      <th>type_enc</th>\n      <th>pairs</th>\n    </tr>\n  </thead>\n  <tbody>\n    <tr>\n      <th>0</th>\n      <td>0</td>\n      <td>dsgdb9nsd_000001</td>\n      <td>1</td>\n      <td>0</td>\n      <td>H</td>\n      <td>0.002150</td>\n      <td>-0.006031</td>\n      <td>0.001976</td>\n      <td>C</td>\n      <td>-0.012698</td>\n      <td>1.085804</td>\n      <td>0.008001</td>\n      <td>0.133921</td>\n      <td>-0.535689</td>\n      <td>1JHC</td>\n      <td>84.8076</td>\n      <td>1.091953</td>\n      <td>0</td>\n      <td>c_h</td>\n    </tr>\n    <tr>\n      <th>1</th>\n      <td>1</td>\n      <td>dsgdb9nsd_000001</td>\n      <td>1</td>\n      <td>2</td>\n      <td>H</td>\n      <td>0.002150</td>\n      <td>-0.006031</td>\n      <td>0.001976</td>\n      <td>H</td>\n      <td>1.011731</td>\n      <td>1.463751</td>\n      <td>0.000277</td>\n      <td>0.133921</td>\n      <td>0.133922</td>\n      <td>2JHH</td>\n      <td>-11.2570</td>\n      <td>1.783120</td>\n      <td>3</td>\n      <td>h_h</td>\n    </tr>\n    <tr>\n      <th>2</th>\n      <td>2</td>\n      <td>dsgdb9nsd_000001</td>\n      <td>1</td>\n      <td>3</td>\n      <td>H</td>\n      <td>0.002150</td>\n      <td>-0.006031</td>\n      <td>0.001976</td>\n      <td>H</td>\n      <td>-0.540815</td>\n      <td>1.447527</td>\n      <td>-0.876644</td>\n      <td>0.133921</td>\n      <td>0.133923</td>\n      <td>2JHH</td>\n      <td>-11.2548</td>\n      <td>1.783147</td>\n      <td>3</td>\n      <td>h_h</td>\n    </tr>\n    <tr>\n      <th>3</th>\n      <td>3</td>\n      <td>dsgdb9nsd_000001</td>\n      <td>1</td>\n      <td>4</td>\n      <td>H</td>\n      <td>0.002150</td>\n      <td>-0.006031</td>\n      <td>0.001976</td>\n      <td>H</td>\n      <td>-0.523814</td>\n      <td>1.437933</td>\n      <td>0.906397</td>\n      <td>0.133921</td>\n      <td>0.133923</td>\n      <td>2JHH</td>\n      <td>-11.2543</td>\n      <td>1.783157</td>\n      <td>3</td>\n      <td>h_h</td>\n    </tr>\n    <tr>\n      <th>4</th>\n      <td>4</td>\n      <td>dsgdb9nsd_000001</td>\n      <td>2</td>\n      <td>0</td>\n      <td>H</td>\n      <td>1.011731</td>\n      <td>1.463751</td>\n      <td>0.000277</td>\n      <td>C</td>\n      <td>-0.012698</td>\n      <td>1.085804</td>\n      <td>0.008001</td>\n      <td>0.133922</td>\n      <td>-0.535689</td>\n      <td>1JHC</td>\n      <td>84.8074</td>\n      <td>1.091952</td>\n      <td>0</td>\n      <td>c_h</td>\n    </tr>\n  </tbody>\n</table>\n</div>", 
                        "text/plain": "   id     molecule_name  atom_index_0  atom_index_1 atom_0       x_0  \\\n0   0  dsgdb9nsd_000001             1             0      H  0.002150   \n1   1  dsgdb9nsd_000001             1             2      H  0.002150   \n2   2  dsgdb9nsd_000001             1             3      H  0.002150   \n3   3  dsgdb9nsd_000001             1             4      H  0.002150   \n4   4  dsgdb9nsd_000001             2             0      H  1.011731   \n\n        y_0       z_0 atom_1       x_1       y_1       z_1  mulliken_charge_0  \\\n0 -0.006031  0.001976      C -0.012698  1.085804  0.008001           0.133921   \n1 -0.006031  0.001976      H  1.011731  1.463751  0.000277           0.133921   \n2 -0.006031  0.001976      H -0.540815  1.447527 -0.876644           0.133921   \n3 -0.006031  0.001976      H -0.523814  1.437933  0.906397           0.133921   \n4  1.463751  0.000277      C -0.012698  1.085804  0.008001           0.133922   \n\n   mulliken_charge_1  type  scalar_coupling_constant  distance  type_enc pairs  \n0          -0.535689  1JHC                   84.8076  1.091953         0   c_h  \n1           0.133922  2JHH                  -11.2570  1.783120         3   h_h  \n2           0.133923  2JHH                  -11.2548  1.783147         3   h_h  \n3           0.133923  2JHH                  -11.2543  1.783157         3   h_h  \n4          -0.535689  1JHC                   84.8074  1.091952         0   c_h  "
                    }, 
                    "output_type": "execute_result"
                }
            ], 
            "source": "train.head()"
        }, 
        {
            "source": "## Label Encode Pairs using dictionary", 
            "cell_type": "markdown", 
            "metadata": {}
        }, 
        {
            "execution_count": 21, 
            "cell_type": "code", 
            "metadata": {}, 
            "outputs": [
                {
                    "output_type": "stream", 
                    "name": "stdout", 
                    "text": "connectivity_model_nn_03.h5  pairs_dict.pkl  test_etl.csv  train_etl.csv\nconnectivity_model_nn_03.h5  pairs_dict.pkl  test_etl.csv  train_etl.csv\n"
                }
            ], 
            "source": "!ls"
        }, 
        {
            "execution_count": 22, 
            "cell_type": "code", 
            "metadata": {}, 
            "outputs": [], 
            "source": "with open('pairs_dict.pkl','rb') as f:\n    pairs_dict=pickle.load(f)"
        }, 
        {
            "execution_count": 23, 
            "cell_type": "code", 
            "metadata": {}, 
            "outputs": [
                {
                    "execution_count": 23, 
                    "metadata": {}, 
                    "data": {
                        "text/plain": "{'c_c': 0,\n 'c_f': 1,\n 'c_h': 2,\n 'c_n': 3,\n 'c_o': 4,\n 'c_si': 5,\n 'f_f': 6,\n 'f_h': 7,\n 'f_n': 8,\n 'f_o': 9,\n 'f_si': 10,\n 'h_h': 11,\n 'h_n': 12,\n 'h_o': 13,\n 'h_si': 14,\n 'n_n': 15,\n 'n_o': 16,\n 'o_o': 17}"
                    }, 
                    "output_type": "execute_result"
                }, 
                {
                    "execution_count": 23, 
                    "metadata": {}, 
                    "data": {
                        "text/plain": "{'c_c': 0,\n 'c_f': 1,\n 'c_h': 2,\n 'c_n': 3,\n 'c_o': 4,\n 'c_si': 5,\n 'f_f': 6,\n 'f_h': 7,\n 'f_n': 8,\n 'f_o': 9,\n 'f_si': 10,\n 'h_h': 11,\n 'h_n': 12,\n 'h_o': 13,\n 'h_si': 14,\n 'n_n': 15,\n 'n_o': 16,\n 'o_o': 17}"
                    }, 
                    "output_type": "execute_result"
                }
            ], 
            "source": "pairs_dict"
        }, 
        {
            "execution_count": 24, 
            "cell_type": "code", 
            "metadata": {}, 
            "outputs": [
                {
                    "execution_count": 24, 
                    "metadata": {}, 
                    "data": {
                        "text/plain": "array(['c_h', 'h_h', 'h_n'], dtype=object)"
                    }, 
                    "output_type": "execute_result"
                }, 
                {
                    "execution_count": 24, 
                    "metadata": {}, 
                    "data": {
                        "text/plain": "array(['c_h', 'h_h', 'h_n'], dtype=object)"
                    }, 
                    "output_type": "execute_result"
                }
            ], 
            "source": "train['pairs'].unique()"
        }, 
        {
            "execution_count": 25, 
            "cell_type": "code", 
            "metadata": {}, 
            "outputs": [], 
            "source": "train['pairs_enc']=train['pairs'].map(pairs_dict)"
        }, 
        {
            "execution_count": 26, 
            "cell_type": "code", 
            "metadata": {}, 
            "outputs": [
                {
                    "execution_count": 26, 
                    "metadata": {}, 
                    "data": {
                        "text/html": "<div>\n<style scoped>\n    .dataframe tbody tr th:only-of-type {\n        vertical-align: middle;\n    }\n\n    .dataframe tbody tr th {\n        vertical-align: top;\n    }\n\n    .dataframe thead th {\n        text-align: right;\n    }\n</style>\n<table border=\"1\" class=\"dataframe\">\n  <thead>\n    <tr style=\"text-align: right;\">\n      <th></th>\n      <th>id</th>\n      <th>molecule_name</th>\n      <th>atom_index_0</th>\n      <th>atom_index_1</th>\n      <th>atom_0</th>\n      <th>x_0</th>\n      <th>y_0</th>\n      <th>z_0</th>\n      <th>atom_1</th>\n      <th>x_1</th>\n      <th>y_1</th>\n      <th>z_1</th>\n      <th>mulliken_charge_0</th>\n      <th>mulliken_charge_1</th>\n      <th>type</th>\n      <th>scalar_coupling_constant</th>\n      <th>distance</th>\n      <th>type_enc</th>\n      <th>pairs</th>\n      <th>pairs_enc</th>\n    </tr>\n  </thead>\n  <tbody>\n    <tr>\n      <th>0</th>\n      <td>0</td>\n      <td>dsgdb9nsd_000001</td>\n      <td>1</td>\n      <td>0</td>\n      <td>H</td>\n      <td>0.002150</td>\n      <td>-0.006031</td>\n      <td>0.001976</td>\n      <td>C</td>\n      <td>-0.012698</td>\n      <td>1.085804</td>\n      <td>0.008001</td>\n      <td>0.133921</td>\n      <td>-0.535689</td>\n      <td>1JHC</td>\n      <td>84.8076</td>\n      <td>1.091953</td>\n      <td>0</td>\n      <td>c_h</td>\n      <td>2</td>\n    </tr>\n    <tr>\n      <th>1</th>\n      <td>1</td>\n      <td>dsgdb9nsd_000001</td>\n      <td>1</td>\n      <td>2</td>\n      <td>H</td>\n      <td>0.002150</td>\n      <td>-0.006031</td>\n      <td>0.001976</td>\n      <td>H</td>\n      <td>1.011731</td>\n      <td>1.463751</td>\n      <td>0.000277</td>\n      <td>0.133921</td>\n      <td>0.133922</td>\n      <td>2JHH</td>\n      <td>-11.2570</td>\n      <td>1.783120</td>\n      <td>3</td>\n      <td>h_h</td>\n      <td>11</td>\n    </tr>\n    <tr>\n      <th>2</th>\n      <td>2</td>\n      <td>dsgdb9nsd_000001</td>\n      <td>1</td>\n      <td>3</td>\n      <td>H</td>\n      <td>0.002150</td>\n      <td>-0.006031</td>\n      <td>0.001976</td>\n      <td>H</td>\n      <td>-0.540815</td>\n      <td>1.447527</td>\n      <td>-0.876644</td>\n      <td>0.133921</td>\n      <td>0.133923</td>\n      <td>2JHH</td>\n      <td>-11.2548</td>\n      <td>1.783147</td>\n      <td>3</td>\n      <td>h_h</td>\n      <td>11</td>\n    </tr>\n    <tr>\n      <th>3</th>\n      <td>3</td>\n      <td>dsgdb9nsd_000001</td>\n      <td>1</td>\n      <td>4</td>\n      <td>H</td>\n      <td>0.002150</td>\n      <td>-0.006031</td>\n      <td>0.001976</td>\n      <td>H</td>\n      <td>-0.523814</td>\n      <td>1.437933</td>\n      <td>0.906397</td>\n      <td>0.133921</td>\n      <td>0.133923</td>\n      <td>2JHH</td>\n      <td>-11.2543</td>\n      <td>1.783157</td>\n      <td>3</td>\n      <td>h_h</td>\n      <td>11</td>\n    </tr>\n    <tr>\n      <th>4</th>\n      <td>4</td>\n      <td>dsgdb9nsd_000001</td>\n      <td>2</td>\n      <td>0</td>\n      <td>H</td>\n      <td>1.011731</td>\n      <td>1.463751</td>\n      <td>0.000277</td>\n      <td>C</td>\n      <td>-0.012698</td>\n      <td>1.085804</td>\n      <td>0.008001</td>\n      <td>0.133922</td>\n      <td>-0.535689</td>\n      <td>1JHC</td>\n      <td>84.8074</td>\n      <td>1.091952</td>\n      <td>0</td>\n      <td>c_h</td>\n      <td>2</td>\n    </tr>\n  </tbody>\n</table>\n</div>", 
                        "text/plain": "   id     molecule_name  atom_index_0  atom_index_1 atom_0       x_0  \\\n0   0  dsgdb9nsd_000001             1             0      H  0.002150   \n1   1  dsgdb9nsd_000001             1             2      H  0.002150   \n2   2  dsgdb9nsd_000001             1             3      H  0.002150   \n3   3  dsgdb9nsd_000001             1             4      H  0.002150   \n4   4  dsgdb9nsd_000001             2             0      H  1.011731   \n\n        y_0       z_0 atom_1       x_1       y_1       z_1  mulliken_charge_0  \\\n0 -0.006031  0.001976      C -0.012698  1.085804  0.008001           0.133921   \n1 -0.006031  0.001976      H  1.011731  1.463751  0.000277           0.133921   \n2 -0.006031  0.001976      H -0.540815  1.447527 -0.876644           0.133921   \n3 -0.006031  0.001976      H -0.523814  1.437933  0.906397           0.133921   \n4  1.463751  0.000277      C -0.012698  1.085804  0.008001           0.133922   \n\n   mulliken_charge_1  type  scalar_coupling_constant  distance  type_enc  \\\n0          -0.535689  1JHC                   84.8076  1.091953         0   \n1           0.133922  2JHH                  -11.2570  1.783120         3   \n2           0.133923  2JHH                  -11.2548  1.783147         3   \n3           0.133923  2JHH                  -11.2543  1.783157         3   \n4          -0.535689  1JHC                   84.8074  1.091952         0   \n\n  pairs  pairs_enc  \n0   c_h          2  \n1   h_h         11  \n2   h_h         11  \n3   h_h         11  \n4   c_h          2  "
                    }, 
                    "output_type": "execute_result"
                }, 
                {
                    "execution_count": 26, 
                    "metadata": {}, 
                    "data": {
                        "text/html": "<div>\n<style scoped>\n    .dataframe tbody tr th:only-of-type {\n        vertical-align: middle;\n    }\n\n    .dataframe tbody tr th {\n        vertical-align: top;\n    }\n\n    .dataframe thead th {\n        text-align: right;\n    }\n</style>\n<table border=\"1\" class=\"dataframe\">\n  <thead>\n    <tr style=\"text-align: right;\">\n      <th></th>\n      <th>id</th>\n      <th>molecule_name</th>\n      <th>atom_index_0</th>\n      <th>atom_index_1</th>\n      <th>atom_0</th>\n      <th>x_0</th>\n      <th>y_0</th>\n      <th>z_0</th>\n      <th>atom_1</th>\n      <th>x_1</th>\n      <th>y_1</th>\n      <th>z_1</th>\n      <th>mulliken_charge_0</th>\n      <th>mulliken_charge_1</th>\n      <th>type</th>\n      <th>scalar_coupling_constant</th>\n      <th>distance</th>\n      <th>type_enc</th>\n      <th>pairs</th>\n      <th>pairs_enc</th>\n    </tr>\n  </thead>\n  <tbody>\n    <tr>\n      <th>0</th>\n      <td>0</td>\n      <td>dsgdb9nsd_000001</td>\n      <td>1</td>\n      <td>0</td>\n      <td>H</td>\n      <td>0.002150</td>\n      <td>-0.006031</td>\n      <td>0.001976</td>\n      <td>C</td>\n      <td>-0.012698</td>\n      <td>1.085804</td>\n      <td>0.008001</td>\n      <td>0.133921</td>\n      <td>-0.535689</td>\n      <td>1JHC</td>\n      <td>84.8076</td>\n      <td>1.091953</td>\n      <td>0</td>\n      <td>c_h</td>\n      <td>2</td>\n    </tr>\n    <tr>\n      <th>1</th>\n      <td>1</td>\n      <td>dsgdb9nsd_000001</td>\n      <td>1</td>\n      <td>2</td>\n      <td>H</td>\n      <td>0.002150</td>\n      <td>-0.006031</td>\n      <td>0.001976</td>\n      <td>H</td>\n      <td>1.011731</td>\n      <td>1.463751</td>\n      <td>0.000277</td>\n      <td>0.133921</td>\n      <td>0.133922</td>\n      <td>2JHH</td>\n      <td>-11.2570</td>\n      <td>1.783120</td>\n      <td>3</td>\n      <td>h_h</td>\n      <td>11</td>\n    </tr>\n    <tr>\n      <th>2</th>\n      <td>2</td>\n      <td>dsgdb9nsd_000001</td>\n      <td>1</td>\n      <td>3</td>\n      <td>H</td>\n      <td>0.002150</td>\n      <td>-0.006031</td>\n      <td>0.001976</td>\n      <td>H</td>\n      <td>-0.540815</td>\n      <td>1.447527</td>\n      <td>-0.876644</td>\n      <td>0.133921</td>\n      <td>0.133923</td>\n      <td>2JHH</td>\n      <td>-11.2548</td>\n      <td>1.783147</td>\n      <td>3</td>\n      <td>h_h</td>\n      <td>11</td>\n    </tr>\n    <tr>\n      <th>3</th>\n      <td>3</td>\n      <td>dsgdb9nsd_000001</td>\n      <td>1</td>\n      <td>4</td>\n      <td>H</td>\n      <td>0.002150</td>\n      <td>-0.006031</td>\n      <td>0.001976</td>\n      <td>H</td>\n      <td>-0.523814</td>\n      <td>1.437933</td>\n      <td>0.906397</td>\n      <td>0.133921</td>\n      <td>0.133923</td>\n      <td>2JHH</td>\n      <td>-11.2543</td>\n      <td>1.783157</td>\n      <td>3</td>\n      <td>h_h</td>\n      <td>11</td>\n    </tr>\n    <tr>\n      <th>4</th>\n      <td>4</td>\n      <td>dsgdb9nsd_000001</td>\n      <td>2</td>\n      <td>0</td>\n      <td>H</td>\n      <td>1.011731</td>\n      <td>1.463751</td>\n      <td>0.000277</td>\n      <td>C</td>\n      <td>-0.012698</td>\n      <td>1.085804</td>\n      <td>0.008001</td>\n      <td>0.133922</td>\n      <td>-0.535689</td>\n      <td>1JHC</td>\n      <td>84.8074</td>\n      <td>1.091952</td>\n      <td>0</td>\n      <td>c_h</td>\n      <td>2</td>\n    </tr>\n  </tbody>\n</table>\n</div>", 
                        "text/plain": "   id     molecule_name  atom_index_0  atom_index_1 atom_0       x_0  \\\n0   0  dsgdb9nsd_000001             1             0      H  0.002150   \n1   1  dsgdb9nsd_000001             1             2      H  0.002150   \n2   2  dsgdb9nsd_000001             1             3      H  0.002150   \n3   3  dsgdb9nsd_000001             1             4      H  0.002150   \n4   4  dsgdb9nsd_000001             2             0      H  1.011731   \n\n        y_0       z_0 atom_1       x_1       y_1       z_1  mulliken_charge_0  \\\n0 -0.006031  0.001976      C -0.012698  1.085804  0.008001           0.133921   \n1 -0.006031  0.001976      H  1.011731  1.463751  0.000277           0.133921   \n2 -0.006031  0.001976      H -0.540815  1.447527 -0.876644           0.133921   \n3 -0.006031  0.001976      H -0.523814  1.437933  0.906397           0.133921   \n4  1.463751  0.000277      C -0.012698  1.085804  0.008001           0.133922   \n\n   mulliken_charge_1  type  scalar_coupling_constant  distance  type_enc  \\\n0          -0.535689  1JHC                   84.8076  1.091953         0   \n1           0.133922  2JHH                  -11.2570  1.783120         3   \n2           0.133923  2JHH                  -11.2548  1.783147         3   \n3           0.133923  2JHH                  -11.2543  1.783157         3   \n4          -0.535689  1JHC                   84.8074  1.091952         0   \n\n  pairs  pairs_enc  \n0   c_h          2  \n1   h_h         11  \n2   h_h         11  \n3   h_h         11  \n4   c_h          2  "
                    }, 
                    "output_type": "execute_result"
                }
            ], 
            "source": "train.head()"
        }, 
        {
            "source": "## Connectivity", 
            "cell_type": "markdown", 
            "metadata": {}
        }, 
        {
            "execution_count": 27, 
            "cell_type": "code", 
            "metadata": {}, 
            "outputs": [
                {
                    "output_type": "stream", 
                    "name": "stdout", 
                    "text": "WARNING:tensorflow:From /opt/conda/envs/Python36/lib/python3.6/site-packages/tensorflow/python/ops/resource_variable_ops.py:435: colocate_with (from tensorflow.python.framework.ops) is deprecated and will be removed in a future version.\nInstructions for updating:\nColocations handled automatically by placer.\nWARNING:tensorflow:From /opt/conda/envs/Python36/lib/python3.6/site-packages/tensorflow/python/ops/resource_variable_ops.py:435: colocate_with (from tensorflow.python.framework.ops) is deprecated and will be removed in a future version.\nInstructions for updating:\nColocations handled automatically by placer.\nWARNING:tensorflow:From /opt/conda/envs/Python36/lib/python3.6/site-packages/tensorflow/python/ops/math_ops.py:3066: to_int32 (from tensorflow.python.ops.math_ops) is deprecated and will be removed in a future version.\nInstructions for updating:\nUse tf.cast instead.\nWARNING:tensorflow:From /opt/conda/envs/Python36/lib/python3.6/site-packages/tensorflow/python/ops/math_ops.py:3066: to_int32 (from tensorflow.python.ops.math_ops) is deprecated and will be removed in a future version.\nInstructions for updating:\nUse tf.cast instead.\n"
                }
            ], 
            "source": "model_nn=tf.keras.models.load_model('connectivity_model_nn_03.h5',custom_objects=None,compile=True)"
        }, 
        {
            "execution_count": 28, 
            "cell_type": "code", 
            "metadata": {}, 
            "outputs": [], 
            "source": "x=train[['pairs_enc','distance']]"
        }, 
        {
            "execution_count": 29, 
            "cell_type": "code", 
            "metadata": {}, 
            "outputs": [
                {
                    "execution_count": 29, 
                    "metadata": {}, 
                    "data": {
                        "text/html": "<div>\n<style scoped>\n    .dataframe tbody tr th:only-of-type {\n        vertical-align: middle;\n    }\n\n    .dataframe tbody tr th {\n        vertical-align: top;\n    }\n\n    .dataframe thead th {\n        text-align: right;\n    }\n</style>\n<table border=\"1\" class=\"dataframe\">\n  <thead>\n    <tr style=\"text-align: right;\">\n      <th></th>\n      <th>pairs_enc</th>\n      <th>distance</th>\n    </tr>\n  </thead>\n  <tbody>\n    <tr>\n      <th>0</th>\n      <td>2</td>\n      <td>1.091953</td>\n    </tr>\n    <tr>\n      <th>1</th>\n      <td>11</td>\n      <td>1.783120</td>\n    </tr>\n    <tr>\n      <th>2</th>\n      <td>11</td>\n      <td>1.783147</td>\n    </tr>\n    <tr>\n      <th>3</th>\n      <td>11</td>\n      <td>1.783157</td>\n    </tr>\n    <tr>\n      <th>4</th>\n      <td>2</td>\n      <td>1.091952</td>\n    </tr>\n  </tbody>\n</table>\n</div>", 
                        "text/plain": "   pairs_enc  distance\n0          2  1.091953\n1         11  1.783120\n2         11  1.783147\n3         11  1.783157\n4          2  1.091952"
                    }, 
                    "output_type": "execute_result"
                }, 
                {
                    "execution_count": 29, 
                    "metadata": {}, 
                    "data": {
                        "text/html": "<div>\n<style scoped>\n    .dataframe tbody tr th:only-of-type {\n        vertical-align: middle;\n    }\n\n    .dataframe tbody tr th {\n        vertical-align: top;\n    }\n\n    .dataframe thead th {\n        text-align: right;\n    }\n</style>\n<table border=\"1\" class=\"dataframe\">\n  <thead>\n    <tr style=\"text-align: right;\">\n      <th></th>\n      <th>pairs_enc</th>\n      <th>distance</th>\n    </tr>\n  </thead>\n  <tbody>\n    <tr>\n      <th>0</th>\n      <td>2</td>\n      <td>1.091953</td>\n    </tr>\n    <tr>\n      <th>1</th>\n      <td>11</td>\n      <td>1.783120</td>\n    </tr>\n    <tr>\n      <th>2</th>\n      <td>11</td>\n      <td>1.783147</td>\n    </tr>\n    <tr>\n      <th>3</th>\n      <td>11</td>\n      <td>1.783157</td>\n    </tr>\n    <tr>\n      <th>4</th>\n      <td>2</td>\n      <td>1.091952</td>\n    </tr>\n  </tbody>\n</table>\n</div>", 
                        "text/plain": "   pairs_enc  distance\n0          2  1.091953\n1         11  1.783120\n2         11  1.783147\n3         11  1.783157\n4          2  1.091952"
                    }, 
                    "output_type": "execute_result"
                }
            ], 
            "source": "x.head()"
        }, 
        {
            "execution_count": 30, 
            "cell_type": "code", 
            "metadata": {}, 
            "outputs": [
                {
                    "execution_count": 30, 
                    "metadata": {}, 
                    "data": {
                        "text/plain": "(4658147, 2)"
                    }, 
                    "output_type": "execute_result"
                }, 
                {
                    "execution_count": 30, 
                    "metadata": {}, 
                    "data": {
                        "text/plain": "(4658147, 2)"
                    }, 
                    "output_type": "execute_result"
                }
            ], 
            "source": "x.shape"
        }, 
        {
            "execution_count": 31, 
            "cell_type": "code", 
            "metadata": {}, 
            "outputs": [], 
            "source": "#model_nn.predict(x,verbose=1)"
        }, 
        {
            "execution_count": 32, 
            "cell_type": "code", 
            "metadata": {}, 
            "outputs": [
                {
                    "output_type": "stream", 
                    "name": "stdout", 
                    "text": "4658147/4658147 [==============================] - 93s 20us/sample\n4658147/4658147 [==============================] - 93s 20us/sample\n"
                }
            ], 
            "source": "train['bond']=model_nn.predict(x,verbose=1,batch_size=10000)"
        }, 
        {
            "execution_count": 33, 
            "cell_type": "code", 
            "metadata": {}, 
            "outputs": [
                {
                    "execution_count": 33, 
                    "metadata": {}, 
                    "data": {
                        "text/html": "<div>\n<style scoped>\n    .dataframe tbody tr th:only-of-type {\n        vertical-align: middle;\n    }\n\n    .dataframe tbody tr th {\n        vertical-align: top;\n    }\n\n    .dataframe thead th {\n        text-align: right;\n    }\n</style>\n<table border=\"1\" class=\"dataframe\">\n  <thead>\n    <tr style=\"text-align: right;\">\n      <th></th>\n      <th>id</th>\n      <th>molecule_name</th>\n      <th>atom_index_0</th>\n      <th>atom_index_1</th>\n      <th>atom_0</th>\n      <th>x_0</th>\n      <th>y_0</th>\n      <th>z_0</th>\n      <th>atom_1</th>\n      <th>x_1</th>\n      <th>...</th>\n      <th>z_1</th>\n      <th>mulliken_charge_0</th>\n      <th>mulliken_charge_1</th>\n      <th>type</th>\n      <th>scalar_coupling_constant</th>\n      <th>distance</th>\n      <th>type_enc</th>\n      <th>pairs</th>\n      <th>pairs_enc</th>\n      <th>bond</th>\n    </tr>\n  </thead>\n  <tbody>\n    <tr>\n      <th>0</th>\n      <td>0</td>\n      <td>dsgdb9nsd_000001</td>\n      <td>1</td>\n      <td>0</td>\n      <td>H</td>\n      <td>0.002150</td>\n      <td>-0.006031</td>\n      <td>0.001976</td>\n      <td>C</td>\n      <td>-0.012698</td>\n      <td>...</td>\n      <td>0.008001</td>\n      <td>0.133921</td>\n      <td>-0.535689</td>\n      <td>1JHC</td>\n      <td>84.8076</td>\n      <td>1.091953</td>\n      <td>0</td>\n      <td>c_h</td>\n      <td>2</td>\n      <td>0.919760</td>\n    </tr>\n    <tr>\n      <th>1</th>\n      <td>1</td>\n      <td>dsgdb9nsd_000001</td>\n      <td>1</td>\n      <td>2</td>\n      <td>H</td>\n      <td>0.002150</td>\n      <td>-0.006031</td>\n      <td>0.001976</td>\n      <td>H</td>\n      <td>1.011731</td>\n      <td>...</td>\n      <td>0.000277</td>\n      <td>0.133921</td>\n      <td>0.133922</td>\n      <td>2JHH</td>\n      <td>-11.2570</td>\n      <td>1.783120</td>\n      <td>3</td>\n      <td>h_h</td>\n      <td>11</td>\n      <td>0.648310</td>\n    </tr>\n    <tr>\n      <th>2</th>\n      <td>2</td>\n      <td>dsgdb9nsd_000001</td>\n      <td>1</td>\n      <td>3</td>\n      <td>H</td>\n      <td>0.002150</td>\n      <td>-0.006031</td>\n      <td>0.001976</td>\n      <td>H</td>\n      <td>-0.540815</td>\n      <td>...</td>\n      <td>-0.876644</td>\n      <td>0.133921</td>\n      <td>0.133923</td>\n      <td>2JHH</td>\n      <td>-11.2548</td>\n      <td>1.783147</td>\n      <td>3</td>\n      <td>h_h</td>\n      <td>11</td>\n      <td>0.648205</td>\n    </tr>\n    <tr>\n      <th>3</th>\n      <td>3</td>\n      <td>dsgdb9nsd_000001</td>\n      <td>1</td>\n      <td>4</td>\n      <td>H</td>\n      <td>0.002150</td>\n      <td>-0.006031</td>\n      <td>0.001976</td>\n      <td>H</td>\n      <td>-0.523814</td>\n      <td>...</td>\n      <td>0.906397</td>\n      <td>0.133921</td>\n      <td>0.133923</td>\n      <td>2JHH</td>\n      <td>-11.2543</td>\n      <td>1.783157</td>\n      <td>3</td>\n      <td>h_h</td>\n      <td>11</td>\n      <td>0.648170</td>\n    </tr>\n    <tr>\n      <th>4</th>\n      <td>4</td>\n      <td>dsgdb9nsd_000001</td>\n      <td>2</td>\n      <td>0</td>\n      <td>H</td>\n      <td>1.011731</td>\n      <td>1.463751</td>\n      <td>0.000277</td>\n      <td>C</td>\n      <td>-0.012698</td>\n      <td>...</td>\n      <td>0.008001</td>\n      <td>0.133922</td>\n      <td>-0.535689</td>\n      <td>1JHC</td>\n      <td>84.8074</td>\n      <td>1.091952</td>\n      <td>0</td>\n      <td>c_h</td>\n      <td>2</td>\n      <td>0.919760</td>\n    </tr>\n  </tbody>\n</table>\n<p>5 rows \u00d7 21 columns</p>\n</div>", 
                        "text/plain": "   id     molecule_name  atom_index_0  atom_index_1 atom_0       x_0  \\\n0   0  dsgdb9nsd_000001             1             0      H  0.002150   \n1   1  dsgdb9nsd_000001             1             2      H  0.002150   \n2   2  dsgdb9nsd_000001             1             3      H  0.002150   \n3   3  dsgdb9nsd_000001             1             4      H  0.002150   \n4   4  dsgdb9nsd_000001             2             0      H  1.011731   \n\n        y_0       z_0 atom_1       x_1  ...       z_1  mulliken_charge_0  \\\n0 -0.006031  0.001976      C -0.012698  ...  0.008001           0.133921   \n1 -0.006031  0.001976      H  1.011731  ...  0.000277           0.133921   \n2 -0.006031  0.001976      H -0.540815  ... -0.876644           0.133921   \n3 -0.006031  0.001976      H -0.523814  ...  0.906397           0.133921   \n4  1.463751  0.000277      C -0.012698  ...  0.008001           0.133922   \n\n   mulliken_charge_1  type scalar_coupling_constant  distance  type_enc  \\\n0          -0.535689  1JHC                  84.8076  1.091953         0   \n1           0.133922  2JHH                 -11.2570  1.783120         3   \n2           0.133923  2JHH                 -11.2548  1.783147         3   \n3           0.133923  2JHH                 -11.2543  1.783157         3   \n4          -0.535689  1JHC                  84.8074  1.091952         0   \n\n   pairs pairs_enc      bond  \n0    c_h         2  0.919760  \n1    h_h        11  0.648310  \n2    h_h        11  0.648205  \n3    h_h        11  0.648170  \n4    c_h         2  0.919760  \n\n[5 rows x 21 columns]"
                    }, 
                    "output_type": "execute_result"
                }, 
                {
                    "execution_count": 33, 
                    "metadata": {}, 
                    "data": {
                        "text/html": "<div>\n<style scoped>\n    .dataframe tbody tr th:only-of-type {\n        vertical-align: middle;\n    }\n\n    .dataframe tbody tr th {\n        vertical-align: top;\n    }\n\n    .dataframe thead th {\n        text-align: right;\n    }\n</style>\n<table border=\"1\" class=\"dataframe\">\n  <thead>\n    <tr style=\"text-align: right;\">\n      <th></th>\n      <th>id</th>\n      <th>molecule_name</th>\n      <th>atom_index_0</th>\n      <th>atom_index_1</th>\n      <th>atom_0</th>\n      <th>x_0</th>\n      <th>y_0</th>\n      <th>z_0</th>\n      <th>atom_1</th>\n      <th>x_1</th>\n      <th>...</th>\n      <th>z_1</th>\n      <th>mulliken_charge_0</th>\n      <th>mulliken_charge_1</th>\n      <th>type</th>\n      <th>scalar_coupling_constant</th>\n      <th>distance</th>\n      <th>type_enc</th>\n      <th>pairs</th>\n      <th>pairs_enc</th>\n      <th>bond</th>\n    </tr>\n  </thead>\n  <tbody>\n    <tr>\n      <th>0</th>\n      <td>0</td>\n      <td>dsgdb9nsd_000001</td>\n      <td>1</td>\n      <td>0</td>\n      <td>H</td>\n      <td>0.002150</td>\n      <td>-0.006031</td>\n      <td>0.001976</td>\n      <td>C</td>\n      <td>-0.012698</td>\n      <td>...</td>\n      <td>0.008001</td>\n      <td>0.133921</td>\n      <td>-0.535689</td>\n      <td>1JHC</td>\n      <td>84.8076</td>\n      <td>1.091953</td>\n      <td>0</td>\n      <td>c_h</td>\n      <td>2</td>\n      <td>0.919760</td>\n    </tr>\n    <tr>\n      <th>1</th>\n      <td>1</td>\n      <td>dsgdb9nsd_000001</td>\n      <td>1</td>\n      <td>2</td>\n      <td>H</td>\n      <td>0.002150</td>\n      <td>-0.006031</td>\n      <td>0.001976</td>\n      <td>H</td>\n      <td>1.011731</td>\n      <td>...</td>\n      <td>0.000277</td>\n      <td>0.133921</td>\n      <td>0.133922</td>\n      <td>2JHH</td>\n      <td>-11.2570</td>\n      <td>1.783120</td>\n      <td>3</td>\n      <td>h_h</td>\n      <td>11</td>\n      <td>0.648310</td>\n    </tr>\n    <tr>\n      <th>2</th>\n      <td>2</td>\n      <td>dsgdb9nsd_000001</td>\n      <td>1</td>\n      <td>3</td>\n      <td>H</td>\n      <td>0.002150</td>\n      <td>-0.006031</td>\n      <td>0.001976</td>\n      <td>H</td>\n      <td>-0.540815</td>\n      <td>...</td>\n      <td>-0.876644</td>\n      <td>0.133921</td>\n      <td>0.133923</td>\n      <td>2JHH</td>\n      <td>-11.2548</td>\n      <td>1.783147</td>\n      <td>3</td>\n      <td>h_h</td>\n      <td>11</td>\n      <td>0.648205</td>\n    </tr>\n    <tr>\n      <th>3</th>\n      <td>3</td>\n      <td>dsgdb9nsd_000001</td>\n      <td>1</td>\n      <td>4</td>\n      <td>H</td>\n      <td>0.002150</td>\n      <td>-0.006031</td>\n      <td>0.001976</td>\n      <td>H</td>\n      <td>-0.523814</td>\n      <td>...</td>\n      <td>0.906397</td>\n      <td>0.133921</td>\n      <td>0.133923</td>\n      <td>2JHH</td>\n      <td>-11.2543</td>\n      <td>1.783157</td>\n      <td>3</td>\n      <td>h_h</td>\n      <td>11</td>\n      <td>0.648170</td>\n    </tr>\n    <tr>\n      <th>4</th>\n      <td>4</td>\n      <td>dsgdb9nsd_000001</td>\n      <td>2</td>\n      <td>0</td>\n      <td>H</td>\n      <td>1.011731</td>\n      <td>1.463751</td>\n      <td>0.000277</td>\n      <td>C</td>\n      <td>-0.012698</td>\n      <td>...</td>\n      <td>0.008001</td>\n      <td>0.133922</td>\n      <td>-0.535689</td>\n      <td>1JHC</td>\n      <td>84.8074</td>\n      <td>1.091952</td>\n      <td>0</td>\n      <td>c_h</td>\n      <td>2</td>\n      <td>0.919760</td>\n    </tr>\n  </tbody>\n</table>\n<p>5 rows \u00d7 21 columns</p>\n</div>", 
                        "text/plain": "   id     molecule_name  atom_index_0  atom_index_1 atom_0       x_0  \\\n0   0  dsgdb9nsd_000001             1             0      H  0.002150   \n1   1  dsgdb9nsd_000001             1             2      H  0.002150   \n2   2  dsgdb9nsd_000001             1             3      H  0.002150   \n3   3  dsgdb9nsd_000001             1             4      H  0.002150   \n4   4  dsgdb9nsd_000001             2             0      H  1.011731   \n\n        y_0       z_0 atom_1       x_1  ...       z_1  mulliken_charge_0  \\\n0 -0.006031  0.001976      C -0.012698  ...  0.008001           0.133921   \n1 -0.006031  0.001976      H  1.011731  ...  0.000277           0.133921   \n2 -0.006031  0.001976      H -0.540815  ... -0.876644           0.133921   \n3 -0.006031  0.001976      H -0.523814  ...  0.906397           0.133921   \n4  1.463751  0.000277      C -0.012698  ...  0.008001           0.133922   \n\n   mulliken_charge_1  type scalar_coupling_constant  distance  type_enc  \\\n0          -0.535689  1JHC                  84.8076  1.091953         0   \n1           0.133922  2JHH                 -11.2570  1.783120         3   \n2           0.133923  2JHH                 -11.2548  1.783147         3   \n3           0.133923  2JHH                 -11.2543  1.783157         3   \n4          -0.535689  1JHC                  84.8074  1.091952         0   \n\n   pairs pairs_enc      bond  \n0    c_h         2  0.919760  \n1    h_h        11  0.648310  \n2    h_h        11  0.648205  \n3    h_h        11  0.648170  \n4    c_h         2  0.919760  \n\n[5 rows x 21 columns]"
                    }, 
                    "output_type": "execute_result"
                }
            ], 
            "source": "train.head()"
        }, 
        {
            "execution_count": 34, 
            "cell_type": "code", 
            "metadata": {}, 
            "outputs": [
                {
                    "execution_count": 34, 
                    "metadata": {}, 
                    "data": {
                        "text/plain": "False    4658147\nName: bond, dtype: int64"
                    }, 
                    "output_type": "execute_result"
                }, 
                {
                    "execution_count": 34, 
                    "metadata": {}, 
                    "data": {
                        "text/plain": "False    4658147\nName: bond, dtype: int64"
                    }, 
                    "output_type": "execute_result"
                }
            ], 
            "source": "train['bond'].isna().value_counts()"
        }, 
        {
            "execution_count": 35, 
            "cell_type": "code", 
            "metadata": {}, 
            "outputs": [], 
            "source": "train['bond_int']=train['bond'].apply(lambda x:int(x>0.5))"
        }, 
        {
            "execution_count": 36, 
            "cell_type": "code", 
            "metadata": {}, 
            "outputs": [
                {
                    "execution_count": 36, 
                    "metadata": {}, 
                    "data": {
                        "text/html": "<div>\n<style scoped>\n    .dataframe tbody tr th:only-of-type {\n        vertical-align: middle;\n    }\n\n    .dataframe tbody tr th {\n        vertical-align: top;\n    }\n\n    .dataframe thead th {\n        text-align: right;\n    }\n</style>\n<table border=\"1\" class=\"dataframe\">\n  <thead>\n    <tr style=\"text-align: right;\">\n      <th></th>\n      <th>id</th>\n      <th>molecule_name</th>\n      <th>atom_index_0</th>\n      <th>atom_index_1</th>\n      <th>atom_0</th>\n      <th>x_0</th>\n      <th>y_0</th>\n      <th>z_0</th>\n      <th>atom_1</th>\n      <th>x_1</th>\n      <th>...</th>\n      <th>mulliken_charge_0</th>\n      <th>mulliken_charge_1</th>\n      <th>type</th>\n      <th>scalar_coupling_constant</th>\n      <th>distance</th>\n      <th>type_enc</th>\n      <th>pairs</th>\n      <th>pairs_enc</th>\n      <th>bond</th>\n      <th>bond_int</th>\n    </tr>\n  </thead>\n  <tbody>\n    <tr>\n      <th>0</th>\n      <td>0</td>\n      <td>dsgdb9nsd_000001</td>\n      <td>1</td>\n      <td>0</td>\n      <td>H</td>\n      <td>0.002150</td>\n      <td>-0.006031</td>\n      <td>0.001976</td>\n      <td>C</td>\n      <td>-0.012698</td>\n      <td>...</td>\n      <td>0.133921</td>\n      <td>-0.535689</td>\n      <td>1JHC</td>\n      <td>84.8076</td>\n      <td>1.091953</td>\n      <td>0</td>\n      <td>c_h</td>\n      <td>2</td>\n      <td>0.919760</td>\n      <td>1</td>\n    </tr>\n    <tr>\n      <th>1</th>\n      <td>1</td>\n      <td>dsgdb9nsd_000001</td>\n      <td>1</td>\n      <td>2</td>\n      <td>H</td>\n      <td>0.002150</td>\n      <td>-0.006031</td>\n      <td>0.001976</td>\n      <td>H</td>\n      <td>1.011731</td>\n      <td>...</td>\n      <td>0.133921</td>\n      <td>0.133922</td>\n      <td>2JHH</td>\n      <td>-11.2570</td>\n      <td>1.783120</td>\n      <td>3</td>\n      <td>h_h</td>\n      <td>11</td>\n      <td>0.648310</td>\n      <td>1</td>\n    </tr>\n    <tr>\n      <th>2</th>\n      <td>2</td>\n      <td>dsgdb9nsd_000001</td>\n      <td>1</td>\n      <td>3</td>\n      <td>H</td>\n      <td>0.002150</td>\n      <td>-0.006031</td>\n      <td>0.001976</td>\n      <td>H</td>\n      <td>-0.540815</td>\n      <td>...</td>\n      <td>0.133921</td>\n      <td>0.133923</td>\n      <td>2JHH</td>\n      <td>-11.2548</td>\n      <td>1.783147</td>\n      <td>3</td>\n      <td>h_h</td>\n      <td>11</td>\n      <td>0.648205</td>\n      <td>1</td>\n    </tr>\n    <tr>\n      <th>3</th>\n      <td>3</td>\n      <td>dsgdb9nsd_000001</td>\n      <td>1</td>\n      <td>4</td>\n      <td>H</td>\n      <td>0.002150</td>\n      <td>-0.006031</td>\n      <td>0.001976</td>\n      <td>H</td>\n      <td>-0.523814</td>\n      <td>...</td>\n      <td>0.133921</td>\n      <td>0.133923</td>\n      <td>2JHH</td>\n      <td>-11.2543</td>\n      <td>1.783157</td>\n      <td>3</td>\n      <td>h_h</td>\n      <td>11</td>\n      <td>0.648170</td>\n      <td>1</td>\n    </tr>\n    <tr>\n      <th>4</th>\n      <td>4</td>\n      <td>dsgdb9nsd_000001</td>\n      <td>2</td>\n      <td>0</td>\n      <td>H</td>\n      <td>1.011731</td>\n      <td>1.463751</td>\n      <td>0.000277</td>\n      <td>C</td>\n      <td>-0.012698</td>\n      <td>...</td>\n      <td>0.133922</td>\n      <td>-0.535689</td>\n      <td>1JHC</td>\n      <td>84.8074</td>\n      <td>1.091952</td>\n      <td>0</td>\n      <td>c_h</td>\n      <td>2</td>\n      <td>0.919760</td>\n      <td>1</td>\n    </tr>\n  </tbody>\n</table>\n<p>5 rows \u00d7 22 columns</p>\n</div>", 
                        "text/plain": "   id     molecule_name  atom_index_0  atom_index_1 atom_0       x_0  \\\n0   0  dsgdb9nsd_000001             1             0      H  0.002150   \n1   1  dsgdb9nsd_000001             1             2      H  0.002150   \n2   2  dsgdb9nsd_000001             1             3      H  0.002150   \n3   3  dsgdb9nsd_000001             1             4      H  0.002150   \n4   4  dsgdb9nsd_000001             2             0      H  1.011731   \n\n        y_0       z_0 atom_1       x_1  ...  mulliken_charge_0  \\\n0 -0.006031  0.001976      C -0.012698  ...           0.133921   \n1 -0.006031  0.001976      H  1.011731  ...           0.133921   \n2 -0.006031  0.001976      H -0.540815  ...           0.133921   \n3 -0.006031  0.001976      H -0.523814  ...           0.133921   \n4  1.463751  0.000277      C -0.012698  ...           0.133922   \n\n   mulliken_charge_1  type  scalar_coupling_constant  distance  type_enc  \\\n0          -0.535689  1JHC                   84.8076  1.091953         0   \n1           0.133922  2JHH                  -11.2570  1.783120         3   \n2           0.133923  2JHH                  -11.2548  1.783147         3   \n3           0.133923  2JHH                  -11.2543  1.783157         3   \n4          -0.535689  1JHC                   84.8074  1.091952         0   \n\n   pairs  pairs_enc      bond  bond_int  \n0    c_h          2  0.919760         1  \n1    h_h         11  0.648310         1  \n2    h_h         11  0.648205         1  \n3    h_h         11  0.648170         1  \n4    c_h          2  0.919760         1  \n\n[5 rows x 22 columns]"
                    }, 
                    "output_type": "execute_result"
                }, 
                {
                    "execution_count": 36, 
                    "metadata": {}, 
                    "data": {
                        "text/html": "<div>\n<style scoped>\n    .dataframe tbody tr th:only-of-type {\n        vertical-align: middle;\n    }\n\n    .dataframe tbody tr th {\n        vertical-align: top;\n    }\n\n    .dataframe thead th {\n        text-align: right;\n    }\n</style>\n<table border=\"1\" class=\"dataframe\">\n  <thead>\n    <tr style=\"text-align: right;\">\n      <th></th>\n      <th>id</th>\n      <th>molecule_name</th>\n      <th>atom_index_0</th>\n      <th>atom_index_1</th>\n      <th>atom_0</th>\n      <th>x_0</th>\n      <th>y_0</th>\n      <th>z_0</th>\n      <th>atom_1</th>\n      <th>x_1</th>\n      <th>...</th>\n      <th>mulliken_charge_0</th>\n      <th>mulliken_charge_1</th>\n      <th>type</th>\n      <th>scalar_coupling_constant</th>\n      <th>distance</th>\n      <th>type_enc</th>\n      <th>pairs</th>\n      <th>pairs_enc</th>\n      <th>bond</th>\n      <th>bond_int</th>\n    </tr>\n  </thead>\n  <tbody>\n    <tr>\n      <th>0</th>\n      <td>0</td>\n      <td>dsgdb9nsd_000001</td>\n      <td>1</td>\n      <td>0</td>\n      <td>H</td>\n      <td>0.002150</td>\n      <td>-0.006031</td>\n      <td>0.001976</td>\n      <td>C</td>\n      <td>-0.012698</td>\n      <td>...</td>\n      <td>0.133921</td>\n      <td>-0.535689</td>\n      <td>1JHC</td>\n      <td>84.8076</td>\n      <td>1.091953</td>\n      <td>0</td>\n      <td>c_h</td>\n      <td>2</td>\n      <td>0.919760</td>\n      <td>1</td>\n    </tr>\n    <tr>\n      <th>1</th>\n      <td>1</td>\n      <td>dsgdb9nsd_000001</td>\n      <td>1</td>\n      <td>2</td>\n      <td>H</td>\n      <td>0.002150</td>\n      <td>-0.006031</td>\n      <td>0.001976</td>\n      <td>H</td>\n      <td>1.011731</td>\n      <td>...</td>\n      <td>0.133921</td>\n      <td>0.133922</td>\n      <td>2JHH</td>\n      <td>-11.2570</td>\n      <td>1.783120</td>\n      <td>3</td>\n      <td>h_h</td>\n      <td>11</td>\n      <td>0.648310</td>\n      <td>1</td>\n    </tr>\n    <tr>\n      <th>2</th>\n      <td>2</td>\n      <td>dsgdb9nsd_000001</td>\n      <td>1</td>\n      <td>3</td>\n      <td>H</td>\n      <td>0.002150</td>\n      <td>-0.006031</td>\n      <td>0.001976</td>\n      <td>H</td>\n      <td>-0.540815</td>\n      <td>...</td>\n      <td>0.133921</td>\n      <td>0.133923</td>\n      <td>2JHH</td>\n      <td>-11.2548</td>\n      <td>1.783147</td>\n      <td>3</td>\n      <td>h_h</td>\n      <td>11</td>\n      <td>0.648205</td>\n      <td>1</td>\n    </tr>\n    <tr>\n      <th>3</th>\n      <td>3</td>\n      <td>dsgdb9nsd_000001</td>\n      <td>1</td>\n      <td>4</td>\n      <td>H</td>\n      <td>0.002150</td>\n      <td>-0.006031</td>\n      <td>0.001976</td>\n      <td>H</td>\n      <td>-0.523814</td>\n      <td>...</td>\n      <td>0.133921</td>\n      <td>0.133923</td>\n      <td>2JHH</td>\n      <td>-11.2543</td>\n      <td>1.783157</td>\n      <td>3</td>\n      <td>h_h</td>\n      <td>11</td>\n      <td>0.648170</td>\n      <td>1</td>\n    </tr>\n    <tr>\n      <th>4</th>\n      <td>4</td>\n      <td>dsgdb9nsd_000001</td>\n      <td>2</td>\n      <td>0</td>\n      <td>H</td>\n      <td>1.011731</td>\n      <td>1.463751</td>\n      <td>0.000277</td>\n      <td>C</td>\n      <td>-0.012698</td>\n      <td>...</td>\n      <td>0.133922</td>\n      <td>-0.535689</td>\n      <td>1JHC</td>\n      <td>84.8074</td>\n      <td>1.091952</td>\n      <td>0</td>\n      <td>c_h</td>\n      <td>2</td>\n      <td>0.919760</td>\n      <td>1</td>\n    </tr>\n  </tbody>\n</table>\n<p>5 rows \u00d7 22 columns</p>\n</div>", 
                        "text/plain": "   id     molecule_name  atom_index_0  atom_index_1 atom_0       x_0  \\\n0   0  dsgdb9nsd_000001             1             0      H  0.002150   \n1   1  dsgdb9nsd_000001             1             2      H  0.002150   \n2   2  dsgdb9nsd_000001             1             3      H  0.002150   \n3   3  dsgdb9nsd_000001             1             4      H  0.002150   \n4   4  dsgdb9nsd_000001             2             0      H  1.011731   \n\n        y_0       z_0 atom_1       x_1  ...  mulliken_charge_0  \\\n0 -0.006031  0.001976      C -0.012698  ...           0.133921   \n1 -0.006031  0.001976      H  1.011731  ...           0.133921   \n2 -0.006031  0.001976      H -0.540815  ...           0.133921   \n3 -0.006031  0.001976      H -0.523814  ...           0.133921   \n4  1.463751  0.000277      C -0.012698  ...           0.133922   \n\n   mulliken_charge_1  type  scalar_coupling_constant  distance  type_enc  \\\n0          -0.535689  1JHC                   84.8076  1.091953         0   \n1           0.133922  2JHH                  -11.2570  1.783120         3   \n2           0.133923  2JHH                  -11.2548  1.783147         3   \n3           0.133923  2JHH                  -11.2543  1.783157         3   \n4          -0.535689  1JHC                   84.8074  1.091952         0   \n\n   pairs  pairs_enc      bond  bond_int  \n0    c_h          2  0.919760         1  \n1    h_h         11  0.648310         1  \n2    h_h         11  0.648205         1  \n3    h_h         11  0.648170         1  \n4    c_h          2  0.919760         1  \n\n[5 rows x 22 columns]"
                    }, 
                    "output_type": "execute_result"
                }
            ], 
            "source": "train.head()"
        }, 
        {
            "source": "## Total Charge", 
            "cell_type": "markdown", 
            "metadata": {}
        }, 
        {
            "execution_count": 37, 
            "cell_type": "code", 
            "metadata": {}, 
            "outputs": [], 
            "source": "train['total_charge']=train['mulliken_charge_0']+train['mulliken_charge_1']"
        }, 
        {
            "execution_count": 38, 
            "cell_type": "code", 
            "metadata": {}, 
            "outputs": [
                {
                    "execution_count": 38, 
                    "metadata": {}, 
                    "data": {
                        "text/html": "<div>\n<style scoped>\n    .dataframe tbody tr th:only-of-type {\n        vertical-align: middle;\n    }\n\n    .dataframe tbody tr th {\n        vertical-align: top;\n    }\n\n    .dataframe thead th {\n        text-align: right;\n    }\n</style>\n<table border=\"1\" class=\"dataframe\">\n  <thead>\n    <tr style=\"text-align: right;\">\n      <th></th>\n      <th>id</th>\n      <th>molecule_name</th>\n      <th>atom_index_0</th>\n      <th>atom_index_1</th>\n      <th>atom_0</th>\n      <th>x_0</th>\n      <th>y_0</th>\n      <th>z_0</th>\n      <th>atom_1</th>\n      <th>x_1</th>\n      <th>...</th>\n      <th>mulliken_charge_1</th>\n      <th>type</th>\n      <th>scalar_coupling_constant</th>\n      <th>distance</th>\n      <th>type_enc</th>\n      <th>pairs</th>\n      <th>pairs_enc</th>\n      <th>bond</th>\n      <th>bond_int</th>\n      <th>total_charge</th>\n    </tr>\n  </thead>\n  <tbody>\n    <tr>\n      <th>0</th>\n      <td>0</td>\n      <td>dsgdb9nsd_000001</td>\n      <td>1</td>\n      <td>0</td>\n      <td>H</td>\n      <td>0.002150</td>\n      <td>-0.006031</td>\n      <td>0.001976</td>\n      <td>C</td>\n      <td>-0.012698</td>\n      <td>...</td>\n      <td>-0.535689</td>\n      <td>1JHC</td>\n      <td>84.8076</td>\n      <td>1.091953</td>\n      <td>0</td>\n      <td>c_h</td>\n      <td>2</td>\n      <td>0.919760</td>\n      <td>1</td>\n      <td>-0.401768</td>\n    </tr>\n    <tr>\n      <th>1</th>\n      <td>1</td>\n      <td>dsgdb9nsd_000001</td>\n      <td>1</td>\n      <td>2</td>\n      <td>H</td>\n      <td>0.002150</td>\n      <td>-0.006031</td>\n      <td>0.001976</td>\n      <td>H</td>\n      <td>1.011731</td>\n      <td>...</td>\n      <td>0.133922</td>\n      <td>2JHH</td>\n      <td>-11.2570</td>\n      <td>1.783120</td>\n      <td>3</td>\n      <td>h_h</td>\n      <td>11</td>\n      <td>0.648310</td>\n      <td>1</td>\n      <td>0.267843</td>\n    </tr>\n    <tr>\n      <th>2</th>\n      <td>2</td>\n      <td>dsgdb9nsd_000001</td>\n      <td>1</td>\n      <td>3</td>\n      <td>H</td>\n      <td>0.002150</td>\n      <td>-0.006031</td>\n      <td>0.001976</td>\n      <td>H</td>\n      <td>-0.540815</td>\n      <td>...</td>\n      <td>0.133923</td>\n      <td>2JHH</td>\n      <td>-11.2548</td>\n      <td>1.783147</td>\n      <td>3</td>\n      <td>h_h</td>\n      <td>11</td>\n      <td>0.648205</td>\n      <td>1</td>\n      <td>0.267844</td>\n    </tr>\n    <tr>\n      <th>3</th>\n      <td>3</td>\n      <td>dsgdb9nsd_000001</td>\n      <td>1</td>\n      <td>4</td>\n      <td>H</td>\n      <td>0.002150</td>\n      <td>-0.006031</td>\n      <td>0.001976</td>\n      <td>H</td>\n      <td>-0.523814</td>\n      <td>...</td>\n      <td>0.133923</td>\n      <td>2JHH</td>\n      <td>-11.2543</td>\n      <td>1.783157</td>\n      <td>3</td>\n      <td>h_h</td>\n      <td>11</td>\n      <td>0.648170</td>\n      <td>1</td>\n      <td>0.267844</td>\n    </tr>\n    <tr>\n      <th>4</th>\n      <td>4</td>\n      <td>dsgdb9nsd_000001</td>\n      <td>2</td>\n      <td>0</td>\n      <td>H</td>\n      <td>1.011731</td>\n      <td>1.463751</td>\n      <td>0.000277</td>\n      <td>C</td>\n      <td>-0.012698</td>\n      <td>...</td>\n      <td>-0.535689</td>\n      <td>1JHC</td>\n      <td>84.8074</td>\n      <td>1.091952</td>\n      <td>0</td>\n      <td>c_h</td>\n      <td>2</td>\n      <td>0.919760</td>\n      <td>1</td>\n      <td>-0.401767</td>\n    </tr>\n  </tbody>\n</table>\n<p>5 rows \u00d7 23 columns</p>\n</div>", 
                        "text/plain": "   id     molecule_name  atom_index_0  atom_index_1 atom_0       x_0  \\\n0   0  dsgdb9nsd_000001             1             0      H  0.002150   \n1   1  dsgdb9nsd_000001             1             2      H  0.002150   \n2   2  dsgdb9nsd_000001             1             3      H  0.002150   \n3   3  dsgdb9nsd_000001             1             4      H  0.002150   \n4   4  dsgdb9nsd_000001             2             0      H  1.011731   \n\n        y_0       z_0 atom_1       x_1  ...  mulliken_charge_1  type  \\\n0 -0.006031  0.001976      C -0.012698  ...          -0.535689  1JHC   \n1 -0.006031  0.001976      H  1.011731  ...           0.133922  2JHH   \n2 -0.006031  0.001976      H -0.540815  ...           0.133923  2JHH   \n3 -0.006031  0.001976      H -0.523814  ...           0.133923  2JHH   \n4  1.463751  0.000277      C -0.012698  ...          -0.535689  1JHC   \n\n   scalar_coupling_constant  distance type_enc  pairs  pairs_enc      bond  \\\n0                   84.8076  1.091953        0    c_h          2  0.919760   \n1                  -11.2570  1.783120        3    h_h         11  0.648310   \n2                  -11.2548  1.783147        3    h_h         11  0.648205   \n3                  -11.2543  1.783157        3    h_h         11  0.648170   \n4                   84.8074  1.091952        0    c_h          2  0.919760   \n\n  bond_int  total_charge  \n0        1     -0.401768  \n1        1      0.267843  \n2        1      0.267844  \n3        1      0.267844  \n4        1     -0.401767  \n\n[5 rows x 23 columns]"
                    }, 
                    "output_type": "execute_result"
                }, 
                {
                    "execution_count": 38, 
                    "metadata": {}, 
                    "data": {
                        "text/html": "<div>\n<style scoped>\n    .dataframe tbody tr th:only-of-type {\n        vertical-align: middle;\n    }\n\n    .dataframe tbody tr th {\n        vertical-align: top;\n    }\n\n    .dataframe thead th {\n        text-align: right;\n    }\n</style>\n<table border=\"1\" class=\"dataframe\">\n  <thead>\n    <tr style=\"text-align: right;\">\n      <th></th>\n      <th>id</th>\n      <th>molecule_name</th>\n      <th>atom_index_0</th>\n      <th>atom_index_1</th>\n      <th>atom_0</th>\n      <th>x_0</th>\n      <th>y_0</th>\n      <th>z_0</th>\n      <th>atom_1</th>\n      <th>x_1</th>\n      <th>...</th>\n      <th>mulliken_charge_1</th>\n      <th>type</th>\n      <th>scalar_coupling_constant</th>\n      <th>distance</th>\n      <th>type_enc</th>\n      <th>pairs</th>\n      <th>pairs_enc</th>\n      <th>bond</th>\n      <th>bond_int</th>\n      <th>total_charge</th>\n    </tr>\n  </thead>\n  <tbody>\n    <tr>\n      <th>0</th>\n      <td>0</td>\n      <td>dsgdb9nsd_000001</td>\n      <td>1</td>\n      <td>0</td>\n      <td>H</td>\n      <td>0.002150</td>\n      <td>-0.006031</td>\n      <td>0.001976</td>\n      <td>C</td>\n      <td>-0.012698</td>\n      <td>...</td>\n      <td>-0.535689</td>\n      <td>1JHC</td>\n      <td>84.8076</td>\n      <td>1.091953</td>\n      <td>0</td>\n      <td>c_h</td>\n      <td>2</td>\n      <td>0.919760</td>\n      <td>1</td>\n      <td>-0.401768</td>\n    </tr>\n    <tr>\n      <th>1</th>\n      <td>1</td>\n      <td>dsgdb9nsd_000001</td>\n      <td>1</td>\n      <td>2</td>\n      <td>H</td>\n      <td>0.002150</td>\n      <td>-0.006031</td>\n      <td>0.001976</td>\n      <td>H</td>\n      <td>1.011731</td>\n      <td>...</td>\n      <td>0.133922</td>\n      <td>2JHH</td>\n      <td>-11.2570</td>\n      <td>1.783120</td>\n      <td>3</td>\n      <td>h_h</td>\n      <td>11</td>\n      <td>0.648310</td>\n      <td>1</td>\n      <td>0.267843</td>\n    </tr>\n    <tr>\n      <th>2</th>\n      <td>2</td>\n      <td>dsgdb9nsd_000001</td>\n      <td>1</td>\n      <td>3</td>\n      <td>H</td>\n      <td>0.002150</td>\n      <td>-0.006031</td>\n      <td>0.001976</td>\n      <td>H</td>\n      <td>-0.540815</td>\n      <td>...</td>\n      <td>0.133923</td>\n      <td>2JHH</td>\n      <td>-11.2548</td>\n      <td>1.783147</td>\n      <td>3</td>\n      <td>h_h</td>\n      <td>11</td>\n      <td>0.648205</td>\n      <td>1</td>\n      <td>0.267844</td>\n    </tr>\n    <tr>\n      <th>3</th>\n      <td>3</td>\n      <td>dsgdb9nsd_000001</td>\n      <td>1</td>\n      <td>4</td>\n      <td>H</td>\n      <td>0.002150</td>\n      <td>-0.006031</td>\n      <td>0.001976</td>\n      <td>H</td>\n      <td>-0.523814</td>\n      <td>...</td>\n      <td>0.133923</td>\n      <td>2JHH</td>\n      <td>-11.2543</td>\n      <td>1.783157</td>\n      <td>3</td>\n      <td>h_h</td>\n      <td>11</td>\n      <td>0.648170</td>\n      <td>1</td>\n      <td>0.267844</td>\n    </tr>\n    <tr>\n      <th>4</th>\n      <td>4</td>\n      <td>dsgdb9nsd_000001</td>\n      <td>2</td>\n      <td>0</td>\n      <td>H</td>\n      <td>1.011731</td>\n      <td>1.463751</td>\n      <td>0.000277</td>\n      <td>C</td>\n      <td>-0.012698</td>\n      <td>...</td>\n      <td>-0.535689</td>\n      <td>1JHC</td>\n      <td>84.8074</td>\n      <td>1.091952</td>\n      <td>0</td>\n      <td>c_h</td>\n      <td>2</td>\n      <td>0.919760</td>\n      <td>1</td>\n      <td>-0.401767</td>\n    </tr>\n  </tbody>\n</table>\n<p>5 rows \u00d7 23 columns</p>\n</div>", 
                        "text/plain": "   id     molecule_name  atom_index_0  atom_index_1 atom_0       x_0  \\\n0   0  dsgdb9nsd_000001             1             0      H  0.002150   \n1   1  dsgdb9nsd_000001             1             2      H  0.002150   \n2   2  dsgdb9nsd_000001             1             3      H  0.002150   \n3   3  dsgdb9nsd_000001             1             4      H  0.002150   \n4   4  dsgdb9nsd_000001             2             0      H  1.011731   \n\n        y_0       z_0 atom_1       x_1  ...  mulliken_charge_1  type  \\\n0 -0.006031  0.001976      C -0.012698  ...          -0.535689  1JHC   \n1 -0.006031  0.001976      H  1.011731  ...           0.133922  2JHH   \n2 -0.006031  0.001976      H -0.540815  ...           0.133923  2JHH   \n3 -0.006031  0.001976      H -0.523814  ...           0.133923  2JHH   \n4  1.463751  0.000277      C -0.012698  ...          -0.535689  1JHC   \n\n   scalar_coupling_constant  distance type_enc  pairs  pairs_enc      bond  \\\n0                   84.8076  1.091953        0    c_h          2  0.919760   \n1                  -11.2570  1.783120        3    h_h         11  0.648310   \n2                  -11.2548  1.783147        3    h_h         11  0.648205   \n3                  -11.2543  1.783157        3    h_h         11  0.648170   \n4                   84.8074  1.091952        0    c_h          2  0.919760   \n\n  bond_int  total_charge  \n0        1     -0.401768  \n1        1      0.267843  \n2        1      0.267844  \n3        1      0.267844  \n4        1     -0.401767  \n\n[5 rows x 23 columns]"
                    }, 
                    "output_type": "execute_result"
                }
            ], 
            "source": "train.head()"
        }, 
        {
            "source": "## Dipole moment", 
            "cell_type": "markdown", 
            "metadata": {}
        }, 
        {
            "source": "sum(qi*ri)", 
            "cell_type": "markdown", 
            "metadata": {}
        }, 
        {
            "execution_count": 39, 
            "cell_type": "code", 
            "metadata": {}, 
            "outputs": [], 
            "source": "train['dp']=(-1*train['mulliken_charge_0']*train['distance']/2)+(train['mulliken_charge_1']*train['distance']/2)"
        }, 
        {
            "execution_count": 40, 
            "cell_type": "code", 
            "metadata": {}, 
            "outputs": [
                {
                    "execution_count": 40, 
                    "metadata": {}, 
                    "data": {
                        "text/html": "<div>\n<style scoped>\n    .dataframe tbody tr th:only-of-type {\n        vertical-align: middle;\n    }\n\n    .dataframe tbody tr th {\n        vertical-align: top;\n    }\n\n    .dataframe thead th {\n        text-align: right;\n    }\n</style>\n<table border=\"1\" class=\"dataframe\">\n  <thead>\n    <tr style=\"text-align: right;\">\n      <th></th>\n      <th>id</th>\n      <th>molecule_name</th>\n      <th>atom_index_0</th>\n      <th>atom_index_1</th>\n      <th>atom_0</th>\n      <th>x_0</th>\n      <th>y_0</th>\n      <th>z_0</th>\n      <th>atom_1</th>\n      <th>x_1</th>\n      <th>...</th>\n      <th>type</th>\n      <th>scalar_coupling_constant</th>\n      <th>distance</th>\n      <th>type_enc</th>\n      <th>pairs</th>\n      <th>pairs_enc</th>\n      <th>bond</th>\n      <th>bond_int</th>\n      <th>total_charge</th>\n      <th>dp</th>\n    </tr>\n  </thead>\n  <tbody>\n    <tr>\n      <th>0</th>\n      <td>0</td>\n      <td>dsgdb9nsd_000001</td>\n      <td>1</td>\n      <td>0</td>\n      <td>H</td>\n      <td>0.002150</td>\n      <td>-0.006031</td>\n      <td>0.001976</td>\n      <td>C</td>\n      <td>-0.012698</td>\n      <td>...</td>\n      <td>1JHC</td>\n      <td>84.8076</td>\n      <td>1.091953</td>\n      <td>0</td>\n      <td>c_h</td>\n      <td>2</td>\n      <td>0.919760</td>\n      <td>1</td>\n      <td>-0.401768</td>\n      <td>-3.655913e-01</td>\n    </tr>\n    <tr>\n      <th>1</th>\n      <td>1</td>\n      <td>dsgdb9nsd_000001</td>\n      <td>1</td>\n      <td>2</td>\n      <td>H</td>\n      <td>0.002150</td>\n      <td>-0.006031</td>\n      <td>0.001976</td>\n      <td>H</td>\n      <td>1.011731</td>\n      <td>...</td>\n      <td>2JHH</td>\n      <td>-11.2570</td>\n      <td>1.783120</td>\n      <td>3</td>\n      <td>h_h</td>\n      <td>11</td>\n      <td>0.648310</td>\n      <td>1</td>\n      <td>0.267843</td>\n      <td>8.915599e-07</td>\n    </tr>\n    <tr>\n      <th>2</th>\n      <td>2</td>\n      <td>dsgdb9nsd_000001</td>\n      <td>1</td>\n      <td>3</td>\n      <td>H</td>\n      <td>0.002150</td>\n      <td>-0.006031</td>\n      <td>0.001976</td>\n      <td>H</td>\n      <td>-0.540815</td>\n      <td>...</td>\n      <td>2JHH</td>\n      <td>-11.2548</td>\n      <td>1.783147</td>\n      <td>3</td>\n      <td>h_h</td>\n      <td>11</td>\n      <td>0.648205</td>\n      <td>1</td>\n      <td>0.267844</td>\n      <td>1.783147e-06</td>\n    </tr>\n    <tr>\n      <th>3</th>\n      <td>3</td>\n      <td>dsgdb9nsd_000001</td>\n      <td>1</td>\n      <td>4</td>\n      <td>H</td>\n      <td>0.002150</td>\n      <td>-0.006031</td>\n      <td>0.001976</td>\n      <td>H</td>\n      <td>-0.523814</td>\n      <td>...</td>\n      <td>2JHH</td>\n      <td>-11.2543</td>\n      <td>1.783157</td>\n      <td>3</td>\n      <td>h_h</td>\n      <td>11</td>\n      <td>0.648170</td>\n      <td>1</td>\n      <td>0.267844</td>\n      <td>1.783157e-06</td>\n    </tr>\n    <tr>\n      <th>4</th>\n      <td>4</td>\n      <td>dsgdb9nsd_000001</td>\n      <td>2</td>\n      <td>0</td>\n      <td>H</td>\n      <td>1.011731</td>\n      <td>1.463751</td>\n      <td>0.000277</td>\n      <td>C</td>\n      <td>-0.012698</td>\n      <td>...</td>\n      <td>1JHC</td>\n      <td>84.8074</td>\n      <td>1.091952</td>\n      <td>0</td>\n      <td>c_h</td>\n      <td>2</td>\n      <td>0.919760</td>\n      <td>1</td>\n      <td>-0.401767</td>\n      <td>-3.655914e-01</td>\n    </tr>\n  </tbody>\n</table>\n<p>5 rows \u00d7 24 columns</p>\n</div>", 
                        "text/plain": "   id     molecule_name  atom_index_0  atom_index_1 atom_0       x_0  \\\n0   0  dsgdb9nsd_000001             1             0      H  0.002150   \n1   1  dsgdb9nsd_000001             1             2      H  0.002150   \n2   2  dsgdb9nsd_000001             1             3      H  0.002150   \n3   3  dsgdb9nsd_000001             1             4      H  0.002150   \n4   4  dsgdb9nsd_000001             2             0      H  1.011731   \n\n        y_0       z_0 atom_1       x_1  ...  type  scalar_coupling_constant  \\\n0 -0.006031  0.001976      C -0.012698  ...  1JHC                   84.8076   \n1 -0.006031  0.001976      H  1.011731  ...  2JHH                  -11.2570   \n2 -0.006031  0.001976      H -0.540815  ...  2JHH                  -11.2548   \n3 -0.006031  0.001976      H -0.523814  ...  2JHH                  -11.2543   \n4  1.463751  0.000277      C -0.012698  ...  1JHC                   84.8074   \n\n   distance  type_enc pairs  pairs_enc      bond  bond_int total_charge  \\\n0  1.091953         0   c_h          2  0.919760         1    -0.401768   \n1  1.783120         3   h_h         11  0.648310         1     0.267843   \n2  1.783147         3   h_h         11  0.648205         1     0.267844   \n3  1.783157         3   h_h         11  0.648170         1     0.267844   \n4  1.091952         0   c_h          2  0.919760         1    -0.401767   \n\n             dp  \n0 -3.655913e-01  \n1  8.915599e-07  \n2  1.783147e-06  \n3  1.783157e-06  \n4 -3.655914e-01  \n\n[5 rows x 24 columns]"
                    }, 
                    "output_type": "execute_result"
                }, 
                {
                    "execution_count": 40, 
                    "metadata": {}, 
                    "data": {
                        "text/html": "<div>\n<style scoped>\n    .dataframe tbody tr th:only-of-type {\n        vertical-align: middle;\n    }\n\n    .dataframe tbody tr th {\n        vertical-align: top;\n    }\n\n    .dataframe thead th {\n        text-align: right;\n    }\n</style>\n<table border=\"1\" class=\"dataframe\">\n  <thead>\n    <tr style=\"text-align: right;\">\n      <th></th>\n      <th>id</th>\n      <th>molecule_name</th>\n      <th>atom_index_0</th>\n      <th>atom_index_1</th>\n      <th>atom_0</th>\n      <th>x_0</th>\n      <th>y_0</th>\n      <th>z_0</th>\n      <th>atom_1</th>\n      <th>x_1</th>\n      <th>...</th>\n      <th>type</th>\n      <th>scalar_coupling_constant</th>\n      <th>distance</th>\n      <th>type_enc</th>\n      <th>pairs</th>\n      <th>pairs_enc</th>\n      <th>bond</th>\n      <th>bond_int</th>\n      <th>total_charge</th>\n      <th>dp</th>\n    </tr>\n  </thead>\n  <tbody>\n    <tr>\n      <th>0</th>\n      <td>0</td>\n      <td>dsgdb9nsd_000001</td>\n      <td>1</td>\n      <td>0</td>\n      <td>H</td>\n      <td>0.002150</td>\n      <td>-0.006031</td>\n      <td>0.001976</td>\n      <td>C</td>\n      <td>-0.012698</td>\n      <td>...</td>\n      <td>1JHC</td>\n      <td>84.8076</td>\n      <td>1.091953</td>\n      <td>0</td>\n      <td>c_h</td>\n      <td>2</td>\n      <td>0.919760</td>\n      <td>1</td>\n      <td>-0.401768</td>\n      <td>-3.655913e-01</td>\n    </tr>\n    <tr>\n      <th>1</th>\n      <td>1</td>\n      <td>dsgdb9nsd_000001</td>\n      <td>1</td>\n      <td>2</td>\n      <td>H</td>\n      <td>0.002150</td>\n      <td>-0.006031</td>\n      <td>0.001976</td>\n      <td>H</td>\n      <td>1.011731</td>\n      <td>...</td>\n      <td>2JHH</td>\n      <td>-11.2570</td>\n      <td>1.783120</td>\n      <td>3</td>\n      <td>h_h</td>\n      <td>11</td>\n      <td>0.648310</td>\n      <td>1</td>\n      <td>0.267843</td>\n      <td>8.915599e-07</td>\n    </tr>\n    <tr>\n      <th>2</th>\n      <td>2</td>\n      <td>dsgdb9nsd_000001</td>\n      <td>1</td>\n      <td>3</td>\n      <td>H</td>\n      <td>0.002150</td>\n      <td>-0.006031</td>\n      <td>0.001976</td>\n      <td>H</td>\n      <td>-0.540815</td>\n      <td>...</td>\n      <td>2JHH</td>\n      <td>-11.2548</td>\n      <td>1.783147</td>\n      <td>3</td>\n      <td>h_h</td>\n      <td>11</td>\n      <td>0.648205</td>\n      <td>1</td>\n      <td>0.267844</td>\n      <td>1.783147e-06</td>\n    </tr>\n    <tr>\n      <th>3</th>\n      <td>3</td>\n      <td>dsgdb9nsd_000001</td>\n      <td>1</td>\n      <td>4</td>\n      <td>H</td>\n      <td>0.002150</td>\n      <td>-0.006031</td>\n      <td>0.001976</td>\n      <td>H</td>\n      <td>-0.523814</td>\n      <td>...</td>\n      <td>2JHH</td>\n      <td>-11.2543</td>\n      <td>1.783157</td>\n      <td>3</td>\n      <td>h_h</td>\n      <td>11</td>\n      <td>0.648170</td>\n      <td>1</td>\n      <td>0.267844</td>\n      <td>1.783157e-06</td>\n    </tr>\n    <tr>\n      <th>4</th>\n      <td>4</td>\n      <td>dsgdb9nsd_000001</td>\n      <td>2</td>\n      <td>0</td>\n      <td>H</td>\n      <td>1.011731</td>\n      <td>1.463751</td>\n      <td>0.000277</td>\n      <td>C</td>\n      <td>-0.012698</td>\n      <td>...</td>\n      <td>1JHC</td>\n      <td>84.8074</td>\n      <td>1.091952</td>\n      <td>0</td>\n      <td>c_h</td>\n      <td>2</td>\n      <td>0.919760</td>\n      <td>1</td>\n      <td>-0.401767</td>\n      <td>-3.655914e-01</td>\n    </tr>\n  </tbody>\n</table>\n<p>5 rows \u00d7 24 columns</p>\n</div>", 
                        "text/plain": "   id     molecule_name  atom_index_0  atom_index_1 atom_0       x_0  \\\n0   0  dsgdb9nsd_000001             1             0      H  0.002150   \n1   1  dsgdb9nsd_000001             1             2      H  0.002150   \n2   2  dsgdb9nsd_000001             1             3      H  0.002150   \n3   3  dsgdb9nsd_000001             1             4      H  0.002150   \n4   4  dsgdb9nsd_000001             2             0      H  1.011731   \n\n        y_0       z_0 atom_1       x_1  ...  type  scalar_coupling_constant  \\\n0 -0.006031  0.001976      C -0.012698  ...  1JHC                   84.8076   \n1 -0.006031  0.001976      H  1.011731  ...  2JHH                  -11.2570   \n2 -0.006031  0.001976      H -0.540815  ...  2JHH                  -11.2548   \n3 -0.006031  0.001976      H -0.523814  ...  2JHH                  -11.2543   \n4  1.463751  0.000277      C -0.012698  ...  1JHC                   84.8074   \n\n   distance  type_enc pairs  pairs_enc      bond  bond_int total_charge  \\\n0  1.091953         0   c_h          2  0.919760         1    -0.401768   \n1  1.783120         3   h_h         11  0.648310         1     0.267843   \n2  1.783147         3   h_h         11  0.648205         1     0.267844   \n3  1.783157         3   h_h         11  0.648170         1     0.267844   \n4  1.091952         0   c_h          2  0.919760         1    -0.401767   \n\n             dp  \n0 -3.655913e-01  \n1  8.915599e-07  \n2  1.783147e-06  \n3  1.783157e-06  \n4 -3.655914e-01  \n\n[5 rows x 24 columns]"
                    }, 
                    "output_type": "execute_result"
                }
            ], 
            "source": "train.head()"
        }, 
        {
            "source": "## Bond angle, dihedral angle", 
            "cell_type": "markdown", 
            "metadata": {}
        }, 
        {
            "execution_count": null, 
            "cell_type": "code", 
            "metadata": {}, 
            "outputs": [], 
            "source": ""
        }, 
        {
            "source": "# Feature Engineering (test)", 
            "cell_type": "markdown", 
            "metadata": {}
        }, 
        {
            "source": "## Mulliken Charge (Imputation)", 
            "cell_type": "markdown", 
            "metadata": {}
        }, 
        {
            "execution_count": 41, 
            "cell_type": "code", 
            "metadata": {}, 
            "outputs": [
                {
                    "execution_count": 41, 
                    "metadata": {}, 
                    "data": {
                        "text/html": "<div>\n<style scoped>\n    .dataframe tbody tr th:only-of-type {\n        vertical-align: middle;\n    }\n\n    .dataframe tbody tr th {\n        vertical-align: top;\n    }\n\n    .dataframe thead th {\n        text-align: right;\n    }\n</style>\n<table border=\"1\" class=\"dataframe\">\n  <thead>\n    <tr style=\"text-align: right;\">\n      <th></th>\n      <th>id</th>\n      <th>molecule_name</th>\n      <th>atom_index_0</th>\n      <th>atom_index_1</th>\n      <th>atom_0</th>\n      <th>x_0</th>\n      <th>y_0</th>\n      <th>z_0</th>\n      <th>atom_1</th>\n      <th>x_1</th>\n      <th>y_1</th>\n      <th>z_1</th>\n      <th>mulliken_charge_0</th>\n      <th>mulliken_charge_1</th>\n      <th>type</th>\n    </tr>\n  </thead>\n  <tbody>\n    <tr>\n      <th>0</th>\n      <td>4658147</td>\n      <td>dsgdb9nsd_000004</td>\n      <td>2</td>\n      <td>0</td>\n      <td>H</td>\n      <td>-1.661639</td>\n      <td>0.0</td>\n      <td>1.0</td>\n      <td>C</td>\n      <td>0.599539</td>\n      <td>0.0</td>\n      <td>1.0</td>\n      <td>NaN</td>\n      <td>NaN</td>\n      <td>2JHC</td>\n    </tr>\n    <tr>\n      <th>1</th>\n      <td>4658148</td>\n      <td>dsgdb9nsd_000004</td>\n      <td>2</td>\n      <td>1</td>\n      <td>H</td>\n      <td>-1.661639</td>\n      <td>0.0</td>\n      <td>1.0</td>\n      <td>C</td>\n      <td>-0.599539</td>\n      <td>0.0</td>\n      <td>1.0</td>\n      <td>NaN</td>\n      <td>NaN</td>\n      <td>1JHC</td>\n    </tr>\n    <tr>\n      <th>2</th>\n      <td>4658149</td>\n      <td>dsgdb9nsd_000004</td>\n      <td>2</td>\n      <td>3</td>\n      <td>H</td>\n      <td>-1.661639</td>\n      <td>0.0</td>\n      <td>1.0</td>\n      <td>H</td>\n      <td>1.661639</td>\n      <td>0.0</td>\n      <td>1.0</td>\n      <td>NaN</td>\n      <td>NaN</td>\n      <td>3JHH</td>\n    </tr>\n    <tr>\n      <th>3</th>\n      <td>4658150</td>\n      <td>dsgdb9nsd_000004</td>\n      <td>3</td>\n      <td>0</td>\n      <td>H</td>\n      <td>1.661639</td>\n      <td>0.0</td>\n      <td>1.0</td>\n      <td>C</td>\n      <td>0.599539</td>\n      <td>0.0</td>\n      <td>1.0</td>\n      <td>NaN</td>\n      <td>NaN</td>\n      <td>1JHC</td>\n    </tr>\n    <tr>\n      <th>4</th>\n      <td>4658151</td>\n      <td>dsgdb9nsd_000004</td>\n      <td>3</td>\n      <td>1</td>\n      <td>H</td>\n      <td>1.661639</td>\n      <td>0.0</td>\n      <td>1.0</td>\n      <td>C</td>\n      <td>-0.599539</td>\n      <td>0.0</td>\n      <td>1.0</td>\n      <td>NaN</td>\n      <td>NaN</td>\n      <td>2JHC</td>\n    </tr>\n  </tbody>\n</table>\n</div>", 
                        "text/plain": "        id     molecule_name  atom_index_0  atom_index_1 atom_0       x_0  \\\n0  4658147  dsgdb9nsd_000004             2             0      H -1.661639   \n1  4658148  dsgdb9nsd_000004             2             1      H -1.661639   \n2  4658149  dsgdb9nsd_000004             2             3      H -1.661639   \n3  4658150  dsgdb9nsd_000004             3             0      H  1.661639   \n4  4658151  dsgdb9nsd_000004             3             1      H  1.661639   \n\n   y_0  z_0 atom_1       x_1  y_1  z_1  mulliken_charge_0  mulliken_charge_1  \\\n0  0.0  1.0      C  0.599539  0.0  1.0                NaN                NaN   \n1  0.0  1.0      C -0.599539  0.0  1.0                NaN                NaN   \n2  0.0  1.0      H  1.661639  0.0  1.0                NaN                NaN   \n3  0.0  1.0      C  0.599539  0.0  1.0                NaN                NaN   \n4  0.0  1.0      C -0.599539  0.0  1.0                NaN                NaN   \n\n   type  \n0  2JHC  \n1  1JHC  \n2  3JHH  \n3  1JHC  \n4  2JHC  "
                    }, 
                    "output_type": "execute_result"
                }, 
                {
                    "execution_count": 41, 
                    "metadata": {}, 
                    "data": {
                        "text/html": "<div>\n<style scoped>\n    .dataframe tbody tr th:only-of-type {\n        vertical-align: middle;\n    }\n\n    .dataframe tbody tr th {\n        vertical-align: top;\n    }\n\n    .dataframe thead th {\n        text-align: right;\n    }\n</style>\n<table border=\"1\" class=\"dataframe\">\n  <thead>\n    <tr style=\"text-align: right;\">\n      <th></th>\n      <th>id</th>\n      <th>molecule_name</th>\n      <th>atom_index_0</th>\n      <th>atom_index_1</th>\n      <th>atom_0</th>\n      <th>x_0</th>\n      <th>y_0</th>\n      <th>z_0</th>\n      <th>atom_1</th>\n      <th>x_1</th>\n      <th>y_1</th>\n      <th>z_1</th>\n      <th>mulliken_charge_0</th>\n      <th>mulliken_charge_1</th>\n      <th>type</th>\n    </tr>\n  </thead>\n  <tbody>\n    <tr>\n      <th>0</th>\n      <td>4658147</td>\n      <td>dsgdb9nsd_000004</td>\n      <td>2</td>\n      <td>0</td>\n      <td>H</td>\n      <td>-1.661639</td>\n      <td>0.0</td>\n      <td>1.0</td>\n      <td>C</td>\n      <td>0.599539</td>\n      <td>0.0</td>\n      <td>1.0</td>\n      <td>NaN</td>\n      <td>NaN</td>\n      <td>2JHC</td>\n    </tr>\n    <tr>\n      <th>1</th>\n      <td>4658148</td>\n      <td>dsgdb9nsd_000004</td>\n      <td>2</td>\n      <td>1</td>\n      <td>H</td>\n      <td>-1.661639</td>\n      <td>0.0</td>\n      <td>1.0</td>\n      <td>C</td>\n      <td>-0.599539</td>\n      <td>0.0</td>\n      <td>1.0</td>\n      <td>NaN</td>\n      <td>NaN</td>\n      <td>1JHC</td>\n    </tr>\n    <tr>\n      <th>2</th>\n      <td>4658149</td>\n      <td>dsgdb9nsd_000004</td>\n      <td>2</td>\n      <td>3</td>\n      <td>H</td>\n      <td>-1.661639</td>\n      <td>0.0</td>\n      <td>1.0</td>\n      <td>H</td>\n      <td>1.661639</td>\n      <td>0.0</td>\n      <td>1.0</td>\n      <td>NaN</td>\n      <td>NaN</td>\n      <td>3JHH</td>\n    </tr>\n    <tr>\n      <th>3</th>\n      <td>4658150</td>\n      <td>dsgdb9nsd_000004</td>\n      <td>3</td>\n      <td>0</td>\n      <td>H</td>\n      <td>1.661639</td>\n      <td>0.0</td>\n      <td>1.0</td>\n      <td>C</td>\n      <td>0.599539</td>\n      <td>0.0</td>\n      <td>1.0</td>\n      <td>NaN</td>\n      <td>NaN</td>\n      <td>1JHC</td>\n    </tr>\n    <tr>\n      <th>4</th>\n      <td>4658151</td>\n      <td>dsgdb9nsd_000004</td>\n      <td>3</td>\n      <td>1</td>\n      <td>H</td>\n      <td>1.661639</td>\n      <td>0.0</td>\n      <td>1.0</td>\n      <td>C</td>\n      <td>-0.599539</td>\n      <td>0.0</td>\n      <td>1.0</td>\n      <td>NaN</td>\n      <td>NaN</td>\n      <td>2JHC</td>\n    </tr>\n  </tbody>\n</table>\n</div>", 
                        "text/plain": "        id     molecule_name  atom_index_0  atom_index_1 atom_0       x_0  \\\n0  4658147  dsgdb9nsd_000004             2             0      H -1.661639   \n1  4658148  dsgdb9nsd_000004             2             1      H -1.661639   \n2  4658149  dsgdb9nsd_000004             2             3      H -1.661639   \n3  4658150  dsgdb9nsd_000004             3             0      H  1.661639   \n4  4658151  dsgdb9nsd_000004             3             1      H  1.661639   \n\n   y_0  z_0 atom_1       x_1  y_1  z_1  mulliken_charge_0  mulliken_charge_1  \\\n0  0.0  1.0      C  0.599539  0.0  1.0                NaN                NaN   \n1  0.0  1.0      C -0.599539  0.0  1.0                NaN                NaN   \n2  0.0  1.0      H  1.661639  0.0  1.0                NaN                NaN   \n3  0.0  1.0      C  0.599539  0.0  1.0                NaN                NaN   \n4  0.0  1.0      C -0.599539  0.0  1.0                NaN                NaN   \n\n   type  \n0  2JHC  \n1  1JHC  \n2  3JHH  \n3  1JHC  \n4  2JHC  "
                    }, 
                    "output_type": "execute_result"
                }
            ], 
            "source": "test.head()"
        }, 
        {
            "execution_count": 42, 
            "cell_type": "code", 
            "metadata": {}, 
            "outputs": [
                {
                    "execution_count": 42, 
                    "metadata": {}, 
                    "data": {
                        "text/html": "<div>\n<style scoped>\n    .dataframe tbody tr th:only-of-type {\n        vertical-align: middle;\n    }\n\n    .dataframe tbody tr th {\n        vertical-align: top;\n    }\n\n    .dataframe thead th {\n        text-align: right;\n    }\n</style>\n<table border=\"1\" class=\"dataframe\">\n  <thead>\n    <tr style=\"text-align: right;\">\n      <th></th>\n      <th>atom_1</th>\n      <th>mulliken_charge_1</th>\n    </tr>\n  </thead>\n  <tbody>\n    <tr>\n      <th>0</th>\n      <td>C</td>\n      <td>-0.064872</td>\n    </tr>\n    <tr>\n      <th>1</th>\n      <td>H</td>\n      <td>0.118187</td>\n    </tr>\n    <tr>\n      <th>2</th>\n      <td>N</td>\n      <td>-0.269914</td>\n    </tr>\n  </tbody>\n</table>\n</div>", 
                        "text/plain": "  atom_1  mulliken_charge_1\n0      C          -0.064872\n1      H           0.118187\n2      N          -0.269914"
                    }, 
                    "output_type": "execute_result"
                }, 
                {
                    "execution_count": 42, 
                    "metadata": {}, 
                    "data": {
                        "text/html": "<div>\n<style scoped>\n    .dataframe tbody tr th:only-of-type {\n        vertical-align: middle;\n    }\n\n    .dataframe tbody tr th {\n        vertical-align: top;\n    }\n\n    .dataframe thead th {\n        text-align: right;\n    }\n</style>\n<table border=\"1\" class=\"dataframe\">\n  <thead>\n    <tr style=\"text-align: right;\">\n      <th></th>\n      <th>atom_1</th>\n      <th>mulliken_charge_1</th>\n    </tr>\n  </thead>\n  <tbody>\n    <tr>\n      <th>0</th>\n      <td>C</td>\n      <td>-0.064872</td>\n    </tr>\n    <tr>\n      <th>1</th>\n      <td>H</td>\n      <td>0.118187</td>\n    </tr>\n    <tr>\n      <th>2</th>\n      <td>N</td>\n      <td>-0.269914</td>\n    </tr>\n  </tbody>\n</table>\n</div>", 
                        "text/plain": "  atom_1  mulliken_charge_1\n0      C          -0.064872\n1      H           0.118187\n2      N          -0.269914"
                    }, 
                    "output_type": "execute_result"
                }
            ], 
            "source": "avg_charge=pd.DataFrame(train.groupby('atom_1')['mulliken_charge_1'].mean()).reset_index()\navg_charge.head()"
        }, 
        {
            "execution_count": 43, 
            "cell_type": "code", 
            "metadata": {}, 
            "outputs": [
                {
                    "execution_count": 43, 
                    "metadata": {}, 
                    "data": {
                        "text/html": "<div>\n<style scoped>\n    .dataframe tbody tr th:only-of-type {\n        vertical-align: middle;\n    }\n\n    .dataframe tbody tr th {\n        vertical-align: top;\n    }\n\n    .dataframe thead th {\n        text-align: right;\n    }\n</style>\n<table border=\"1\" class=\"dataframe\">\n  <thead>\n    <tr style=\"text-align: right;\">\n      <th></th>\n      <th>id</th>\n      <th>molecule_name</th>\n      <th>atom_index_0</th>\n      <th>atom_index_1</th>\n      <th>atom_0</th>\n      <th>x_0</th>\n      <th>y_0</th>\n      <th>z_0</th>\n      <th>atom_1</th>\n      <th>x_1</th>\n      <th>y_1</th>\n      <th>z_1</th>\n      <th>mulliken_charge_0</th>\n      <th>type</th>\n    </tr>\n  </thead>\n  <tbody>\n    <tr>\n      <th>0</th>\n      <td>4658147</td>\n      <td>dsgdb9nsd_000004</td>\n      <td>2</td>\n      <td>0</td>\n      <td>H</td>\n      <td>-1.661639</td>\n      <td>0.0</td>\n      <td>1.0</td>\n      <td>C</td>\n      <td>0.599539</td>\n      <td>0.0</td>\n      <td>1.0</td>\n      <td>NaN</td>\n      <td>2JHC</td>\n    </tr>\n    <tr>\n      <th>1</th>\n      <td>4658148</td>\n      <td>dsgdb9nsd_000004</td>\n      <td>2</td>\n      <td>1</td>\n      <td>H</td>\n      <td>-1.661639</td>\n      <td>0.0</td>\n      <td>1.0</td>\n      <td>C</td>\n      <td>-0.599539</td>\n      <td>0.0</td>\n      <td>1.0</td>\n      <td>NaN</td>\n      <td>1JHC</td>\n    </tr>\n    <tr>\n      <th>2</th>\n      <td>4658149</td>\n      <td>dsgdb9nsd_000004</td>\n      <td>2</td>\n      <td>3</td>\n      <td>H</td>\n      <td>-1.661639</td>\n      <td>0.0</td>\n      <td>1.0</td>\n      <td>H</td>\n      <td>1.661639</td>\n      <td>0.0</td>\n      <td>1.0</td>\n      <td>NaN</td>\n      <td>3JHH</td>\n    </tr>\n    <tr>\n      <th>3</th>\n      <td>4658150</td>\n      <td>dsgdb9nsd_000004</td>\n      <td>3</td>\n      <td>0</td>\n      <td>H</td>\n      <td>1.661639</td>\n      <td>0.0</td>\n      <td>1.0</td>\n      <td>C</td>\n      <td>0.599539</td>\n      <td>0.0</td>\n      <td>1.0</td>\n      <td>NaN</td>\n      <td>1JHC</td>\n    </tr>\n    <tr>\n      <th>4</th>\n      <td>4658151</td>\n      <td>dsgdb9nsd_000004</td>\n      <td>3</td>\n      <td>1</td>\n      <td>H</td>\n      <td>1.661639</td>\n      <td>0.0</td>\n      <td>1.0</td>\n      <td>C</td>\n      <td>-0.599539</td>\n      <td>0.0</td>\n      <td>1.0</td>\n      <td>NaN</td>\n      <td>2JHC</td>\n    </tr>\n  </tbody>\n</table>\n</div>", 
                        "text/plain": "        id     molecule_name  atom_index_0  atom_index_1 atom_0       x_0  \\\n0  4658147  dsgdb9nsd_000004             2             0      H -1.661639   \n1  4658148  dsgdb9nsd_000004             2             1      H -1.661639   \n2  4658149  dsgdb9nsd_000004             2             3      H -1.661639   \n3  4658150  dsgdb9nsd_000004             3             0      H  1.661639   \n4  4658151  dsgdb9nsd_000004             3             1      H  1.661639   \n\n   y_0  z_0 atom_1       x_1  y_1  z_1  mulliken_charge_0  type  \n0  0.0  1.0      C  0.599539  0.0  1.0                NaN  2JHC  \n1  0.0  1.0      C -0.599539  0.0  1.0                NaN  1JHC  \n2  0.0  1.0      H  1.661639  0.0  1.0                NaN  3JHH  \n3  0.0  1.0      C  0.599539  0.0  1.0                NaN  1JHC  \n4  0.0  1.0      C -0.599539  0.0  1.0                NaN  2JHC  "
                    }, 
                    "output_type": "execute_result"
                }, 
                {
                    "execution_count": 43, 
                    "metadata": {}, 
                    "data": {
                        "text/html": "<div>\n<style scoped>\n    .dataframe tbody tr th:only-of-type {\n        vertical-align: middle;\n    }\n\n    .dataframe tbody tr th {\n        vertical-align: top;\n    }\n\n    .dataframe thead th {\n        text-align: right;\n    }\n</style>\n<table border=\"1\" class=\"dataframe\">\n  <thead>\n    <tr style=\"text-align: right;\">\n      <th></th>\n      <th>id</th>\n      <th>molecule_name</th>\n      <th>atom_index_0</th>\n      <th>atom_index_1</th>\n      <th>atom_0</th>\n      <th>x_0</th>\n      <th>y_0</th>\n      <th>z_0</th>\n      <th>atom_1</th>\n      <th>x_1</th>\n      <th>y_1</th>\n      <th>z_1</th>\n      <th>mulliken_charge_0</th>\n      <th>type</th>\n    </tr>\n  </thead>\n  <tbody>\n    <tr>\n      <th>0</th>\n      <td>4658147</td>\n      <td>dsgdb9nsd_000004</td>\n      <td>2</td>\n      <td>0</td>\n      <td>H</td>\n      <td>-1.661639</td>\n      <td>0.0</td>\n      <td>1.0</td>\n      <td>C</td>\n      <td>0.599539</td>\n      <td>0.0</td>\n      <td>1.0</td>\n      <td>NaN</td>\n      <td>2JHC</td>\n    </tr>\n    <tr>\n      <th>1</th>\n      <td>4658148</td>\n      <td>dsgdb9nsd_000004</td>\n      <td>2</td>\n      <td>1</td>\n      <td>H</td>\n      <td>-1.661639</td>\n      <td>0.0</td>\n      <td>1.0</td>\n      <td>C</td>\n      <td>-0.599539</td>\n      <td>0.0</td>\n      <td>1.0</td>\n      <td>NaN</td>\n      <td>1JHC</td>\n    </tr>\n    <tr>\n      <th>2</th>\n      <td>4658149</td>\n      <td>dsgdb9nsd_000004</td>\n      <td>2</td>\n      <td>3</td>\n      <td>H</td>\n      <td>-1.661639</td>\n      <td>0.0</td>\n      <td>1.0</td>\n      <td>H</td>\n      <td>1.661639</td>\n      <td>0.0</td>\n      <td>1.0</td>\n      <td>NaN</td>\n      <td>3JHH</td>\n    </tr>\n    <tr>\n      <th>3</th>\n      <td>4658150</td>\n      <td>dsgdb9nsd_000004</td>\n      <td>3</td>\n      <td>0</td>\n      <td>H</td>\n      <td>1.661639</td>\n      <td>0.0</td>\n      <td>1.0</td>\n      <td>C</td>\n      <td>0.599539</td>\n      <td>0.0</td>\n      <td>1.0</td>\n      <td>NaN</td>\n      <td>1JHC</td>\n    </tr>\n    <tr>\n      <th>4</th>\n      <td>4658151</td>\n      <td>dsgdb9nsd_000004</td>\n      <td>3</td>\n      <td>1</td>\n      <td>H</td>\n      <td>1.661639</td>\n      <td>0.0</td>\n      <td>1.0</td>\n      <td>C</td>\n      <td>-0.599539</td>\n      <td>0.0</td>\n      <td>1.0</td>\n      <td>NaN</td>\n      <td>2JHC</td>\n    </tr>\n  </tbody>\n</table>\n</div>", 
                        "text/plain": "        id     molecule_name  atom_index_0  atom_index_1 atom_0       x_0  \\\n0  4658147  dsgdb9nsd_000004             2             0      H -1.661639   \n1  4658148  dsgdb9nsd_000004             2             1      H -1.661639   \n2  4658149  dsgdb9nsd_000004             2             3      H -1.661639   \n3  4658150  dsgdb9nsd_000004             3             0      H  1.661639   \n4  4658151  dsgdb9nsd_000004             3             1      H  1.661639   \n\n   y_0  z_0 atom_1       x_1  y_1  z_1  mulliken_charge_0  type  \n0  0.0  1.0      C  0.599539  0.0  1.0                NaN  2JHC  \n1  0.0  1.0      C -0.599539  0.0  1.0                NaN  1JHC  \n2  0.0  1.0      H  1.661639  0.0  1.0                NaN  3JHH  \n3  0.0  1.0      C  0.599539  0.0  1.0                NaN  1JHC  \n4  0.0  1.0      C -0.599539  0.0  1.0                NaN  2JHC  "
                    }, 
                    "output_type": "execute_result"
                }
            ], 
            "source": "test.drop('mulliken_charge_1',axis=1,inplace=True)\ntest.head()"
        }, 
        {
            "execution_count": 44, 
            "cell_type": "code", 
            "metadata": {}, 
            "outputs": [
                {
                    "execution_count": 44, 
                    "metadata": {}, 
                    "data": {
                        "text/html": "<div>\n<style scoped>\n    .dataframe tbody tr th:only-of-type {\n        vertical-align: middle;\n    }\n\n    .dataframe tbody tr th {\n        vertical-align: top;\n    }\n\n    .dataframe thead th {\n        text-align: right;\n    }\n</style>\n<table border=\"1\" class=\"dataframe\">\n  <thead>\n    <tr style=\"text-align: right;\">\n      <th></th>\n      <th>id</th>\n      <th>molecule_name</th>\n      <th>atom_index_0</th>\n      <th>atom_index_1</th>\n      <th>atom_0</th>\n      <th>x_0</th>\n      <th>y_0</th>\n      <th>z_0</th>\n      <th>atom_1</th>\n      <th>x_1</th>\n      <th>y_1</th>\n      <th>z_1</th>\n      <th>mulliken_charge_0</th>\n      <th>type</th>\n      <th>mulliken_charge_1</th>\n    </tr>\n  </thead>\n  <tbody>\n    <tr>\n      <th>0</th>\n      <td>4658147</td>\n      <td>dsgdb9nsd_000004</td>\n      <td>2</td>\n      <td>0</td>\n      <td>H</td>\n      <td>-1.661639</td>\n      <td>0.0</td>\n      <td>1.0</td>\n      <td>C</td>\n      <td>0.599539</td>\n      <td>0.0</td>\n      <td>1.0</td>\n      <td>NaN</td>\n      <td>2JHC</td>\n      <td>-0.064872</td>\n    </tr>\n    <tr>\n      <th>1</th>\n      <td>4658148</td>\n      <td>dsgdb9nsd_000004</td>\n      <td>2</td>\n      <td>1</td>\n      <td>H</td>\n      <td>-1.661639</td>\n      <td>0.0</td>\n      <td>1.0</td>\n      <td>C</td>\n      <td>-0.599539</td>\n      <td>0.0</td>\n      <td>1.0</td>\n      <td>NaN</td>\n      <td>1JHC</td>\n      <td>-0.064872</td>\n    </tr>\n    <tr>\n      <th>2</th>\n      <td>4658149</td>\n      <td>dsgdb9nsd_000004</td>\n      <td>2</td>\n      <td>3</td>\n      <td>H</td>\n      <td>-1.661639</td>\n      <td>0.0</td>\n      <td>1.0</td>\n      <td>H</td>\n      <td>1.661639</td>\n      <td>0.0</td>\n      <td>1.0</td>\n      <td>NaN</td>\n      <td>3JHH</td>\n      <td>0.118187</td>\n    </tr>\n    <tr>\n      <th>3</th>\n      <td>4658150</td>\n      <td>dsgdb9nsd_000004</td>\n      <td>3</td>\n      <td>0</td>\n      <td>H</td>\n      <td>1.661639</td>\n      <td>0.0</td>\n      <td>1.0</td>\n      <td>C</td>\n      <td>0.599539</td>\n      <td>0.0</td>\n      <td>1.0</td>\n      <td>NaN</td>\n      <td>1JHC</td>\n      <td>-0.064872</td>\n    </tr>\n    <tr>\n      <th>4</th>\n      <td>4658151</td>\n      <td>dsgdb9nsd_000004</td>\n      <td>3</td>\n      <td>1</td>\n      <td>H</td>\n      <td>1.661639</td>\n      <td>0.0</td>\n      <td>1.0</td>\n      <td>C</td>\n      <td>-0.599539</td>\n      <td>0.0</td>\n      <td>1.0</td>\n      <td>NaN</td>\n      <td>2JHC</td>\n      <td>-0.064872</td>\n    </tr>\n  </tbody>\n</table>\n</div>", 
                        "text/plain": "        id     molecule_name  atom_index_0  atom_index_1 atom_0       x_0  \\\n0  4658147  dsgdb9nsd_000004             2             0      H -1.661639   \n1  4658148  dsgdb9nsd_000004             2             1      H -1.661639   \n2  4658149  dsgdb9nsd_000004             2             3      H -1.661639   \n3  4658150  dsgdb9nsd_000004             3             0      H  1.661639   \n4  4658151  dsgdb9nsd_000004             3             1      H  1.661639   \n\n   y_0  z_0 atom_1       x_1  y_1  z_1  mulliken_charge_0  type  \\\n0  0.0  1.0      C  0.599539  0.0  1.0                NaN  2JHC   \n1  0.0  1.0      C -0.599539  0.0  1.0                NaN  1JHC   \n2  0.0  1.0      H  1.661639  0.0  1.0                NaN  3JHH   \n3  0.0  1.0      C  0.599539  0.0  1.0                NaN  1JHC   \n4  0.0  1.0      C -0.599539  0.0  1.0                NaN  2JHC   \n\n   mulliken_charge_1  \n0          -0.064872  \n1          -0.064872  \n2           0.118187  \n3          -0.064872  \n4          -0.064872  "
                    }, 
                    "output_type": "execute_result"
                }, 
                {
                    "execution_count": 44, 
                    "metadata": {}, 
                    "data": {
                        "text/html": "<div>\n<style scoped>\n    .dataframe tbody tr th:only-of-type {\n        vertical-align: middle;\n    }\n\n    .dataframe tbody tr th {\n        vertical-align: top;\n    }\n\n    .dataframe thead th {\n        text-align: right;\n    }\n</style>\n<table border=\"1\" class=\"dataframe\">\n  <thead>\n    <tr style=\"text-align: right;\">\n      <th></th>\n      <th>id</th>\n      <th>molecule_name</th>\n      <th>atom_index_0</th>\n      <th>atom_index_1</th>\n      <th>atom_0</th>\n      <th>x_0</th>\n      <th>y_0</th>\n      <th>z_0</th>\n      <th>atom_1</th>\n      <th>x_1</th>\n      <th>y_1</th>\n      <th>z_1</th>\n      <th>mulliken_charge_0</th>\n      <th>type</th>\n      <th>mulliken_charge_1</th>\n    </tr>\n  </thead>\n  <tbody>\n    <tr>\n      <th>0</th>\n      <td>4658147</td>\n      <td>dsgdb9nsd_000004</td>\n      <td>2</td>\n      <td>0</td>\n      <td>H</td>\n      <td>-1.661639</td>\n      <td>0.0</td>\n      <td>1.0</td>\n      <td>C</td>\n      <td>0.599539</td>\n      <td>0.0</td>\n      <td>1.0</td>\n      <td>NaN</td>\n      <td>2JHC</td>\n      <td>-0.064872</td>\n    </tr>\n    <tr>\n      <th>1</th>\n      <td>4658148</td>\n      <td>dsgdb9nsd_000004</td>\n      <td>2</td>\n      <td>1</td>\n      <td>H</td>\n      <td>-1.661639</td>\n      <td>0.0</td>\n      <td>1.0</td>\n      <td>C</td>\n      <td>-0.599539</td>\n      <td>0.0</td>\n      <td>1.0</td>\n      <td>NaN</td>\n      <td>1JHC</td>\n      <td>-0.064872</td>\n    </tr>\n    <tr>\n      <th>2</th>\n      <td>4658149</td>\n      <td>dsgdb9nsd_000004</td>\n      <td>2</td>\n      <td>3</td>\n      <td>H</td>\n      <td>-1.661639</td>\n      <td>0.0</td>\n      <td>1.0</td>\n      <td>H</td>\n      <td>1.661639</td>\n      <td>0.0</td>\n      <td>1.0</td>\n      <td>NaN</td>\n      <td>3JHH</td>\n      <td>0.118187</td>\n    </tr>\n    <tr>\n      <th>3</th>\n      <td>4658150</td>\n      <td>dsgdb9nsd_000004</td>\n      <td>3</td>\n      <td>0</td>\n      <td>H</td>\n      <td>1.661639</td>\n      <td>0.0</td>\n      <td>1.0</td>\n      <td>C</td>\n      <td>0.599539</td>\n      <td>0.0</td>\n      <td>1.0</td>\n      <td>NaN</td>\n      <td>1JHC</td>\n      <td>-0.064872</td>\n    </tr>\n    <tr>\n      <th>4</th>\n      <td>4658151</td>\n      <td>dsgdb9nsd_000004</td>\n      <td>3</td>\n      <td>1</td>\n      <td>H</td>\n      <td>1.661639</td>\n      <td>0.0</td>\n      <td>1.0</td>\n      <td>C</td>\n      <td>-0.599539</td>\n      <td>0.0</td>\n      <td>1.0</td>\n      <td>NaN</td>\n      <td>2JHC</td>\n      <td>-0.064872</td>\n    </tr>\n  </tbody>\n</table>\n</div>", 
                        "text/plain": "        id     molecule_name  atom_index_0  atom_index_1 atom_0       x_0  \\\n0  4658147  dsgdb9nsd_000004             2             0      H -1.661639   \n1  4658148  dsgdb9nsd_000004             2             1      H -1.661639   \n2  4658149  dsgdb9nsd_000004             2             3      H -1.661639   \n3  4658150  dsgdb9nsd_000004             3             0      H  1.661639   \n4  4658151  dsgdb9nsd_000004             3             1      H  1.661639   \n\n   y_0  z_0 atom_1       x_1  y_1  z_1  mulliken_charge_0  type  \\\n0  0.0  1.0      C  0.599539  0.0  1.0                NaN  2JHC   \n1  0.0  1.0      C -0.599539  0.0  1.0                NaN  1JHC   \n2  0.0  1.0      H  1.661639  0.0  1.0                NaN  3JHH   \n3  0.0  1.0      C  0.599539  0.0  1.0                NaN  1JHC   \n4  0.0  1.0      C -0.599539  0.0  1.0                NaN  2JHC   \n\n   mulliken_charge_1  \n0          -0.064872  \n1          -0.064872  \n2           0.118187  \n3          -0.064872  \n4          -0.064872  "
                    }, 
                    "output_type": "execute_result"
                }
            ], 
            "source": "test=pd.merge(test,avg_charge,on='atom_1',how='left')\ntest.head()"
        }, 
        {
            "execution_count": 45, 
            "cell_type": "code", 
            "metadata": {}, 
            "outputs": [
                {
                    "execution_count": 45, 
                    "metadata": {}, 
                    "data": {
                        "text/html": "<div>\n<style scoped>\n    .dataframe tbody tr th:only-of-type {\n        vertical-align: middle;\n    }\n\n    .dataframe tbody tr th {\n        vertical-align: top;\n    }\n\n    .dataframe thead th {\n        text-align: right;\n    }\n</style>\n<table border=\"1\" class=\"dataframe\">\n  <thead>\n    <tr style=\"text-align: right;\">\n      <th></th>\n      <th>id</th>\n      <th>molecule_name</th>\n      <th>atom_index_0</th>\n      <th>atom_index_1</th>\n      <th>atom_0</th>\n      <th>x_0</th>\n      <th>y_0</th>\n      <th>z_0</th>\n      <th>atom_1</th>\n      <th>x_1</th>\n      <th>y_1</th>\n      <th>z_1</th>\n      <th>mulliken_charge_0</th>\n      <th>type</th>\n      <th>mulliken_charge_1</th>\n    </tr>\n  </thead>\n  <tbody>\n    <tr>\n      <th>0</th>\n      <td>4658147</td>\n      <td>dsgdb9nsd_000004</td>\n      <td>2</td>\n      <td>0</td>\n      <td>H</td>\n      <td>-1.661639</td>\n      <td>0.0</td>\n      <td>1.0</td>\n      <td>C</td>\n      <td>0.599539</td>\n      <td>0.0</td>\n      <td>1.0</td>\n      <td>0.12211</td>\n      <td>2JHC</td>\n      <td>-0.064872</td>\n    </tr>\n    <tr>\n      <th>1</th>\n      <td>4658148</td>\n      <td>dsgdb9nsd_000004</td>\n      <td>2</td>\n      <td>1</td>\n      <td>H</td>\n      <td>-1.661639</td>\n      <td>0.0</td>\n      <td>1.0</td>\n      <td>C</td>\n      <td>-0.599539</td>\n      <td>0.0</td>\n      <td>1.0</td>\n      <td>0.12211</td>\n      <td>1JHC</td>\n      <td>-0.064872</td>\n    </tr>\n    <tr>\n      <th>2</th>\n      <td>4658149</td>\n      <td>dsgdb9nsd_000004</td>\n      <td>2</td>\n      <td>3</td>\n      <td>H</td>\n      <td>-1.661639</td>\n      <td>0.0</td>\n      <td>1.0</td>\n      <td>H</td>\n      <td>1.661639</td>\n      <td>0.0</td>\n      <td>1.0</td>\n      <td>0.12211</td>\n      <td>3JHH</td>\n      <td>0.118187</td>\n    </tr>\n    <tr>\n      <th>3</th>\n      <td>4658150</td>\n      <td>dsgdb9nsd_000004</td>\n      <td>3</td>\n      <td>0</td>\n      <td>H</td>\n      <td>1.661639</td>\n      <td>0.0</td>\n      <td>1.0</td>\n      <td>C</td>\n      <td>0.599539</td>\n      <td>0.0</td>\n      <td>1.0</td>\n      <td>0.12211</td>\n      <td>1JHC</td>\n      <td>-0.064872</td>\n    </tr>\n    <tr>\n      <th>4</th>\n      <td>4658151</td>\n      <td>dsgdb9nsd_000004</td>\n      <td>3</td>\n      <td>1</td>\n      <td>H</td>\n      <td>1.661639</td>\n      <td>0.0</td>\n      <td>1.0</td>\n      <td>C</td>\n      <td>-0.599539</td>\n      <td>0.0</td>\n      <td>1.0</td>\n      <td>0.12211</td>\n      <td>2JHC</td>\n      <td>-0.064872</td>\n    </tr>\n  </tbody>\n</table>\n</div>", 
                        "text/plain": "        id     molecule_name  atom_index_0  atom_index_1 atom_0       x_0  \\\n0  4658147  dsgdb9nsd_000004             2             0      H -1.661639   \n1  4658148  dsgdb9nsd_000004             2             1      H -1.661639   \n2  4658149  dsgdb9nsd_000004             2             3      H -1.661639   \n3  4658150  dsgdb9nsd_000004             3             0      H  1.661639   \n4  4658151  dsgdb9nsd_000004             3             1      H  1.661639   \n\n   y_0  z_0 atom_1       x_1  y_1  z_1  mulliken_charge_0  type  \\\n0  0.0  1.0      C  0.599539  0.0  1.0            0.12211  2JHC   \n1  0.0  1.0      C -0.599539  0.0  1.0            0.12211  1JHC   \n2  0.0  1.0      H  1.661639  0.0  1.0            0.12211  3JHH   \n3  0.0  1.0      C  0.599539  0.0  1.0            0.12211  1JHC   \n4  0.0  1.0      C -0.599539  0.0  1.0            0.12211  2JHC   \n\n   mulliken_charge_1  \n0          -0.064872  \n1          -0.064872  \n2           0.118187  \n3          -0.064872  \n4          -0.064872  "
                    }, 
                    "output_type": "execute_result"
                }, 
                {
                    "execution_count": 45, 
                    "metadata": {}, 
                    "data": {
                        "text/html": "<div>\n<style scoped>\n    .dataframe tbody tr th:only-of-type {\n        vertical-align: middle;\n    }\n\n    .dataframe tbody tr th {\n        vertical-align: top;\n    }\n\n    .dataframe thead th {\n        text-align: right;\n    }\n</style>\n<table border=\"1\" class=\"dataframe\">\n  <thead>\n    <tr style=\"text-align: right;\">\n      <th></th>\n      <th>id</th>\n      <th>molecule_name</th>\n      <th>atom_index_0</th>\n      <th>atom_index_1</th>\n      <th>atom_0</th>\n      <th>x_0</th>\n      <th>y_0</th>\n      <th>z_0</th>\n      <th>atom_1</th>\n      <th>x_1</th>\n      <th>y_1</th>\n      <th>z_1</th>\n      <th>mulliken_charge_0</th>\n      <th>type</th>\n      <th>mulliken_charge_1</th>\n    </tr>\n  </thead>\n  <tbody>\n    <tr>\n      <th>0</th>\n      <td>4658147</td>\n      <td>dsgdb9nsd_000004</td>\n      <td>2</td>\n      <td>0</td>\n      <td>H</td>\n      <td>-1.661639</td>\n      <td>0.0</td>\n      <td>1.0</td>\n      <td>C</td>\n      <td>0.599539</td>\n      <td>0.0</td>\n      <td>1.0</td>\n      <td>0.12211</td>\n      <td>2JHC</td>\n      <td>-0.064872</td>\n    </tr>\n    <tr>\n      <th>1</th>\n      <td>4658148</td>\n      <td>dsgdb9nsd_000004</td>\n      <td>2</td>\n      <td>1</td>\n      <td>H</td>\n      <td>-1.661639</td>\n      <td>0.0</td>\n      <td>1.0</td>\n      <td>C</td>\n      <td>-0.599539</td>\n      <td>0.0</td>\n      <td>1.0</td>\n      <td>0.12211</td>\n      <td>1JHC</td>\n      <td>-0.064872</td>\n    </tr>\n    <tr>\n      <th>2</th>\n      <td>4658149</td>\n      <td>dsgdb9nsd_000004</td>\n      <td>2</td>\n      <td>3</td>\n      <td>H</td>\n      <td>-1.661639</td>\n      <td>0.0</td>\n      <td>1.0</td>\n      <td>H</td>\n      <td>1.661639</td>\n      <td>0.0</td>\n      <td>1.0</td>\n      <td>0.12211</td>\n      <td>3JHH</td>\n      <td>0.118187</td>\n    </tr>\n    <tr>\n      <th>3</th>\n      <td>4658150</td>\n      <td>dsgdb9nsd_000004</td>\n      <td>3</td>\n      <td>0</td>\n      <td>H</td>\n      <td>1.661639</td>\n      <td>0.0</td>\n      <td>1.0</td>\n      <td>C</td>\n      <td>0.599539</td>\n      <td>0.0</td>\n      <td>1.0</td>\n      <td>0.12211</td>\n      <td>1JHC</td>\n      <td>-0.064872</td>\n    </tr>\n    <tr>\n      <th>4</th>\n      <td>4658151</td>\n      <td>dsgdb9nsd_000004</td>\n      <td>3</td>\n      <td>1</td>\n      <td>H</td>\n      <td>1.661639</td>\n      <td>0.0</td>\n      <td>1.0</td>\n      <td>C</td>\n      <td>-0.599539</td>\n      <td>0.0</td>\n      <td>1.0</td>\n      <td>0.12211</td>\n      <td>2JHC</td>\n      <td>-0.064872</td>\n    </tr>\n  </tbody>\n</table>\n</div>", 
                        "text/plain": "        id     molecule_name  atom_index_0  atom_index_1 atom_0       x_0  \\\n0  4658147  dsgdb9nsd_000004             2             0      H -1.661639   \n1  4658148  dsgdb9nsd_000004             2             1      H -1.661639   \n2  4658149  dsgdb9nsd_000004             2             3      H -1.661639   \n3  4658150  dsgdb9nsd_000004             3             0      H  1.661639   \n4  4658151  dsgdb9nsd_000004             3             1      H  1.661639   \n\n   y_0  z_0 atom_1       x_1  y_1  z_1  mulliken_charge_0  type  \\\n0  0.0  1.0      C  0.599539  0.0  1.0            0.12211  2JHC   \n1  0.0  1.0      C -0.599539  0.0  1.0            0.12211  1JHC   \n2  0.0  1.0      H  1.661639  0.0  1.0            0.12211  3JHH   \n3  0.0  1.0      C  0.599539  0.0  1.0            0.12211  1JHC   \n4  0.0  1.0      C -0.599539  0.0  1.0            0.12211  2JHC   \n\n   mulliken_charge_1  \n0          -0.064872  \n1          -0.064872  \n2           0.118187  \n3          -0.064872  \n4          -0.064872  "
                    }, 
                    "output_type": "execute_result"
                }
            ], 
            "source": "#only H is present\ntest['mulliken_charge_0']=train['mulliken_charge_0'].mean()\ntest.head()"
        }, 
        {
            "source": "## Euclidian Distance", 
            "cell_type": "markdown", 
            "metadata": {}
        }, 
        {
            "execution_count": 15, 
            "cell_type": "code", 
            "metadata": {}, 
            "outputs": [
                {
                    "execution_count": 15, 
                    "metadata": {}, 
                    "data": {
                        "text/html": "<div>\n<style scoped>\n    .dataframe tbody tr th:only-of-type {\n        vertical-align: middle;\n    }\n\n    .dataframe tbody tr th {\n        vertical-align: top;\n    }\n\n    .dataframe thead th {\n        text-align: right;\n    }\n</style>\n<table border=\"1\" class=\"dataframe\">\n  <thead>\n    <tr style=\"text-align: right;\">\n      <th></th>\n      <th>id</th>\n      <th>molecule_name</th>\n      <th>atom_index_0</th>\n      <th>atom_index_1</th>\n      <th>atom_0</th>\n      <th>x_0</th>\n      <th>y_0</th>\n      <th>z_0</th>\n      <th>atom_1</th>\n      <th>x_1</th>\n      <th>y_1</th>\n      <th>z_1</th>\n      <th>mulliken_charge_0</th>\n      <th>mulliken_charge_1</th>\n      <th>type</th>\n      <th>distance</th>\n    </tr>\n  </thead>\n  <tbody>\n    <tr>\n      <th>0</th>\n      <td>4658147</td>\n      <td>dsgdb9nsd_000004</td>\n      <td>2</td>\n      <td>0</td>\n      <td>H</td>\n      <td>-1.661639</td>\n      <td>0.0</td>\n      <td>1.0</td>\n      <td>C</td>\n      <td>0.599539</td>\n      <td>0.0</td>\n      <td>1.0</td>\n      <td>NaN</td>\n      <td>NaN</td>\n      <td>2JHC</td>\n      <td>2.261178</td>\n    </tr>\n    <tr>\n      <th>1</th>\n      <td>4658148</td>\n      <td>dsgdb9nsd_000004</td>\n      <td>2</td>\n      <td>1</td>\n      <td>H</td>\n      <td>-1.661639</td>\n      <td>0.0</td>\n      <td>1.0</td>\n      <td>C</td>\n      <td>-0.599539</td>\n      <td>0.0</td>\n      <td>1.0</td>\n      <td>NaN</td>\n      <td>NaN</td>\n      <td>1JHC</td>\n      <td>1.062099</td>\n    </tr>\n    <tr>\n      <th>2</th>\n      <td>4658149</td>\n      <td>dsgdb9nsd_000004</td>\n      <td>2</td>\n      <td>3</td>\n      <td>H</td>\n      <td>-1.661639</td>\n      <td>0.0</td>\n      <td>1.0</td>\n      <td>H</td>\n      <td>1.661639</td>\n      <td>0.0</td>\n      <td>1.0</td>\n      <td>NaN</td>\n      <td>NaN</td>\n      <td>3JHH</td>\n      <td>3.323277</td>\n    </tr>\n    <tr>\n      <th>3</th>\n      <td>4658150</td>\n      <td>dsgdb9nsd_000004</td>\n      <td>3</td>\n      <td>0</td>\n      <td>H</td>\n      <td>1.661639</td>\n      <td>0.0</td>\n      <td>1.0</td>\n      <td>C</td>\n      <td>0.599539</td>\n      <td>0.0</td>\n      <td>1.0</td>\n      <td>NaN</td>\n      <td>NaN</td>\n      <td>1JHC</td>\n      <td>1.062099</td>\n    </tr>\n    <tr>\n      <th>4</th>\n      <td>4658151</td>\n      <td>dsgdb9nsd_000004</td>\n      <td>3</td>\n      <td>1</td>\n      <td>H</td>\n      <td>1.661639</td>\n      <td>0.0</td>\n      <td>1.0</td>\n      <td>C</td>\n      <td>-0.599539</td>\n      <td>0.0</td>\n      <td>1.0</td>\n      <td>NaN</td>\n      <td>NaN</td>\n      <td>2JHC</td>\n      <td>2.261178</td>\n    </tr>\n  </tbody>\n</table>\n</div>", 
                        "text/plain": "        id     molecule_name  atom_index_0  atom_index_1 atom_0       x_0  \\\n0  4658147  dsgdb9nsd_000004             2             0      H -1.661639   \n1  4658148  dsgdb9nsd_000004             2             1      H -1.661639   \n2  4658149  dsgdb9nsd_000004             2             3      H -1.661639   \n3  4658150  dsgdb9nsd_000004             3             0      H  1.661639   \n4  4658151  dsgdb9nsd_000004             3             1      H  1.661639   \n\n   y_0  z_0 atom_1       x_1  y_1  z_1  mulliken_charge_0  mulliken_charge_1  \\\n0  0.0  1.0      C  0.599539  0.0  1.0                NaN                NaN   \n1  0.0  1.0      C -0.599539  0.0  1.0                NaN                NaN   \n2  0.0  1.0      H  1.661639  0.0  1.0                NaN                NaN   \n3  0.0  1.0      C  0.599539  0.0  1.0                NaN                NaN   \n4  0.0  1.0      C -0.599539  0.0  1.0                NaN                NaN   \n\n   type  distance  \n0  2JHC  2.261178  \n1  1JHC  1.062099  \n2  3JHH  3.323277  \n3  1JHC  1.062099  \n4  2JHC  2.261178  "
                    }, 
                    "output_type": "execute_result"
                }
            ], 
            "source": "test['distance']=get_distance(test)\ntest.head()"
        }, 
        {
            "source": "## one-hot encode atom names\n(Not neccessary)", 
            "cell_type": "markdown", 
            "metadata": {}
        }, 
        {
            "execution_count": 47, 
            "cell_type": "code", 
            "metadata": {}, 
            "outputs": [], 
            "source": "#test=test.join(pd.get_dummies(test['atom_0'],prefix='atom_0'))\n#test.head()"
        }, 
        {
            "execution_count": 48, 
            "cell_type": "code", 
            "metadata": {}, 
            "outputs": [], 
            "source": "#test=test.join(pd.get_dummies(test['atom_1'],prefix='atom_1'))\n#test.head()"
        }, 
        {
            "source": "## Label Encode type", 
            "cell_type": "markdown", 
            "metadata": {}
        }, 
        {
            "execution_count": 22, 
            "cell_type": "code", 
            "metadata": {}, 
            "outputs": [
                {
                    "execution_count": 22, 
                    "metadata": {}, 
                    "data": {
                        "text/html": "<div>\n<style scoped>\n    .dataframe tbody tr th:only-of-type {\n        vertical-align: middle;\n    }\n\n    .dataframe tbody tr th {\n        vertical-align: top;\n    }\n\n    .dataframe thead th {\n        text-align: right;\n    }\n</style>\n<table border=\"1\" class=\"dataframe\">\n  <thead>\n    <tr style=\"text-align: right;\">\n      <th></th>\n      <th>id</th>\n      <th>molecule_name</th>\n      <th>atom_index_0</th>\n      <th>atom_index_1</th>\n      <th>atom_0</th>\n      <th>x_0</th>\n      <th>y_0</th>\n      <th>z_0</th>\n      <th>atom_1</th>\n      <th>x_1</th>\n      <th>y_1</th>\n      <th>z_1</th>\n      <th>mulliken_charge_0</th>\n      <th>mulliken_charge_1</th>\n      <th>type</th>\n      <th>distance</th>\n      <th>type_enc</th>\n    </tr>\n  </thead>\n  <tbody>\n    <tr>\n      <th>0</th>\n      <td>4658147</td>\n      <td>dsgdb9nsd_000004</td>\n      <td>2</td>\n      <td>0</td>\n      <td>H</td>\n      <td>-1.661639</td>\n      <td>0.0</td>\n      <td>1.0</td>\n      <td>C</td>\n      <td>0.599539</td>\n      <td>0.0</td>\n      <td>1.0</td>\n      <td>NaN</td>\n      <td>NaN</td>\n      <td>2JHC</td>\n      <td>2.261178</td>\n      <td>2</td>\n    </tr>\n    <tr>\n      <th>1</th>\n      <td>4658148</td>\n      <td>dsgdb9nsd_000004</td>\n      <td>2</td>\n      <td>1</td>\n      <td>H</td>\n      <td>-1.661639</td>\n      <td>0.0</td>\n      <td>1.0</td>\n      <td>C</td>\n      <td>-0.599539</td>\n      <td>0.0</td>\n      <td>1.0</td>\n      <td>NaN</td>\n      <td>NaN</td>\n      <td>1JHC</td>\n      <td>1.062099</td>\n      <td>0</td>\n    </tr>\n    <tr>\n      <th>2</th>\n      <td>4658149</td>\n      <td>dsgdb9nsd_000004</td>\n      <td>2</td>\n      <td>3</td>\n      <td>H</td>\n      <td>-1.661639</td>\n      <td>0.0</td>\n      <td>1.0</td>\n      <td>H</td>\n      <td>1.661639</td>\n      <td>0.0</td>\n      <td>1.0</td>\n      <td>NaN</td>\n      <td>NaN</td>\n      <td>3JHH</td>\n      <td>3.323277</td>\n      <td>6</td>\n    </tr>\n    <tr>\n      <th>3</th>\n      <td>4658150</td>\n      <td>dsgdb9nsd_000004</td>\n      <td>3</td>\n      <td>0</td>\n      <td>H</td>\n      <td>1.661639</td>\n      <td>0.0</td>\n      <td>1.0</td>\n      <td>C</td>\n      <td>0.599539</td>\n      <td>0.0</td>\n      <td>1.0</td>\n      <td>NaN</td>\n      <td>NaN</td>\n      <td>1JHC</td>\n      <td>1.062099</td>\n      <td>0</td>\n    </tr>\n    <tr>\n      <th>4</th>\n      <td>4658151</td>\n      <td>dsgdb9nsd_000004</td>\n      <td>3</td>\n      <td>1</td>\n      <td>H</td>\n      <td>1.661639</td>\n      <td>0.0</td>\n      <td>1.0</td>\n      <td>C</td>\n      <td>-0.599539</td>\n      <td>0.0</td>\n      <td>1.0</td>\n      <td>NaN</td>\n      <td>NaN</td>\n      <td>2JHC</td>\n      <td>2.261178</td>\n      <td>2</td>\n    </tr>\n  </tbody>\n</table>\n</div>", 
                        "text/plain": "        id     molecule_name  atom_index_0  atom_index_1 atom_0       x_0  \\\n0  4658147  dsgdb9nsd_000004             2             0      H -1.661639   \n1  4658148  dsgdb9nsd_000004             2             1      H -1.661639   \n2  4658149  dsgdb9nsd_000004             2             3      H -1.661639   \n3  4658150  dsgdb9nsd_000004             3             0      H  1.661639   \n4  4658151  dsgdb9nsd_000004             3             1      H  1.661639   \n\n   y_0  z_0 atom_1       x_1  y_1  z_1  mulliken_charge_0  mulliken_charge_1  \\\n0  0.0  1.0      C  0.599539  0.0  1.0                NaN                NaN   \n1  0.0  1.0      C -0.599539  0.0  1.0                NaN                NaN   \n2  0.0  1.0      H  1.661639  0.0  1.0                NaN                NaN   \n3  0.0  1.0      C  0.599539  0.0  1.0                NaN                NaN   \n4  0.0  1.0      C -0.599539  0.0  1.0                NaN                NaN   \n\n   type  distance  type_enc  \n0  2JHC  2.261178         2  \n1  1JHC  1.062099         0  \n2  3JHH  3.323277         6  \n3  1JHC  1.062099         0  \n4  2JHC  2.261178         2  "
                    }, 
                    "output_type": "execute_result"
                }
            ], 
            "source": "test['type_enc']=le_type.transform(test['type'])\ntest.head()"
        }, 
        {
            "source": "## Pairs", 
            "cell_type": "markdown", 
            "metadata": {}
        }, 
        {
            "execution_count": 50, 
            "cell_type": "code", 
            "metadata": {}, 
            "outputs": [], 
            "source": "test['pairs']=(test['atom_0']+'_'+test['atom_1']).apply(lambda x:x.split('_')).apply(sorted).apply(lambda x:'_'.join(x)).apply(str.lower)"
        }, 
        {
            "execution_count": 51, 
            "cell_type": "code", 
            "metadata": {}, 
            "outputs": [
                {
                    "execution_count": 51, 
                    "metadata": {}, 
                    "data": {
                        "text/html": "<div>\n<style scoped>\n    .dataframe tbody tr th:only-of-type {\n        vertical-align: middle;\n    }\n\n    .dataframe tbody tr th {\n        vertical-align: top;\n    }\n\n    .dataframe thead th {\n        text-align: right;\n    }\n</style>\n<table border=\"1\" class=\"dataframe\">\n  <thead>\n    <tr style=\"text-align: right;\">\n      <th></th>\n      <th>id</th>\n      <th>molecule_name</th>\n      <th>atom_index_0</th>\n      <th>atom_index_1</th>\n      <th>atom_0</th>\n      <th>x_0</th>\n      <th>y_0</th>\n      <th>z_0</th>\n      <th>atom_1</th>\n      <th>x_1</th>\n      <th>y_1</th>\n      <th>z_1</th>\n      <th>mulliken_charge_0</th>\n      <th>type</th>\n      <th>mulliken_charge_1</th>\n      <th>distance</th>\n      <th>type_enc</th>\n      <th>pairs</th>\n    </tr>\n  </thead>\n  <tbody>\n    <tr>\n      <th>0</th>\n      <td>4658147</td>\n      <td>dsgdb9nsd_000004</td>\n      <td>2</td>\n      <td>0</td>\n      <td>H</td>\n      <td>-1.661639</td>\n      <td>0.0</td>\n      <td>1.0</td>\n      <td>C</td>\n      <td>0.599539</td>\n      <td>0.0</td>\n      <td>1.0</td>\n      <td>0.12211</td>\n      <td>2JHC</td>\n      <td>-0.064872</td>\n      <td>2.261178</td>\n      <td>2</td>\n      <td>c_h</td>\n    </tr>\n    <tr>\n      <th>1</th>\n      <td>4658148</td>\n      <td>dsgdb9nsd_000004</td>\n      <td>2</td>\n      <td>1</td>\n      <td>H</td>\n      <td>-1.661639</td>\n      <td>0.0</td>\n      <td>1.0</td>\n      <td>C</td>\n      <td>-0.599539</td>\n      <td>0.0</td>\n      <td>1.0</td>\n      <td>0.12211</td>\n      <td>1JHC</td>\n      <td>-0.064872</td>\n      <td>1.062099</td>\n      <td>0</td>\n      <td>c_h</td>\n    </tr>\n    <tr>\n      <th>2</th>\n      <td>4658149</td>\n      <td>dsgdb9nsd_000004</td>\n      <td>2</td>\n      <td>3</td>\n      <td>H</td>\n      <td>-1.661639</td>\n      <td>0.0</td>\n      <td>1.0</td>\n      <td>H</td>\n      <td>1.661639</td>\n      <td>0.0</td>\n      <td>1.0</td>\n      <td>0.12211</td>\n      <td>3JHH</td>\n      <td>0.118187</td>\n      <td>3.323277</td>\n      <td>6</td>\n      <td>h_h</td>\n    </tr>\n    <tr>\n      <th>3</th>\n      <td>4658150</td>\n      <td>dsgdb9nsd_000004</td>\n      <td>3</td>\n      <td>0</td>\n      <td>H</td>\n      <td>1.661639</td>\n      <td>0.0</td>\n      <td>1.0</td>\n      <td>C</td>\n      <td>0.599539</td>\n      <td>0.0</td>\n      <td>1.0</td>\n      <td>0.12211</td>\n      <td>1JHC</td>\n      <td>-0.064872</td>\n      <td>1.062099</td>\n      <td>0</td>\n      <td>c_h</td>\n    </tr>\n    <tr>\n      <th>4</th>\n      <td>4658151</td>\n      <td>dsgdb9nsd_000004</td>\n      <td>3</td>\n      <td>1</td>\n      <td>H</td>\n      <td>1.661639</td>\n      <td>0.0</td>\n      <td>1.0</td>\n      <td>C</td>\n      <td>-0.599539</td>\n      <td>0.0</td>\n      <td>1.0</td>\n      <td>0.12211</td>\n      <td>2JHC</td>\n      <td>-0.064872</td>\n      <td>2.261178</td>\n      <td>2</td>\n      <td>c_h</td>\n    </tr>\n  </tbody>\n</table>\n</div>", 
                        "text/plain": "        id     molecule_name  atom_index_0  atom_index_1 atom_0       x_0  \\\n0  4658147  dsgdb9nsd_000004             2             0      H -1.661639   \n1  4658148  dsgdb9nsd_000004             2             1      H -1.661639   \n2  4658149  dsgdb9nsd_000004             2             3      H -1.661639   \n3  4658150  dsgdb9nsd_000004             3             0      H  1.661639   \n4  4658151  dsgdb9nsd_000004             3             1      H  1.661639   \n\n   y_0  z_0 atom_1       x_1  y_1  z_1  mulliken_charge_0  type  \\\n0  0.0  1.0      C  0.599539  0.0  1.0            0.12211  2JHC   \n1  0.0  1.0      C -0.599539  0.0  1.0            0.12211  1JHC   \n2  0.0  1.0      H  1.661639  0.0  1.0            0.12211  3JHH   \n3  0.0  1.0      C  0.599539  0.0  1.0            0.12211  1JHC   \n4  0.0  1.0      C -0.599539  0.0  1.0            0.12211  2JHC   \n\n   mulliken_charge_1  distance  type_enc pairs  \n0          -0.064872  2.261178         2   c_h  \n1          -0.064872  1.062099         0   c_h  \n2           0.118187  3.323277         6   h_h  \n3          -0.064872  1.062099         0   c_h  \n4          -0.064872  2.261178         2   c_h  "
                    }, 
                    "output_type": "execute_result"
                }, 
                {
                    "execution_count": 51, 
                    "metadata": {}, 
                    "data": {
                        "text/html": "<div>\n<style scoped>\n    .dataframe tbody tr th:only-of-type {\n        vertical-align: middle;\n    }\n\n    .dataframe tbody tr th {\n        vertical-align: top;\n    }\n\n    .dataframe thead th {\n        text-align: right;\n    }\n</style>\n<table border=\"1\" class=\"dataframe\">\n  <thead>\n    <tr style=\"text-align: right;\">\n      <th></th>\n      <th>id</th>\n      <th>molecule_name</th>\n      <th>atom_index_0</th>\n      <th>atom_index_1</th>\n      <th>atom_0</th>\n      <th>x_0</th>\n      <th>y_0</th>\n      <th>z_0</th>\n      <th>atom_1</th>\n      <th>x_1</th>\n      <th>y_1</th>\n      <th>z_1</th>\n      <th>mulliken_charge_0</th>\n      <th>type</th>\n      <th>mulliken_charge_1</th>\n      <th>distance</th>\n      <th>type_enc</th>\n      <th>pairs</th>\n    </tr>\n  </thead>\n  <tbody>\n    <tr>\n      <th>0</th>\n      <td>4658147</td>\n      <td>dsgdb9nsd_000004</td>\n      <td>2</td>\n      <td>0</td>\n      <td>H</td>\n      <td>-1.661639</td>\n      <td>0.0</td>\n      <td>1.0</td>\n      <td>C</td>\n      <td>0.599539</td>\n      <td>0.0</td>\n      <td>1.0</td>\n      <td>0.12211</td>\n      <td>2JHC</td>\n      <td>-0.064872</td>\n      <td>2.261178</td>\n      <td>2</td>\n      <td>c_h</td>\n    </tr>\n    <tr>\n      <th>1</th>\n      <td>4658148</td>\n      <td>dsgdb9nsd_000004</td>\n      <td>2</td>\n      <td>1</td>\n      <td>H</td>\n      <td>-1.661639</td>\n      <td>0.0</td>\n      <td>1.0</td>\n      <td>C</td>\n      <td>-0.599539</td>\n      <td>0.0</td>\n      <td>1.0</td>\n      <td>0.12211</td>\n      <td>1JHC</td>\n      <td>-0.064872</td>\n      <td>1.062099</td>\n      <td>0</td>\n      <td>c_h</td>\n    </tr>\n    <tr>\n      <th>2</th>\n      <td>4658149</td>\n      <td>dsgdb9nsd_000004</td>\n      <td>2</td>\n      <td>3</td>\n      <td>H</td>\n      <td>-1.661639</td>\n      <td>0.0</td>\n      <td>1.0</td>\n      <td>H</td>\n      <td>1.661639</td>\n      <td>0.0</td>\n      <td>1.0</td>\n      <td>0.12211</td>\n      <td>3JHH</td>\n      <td>0.118187</td>\n      <td>3.323277</td>\n      <td>6</td>\n      <td>h_h</td>\n    </tr>\n    <tr>\n      <th>3</th>\n      <td>4658150</td>\n      <td>dsgdb9nsd_000004</td>\n      <td>3</td>\n      <td>0</td>\n      <td>H</td>\n      <td>1.661639</td>\n      <td>0.0</td>\n      <td>1.0</td>\n      <td>C</td>\n      <td>0.599539</td>\n      <td>0.0</td>\n      <td>1.0</td>\n      <td>0.12211</td>\n      <td>1JHC</td>\n      <td>-0.064872</td>\n      <td>1.062099</td>\n      <td>0</td>\n      <td>c_h</td>\n    </tr>\n    <tr>\n      <th>4</th>\n      <td>4658151</td>\n      <td>dsgdb9nsd_000004</td>\n      <td>3</td>\n      <td>1</td>\n      <td>H</td>\n      <td>1.661639</td>\n      <td>0.0</td>\n      <td>1.0</td>\n      <td>C</td>\n      <td>-0.599539</td>\n      <td>0.0</td>\n      <td>1.0</td>\n      <td>0.12211</td>\n      <td>2JHC</td>\n      <td>-0.064872</td>\n      <td>2.261178</td>\n      <td>2</td>\n      <td>c_h</td>\n    </tr>\n  </tbody>\n</table>\n</div>", 
                        "text/plain": "        id     molecule_name  atom_index_0  atom_index_1 atom_0       x_0  \\\n0  4658147  dsgdb9nsd_000004             2             0      H -1.661639   \n1  4658148  dsgdb9nsd_000004             2             1      H -1.661639   \n2  4658149  dsgdb9nsd_000004             2             3      H -1.661639   \n3  4658150  dsgdb9nsd_000004             3             0      H  1.661639   \n4  4658151  dsgdb9nsd_000004             3             1      H  1.661639   \n\n   y_0  z_0 atom_1       x_1  y_1  z_1  mulliken_charge_0  type  \\\n0  0.0  1.0      C  0.599539  0.0  1.0            0.12211  2JHC   \n1  0.0  1.0      C -0.599539  0.0  1.0            0.12211  1JHC   \n2  0.0  1.0      H  1.661639  0.0  1.0            0.12211  3JHH   \n3  0.0  1.0      C  0.599539  0.0  1.0            0.12211  1JHC   \n4  0.0  1.0      C -0.599539  0.0  1.0            0.12211  2JHC   \n\n   mulliken_charge_1  distance  type_enc pairs  \n0          -0.064872  2.261178         2   c_h  \n1          -0.064872  1.062099         0   c_h  \n2           0.118187  3.323277         6   h_h  \n3          -0.064872  1.062099         0   c_h  \n4          -0.064872  2.261178         2   c_h  "
                    }, 
                    "output_type": "execute_result"
                }
            ], 
            "source": "test.head()"
        }, 
        {
            "source": "## Pairs Label Encode", 
            "cell_type": "markdown", 
            "metadata": {}
        }, 
        {
            "execution_count": 52, 
            "cell_type": "code", 
            "metadata": {}, 
            "outputs": [
                {
                    "execution_count": 52, 
                    "metadata": {}, 
                    "data": {
                        "text/plain": "{'c_c': 0,\n 'c_f': 1,\n 'c_h': 2,\n 'c_n': 3,\n 'c_o': 4,\n 'c_si': 5,\n 'f_f': 6,\n 'f_h': 7,\n 'f_n': 8,\n 'f_o': 9,\n 'f_si': 10,\n 'h_h': 11,\n 'h_n': 12,\n 'h_o': 13,\n 'h_si': 14,\n 'n_n': 15,\n 'n_o': 16,\n 'o_o': 17}"
                    }, 
                    "output_type": "execute_result"
                }, 
                {
                    "execution_count": 52, 
                    "metadata": {}, 
                    "data": {
                        "text/plain": "{'c_c': 0,\n 'c_f': 1,\n 'c_h': 2,\n 'c_n': 3,\n 'c_o': 4,\n 'c_si': 5,\n 'f_f': 6,\n 'f_h': 7,\n 'f_n': 8,\n 'f_o': 9,\n 'f_si': 10,\n 'h_h': 11,\n 'h_n': 12,\n 'h_o': 13,\n 'h_si': 14,\n 'n_n': 15,\n 'n_o': 16,\n 'o_o': 17}"
                    }, 
                    "output_type": "execute_result"
                }
            ], 
            "source": "pairs_dict"
        }, 
        {
            "execution_count": 53, 
            "cell_type": "code", 
            "metadata": {}, 
            "outputs": [
                {
                    "execution_count": 53, 
                    "metadata": {}, 
                    "data": {
                        "text/plain": "array(['c_h', 'h_h', 'h_n'], dtype=object)"
                    }, 
                    "output_type": "execute_result"
                }, 
                {
                    "execution_count": 53, 
                    "metadata": {}, 
                    "data": {
                        "text/plain": "array(['c_h', 'h_h', 'h_n'], dtype=object)"
                    }, 
                    "output_type": "execute_result"
                }
            ], 
            "source": "test['pairs'].unique()"
        }, 
        {
            "execution_count": 54, 
            "cell_type": "code", 
            "metadata": {}, 
            "outputs": [], 
            "source": "test['pairs_enc']=test['pairs'].map(pairs_dict)"
        }, 
        {
            "execution_count": 55, 
            "cell_type": "code", 
            "metadata": {}, 
            "outputs": [
                {
                    "execution_count": 55, 
                    "metadata": {}, 
                    "data": {
                        "text/html": "<div>\n<style scoped>\n    .dataframe tbody tr th:only-of-type {\n        vertical-align: middle;\n    }\n\n    .dataframe tbody tr th {\n        vertical-align: top;\n    }\n\n    .dataframe thead th {\n        text-align: right;\n    }\n</style>\n<table border=\"1\" class=\"dataframe\">\n  <thead>\n    <tr style=\"text-align: right;\">\n      <th></th>\n      <th>id</th>\n      <th>molecule_name</th>\n      <th>atom_index_0</th>\n      <th>atom_index_1</th>\n      <th>atom_0</th>\n      <th>x_0</th>\n      <th>y_0</th>\n      <th>z_0</th>\n      <th>atom_1</th>\n      <th>x_1</th>\n      <th>y_1</th>\n      <th>z_1</th>\n      <th>mulliken_charge_0</th>\n      <th>type</th>\n      <th>mulliken_charge_1</th>\n      <th>distance</th>\n      <th>type_enc</th>\n      <th>pairs</th>\n      <th>pairs_enc</th>\n    </tr>\n  </thead>\n  <tbody>\n    <tr>\n      <th>0</th>\n      <td>4658147</td>\n      <td>dsgdb9nsd_000004</td>\n      <td>2</td>\n      <td>0</td>\n      <td>H</td>\n      <td>-1.661639</td>\n      <td>0.0</td>\n      <td>1.0</td>\n      <td>C</td>\n      <td>0.599539</td>\n      <td>0.0</td>\n      <td>1.0</td>\n      <td>0.12211</td>\n      <td>2JHC</td>\n      <td>-0.064872</td>\n      <td>2.261178</td>\n      <td>2</td>\n      <td>c_h</td>\n      <td>2</td>\n    </tr>\n    <tr>\n      <th>1</th>\n      <td>4658148</td>\n      <td>dsgdb9nsd_000004</td>\n      <td>2</td>\n      <td>1</td>\n      <td>H</td>\n      <td>-1.661639</td>\n      <td>0.0</td>\n      <td>1.0</td>\n      <td>C</td>\n      <td>-0.599539</td>\n      <td>0.0</td>\n      <td>1.0</td>\n      <td>0.12211</td>\n      <td>1JHC</td>\n      <td>-0.064872</td>\n      <td>1.062099</td>\n      <td>0</td>\n      <td>c_h</td>\n      <td>2</td>\n    </tr>\n    <tr>\n      <th>2</th>\n      <td>4658149</td>\n      <td>dsgdb9nsd_000004</td>\n      <td>2</td>\n      <td>3</td>\n      <td>H</td>\n      <td>-1.661639</td>\n      <td>0.0</td>\n      <td>1.0</td>\n      <td>H</td>\n      <td>1.661639</td>\n      <td>0.0</td>\n      <td>1.0</td>\n      <td>0.12211</td>\n      <td>3JHH</td>\n      <td>0.118187</td>\n      <td>3.323277</td>\n      <td>6</td>\n      <td>h_h</td>\n      <td>11</td>\n    </tr>\n    <tr>\n      <th>3</th>\n      <td>4658150</td>\n      <td>dsgdb9nsd_000004</td>\n      <td>3</td>\n      <td>0</td>\n      <td>H</td>\n      <td>1.661639</td>\n      <td>0.0</td>\n      <td>1.0</td>\n      <td>C</td>\n      <td>0.599539</td>\n      <td>0.0</td>\n      <td>1.0</td>\n      <td>0.12211</td>\n      <td>1JHC</td>\n      <td>-0.064872</td>\n      <td>1.062099</td>\n      <td>0</td>\n      <td>c_h</td>\n      <td>2</td>\n    </tr>\n    <tr>\n      <th>4</th>\n      <td>4658151</td>\n      <td>dsgdb9nsd_000004</td>\n      <td>3</td>\n      <td>1</td>\n      <td>H</td>\n      <td>1.661639</td>\n      <td>0.0</td>\n      <td>1.0</td>\n      <td>C</td>\n      <td>-0.599539</td>\n      <td>0.0</td>\n      <td>1.0</td>\n      <td>0.12211</td>\n      <td>2JHC</td>\n      <td>-0.064872</td>\n      <td>2.261178</td>\n      <td>2</td>\n      <td>c_h</td>\n      <td>2</td>\n    </tr>\n  </tbody>\n</table>\n</div>", 
                        "text/plain": "        id     molecule_name  atom_index_0  atom_index_1 atom_0       x_0  \\\n0  4658147  dsgdb9nsd_000004             2             0      H -1.661639   \n1  4658148  dsgdb9nsd_000004             2             1      H -1.661639   \n2  4658149  dsgdb9nsd_000004             2             3      H -1.661639   \n3  4658150  dsgdb9nsd_000004             3             0      H  1.661639   \n4  4658151  dsgdb9nsd_000004             3             1      H  1.661639   \n\n   y_0  z_0 atom_1       x_1  y_1  z_1  mulliken_charge_0  type  \\\n0  0.0  1.0      C  0.599539  0.0  1.0            0.12211  2JHC   \n1  0.0  1.0      C -0.599539  0.0  1.0            0.12211  1JHC   \n2  0.0  1.0      H  1.661639  0.0  1.0            0.12211  3JHH   \n3  0.0  1.0      C  0.599539  0.0  1.0            0.12211  1JHC   \n4  0.0  1.0      C -0.599539  0.0  1.0            0.12211  2JHC   \n\n   mulliken_charge_1  distance  type_enc pairs  pairs_enc  \n0          -0.064872  2.261178         2   c_h          2  \n1          -0.064872  1.062099         0   c_h          2  \n2           0.118187  3.323277         6   h_h         11  \n3          -0.064872  1.062099         0   c_h          2  \n4          -0.064872  2.261178         2   c_h          2  "
                    }, 
                    "output_type": "execute_result"
                }, 
                {
                    "execution_count": 55, 
                    "metadata": {}, 
                    "data": {
                        "text/html": "<div>\n<style scoped>\n    .dataframe tbody tr th:only-of-type {\n        vertical-align: middle;\n    }\n\n    .dataframe tbody tr th {\n        vertical-align: top;\n    }\n\n    .dataframe thead th {\n        text-align: right;\n    }\n</style>\n<table border=\"1\" class=\"dataframe\">\n  <thead>\n    <tr style=\"text-align: right;\">\n      <th></th>\n      <th>id</th>\n      <th>molecule_name</th>\n      <th>atom_index_0</th>\n      <th>atom_index_1</th>\n      <th>atom_0</th>\n      <th>x_0</th>\n      <th>y_0</th>\n      <th>z_0</th>\n      <th>atom_1</th>\n      <th>x_1</th>\n      <th>y_1</th>\n      <th>z_1</th>\n      <th>mulliken_charge_0</th>\n      <th>type</th>\n      <th>mulliken_charge_1</th>\n      <th>distance</th>\n      <th>type_enc</th>\n      <th>pairs</th>\n      <th>pairs_enc</th>\n    </tr>\n  </thead>\n  <tbody>\n    <tr>\n      <th>0</th>\n      <td>4658147</td>\n      <td>dsgdb9nsd_000004</td>\n      <td>2</td>\n      <td>0</td>\n      <td>H</td>\n      <td>-1.661639</td>\n      <td>0.0</td>\n      <td>1.0</td>\n      <td>C</td>\n      <td>0.599539</td>\n      <td>0.0</td>\n      <td>1.0</td>\n      <td>0.12211</td>\n      <td>2JHC</td>\n      <td>-0.064872</td>\n      <td>2.261178</td>\n      <td>2</td>\n      <td>c_h</td>\n      <td>2</td>\n    </tr>\n    <tr>\n      <th>1</th>\n      <td>4658148</td>\n      <td>dsgdb9nsd_000004</td>\n      <td>2</td>\n      <td>1</td>\n      <td>H</td>\n      <td>-1.661639</td>\n      <td>0.0</td>\n      <td>1.0</td>\n      <td>C</td>\n      <td>-0.599539</td>\n      <td>0.0</td>\n      <td>1.0</td>\n      <td>0.12211</td>\n      <td>1JHC</td>\n      <td>-0.064872</td>\n      <td>1.062099</td>\n      <td>0</td>\n      <td>c_h</td>\n      <td>2</td>\n    </tr>\n    <tr>\n      <th>2</th>\n      <td>4658149</td>\n      <td>dsgdb9nsd_000004</td>\n      <td>2</td>\n      <td>3</td>\n      <td>H</td>\n      <td>-1.661639</td>\n      <td>0.0</td>\n      <td>1.0</td>\n      <td>H</td>\n      <td>1.661639</td>\n      <td>0.0</td>\n      <td>1.0</td>\n      <td>0.12211</td>\n      <td>3JHH</td>\n      <td>0.118187</td>\n      <td>3.323277</td>\n      <td>6</td>\n      <td>h_h</td>\n      <td>11</td>\n    </tr>\n    <tr>\n      <th>3</th>\n      <td>4658150</td>\n      <td>dsgdb9nsd_000004</td>\n      <td>3</td>\n      <td>0</td>\n      <td>H</td>\n      <td>1.661639</td>\n      <td>0.0</td>\n      <td>1.0</td>\n      <td>C</td>\n      <td>0.599539</td>\n      <td>0.0</td>\n      <td>1.0</td>\n      <td>0.12211</td>\n      <td>1JHC</td>\n      <td>-0.064872</td>\n      <td>1.062099</td>\n      <td>0</td>\n      <td>c_h</td>\n      <td>2</td>\n    </tr>\n    <tr>\n      <th>4</th>\n      <td>4658151</td>\n      <td>dsgdb9nsd_000004</td>\n      <td>3</td>\n      <td>1</td>\n      <td>H</td>\n      <td>1.661639</td>\n      <td>0.0</td>\n      <td>1.0</td>\n      <td>C</td>\n      <td>-0.599539</td>\n      <td>0.0</td>\n      <td>1.0</td>\n      <td>0.12211</td>\n      <td>2JHC</td>\n      <td>-0.064872</td>\n      <td>2.261178</td>\n      <td>2</td>\n      <td>c_h</td>\n      <td>2</td>\n    </tr>\n  </tbody>\n</table>\n</div>", 
                        "text/plain": "        id     molecule_name  atom_index_0  atom_index_1 atom_0       x_0  \\\n0  4658147  dsgdb9nsd_000004             2             0      H -1.661639   \n1  4658148  dsgdb9nsd_000004             2             1      H -1.661639   \n2  4658149  dsgdb9nsd_000004             2             3      H -1.661639   \n3  4658150  dsgdb9nsd_000004             3             0      H  1.661639   \n4  4658151  dsgdb9nsd_000004             3             1      H  1.661639   \n\n   y_0  z_0 atom_1       x_1  y_1  z_1  mulliken_charge_0  type  \\\n0  0.0  1.0      C  0.599539  0.0  1.0            0.12211  2JHC   \n1  0.0  1.0      C -0.599539  0.0  1.0            0.12211  1JHC   \n2  0.0  1.0      H  1.661639  0.0  1.0            0.12211  3JHH   \n3  0.0  1.0      C  0.599539  0.0  1.0            0.12211  1JHC   \n4  0.0  1.0      C -0.599539  0.0  1.0            0.12211  2JHC   \n\n   mulliken_charge_1  distance  type_enc pairs  pairs_enc  \n0          -0.064872  2.261178         2   c_h          2  \n1          -0.064872  1.062099         0   c_h          2  \n2           0.118187  3.323277         6   h_h         11  \n3          -0.064872  1.062099         0   c_h          2  \n4          -0.064872  2.261178         2   c_h          2  "
                    }, 
                    "output_type": "execute_result"
                }
            ], 
            "source": "test.head()"
        }, 
        {
            "source": "## Connectivity", 
            "cell_type": "markdown", 
            "metadata": {}
        }, 
        {
            "execution_count": 56, 
            "cell_type": "code", 
            "metadata": {}, 
            "outputs": [], 
            "source": "x=test[['pairs_enc','distance']]"
        }, 
        {
            "execution_count": 57, 
            "cell_type": "code", 
            "metadata": {}, 
            "outputs": [
                {
                    "execution_count": 57, 
                    "metadata": {}, 
                    "data": {
                        "text/html": "<div>\n<style scoped>\n    .dataframe tbody tr th:only-of-type {\n        vertical-align: middle;\n    }\n\n    .dataframe tbody tr th {\n        vertical-align: top;\n    }\n\n    .dataframe thead th {\n        text-align: right;\n    }\n</style>\n<table border=\"1\" class=\"dataframe\">\n  <thead>\n    <tr style=\"text-align: right;\">\n      <th></th>\n      <th>pairs_enc</th>\n      <th>distance</th>\n    </tr>\n  </thead>\n  <tbody>\n    <tr>\n      <th>0</th>\n      <td>2</td>\n      <td>2.261178</td>\n    </tr>\n    <tr>\n      <th>1</th>\n      <td>2</td>\n      <td>1.062099</td>\n    </tr>\n    <tr>\n      <th>2</th>\n      <td>11</td>\n      <td>3.323277</td>\n    </tr>\n    <tr>\n      <th>3</th>\n      <td>2</td>\n      <td>1.062099</td>\n    </tr>\n    <tr>\n      <th>4</th>\n      <td>2</td>\n      <td>2.261178</td>\n    </tr>\n  </tbody>\n</table>\n</div>", 
                        "text/plain": "   pairs_enc  distance\n0          2  2.261178\n1          2  1.062099\n2         11  3.323277\n3          2  1.062099\n4          2  2.261178"
                    }, 
                    "output_type": "execute_result"
                }, 
                {
                    "execution_count": 57, 
                    "metadata": {}, 
                    "data": {
                        "text/html": "<div>\n<style scoped>\n    .dataframe tbody tr th:only-of-type {\n        vertical-align: middle;\n    }\n\n    .dataframe tbody tr th {\n        vertical-align: top;\n    }\n\n    .dataframe thead th {\n        text-align: right;\n    }\n</style>\n<table border=\"1\" class=\"dataframe\">\n  <thead>\n    <tr style=\"text-align: right;\">\n      <th></th>\n      <th>pairs_enc</th>\n      <th>distance</th>\n    </tr>\n  </thead>\n  <tbody>\n    <tr>\n      <th>0</th>\n      <td>2</td>\n      <td>2.261178</td>\n    </tr>\n    <tr>\n      <th>1</th>\n      <td>2</td>\n      <td>1.062099</td>\n    </tr>\n    <tr>\n      <th>2</th>\n      <td>11</td>\n      <td>3.323277</td>\n    </tr>\n    <tr>\n      <th>3</th>\n      <td>2</td>\n      <td>1.062099</td>\n    </tr>\n    <tr>\n      <th>4</th>\n      <td>2</td>\n      <td>2.261178</td>\n    </tr>\n  </tbody>\n</table>\n</div>", 
                        "text/plain": "   pairs_enc  distance\n0          2  2.261178\n1          2  1.062099\n2         11  3.323277\n3          2  1.062099\n4          2  2.261178"
                    }, 
                    "output_type": "execute_result"
                }
            ], 
            "source": "x.head()"
        }, 
        {
            "execution_count": 58, 
            "cell_type": "code", 
            "metadata": {}, 
            "outputs": [
                {
                    "execution_count": 58, 
                    "metadata": {}, 
                    "data": {
                        "text/plain": "(2505542, 2)"
                    }, 
                    "output_type": "execute_result"
                }, 
                {
                    "execution_count": 58, 
                    "metadata": {}, 
                    "data": {
                        "text/plain": "(2505542, 2)"
                    }, 
                    "output_type": "execute_result"
                }
            ], 
            "source": "x.shape"
        }, 
        {
            "execution_count": 59, 
            "cell_type": "code", 
            "metadata": {}, 
            "outputs": [
                {
                    "output_type": "stream", 
                    "name": "stdout", 
                    "text": "2505542/2505542 [==============================] - 49s 20us/sample\n2505542/2505542 [==============================] - 49s 20us/sample\n"
                }
            ], 
            "source": "test['bond']=model_nn.predict(x,verbose=1,batch_size=10000)"
        }, 
        {
            "execution_count": 60, 
            "cell_type": "code", 
            "metadata": {}, 
            "outputs": [
                {
                    "execution_count": 60, 
                    "metadata": {}, 
                    "data": {
                        "text/html": "<div>\n<style scoped>\n    .dataframe tbody tr th:only-of-type {\n        vertical-align: middle;\n    }\n\n    .dataframe tbody tr th {\n        vertical-align: top;\n    }\n\n    .dataframe thead th {\n        text-align: right;\n    }\n</style>\n<table border=\"1\" class=\"dataframe\">\n  <thead>\n    <tr style=\"text-align: right;\">\n      <th></th>\n      <th>id</th>\n      <th>molecule_name</th>\n      <th>atom_index_0</th>\n      <th>atom_index_1</th>\n      <th>atom_0</th>\n      <th>x_0</th>\n      <th>y_0</th>\n      <th>z_0</th>\n      <th>atom_1</th>\n      <th>x_1</th>\n      <th>y_1</th>\n      <th>z_1</th>\n      <th>mulliken_charge_0</th>\n      <th>type</th>\n      <th>mulliken_charge_1</th>\n      <th>distance</th>\n      <th>type_enc</th>\n      <th>pairs</th>\n      <th>pairs_enc</th>\n      <th>bond</th>\n    </tr>\n  </thead>\n  <tbody>\n    <tr>\n      <th>0</th>\n      <td>4658147</td>\n      <td>dsgdb9nsd_000004</td>\n      <td>2</td>\n      <td>0</td>\n      <td>H</td>\n      <td>-1.661639</td>\n      <td>0.0</td>\n      <td>1.0</td>\n      <td>C</td>\n      <td>0.599539</td>\n      <td>0.0</td>\n      <td>1.0</td>\n      <td>0.12211</td>\n      <td>2JHC</td>\n      <td>-0.064872</td>\n      <td>2.261178</td>\n      <td>2</td>\n      <td>c_h</td>\n      <td>2</td>\n      <td>0.413226</td>\n    </tr>\n    <tr>\n      <th>1</th>\n      <td>4658148</td>\n      <td>dsgdb9nsd_000004</td>\n      <td>2</td>\n      <td>1</td>\n      <td>H</td>\n      <td>-1.661639</td>\n      <td>0.0</td>\n      <td>1.0</td>\n      <td>C</td>\n      <td>-0.599539</td>\n      <td>0.0</td>\n      <td>1.0</td>\n      <td>0.12211</td>\n      <td>1JHC</td>\n      <td>-0.064872</td>\n      <td>1.062099</td>\n      <td>0</td>\n      <td>c_h</td>\n      <td>2</td>\n      <td>0.917924</td>\n    </tr>\n    <tr>\n      <th>2</th>\n      <td>4658149</td>\n      <td>dsgdb9nsd_000004</td>\n      <td>2</td>\n      <td>3</td>\n      <td>H</td>\n      <td>-1.661639</td>\n      <td>0.0</td>\n      <td>1.0</td>\n      <td>H</td>\n      <td>1.661639</td>\n      <td>0.0</td>\n      <td>1.0</td>\n      <td>0.12211</td>\n      <td>3JHH</td>\n      <td>0.118187</td>\n      <td>3.323277</td>\n      <td>6</td>\n      <td>h_h</td>\n      <td>11</td>\n      <td>0.173375</td>\n    </tr>\n    <tr>\n      <th>3</th>\n      <td>4658150</td>\n      <td>dsgdb9nsd_000004</td>\n      <td>3</td>\n      <td>0</td>\n      <td>H</td>\n      <td>1.661639</td>\n      <td>0.0</td>\n      <td>1.0</td>\n      <td>C</td>\n      <td>0.599539</td>\n      <td>0.0</td>\n      <td>1.0</td>\n      <td>0.12211</td>\n      <td>1JHC</td>\n      <td>-0.064872</td>\n      <td>1.062099</td>\n      <td>0</td>\n      <td>c_h</td>\n      <td>2</td>\n      <td>0.917924</td>\n    </tr>\n    <tr>\n      <th>4</th>\n      <td>4658151</td>\n      <td>dsgdb9nsd_000004</td>\n      <td>3</td>\n      <td>1</td>\n      <td>H</td>\n      <td>1.661639</td>\n      <td>0.0</td>\n      <td>1.0</td>\n      <td>C</td>\n      <td>-0.599539</td>\n      <td>0.0</td>\n      <td>1.0</td>\n      <td>0.12211</td>\n      <td>2JHC</td>\n      <td>-0.064872</td>\n      <td>2.261178</td>\n      <td>2</td>\n      <td>c_h</td>\n      <td>2</td>\n      <td>0.413226</td>\n    </tr>\n  </tbody>\n</table>\n</div>", 
                        "text/plain": "        id     molecule_name  atom_index_0  atom_index_1 atom_0       x_0  \\\n0  4658147  dsgdb9nsd_000004             2             0      H -1.661639   \n1  4658148  dsgdb9nsd_000004             2             1      H -1.661639   \n2  4658149  dsgdb9nsd_000004             2             3      H -1.661639   \n3  4658150  dsgdb9nsd_000004             3             0      H  1.661639   \n4  4658151  dsgdb9nsd_000004             3             1      H  1.661639   \n\n   y_0  z_0 atom_1       x_1  y_1  z_1  mulliken_charge_0  type  \\\n0  0.0  1.0      C  0.599539  0.0  1.0            0.12211  2JHC   \n1  0.0  1.0      C -0.599539  0.0  1.0            0.12211  1JHC   \n2  0.0  1.0      H  1.661639  0.0  1.0            0.12211  3JHH   \n3  0.0  1.0      C  0.599539  0.0  1.0            0.12211  1JHC   \n4  0.0  1.0      C -0.599539  0.0  1.0            0.12211  2JHC   \n\n   mulliken_charge_1  distance  type_enc pairs  pairs_enc      bond  \n0          -0.064872  2.261178         2   c_h          2  0.413226  \n1          -0.064872  1.062099         0   c_h          2  0.917924  \n2           0.118187  3.323277         6   h_h         11  0.173375  \n3          -0.064872  1.062099         0   c_h          2  0.917924  \n4          -0.064872  2.261178         2   c_h          2  0.413226  "
                    }, 
                    "output_type": "execute_result"
                }, 
                {
                    "execution_count": 60, 
                    "metadata": {}, 
                    "data": {
                        "text/html": "<div>\n<style scoped>\n    .dataframe tbody tr th:only-of-type {\n        vertical-align: middle;\n    }\n\n    .dataframe tbody tr th {\n        vertical-align: top;\n    }\n\n    .dataframe thead th {\n        text-align: right;\n    }\n</style>\n<table border=\"1\" class=\"dataframe\">\n  <thead>\n    <tr style=\"text-align: right;\">\n      <th></th>\n      <th>id</th>\n      <th>molecule_name</th>\n      <th>atom_index_0</th>\n      <th>atom_index_1</th>\n      <th>atom_0</th>\n      <th>x_0</th>\n      <th>y_0</th>\n      <th>z_0</th>\n      <th>atom_1</th>\n      <th>x_1</th>\n      <th>y_1</th>\n      <th>z_1</th>\n      <th>mulliken_charge_0</th>\n      <th>type</th>\n      <th>mulliken_charge_1</th>\n      <th>distance</th>\n      <th>type_enc</th>\n      <th>pairs</th>\n      <th>pairs_enc</th>\n      <th>bond</th>\n    </tr>\n  </thead>\n  <tbody>\n    <tr>\n      <th>0</th>\n      <td>4658147</td>\n      <td>dsgdb9nsd_000004</td>\n      <td>2</td>\n      <td>0</td>\n      <td>H</td>\n      <td>-1.661639</td>\n      <td>0.0</td>\n      <td>1.0</td>\n      <td>C</td>\n      <td>0.599539</td>\n      <td>0.0</td>\n      <td>1.0</td>\n      <td>0.12211</td>\n      <td>2JHC</td>\n      <td>-0.064872</td>\n      <td>2.261178</td>\n      <td>2</td>\n      <td>c_h</td>\n      <td>2</td>\n      <td>0.413226</td>\n    </tr>\n    <tr>\n      <th>1</th>\n      <td>4658148</td>\n      <td>dsgdb9nsd_000004</td>\n      <td>2</td>\n      <td>1</td>\n      <td>H</td>\n      <td>-1.661639</td>\n      <td>0.0</td>\n      <td>1.0</td>\n      <td>C</td>\n      <td>-0.599539</td>\n      <td>0.0</td>\n      <td>1.0</td>\n      <td>0.12211</td>\n      <td>1JHC</td>\n      <td>-0.064872</td>\n      <td>1.062099</td>\n      <td>0</td>\n      <td>c_h</td>\n      <td>2</td>\n      <td>0.917924</td>\n    </tr>\n    <tr>\n      <th>2</th>\n      <td>4658149</td>\n      <td>dsgdb9nsd_000004</td>\n      <td>2</td>\n      <td>3</td>\n      <td>H</td>\n      <td>-1.661639</td>\n      <td>0.0</td>\n      <td>1.0</td>\n      <td>H</td>\n      <td>1.661639</td>\n      <td>0.0</td>\n      <td>1.0</td>\n      <td>0.12211</td>\n      <td>3JHH</td>\n      <td>0.118187</td>\n      <td>3.323277</td>\n      <td>6</td>\n      <td>h_h</td>\n      <td>11</td>\n      <td>0.173375</td>\n    </tr>\n    <tr>\n      <th>3</th>\n      <td>4658150</td>\n      <td>dsgdb9nsd_000004</td>\n      <td>3</td>\n      <td>0</td>\n      <td>H</td>\n      <td>1.661639</td>\n      <td>0.0</td>\n      <td>1.0</td>\n      <td>C</td>\n      <td>0.599539</td>\n      <td>0.0</td>\n      <td>1.0</td>\n      <td>0.12211</td>\n      <td>1JHC</td>\n      <td>-0.064872</td>\n      <td>1.062099</td>\n      <td>0</td>\n      <td>c_h</td>\n      <td>2</td>\n      <td>0.917924</td>\n    </tr>\n    <tr>\n      <th>4</th>\n      <td>4658151</td>\n      <td>dsgdb9nsd_000004</td>\n      <td>3</td>\n      <td>1</td>\n      <td>H</td>\n      <td>1.661639</td>\n      <td>0.0</td>\n      <td>1.0</td>\n      <td>C</td>\n      <td>-0.599539</td>\n      <td>0.0</td>\n      <td>1.0</td>\n      <td>0.12211</td>\n      <td>2JHC</td>\n      <td>-0.064872</td>\n      <td>2.261178</td>\n      <td>2</td>\n      <td>c_h</td>\n      <td>2</td>\n      <td>0.413226</td>\n    </tr>\n  </tbody>\n</table>\n</div>", 
                        "text/plain": "        id     molecule_name  atom_index_0  atom_index_1 atom_0       x_0  \\\n0  4658147  dsgdb9nsd_000004             2             0      H -1.661639   \n1  4658148  dsgdb9nsd_000004             2             1      H -1.661639   \n2  4658149  dsgdb9nsd_000004             2             3      H -1.661639   \n3  4658150  dsgdb9nsd_000004             3             0      H  1.661639   \n4  4658151  dsgdb9nsd_000004             3             1      H  1.661639   \n\n   y_0  z_0 atom_1       x_1  y_1  z_1  mulliken_charge_0  type  \\\n0  0.0  1.0      C  0.599539  0.0  1.0            0.12211  2JHC   \n1  0.0  1.0      C -0.599539  0.0  1.0            0.12211  1JHC   \n2  0.0  1.0      H  1.661639  0.0  1.0            0.12211  3JHH   \n3  0.0  1.0      C  0.599539  0.0  1.0            0.12211  1JHC   \n4  0.0  1.0      C -0.599539  0.0  1.0            0.12211  2JHC   \n\n   mulliken_charge_1  distance  type_enc pairs  pairs_enc      bond  \n0          -0.064872  2.261178         2   c_h          2  0.413226  \n1          -0.064872  1.062099         0   c_h          2  0.917924  \n2           0.118187  3.323277         6   h_h         11  0.173375  \n3          -0.064872  1.062099         0   c_h          2  0.917924  \n4          -0.064872  2.261178         2   c_h          2  0.413226  "
                    }, 
                    "output_type": "execute_result"
                }
            ], 
            "source": "test.head()"
        }, 
        {
            "execution_count": 61, 
            "cell_type": "code", 
            "metadata": {}, 
            "outputs": [
                {
                    "execution_count": 61, 
                    "metadata": {}, 
                    "data": {
                        "text/plain": "(2505542, 20)"
                    }, 
                    "output_type": "execute_result"
                }, 
                {
                    "execution_count": 61, 
                    "metadata": {}, 
                    "data": {
                        "text/plain": "(2505542, 20)"
                    }, 
                    "output_type": "execute_result"
                }
            ], 
            "source": "test.shape"
        }, 
        {
            "execution_count": 62, 
            "cell_type": "code", 
            "metadata": {}, 
            "outputs": [
                {
                    "execution_count": 62, 
                    "metadata": {}, 
                    "data": {
                        "text/plain": "False    2505542\nName: bond, dtype: int64"
                    }, 
                    "output_type": "execute_result"
                }, 
                {
                    "execution_count": 62, 
                    "metadata": {}, 
                    "data": {
                        "text/plain": "False    2505542\nName: bond, dtype: int64"
                    }, 
                    "output_type": "execute_result"
                }
            ], 
            "source": "test['bond'].isna().value_counts()"
        }, 
        {
            "execution_count": 63, 
            "cell_type": "code", 
            "metadata": {}, 
            "outputs": [], 
            "source": "test['bond_int']=test['bond'].apply(lambda x:int(x>0.5))"
        }, 
        {
            "execution_count": 64, 
            "cell_type": "code", 
            "metadata": {}, 
            "outputs": [
                {
                    "execution_count": 64, 
                    "metadata": {}, 
                    "data": {
                        "text/html": "<div>\n<style scoped>\n    .dataframe tbody tr th:only-of-type {\n        vertical-align: middle;\n    }\n\n    .dataframe tbody tr th {\n        vertical-align: top;\n    }\n\n    .dataframe thead th {\n        text-align: right;\n    }\n</style>\n<table border=\"1\" class=\"dataframe\">\n  <thead>\n    <tr style=\"text-align: right;\">\n      <th></th>\n      <th>id</th>\n      <th>molecule_name</th>\n      <th>atom_index_0</th>\n      <th>atom_index_1</th>\n      <th>atom_0</th>\n      <th>x_0</th>\n      <th>y_0</th>\n      <th>z_0</th>\n      <th>atom_1</th>\n      <th>x_1</th>\n      <th>...</th>\n      <th>z_1</th>\n      <th>mulliken_charge_0</th>\n      <th>type</th>\n      <th>mulliken_charge_1</th>\n      <th>distance</th>\n      <th>type_enc</th>\n      <th>pairs</th>\n      <th>pairs_enc</th>\n      <th>bond</th>\n      <th>bond_int</th>\n    </tr>\n  </thead>\n  <tbody>\n    <tr>\n      <th>0</th>\n      <td>4658147</td>\n      <td>dsgdb9nsd_000004</td>\n      <td>2</td>\n      <td>0</td>\n      <td>H</td>\n      <td>-1.661639</td>\n      <td>0.0</td>\n      <td>1.0</td>\n      <td>C</td>\n      <td>0.599539</td>\n      <td>...</td>\n      <td>1.0</td>\n      <td>0.12211</td>\n      <td>2JHC</td>\n      <td>-0.064872</td>\n      <td>2.261178</td>\n      <td>2</td>\n      <td>c_h</td>\n      <td>2</td>\n      <td>0.413226</td>\n      <td>0</td>\n    </tr>\n    <tr>\n      <th>1</th>\n      <td>4658148</td>\n      <td>dsgdb9nsd_000004</td>\n      <td>2</td>\n      <td>1</td>\n      <td>H</td>\n      <td>-1.661639</td>\n      <td>0.0</td>\n      <td>1.0</td>\n      <td>C</td>\n      <td>-0.599539</td>\n      <td>...</td>\n      <td>1.0</td>\n      <td>0.12211</td>\n      <td>1JHC</td>\n      <td>-0.064872</td>\n      <td>1.062099</td>\n      <td>0</td>\n      <td>c_h</td>\n      <td>2</td>\n      <td>0.917924</td>\n      <td>1</td>\n    </tr>\n    <tr>\n      <th>2</th>\n      <td>4658149</td>\n      <td>dsgdb9nsd_000004</td>\n      <td>2</td>\n      <td>3</td>\n      <td>H</td>\n      <td>-1.661639</td>\n      <td>0.0</td>\n      <td>1.0</td>\n      <td>H</td>\n      <td>1.661639</td>\n      <td>...</td>\n      <td>1.0</td>\n      <td>0.12211</td>\n      <td>3JHH</td>\n      <td>0.118187</td>\n      <td>3.323277</td>\n      <td>6</td>\n      <td>h_h</td>\n      <td>11</td>\n      <td>0.173375</td>\n      <td>0</td>\n    </tr>\n    <tr>\n      <th>3</th>\n      <td>4658150</td>\n      <td>dsgdb9nsd_000004</td>\n      <td>3</td>\n      <td>0</td>\n      <td>H</td>\n      <td>1.661639</td>\n      <td>0.0</td>\n      <td>1.0</td>\n      <td>C</td>\n      <td>0.599539</td>\n      <td>...</td>\n      <td>1.0</td>\n      <td>0.12211</td>\n      <td>1JHC</td>\n      <td>-0.064872</td>\n      <td>1.062099</td>\n      <td>0</td>\n      <td>c_h</td>\n      <td>2</td>\n      <td>0.917924</td>\n      <td>1</td>\n    </tr>\n    <tr>\n      <th>4</th>\n      <td>4658151</td>\n      <td>dsgdb9nsd_000004</td>\n      <td>3</td>\n      <td>1</td>\n      <td>H</td>\n      <td>1.661639</td>\n      <td>0.0</td>\n      <td>1.0</td>\n      <td>C</td>\n      <td>-0.599539</td>\n      <td>...</td>\n      <td>1.0</td>\n      <td>0.12211</td>\n      <td>2JHC</td>\n      <td>-0.064872</td>\n      <td>2.261178</td>\n      <td>2</td>\n      <td>c_h</td>\n      <td>2</td>\n      <td>0.413226</td>\n      <td>0</td>\n    </tr>\n  </tbody>\n</table>\n<p>5 rows \u00d7 21 columns</p>\n</div>", 
                        "text/plain": "        id     molecule_name  atom_index_0  atom_index_1 atom_0       x_0  \\\n0  4658147  dsgdb9nsd_000004             2             0      H -1.661639   \n1  4658148  dsgdb9nsd_000004             2             1      H -1.661639   \n2  4658149  dsgdb9nsd_000004             2             3      H -1.661639   \n3  4658150  dsgdb9nsd_000004             3             0      H  1.661639   \n4  4658151  dsgdb9nsd_000004             3             1      H  1.661639   \n\n   y_0  z_0 atom_1       x_1  ...  z_1  mulliken_charge_0  type  \\\n0  0.0  1.0      C  0.599539  ...  1.0            0.12211  2JHC   \n1  0.0  1.0      C -0.599539  ...  1.0            0.12211  1JHC   \n2  0.0  1.0      H  1.661639  ...  1.0            0.12211  3JHH   \n3  0.0  1.0      C  0.599539  ...  1.0            0.12211  1JHC   \n4  0.0  1.0      C -0.599539  ...  1.0            0.12211  2JHC   \n\n  mulliken_charge_1  distance  type_enc  pairs pairs_enc      bond  bond_int  \n0         -0.064872  2.261178         2    c_h         2  0.413226         0  \n1         -0.064872  1.062099         0    c_h         2  0.917924         1  \n2          0.118187  3.323277         6    h_h        11  0.173375         0  \n3         -0.064872  1.062099         0    c_h         2  0.917924         1  \n4         -0.064872  2.261178         2    c_h         2  0.413226         0  \n\n[5 rows x 21 columns]"
                    }, 
                    "output_type": "execute_result"
                }, 
                {
                    "execution_count": 64, 
                    "metadata": {}, 
                    "data": {
                        "text/html": "<div>\n<style scoped>\n    .dataframe tbody tr th:only-of-type {\n        vertical-align: middle;\n    }\n\n    .dataframe tbody tr th {\n        vertical-align: top;\n    }\n\n    .dataframe thead th {\n        text-align: right;\n    }\n</style>\n<table border=\"1\" class=\"dataframe\">\n  <thead>\n    <tr style=\"text-align: right;\">\n      <th></th>\n      <th>id</th>\n      <th>molecule_name</th>\n      <th>atom_index_0</th>\n      <th>atom_index_1</th>\n      <th>atom_0</th>\n      <th>x_0</th>\n      <th>y_0</th>\n      <th>z_0</th>\n      <th>atom_1</th>\n      <th>x_1</th>\n      <th>...</th>\n      <th>z_1</th>\n      <th>mulliken_charge_0</th>\n      <th>type</th>\n      <th>mulliken_charge_1</th>\n      <th>distance</th>\n      <th>type_enc</th>\n      <th>pairs</th>\n      <th>pairs_enc</th>\n      <th>bond</th>\n      <th>bond_int</th>\n    </tr>\n  </thead>\n  <tbody>\n    <tr>\n      <th>0</th>\n      <td>4658147</td>\n      <td>dsgdb9nsd_000004</td>\n      <td>2</td>\n      <td>0</td>\n      <td>H</td>\n      <td>-1.661639</td>\n      <td>0.0</td>\n      <td>1.0</td>\n      <td>C</td>\n      <td>0.599539</td>\n      <td>...</td>\n      <td>1.0</td>\n      <td>0.12211</td>\n      <td>2JHC</td>\n      <td>-0.064872</td>\n      <td>2.261178</td>\n      <td>2</td>\n      <td>c_h</td>\n      <td>2</td>\n      <td>0.413226</td>\n      <td>0</td>\n    </tr>\n    <tr>\n      <th>1</th>\n      <td>4658148</td>\n      <td>dsgdb9nsd_000004</td>\n      <td>2</td>\n      <td>1</td>\n      <td>H</td>\n      <td>-1.661639</td>\n      <td>0.0</td>\n      <td>1.0</td>\n      <td>C</td>\n      <td>-0.599539</td>\n      <td>...</td>\n      <td>1.0</td>\n      <td>0.12211</td>\n      <td>1JHC</td>\n      <td>-0.064872</td>\n      <td>1.062099</td>\n      <td>0</td>\n      <td>c_h</td>\n      <td>2</td>\n      <td>0.917924</td>\n      <td>1</td>\n    </tr>\n    <tr>\n      <th>2</th>\n      <td>4658149</td>\n      <td>dsgdb9nsd_000004</td>\n      <td>2</td>\n      <td>3</td>\n      <td>H</td>\n      <td>-1.661639</td>\n      <td>0.0</td>\n      <td>1.0</td>\n      <td>H</td>\n      <td>1.661639</td>\n      <td>...</td>\n      <td>1.0</td>\n      <td>0.12211</td>\n      <td>3JHH</td>\n      <td>0.118187</td>\n      <td>3.323277</td>\n      <td>6</td>\n      <td>h_h</td>\n      <td>11</td>\n      <td>0.173375</td>\n      <td>0</td>\n    </tr>\n    <tr>\n      <th>3</th>\n      <td>4658150</td>\n      <td>dsgdb9nsd_000004</td>\n      <td>3</td>\n      <td>0</td>\n      <td>H</td>\n      <td>1.661639</td>\n      <td>0.0</td>\n      <td>1.0</td>\n      <td>C</td>\n      <td>0.599539</td>\n      <td>...</td>\n      <td>1.0</td>\n      <td>0.12211</td>\n      <td>1JHC</td>\n      <td>-0.064872</td>\n      <td>1.062099</td>\n      <td>0</td>\n      <td>c_h</td>\n      <td>2</td>\n      <td>0.917924</td>\n      <td>1</td>\n    </tr>\n    <tr>\n      <th>4</th>\n      <td>4658151</td>\n      <td>dsgdb9nsd_000004</td>\n      <td>3</td>\n      <td>1</td>\n      <td>H</td>\n      <td>1.661639</td>\n      <td>0.0</td>\n      <td>1.0</td>\n      <td>C</td>\n      <td>-0.599539</td>\n      <td>...</td>\n      <td>1.0</td>\n      <td>0.12211</td>\n      <td>2JHC</td>\n      <td>-0.064872</td>\n      <td>2.261178</td>\n      <td>2</td>\n      <td>c_h</td>\n      <td>2</td>\n      <td>0.413226</td>\n      <td>0</td>\n    </tr>\n  </tbody>\n</table>\n<p>5 rows \u00d7 21 columns</p>\n</div>", 
                        "text/plain": "        id     molecule_name  atom_index_0  atom_index_1 atom_0       x_0  \\\n0  4658147  dsgdb9nsd_000004             2             0      H -1.661639   \n1  4658148  dsgdb9nsd_000004             2             1      H -1.661639   \n2  4658149  dsgdb9nsd_000004             2             3      H -1.661639   \n3  4658150  dsgdb9nsd_000004             3             0      H  1.661639   \n4  4658151  dsgdb9nsd_000004             3             1      H  1.661639   \n\n   y_0  z_0 atom_1       x_1  ...  z_1  mulliken_charge_0  type  \\\n0  0.0  1.0      C  0.599539  ...  1.0            0.12211  2JHC   \n1  0.0  1.0      C -0.599539  ...  1.0            0.12211  1JHC   \n2  0.0  1.0      H  1.661639  ...  1.0            0.12211  3JHH   \n3  0.0  1.0      C  0.599539  ...  1.0            0.12211  1JHC   \n4  0.0  1.0      C -0.599539  ...  1.0            0.12211  2JHC   \n\n  mulliken_charge_1  distance  type_enc  pairs pairs_enc      bond  bond_int  \n0         -0.064872  2.261178         2    c_h         2  0.413226         0  \n1         -0.064872  1.062099         0    c_h         2  0.917924         1  \n2          0.118187  3.323277         6    h_h        11  0.173375         0  \n3         -0.064872  1.062099         0    c_h         2  0.917924         1  \n4         -0.064872  2.261178         2    c_h         2  0.413226         0  \n\n[5 rows x 21 columns]"
                    }, 
                    "output_type": "execute_result"
                }
            ], 
            "source": "test.head()"
        }, 
        {
            "source": "## Total Charge", 
            "cell_type": "markdown", 
            "metadata": {}
        }, 
        {
            "execution_count": 65, 
            "cell_type": "code", 
            "metadata": {}, 
            "outputs": [], 
            "source": "test['total_charge']=test['mulliken_charge_0']+test['mulliken_charge_1']"
        }, 
        {
            "execution_count": 66, 
            "cell_type": "code", 
            "metadata": {}, 
            "outputs": [
                {
                    "execution_count": 66, 
                    "metadata": {}, 
                    "data": {
                        "text/html": "<div>\n<style scoped>\n    .dataframe tbody tr th:only-of-type {\n        vertical-align: middle;\n    }\n\n    .dataframe tbody tr th {\n        vertical-align: top;\n    }\n\n    .dataframe thead th {\n        text-align: right;\n    }\n</style>\n<table border=\"1\" class=\"dataframe\">\n  <thead>\n    <tr style=\"text-align: right;\">\n      <th></th>\n      <th>id</th>\n      <th>molecule_name</th>\n      <th>atom_index_0</th>\n      <th>atom_index_1</th>\n      <th>atom_0</th>\n      <th>x_0</th>\n      <th>y_0</th>\n      <th>z_0</th>\n      <th>atom_1</th>\n      <th>x_1</th>\n      <th>...</th>\n      <th>mulliken_charge_0</th>\n      <th>type</th>\n      <th>mulliken_charge_1</th>\n      <th>distance</th>\n      <th>type_enc</th>\n      <th>pairs</th>\n      <th>pairs_enc</th>\n      <th>bond</th>\n      <th>bond_int</th>\n      <th>total_charge</th>\n    </tr>\n  </thead>\n  <tbody>\n    <tr>\n      <th>0</th>\n      <td>4658147</td>\n      <td>dsgdb9nsd_000004</td>\n      <td>2</td>\n      <td>0</td>\n      <td>H</td>\n      <td>-1.661639</td>\n      <td>0.0</td>\n      <td>1.0</td>\n      <td>C</td>\n      <td>0.599539</td>\n      <td>...</td>\n      <td>0.12211</td>\n      <td>2JHC</td>\n      <td>-0.064872</td>\n      <td>2.261178</td>\n      <td>2</td>\n      <td>c_h</td>\n      <td>2</td>\n      <td>0.413226</td>\n      <td>0</td>\n      <td>0.057238</td>\n    </tr>\n    <tr>\n      <th>1</th>\n      <td>4658148</td>\n      <td>dsgdb9nsd_000004</td>\n      <td>2</td>\n      <td>1</td>\n      <td>H</td>\n      <td>-1.661639</td>\n      <td>0.0</td>\n      <td>1.0</td>\n      <td>C</td>\n      <td>-0.599539</td>\n      <td>...</td>\n      <td>0.12211</td>\n      <td>1JHC</td>\n      <td>-0.064872</td>\n      <td>1.062099</td>\n      <td>0</td>\n      <td>c_h</td>\n      <td>2</td>\n      <td>0.917924</td>\n      <td>1</td>\n      <td>0.057238</td>\n    </tr>\n    <tr>\n      <th>2</th>\n      <td>4658149</td>\n      <td>dsgdb9nsd_000004</td>\n      <td>2</td>\n      <td>3</td>\n      <td>H</td>\n      <td>-1.661639</td>\n      <td>0.0</td>\n      <td>1.0</td>\n      <td>H</td>\n      <td>1.661639</td>\n      <td>...</td>\n      <td>0.12211</td>\n      <td>3JHH</td>\n      <td>0.118187</td>\n      <td>3.323277</td>\n      <td>6</td>\n      <td>h_h</td>\n      <td>11</td>\n      <td>0.173375</td>\n      <td>0</td>\n      <td>0.240297</td>\n    </tr>\n    <tr>\n      <th>3</th>\n      <td>4658150</td>\n      <td>dsgdb9nsd_000004</td>\n      <td>3</td>\n      <td>0</td>\n      <td>H</td>\n      <td>1.661639</td>\n      <td>0.0</td>\n      <td>1.0</td>\n      <td>C</td>\n      <td>0.599539</td>\n      <td>...</td>\n      <td>0.12211</td>\n      <td>1JHC</td>\n      <td>-0.064872</td>\n      <td>1.062099</td>\n      <td>0</td>\n      <td>c_h</td>\n      <td>2</td>\n      <td>0.917924</td>\n      <td>1</td>\n      <td>0.057238</td>\n    </tr>\n    <tr>\n      <th>4</th>\n      <td>4658151</td>\n      <td>dsgdb9nsd_000004</td>\n      <td>3</td>\n      <td>1</td>\n      <td>H</td>\n      <td>1.661639</td>\n      <td>0.0</td>\n      <td>1.0</td>\n      <td>C</td>\n      <td>-0.599539</td>\n      <td>...</td>\n      <td>0.12211</td>\n      <td>2JHC</td>\n      <td>-0.064872</td>\n      <td>2.261178</td>\n      <td>2</td>\n      <td>c_h</td>\n      <td>2</td>\n      <td>0.413226</td>\n      <td>0</td>\n      <td>0.057238</td>\n    </tr>\n  </tbody>\n</table>\n<p>5 rows \u00d7 22 columns</p>\n</div>", 
                        "text/plain": "        id     molecule_name  atom_index_0  atom_index_1 atom_0       x_0  \\\n0  4658147  dsgdb9nsd_000004             2             0      H -1.661639   \n1  4658148  dsgdb9nsd_000004             2             1      H -1.661639   \n2  4658149  dsgdb9nsd_000004             2             3      H -1.661639   \n3  4658150  dsgdb9nsd_000004             3             0      H  1.661639   \n4  4658151  dsgdb9nsd_000004             3             1      H  1.661639   \n\n   y_0  z_0 atom_1       x_1  ...  mulliken_charge_0  type  mulliken_charge_1  \\\n0  0.0  1.0      C  0.599539  ...            0.12211  2JHC          -0.064872   \n1  0.0  1.0      C -0.599539  ...            0.12211  1JHC          -0.064872   \n2  0.0  1.0      H  1.661639  ...            0.12211  3JHH           0.118187   \n3  0.0  1.0      C  0.599539  ...            0.12211  1JHC          -0.064872   \n4  0.0  1.0      C -0.599539  ...            0.12211  2JHC          -0.064872   \n\n   distance  type_enc  pairs  pairs_enc      bond  bond_int  total_charge  \n0  2.261178         2    c_h          2  0.413226         0      0.057238  \n1  1.062099         0    c_h          2  0.917924         1      0.057238  \n2  3.323277         6    h_h         11  0.173375         0      0.240297  \n3  1.062099         0    c_h          2  0.917924         1      0.057238  \n4  2.261178         2    c_h          2  0.413226         0      0.057238  \n\n[5 rows x 22 columns]"
                    }, 
                    "output_type": "execute_result"
                }, 
                {
                    "execution_count": 66, 
                    "metadata": {}, 
                    "data": {
                        "text/html": "<div>\n<style scoped>\n    .dataframe tbody tr th:only-of-type {\n        vertical-align: middle;\n    }\n\n    .dataframe tbody tr th {\n        vertical-align: top;\n    }\n\n    .dataframe thead th {\n        text-align: right;\n    }\n</style>\n<table border=\"1\" class=\"dataframe\">\n  <thead>\n    <tr style=\"text-align: right;\">\n      <th></th>\n      <th>id</th>\n      <th>molecule_name</th>\n      <th>atom_index_0</th>\n      <th>atom_index_1</th>\n      <th>atom_0</th>\n      <th>x_0</th>\n      <th>y_0</th>\n      <th>z_0</th>\n      <th>atom_1</th>\n      <th>x_1</th>\n      <th>...</th>\n      <th>mulliken_charge_0</th>\n      <th>type</th>\n      <th>mulliken_charge_1</th>\n      <th>distance</th>\n      <th>type_enc</th>\n      <th>pairs</th>\n      <th>pairs_enc</th>\n      <th>bond</th>\n      <th>bond_int</th>\n      <th>total_charge</th>\n    </tr>\n  </thead>\n  <tbody>\n    <tr>\n      <th>0</th>\n      <td>4658147</td>\n      <td>dsgdb9nsd_000004</td>\n      <td>2</td>\n      <td>0</td>\n      <td>H</td>\n      <td>-1.661639</td>\n      <td>0.0</td>\n      <td>1.0</td>\n      <td>C</td>\n      <td>0.599539</td>\n      <td>...</td>\n      <td>0.12211</td>\n      <td>2JHC</td>\n      <td>-0.064872</td>\n      <td>2.261178</td>\n      <td>2</td>\n      <td>c_h</td>\n      <td>2</td>\n      <td>0.413226</td>\n      <td>0</td>\n      <td>0.057238</td>\n    </tr>\n    <tr>\n      <th>1</th>\n      <td>4658148</td>\n      <td>dsgdb9nsd_000004</td>\n      <td>2</td>\n      <td>1</td>\n      <td>H</td>\n      <td>-1.661639</td>\n      <td>0.0</td>\n      <td>1.0</td>\n      <td>C</td>\n      <td>-0.599539</td>\n      <td>...</td>\n      <td>0.12211</td>\n      <td>1JHC</td>\n      <td>-0.064872</td>\n      <td>1.062099</td>\n      <td>0</td>\n      <td>c_h</td>\n      <td>2</td>\n      <td>0.917924</td>\n      <td>1</td>\n      <td>0.057238</td>\n    </tr>\n    <tr>\n      <th>2</th>\n      <td>4658149</td>\n      <td>dsgdb9nsd_000004</td>\n      <td>2</td>\n      <td>3</td>\n      <td>H</td>\n      <td>-1.661639</td>\n      <td>0.0</td>\n      <td>1.0</td>\n      <td>H</td>\n      <td>1.661639</td>\n      <td>...</td>\n      <td>0.12211</td>\n      <td>3JHH</td>\n      <td>0.118187</td>\n      <td>3.323277</td>\n      <td>6</td>\n      <td>h_h</td>\n      <td>11</td>\n      <td>0.173375</td>\n      <td>0</td>\n      <td>0.240297</td>\n    </tr>\n    <tr>\n      <th>3</th>\n      <td>4658150</td>\n      <td>dsgdb9nsd_000004</td>\n      <td>3</td>\n      <td>0</td>\n      <td>H</td>\n      <td>1.661639</td>\n      <td>0.0</td>\n      <td>1.0</td>\n      <td>C</td>\n      <td>0.599539</td>\n      <td>...</td>\n      <td>0.12211</td>\n      <td>1JHC</td>\n      <td>-0.064872</td>\n      <td>1.062099</td>\n      <td>0</td>\n      <td>c_h</td>\n      <td>2</td>\n      <td>0.917924</td>\n      <td>1</td>\n      <td>0.057238</td>\n    </tr>\n    <tr>\n      <th>4</th>\n      <td>4658151</td>\n      <td>dsgdb9nsd_000004</td>\n      <td>3</td>\n      <td>1</td>\n      <td>H</td>\n      <td>1.661639</td>\n      <td>0.0</td>\n      <td>1.0</td>\n      <td>C</td>\n      <td>-0.599539</td>\n      <td>...</td>\n      <td>0.12211</td>\n      <td>2JHC</td>\n      <td>-0.064872</td>\n      <td>2.261178</td>\n      <td>2</td>\n      <td>c_h</td>\n      <td>2</td>\n      <td>0.413226</td>\n      <td>0</td>\n      <td>0.057238</td>\n    </tr>\n  </tbody>\n</table>\n<p>5 rows \u00d7 22 columns</p>\n</div>", 
                        "text/plain": "        id     molecule_name  atom_index_0  atom_index_1 atom_0       x_0  \\\n0  4658147  dsgdb9nsd_000004             2             0      H -1.661639   \n1  4658148  dsgdb9nsd_000004             2             1      H -1.661639   \n2  4658149  dsgdb9nsd_000004             2             3      H -1.661639   \n3  4658150  dsgdb9nsd_000004             3             0      H  1.661639   \n4  4658151  dsgdb9nsd_000004             3             1      H  1.661639   \n\n   y_0  z_0 atom_1       x_1  ...  mulliken_charge_0  type  mulliken_charge_1  \\\n0  0.0  1.0      C  0.599539  ...            0.12211  2JHC          -0.064872   \n1  0.0  1.0      C -0.599539  ...            0.12211  1JHC          -0.064872   \n2  0.0  1.0      H  1.661639  ...            0.12211  3JHH           0.118187   \n3  0.0  1.0      C  0.599539  ...            0.12211  1JHC          -0.064872   \n4  0.0  1.0      C -0.599539  ...            0.12211  2JHC          -0.064872   \n\n   distance  type_enc  pairs  pairs_enc      bond  bond_int  total_charge  \n0  2.261178         2    c_h          2  0.413226         0      0.057238  \n1  1.062099         0    c_h          2  0.917924         1      0.057238  \n2  3.323277         6    h_h         11  0.173375         0      0.240297  \n3  1.062099         0    c_h          2  0.917924         1      0.057238  \n4  2.261178         2    c_h          2  0.413226         0      0.057238  \n\n[5 rows x 22 columns]"
                    }, 
                    "output_type": "execute_result"
                }
            ], 
            "source": "test.head()"
        }, 
        {
            "source": "## Dipole Moment", 
            "cell_type": "markdown", 
            "metadata": {}
        }, 
        {
            "execution_count": 67, 
            "cell_type": "code", 
            "metadata": {}, 
            "outputs": [], 
            "source": "test['dp']=(-1*test['mulliken_charge_0']*test['distance']/2)+(test['mulliken_charge_1']*test['distance']/2)"
        }, 
        {
            "execution_count": 68, 
            "cell_type": "code", 
            "metadata": {}, 
            "outputs": [
                {
                    "execution_count": 68, 
                    "metadata": {}, 
                    "data": {
                        "text/html": "<div>\n<style scoped>\n    .dataframe tbody tr th:only-of-type {\n        vertical-align: middle;\n    }\n\n    .dataframe tbody tr th {\n        vertical-align: top;\n    }\n\n    .dataframe thead th {\n        text-align: right;\n    }\n</style>\n<table border=\"1\" class=\"dataframe\">\n  <thead>\n    <tr style=\"text-align: right;\">\n      <th></th>\n      <th>id</th>\n      <th>molecule_name</th>\n      <th>atom_index_0</th>\n      <th>atom_index_1</th>\n      <th>atom_0</th>\n      <th>x_0</th>\n      <th>y_0</th>\n      <th>z_0</th>\n      <th>atom_1</th>\n      <th>x_1</th>\n      <th>...</th>\n      <th>type</th>\n      <th>mulliken_charge_1</th>\n      <th>distance</th>\n      <th>type_enc</th>\n      <th>pairs</th>\n      <th>pairs_enc</th>\n      <th>bond</th>\n      <th>bond_int</th>\n      <th>total_charge</th>\n      <th>dp</th>\n    </tr>\n  </thead>\n  <tbody>\n    <tr>\n      <th>0</th>\n      <td>4658147</td>\n      <td>dsgdb9nsd_000004</td>\n      <td>2</td>\n      <td>0</td>\n      <td>H</td>\n      <td>-1.661639</td>\n      <td>0.0</td>\n      <td>1.0</td>\n      <td>C</td>\n      <td>0.599539</td>\n      <td>...</td>\n      <td>2JHC</td>\n      <td>-0.064872</td>\n      <td>2.261178</td>\n      <td>2</td>\n      <td>c_h</td>\n      <td>2</td>\n      <td>0.413226</td>\n      <td>0</td>\n      <td>0.057238</td>\n      <td>-0.211400</td>\n    </tr>\n    <tr>\n      <th>1</th>\n      <td>4658148</td>\n      <td>dsgdb9nsd_000004</td>\n      <td>2</td>\n      <td>1</td>\n      <td>H</td>\n      <td>-1.661639</td>\n      <td>0.0</td>\n      <td>1.0</td>\n      <td>C</td>\n      <td>-0.599539</td>\n      <td>...</td>\n      <td>1JHC</td>\n      <td>-0.064872</td>\n      <td>1.062099</td>\n      <td>0</td>\n      <td>c_h</td>\n      <td>2</td>\n      <td>0.917924</td>\n      <td>1</td>\n      <td>0.057238</td>\n      <td>-0.099297</td>\n    </tr>\n    <tr>\n      <th>2</th>\n      <td>4658149</td>\n      <td>dsgdb9nsd_000004</td>\n      <td>2</td>\n      <td>3</td>\n      <td>H</td>\n      <td>-1.661639</td>\n      <td>0.0</td>\n      <td>1.0</td>\n      <td>H</td>\n      <td>1.661639</td>\n      <td>...</td>\n      <td>3JHH</td>\n      <td>0.118187</td>\n      <td>3.323277</td>\n      <td>6</td>\n      <td>h_h</td>\n      <td>11</td>\n      <td>0.173375</td>\n      <td>0</td>\n      <td>0.240297</td>\n      <td>-0.006518</td>\n    </tr>\n    <tr>\n      <th>3</th>\n      <td>4658150</td>\n      <td>dsgdb9nsd_000004</td>\n      <td>3</td>\n      <td>0</td>\n      <td>H</td>\n      <td>1.661639</td>\n      <td>0.0</td>\n      <td>1.0</td>\n      <td>C</td>\n      <td>0.599539</td>\n      <td>...</td>\n      <td>1JHC</td>\n      <td>-0.064872</td>\n      <td>1.062099</td>\n      <td>0</td>\n      <td>c_h</td>\n      <td>2</td>\n      <td>0.917924</td>\n      <td>1</td>\n      <td>0.057238</td>\n      <td>-0.099297</td>\n    </tr>\n    <tr>\n      <th>4</th>\n      <td>4658151</td>\n      <td>dsgdb9nsd_000004</td>\n      <td>3</td>\n      <td>1</td>\n      <td>H</td>\n      <td>1.661639</td>\n      <td>0.0</td>\n      <td>1.0</td>\n      <td>C</td>\n      <td>-0.599539</td>\n      <td>...</td>\n      <td>2JHC</td>\n      <td>-0.064872</td>\n      <td>2.261178</td>\n      <td>2</td>\n      <td>c_h</td>\n      <td>2</td>\n      <td>0.413226</td>\n      <td>0</td>\n      <td>0.057238</td>\n      <td>-0.211400</td>\n    </tr>\n  </tbody>\n</table>\n<p>5 rows \u00d7 23 columns</p>\n</div>", 
                        "text/plain": "        id     molecule_name  atom_index_0  atom_index_1 atom_0       x_0  \\\n0  4658147  dsgdb9nsd_000004             2             0      H -1.661639   \n1  4658148  dsgdb9nsd_000004             2             1      H -1.661639   \n2  4658149  dsgdb9nsd_000004             2             3      H -1.661639   \n3  4658150  dsgdb9nsd_000004             3             0      H  1.661639   \n4  4658151  dsgdb9nsd_000004             3             1      H  1.661639   \n\n   y_0  z_0 atom_1       x_1  ...  type  mulliken_charge_1  distance type_enc  \\\n0  0.0  1.0      C  0.599539  ...  2JHC          -0.064872  2.261178        2   \n1  0.0  1.0      C -0.599539  ...  1JHC          -0.064872  1.062099        0   \n2  0.0  1.0      H  1.661639  ...  3JHH           0.118187  3.323277        6   \n3  0.0  1.0      C  0.599539  ...  1JHC          -0.064872  1.062099        0   \n4  0.0  1.0      C -0.599539  ...  2JHC          -0.064872  2.261178        2   \n\n   pairs  pairs_enc      bond bond_int  total_charge        dp  \n0    c_h          2  0.413226        0      0.057238 -0.211400  \n1    c_h          2  0.917924        1      0.057238 -0.099297  \n2    h_h         11  0.173375        0      0.240297 -0.006518  \n3    c_h          2  0.917924        1      0.057238 -0.099297  \n4    c_h          2  0.413226        0      0.057238 -0.211400  \n\n[5 rows x 23 columns]"
                    }, 
                    "output_type": "execute_result"
                }, 
                {
                    "execution_count": 68, 
                    "metadata": {}, 
                    "data": {
                        "text/html": "<div>\n<style scoped>\n    .dataframe tbody tr th:only-of-type {\n        vertical-align: middle;\n    }\n\n    .dataframe tbody tr th {\n        vertical-align: top;\n    }\n\n    .dataframe thead th {\n        text-align: right;\n    }\n</style>\n<table border=\"1\" class=\"dataframe\">\n  <thead>\n    <tr style=\"text-align: right;\">\n      <th></th>\n      <th>id</th>\n      <th>molecule_name</th>\n      <th>atom_index_0</th>\n      <th>atom_index_1</th>\n      <th>atom_0</th>\n      <th>x_0</th>\n      <th>y_0</th>\n      <th>z_0</th>\n      <th>atom_1</th>\n      <th>x_1</th>\n      <th>...</th>\n      <th>type</th>\n      <th>mulliken_charge_1</th>\n      <th>distance</th>\n      <th>type_enc</th>\n      <th>pairs</th>\n      <th>pairs_enc</th>\n      <th>bond</th>\n      <th>bond_int</th>\n      <th>total_charge</th>\n      <th>dp</th>\n    </tr>\n  </thead>\n  <tbody>\n    <tr>\n      <th>0</th>\n      <td>4658147</td>\n      <td>dsgdb9nsd_000004</td>\n      <td>2</td>\n      <td>0</td>\n      <td>H</td>\n      <td>-1.661639</td>\n      <td>0.0</td>\n      <td>1.0</td>\n      <td>C</td>\n      <td>0.599539</td>\n      <td>...</td>\n      <td>2JHC</td>\n      <td>-0.064872</td>\n      <td>2.261178</td>\n      <td>2</td>\n      <td>c_h</td>\n      <td>2</td>\n      <td>0.413226</td>\n      <td>0</td>\n      <td>0.057238</td>\n      <td>-0.211400</td>\n    </tr>\n    <tr>\n      <th>1</th>\n      <td>4658148</td>\n      <td>dsgdb9nsd_000004</td>\n      <td>2</td>\n      <td>1</td>\n      <td>H</td>\n      <td>-1.661639</td>\n      <td>0.0</td>\n      <td>1.0</td>\n      <td>C</td>\n      <td>-0.599539</td>\n      <td>...</td>\n      <td>1JHC</td>\n      <td>-0.064872</td>\n      <td>1.062099</td>\n      <td>0</td>\n      <td>c_h</td>\n      <td>2</td>\n      <td>0.917924</td>\n      <td>1</td>\n      <td>0.057238</td>\n      <td>-0.099297</td>\n    </tr>\n    <tr>\n      <th>2</th>\n      <td>4658149</td>\n      <td>dsgdb9nsd_000004</td>\n      <td>2</td>\n      <td>3</td>\n      <td>H</td>\n      <td>-1.661639</td>\n      <td>0.0</td>\n      <td>1.0</td>\n      <td>H</td>\n      <td>1.661639</td>\n      <td>...</td>\n      <td>3JHH</td>\n      <td>0.118187</td>\n      <td>3.323277</td>\n      <td>6</td>\n      <td>h_h</td>\n      <td>11</td>\n      <td>0.173375</td>\n      <td>0</td>\n      <td>0.240297</td>\n      <td>-0.006518</td>\n    </tr>\n    <tr>\n      <th>3</th>\n      <td>4658150</td>\n      <td>dsgdb9nsd_000004</td>\n      <td>3</td>\n      <td>0</td>\n      <td>H</td>\n      <td>1.661639</td>\n      <td>0.0</td>\n      <td>1.0</td>\n      <td>C</td>\n      <td>0.599539</td>\n      <td>...</td>\n      <td>1JHC</td>\n      <td>-0.064872</td>\n      <td>1.062099</td>\n      <td>0</td>\n      <td>c_h</td>\n      <td>2</td>\n      <td>0.917924</td>\n      <td>1</td>\n      <td>0.057238</td>\n      <td>-0.099297</td>\n    </tr>\n    <tr>\n      <th>4</th>\n      <td>4658151</td>\n      <td>dsgdb9nsd_000004</td>\n      <td>3</td>\n      <td>1</td>\n      <td>H</td>\n      <td>1.661639</td>\n      <td>0.0</td>\n      <td>1.0</td>\n      <td>C</td>\n      <td>-0.599539</td>\n      <td>...</td>\n      <td>2JHC</td>\n      <td>-0.064872</td>\n      <td>2.261178</td>\n      <td>2</td>\n      <td>c_h</td>\n      <td>2</td>\n      <td>0.413226</td>\n      <td>0</td>\n      <td>0.057238</td>\n      <td>-0.211400</td>\n    </tr>\n  </tbody>\n</table>\n<p>5 rows \u00d7 23 columns</p>\n</div>", 
                        "text/plain": "        id     molecule_name  atom_index_0  atom_index_1 atom_0       x_0  \\\n0  4658147  dsgdb9nsd_000004             2             0      H -1.661639   \n1  4658148  dsgdb9nsd_000004             2             1      H -1.661639   \n2  4658149  dsgdb9nsd_000004             2             3      H -1.661639   \n3  4658150  dsgdb9nsd_000004             3             0      H  1.661639   \n4  4658151  dsgdb9nsd_000004             3             1      H  1.661639   \n\n   y_0  z_0 atom_1       x_1  ...  type  mulliken_charge_1  distance type_enc  \\\n0  0.0  1.0      C  0.599539  ...  2JHC          -0.064872  2.261178        2   \n1  0.0  1.0      C -0.599539  ...  1JHC          -0.064872  1.062099        0   \n2  0.0  1.0      H  1.661639  ...  3JHH           0.118187  3.323277        6   \n3  0.0  1.0      C  0.599539  ...  1JHC          -0.064872  1.062099        0   \n4  0.0  1.0      C -0.599539  ...  2JHC          -0.064872  2.261178        2   \n\n   pairs  pairs_enc      bond bond_int  total_charge        dp  \n0    c_h          2  0.413226        0      0.057238 -0.211400  \n1    c_h          2  0.917924        1      0.057238 -0.099297  \n2    h_h         11  0.173375        0      0.240297 -0.006518  \n3    c_h          2  0.917924        1      0.057238 -0.099297  \n4    c_h          2  0.413226        0      0.057238 -0.211400  \n\n[5 rows x 23 columns]"
                    }, 
                    "output_type": "execute_result"
                }
            ], 
            "source": "test.head()"
        }, 
        {
            "source": "# Drop & Rearrange Columns", 
            "cell_type": "markdown", 
            "metadata": {}
        }, 
        {
            "execution_count": 23, 
            "cell_type": "code", 
            "metadata": {}, 
            "outputs": [
                {
                    "execution_count": 23, 
                    "metadata": {}, 
                    "data": {
                        "text/html": "<div>\n<style scoped>\n    .dataframe tbody tr th:only-of-type {\n        vertical-align: middle;\n    }\n\n    .dataframe tbody tr th {\n        vertical-align: top;\n    }\n\n    .dataframe thead th {\n        text-align: right;\n    }\n</style>\n<table border=\"1\" class=\"dataframe\">\n  <thead>\n    <tr style=\"text-align: right;\">\n      <th></th>\n      <th>id</th>\n      <th>molecule_name</th>\n      <th>atom_index_0</th>\n      <th>atom_index_1</th>\n      <th>atom_0</th>\n      <th>x_0</th>\n      <th>y_0</th>\n      <th>z_0</th>\n      <th>atom_1</th>\n      <th>x_1</th>\n      <th>y_1</th>\n      <th>z_1</th>\n      <th>mulliken_charge_0</th>\n      <th>mulliken_charge_1</th>\n      <th>type</th>\n      <th>scalar_coupling_constant</th>\n      <th>distance</th>\n      <th>type_enc</th>\n    </tr>\n  </thead>\n  <tbody>\n    <tr>\n      <th>0</th>\n      <td>0</td>\n      <td>dsgdb9nsd_000001</td>\n      <td>1</td>\n      <td>0</td>\n      <td>H</td>\n      <td>0.002150</td>\n      <td>-0.006031</td>\n      <td>0.001976</td>\n      <td>C</td>\n      <td>-0.012698</td>\n      <td>1.085804</td>\n      <td>0.008001</td>\n      <td>0.133921</td>\n      <td>-0.535689</td>\n      <td>1JHC</td>\n      <td>84.8076</td>\n      <td>1.091953</td>\n      <td>0</td>\n    </tr>\n    <tr>\n      <th>1</th>\n      <td>1</td>\n      <td>dsgdb9nsd_000001</td>\n      <td>1</td>\n      <td>2</td>\n      <td>H</td>\n      <td>0.002150</td>\n      <td>-0.006031</td>\n      <td>0.001976</td>\n      <td>H</td>\n      <td>1.011731</td>\n      <td>1.463751</td>\n      <td>0.000277</td>\n      <td>0.133921</td>\n      <td>0.133922</td>\n      <td>2JHH</td>\n      <td>-11.2570</td>\n      <td>1.783120</td>\n      <td>3</td>\n    </tr>\n    <tr>\n      <th>2</th>\n      <td>2</td>\n      <td>dsgdb9nsd_000001</td>\n      <td>1</td>\n      <td>3</td>\n      <td>H</td>\n      <td>0.002150</td>\n      <td>-0.006031</td>\n      <td>0.001976</td>\n      <td>H</td>\n      <td>-0.540815</td>\n      <td>1.447527</td>\n      <td>-0.876644</td>\n      <td>0.133921</td>\n      <td>0.133923</td>\n      <td>2JHH</td>\n      <td>-11.2548</td>\n      <td>1.783147</td>\n      <td>3</td>\n    </tr>\n    <tr>\n      <th>3</th>\n      <td>3</td>\n      <td>dsgdb9nsd_000001</td>\n      <td>1</td>\n      <td>4</td>\n      <td>H</td>\n      <td>0.002150</td>\n      <td>-0.006031</td>\n      <td>0.001976</td>\n      <td>H</td>\n      <td>-0.523814</td>\n      <td>1.437933</td>\n      <td>0.906397</td>\n      <td>0.133921</td>\n      <td>0.133923</td>\n      <td>2JHH</td>\n      <td>-11.2543</td>\n      <td>1.783157</td>\n      <td>3</td>\n    </tr>\n    <tr>\n      <th>4</th>\n      <td>4</td>\n      <td>dsgdb9nsd_000001</td>\n      <td>2</td>\n      <td>0</td>\n      <td>H</td>\n      <td>1.011731</td>\n      <td>1.463751</td>\n      <td>0.000277</td>\n      <td>C</td>\n      <td>-0.012698</td>\n      <td>1.085804</td>\n      <td>0.008001</td>\n      <td>0.133922</td>\n      <td>-0.535689</td>\n      <td>1JHC</td>\n      <td>84.8074</td>\n      <td>1.091952</td>\n      <td>0</td>\n    </tr>\n  </tbody>\n</table>\n</div>", 
                        "text/plain": "   id     molecule_name  atom_index_0  atom_index_1 atom_0       x_0  \\\n0   0  dsgdb9nsd_000001             1             0      H  0.002150   \n1   1  dsgdb9nsd_000001             1             2      H  0.002150   \n2   2  dsgdb9nsd_000001             1             3      H  0.002150   \n3   3  dsgdb9nsd_000001             1             4      H  0.002150   \n4   4  dsgdb9nsd_000001             2             0      H  1.011731   \n\n        y_0       z_0 atom_1       x_1       y_1       z_1  mulliken_charge_0  \\\n0 -0.006031  0.001976      C -0.012698  1.085804  0.008001           0.133921   \n1 -0.006031  0.001976      H  1.011731  1.463751  0.000277           0.133921   \n2 -0.006031  0.001976      H -0.540815  1.447527 -0.876644           0.133921   \n3 -0.006031  0.001976      H -0.523814  1.437933  0.906397           0.133921   \n4  1.463751  0.000277      C -0.012698  1.085804  0.008001           0.133922   \n\n   mulliken_charge_1  type  scalar_coupling_constant  distance  type_enc  \n0          -0.535689  1JHC                   84.8076  1.091953         0  \n1           0.133922  2JHH                  -11.2570  1.783120         3  \n2           0.133923  2JHH                  -11.2548  1.783147         3  \n3           0.133923  2JHH                  -11.2543  1.783157         3  \n4          -0.535689  1JHC                   84.8074  1.091952         0  "
                    }, 
                    "output_type": "execute_result"
                }
            ], 
            "source": "train.head()"
        }, 
        {
            "execution_count": 24, 
            "cell_type": "code", 
            "metadata": {}, 
            "outputs": [
                {
                    "execution_count": 24, 
                    "metadata": {}, 
                    "data": {
                        "text/html": "<div>\n<style scoped>\n    .dataframe tbody tr th:only-of-type {\n        vertical-align: middle;\n    }\n\n    .dataframe tbody tr th {\n        vertical-align: top;\n    }\n\n    .dataframe thead th {\n        text-align: right;\n    }\n</style>\n<table border=\"1\" class=\"dataframe\">\n  <thead>\n    <tr style=\"text-align: right;\">\n      <th></th>\n      <th>id</th>\n      <th>molecule_name</th>\n      <th>atom_index_0</th>\n      <th>atom_index_1</th>\n      <th>atom_0</th>\n      <th>x_0</th>\n      <th>y_0</th>\n      <th>z_0</th>\n      <th>atom_1</th>\n      <th>x_1</th>\n      <th>y_1</th>\n      <th>z_1</th>\n      <th>mulliken_charge_0</th>\n      <th>mulliken_charge_1</th>\n      <th>type</th>\n      <th>distance</th>\n      <th>type_enc</th>\n    </tr>\n  </thead>\n  <tbody>\n    <tr>\n      <th>0</th>\n      <td>4658147</td>\n      <td>dsgdb9nsd_000004</td>\n      <td>2</td>\n      <td>0</td>\n      <td>H</td>\n      <td>-1.661639</td>\n      <td>0.0</td>\n      <td>1.0</td>\n      <td>C</td>\n      <td>0.599539</td>\n      <td>0.0</td>\n      <td>1.0</td>\n      <td>NaN</td>\n      <td>NaN</td>\n      <td>2JHC</td>\n      <td>2.261178</td>\n      <td>2</td>\n    </tr>\n    <tr>\n      <th>1</th>\n      <td>4658148</td>\n      <td>dsgdb9nsd_000004</td>\n      <td>2</td>\n      <td>1</td>\n      <td>H</td>\n      <td>-1.661639</td>\n      <td>0.0</td>\n      <td>1.0</td>\n      <td>C</td>\n      <td>-0.599539</td>\n      <td>0.0</td>\n      <td>1.0</td>\n      <td>NaN</td>\n      <td>NaN</td>\n      <td>1JHC</td>\n      <td>1.062099</td>\n      <td>0</td>\n    </tr>\n    <tr>\n      <th>2</th>\n      <td>4658149</td>\n      <td>dsgdb9nsd_000004</td>\n      <td>2</td>\n      <td>3</td>\n      <td>H</td>\n      <td>-1.661639</td>\n      <td>0.0</td>\n      <td>1.0</td>\n      <td>H</td>\n      <td>1.661639</td>\n      <td>0.0</td>\n      <td>1.0</td>\n      <td>NaN</td>\n      <td>NaN</td>\n      <td>3JHH</td>\n      <td>3.323277</td>\n      <td>6</td>\n    </tr>\n    <tr>\n      <th>3</th>\n      <td>4658150</td>\n      <td>dsgdb9nsd_000004</td>\n      <td>3</td>\n      <td>0</td>\n      <td>H</td>\n      <td>1.661639</td>\n      <td>0.0</td>\n      <td>1.0</td>\n      <td>C</td>\n      <td>0.599539</td>\n      <td>0.0</td>\n      <td>1.0</td>\n      <td>NaN</td>\n      <td>NaN</td>\n      <td>1JHC</td>\n      <td>1.062099</td>\n      <td>0</td>\n    </tr>\n    <tr>\n      <th>4</th>\n      <td>4658151</td>\n      <td>dsgdb9nsd_000004</td>\n      <td>3</td>\n      <td>1</td>\n      <td>H</td>\n      <td>1.661639</td>\n      <td>0.0</td>\n      <td>1.0</td>\n      <td>C</td>\n      <td>-0.599539</td>\n      <td>0.0</td>\n      <td>1.0</td>\n      <td>NaN</td>\n      <td>NaN</td>\n      <td>2JHC</td>\n      <td>2.261178</td>\n      <td>2</td>\n    </tr>\n  </tbody>\n</table>\n</div>", 
                        "text/plain": "        id     molecule_name  atom_index_0  atom_index_1 atom_0       x_0  \\\n0  4658147  dsgdb9nsd_000004             2             0      H -1.661639   \n1  4658148  dsgdb9nsd_000004             2             1      H -1.661639   \n2  4658149  dsgdb9nsd_000004             2             3      H -1.661639   \n3  4658150  dsgdb9nsd_000004             3             0      H  1.661639   \n4  4658151  dsgdb9nsd_000004             3             1      H  1.661639   \n\n   y_0  z_0 atom_1       x_1  y_1  z_1  mulliken_charge_0  mulliken_charge_1  \\\n0  0.0  1.0      C  0.599539  0.0  1.0                NaN                NaN   \n1  0.0  1.0      C -0.599539  0.0  1.0                NaN                NaN   \n2  0.0  1.0      H  1.661639  0.0  1.0                NaN                NaN   \n3  0.0  1.0      C  0.599539  0.0  1.0                NaN                NaN   \n4  0.0  1.0      C -0.599539  0.0  1.0                NaN                NaN   \n\n   type  distance  type_enc  \n0  2JHC  2.261178         2  \n1  1JHC  1.062099         0  \n2  3JHH  3.323277         6  \n3  1JHC  1.062099         0  \n4  2JHC  2.261178         2  "
                    }, 
                    "output_type": "execute_result"
                }
            ], 
            "source": "test.head()"
        }, 
        {
            "execution_count": 25, 
            "cell_type": "code", 
            "metadata": {}, 
            "outputs": [
                {
                    "output_type": "stream", 
                    "name": "stdout", 
                    "text": "train: (4658147, 18)\ntest: (2505542, 17)\n"
                }
            ], 
            "source": "print('train: {}'.format(train.shape))\nprint('test: {}'.format(test.shape))"
        }, 
        {
            "execution_count": 26, 
            "cell_type": "code", 
            "metadata": {}, 
            "outputs": [
                {
                    "execution_count": 26, 
                    "metadata": {}, 
                    "data": {
                        "text/plain": "Index(['id', 'molecule_name', 'atom_index_0', 'atom_index_1', 'atom_0', 'x_0',\n       'y_0', 'z_0', 'atom_1', 'x_1', 'y_1', 'z_1', 'mulliken_charge_0',\n       'mulliken_charge_1', 'type', 'scalar_coupling_constant', 'distance',\n       'type_enc'],\n      dtype='object')"
                    }, 
                    "output_type": "execute_result"
                }
            ], 
            "source": "train.columns"
        }, 
        {
            "execution_count": null, 
            "cell_type": "code", 
            "metadata": {}, 
            "outputs": [], 
            "source": "drop_cols=['id', 'molecule_name',  'atom_0',  'atom_1', 'mulliken_charge_0',\n       'mulliken_charge_1','type']"
        }, 
        {
            "execution_count": 30, 
            "cell_type": "code", 
            "metadata": {}, 
            "outputs": [
                {
                    "execution_count": 30, 
                    "metadata": {}, 
                    "data": {
                        "text/html": "<div>\n<style scoped>\n    .dataframe tbody tr th:only-of-type {\n        vertical-align: middle;\n    }\n\n    .dataframe tbody tr th {\n        vertical-align: top;\n    }\n\n    .dataframe thead th {\n        text-align: right;\n    }\n</style>\n<table border=\"1\" class=\"dataframe\">\n  <thead>\n    <tr style=\"text-align: right;\">\n      <th></th>\n      <th>atom_index_0</th>\n      <th>atom_index_1</th>\n      <th>x_0</th>\n      <th>y_0</th>\n      <th>z_0</th>\n      <th>x_1</th>\n      <th>y_1</th>\n      <th>z_1</th>\n      <th>scalar_coupling_constant</th>\n      <th>distance</th>\n      <th>type_enc</th>\n    </tr>\n  </thead>\n  <tbody>\n    <tr>\n      <th>0</th>\n      <td>1</td>\n      <td>0</td>\n      <td>0.002150</td>\n      <td>-0.006031</td>\n      <td>0.001976</td>\n      <td>-0.012698</td>\n      <td>1.085804</td>\n      <td>0.008001</td>\n      <td>84.8076</td>\n      <td>1.091953</td>\n      <td>0</td>\n    </tr>\n    <tr>\n      <th>1</th>\n      <td>1</td>\n      <td>2</td>\n      <td>0.002150</td>\n      <td>-0.006031</td>\n      <td>0.001976</td>\n      <td>1.011731</td>\n      <td>1.463751</td>\n      <td>0.000277</td>\n      <td>-11.2570</td>\n      <td>1.783120</td>\n      <td>3</td>\n    </tr>\n    <tr>\n      <th>2</th>\n      <td>1</td>\n      <td>3</td>\n      <td>0.002150</td>\n      <td>-0.006031</td>\n      <td>0.001976</td>\n      <td>-0.540815</td>\n      <td>1.447527</td>\n      <td>-0.876644</td>\n      <td>-11.2548</td>\n      <td>1.783147</td>\n      <td>3</td>\n    </tr>\n    <tr>\n      <th>3</th>\n      <td>1</td>\n      <td>4</td>\n      <td>0.002150</td>\n      <td>-0.006031</td>\n      <td>0.001976</td>\n      <td>-0.523814</td>\n      <td>1.437933</td>\n      <td>0.906397</td>\n      <td>-11.2543</td>\n      <td>1.783157</td>\n      <td>3</td>\n    </tr>\n    <tr>\n      <th>4</th>\n      <td>2</td>\n      <td>0</td>\n      <td>1.011731</td>\n      <td>1.463751</td>\n      <td>0.000277</td>\n      <td>-0.012698</td>\n      <td>1.085804</td>\n      <td>0.008001</td>\n      <td>84.8074</td>\n      <td>1.091952</td>\n      <td>0</td>\n    </tr>\n  </tbody>\n</table>\n</div>", 
                        "text/plain": "   atom_index_0  atom_index_1       x_0       y_0       z_0       x_1  \\\n0             1             0  0.002150 -0.006031  0.001976 -0.012698   \n1             1             2  0.002150 -0.006031  0.001976  1.011731   \n2             1             3  0.002150 -0.006031  0.001976 -0.540815   \n3             1             4  0.002150 -0.006031  0.001976 -0.523814   \n4             2             0  1.011731  1.463751  0.000277 -0.012698   \n\n        y_1       z_1  scalar_coupling_constant  distance  type_enc  \n0  1.085804  0.008001                   84.8076  1.091953         0  \n1  1.463751  0.000277                  -11.2570  1.783120         3  \n2  1.447527 -0.876644                  -11.2548  1.783147         3  \n3  1.437933  0.906397                  -11.2543  1.783157         3  \n4  1.085804  0.008001                   84.8074  1.091952         0  "
                    }, 
                    "output_type": "execute_result"
                }
            ], 
            "source": "train.drop(drop_cols,axis=1,inplace=True)\ntrain.head()"
        }, 
        {
            "execution_count": 34, 
            "cell_type": "code", 
            "metadata": {}, 
            "outputs": [
                {
                    "execution_count": 34, 
                    "metadata": {}, 
                    "data": {
                        "text/plain": "Index(['atom_index_0', 'atom_index_1', 'x_0', 'y_0', 'z_0', 'x_1', 'y_1',\n       'z_1', 'distance', 'type_enc'],\n      dtype='object')"
                    }, 
                    "output_type": "execute_result"
                }
            ], 
            "source": "test.columns"
        }, 
        {
            "execution_count": null, 
            "cell_type": "code", 
            "metadata": {}, 
            "outputs": [], 
            "source": "drop_cols=['id', 'molecule_name',  'atom_0',  'atom_1', 'mulliken_charge_0',\n       'mulliken_charge_1','type']"
        }, 
        {
            "execution_count": 36, 
            "cell_type": "code", 
            "metadata": {}, 
            "outputs": [
                {
                    "execution_count": 36, 
                    "metadata": {}, 
                    "data": {
                        "text/html": "<div>\n<style scoped>\n    .dataframe tbody tr th:only-of-type {\n        vertical-align: middle;\n    }\n\n    .dataframe tbody tr th {\n        vertical-align: top;\n    }\n\n    .dataframe thead th {\n        text-align: right;\n    }\n</style>\n<table border=\"1\" class=\"dataframe\">\n  <thead>\n    <tr style=\"text-align: right;\">\n      <th></th>\n      <th>atom_index_0</th>\n      <th>atom_index_1</th>\n      <th>x_0</th>\n      <th>y_0</th>\n      <th>z_0</th>\n      <th>x_1</th>\n      <th>y_1</th>\n      <th>z_1</th>\n      <th>distance</th>\n      <th>type_enc</th>\n    </tr>\n  </thead>\n  <tbody>\n    <tr>\n      <th>0</th>\n      <td>2</td>\n      <td>0</td>\n      <td>-1.661639</td>\n      <td>0.0</td>\n      <td>1.0</td>\n      <td>0.599539</td>\n      <td>0.0</td>\n      <td>1.0</td>\n      <td>2.261178</td>\n      <td>2</td>\n    </tr>\n    <tr>\n      <th>1</th>\n      <td>2</td>\n      <td>1</td>\n      <td>-1.661639</td>\n      <td>0.0</td>\n      <td>1.0</td>\n      <td>-0.599539</td>\n      <td>0.0</td>\n      <td>1.0</td>\n      <td>1.062099</td>\n      <td>0</td>\n    </tr>\n    <tr>\n      <th>2</th>\n      <td>2</td>\n      <td>3</td>\n      <td>-1.661639</td>\n      <td>0.0</td>\n      <td>1.0</td>\n      <td>1.661639</td>\n      <td>0.0</td>\n      <td>1.0</td>\n      <td>3.323277</td>\n      <td>6</td>\n    </tr>\n    <tr>\n      <th>3</th>\n      <td>3</td>\n      <td>0</td>\n      <td>1.661639</td>\n      <td>0.0</td>\n      <td>1.0</td>\n      <td>0.599539</td>\n      <td>0.0</td>\n      <td>1.0</td>\n      <td>1.062099</td>\n      <td>0</td>\n    </tr>\n    <tr>\n      <th>4</th>\n      <td>3</td>\n      <td>1</td>\n      <td>1.661639</td>\n      <td>0.0</td>\n      <td>1.0</td>\n      <td>-0.599539</td>\n      <td>0.0</td>\n      <td>1.0</td>\n      <td>2.261178</td>\n      <td>2</td>\n    </tr>\n  </tbody>\n</table>\n</div>", 
                        "text/plain": "   atom_index_0  atom_index_1       x_0  y_0  z_0       x_1  y_1  z_1  \\\n0             2             0 -1.661639  0.0  1.0  0.599539  0.0  1.0   \n1             2             1 -1.661639  0.0  1.0 -0.599539  0.0  1.0   \n2             2             3 -1.661639  0.0  1.0  1.661639  0.0  1.0   \n3             3             0  1.661639  0.0  1.0  0.599539  0.0  1.0   \n4             3             1  1.661639  0.0  1.0 -0.599539  0.0  1.0   \n\n   distance  type_enc  \n0  2.261178         2  \n1  1.062099         0  \n2  3.323277         6  \n3  1.062099         0  \n4  2.261178         2  "
                    }, 
                    "output_type": "execute_result"
                }
            ], 
            "source": "test.drop(drop_cols,axis=1,inplace=True)\ntest.head()"
        }, 
        {
            "execution_count": 76, 
            "cell_type": "code", 
            "metadata": {}, 
            "outputs": [
                {
                    "execution_count": 76, 
                    "metadata": {}, 
                    "data": {
                        "text/html": "<div>\n<style scoped>\n    .dataframe tbody tr th:only-of-type {\n        vertical-align: middle;\n    }\n\n    .dataframe tbody tr th {\n        vertical-align: top;\n    }\n\n    .dataframe thead th {\n        text-align: right;\n    }\n</style>\n<table border=\"1\" class=\"dataframe\">\n  <thead>\n    <tr style=\"text-align: right;\">\n      <th></th>\n      <th>scalar_coupling_constant</th>\n      <th>distance</th>\n      <th>type_enc</th>\n      <th>pairs_enc</th>\n      <th>bond_int</th>\n      <th>total_charge</th>\n      <th>dp</th>\n    </tr>\n  </thead>\n  <tbody>\n    <tr>\n      <th>count</th>\n      <td>4658147</td>\n      <td>4658147</td>\n      <td>4658147</td>\n      <td>4658147</td>\n      <td>4658147</td>\n      <td>4658147</td>\n      <td>4658147</td>\n    </tr>\n    <tr>\n      <th>unique</th>\n      <td>1</td>\n      <td>1</td>\n      <td>1</td>\n      <td>1</td>\n      <td>1</td>\n      <td>1</td>\n      <td>1</td>\n    </tr>\n    <tr>\n      <th>top</th>\n      <td>False</td>\n      <td>False</td>\n      <td>False</td>\n      <td>False</td>\n      <td>False</td>\n      <td>False</td>\n      <td>False</td>\n    </tr>\n    <tr>\n      <th>freq</th>\n      <td>4658147</td>\n      <td>4658147</td>\n      <td>4658147</td>\n      <td>4658147</td>\n      <td>4658147</td>\n      <td>4658147</td>\n      <td>4658147</td>\n    </tr>\n  </tbody>\n</table>\n</div>", 
                        "text/plain": "       scalar_coupling_constant distance type_enc pairs_enc bond_int  \\\ncount                   4658147  4658147  4658147   4658147  4658147   \nunique                        1        1        1         1        1   \ntop                       False    False    False     False    False   \nfreq                    4658147  4658147  4658147   4658147  4658147   \n\n       total_charge       dp  \ncount       4658147  4658147  \nunique            1        1  \ntop           False    False  \nfreq        4658147  4658147  "
                    }, 
                    "output_type": "execute_result"
                }, 
                {
                    "execution_count": 76, 
                    "metadata": {}, 
                    "data": {
                        "text/html": "<div>\n<style scoped>\n    .dataframe tbody tr th:only-of-type {\n        vertical-align: middle;\n    }\n\n    .dataframe tbody tr th {\n        vertical-align: top;\n    }\n\n    .dataframe thead th {\n        text-align: right;\n    }\n</style>\n<table border=\"1\" class=\"dataframe\">\n  <thead>\n    <tr style=\"text-align: right;\">\n      <th></th>\n      <th>scalar_coupling_constant</th>\n      <th>distance</th>\n      <th>type_enc</th>\n      <th>pairs_enc</th>\n      <th>bond_int</th>\n      <th>total_charge</th>\n      <th>dp</th>\n    </tr>\n  </thead>\n  <tbody>\n    <tr>\n      <th>count</th>\n      <td>4658147</td>\n      <td>4658147</td>\n      <td>4658147</td>\n      <td>4658147</td>\n      <td>4658147</td>\n      <td>4658147</td>\n      <td>4658147</td>\n    </tr>\n    <tr>\n      <th>unique</th>\n      <td>1</td>\n      <td>1</td>\n      <td>1</td>\n      <td>1</td>\n      <td>1</td>\n      <td>1</td>\n      <td>1</td>\n    </tr>\n    <tr>\n      <th>top</th>\n      <td>False</td>\n      <td>False</td>\n      <td>False</td>\n      <td>False</td>\n      <td>False</td>\n      <td>False</td>\n      <td>False</td>\n    </tr>\n    <tr>\n      <th>freq</th>\n      <td>4658147</td>\n      <td>4658147</td>\n      <td>4658147</td>\n      <td>4658147</td>\n      <td>4658147</td>\n      <td>4658147</td>\n      <td>4658147</td>\n    </tr>\n  </tbody>\n</table>\n</div>", 
                        "text/plain": "       scalar_coupling_constant distance type_enc pairs_enc bond_int  \\\ncount                   4658147  4658147  4658147   4658147  4658147   \nunique                        1        1        1         1        1   \ntop                       False    False    False     False    False   \nfreq                    4658147  4658147  4658147   4658147  4658147   \n\n       total_charge       dp  \ncount       4658147  4658147  \nunique            1        1  \ntop           False    False  \nfreq        4658147  4658147  "
                    }, 
                    "output_type": "execute_result"
                }
            ], 
            "source": "train.isna().describe()"
        }, 
        {
            "execution_count": 37, 
            "cell_type": "code", 
            "metadata": {}, 
            "outputs": [
                {
                    "execution_count": 37, 
                    "metadata": {}, 
                    "data": {
                        "text/html": "<div>\n<style scoped>\n    .dataframe tbody tr th:only-of-type {\n        vertical-align: middle;\n    }\n\n    .dataframe tbody tr th {\n        vertical-align: top;\n    }\n\n    .dataframe thead th {\n        text-align: right;\n    }\n</style>\n<table border=\"1\" class=\"dataframe\">\n  <thead>\n    <tr style=\"text-align: right;\">\n      <th></th>\n      <th>atom_index_0</th>\n      <th>atom_index_1</th>\n      <th>x_0</th>\n      <th>y_0</th>\n      <th>z_0</th>\n      <th>x_1</th>\n      <th>y_1</th>\n      <th>z_1</th>\n      <th>distance</th>\n      <th>type_enc</th>\n    </tr>\n  </thead>\n  <tbody>\n    <tr>\n      <th>count</th>\n      <td>2505542</td>\n      <td>2505542</td>\n      <td>2505542</td>\n      <td>2505542</td>\n      <td>2505542</td>\n      <td>2505542</td>\n      <td>2505542</td>\n      <td>2505542</td>\n      <td>2505542</td>\n      <td>2505542</td>\n    </tr>\n    <tr>\n      <th>unique</th>\n      <td>1</td>\n      <td>1</td>\n      <td>1</td>\n      <td>1</td>\n      <td>1</td>\n      <td>1</td>\n      <td>1</td>\n      <td>1</td>\n      <td>1</td>\n      <td>1</td>\n    </tr>\n    <tr>\n      <th>top</th>\n      <td>False</td>\n      <td>False</td>\n      <td>False</td>\n      <td>False</td>\n      <td>False</td>\n      <td>False</td>\n      <td>False</td>\n      <td>False</td>\n      <td>False</td>\n      <td>False</td>\n    </tr>\n    <tr>\n      <th>freq</th>\n      <td>2505542</td>\n      <td>2505542</td>\n      <td>2505542</td>\n      <td>2505542</td>\n      <td>2505542</td>\n      <td>2505542</td>\n      <td>2505542</td>\n      <td>2505542</td>\n      <td>2505542</td>\n      <td>2505542</td>\n    </tr>\n  </tbody>\n</table>\n</div>", 
                        "text/plain": "       atom_index_0 atom_index_1      x_0      y_0      z_0      x_1      y_1  \\\ncount       2505542      2505542  2505542  2505542  2505542  2505542  2505542   \nunique            1            1        1        1        1        1        1   \ntop           False        False    False    False    False    False    False   \nfreq        2505542      2505542  2505542  2505542  2505542  2505542  2505542   \n\n            z_1 distance type_enc  \ncount   2505542  2505542  2505542  \nunique        1        1        1  \ntop       False    False    False  \nfreq    2505542  2505542  2505542  "
                    }, 
                    "output_type": "execute_result"
                }
            ], 
            "source": "test.isna().describe()"
        }, 
        {
            "execution_count": 38, 
            "cell_type": "code", 
            "metadata": {}, 
            "outputs": [
                {
                    "execution_count": 38, 
                    "metadata": {}, 
                    "data": {
                        "text/plain": "Index(['atom_index_0', 'atom_index_1', 'x_0', 'y_0', 'z_0', 'x_1', 'y_1',\n       'z_1', 'scalar_coupling_constant', 'distance', 'type_enc'],\n      dtype='object')"
                    }, 
                    "output_type": "execute_result"
                }
            ], 
            "source": "train.columns"
        }, 
        {
            "execution_count": 39, 
            "cell_type": "code", 
            "metadata": {}, 
            "outputs": [
                {
                    "execution_count": 39, 
                    "metadata": {}, 
                    "data": {
                        "text/html": "<div>\n<style scoped>\n    .dataframe tbody tr th:only-of-type {\n        vertical-align: middle;\n    }\n\n    .dataframe tbody tr th {\n        vertical-align: top;\n    }\n\n    .dataframe thead th {\n        text-align: right;\n    }\n</style>\n<table border=\"1\" class=\"dataframe\">\n  <thead>\n    <tr style=\"text-align: right;\">\n      <th></th>\n      <th>atom_index_0</th>\n      <th>atom_index_1</th>\n      <th>x_0</th>\n      <th>y_0</th>\n      <th>z_0</th>\n      <th>x_1</th>\n      <th>y_1</th>\n      <th>z_1</th>\n      <th>distance</th>\n      <th>type_enc</th>\n      <th>scalar_coupling_constant</th>\n    </tr>\n  </thead>\n  <tbody>\n    <tr>\n      <th>0</th>\n      <td>1</td>\n      <td>0</td>\n      <td>0.002150</td>\n      <td>-0.006031</td>\n      <td>0.001976</td>\n      <td>-0.012698</td>\n      <td>1.085804</td>\n      <td>0.008001</td>\n      <td>1.091953</td>\n      <td>0</td>\n      <td>84.8076</td>\n    </tr>\n    <tr>\n      <th>1</th>\n      <td>1</td>\n      <td>2</td>\n      <td>0.002150</td>\n      <td>-0.006031</td>\n      <td>0.001976</td>\n      <td>1.011731</td>\n      <td>1.463751</td>\n      <td>0.000277</td>\n      <td>1.783120</td>\n      <td>3</td>\n      <td>-11.2570</td>\n    </tr>\n    <tr>\n      <th>2</th>\n      <td>1</td>\n      <td>3</td>\n      <td>0.002150</td>\n      <td>-0.006031</td>\n      <td>0.001976</td>\n      <td>-0.540815</td>\n      <td>1.447527</td>\n      <td>-0.876644</td>\n      <td>1.783147</td>\n      <td>3</td>\n      <td>-11.2548</td>\n    </tr>\n    <tr>\n      <th>3</th>\n      <td>1</td>\n      <td>4</td>\n      <td>0.002150</td>\n      <td>-0.006031</td>\n      <td>0.001976</td>\n      <td>-0.523814</td>\n      <td>1.437933</td>\n      <td>0.906397</td>\n      <td>1.783157</td>\n      <td>3</td>\n      <td>-11.2543</td>\n    </tr>\n    <tr>\n      <th>4</th>\n      <td>2</td>\n      <td>0</td>\n      <td>1.011731</td>\n      <td>1.463751</td>\n      <td>0.000277</td>\n      <td>-0.012698</td>\n      <td>1.085804</td>\n      <td>0.008001</td>\n      <td>1.091952</td>\n      <td>0</td>\n      <td>84.8074</td>\n    </tr>\n  </tbody>\n</table>\n</div>", 
                        "text/plain": "   atom_index_0  atom_index_1       x_0       y_0       z_0       x_1  \\\n0             1             0  0.002150 -0.006031  0.001976 -0.012698   \n1             1             2  0.002150 -0.006031  0.001976  1.011731   \n2             1             3  0.002150 -0.006031  0.001976 -0.540815   \n3             1             4  0.002150 -0.006031  0.001976 -0.523814   \n4             2             0  1.011731  1.463751  0.000277 -0.012698   \n\n        y_1       z_1  distance  type_enc  scalar_coupling_constant  \n0  1.085804  0.008001  1.091953         0                   84.8076  \n1  1.463751  0.000277  1.783120         3                  -11.2570  \n2  1.447527 -0.876644  1.783147         3                  -11.2548  \n3  1.437933  0.906397  1.783157         3                  -11.2543  \n4  1.085804  0.008001  1.091952         0                   84.8074  "
                    }, 
                    "output_type": "execute_result"
                }
            ], 
            "source": "train=train[['atom_index_0', 'atom_index_1', 'x_0', 'y_0', 'z_0', 'x_1', 'y_1','z_1', 'distance', 'type_enc', 'scalar_coupling_constant']]\ntrain.head()"
        }, 
        {
            "execution_count": 41, 
            "cell_type": "code", 
            "metadata": {
                "scrolled": true
            }, 
            "outputs": [
                {
                    "execution_count": 41, 
                    "metadata": {}, 
                    "data": {
                        "text/html": "<div>\n<style scoped>\n    .dataframe tbody tr th:only-of-type {\n        vertical-align: middle;\n    }\n\n    .dataframe tbody tr th {\n        vertical-align: top;\n    }\n\n    .dataframe thead th {\n        text-align: right;\n    }\n</style>\n<table border=\"1\" class=\"dataframe\">\n  <thead>\n    <tr style=\"text-align: right;\">\n      <th></th>\n      <th>atom_index_0</th>\n      <th>atom_index_1</th>\n      <th>x_0</th>\n      <th>y_0</th>\n      <th>z_0</th>\n      <th>x_1</th>\n      <th>y_1</th>\n      <th>z_1</th>\n      <th>distance</th>\n      <th>type_enc</th>\n    </tr>\n  </thead>\n  <tbody>\n    <tr>\n      <th>0</th>\n      <td>2</td>\n      <td>0</td>\n      <td>-1.661639</td>\n      <td>0.0</td>\n      <td>1.0</td>\n      <td>0.599539</td>\n      <td>0.0</td>\n      <td>1.0</td>\n      <td>2.261178</td>\n      <td>2</td>\n    </tr>\n    <tr>\n      <th>1</th>\n      <td>2</td>\n      <td>1</td>\n      <td>-1.661639</td>\n      <td>0.0</td>\n      <td>1.0</td>\n      <td>-0.599539</td>\n      <td>0.0</td>\n      <td>1.0</td>\n      <td>1.062099</td>\n      <td>0</td>\n    </tr>\n    <tr>\n      <th>2</th>\n      <td>2</td>\n      <td>3</td>\n      <td>-1.661639</td>\n      <td>0.0</td>\n      <td>1.0</td>\n      <td>1.661639</td>\n      <td>0.0</td>\n      <td>1.0</td>\n      <td>3.323277</td>\n      <td>6</td>\n    </tr>\n    <tr>\n      <th>3</th>\n      <td>3</td>\n      <td>0</td>\n      <td>1.661639</td>\n      <td>0.0</td>\n      <td>1.0</td>\n      <td>0.599539</td>\n      <td>0.0</td>\n      <td>1.0</td>\n      <td>1.062099</td>\n      <td>0</td>\n    </tr>\n    <tr>\n      <th>4</th>\n      <td>3</td>\n      <td>1</td>\n      <td>1.661639</td>\n      <td>0.0</td>\n      <td>1.0</td>\n      <td>-0.599539</td>\n      <td>0.0</td>\n      <td>1.0</td>\n      <td>2.261178</td>\n      <td>2</td>\n    </tr>\n  </tbody>\n</table>\n</div>", 
                        "text/plain": "   atom_index_0  atom_index_1       x_0  y_0  z_0       x_1  y_1  z_1  \\\n0             2             0 -1.661639  0.0  1.0  0.599539  0.0  1.0   \n1             2             1 -1.661639  0.0  1.0 -0.599539  0.0  1.0   \n2             2             3 -1.661639  0.0  1.0  1.661639  0.0  1.0   \n3             3             0  1.661639  0.0  1.0  0.599539  0.0  1.0   \n4             3             1  1.661639  0.0  1.0 -0.599539  0.0  1.0   \n\n   distance  type_enc  \n0  2.261178         2  \n1  1.062099         0  \n2  3.323277         6  \n3  1.062099         0  \n4  2.261178         2  "
                    }, 
                    "output_type": "execute_result"
                }
            ], 
            "source": "test=test[['atom_index_0', 'atom_index_1', 'x_0', 'y_0', 'z_0', 'x_1', 'y_1','z_1', 'distance', 'type_enc']]\ntest.head()"
        }, 
        {
            "source": "# Serialize Data", 
            "cell_type": "markdown", 
            "metadata": {}
        }, 
        {
            "execution_count": 42, 
            "cell_type": "code", 
            "metadata": {}, 
            "outputs": [
                {
                    "output_type": "stream", 
                    "name": "stdout", 
                    "text": "(4658147, 11)\n(2505542, 10)\n"
                }
            ], 
            "source": "print(train.shape)\nprint(test.shape)"
        }, 
        {
            "execution_count": 43, 
            "cell_type": "code", 
            "metadata": {}, 
            "outputs": [], 
            "source": "mid_point=int(train.shape[0]/2)\ntrain[:mid_point].to_csv('train_feat_eng_v2_1.csv',index=False)\ntrain[mid_point:].to_csv('train_feat_eng_v2_2.csv',index=False)"
        }, 
        {
            "execution_count": 44, 
            "cell_type": "code", 
            "metadata": {}, 
            "outputs": [], 
            "source": "test.to_csv('test_feat_eng_v2.csv',index=False)"
        }, 
        {
            "execution_count": 45, 
            "cell_type": "code", 
            "metadata": {}, 
            "outputs": [
                {
                    "output_type": "stream", 
                    "name": "stdout", 
                    "text": "connectivity_model_nn_03.h5  test_etl.csv\t   train_feat_eng_v2_1.csv\r\ndata.covs.pickle\t     test_feat_eng_v2.csv  train_feat_eng_v2_2.csv\r\npairs_dict.pkl\t\t     train_etl.csv\r\n"
                }
            ], 
            "source": "!ls"
        }, 
        {
            "execution_count": 54, 
            "cell_type": "code", 
            "metadata": {}, 
            "outputs": [
                {
                    "execution_count": 54, 
                    "metadata": {}, 
                    "data": {
                        "text/html": "<div>\n<style scoped>\n    .dataframe tbody tr th:only-of-type {\n        vertical-align: middle;\n    }\n\n    .dataframe tbody tr th {\n        vertical-align: top;\n    }\n\n    .dataframe thead th {\n        text-align: right;\n    }\n</style>\n<table border=\"1\" class=\"dataframe\">\n  <thead>\n    <tr style=\"text-align: right;\">\n      <th></th>\n      <th>atom_index_0</th>\n      <th>atom_index_1</th>\n      <th>x_0</th>\n      <th>y_0</th>\n      <th>z_0</th>\n      <th>x_1</th>\n      <th>y_1</th>\n      <th>z_1</th>\n      <th>distance</th>\n      <th>type_enc</th>\n      <th>scalar_coupling_constant</th>\n    </tr>\n  </thead>\n  <tbody>\n    <tr>\n      <th>0</th>\n      <td>10</td>\n      <td>2</td>\n      <td>0.201991</td>\n      <td>-0.973581</td>\n      <td>-2.072494</td>\n      <td>0.680673</td>\n      <td>-0.974093</td>\n      <td>-1.091626</td>\n      <td>1.091439</td>\n      <td>0</td>\n      <td>94.12640</td>\n    </tr>\n    <tr>\n      <th>1</th>\n      <td>10</td>\n      <td>3</td>\n      <td>0.201991</td>\n      <td>-0.973581</td>\n      <td>-2.072494</td>\n      <td>0.051412</td>\n      <td>-1.899314</td>\n      <td>-0.020235</td>\n      <td>2.256418</td>\n      <td>2</td>\n      <td>-1.38365</td>\n    </tr>\n    <tr>\n      <th>2</th>\n      <td>10</td>\n      <td>4</td>\n      <td>0.201991</td>\n      <td>-0.973581</td>\n      <td>-2.072494</td>\n      <td>0.599497</td>\n      <td>-0.963231</td>\n      <td>1.103777</td>\n      <td>3.201065</td>\n      <td>5</td>\n      <td>11.84720</td>\n    </tr>\n    <tr>\n      <th>3</th>\n      <td>10</td>\n      <td>7</td>\n      <td>0.201991</td>\n      <td>-0.973581</td>\n      <td>-2.072494</td>\n      <td>-1.189860</td>\n      <td>-0.940525</td>\n      <td>0.066629</td>\n      <td>2.552291</td>\n      <td>5</td>\n      <td>4.28989</td>\n    </tr>\n    <tr>\n      <th>4</th>\n      <td>10</td>\n      <td>11</td>\n      <td>0.201991</td>\n      <td>-0.973581</td>\n      <td>-2.072494</td>\n      <td>1.770906</td>\n      <td>-0.986857</td>\n      <td>-1.167952</td>\n      <td>1.811041</td>\n      <td>3</td>\n      <td>-1.02528</td>\n    </tr>\n  </tbody>\n</table>\n</div>", 
                        "text/plain": "   atom_index_0  atom_index_1       x_0       y_0       z_0       x_1  \\\n0            10             2  0.201991 -0.973581 -2.072494  0.680673   \n1            10             3  0.201991 -0.973581 -2.072494  0.051412   \n2            10             4  0.201991 -0.973581 -2.072494  0.599497   \n3            10             7  0.201991 -0.973581 -2.072494 -1.189860   \n4            10            11  0.201991 -0.973581 -2.072494  1.770906   \n\n        y_1       z_1  distance  type_enc  scalar_coupling_constant  \n0 -0.974093 -1.091626  1.091439         0                  94.12640  \n1 -1.899314 -0.020235  2.256418         2                  -1.38365  \n2 -0.963231  1.103777  3.201065         5                  11.84720  \n3 -0.940525  0.066629  2.552291         5                   4.28989  \n4 -0.986857 -1.167952  1.811041         3                  -1.02528  "
                    }, 
                    "output_type": "execute_result"
                }
            ], 
            "source": "df=pd.read_csv('train_feat_eng_v2_2.csv')\ndf.head()"
        }, 
        {
            "execution_count": 55, 
            "cell_type": "code", 
            "metadata": {}, 
            "outputs": [
                {
                    "execution_count": 55, 
                    "metadata": {}, 
                    "data": {
                        "text/plain": "(2329074, 11)"
                    }, 
                    "output_type": "execute_result"
                }
            ], 
            "source": "df.shape"
        }, 
        {
            "execution_count": 56, 
            "cell_type": "code", 
            "metadata": {}, 
            "outputs": [
                {
                    "execution_count": 56, 
                    "metadata": {}, 
                    "data": {
                        "text/html": "<div>\n<style scoped>\n    .dataframe tbody tr th:only-of-type {\n        vertical-align: middle;\n    }\n\n    .dataframe tbody tr th {\n        vertical-align: top;\n    }\n\n    .dataframe thead th {\n        text-align: right;\n    }\n</style>\n<table border=\"1\" class=\"dataframe\">\n  <thead>\n    <tr style=\"text-align: right;\">\n      <th></th>\n      <th>atom_index_0</th>\n      <th>atom_index_1</th>\n      <th>x_0</th>\n      <th>y_0</th>\n      <th>z_0</th>\n      <th>x_1</th>\n      <th>y_1</th>\n      <th>z_1</th>\n      <th>distance</th>\n      <th>type_enc</th>\n    </tr>\n  </thead>\n  <tbody>\n    <tr>\n      <th>0</th>\n      <td>2</td>\n      <td>0</td>\n      <td>-1.661639</td>\n      <td>0.0</td>\n      <td>1.0</td>\n      <td>0.599539</td>\n      <td>0.0</td>\n      <td>1.0</td>\n      <td>2.261178</td>\n      <td>2</td>\n    </tr>\n    <tr>\n      <th>1</th>\n      <td>2</td>\n      <td>1</td>\n      <td>-1.661639</td>\n      <td>0.0</td>\n      <td>1.0</td>\n      <td>-0.599539</td>\n      <td>0.0</td>\n      <td>1.0</td>\n      <td>1.062099</td>\n      <td>0</td>\n    </tr>\n    <tr>\n      <th>2</th>\n      <td>2</td>\n      <td>3</td>\n      <td>-1.661639</td>\n      <td>0.0</td>\n      <td>1.0</td>\n      <td>1.661639</td>\n      <td>0.0</td>\n      <td>1.0</td>\n      <td>3.323277</td>\n      <td>6</td>\n    </tr>\n    <tr>\n      <th>3</th>\n      <td>3</td>\n      <td>0</td>\n      <td>1.661639</td>\n      <td>0.0</td>\n      <td>1.0</td>\n      <td>0.599539</td>\n      <td>0.0</td>\n      <td>1.0</td>\n      <td>1.062099</td>\n      <td>0</td>\n    </tr>\n    <tr>\n      <th>4</th>\n      <td>3</td>\n      <td>1</td>\n      <td>1.661639</td>\n      <td>0.0</td>\n      <td>1.0</td>\n      <td>-0.599539</td>\n      <td>0.0</td>\n      <td>1.0</td>\n      <td>2.261178</td>\n      <td>2</td>\n    </tr>\n  </tbody>\n</table>\n</div>", 
                        "text/plain": "   atom_index_0  atom_index_1       x_0  y_0  z_0       x_1  y_1  z_1  \\\n0             2             0 -1.661639  0.0  1.0  0.599539  0.0  1.0   \n1             2             1 -1.661639  0.0  1.0 -0.599539  0.0  1.0   \n2             2             3 -1.661639  0.0  1.0  1.661639  0.0  1.0   \n3             3             0  1.661639  0.0  1.0  0.599539  0.0  1.0   \n4             3             1  1.661639  0.0  1.0 -0.599539  0.0  1.0   \n\n   distance  type_enc  \n0  2.261178         2  \n1  1.062099         0  \n2  3.323277         6  \n3  1.062099         0  \n4  2.261178         2  "
                    }, 
                    "output_type": "execute_result"
                }
            ], 
            "source": "df=pd.read_csv('test_feat_eng_v2.csv')\ndf.head()"
        }, 
        {
            "execution_count": 57, 
            "cell_type": "code", 
            "metadata": {}, 
            "outputs": [
                {
                    "execution_count": 57, 
                    "metadata": {}, 
                    "data": {
                        "text/plain": "(2505542, 10)"
                    }, 
                    "output_type": "execute_result"
                }
            ], 
            "source": "df.shape"
        }, 
        {
            "execution_count": null, 
            "cell_type": "code", 
            "metadata": {}, 
            "outputs": [], 
            "source": ""
        }, 
        {
            "source": "## Upload files to IBM Object Store", 
            "cell_type": "markdown", 
            "metadata": {}
        }, 
        {
            "execution_count": 51, 
            "cell_type": "code", 
            "metadata": {}, 
            "outputs": [], 
            "source": "# The code was removed by Watson Studio for sharing."
        }, 
        {
            "execution_count": 52, 
            "cell_type": "code", 
            "metadata": {}, 
            "outputs": [], 
            "source": "from ibm_botocore.client import Config\nimport ibm_boto3\ndef upload_file_cos(credentials,local_file_name,key):  \n    cos = ibm_boto3.client(service_name='s3',\n    ibm_api_key_id=credentials['IBM_API_KEY_ID'],\n    ibm_service_instance_id=credentials['IAM_SERVICE_ID'],\n    ibm_auth_endpoint=credentials['IBM_AUTH_ENDPOINT'],\n    config=Config(signature_version='oauth'),\n    endpoint_url=credentials['ENDPOINT'])\n    try:\n        res=cos.upload_file(Filename=local_file_name, Bucket=credentials['BUCKET'],Key=key)\n    except Exception as e:\n        print(Exception, e)\n    else:\n        print('File Uploaded')"
        }, 
        {
            "execution_count": 59, 
            "cell_type": "code", 
            "metadata": {}, 
            "outputs": [
                {
                    "output_type": "stream", 
                    "name": "stdout", 
                    "text": "File Uploaded\nFile Uploaded\n"
                }
            ], 
            "source": "upload_file_cos(credentials_2,'train_feat_eng_v2_1.csv','train_feat_eng_v2_1.csv')\nupload_file_cos(credentials_2,'train_feat_eng_v2_2.csv','train_feat_eng_v2_2.csv')"
        }, 
        {
            "execution_count": 60, 
            "cell_type": "code", 
            "metadata": {}, 
            "outputs": [
                {
                    "output_type": "stream", 
                    "name": "stdout", 
                    "text": "File Uploaded\n"
                }
            ], 
            "source": "upload_file_cos(credentials_2,'test_feat_eng_v2.csv','test_feat_eng_v2.csv')"
        }, 
        {
            "execution_count": null, 
            "cell_type": "code", 
            "metadata": {}, 
            "outputs": [], 
            "source": ""
        }
    ], 
    "metadata": {
        "kernelspec": {
            "display_name": "Python 3.6", 
            "name": "python3", 
            "language": "python"
        }, 
        "language_info": {
            "mimetype": "text/x-python", 
            "nbconvert_exporter": "python", 
            "version": "3.6.8", 
            "name": "python", 
            "file_extension": ".py", 
            "pygments_lexer": "ipython3", 
            "codemirror_mode": {
                "version": 3, 
                "name": "ipython"
            }
        }
    }, 
    "nbformat": 4
}