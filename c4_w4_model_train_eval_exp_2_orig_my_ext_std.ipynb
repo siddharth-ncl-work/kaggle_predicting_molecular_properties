{
  "nbformat": 4,
  "nbformat_minor": 0,
  "metadata": {
    "kernelspec": {
      "name": "python3",
      "display_name": "Python 3"
    },
    "language_info": {
      "mimetype": "text/x-python",
      "nbconvert_exporter": "python",
      "version": "3.6.8",
      "name": "python",
      "file_extension": ".py",
      "pygments_lexer": "ipython3",
      "codemirror_mode": {
        "version": 3,
        "name": "ipython"
      }
    },
    "colab": {
      "name": "c4_w4_model_train_eval.ipynb",
      "version": "0.3.2",
      "provenance": [],
      "toc_visible": true,
      "include_colab_link": true
    },
    "accelerator": "GPU"
  },
  "cells": [
    {
      "cell_type": "markdown",
      "metadata": {
        "id": "view-in-github",
        "colab_type": "text"
      },
      "source": [
        "<a href=\"https://colab.research.google.com/github/ss-ghule/kaggle_predicting_molecular_properties/blob/master/c4_w4_model_train_eval_exp_2_orig_my_ext_std.ipynb\" target=\"_parent\"><img src=\"https://colab.research.google.com/assets/colab-badge.svg\" alt=\"Open In Colab\"/></a>"
      ]
    },
    {
      "cell_type": "markdown",
      "metadata": {
        "collapsed": true,
        "id": "yagcl-cp_rGY",
        "colab_type": "text"
      },
      "source": [
        "# Training & Evaluation\n",
        "\n",
        "## ##Training & Evaluation is currently being carried out in google Colaboratory due to less free resources available in IBM watson studio"
      ]
    },
    {
      "cell_type": "markdown",
      "metadata": {
        "id": "FR40RxvC_rGc",
        "colab_type": "text"
      },
      "source": [
        "# Download Data"
      ]
    },
    {
      "cell_type": "code",
      "metadata": {
        "id": "hl7tOQx0_8FB",
        "colab_type": "code",
        "outputId": "0cf89b3f-07f2-4940-fbe4-909d345d9325",
        "colab": {
          "base_uri": "https://localhost:8080/",
          "height": 122
        }
      },
      "source": [
        "from google.colab import drive\n",
        "drive.mount('/content/drive')"
      ],
      "execution_count": 0,
      "outputs": [
        {
          "output_type": "stream",
          "text": [
            "Go to this URL in a browser: https://accounts.google.com/o/oauth2/auth?client_id=947318989803-6bn6qk8qdgf4n4g3pfee6491hc0brc4i.apps.googleusercontent.com&redirect_uri=urn%3Aietf%3Awg%3Aoauth%3A2.0%3Aoob&scope=email%20https%3A%2F%2Fwww.googleapis.com%2Fauth%2Fdocs.test%20https%3A%2F%2Fwww.googleapis.com%2Fauth%2Fdrive%20https%3A%2F%2Fwww.googleapis.com%2Fauth%2Fdrive.photos.readonly%20https%3A%2F%2Fwww.googleapis.com%2Fauth%2Fpeopleapi.readonly&response_type=code\n",
            "\n",
            "Enter your authorization code:\n",
            "··········\n",
            "Mounted at /content/drive\n"
          ],
          "name": "stdout"
        }
      ]
    },
    {
      "cell_type": "code",
      "metadata": {
        "id": "cd9tvodJ_2B7",
        "colab_type": "code",
        "outputId": "9848ca9f-3d53-42fc-9857-6a848ed69e46",
        "colab": {
          "base_uri": "https://localhost:8080/",
          "height": 34
        }
      },
      "source": [
        "!ls"
      ],
      "execution_count": 0,
      "outputs": [
        {
          "output_type": "stream",
          "text": [
            "drive  sample_data\n"
          ],
          "name": "stdout"
        }
      ]
    },
    {
      "cell_type": "code",
      "metadata": {
        "id": "sSaJy3Ky_rGe",
        "colab_type": "code",
        "colab": {}
      },
      "source": [
        "# The code was removed by Watson Studio for sharing."
      ],
      "execution_count": 0,
      "outputs": []
    },
    {
      "cell_type": "code",
      "metadata": {
        "id": "NupJV6Uc_rGn",
        "colab_type": "code",
        "colab": {}
      },
      "source": [
        "'''\n",
        "from ibm_botocore.client import Config\n",
        "import ibm_boto3\n",
        "def download_file_cos(credentials,local_file_name,key):  \n",
        "    cos = ibm_boto3.client(service_name='s3',\n",
        "    ibm_api_key_id=credentials['IBM_API_KEY_ID'],\n",
        "    ibm_service_instance_id=credentials['IAM_SERVICE_ID'],\n",
        "    ibm_auth_endpoint=credentials['IBM_AUTH_ENDPOINT'],\n",
        "    config=Config(signature_version='oauth'),\n",
        "    endpoint_url=credentials['ENDPOINT'])\n",
        "    try:\n",
        "        res=cos.download_file(Bucket=credentials['BUCKET'],Key=key,Filename=local_file_name)\n",
        "    except Exception as e:\n",
        "        print(Exception, e)\n",
        "    else:\n",
        "        print('File Downloaded')\n",
        "'''"
      ],
      "execution_count": 0,
      "outputs": []
    },
    {
      "cell_type": "code",
      "metadata": {
        "id": "-E3LKXE2_rGr",
        "colab_type": "code",
        "outputId": "19ff4ee2-dff8-4649-99e3-fd90f8660bbd",
        "colab": {
          "base_uri": "https://localhost:8080/",
          "height": 34
        }
      },
      "source": [
        "#download_file_cos(credentials_2,'train_feat_eng.csv','train_feat_eng.csv')\n",
        "#ownload_file_cos(credentials_2,'test_feat_eng.csv','test_feat_eng.csv')\n",
        "#download_file_cos(credentials_2,'sample_submission.csv','sample_submission.csv')\n",
        "!ls"
      ],
      "execution_count": 0,
      "outputs": [
        {
          "output_type": "stream",
          "text": [
            "drive  sample_data\n"
          ],
          "name": "stdout"
        }
      ]
    },
    {
      "cell_type": "code",
      "metadata": {
        "id": "7XwY9zM7X3Jp",
        "colab_type": "code",
        "colab": {}
      },
      "source": [
        ""
      ],
      "execution_count": 0,
      "outputs": []
    },
    {
      "cell_type": "markdown",
      "metadata": {
        "id": "xfE1SqV5X9oa",
        "colab_type": "text"
      },
      "source": [
        "# EXP NO.2 (orig+my+ext+std)"
      ]
    },
    {
      "cell_type": "markdown",
      "metadata": {
        "id": "bPykO9S6_rG0",
        "colab_type": "text"
      },
      "source": [
        "# Dowload Data"
      ]
    },
    {
      "cell_type": "code",
      "metadata": {
        "id": "60DvXJFH_rG2",
        "colab_type": "code",
        "colab": {}
      },
      "source": [
        "import pandas as pd\n",
        "import numpy as np\n",
        "import matplotlib.pyplot as plt\n",
        "import tensorflow as tf\n",
        "from tensorflow import keras\n",
        "import pickle\n",
        "%matplotlib inline"
      ],
      "execution_count": 0,
      "outputs": []
    },
    {
      "cell_type": "code",
      "metadata": {
        "id": "oIaMPaH1_rG_",
        "colab_type": "code",
        "outputId": "cb69bfe6-116d-43de-8004-8793057ac389",
        "colab": {
          "base_uri": "https://localhost:8080/",
          "height": 34
        }
      },
      "source": [
        "tf.__version__"
      ],
      "execution_count": 0,
      "outputs": [
        {
          "output_type": "execute_result",
          "data": {
            "text/plain": [
              "'1.14.0'"
            ]
          },
          "metadata": {
            "tags": []
          },
          "execution_count": 2
        }
      ]
    },
    {
      "cell_type": "code",
      "metadata": {
        "id": "OxbPFU2t_rHE",
        "colab_type": "code",
        "outputId": "c71ea052-fb0a-49c4-a901-0820ed38993c",
        "colab": {
          "base_uri": "https://localhost:8080/",
          "height": 224
        }
      },
      "source": [
        "train=pd.read_csv('/content/drive/My Drive/Non-Project/Data/train_feat_eng_v2_orig_my_ext_std.csv')\n",
        "train.head()"
      ],
      "execution_count": 0,
      "outputs": [
        {
          "output_type": "execute_result",
          "data": {
            "text/html": [
              "<div>\n",
              "<style scoped>\n",
              "    .dataframe tbody tr th:only-of-type {\n",
              "        vertical-align: middle;\n",
              "    }\n",
              "\n",
              "    .dataframe tbody tr th {\n",
              "        vertical-align: top;\n",
              "    }\n",
              "\n",
              "    .dataframe thead th {\n",
              "        text-align: right;\n",
              "    }\n",
              "</style>\n",
              "<table border=\"1\" class=\"dataframe\">\n",
              "  <thead>\n",
              "    <tr style=\"text-align: right;\">\n",
              "      <th></th>\n",
              "      <th>id</th>\n",
              "      <th>molecule_name</th>\n",
              "      <th>atom_index_0</th>\n",
              "      <th>atom_index_1</th>\n",
              "      <th>atom_0</th>\n",
              "      <th>x_0</th>\n",
              "      <th>y_0</th>\n",
              "      <th>z_0</th>\n",
              "      <th>atom_1</th>\n",
              "      <th>x_1</th>\n",
              "      <th>y_1</th>\n",
              "      <th>z_1</th>\n",
              "      <th>mulliken_charge_0</th>\n",
              "      <th>mulliken_charge_1</th>\n",
              "      <th>type</th>\n",
              "      <th>scalar_coupling_constant</th>\n",
              "      <th>distance</th>\n",
              "      <th>type_enc</th>\n",
              "      <th>atom_1_enc</th>\n",
              "      <th>atom_0_enc</th>\n",
              "      <th>pairs</th>\n",
              "      <th>pairs_enc</th>\n",
              "      <th>bond</th>\n",
              "      <th>bond_int</th>\n",
              "      <th>rc_A</th>\n",
              "      <th>rc_B</th>\n",
              "      <th>rc_C</th>\n",
              "      <th>mu</th>\n",
              "      <th>alpha</th>\n",
              "      <th>homo</th>\n",
              "      <th>lumo</th>\n",
              "      <th>gap</th>\n",
              "      <th>r2</th>\n",
              "      <th>zpve</th>\n",
              "      <th>U0</th>\n",
              "      <th>U</th>\n",
              "      <th>H</th>\n",
              "      <th>G</th>\n",
              "      <th>Cv</th>\n",
              "      <th>freqs_min</th>\n",
              "      <th>freqs_max</th>\n",
              "      <th>freqs_mean</th>\n",
              "      <th>linear</th>\n",
              "      <th>mulliken_min</th>\n",
              "      <th>mulliken_max</th>\n",
              "      <th>mulliken_mean</th>\n",
              "      <th>mulliken_atom_0</th>\n",
              "      <th>mulliken_atom_1</th>\n",
              "    </tr>\n",
              "  </thead>\n",
              "  <tbody>\n",
              "    <tr>\n",
              "      <th>0</th>\n",
              "      <td>0</td>\n",
              "      <td>dsgdb9nsd_000001</td>\n",
              "      <td>1</td>\n",
              "      <td>0</td>\n",
              "      <td>H</td>\n",
              "      <td>-0.058940</td>\n",
              "      <td>0.101017</td>\n",
              "      <td>-0.028861</td>\n",
              "      <td>C</td>\n",
              "      <td>-0.074536</td>\n",
              "      <td>0.838296</td>\n",
              "      <td>-0.055483</td>\n",
              "      <td>0.263942</td>\n",
              "      <td>-2.057703</td>\n",
              "      <td>1JHC</td>\n",
              "      <td>84.8076</td>\n",
              "      <td>-1.722482</td>\n",
              "      <td>0</td>\n",
              "      <td>0</td>\n",
              "      <td>1</td>\n",
              "      <td>c_h</td>\n",
              "      <td>2</td>\n",
              "      <td>0.919759</td>\n",
              "      <td>1</td>\n",
              "      <td>0.204031</td>\n",
              "      <td>245.628201</td>\n",
              "      <td>327.405121</td>\n",
              "      <td>-1.695411</td>\n",
              "      <td>-8.408312</td>\n",
              "      <td>-7.35274</td>\n",
              "      <td>2.11108</td>\n",
              "      <td>5.185886</td>\n",
              "      <td>-4.103365</td>\n",
              "      <td>-3.708737</td>\n",
              "      <td>9.782061</td>\n",
              "      <td>9.781967</td>\n",
              "      <td>9.781967</td>\n",
              "      <td>9.782299</td>\n",
              "      <td>-6.487444</td>\n",
              "      <td>25.189761</td>\n",
              "      <td>-1.211166</td>\n",
              "      <td>14.564856</td>\n",
              "      <td>0.048439</td>\n",
              "      <td>-1.412</td>\n",
              "      <td>-2.117249</td>\n",
              "      <td>0.000943</td>\n",
              "      <td>0.263942</td>\n",
              "      <td>-2.057704</td>\n",
              "    </tr>\n",
              "    <tr>\n",
              "      <th>1</th>\n",
              "      <td>1</td>\n",
              "      <td>dsgdb9nsd_000001</td>\n",
              "      <td>1</td>\n",
              "      <td>2</td>\n",
              "      <td>H</td>\n",
              "      <td>-0.058940</td>\n",
              "      <td>0.101017</td>\n",
              "      <td>-0.028861</td>\n",
              "      <td>H</td>\n",
              "      <td>0.617919</td>\n",
              "      <td>1.052165</td>\n",
              "      <td>-0.061633</td>\n",
              "      <td>0.263942</td>\n",
              "      <td>0.729230</td>\n",
              "      <td>2JHH</td>\n",
              "      <td>-11.2570</td>\n",
              "      <td>-0.784301</td>\n",
              "      <td>3</td>\n",
              "      <td>1</td>\n",
              "      <td>1</td>\n",
              "      <td>h_h</td>\n",
              "      <td>11</td>\n",
              "      <td>0.648310</td>\n",
              "      <td>1</td>\n",
              "      <td>0.204031</td>\n",
              "      <td>245.628201</td>\n",
              "      <td>327.405121</td>\n",
              "      <td>-1.695411</td>\n",
              "      <td>-8.408312</td>\n",
              "      <td>-7.35274</td>\n",
              "      <td>2.11108</td>\n",
              "      <td>5.185886</td>\n",
              "      <td>-4.103365</td>\n",
              "      <td>-3.708737</td>\n",
              "      <td>9.782061</td>\n",
              "      <td>9.781967</td>\n",
              "      <td>9.781967</td>\n",
              "      <td>9.782299</td>\n",
              "      <td>-6.487444</td>\n",
              "      <td>25.189761</td>\n",
              "      <td>-1.211166</td>\n",
              "      <td>14.564856</td>\n",
              "      <td>0.048439</td>\n",
              "      <td>-1.412</td>\n",
              "      <td>-2.117249</td>\n",
              "      <td>0.000943</td>\n",
              "      <td>0.263942</td>\n",
              "      <td>0.729230</td>\n",
              "    </tr>\n",
              "    <tr>\n",
              "      <th>2</th>\n",
              "      <td>2</td>\n",
              "      <td>dsgdb9nsd_000001</td>\n",
              "      <td>1</td>\n",
              "      <td>3</td>\n",
              "      <td>H</td>\n",
              "      <td>-0.058940</td>\n",
              "      <td>0.101017</td>\n",
              "      <td>-0.028861</td>\n",
              "      <td>H</td>\n",
              "      <td>-0.431513</td>\n",
              "      <td>1.042984</td>\n",
              "      <td>-0.759868</td>\n",
              "      <td>0.263942</td>\n",
              "      <td>0.729234</td>\n",
              "      <td>2JHH</td>\n",
              "      <td>-11.2548</td>\n",
              "      <td>-0.784264</td>\n",
              "      <td>3</td>\n",
              "      <td>1</td>\n",
              "      <td>1</td>\n",
              "      <td>h_h</td>\n",
              "      <td>11</td>\n",
              "      <td>0.648205</td>\n",
              "      <td>1</td>\n",
              "      <td>0.204031</td>\n",
              "      <td>245.628201</td>\n",
              "      <td>327.405121</td>\n",
              "      <td>-1.695411</td>\n",
              "      <td>-8.408312</td>\n",
              "      <td>-7.35274</td>\n",
              "      <td>2.11108</td>\n",
              "      <td>5.185886</td>\n",
              "      <td>-4.103365</td>\n",
              "      <td>-3.708737</td>\n",
              "      <td>9.782061</td>\n",
              "      <td>9.781967</td>\n",
              "      <td>9.781967</td>\n",
              "      <td>9.782299</td>\n",
              "      <td>-6.487444</td>\n",
              "      <td>25.189761</td>\n",
              "      <td>-1.211166</td>\n",
              "      <td>14.564856</td>\n",
              "      <td>0.048439</td>\n",
              "      <td>-1.412</td>\n",
              "      <td>-2.117249</td>\n",
              "      <td>0.000943</td>\n",
              "      <td>0.263942</td>\n",
              "      <td>0.729234</td>\n",
              "    </tr>\n",
              "    <tr>\n",
              "      <th>3</th>\n",
              "      <td>3</td>\n",
              "      <td>dsgdb9nsd_000001</td>\n",
              "      <td>1</td>\n",
              "      <td>4</td>\n",
              "      <td>H</td>\n",
              "      <td>-0.058940</td>\n",
              "      <td>0.101017</td>\n",
              "      <td>-0.028861</td>\n",
              "      <td>H</td>\n",
              "      <td>-0.420021</td>\n",
              "      <td>1.037555</td>\n",
              "      <td>0.659852</td>\n",
              "      <td>0.263942</td>\n",
              "      <td>0.729234</td>\n",
              "      <td>2JHH</td>\n",
              "      <td>-11.2543</td>\n",
              "      <td>-0.784251</td>\n",
              "      <td>3</td>\n",
              "      <td>1</td>\n",
              "      <td>1</td>\n",
              "      <td>h_h</td>\n",
              "      <td>11</td>\n",
              "      <td>0.648170</td>\n",
              "      <td>1</td>\n",
              "      <td>0.204031</td>\n",
              "      <td>245.628201</td>\n",
              "      <td>327.405121</td>\n",
              "      <td>-1.695411</td>\n",
              "      <td>-8.408312</td>\n",
              "      <td>-7.35274</td>\n",
              "      <td>2.11108</td>\n",
              "      <td>5.185886</td>\n",
              "      <td>-4.103365</td>\n",
              "      <td>-3.708737</td>\n",
              "      <td>9.782061</td>\n",
              "      <td>9.781967</td>\n",
              "      <td>9.781967</td>\n",
              "      <td>9.782299</td>\n",
              "      <td>-6.487444</td>\n",
              "      <td>25.189761</td>\n",
              "      <td>-1.211166</td>\n",
              "      <td>14.564856</td>\n",
              "      <td>0.048439</td>\n",
              "      <td>-1.412</td>\n",
              "      <td>-2.117249</td>\n",
              "      <td>0.000943</td>\n",
              "      <td>0.263942</td>\n",
              "      <td>0.729234</td>\n",
              "    </tr>\n",
              "    <tr>\n",
              "      <th>4</th>\n",
              "      <td>4</td>\n",
              "      <td>dsgdb9nsd_000001</td>\n",
              "      <td>2</td>\n",
              "      <td>0</td>\n",
              "      <td>H</td>\n",
              "      <td>0.514726</td>\n",
              "      <td>0.793727</td>\n",
              "      <td>-0.029947</td>\n",
              "      <td>C</td>\n",
              "      <td>-0.074536</td>\n",
              "      <td>0.838296</td>\n",
              "      <td>-0.055483</td>\n",
              "      <td>0.263964</td>\n",
              "      <td>-2.057703</td>\n",
              "      <td>1JHC</td>\n",
              "      <td>84.8074</td>\n",
              "      <td>-1.722484</td>\n",
              "      <td>0</td>\n",
              "      <td>0</td>\n",
              "      <td>1</td>\n",
              "      <td>c_h</td>\n",
              "      <td>2</td>\n",
              "      <td>0.919759</td>\n",
              "      <td>1</td>\n",
              "      <td>0.204031</td>\n",
              "      <td>245.628201</td>\n",
              "      <td>327.405121</td>\n",
              "      <td>-1.695411</td>\n",
              "      <td>-8.408312</td>\n",
              "      <td>-7.35274</td>\n",
              "      <td>2.11108</td>\n",
              "      <td>5.185886</td>\n",
              "      <td>-4.103365</td>\n",
              "      <td>-3.708737</td>\n",
              "      <td>9.782061</td>\n",
              "      <td>9.781967</td>\n",
              "      <td>9.781967</td>\n",
              "      <td>9.782299</td>\n",
              "      <td>-6.487444</td>\n",
              "      <td>25.189761</td>\n",
              "      <td>-1.211166</td>\n",
              "      <td>14.564856</td>\n",
              "      <td>0.048439</td>\n",
              "      <td>-1.412</td>\n",
              "      <td>-2.117249</td>\n",
              "      <td>0.000943</td>\n",
              "      <td>0.263965</td>\n",
              "      <td>-2.057704</td>\n",
              "    </tr>\n",
              "  </tbody>\n",
              "</table>\n",
              "</div>"
            ],
            "text/plain": [
              "   id     molecule_name  ...  mulliken_atom_0  mulliken_atom_1\n",
              "0   0  dsgdb9nsd_000001  ...         0.263942        -2.057704\n",
              "1   1  dsgdb9nsd_000001  ...         0.263942         0.729230\n",
              "2   2  dsgdb9nsd_000001  ...         0.263942         0.729234\n",
              "3   3  dsgdb9nsd_000001  ...         0.263942         0.729234\n",
              "4   4  dsgdb9nsd_000001  ...         0.263965        -2.057704\n",
              "\n",
              "[5 rows x 48 columns]"
            ]
          },
          "metadata": {
            "tags": []
          },
          "execution_count": 2
        }
      ]
    },
    {
      "cell_type": "code",
      "metadata": {
        "id": "5o6ysyiF_rHL",
        "colab_type": "code",
        "outputId": "83cc063c-5450-4976-835e-f51e042b46c7",
        "colab": {
          "base_uri": "https://localhost:8080/",
          "height": 34
        }
      },
      "source": [
        "train.shape"
      ],
      "execution_count": 0,
      "outputs": [
        {
          "output_type": "execute_result",
          "data": {
            "text/plain": [
              "(4658147, 48)"
            ]
          },
          "metadata": {
            "tags": []
          },
          "execution_count": 3
        }
      ]
    },
    {
      "cell_type": "code",
      "metadata": {
        "id": "Gyb8B2Y6_rHR",
        "colab_type": "code",
        "outputId": "baf582e7-8b09-4397-daea-b5a51682cf30",
        "colab": {
          "base_uri": "https://localhost:8080/",
          "height": 224
        }
      },
      "source": [
        "test=pd.read_csv('/content/drive/My Drive/Non-Project/Data/test_feat_eng_v2_orig_my_ext_std.csv')\n",
        "test.head()"
      ],
      "execution_count": 0,
      "outputs": [
        {
          "output_type": "execute_result",
          "data": {
            "text/html": [
              "<div>\n",
              "<style scoped>\n",
              "    .dataframe tbody tr th:only-of-type {\n",
              "        vertical-align: middle;\n",
              "    }\n",
              "\n",
              "    .dataframe tbody tr th {\n",
              "        vertical-align: top;\n",
              "    }\n",
              "\n",
              "    .dataframe thead th {\n",
              "        text-align: right;\n",
              "    }\n",
              "</style>\n",
              "<table border=\"1\" class=\"dataframe\">\n",
              "  <thead>\n",
              "    <tr style=\"text-align: right;\">\n",
              "      <th></th>\n",
              "      <th>id</th>\n",
              "      <th>molecule_name</th>\n",
              "      <th>atom_index_0</th>\n",
              "      <th>atom_index_1</th>\n",
              "      <th>atom_0</th>\n",
              "      <th>x_0</th>\n",
              "      <th>y_0</th>\n",
              "      <th>z_0</th>\n",
              "      <th>atom_1</th>\n",
              "      <th>x_1</th>\n",
              "      <th>y_1</th>\n",
              "      <th>z_1</th>\n",
              "      <th>mulliken_charge_0</th>\n",
              "      <th>mulliken_charge_1</th>\n",
              "      <th>type</th>\n",
              "      <th>distance</th>\n",
              "      <th>type_enc</th>\n",
              "      <th>atom_1_enc</th>\n",
              "      <th>atom_0_enc</th>\n",
              "      <th>pairs</th>\n",
              "      <th>pairs_enc</th>\n",
              "      <th>bond</th>\n",
              "      <th>bond_int</th>\n",
              "      <th>rc_A</th>\n",
              "      <th>rc_B</th>\n",
              "      <th>rc_C</th>\n",
              "      <th>mu</th>\n",
              "      <th>alpha</th>\n",
              "      <th>homo</th>\n",
              "      <th>lumo</th>\n",
              "      <th>gap</th>\n",
              "      <th>r2</th>\n",
              "      <th>zpve</th>\n",
              "      <th>U0</th>\n",
              "      <th>U</th>\n",
              "      <th>H</th>\n",
              "      <th>G</th>\n",
              "      <th>Cv</th>\n",
              "      <th>freqs_min</th>\n",
              "      <th>freqs_max</th>\n",
              "      <th>freqs_mean</th>\n",
              "      <th>linear</th>\n",
              "      <th>mulliken_min</th>\n",
              "      <th>mulliken_max</th>\n",
              "      <th>mulliken_mean</th>\n",
              "      <th>mulliken_atom_0</th>\n",
              "      <th>mulliken_atom_1</th>\n",
              "    </tr>\n",
              "  </thead>\n",
              "  <tbody>\n",
              "    <tr>\n",
              "      <th>0</th>\n",
              "      <td>4658147</td>\n",
              "      <td>dsgdb9nsd_000004</td>\n",
              "      <td>2</td>\n",
              "      <td>0</td>\n",
              "      <td>H</td>\n",
              "      <td>-1.004343</td>\n",
              "      <td>0.10386</td>\n",
              "      <td>0.609053</td>\n",
              "      <td>C</td>\n",
              "      <td>0.339301</td>\n",
              "      <td>0.223874</td>\n",
              "      <td>0.734382</td>\n",
              "      <td>-7.526702e-13</td>\n",
              "      <td>-0.098154</td>\n",
              "      <td>2JHC</td>\n",
              "      <td>-0.135391</td>\n",
              "      <td>2</td>\n",
              "      <td>0</td>\n",
              "      <td>1</td>\n",
              "      <td>c_h</td>\n",
              "      <td>2</td>\n",
              "      <td>0.413226</td>\n",
              "      <td>0</td>\n",
              "      <td>-0.005852</td>\n",
              "      <td>53.781574</td>\n",
              "      <td>72.108874</td>\n",
              "      <td>-1.695411</td>\n",
              "      <td>-8.00613</td>\n",
              "      <td>-2.23906</td>\n",
              "      <td>0.620926</td>\n",
              "      <td>1.55828</td>\n",
              "      <td>-4.019122</td>\n",
              "      <td>-4.281468</td>\n",
              "      <td>8.79113</td>\n",
              "      <td>8.79103</td>\n",
              "      <td>8.79103</td>\n",
              "      <td>8.791399</td>\n",
              "      <td>-5.962155</td>\n",
              "      <td>9.328732</td>\n",
              "      <td>0.269821</td>\n",
              "      <td>5.586155</td>\n",
              "      <td>-20.644519</td>\n",
              "      <td>3.192231</td>\n",
              "      <td>-1.326326</td>\n",
              "      <td>0.000943</td>\n",
              "      <td>1.897446</td>\n",
              "      <td>-0.689773</td>\n",
              "    </tr>\n",
              "    <tr>\n",
              "      <th>1</th>\n",
              "      <td>4658148</td>\n",
              "      <td>dsgdb9nsd_000004</td>\n",
              "      <td>2</td>\n",
              "      <td>1</td>\n",
              "      <td>H</td>\n",
              "      <td>-1.004343</td>\n",
              "      <td>0.10386</td>\n",
              "      <td>0.609053</td>\n",
              "      <td>C</td>\n",
              "      <td>-0.471207</td>\n",
              "      <td>0.223874</td>\n",
              "      <td>0.734382</td>\n",
              "      <td>-7.526702e-13</td>\n",
              "      <td>-0.098154</td>\n",
              "      <td>1JHC</td>\n",
              "      <td>-1.763005</td>\n",
              "      <td>0</td>\n",
              "      <td>0</td>\n",
              "      <td>1</td>\n",
              "      <td>c_h</td>\n",
              "      <td>2</td>\n",
              "      <td>0.917924</td>\n",
              "      <td>1</td>\n",
              "      <td>-0.005852</td>\n",
              "      <td>53.781574</td>\n",
              "      <td>72.108874</td>\n",
              "      <td>-1.695411</td>\n",
              "      <td>-8.00613</td>\n",
              "      <td>-2.23906</td>\n",
              "      <td>0.620926</td>\n",
              "      <td>1.55828</td>\n",
              "      <td>-4.019122</td>\n",
              "      <td>-4.281468</td>\n",
              "      <td>8.79113</td>\n",
              "      <td>8.79103</td>\n",
              "      <td>8.79103</td>\n",
              "      <td>8.791399</td>\n",
              "      <td>-5.962155</td>\n",
              "      <td>9.328732</td>\n",
              "      <td>0.269821</td>\n",
              "      <td>5.586155</td>\n",
              "      <td>-20.644519</td>\n",
              "      <td>3.192231</td>\n",
              "      <td>-1.326326</td>\n",
              "      <td>0.000943</td>\n",
              "      <td>1.897446</td>\n",
              "      <td>-0.689773</td>\n",
              "    </tr>\n",
              "    <tr>\n",
              "      <th>2</th>\n",
              "      <td>4658149</td>\n",
              "      <td>dsgdb9nsd_000004</td>\n",
              "      <td>2</td>\n",
              "      <td>3</td>\n",
              "      <td>H</td>\n",
              "      <td>-1.004343</td>\n",
              "      <td>0.10386</td>\n",
              "      <td>0.609053</td>\n",
              "      <td>H</td>\n",
              "      <td>1.057219</td>\n",
              "      <td>0.223874</td>\n",
              "      <td>0.734382</td>\n",
              "      <td>-7.526702e-13</td>\n",
              "      <td>0.663743</td>\n",
              "      <td>3JHH</td>\n",
              "      <td>1.306289</td>\n",
              "      <td>6</td>\n",
              "      <td>1</td>\n",
              "      <td>1</td>\n",
              "      <td>h_h</td>\n",
              "      <td>11</td>\n",
              "      <td>0.173375</td>\n",
              "      <td>0</td>\n",
              "      <td>-0.005852</td>\n",
              "      <td>53.781574</td>\n",
              "      <td>72.108874</td>\n",
              "      <td>-1.695411</td>\n",
              "      <td>-8.00613</td>\n",
              "      <td>-2.23906</td>\n",
              "      <td>0.620926</td>\n",
              "      <td>1.55828</td>\n",
              "      <td>-4.019122</td>\n",
              "      <td>-4.281468</td>\n",
              "      <td>8.79113</td>\n",
              "      <td>8.79103</td>\n",
              "      <td>8.79103</td>\n",
              "      <td>8.791399</td>\n",
              "      <td>-5.962155</td>\n",
              "      <td>9.328732</td>\n",
              "      <td>0.269821</td>\n",
              "      <td>5.586155</td>\n",
              "      <td>-20.644519</td>\n",
              "      <td>3.192231</td>\n",
              "      <td>-1.326326</td>\n",
              "      <td>0.000943</td>\n",
              "      <td>1.897446</td>\n",
              "      <td>1.033461</td>\n",
              "    </tr>\n",
              "    <tr>\n",
              "      <th>3</th>\n",
              "      <td>4658150</td>\n",
              "      <td>dsgdb9nsd_000004</td>\n",
              "      <td>3</td>\n",
              "      <td>0</td>\n",
              "      <td>H</td>\n",
              "      <td>0.884018</td>\n",
              "      <td>0.10386</td>\n",
              "      <td>0.609053</td>\n",
              "      <td>C</td>\n",
              "      <td>0.339301</td>\n",
              "      <td>0.223874</td>\n",
              "      <td>0.734382</td>\n",
              "      <td>-7.526702e-13</td>\n",
              "      <td>-0.098154</td>\n",
              "      <td>1JHC</td>\n",
              "      <td>-1.763005</td>\n",
              "      <td>0</td>\n",
              "      <td>0</td>\n",
              "      <td>1</td>\n",
              "      <td>c_h</td>\n",
              "      <td>2</td>\n",
              "      <td>0.917924</td>\n",
              "      <td>1</td>\n",
              "      <td>-0.005852</td>\n",
              "      <td>53.781574</td>\n",
              "      <td>72.108874</td>\n",
              "      <td>-1.695411</td>\n",
              "      <td>-8.00613</td>\n",
              "      <td>-2.23906</td>\n",
              "      <td>0.620926</td>\n",
              "      <td>1.55828</td>\n",
              "      <td>-4.019122</td>\n",
              "      <td>-4.281468</td>\n",
              "      <td>8.79113</td>\n",
              "      <td>8.79103</td>\n",
              "      <td>8.79103</td>\n",
              "      <td>8.791399</td>\n",
              "      <td>-5.962155</td>\n",
              "      <td>9.328732</td>\n",
              "      <td>0.269821</td>\n",
              "      <td>5.586155</td>\n",
              "      <td>-20.644519</td>\n",
              "      <td>3.192231</td>\n",
              "      <td>-1.326326</td>\n",
              "      <td>0.000943</td>\n",
              "      <td>1.897446</td>\n",
              "      <td>-0.689773</td>\n",
              "    </tr>\n",
              "    <tr>\n",
              "      <th>4</th>\n",
              "      <td>4658151</td>\n",
              "      <td>dsgdb9nsd_000004</td>\n",
              "      <td>3</td>\n",
              "      <td>1</td>\n",
              "      <td>H</td>\n",
              "      <td>0.884018</td>\n",
              "      <td>0.10386</td>\n",
              "      <td>0.609053</td>\n",
              "      <td>C</td>\n",
              "      <td>-0.471207</td>\n",
              "      <td>0.223874</td>\n",
              "      <td>0.734382</td>\n",
              "      <td>-7.526702e-13</td>\n",
              "      <td>-0.098154</td>\n",
              "      <td>2JHC</td>\n",
              "      <td>-0.135391</td>\n",
              "      <td>2</td>\n",
              "      <td>0</td>\n",
              "      <td>1</td>\n",
              "      <td>c_h</td>\n",
              "      <td>2</td>\n",
              "      <td>0.413226</td>\n",
              "      <td>0</td>\n",
              "      <td>-0.005852</td>\n",
              "      <td>53.781574</td>\n",
              "      <td>72.108874</td>\n",
              "      <td>-1.695411</td>\n",
              "      <td>-8.00613</td>\n",
              "      <td>-2.23906</td>\n",
              "      <td>0.620926</td>\n",
              "      <td>1.55828</td>\n",
              "      <td>-4.019122</td>\n",
              "      <td>-4.281468</td>\n",
              "      <td>8.79113</td>\n",
              "      <td>8.79103</td>\n",
              "      <td>8.79103</td>\n",
              "      <td>8.791399</td>\n",
              "      <td>-5.962155</td>\n",
              "      <td>9.328732</td>\n",
              "      <td>0.269821</td>\n",
              "      <td>5.586155</td>\n",
              "      <td>-20.644519</td>\n",
              "      <td>3.192231</td>\n",
              "      <td>-1.326326</td>\n",
              "      <td>0.000943</td>\n",
              "      <td>1.897446</td>\n",
              "      <td>-0.689773</td>\n",
              "    </tr>\n",
              "  </tbody>\n",
              "</table>\n",
              "</div>"
            ],
            "text/plain": [
              "        id     molecule_name  ...  mulliken_atom_0  mulliken_atom_1\n",
              "0  4658147  dsgdb9nsd_000004  ...         1.897446        -0.689773\n",
              "1  4658148  dsgdb9nsd_000004  ...         1.897446        -0.689773\n",
              "2  4658149  dsgdb9nsd_000004  ...         1.897446         1.033461\n",
              "3  4658150  dsgdb9nsd_000004  ...         1.897446        -0.689773\n",
              "4  4658151  dsgdb9nsd_000004  ...         1.897446        -0.689773\n",
              "\n",
              "[5 rows x 47 columns]"
            ]
          },
          "metadata": {
            "tags": []
          },
          "execution_count": 4
        }
      ]
    },
    {
      "cell_type": "code",
      "metadata": {
        "id": "Qpmn8Mae8aza",
        "colab_type": "code",
        "outputId": "f50110c9-5e78-494b-eb2b-ee492471100c",
        "colab": {
          "base_uri": "https://localhost:8080/",
          "height": 34
        }
      },
      "source": [
        "test.shape"
      ],
      "execution_count": 0,
      "outputs": [
        {
          "output_type": "execute_result",
          "data": {
            "text/plain": [
              "(2505542, 47)"
            ]
          },
          "metadata": {
            "tags": []
          },
          "execution_count": 5
        }
      ]
    },
    {
      "cell_type": "markdown",
      "metadata": {
        "id": "VmqnZokF7_nt",
        "colab_type": "text"
      },
      "source": [
        "# Memeory Optimization (Downcast)"
      ]
    },
    {
      "cell_type": "code",
      "metadata": {
        "id": "9c4F88d379fR",
        "colab_type": "code",
        "colab": {}
      },
      "source": [
        "def downcast(df):\n",
        "  for col in df.columns:\n",
        "    if df[col].dtype=='float64':\n",
        "      df[col]=df[col].astype(np.float16)\n",
        "    elif df[col].dtype=='int64':\n",
        "      df[col]=df[col].astype(np.int16)\n",
        "\n",
        "downcast(train)\n",
        "downcast(test)"
      ],
      "execution_count": 0,
      "outputs": []
    },
    {
      "cell_type": "code",
      "metadata": {
        "id": "mWTYVons8mHz",
        "colab_type": "code",
        "outputId": "7da95807-b272-42db-e393-52b628683d98",
        "colab": {
          "base_uri": "https://localhost:8080/",
          "height": 850
        }
      },
      "source": [
        "train.dtypes"
      ],
      "execution_count": 0,
      "outputs": [
        {
          "output_type": "execute_result",
          "data": {
            "text/plain": [
              "id                            int16\n",
              "molecule_name                object\n",
              "atom_index_0                  int16\n",
              "atom_index_1                  int16\n",
              "atom_0                       object\n",
              "x_0                         float16\n",
              "y_0                         float16\n",
              "z_0                         float16\n",
              "atom_1                       object\n",
              "x_1                         float16\n",
              "y_1                         float16\n",
              "z_1                         float16\n",
              "mulliken_charge_0           float16\n",
              "mulliken_charge_1           float16\n",
              "type                         object\n",
              "scalar_coupling_constant    float16\n",
              "distance                    float16\n",
              "type_enc                      int16\n",
              "atom_1_enc                    int16\n",
              "atom_0_enc                    int16\n",
              "pairs                        object\n",
              "pairs_enc                     int16\n",
              "bond                        float16\n",
              "bond_int                      int16\n",
              "rc_A                        float16\n",
              "rc_B                        float16\n",
              "rc_C                        float16\n",
              "mu                          float16\n",
              "alpha                       float16\n",
              "homo                        float16\n",
              "lumo                        float16\n",
              "gap                         float16\n",
              "r2                          float16\n",
              "zpve                        float16\n",
              "U0                          float16\n",
              "U                           float16\n",
              "H                           float16\n",
              "G                           float16\n",
              "Cv                          float16\n",
              "freqs_min                   float16\n",
              "freqs_max                   float16\n",
              "freqs_mean                  float16\n",
              "linear                      float16\n",
              "mulliken_min                float16\n",
              "mulliken_max                float16\n",
              "mulliken_mean               float16\n",
              "mulliken_atom_0             float16\n",
              "mulliken_atom_1             float16\n",
              "dtype: object"
            ]
          },
          "metadata": {
            "tags": []
          },
          "execution_count": 7
        }
      ]
    },
    {
      "cell_type": "code",
      "metadata": {
        "id": "J7EO_qhr8o3A",
        "colab_type": "code",
        "outputId": "f2b8f7f4-bc11-47ab-cfce-cd708ee48ef6",
        "colab": {
          "base_uri": "https://localhost:8080/",
          "height": 833
        }
      },
      "source": [
        "test.dtypes"
      ],
      "execution_count": 0,
      "outputs": [
        {
          "output_type": "execute_result",
          "data": {
            "text/plain": [
              "id                     int16\n",
              "molecule_name         object\n",
              "atom_index_0           int16\n",
              "atom_index_1           int16\n",
              "atom_0                object\n",
              "x_0                  float16\n",
              "y_0                  float16\n",
              "z_0                  float16\n",
              "atom_1                object\n",
              "x_1                  float16\n",
              "y_1                  float16\n",
              "z_1                  float16\n",
              "mulliken_charge_0    float16\n",
              "mulliken_charge_1    float16\n",
              "type                  object\n",
              "distance             float16\n",
              "type_enc               int16\n",
              "atom_1_enc             int16\n",
              "atom_0_enc             int16\n",
              "pairs                 object\n",
              "pairs_enc              int16\n",
              "bond                 float16\n",
              "bond_int               int16\n",
              "rc_A                 float16\n",
              "rc_B                 float16\n",
              "rc_C                 float16\n",
              "mu                   float16\n",
              "alpha                float16\n",
              "homo                 float16\n",
              "lumo                 float16\n",
              "gap                  float16\n",
              "r2                   float16\n",
              "zpve                 float16\n",
              "U0                   float16\n",
              "U                    float16\n",
              "H                    float16\n",
              "G                    float16\n",
              "Cv                   float16\n",
              "freqs_min            float16\n",
              "freqs_max            float16\n",
              "freqs_mean           float16\n",
              "linear               float16\n",
              "mulliken_min         float16\n",
              "mulliken_max         float16\n",
              "mulliken_mean        float16\n",
              "mulliken_atom_0      float16\n",
              "mulliken_atom_1      float16\n",
              "dtype: object"
            ]
          },
          "metadata": {
            "tags": []
          },
          "execution_count": 8
        }
      ]
    },
    {
      "cell_type": "code",
      "metadata": {
        "id": "5DB7kZvL9dVl",
        "colab_type": "code",
        "outputId": "132b8ecc-b02c-479c-a507-65109466473f",
        "colab": {
          "base_uri": "https://localhost:8080/",
          "height": 34
        }
      },
      "source": [
        "import gc\n",
        "gc.collect()"
      ],
      "execution_count": 0,
      "outputs": [
        {
          "output_type": "execute_result",
          "data": {
            "text/plain": [
              "26"
            ]
          },
          "metadata": {
            "tags": []
          },
          "execution_count": 9
        }
      ]
    },
    {
      "cell_type": "markdown",
      "metadata": {
        "id": "AEZkRqd1Y4-F",
        "colab_type": "text"
      },
      "source": [
        "# Drop Columns"
      ]
    },
    {
      "cell_type": "code",
      "metadata": {
        "id": "qbPmcu3x6Ojk",
        "colab_type": "code",
        "outputId": "015ebe88-46cb-4685-f197-257c6d21ef1e",
        "colab": {
          "base_uri": "https://localhost:8080/",
          "height": 170
        }
      },
      "source": [
        "train.columns"
      ],
      "execution_count": 0,
      "outputs": [
        {
          "output_type": "execute_result",
          "data": {
            "text/plain": [
              "Index(['id', 'molecule_name', 'atom_index_0', 'atom_index_1', 'atom_0', 'x_0',\n",
              "       'y_0', 'z_0', 'atom_1', 'x_1', 'y_1', 'z_1', 'mulliken_charge_0',\n",
              "       'mulliken_charge_1', 'type', 'scalar_coupling_constant', 'distance',\n",
              "       'type_enc', 'atom_1_enc', 'atom_0_enc', 'pairs', 'pairs_enc', 'bond',\n",
              "       'bond_int', 'rc_A', 'rc_B', 'rc_C', 'mu', 'alpha', 'homo', 'lumo',\n",
              "       'gap', 'r2', 'zpve', 'U0', 'U', 'H', 'G', 'Cv', 'freqs_min',\n",
              "       'freqs_max', 'freqs_mean', 'linear', 'mulliken_min', 'mulliken_max',\n",
              "       'mulliken_mean', 'mulliken_atom_0', 'mulliken_atom_1'],\n",
              "      dtype='object')"
            ]
          },
          "metadata": {
            "tags": []
          },
          "execution_count": 10
        }
      ]
    },
    {
      "cell_type": "code",
      "metadata": {
        "id": "h1OnN58FZMtk",
        "colab_type": "code",
        "colab": {}
      },
      "source": [
        "drop_cols=['id', 'molecule_name','atom_0','atom_1','type', 'pairs','bond','mulliken_charge_0','mulliken_charge_1']"
      ],
      "execution_count": 0,
      "outputs": []
    },
    {
      "cell_type": "code",
      "metadata": {
        "id": "KhsiUFhelOx3",
        "colab_type": "code",
        "outputId": "9399b5c2-7f48-43ac-f83b-375b58208d8a",
        "colab": {
          "base_uri": "https://localhost:8080/",
          "height": 224
        }
      },
      "source": [
        "train.drop(drop_cols,axis=1,inplace=True)\n",
        "train.head()"
      ],
      "execution_count": 0,
      "outputs": [
        {
          "output_type": "execute_result",
          "data": {
            "text/html": [
              "<div>\n",
              "<style scoped>\n",
              "    .dataframe tbody tr th:only-of-type {\n",
              "        vertical-align: middle;\n",
              "    }\n",
              "\n",
              "    .dataframe tbody tr th {\n",
              "        vertical-align: top;\n",
              "    }\n",
              "\n",
              "    .dataframe thead th {\n",
              "        text-align: right;\n",
              "    }\n",
              "</style>\n",
              "<table border=\"1\" class=\"dataframe\">\n",
              "  <thead>\n",
              "    <tr style=\"text-align: right;\">\n",
              "      <th></th>\n",
              "      <th>atom_index_0</th>\n",
              "      <th>atom_index_1</th>\n",
              "      <th>x_0</th>\n",
              "      <th>y_0</th>\n",
              "      <th>z_0</th>\n",
              "      <th>x_1</th>\n",
              "      <th>y_1</th>\n",
              "      <th>z_1</th>\n",
              "      <th>scalar_coupling_constant</th>\n",
              "      <th>distance</th>\n",
              "      <th>type_enc</th>\n",
              "      <th>atom_1_enc</th>\n",
              "      <th>atom_0_enc</th>\n",
              "      <th>pairs_enc</th>\n",
              "      <th>bond_int</th>\n",
              "      <th>rc_A</th>\n",
              "      <th>rc_B</th>\n",
              "      <th>rc_C</th>\n",
              "      <th>mu</th>\n",
              "      <th>alpha</th>\n",
              "      <th>homo</th>\n",
              "      <th>lumo</th>\n",
              "      <th>gap</th>\n",
              "      <th>r2</th>\n",
              "      <th>zpve</th>\n",
              "      <th>U0</th>\n",
              "      <th>U</th>\n",
              "      <th>H</th>\n",
              "      <th>G</th>\n",
              "      <th>Cv</th>\n",
              "      <th>freqs_min</th>\n",
              "      <th>freqs_max</th>\n",
              "      <th>freqs_mean</th>\n",
              "      <th>linear</th>\n",
              "      <th>mulliken_min</th>\n",
              "      <th>mulliken_max</th>\n",
              "      <th>mulliken_mean</th>\n",
              "      <th>mulliken_atom_0</th>\n",
              "      <th>mulliken_atom_1</th>\n",
              "    </tr>\n",
              "  </thead>\n",
              "  <tbody>\n",
              "    <tr>\n",
              "      <th>0</th>\n",
              "      <td>1</td>\n",
              "      <td>0</td>\n",
              "      <td>-0.058929</td>\n",
              "      <td>0.101013</td>\n",
              "      <td>-0.028854</td>\n",
              "      <td>-0.074524</td>\n",
              "      <td>0.838379</td>\n",
              "      <td>-0.055481</td>\n",
              "      <td>84.812500</td>\n",
              "      <td>-1.722656</td>\n",
              "      <td>0</td>\n",
              "      <td>0</td>\n",
              "      <td>1</td>\n",
              "      <td>2</td>\n",
              "      <td>1</td>\n",
              "      <td>0.203979</td>\n",
              "      <td>245.625</td>\n",
              "      <td>327.5</td>\n",
              "      <td>-1.695312</td>\n",
              "      <td>-8.40625</td>\n",
              "      <td>-7.351562</td>\n",
              "      <td>2.111328</td>\n",
              "      <td>5.1875</td>\n",
              "      <td>-4.101562</td>\n",
              "      <td>-3.708984</td>\n",
              "      <td>9.78125</td>\n",
              "      <td>9.78125</td>\n",
              "      <td>9.78125</td>\n",
              "      <td>9.78125</td>\n",
              "      <td>-6.488281</td>\n",
              "      <td>25.1875</td>\n",
              "      <td>-1.210938</td>\n",
              "      <td>14.5625</td>\n",
              "      <td>0.048431</td>\n",
              "      <td>-1.412109</td>\n",
              "      <td>-2.117188</td>\n",
              "      <td>0.000943</td>\n",
              "      <td>0.263916</td>\n",
              "      <td>-2.058594</td>\n",
              "    </tr>\n",
              "    <tr>\n",
              "      <th>1</th>\n",
              "      <td>1</td>\n",
              "      <td>2</td>\n",
              "      <td>-0.058929</td>\n",
              "      <td>0.101013</td>\n",
              "      <td>-0.028854</td>\n",
              "      <td>0.617676</td>\n",
              "      <td>1.051758</td>\n",
              "      <td>-0.061646</td>\n",
              "      <td>-11.257812</td>\n",
              "      <td>-0.784180</td>\n",
              "      <td>3</td>\n",
              "      <td>1</td>\n",
              "      <td>1</td>\n",
              "      <td>11</td>\n",
              "      <td>1</td>\n",
              "      <td>0.203979</td>\n",
              "      <td>245.625</td>\n",
              "      <td>327.5</td>\n",
              "      <td>-1.695312</td>\n",
              "      <td>-8.40625</td>\n",
              "      <td>-7.351562</td>\n",
              "      <td>2.111328</td>\n",
              "      <td>5.1875</td>\n",
              "      <td>-4.101562</td>\n",
              "      <td>-3.708984</td>\n",
              "      <td>9.78125</td>\n",
              "      <td>9.78125</td>\n",
              "      <td>9.78125</td>\n",
              "      <td>9.78125</td>\n",
              "      <td>-6.488281</td>\n",
              "      <td>25.1875</td>\n",
              "      <td>-1.210938</td>\n",
              "      <td>14.5625</td>\n",
              "      <td>0.048431</td>\n",
              "      <td>-1.412109</td>\n",
              "      <td>-2.117188</td>\n",
              "      <td>0.000943</td>\n",
              "      <td>0.263916</td>\n",
              "      <td>0.729004</td>\n",
              "    </tr>\n",
              "    <tr>\n",
              "      <th>2</th>\n",
              "      <td>1</td>\n",
              "      <td>3</td>\n",
              "      <td>-0.058929</td>\n",
              "      <td>0.101013</td>\n",
              "      <td>-0.028854</td>\n",
              "      <td>-0.431396</td>\n",
              "      <td>1.042969</td>\n",
              "      <td>-0.759766</td>\n",
              "      <td>-11.257812</td>\n",
              "      <td>-0.784180</td>\n",
              "      <td>3</td>\n",
              "      <td>1</td>\n",
              "      <td>1</td>\n",
              "      <td>11</td>\n",
              "      <td>1</td>\n",
              "      <td>0.203979</td>\n",
              "      <td>245.625</td>\n",
              "      <td>327.5</td>\n",
              "      <td>-1.695312</td>\n",
              "      <td>-8.40625</td>\n",
              "      <td>-7.351562</td>\n",
              "      <td>2.111328</td>\n",
              "      <td>5.1875</td>\n",
              "      <td>-4.101562</td>\n",
              "      <td>-3.708984</td>\n",
              "      <td>9.78125</td>\n",
              "      <td>9.78125</td>\n",
              "      <td>9.78125</td>\n",
              "      <td>9.78125</td>\n",
              "      <td>-6.488281</td>\n",
              "      <td>25.1875</td>\n",
              "      <td>-1.210938</td>\n",
              "      <td>14.5625</td>\n",
              "      <td>0.048431</td>\n",
              "      <td>-1.412109</td>\n",
              "      <td>-2.117188</td>\n",
              "      <td>0.000943</td>\n",
              "      <td>0.263916</td>\n",
              "      <td>0.729004</td>\n",
              "    </tr>\n",
              "    <tr>\n",
              "      <th>3</th>\n",
              "      <td>1</td>\n",
              "      <td>4</td>\n",
              "      <td>-0.058929</td>\n",
              "      <td>0.101013</td>\n",
              "      <td>-0.028854</td>\n",
              "      <td>-0.419922</td>\n",
              "      <td>1.037109</td>\n",
              "      <td>0.659668</td>\n",
              "      <td>-11.257812</td>\n",
              "      <td>-0.784180</td>\n",
              "      <td>3</td>\n",
              "      <td>1</td>\n",
              "      <td>1</td>\n",
              "      <td>11</td>\n",
              "      <td>1</td>\n",
              "      <td>0.203979</td>\n",
              "      <td>245.625</td>\n",
              "      <td>327.5</td>\n",
              "      <td>-1.695312</td>\n",
              "      <td>-8.40625</td>\n",
              "      <td>-7.351562</td>\n",
              "      <td>2.111328</td>\n",
              "      <td>5.1875</td>\n",
              "      <td>-4.101562</td>\n",
              "      <td>-3.708984</td>\n",
              "      <td>9.78125</td>\n",
              "      <td>9.78125</td>\n",
              "      <td>9.78125</td>\n",
              "      <td>9.78125</td>\n",
              "      <td>-6.488281</td>\n",
              "      <td>25.1875</td>\n",
              "      <td>-1.210938</td>\n",
              "      <td>14.5625</td>\n",
              "      <td>0.048431</td>\n",
              "      <td>-1.412109</td>\n",
              "      <td>-2.117188</td>\n",
              "      <td>0.000943</td>\n",
              "      <td>0.263916</td>\n",
              "      <td>0.729004</td>\n",
              "    </tr>\n",
              "    <tr>\n",
              "      <th>4</th>\n",
              "      <td>2</td>\n",
              "      <td>0</td>\n",
              "      <td>0.514648</td>\n",
              "      <td>0.793945</td>\n",
              "      <td>-0.029953</td>\n",
              "      <td>-0.074524</td>\n",
              "      <td>0.838379</td>\n",
              "      <td>-0.055481</td>\n",
              "      <td>84.812500</td>\n",
              "      <td>-1.722656</td>\n",
              "      <td>0</td>\n",
              "      <td>0</td>\n",
              "      <td>1</td>\n",
              "      <td>2</td>\n",
              "      <td>1</td>\n",
              "      <td>0.203979</td>\n",
              "      <td>245.625</td>\n",
              "      <td>327.5</td>\n",
              "      <td>-1.695312</td>\n",
              "      <td>-8.40625</td>\n",
              "      <td>-7.351562</td>\n",
              "      <td>2.111328</td>\n",
              "      <td>5.1875</td>\n",
              "      <td>-4.101562</td>\n",
              "      <td>-3.708984</td>\n",
              "      <td>9.78125</td>\n",
              "      <td>9.78125</td>\n",
              "      <td>9.78125</td>\n",
              "      <td>9.78125</td>\n",
              "      <td>-6.488281</td>\n",
              "      <td>25.1875</td>\n",
              "      <td>-1.210938</td>\n",
              "      <td>14.5625</td>\n",
              "      <td>0.048431</td>\n",
              "      <td>-1.412109</td>\n",
              "      <td>-2.117188</td>\n",
              "      <td>0.000943</td>\n",
              "      <td>0.263916</td>\n",
              "      <td>-2.058594</td>\n",
              "    </tr>\n",
              "  </tbody>\n",
              "</table>\n",
              "</div>"
            ],
            "text/plain": [
              "   atom_index_0  atom_index_1  ...  mulliken_atom_0  mulliken_atom_1\n",
              "0             1             0  ...         0.263916        -2.058594\n",
              "1             1             2  ...         0.263916         0.729004\n",
              "2             1             3  ...         0.263916         0.729004\n",
              "3             1             4  ...         0.263916         0.729004\n",
              "4             2             0  ...         0.263916        -2.058594\n",
              "\n",
              "[5 rows x 39 columns]"
            ]
          },
          "metadata": {
            "tags": []
          },
          "execution_count": 12
        }
      ]
    },
    {
      "cell_type": "code",
      "metadata": {
        "id": "7i5W5r2__rHa",
        "colab_type": "code",
        "outputId": "b35ae82f-db88-4b0f-b741-fdec9495faf3",
        "colab": {
          "base_uri": "https://localhost:8080/",
          "height": 170
        }
      },
      "source": [
        "test.columns"
      ],
      "execution_count": 0,
      "outputs": [
        {
          "output_type": "execute_result",
          "data": {
            "text/plain": [
              "Index(['id', 'molecule_name', 'atom_index_0', 'atom_index_1', 'atom_0', 'x_0',\n",
              "       'y_0', 'z_0', 'atom_1', 'x_1', 'y_1', 'z_1', 'mulliken_charge_0',\n",
              "       'mulliken_charge_1', 'type', 'distance', 'type_enc', 'atom_1_enc',\n",
              "       'atom_0_enc', 'pairs', 'pairs_enc', 'bond', 'bond_int', 'rc_A', 'rc_B',\n",
              "       'rc_C', 'mu', 'alpha', 'homo', 'lumo', 'gap', 'r2', 'zpve', 'U0', 'U',\n",
              "       'H', 'G', 'Cv', 'freqs_min', 'freqs_max', 'freqs_mean', 'linear',\n",
              "       'mulliken_min', 'mulliken_max', 'mulliken_mean', 'mulliken_atom_0',\n",
              "       'mulliken_atom_1'],\n",
              "      dtype='object')"
            ]
          },
          "metadata": {
            "tags": []
          },
          "execution_count": 13
        }
      ]
    },
    {
      "cell_type": "code",
      "metadata": {
        "id": "v7vjC_oJ8_i_",
        "colab_type": "code",
        "outputId": "b5f5ba91-929f-4930-dc43-637b7e8873c6",
        "colab": {
          "base_uri": "https://localhost:8080/",
          "height": 224
        }
      },
      "source": [
        "test.drop(drop_cols,axis=1,inplace=True)\n",
        "test.head()"
      ],
      "execution_count": 0,
      "outputs": [
        {
          "output_type": "execute_result",
          "data": {
            "text/html": [
              "<div>\n",
              "<style scoped>\n",
              "    .dataframe tbody tr th:only-of-type {\n",
              "        vertical-align: middle;\n",
              "    }\n",
              "\n",
              "    .dataframe tbody tr th {\n",
              "        vertical-align: top;\n",
              "    }\n",
              "\n",
              "    .dataframe thead th {\n",
              "        text-align: right;\n",
              "    }\n",
              "</style>\n",
              "<table border=\"1\" class=\"dataframe\">\n",
              "  <thead>\n",
              "    <tr style=\"text-align: right;\">\n",
              "      <th></th>\n",
              "      <th>atom_index_0</th>\n",
              "      <th>atom_index_1</th>\n",
              "      <th>x_0</th>\n",
              "      <th>y_0</th>\n",
              "      <th>z_0</th>\n",
              "      <th>x_1</th>\n",
              "      <th>y_1</th>\n",
              "      <th>z_1</th>\n",
              "      <th>distance</th>\n",
              "      <th>type_enc</th>\n",
              "      <th>atom_1_enc</th>\n",
              "      <th>atom_0_enc</th>\n",
              "      <th>pairs_enc</th>\n",
              "      <th>bond_int</th>\n",
              "      <th>rc_A</th>\n",
              "      <th>rc_B</th>\n",
              "      <th>rc_C</th>\n",
              "      <th>mu</th>\n",
              "      <th>alpha</th>\n",
              "      <th>homo</th>\n",
              "      <th>lumo</th>\n",
              "      <th>gap</th>\n",
              "      <th>r2</th>\n",
              "      <th>zpve</th>\n",
              "      <th>U0</th>\n",
              "      <th>U</th>\n",
              "      <th>H</th>\n",
              "      <th>G</th>\n",
              "      <th>Cv</th>\n",
              "      <th>freqs_min</th>\n",
              "      <th>freqs_max</th>\n",
              "      <th>freqs_mean</th>\n",
              "      <th>linear</th>\n",
              "      <th>mulliken_min</th>\n",
              "      <th>mulliken_max</th>\n",
              "      <th>mulliken_mean</th>\n",
              "      <th>mulliken_atom_0</th>\n",
              "      <th>mulliken_atom_1</th>\n",
              "    </tr>\n",
              "  </thead>\n",
              "  <tbody>\n",
              "    <tr>\n",
              "      <th>0</th>\n",
              "      <td>2</td>\n",
              "      <td>0</td>\n",
              "      <td>-1.003906</td>\n",
              "      <td>0.103882</td>\n",
              "      <td>0.608887</td>\n",
              "      <td>0.339355</td>\n",
              "      <td>0.223877</td>\n",
              "      <td>0.734375</td>\n",
              "      <td>-0.135376</td>\n",
              "      <td>2</td>\n",
              "      <td>0</td>\n",
              "      <td>1</td>\n",
              "      <td>2</td>\n",
              "      <td>0</td>\n",
              "      <td>-0.005852</td>\n",
              "      <td>53.78125</td>\n",
              "      <td>72.125</td>\n",
              "      <td>-1.695312</td>\n",
              "      <td>-8.007812</td>\n",
              "      <td>-2.238281</td>\n",
              "      <td>0.621094</td>\n",
              "      <td>1.558594</td>\n",
              "      <td>-4.019531</td>\n",
              "      <td>-4.28125</td>\n",
              "      <td>8.789062</td>\n",
              "      <td>8.789062</td>\n",
              "      <td>8.789062</td>\n",
              "      <td>8.789062</td>\n",
              "      <td>-5.960938</td>\n",
              "      <td>9.328125</td>\n",
              "      <td>0.269775</td>\n",
              "      <td>5.585938</td>\n",
              "      <td>-20.640625</td>\n",
              "      <td>3.191406</td>\n",
              "      <td>-1.326172</td>\n",
              "      <td>0.000943</td>\n",
              "      <td>1.897461</td>\n",
              "      <td>-0.689941</td>\n",
              "    </tr>\n",
              "    <tr>\n",
              "      <th>1</th>\n",
              "      <td>2</td>\n",
              "      <td>1</td>\n",
              "      <td>-1.003906</td>\n",
              "      <td>0.103882</td>\n",
              "      <td>0.608887</td>\n",
              "      <td>-0.471191</td>\n",
              "      <td>0.223877</td>\n",
              "      <td>0.734375</td>\n",
              "      <td>-1.762695</td>\n",
              "      <td>0</td>\n",
              "      <td>0</td>\n",
              "      <td>1</td>\n",
              "      <td>2</td>\n",
              "      <td>1</td>\n",
              "      <td>-0.005852</td>\n",
              "      <td>53.78125</td>\n",
              "      <td>72.125</td>\n",
              "      <td>-1.695312</td>\n",
              "      <td>-8.007812</td>\n",
              "      <td>-2.238281</td>\n",
              "      <td>0.621094</td>\n",
              "      <td>1.558594</td>\n",
              "      <td>-4.019531</td>\n",
              "      <td>-4.28125</td>\n",
              "      <td>8.789062</td>\n",
              "      <td>8.789062</td>\n",
              "      <td>8.789062</td>\n",
              "      <td>8.789062</td>\n",
              "      <td>-5.960938</td>\n",
              "      <td>9.328125</td>\n",
              "      <td>0.269775</td>\n",
              "      <td>5.585938</td>\n",
              "      <td>-20.640625</td>\n",
              "      <td>3.191406</td>\n",
              "      <td>-1.326172</td>\n",
              "      <td>0.000943</td>\n",
              "      <td>1.897461</td>\n",
              "      <td>-0.689941</td>\n",
              "    </tr>\n",
              "    <tr>\n",
              "      <th>2</th>\n",
              "      <td>2</td>\n",
              "      <td>3</td>\n",
              "      <td>-1.003906</td>\n",
              "      <td>0.103882</td>\n",
              "      <td>0.608887</td>\n",
              "      <td>1.057617</td>\n",
              "      <td>0.223877</td>\n",
              "      <td>0.734375</td>\n",
              "      <td>1.306641</td>\n",
              "      <td>6</td>\n",
              "      <td>1</td>\n",
              "      <td>1</td>\n",
              "      <td>11</td>\n",
              "      <td>0</td>\n",
              "      <td>-0.005852</td>\n",
              "      <td>53.78125</td>\n",
              "      <td>72.125</td>\n",
              "      <td>-1.695312</td>\n",
              "      <td>-8.007812</td>\n",
              "      <td>-2.238281</td>\n",
              "      <td>0.621094</td>\n",
              "      <td>1.558594</td>\n",
              "      <td>-4.019531</td>\n",
              "      <td>-4.28125</td>\n",
              "      <td>8.789062</td>\n",
              "      <td>8.789062</td>\n",
              "      <td>8.789062</td>\n",
              "      <td>8.789062</td>\n",
              "      <td>-5.960938</td>\n",
              "      <td>9.328125</td>\n",
              "      <td>0.269775</td>\n",
              "      <td>5.585938</td>\n",
              "      <td>-20.640625</td>\n",
              "      <td>3.191406</td>\n",
              "      <td>-1.326172</td>\n",
              "      <td>0.000943</td>\n",
              "      <td>1.897461</td>\n",
              "      <td>1.033203</td>\n",
              "    </tr>\n",
              "    <tr>\n",
              "      <th>3</th>\n",
              "      <td>3</td>\n",
              "      <td>0</td>\n",
              "      <td>0.883789</td>\n",
              "      <td>0.103882</td>\n",
              "      <td>0.608887</td>\n",
              "      <td>0.339355</td>\n",
              "      <td>0.223877</td>\n",
              "      <td>0.734375</td>\n",
              "      <td>-1.762695</td>\n",
              "      <td>0</td>\n",
              "      <td>0</td>\n",
              "      <td>1</td>\n",
              "      <td>2</td>\n",
              "      <td>1</td>\n",
              "      <td>-0.005852</td>\n",
              "      <td>53.78125</td>\n",
              "      <td>72.125</td>\n",
              "      <td>-1.695312</td>\n",
              "      <td>-8.007812</td>\n",
              "      <td>-2.238281</td>\n",
              "      <td>0.621094</td>\n",
              "      <td>1.558594</td>\n",
              "      <td>-4.019531</td>\n",
              "      <td>-4.28125</td>\n",
              "      <td>8.789062</td>\n",
              "      <td>8.789062</td>\n",
              "      <td>8.789062</td>\n",
              "      <td>8.789062</td>\n",
              "      <td>-5.960938</td>\n",
              "      <td>9.328125</td>\n",
              "      <td>0.269775</td>\n",
              "      <td>5.585938</td>\n",
              "      <td>-20.640625</td>\n",
              "      <td>3.191406</td>\n",
              "      <td>-1.326172</td>\n",
              "      <td>0.000943</td>\n",
              "      <td>1.897461</td>\n",
              "      <td>-0.689941</td>\n",
              "    </tr>\n",
              "    <tr>\n",
              "      <th>4</th>\n",
              "      <td>3</td>\n",
              "      <td>1</td>\n",
              "      <td>0.883789</td>\n",
              "      <td>0.103882</td>\n",
              "      <td>0.608887</td>\n",
              "      <td>-0.471191</td>\n",
              "      <td>0.223877</td>\n",
              "      <td>0.734375</td>\n",
              "      <td>-0.135376</td>\n",
              "      <td>2</td>\n",
              "      <td>0</td>\n",
              "      <td>1</td>\n",
              "      <td>2</td>\n",
              "      <td>0</td>\n",
              "      <td>-0.005852</td>\n",
              "      <td>53.78125</td>\n",
              "      <td>72.125</td>\n",
              "      <td>-1.695312</td>\n",
              "      <td>-8.007812</td>\n",
              "      <td>-2.238281</td>\n",
              "      <td>0.621094</td>\n",
              "      <td>1.558594</td>\n",
              "      <td>-4.019531</td>\n",
              "      <td>-4.28125</td>\n",
              "      <td>8.789062</td>\n",
              "      <td>8.789062</td>\n",
              "      <td>8.789062</td>\n",
              "      <td>8.789062</td>\n",
              "      <td>-5.960938</td>\n",
              "      <td>9.328125</td>\n",
              "      <td>0.269775</td>\n",
              "      <td>5.585938</td>\n",
              "      <td>-20.640625</td>\n",
              "      <td>3.191406</td>\n",
              "      <td>-1.326172</td>\n",
              "      <td>0.000943</td>\n",
              "      <td>1.897461</td>\n",
              "      <td>-0.689941</td>\n",
              "    </tr>\n",
              "  </tbody>\n",
              "</table>\n",
              "</div>"
            ],
            "text/plain": [
              "   atom_index_0  atom_index_1  ...  mulliken_atom_0  mulliken_atom_1\n",
              "0             2             0  ...         1.897461        -0.689941\n",
              "1             2             1  ...         1.897461        -0.689941\n",
              "2             2             3  ...         1.897461         1.033203\n",
              "3             3             0  ...         1.897461        -0.689941\n",
              "4             3             1  ...         1.897461        -0.689941\n",
              "\n",
              "[5 rows x 38 columns]"
            ]
          },
          "metadata": {
            "tags": []
          },
          "execution_count": 14
        }
      ]
    },
    {
      "cell_type": "code",
      "metadata": {
        "id": "6Q5wC_DdlwjM",
        "colab_type": "code",
        "outputId": "1c943c42-eb65-4acf-dc32-db721c2a85a7",
        "colab": {
          "base_uri": "https://localhost:8080/",
          "height": 697
        }
      },
      "source": [
        "train.dtypes"
      ],
      "execution_count": 0,
      "outputs": [
        {
          "output_type": "execute_result",
          "data": {
            "text/plain": [
              "atom_index_0                  int16\n",
              "atom_index_1                  int16\n",
              "x_0                         float16\n",
              "y_0                         float16\n",
              "z_0                         float16\n",
              "x_1                         float16\n",
              "y_1                         float16\n",
              "z_1                         float16\n",
              "scalar_coupling_constant    float16\n",
              "distance                    float16\n",
              "type_enc                      int16\n",
              "atom_1_enc                    int16\n",
              "atom_0_enc                    int16\n",
              "pairs_enc                     int16\n",
              "bond_int                      int16\n",
              "rc_A                        float16\n",
              "rc_B                        float16\n",
              "rc_C                        float16\n",
              "mu                          float16\n",
              "alpha                       float16\n",
              "homo                        float16\n",
              "lumo                        float16\n",
              "gap                         float16\n",
              "r2                          float16\n",
              "zpve                        float16\n",
              "U0                          float16\n",
              "U                           float16\n",
              "H                           float16\n",
              "G                           float16\n",
              "Cv                          float16\n",
              "freqs_min                   float16\n",
              "freqs_max                   float16\n",
              "freqs_mean                  float16\n",
              "linear                      float16\n",
              "mulliken_min                float16\n",
              "mulliken_max                float16\n",
              "mulliken_mean               float16\n",
              "mulliken_atom_0             float16\n",
              "mulliken_atom_1             float16\n",
              "dtype: object"
            ]
          },
          "metadata": {
            "tags": []
          },
          "execution_count": 15
        }
      ]
    },
    {
      "cell_type": "code",
      "metadata": {
        "id": "FMR5iy77lyCc",
        "colab_type": "code",
        "outputId": "6aa8db32-903a-4431-9818-56de95b6f855",
        "colab": {
          "base_uri": "https://localhost:8080/",
          "height": 680
        }
      },
      "source": [
        "test.dtypes"
      ],
      "execution_count": 0,
      "outputs": [
        {
          "output_type": "execute_result",
          "data": {
            "text/plain": [
              "atom_index_0         int16\n",
              "atom_index_1         int16\n",
              "x_0                float16\n",
              "y_0                float16\n",
              "z_0                float16\n",
              "x_1                float16\n",
              "y_1                float16\n",
              "z_1                float16\n",
              "distance           float16\n",
              "type_enc             int16\n",
              "atom_1_enc           int16\n",
              "atom_0_enc           int16\n",
              "pairs_enc            int16\n",
              "bond_int             int16\n",
              "rc_A               float16\n",
              "rc_B               float16\n",
              "rc_C               float16\n",
              "mu                 float16\n",
              "alpha              float16\n",
              "homo               float16\n",
              "lumo               float16\n",
              "gap                float16\n",
              "r2                 float16\n",
              "zpve               float16\n",
              "U0                 float16\n",
              "U                  float16\n",
              "H                  float16\n",
              "G                  float16\n",
              "Cv                 float16\n",
              "freqs_min          float16\n",
              "freqs_max          float16\n",
              "freqs_mean         float16\n",
              "linear             float16\n",
              "mulliken_min       float16\n",
              "mulliken_max       float16\n",
              "mulliken_mean      float16\n",
              "mulliken_atom_0    float16\n",
              "mulliken_atom_1    float16\n",
              "dtype: object"
            ]
          },
          "metadata": {
            "tags": []
          },
          "execution_count": 16
        }
      ]
    },
    {
      "cell_type": "code",
      "metadata": {
        "id": "lt8wOjTkl5fR",
        "colab_type": "code",
        "outputId": "15b9be47-ac1e-4015-ad08-a1f481e75348",
        "colab": {
          "base_uri": "https://localhost:8080/",
          "height": 51
        }
      },
      "source": [
        "print(train.shape)\n",
        "print(test.shape)"
      ],
      "execution_count": 0,
      "outputs": [
        {
          "output_type": "stream",
          "text": [
            "(4658147, 39)\n",
            "(2505542, 38)\n"
          ],
          "name": "stdout"
        }
      ]
    },
    {
      "cell_type": "code",
      "metadata": {
        "id": "R7q9vFFv5va6",
        "colab_type": "code",
        "colab": {}
      },
      "source": [
        ""
      ],
      "execution_count": 0,
      "outputs": []
    },
    {
      "cell_type": "code",
      "metadata": {
        "id": "eOBmZL8X5vRu",
        "colab_type": "code",
        "colab": {}
      },
      "source": [
        ""
      ],
      "execution_count": 0,
      "outputs": []
    },
    {
      "cell_type": "markdown",
      "metadata": {
        "id": "nn54CC0B54v2",
        "colab_type": "text"
      },
      "source": [
        "# Creating training, validation and testing data"
      ]
    },
    {
      "cell_type": "code",
      "metadata": {
        "id": "1FxlHYha_rHn",
        "colab_type": "code",
        "outputId": "ae074f4a-de4e-4210-d013-c3e4d76b325f",
        "colab": {
          "base_uri": "https://localhost:8080/",
          "height": 224
        }
      },
      "source": [
        "x=train.drop('scalar_coupling_constant',axis=1)\n",
        "x.head()"
      ],
      "execution_count": 0,
      "outputs": [
        {
          "output_type": "execute_result",
          "data": {
            "text/html": [
              "<div>\n",
              "<style scoped>\n",
              "    .dataframe tbody tr th:only-of-type {\n",
              "        vertical-align: middle;\n",
              "    }\n",
              "\n",
              "    .dataframe tbody tr th {\n",
              "        vertical-align: top;\n",
              "    }\n",
              "\n",
              "    .dataframe thead th {\n",
              "        text-align: right;\n",
              "    }\n",
              "</style>\n",
              "<table border=\"1\" class=\"dataframe\">\n",
              "  <thead>\n",
              "    <tr style=\"text-align: right;\">\n",
              "      <th></th>\n",
              "      <th>atom_index_0</th>\n",
              "      <th>atom_index_1</th>\n",
              "      <th>x_0</th>\n",
              "      <th>y_0</th>\n",
              "      <th>z_0</th>\n",
              "      <th>x_1</th>\n",
              "      <th>y_1</th>\n",
              "      <th>z_1</th>\n",
              "      <th>distance</th>\n",
              "      <th>type_enc</th>\n",
              "      <th>atom_1_enc</th>\n",
              "      <th>atom_0_enc</th>\n",
              "      <th>pairs_enc</th>\n",
              "      <th>bond_int</th>\n",
              "      <th>rc_A</th>\n",
              "      <th>rc_B</th>\n",
              "      <th>rc_C</th>\n",
              "      <th>mu</th>\n",
              "      <th>alpha</th>\n",
              "      <th>homo</th>\n",
              "      <th>lumo</th>\n",
              "      <th>gap</th>\n",
              "      <th>r2</th>\n",
              "      <th>zpve</th>\n",
              "      <th>U0</th>\n",
              "      <th>U</th>\n",
              "      <th>H</th>\n",
              "      <th>G</th>\n",
              "      <th>Cv</th>\n",
              "      <th>freqs_min</th>\n",
              "      <th>freqs_max</th>\n",
              "      <th>freqs_mean</th>\n",
              "      <th>linear</th>\n",
              "      <th>mulliken_min</th>\n",
              "      <th>mulliken_max</th>\n",
              "      <th>mulliken_mean</th>\n",
              "      <th>mulliken_atom_0</th>\n",
              "      <th>mulliken_atom_1</th>\n",
              "    </tr>\n",
              "  </thead>\n",
              "  <tbody>\n",
              "    <tr>\n",
              "      <th>0</th>\n",
              "      <td>1</td>\n",
              "      <td>0</td>\n",
              "      <td>-0.058929</td>\n",
              "      <td>0.101013</td>\n",
              "      <td>-0.028854</td>\n",
              "      <td>-0.074524</td>\n",
              "      <td>0.838379</td>\n",
              "      <td>-0.055481</td>\n",
              "      <td>-1.722656</td>\n",
              "      <td>0</td>\n",
              "      <td>0</td>\n",
              "      <td>1</td>\n",
              "      <td>2</td>\n",
              "      <td>1</td>\n",
              "      <td>0.203979</td>\n",
              "      <td>245.625</td>\n",
              "      <td>327.5</td>\n",
              "      <td>-1.695312</td>\n",
              "      <td>-8.40625</td>\n",
              "      <td>-7.351562</td>\n",
              "      <td>2.111328</td>\n",
              "      <td>5.1875</td>\n",
              "      <td>-4.101562</td>\n",
              "      <td>-3.708984</td>\n",
              "      <td>9.78125</td>\n",
              "      <td>9.78125</td>\n",
              "      <td>9.78125</td>\n",
              "      <td>9.78125</td>\n",
              "      <td>-6.488281</td>\n",
              "      <td>25.1875</td>\n",
              "      <td>-1.210938</td>\n",
              "      <td>14.5625</td>\n",
              "      <td>0.048431</td>\n",
              "      <td>-1.412109</td>\n",
              "      <td>-2.117188</td>\n",
              "      <td>0.000943</td>\n",
              "      <td>0.263916</td>\n",
              "      <td>-2.058594</td>\n",
              "    </tr>\n",
              "    <tr>\n",
              "      <th>1</th>\n",
              "      <td>1</td>\n",
              "      <td>2</td>\n",
              "      <td>-0.058929</td>\n",
              "      <td>0.101013</td>\n",
              "      <td>-0.028854</td>\n",
              "      <td>0.617676</td>\n",
              "      <td>1.051758</td>\n",
              "      <td>-0.061646</td>\n",
              "      <td>-0.784180</td>\n",
              "      <td>3</td>\n",
              "      <td>1</td>\n",
              "      <td>1</td>\n",
              "      <td>11</td>\n",
              "      <td>1</td>\n",
              "      <td>0.203979</td>\n",
              "      <td>245.625</td>\n",
              "      <td>327.5</td>\n",
              "      <td>-1.695312</td>\n",
              "      <td>-8.40625</td>\n",
              "      <td>-7.351562</td>\n",
              "      <td>2.111328</td>\n",
              "      <td>5.1875</td>\n",
              "      <td>-4.101562</td>\n",
              "      <td>-3.708984</td>\n",
              "      <td>9.78125</td>\n",
              "      <td>9.78125</td>\n",
              "      <td>9.78125</td>\n",
              "      <td>9.78125</td>\n",
              "      <td>-6.488281</td>\n",
              "      <td>25.1875</td>\n",
              "      <td>-1.210938</td>\n",
              "      <td>14.5625</td>\n",
              "      <td>0.048431</td>\n",
              "      <td>-1.412109</td>\n",
              "      <td>-2.117188</td>\n",
              "      <td>0.000943</td>\n",
              "      <td>0.263916</td>\n",
              "      <td>0.729004</td>\n",
              "    </tr>\n",
              "    <tr>\n",
              "      <th>2</th>\n",
              "      <td>1</td>\n",
              "      <td>3</td>\n",
              "      <td>-0.058929</td>\n",
              "      <td>0.101013</td>\n",
              "      <td>-0.028854</td>\n",
              "      <td>-0.431396</td>\n",
              "      <td>1.042969</td>\n",
              "      <td>-0.759766</td>\n",
              "      <td>-0.784180</td>\n",
              "      <td>3</td>\n",
              "      <td>1</td>\n",
              "      <td>1</td>\n",
              "      <td>11</td>\n",
              "      <td>1</td>\n",
              "      <td>0.203979</td>\n",
              "      <td>245.625</td>\n",
              "      <td>327.5</td>\n",
              "      <td>-1.695312</td>\n",
              "      <td>-8.40625</td>\n",
              "      <td>-7.351562</td>\n",
              "      <td>2.111328</td>\n",
              "      <td>5.1875</td>\n",
              "      <td>-4.101562</td>\n",
              "      <td>-3.708984</td>\n",
              "      <td>9.78125</td>\n",
              "      <td>9.78125</td>\n",
              "      <td>9.78125</td>\n",
              "      <td>9.78125</td>\n",
              "      <td>-6.488281</td>\n",
              "      <td>25.1875</td>\n",
              "      <td>-1.210938</td>\n",
              "      <td>14.5625</td>\n",
              "      <td>0.048431</td>\n",
              "      <td>-1.412109</td>\n",
              "      <td>-2.117188</td>\n",
              "      <td>0.000943</td>\n",
              "      <td>0.263916</td>\n",
              "      <td>0.729004</td>\n",
              "    </tr>\n",
              "    <tr>\n",
              "      <th>3</th>\n",
              "      <td>1</td>\n",
              "      <td>4</td>\n",
              "      <td>-0.058929</td>\n",
              "      <td>0.101013</td>\n",
              "      <td>-0.028854</td>\n",
              "      <td>-0.419922</td>\n",
              "      <td>1.037109</td>\n",
              "      <td>0.659668</td>\n",
              "      <td>-0.784180</td>\n",
              "      <td>3</td>\n",
              "      <td>1</td>\n",
              "      <td>1</td>\n",
              "      <td>11</td>\n",
              "      <td>1</td>\n",
              "      <td>0.203979</td>\n",
              "      <td>245.625</td>\n",
              "      <td>327.5</td>\n",
              "      <td>-1.695312</td>\n",
              "      <td>-8.40625</td>\n",
              "      <td>-7.351562</td>\n",
              "      <td>2.111328</td>\n",
              "      <td>5.1875</td>\n",
              "      <td>-4.101562</td>\n",
              "      <td>-3.708984</td>\n",
              "      <td>9.78125</td>\n",
              "      <td>9.78125</td>\n",
              "      <td>9.78125</td>\n",
              "      <td>9.78125</td>\n",
              "      <td>-6.488281</td>\n",
              "      <td>25.1875</td>\n",
              "      <td>-1.210938</td>\n",
              "      <td>14.5625</td>\n",
              "      <td>0.048431</td>\n",
              "      <td>-1.412109</td>\n",
              "      <td>-2.117188</td>\n",
              "      <td>0.000943</td>\n",
              "      <td>0.263916</td>\n",
              "      <td>0.729004</td>\n",
              "    </tr>\n",
              "    <tr>\n",
              "      <th>4</th>\n",
              "      <td>2</td>\n",
              "      <td>0</td>\n",
              "      <td>0.514648</td>\n",
              "      <td>0.793945</td>\n",
              "      <td>-0.029953</td>\n",
              "      <td>-0.074524</td>\n",
              "      <td>0.838379</td>\n",
              "      <td>-0.055481</td>\n",
              "      <td>-1.722656</td>\n",
              "      <td>0</td>\n",
              "      <td>0</td>\n",
              "      <td>1</td>\n",
              "      <td>2</td>\n",
              "      <td>1</td>\n",
              "      <td>0.203979</td>\n",
              "      <td>245.625</td>\n",
              "      <td>327.5</td>\n",
              "      <td>-1.695312</td>\n",
              "      <td>-8.40625</td>\n",
              "      <td>-7.351562</td>\n",
              "      <td>2.111328</td>\n",
              "      <td>5.1875</td>\n",
              "      <td>-4.101562</td>\n",
              "      <td>-3.708984</td>\n",
              "      <td>9.78125</td>\n",
              "      <td>9.78125</td>\n",
              "      <td>9.78125</td>\n",
              "      <td>9.78125</td>\n",
              "      <td>-6.488281</td>\n",
              "      <td>25.1875</td>\n",
              "      <td>-1.210938</td>\n",
              "      <td>14.5625</td>\n",
              "      <td>0.048431</td>\n",
              "      <td>-1.412109</td>\n",
              "      <td>-2.117188</td>\n",
              "      <td>0.000943</td>\n",
              "      <td>0.263916</td>\n",
              "      <td>-2.058594</td>\n",
              "    </tr>\n",
              "  </tbody>\n",
              "</table>\n",
              "</div>"
            ],
            "text/plain": [
              "   atom_index_0  atom_index_1  ...  mulliken_atom_0  mulliken_atom_1\n",
              "0             1             0  ...         0.263916        -2.058594\n",
              "1             1             2  ...         0.263916         0.729004\n",
              "2             1             3  ...         0.263916         0.729004\n",
              "3             1             4  ...         0.263916         0.729004\n",
              "4             2             0  ...         0.263916        -2.058594\n",
              "\n",
              "[5 rows x 38 columns]"
            ]
          },
          "metadata": {
            "tags": []
          },
          "execution_count": 18
        }
      ]
    },
    {
      "cell_type": "code",
      "metadata": {
        "id": "69y8suV9_rHt",
        "colab_type": "code",
        "outputId": "f7d77ab2-ace6-40ed-eff1-c2fa5a99851a",
        "colab": {
          "base_uri": "https://localhost:8080/",
          "height": 119
        }
      },
      "source": [
        "y=train['scalar_coupling_constant']\n",
        "y.head()"
      ],
      "execution_count": 0,
      "outputs": [
        {
          "output_type": "execute_result",
          "data": {
            "text/plain": [
              "0    84.812500\n",
              "1   -11.257812\n",
              "2   -11.257812\n",
              "3   -11.257812\n",
              "4    84.812500\n",
              "Name: scalar_coupling_constant, dtype: float16"
            ]
          },
          "metadata": {
            "tags": []
          },
          "execution_count": 19
        }
      ]
    },
    {
      "cell_type": "code",
      "metadata": {
        "id": "dfPU-R6P_rH0",
        "colab_type": "code",
        "colab": {}
      },
      "source": [
        "from sklearn.model_selection import train_test_split"
      ],
      "execution_count": 0,
      "outputs": []
    },
    {
      "cell_type": "code",
      "metadata": {
        "id": "-Uw7yBgD_rH7",
        "colab_type": "code",
        "colab": {}
      },
      "source": [
        "x_train,x_val,y_train,y_val=train_test_split(x,y,test_size=0.3)"
      ],
      "execution_count": 0,
      "outputs": []
    },
    {
      "cell_type": "code",
      "metadata": {
        "id": "t4vu5JeB_rIB",
        "colab_type": "code",
        "outputId": "b843675b-9666-4348-c631-301bca976716",
        "colab": {
          "base_uri": "https://localhost:8080/",
          "height": 51
        }
      },
      "source": [
        "print('x_train: {}   y_train: {}'.format(x_train.shape,y_train.shape))\n",
        "print('x_val: {}   y_val: {}'.format(x_val.shape,y_val.shape))"
      ],
      "execution_count": 0,
      "outputs": [
        {
          "output_type": "stream",
          "text": [
            "x_train: (3260702, 38)   y_train: (3260702,)\n",
            "x_val: (1397445, 38)   y_val: (1397445,)\n"
          ],
          "name": "stdout"
        }
      ]
    },
    {
      "cell_type": "code",
      "metadata": {
        "id": "JfRqlI4W_rIU",
        "colab_type": "code",
        "outputId": "3cab73e9-b624-4e24-88c4-879446690986",
        "colab": {
          "base_uri": "https://localhost:8080/",
          "height": 34
        }
      },
      "source": [
        "x_test=test\n",
        "x_test.shape"
      ],
      "execution_count": 0,
      "outputs": [
        {
          "output_type": "execute_result",
          "data": {
            "text/plain": [
              "(2505542, 38)"
            ]
          },
          "metadata": {
            "tags": []
          },
          "execution_count": 23
        }
      ]
    },
    {
      "cell_type": "markdown",
      "metadata": {
        "id": "Mbtu4x0v_rIg",
        "colab_type": "text"
      },
      "source": [
        "# Training & Evaluation"
      ]
    },
    {
      "cell_type": "code",
      "metadata": {
        "id": "041dH63j9Dq0",
        "colab_type": "code",
        "outputId": "c0cb18ac-0bef-4dc3-80b9-0fcd3f31202b",
        "colab": {
          "base_uri": "https://localhost:8080/",
          "height": 34
        }
      },
      "source": [
        "import gc\n",
        "gc.collect()"
      ],
      "execution_count": 0,
      "outputs": [
        {
          "output_type": "execute_result",
          "data": {
            "text/plain": [
              "0"
            ]
          },
          "metadata": {
            "tags": []
          },
          "execution_count": 25
        }
      ]
    },
    {
      "cell_type": "markdown",
      "metadata": {
        "id": "miw6Nj3Vamx4",
        "colab_type": "text"
      },
      "source": [
        "## Linear Model (Baseline)"
      ]
    },
    {
      "cell_type": "code",
      "metadata": {
        "id": "So1sLtuhalKo",
        "colab_type": "code",
        "colab": {}
      },
      "source": [
        "from sklearn.linear_model import LinearRegression"
      ],
      "execution_count": 0,
      "outputs": []
    },
    {
      "cell_type": "code",
      "metadata": {
        "id": "bc4XHU2oamEn",
        "colab_type": "code",
        "colab": {}
      },
      "source": [
        "model_lr=LinearRegression()"
      ],
      "execution_count": 0,
      "outputs": []
    },
    {
      "cell_type": "code",
      "metadata": {
        "id": "p-mNtT5-al_o",
        "colab_type": "code",
        "outputId": "7de713e1-f222-4e66-eca3-ad2aa54a9032",
        "colab": {
          "base_uri": "https://localhost:8080/",
          "height": 34
        }
      },
      "source": [
        "model_lr.fit(x_train,y_train)"
      ],
      "execution_count": 0,
      "outputs": [
        {
          "output_type": "execute_result",
          "data": {
            "text/plain": [
              "LinearRegression(copy_X=True, fit_intercept=True, n_jobs=None, normalize=False)"
            ]
          },
          "metadata": {
            "tags": []
          },
          "execution_count": 25
        }
      ]
    },
    {
      "cell_type": "code",
      "metadata": {
        "id": "YE60nINHal61",
        "colab_type": "code",
        "outputId": "f424b857-8998-42a6-d88b-40b53ce01c25",
        "colab": {
          "base_uri": "https://localhost:8080/",
          "height": 34
        }
      },
      "source": [
        "model_lr.score(x_train,y_train)"
      ],
      "execution_count": 0,
      "outputs": [
        {
          "output_type": "execute_result",
          "data": {
            "text/plain": [
              "0.657767069470353"
            ]
          },
          "metadata": {
            "tags": []
          },
          "execution_count": 26
        }
      ]
    },
    {
      "cell_type": "code",
      "metadata": {
        "id": "pZIhPeQ8al1_",
        "colab_type": "code",
        "colab": {}
      },
      "source": [
        "from sklearn.metrics import mean_absolute_error"
      ],
      "execution_count": 0,
      "outputs": []
    },
    {
      "cell_type": "code",
      "metadata": {
        "id": "Q4PN8xYIalyO",
        "colab_type": "code",
        "colab": {}
      },
      "source": [
        "y_pred=model_lr.predict(x_val)"
      ],
      "execution_count": 0,
      "outputs": []
    },
    {
      "cell_type": "code",
      "metadata": {
        "id": "FrjnCNnZalr7",
        "colab_type": "code",
        "outputId": "7ff39532-c188-4547-d374-805369a54681",
        "colab": {
          "base_uri": "https://localhost:8080/",
          "height": 34
        }
      },
      "source": [
        "mean_absolute_error(y_val,y_pred)"
      ],
      "execution_count": 0,
      "outputs": [
        {
          "output_type": "execute_result",
          "data": {
            "text/plain": [
              "16.012124957476225"
            ]
          },
          "metadata": {
            "tags": []
          },
          "execution_count": 29
        }
      ]
    },
    {
      "cell_type": "markdown",
      "metadata": {
        "id": "iT7BeO-1cfoW",
        "colab_type": "text"
      },
      "source": [
        "## GBM (Baseline)"
      ]
    },
    {
      "cell_type": "code",
      "metadata": {
        "id": "MPMYXuG6almZ",
        "colab_type": "code",
        "colab": {}
      },
      "source": [
        "from sklearn.ensemble import GradientBoostingRegressor"
      ],
      "execution_count": 0,
      "outputs": []
    },
    {
      "cell_type": "code",
      "metadata": {
        "id": "6ZjHylibalhD",
        "colab_type": "code",
        "colab": {}
      },
      "source": [
        "model_gbm=GradientBoostingRegressor()"
      ],
      "execution_count": 0,
      "outputs": []
    },
    {
      "cell_type": "code",
      "metadata": {
        "id": "Z5TDjWrpekYj",
        "colab_type": "code",
        "outputId": "74d72bd5-e87a-43e7-ff79-e7b24de9d4a0",
        "colab": {
          "base_uri": "https://localhost:8080/",
          "height": 170
        }
      },
      "source": [
        "model_gbm.fit(x_train,y_train)"
      ],
      "execution_count": 0,
      "outputs": [
        {
          "output_type": "execute_result",
          "data": {
            "text/plain": [
              "GradientBoostingRegressor(alpha=0.9, criterion='friedman_mse', init=None,\n",
              "                          learning_rate=0.1, loss='ls', max_depth=3,\n",
              "                          max_features=None, max_leaf_nodes=None,\n",
              "                          min_impurity_decrease=0.0, min_impurity_split=None,\n",
              "                          min_samples_leaf=1, min_samples_split=2,\n",
              "                          min_weight_fraction_leaf=0.0, n_estimators=100,\n",
              "                          n_iter_no_change=None, presort='auto',\n",
              "                          random_state=None, subsample=1.0, tol=0.0001,\n",
              "                          validation_fraction=0.1, verbose=0, warm_start=False)"
            ]
          },
          "metadata": {
            "tags": []
          },
          "execution_count": 32
        }
      ]
    },
    {
      "cell_type": "code",
      "metadata": {
        "id": "q4ZJ0OXpexKv",
        "colab_type": "code",
        "outputId": "6e98b09c-ebef-4b23-d2ea-7d3ac371c8b4",
        "colab": {
          "base_uri": "https://localhost:8080/",
          "height": 34
        }
      },
      "source": [
        "model_gbm.score(x_train,y_train)"
      ],
      "execution_count": 0,
      "outputs": [
        {
          "output_type": "execute_result",
          "data": {
            "text/plain": [
              "0.988619947897735"
            ]
          },
          "metadata": {
            "tags": []
          },
          "execution_count": 33
        }
      ]
    },
    {
      "cell_type": "code",
      "metadata": {
        "id": "6tcBUt98exxN",
        "colab_type": "code",
        "colab": {}
      },
      "source": [
        "y_pred=model_gbm.predict(x_val)"
      ],
      "execution_count": 0,
      "outputs": []
    },
    {
      "cell_type": "code",
      "metadata": {
        "id": "5biq2a0vexrV",
        "colab_type": "code",
        "outputId": "26550fbc-b0bb-4d03-efc1-cb73c7f97541",
        "colab": {
          "base_uri": "https://localhost:8080/",
          "height": 34
        }
      },
      "source": [
        "mean_absolute_error(y_val,y_pred)"
      ],
      "execution_count": 0,
      "outputs": [
        {
          "output_type": "execute_result",
          "data": {
            "text/plain": [
              "2.4808905805931536"
            ]
          },
          "metadata": {
            "tags": []
          },
          "execution_count": 35
        }
      ]
    },
    {
      "cell_type": "code",
      "metadata": {
        "id": "fUu5rVJEexDb",
        "colab_type": "code",
        "colab": {}
      },
      "source": [
        ""
      ],
      "execution_count": 0,
      "outputs": []
    },
    {
      "cell_type": "markdown",
      "metadata": {
        "id": "3o21WUAJaxer",
        "colab_type": "text"
      },
      "source": [
        "## NN Model"
      ]
    },
    {
      "cell_type": "code",
      "metadata": {
        "id": "riBObD5Llnc5",
        "colab_type": "code",
        "colab": {}
      },
      "source": [
        "def plot_history(history):\n",
        "  hist = pd.DataFrame(history.history)\n",
        "  hist['epoch'] = history.epoch\n",
        "  plt.figure(figsize=(15,8))\n",
        "  plt.xlabel('Epoch')\n",
        "  plt.ylabel('Mean Abs Error')\n",
        "  plt.plot(hist['epoch'], hist['loss'],\n",
        "           label='Train Error')\n",
        "  plt.plot(hist['epoch'], hist['val_loss'],\n",
        "           label = 'Val Error')\n",
        "  plt.ylim([0,5])\n",
        "  plt.legend()\n",
        "\n",
        "\n",
        "  plt.show()"
      ],
      "execution_count": 0,
      "outputs": []
    },
    {
      "cell_type": "markdown",
      "metadata": {
        "id": "05Ixa1Wz5zyK",
        "colab_type": "text"
      },
      "source": [
        "### Shallow NN"
      ]
    },
    {
      "cell_type": "code",
      "metadata": {
        "id": "68k2eU0a_rIh",
        "colab_type": "code",
        "outputId": "88e6726d-0e41-45d1-9fca-3a4d6c8a80d9",
        "colab": {
          "base_uri": "https://localhost:8080/",
          "height": 377
        }
      },
      "source": [
        "input_shape=(38,)\n",
        "model_nn_small=keras.Sequential()\n",
        "model_nn_small.add(keras.layers.Dense(10,activation='relu',input_shape=input_shape))\n",
        "model_nn_small.add(keras.layers.Dense(20,activation='relu'))\n",
        "model_nn_small.add(keras.layers.Dense(20,activation='relu'))\n",
        "model_nn_small.add(keras.layers.Dense(1))\n",
        "\n",
        "model_nn_small.summary()"
      ],
      "execution_count": 0,
      "outputs": [
        {
          "output_type": "stream",
          "text": [
            "WARNING: Logging before flag parsing goes to stderr.\n",
            "W0817 06:02:32.506696 140069217470336 deprecation.py:506] From /usr/local/lib/python3.6/dist-packages/tensorflow/python/ops/init_ops.py:1251: calling VarianceScaling.__init__ (from tensorflow.python.ops.init_ops) with dtype is deprecated and will be removed in a future version.\n",
            "Instructions for updating:\n",
            "Call initializer instance with the dtype argument instead of passing it to the constructor\n"
          ],
          "name": "stderr"
        },
        {
          "output_type": "stream",
          "text": [
            "Model: \"sequential\"\n",
            "_________________________________________________________________\n",
            "Layer (type)                 Output Shape              Param #   \n",
            "=================================================================\n",
            "dense (Dense)                (None, 10)                390       \n",
            "_________________________________________________________________\n",
            "dense_1 (Dense)              (None, 20)                220       \n",
            "_________________________________________________________________\n",
            "dense_2 (Dense)              (None, 20)                420       \n",
            "_________________________________________________________________\n",
            "dense_3 (Dense)              (None, 1)                 21        \n",
            "=================================================================\n",
            "Total params: 1,051\n",
            "Trainable params: 1,051\n",
            "Non-trainable params: 0\n",
            "_________________________________________________________________\n"
          ],
          "name": "stdout"
        }
      ]
    },
    {
      "cell_type": "code",
      "metadata": {
        "id": "dgs9mXm0_rIt",
        "colab_type": "code",
        "colab": {}
      },
      "source": [
        "model_nn_small.compile(optimizer='adam',loss='mean_absolute_error')"
      ],
      "execution_count": 0,
      "outputs": []
    },
    {
      "cell_type": "code",
      "metadata": {
        "id": "oobsTgkw_rI3",
        "colab_type": "code",
        "outputId": "ba57e446-423d-433a-b98e-d260a7deca57",
        "colab": {
          "base_uri": "https://localhost:8080/",
          "height": 1000
        }
      },
      "source": [
        "history_small=model_nn_small.fit(x_train,y_train,epochs=100,batch_size=512,validation_data=(x_val,y_val))"
      ],
      "execution_count": 0,
      "outputs": [
        {
          "output_type": "stream",
          "text": [
            "Train on 3260702 samples, validate on 1397445 samples\n",
            "Epoch 1/100\n",
            "3260702/3260702 [==============================] - 38s 12us/sample - loss: 3.9968 - val_loss: 2.9952\n",
            "Epoch 2/100\n",
            "3260702/3260702 [==============================] - 33s 10us/sample - loss: 2.9264 - val_loss: 2.8559\n",
            "Epoch 3/100\n",
            "3260702/3260702 [==============================] - 34s 10us/sample - loss: 2.8362 - val_loss: 2.7949\n",
            "Epoch 4/100\n",
            "3260702/3260702 [==============================] - 34s 10us/sample - loss: 2.7913 - val_loss: 2.7506\n",
            "Epoch 5/100\n",
            "3260702/3260702 [==============================] - 33s 10us/sample - loss: 2.7461 - val_loss: 2.7090\n",
            "Epoch 6/100\n",
            "3260702/3260702 [==============================] - 33s 10us/sample - loss: 2.7104 - val_loss: 2.7038\n",
            "Epoch 7/100\n",
            "3260702/3260702 [==============================] - 34s 10us/sample - loss: 2.6865 - val_loss: 2.6688\n",
            "Epoch 8/100\n",
            "3260702/3260702 [==============================] - 34s 10us/sample - loss: 2.6613 - val_loss: 2.6611\n",
            "Epoch 9/100\n",
            "3260702/3260702 [==============================] - 34s 10us/sample - loss: 2.6456 - val_loss: 2.6566\n",
            "Epoch 10/100\n",
            "3260702/3260702 [==============================] - 34s 10us/sample - loss: 2.6393 - val_loss: 2.6257\n",
            "Epoch 11/100\n",
            "3260702/3260702 [==============================] - 35s 11us/sample - loss: 2.6325 - val_loss: 2.6160\n",
            "Epoch 12/100\n",
            "3260702/3260702 [==============================] - 36s 11us/sample - loss: 2.6278 - val_loss: 2.6093\n",
            "Epoch 13/100\n",
            "3260702/3260702 [==============================] - 36s 11us/sample - loss: 2.6224 - val_loss: 2.6207\n",
            "Epoch 14/100\n",
            "3260702/3260702 [==============================] - 36s 11us/sample - loss: 2.6168 - val_loss: 2.6138\n",
            "Epoch 15/100\n",
            "3260702/3260702 [==============================] - 35s 11us/sample - loss: 2.6104 - val_loss: 2.5980\n",
            "Epoch 16/100\n",
            "3260702/3260702 [==============================] - 35s 11us/sample - loss: 2.6050 - val_loss: 2.5877\n",
            "Epoch 17/100\n",
            "3260702/3260702 [==============================] - 36s 11us/sample - loss: 2.5988 - val_loss: 2.5899\n",
            "Epoch 18/100\n",
            "3260702/3260702 [==============================] - 35s 11us/sample - loss: 2.5932 - val_loss: 2.5650\n",
            "Epoch 19/100\n",
            "3260702/3260702 [==============================] - 35s 11us/sample - loss: 2.5850 - val_loss: 2.5643\n",
            "Epoch 20/100\n",
            "3260702/3260702 [==============================] - 36s 11us/sample - loss: 2.5766 - val_loss: 2.5854\n",
            "Epoch 21/100\n",
            "3260702/3260702 [==============================] - 36s 11us/sample - loss: 2.5714 - val_loss: 2.5700\n",
            "Epoch 22/100\n",
            "3260702/3260702 [==============================] - 36s 11us/sample - loss: 2.5659 - val_loss: 2.5596\n",
            "Epoch 23/100\n",
            "3260702/3260702 [==============================] - 36s 11us/sample - loss: 2.5610 - val_loss: 2.5594\n",
            "Epoch 24/100\n",
            "3260702/3260702 [==============================] - 36s 11us/sample - loss: 2.5584 - val_loss: 2.5512\n",
            "Epoch 25/100\n",
            "3260702/3260702 [==============================] - 36s 11us/sample - loss: 2.5545 - val_loss: 2.5366\n",
            "Epoch 26/100\n",
            "3260702/3260702 [==============================] - 35s 11us/sample - loss: 2.5519 - val_loss: 2.5302\n",
            "Epoch 27/100\n",
            "3260702/3260702 [==============================] - 36s 11us/sample - loss: 2.5502 - val_loss: 2.5561\n",
            "Epoch 28/100\n",
            "3260702/3260702 [==============================] - 36s 11us/sample - loss: 2.5466 - val_loss: 2.5291\n",
            "Epoch 29/100\n",
            "3260702/3260702 [==============================] - 36s 11us/sample - loss: 2.5451 - val_loss: 2.5475\n",
            "Epoch 30/100\n",
            "3260702/3260702 [==============================] - 36s 11us/sample - loss: 2.5424 - val_loss: 2.5284\n",
            "Epoch 31/100\n",
            "3260702/3260702 [==============================] - 36s 11us/sample - loss: 2.5414 - val_loss: 2.5219\n",
            "Epoch 32/100\n",
            "3260702/3260702 [==============================] - 35s 11us/sample - loss: 2.5384 - val_loss: 2.5358\n",
            "Epoch 33/100\n",
            "3260702/3260702 [==============================] - 35s 11us/sample - loss: 2.5361 - val_loss: 2.5360\n",
            "Epoch 34/100\n",
            "3260702/3260702 [==============================] - 36s 11us/sample - loss: 2.5355 - val_loss: 2.5498\n",
            "Epoch 35/100\n",
            "3260702/3260702 [==============================] - 36s 11us/sample - loss: 2.5343 - val_loss: 2.5291\n",
            "Epoch 36/100\n",
            "3260702/3260702 [==============================] - 35s 11us/sample - loss: 2.5314 - val_loss: 2.5244\n",
            "Epoch 37/100\n",
            "3260702/3260702 [==============================] - 36s 11us/sample - loss: 2.5296 - val_loss: 2.5410\n",
            "Epoch 38/100\n",
            "3260702/3260702 [==============================] - 35s 11us/sample - loss: 2.5280 - val_loss: 2.5107\n",
            "Epoch 39/100\n",
            "3260702/3260702 [==============================] - 36s 11us/sample - loss: 2.5258 - val_loss: 2.5323\n",
            "Epoch 40/100\n",
            "3260702/3260702 [==============================] - 36s 11us/sample - loss: 2.5239 - val_loss: 2.5464\n",
            "Epoch 41/100\n",
            "3260702/3260702 [==============================] - 35s 11us/sample - loss: 2.5214 - val_loss: 2.5480\n",
            "Epoch 42/100\n",
            "3260702/3260702 [==============================] - 35s 11us/sample - loss: 2.5181 - val_loss: 2.5187\n",
            "Epoch 43/100\n",
            "3260702/3260702 [==============================] - 35s 11us/sample - loss: 2.5154 - val_loss: 2.4948\n",
            "Epoch 44/100\n",
            "3260702/3260702 [==============================] - 35s 11us/sample - loss: 2.5125 - val_loss: 2.4888\n",
            "Epoch 45/100\n",
            "3260702/3260702 [==============================] - 35s 11us/sample - loss: 2.5100 - val_loss: 2.4937\n",
            "Epoch 46/100\n",
            "3260702/3260702 [==============================] - 35s 11us/sample - loss: 2.5073 - val_loss: 2.5089\n",
            "Epoch 47/100\n",
            "3260702/3260702 [==============================] - 35s 11us/sample - loss: 2.5033 - val_loss: 2.4779\n",
            "Epoch 48/100\n",
            "3260702/3260702 [==============================] - 35s 11us/sample - loss: 2.4999 - val_loss: 2.4792\n",
            "Epoch 49/100\n",
            "3260702/3260702 [==============================] - 35s 11us/sample - loss: 2.4965 - val_loss: 2.4805\n",
            "Epoch 50/100\n",
            "3260702/3260702 [==============================] - 35s 11us/sample - loss: 2.4930 - val_loss: 2.4922\n",
            "Epoch 51/100\n",
            "3260702/3260702 [==============================] - 35s 11us/sample - loss: 2.4892 - val_loss: 2.4686\n",
            "Epoch 52/100\n",
            "3260702/3260702 [==============================] - 35s 11us/sample - loss: 2.4850 - val_loss: 2.5030\n",
            "Epoch 53/100\n",
            "3260702/3260702 [==============================] - 35s 11us/sample - loss: 2.4769 - val_loss: 2.4587\n",
            "Epoch 54/100\n",
            "3260702/3260702 [==============================] - 35s 11us/sample - loss: 2.4718 - val_loss: 2.4379\n",
            "Epoch 55/100\n",
            "3260702/3260702 [==============================] - 35s 11us/sample - loss: 2.4658 - val_loss: 2.4331\n",
            "Epoch 56/100\n",
            "3260702/3260702 [==============================] - 35s 11us/sample - loss: 2.4609 - val_loss: 2.4536\n",
            "Epoch 57/100\n",
            "3260702/3260702 [==============================] - 35s 11us/sample - loss: 2.4544 - val_loss: 2.4354\n",
            "Epoch 58/100\n",
            "3260702/3260702 [==============================] - 35s 11us/sample - loss: 2.4500 - val_loss: 2.4591\n",
            "Epoch 59/100\n",
            "3260702/3260702 [==============================] - 35s 11us/sample - loss: 2.4441 - val_loss: 2.4299\n",
            "Epoch 60/100\n",
            "3260702/3260702 [==============================] - 34s 11us/sample - loss: 2.4382 - val_loss: 2.4309\n",
            "Epoch 61/100\n",
            "3260702/3260702 [==============================] - 34s 11us/sample - loss: 2.4344 - val_loss: 2.4312\n",
            "Epoch 62/100\n",
            "3260702/3260702 [==============================] - 34s 11us/sample - loss: 2.4291 - val_loss: 2.4697\n",
            "Epoch 63/100\n",
            "3260702/3260702 [==============================] - 34s 10us/sample - loss: 2.4217 - val_loss: 2.4553\n",
            "Epoch 64/100\n",
            "3260702/3260702 [==============================] - 34s 10us/sample - loss: 2.4168 - val_loss: 2.4004\n",
            "Epoch 65/100\n",
            "3260702/3260702 [==============================] - 35s 11us/sample - loss: 2.4099 - val_loss: 2.4201\n",
            "Epoch 66/100\n",
            "3260702/3260702 [==============================] - 35s 11us/sample - loss: 2.4058 - val_loss: 2.3685\n",
            "Epoch 67/100\n",
            "3260702/3260702 [==============================] - 34s 11us/sample - loss: 2.3999 - val_loss: 2.3668\n",
            "Epoch 68/100\n",
            "3260702/3260702 [==============================] - 35s 11us/sample - loss: 2.3906 - val_loss: 2.3704\n",
            "Epoch 69/100\n",
            "3260702/3260702 [==============================] - 35s 11us/sample - loss: 2.3843 - val_loss: 2.3782\n",
            "Epoch 70/100\n",
            "3260702/3260702 [==============================] - 35s 11us/sample - loss: 2.3795 - val_loss: 2.4226\n",
            "Epoch 71/100\n",
            "3260702/3260702 [==============================] - 35s 11us/sample - loss: 2.3756 - val_loss: 2.3402\n",
            "Epoch 72/100\n",
            "3260702/3260702 [==============================] - 35s 11us/sample - loss: 2.3710 - val_loss: 2.3340\n",
            "Epoch 73/100\n",
            "3260702/3260702 [==============================] - 35s 11us/sample - loss: 2.3687 - val_loss: 2.3436\n",
            "Epoch 74/100\n",
            "3260702/3260702 [==============================] - 34s 10us/sample - loss: 2.3640 - val_loss: 2.4172\n",
            "Epoch 75/100\n",
            "3260702/3260702 [==============================] - 35s 11us/sample - loss: 2.3627 - val_loss: 2.3423\n",
            "Epoch 76/100\n",
            "3260702/3260702 [==============================] - 35s 11us/sample - loss: 2.3583 - val_loss: 2.3233\n",
            "Epoch 77/100\n",
            "3260702/3260702 [==============================] - 35s 11us/sample - loss: 2.3576 - val_loss: 2.3554\n",
            "Epoch 78/100\n",
            "3260702/3260702 [==============================] - 34s 11us/sample - loss: 2.3553 - val_loss: 2.3540\n",
            "Epoch 79/100\n",
            "3260702/3260702 [==============================] - 34s 11us/sample - loss: 2.3521 - val_loss: 2.3172\n",
            "Epoch 80/100\n",
            "3260702/3260702 [==============================] - 35s 11us/sample - loss: 2.3512 - val_loss: 2.3509\n",
            "Epoch 81/100\n",
            "3260702/3260702 [==============================] - 34s 11us/sample - loss: 2.3506 - val_loss: 2.3153\n",
            "Epoch 82/100\n",
            "3260702/3260702 [==============================] - 35s 11us/sample - loss: 2.3491 - val_loss: 2.3305\n",
            "Epoch 83/100\n",
            "3260702/3260702 [==============================] - 35s 11us/sample - loss: 2.3484 - val_loss: 2.3277\n",
            "Epoch 84/100\n",
            "3260702/3260702 [==============================] - 35s 11us/sample - loss: 2.3458 - val_loss: 2.3765\n",
            "Epoch 85/100\n",
            "3260702/3260702 [==============================] - 35s 11us/sample - loss: 2.3447 - val_loss: 2.3304\n",
            "Epoch 86/100\n",
            "3260702/3260702 [==============================] - 35s 11us/sample - loss: 2.3432 - val_loss: 2.3445\n",
            "Epoch 87/100\n",
            "3260702/3260702 [==============================] - 34s 11us/sample - loss: 2.3429 - val_loss: 2.3851\n",
            "Epoch 88/100\n",
            "3260702/3260702 [==============================] - 35s 11us/sample - loss: 2.3403 - val_loss: 2.4762\n",
            "Epoch 89/100\n",
            "3260702/3260702 [==============================] - 34s 11us/sample - loss: 2.3396 - val_loss: 2.4067\n",
            "Epoch 90/100\n",
            "3260702/3260702 [==============================] - 34s 11us/sample - loss: 2.3364 - val_loss: 2.3106\n",
            "Epoch 91/100\n",
            "3260702/3260702 [==============================] - 34s 11us/sample - loss: 2.3347 - val_loss: 2.4176\n",
            "Epoch 92/100\n",
            "3260702/3260702 [==============================] - 35s 11us/sample - loss: 2.3315 - val_loss: 2.3231\n",
            "Epoch 93/100\n",
            "3260702/3260702 [==============================] - 35s 11us/sample - loss: 2.3310 - val_loss: 2.3142\n",
            "Epoch 94/100\n",
            "3260702/3260702 [==============================] - 35s 11us/sample - loss: 2.3319 - val_loss: 2.4185\n",
            "Epoch 95/100\n",
            "3260702/3260702 [==============================] - 34s 11us/sample - loss: 2.3298 - val_loss: 2.3487\n",
            "Epoch 96/100\n",
            "3260702/3260702 [==============================] - 34s 11us/sample - loss: 2.3278 - val_loss: 2.3609\n",
            "Epoch 97/100\n",
            "3260702/3260702 [==============================] - 35s 11us/sample - loss: 2.3268 - val_loss: 2.3344\n",
            "Epoch 98/100\n",
            "3260702/3260702 [==============================] - 35s 11us/sample - loss: 2.3224 - val_loss: 2.3391\n",
            "Epoch 99/100\n",
            "3260702/3260702 [==============================] - 34s 11us/sample - loss: 2.3249 - val_loss: 2.2973\n",
            "Epoch 100/100\n",
            "3260702/3260702 [==============================] - 35s 11us/sample - loss: 2.3227 - val_loss: 2.3073\n"
          ],
          "name": "stdout"
        }
      ]
    },
    {
      "cell_type": "code",
      "metadata": {
        "id": "_LIsMxlCFyIG",
        "colab_type": "code",
        "outputId": "e46e8c40-c505-4be7-edd9-431e5024d803",
        "colab": {
          "base_uri": "https://localhost:8080/",
          "height": 501
        }
      },
      "source": [
        "plot_history(history_small)"
      ],
      "execution_count": 0,
      "outputs": [
        {
          "output_type": "display_data",
          "data": {
            "image/png": "[encoded data removed]",
            "text/plain": [
              "<Figure size 1080x576 with 1 Axes>"
            ]
          },
          "metadata": {
            "tags": []
          }
        }
      ]
    },
    {
      "cell_type": "markdown",
      "metadata": {
        "id": "baIejqQ85uPf",
        "colab_type": "text"
      },
      "source": [
        "###  DNN"
      ]
    },
    {
      "cell_type": "code",
      "metadata": {
        "id": "XRxPSFVo53uu",
        "colab_type": "code",
        "outputId": "03bb2d99-92d5-420a-82cc-6167490db07a",
        "colab": {
          "base_uri": "https://localhost:8080/",
          "height": 547
        }
      },
      "source": [
        "input_shape=(38,)\n",
        "model_dnn=keras.Sequential()\n",
        "model_dnn.add(keras.layers.Dense(64,activation='relu',input_shape=input_shape))\n",
        "model_dnn.add(keras.layers.Dense(128,activation='relu'))\n",
        "model_dnn.add(keras.layers.Dense(256,activation='relu'))\n",
        "model_dnn.add(keras.layers.Dense(512,activation='relu'))\n",
        "model_dnn.add(keras.layers.Dense(512,activation='relu'))\n",
        "model_dnn.add(keras.layers.Dense(128,activation='relu'))\n",
        "model_dnn.add(keras.layers.Dense(64,activation='relu'))\n",
        "model_dnn.add(keras.layers.Dense(8,activation='relu'))\n",
        "model_dnn.add(keras.layers.Dense(1))\n",
        "\n",
        "model_dnn.summary()"
      ],
      "execution_count": 0,
      "outputs": [
        {
          "output_type": "stream",
          "text": [
            "WARNING: Logging before flag parsing goes to stderr.\n",
            "W0817 20:26:35.960039 139791427561344 deprecation.py:506] From /usr/local/lib/python3.6/dist-packages/tensorflow/python/ops/init_ops.py:1251: calling VarianceScaling.__init__ (from tensorflow.python.ops.init_ops) with dtype is deprecated and will be removed in a future version.\n",
            "Instructions for updating:\n",
            "Call initializer instance with the dtype argument instead of passing it to the constructor\n"
          ],
          "name": "stderr"
        },
        {
          "output_type": "stream",
          "text": [
            "Model: \"sequential\"\n",
            "_________________________________________________________________\n",
            "Layer (type)                 Output Shape              Param #   \n",
            "=================================================================\n",
            "dense (Dense)                (None, 64)                2496      \n",
            "_________________________________________________________________\n",
            "dense_1 (Dense)              (None, 128)               8320      \n",
            "_________________________________________________________________\n",
            "dense_2 (Dense)              (None, 256)               33024     \n",
            "_________________________________________________________________\n",
            "dense_3 (Dense)              (None, 512)               131584    \n",
            "_________________________________________________________________\n",
            "dense_4 (Dense)              (None, 512)               262656    \n",
            "_________________________________________________________________\n",
            "dense_5 (Dense)              (None, 128)               65664     \n",
            "_________________________________________________________________\n",
            "dense_6 (Dense)              (None, 64)                8256      \n",
            "_________________________________________________________________\n",
            "dense_7 (Dense)              (None, 8)                 520       \n",
            "_________________________________________________________________\n",
            "dense_8 (Dense)              (None, 1)                 9         \n",
            "=================================================================\n",
            "Total params: 512,529\n",
            "Trainable params: 512,529\n",
            "Non-trainable params: 0\n",
            "_________________________________________________________________\n"
          ],
          "name": "stdout"
        }
      ]
    },
    {
      "cell_type": "code",
      "metadata": {
        "id": "cf7mEtSD53pC",
        "colab_type": "code",
        "colab": {}
      },
      "source": [
        "model_dnn.compile(optimizer=tf.train.AdamOptimizer(learning_rate=0.001),loss='mean_absolute_error')"
      ],
      "execution_count": 0,
      "outputs": []
    },
    {
      "cell_type": "code",
      "metadata": {
        "id": "WynPh8RbGJ8I",
        "colab_type": "code",
        "outputId": "b4ad04c0-3cca-479b-b1a1-d83735ecac2c",
        "colab": {
          "base_uri": "https://localhost:8080/",
          "height": 1000
        }
      },
      "source": [
        "history=model_dnn.fit(x_train,y_train,epochs=100,batch_size=256,validation_data=(x_val,y_val))"
      ],
      "execution_count": 0,
      "outputs": [
        {
          "output_type": "stream",
          "text": [
            "Train on 3260702 samples, validate on 1397445 samples\n",
            "Epoch 1/100\n",
            "3260702/3260702 [==============================] - 95s 29us/sample - loss: 1.3528 - val_loss: 1.4236\n",
            "Epoch 2/100\n",
            "3260702/3260702 [==============================] - 96s 29us/sample - loss: 1.3469 - val_loss: 1.4368\n",
            "Epoch 3/100\n",
            "3260702/3260702 [==============================] - 95s 29us/sample - loss: 1.3591 - val_loss: 1.4783\n",
            "Epoch 4/100\n",
            "3260702/3260702 [==============================] - 95s 29us/sample - loss: 1.3407 - val_loss: 1.4266\n",
            "Epoch 5/100\n",
            "3260702/3260702 [==============================] - 95s 29us/sample - loss: 1.3487 - val_loss: 1.4877\n",
            "Epoch 6/100\n",
            "3260702/3260702 [==============================] - 95s 29us/sample - loss: 1.3460 - val_loss: 1.4720\n",
            "Epoch 7/100\n",
            "3260702/3260702 [==============================] - 95s 29us/sample - loss: 1.3551 - val_loss: 1.4350\n",
            "Epoch 8/100\n",
            "3260702/3260702 [==============================] - 96s 29us/sample - loss: 1.3463 - val_loss: 1.4721\n",
            "Epoch 9/100\n",
            "3260702/3260702 [==============================] - 95s 29us/sample - loss: 1.3557 - val_loss: 1.5058\n",
            "Epoch 10/100\n",
            "3260702/3260702 [==============================] - 95s 29us/sample - loss: 1.3471 - val_loss: 1.4159\n",
            "Epoch 11/100\n",
            "3260702/3260702 [==============================] - 95s 29us/sample - loss: 1.3376 - val_loss: 1.4765\n",
            "Epoch 12/100\n",
            "3260702/3260702 [==============================] - 95s 29us/sample - loss: 1.3613 - val_loss: 1.4039\n",
            "Epoch 13/100\n",
            "3260702/3260702 [==============================] - 95s 29us/sample - loss: 1.3275 - val_loss: 1.4050\n",
            "Epoch 14/100\n",
            "3260702/3260702 [==============================] - 94s 29us/sample - loss: 1.3064 - val_loss: 1.4122\n",
            "Epoch 15/100\n",
            "3260702/3260702 [==============================] - 95s 29us/sample - loss: 1.3400 - val_loss: 1.4235\n",
            "Epoch 16/100\n",
            "3260702/3260702 [==============================] - 95s 29us/sample - loss: 1.3318 - val_loss: 1.5730\n",
            "Epoch 17/100\n",
            "3260702/3260702 [==============================] - 95s 29us/sample - loss: 1.3329 - val_loss: 1.4063\n",
            "Epoch 18/100\n",
            "3260702/3260702 [==============================] - 96s 29us/sample - loss: 1.3303 - val_loss: 1.4268\n",
            "Epoch 19/100\n",
            "3260702/3260702 [==============================] - 95s 29us/sample - loss: 1.3269 - val_loss: 1.4704\n",
            "Epoch 20/100\n",
            "3260702/3260702 [==============================] - 95s 29us/sample - loss: 1.3661 - val_loss: 1.5085\n",
            "Epoch 21/100\n",
            "3260702/3260702 [==============================] - 96s 29us/sample - loss: 1.3613 - val_loss: 1.3947\n",
            "Epoch 22/100\n",
            "3260702/3260702 [==============================] - 95s 29us/sample - loss: 1.3722 - val_loss: 1.4498\n",
            "Epoch 23/100\n",
            "3260702/3260702 [==============================] - 95s 29us/sample - loss: 1.3852 - val_loss: 1.5502\n",
            "Epoch 24/100\n",
            "3260702/3260702 [==============================] - 95s 29us/sample - loss: 1.4247 - val_loss: 1.4828\n",
            "Epoch 25/100\n",
            "3260702/3260702 [==============================] - 95s 29us/sample - loss: 1.4008 - val_loss: 1.4169\n",
            "Epoch 26/100\n",
            "3260702/3260702 [==============================] - 95s 29us/sample - loss: 1.3564 - val_loss: 1.4466\n",
            "Epoch 27/100\n",
            "3260702/3260702 [==============================] - 95s 29us/sample - loss: 1.3767 - val_loss: 1.5070\n",
            "Epoch 28/100\n",
            "3260702/3260702 [==============================] - 95s 29us/sample - loss: 1.3601 - val_loss: 1.5468\n",
            "Epoch 29/100\n",
            "3260702/3260702 [==============================] - 95s 29us/sample - loss: 1.3542 - val_loss: 1.3872\n",
            "Epoch 30/100\n",
            "3260702/3260702 [==============================] - 95s 29us/sample - loss: 1.3658 - val_loss: 1.4509\n",
            "Epoch 31/100\n",
            "3260702/3260702 [==============================] - 96s 29us/sample - loss: 1.3567 - val_loss: 1.4550\n",
            "Epoch 32/100\n",
            "3260702/3260702 [==============================] - 94s 29us/sample - loss: 1.3462 - val_loss: 1.4261\n",
            "Epoch 33/100\n",
            "3260702/3260702 [==============================] - 95s 29us/sample - loss: 1.3703 - val_loss: 1.4934\n",
            "Epoch 34/100\n",
            "3260702/3260702 [==============================] - 96s 30us/sample - loss: 1.3422 - val_loss: 1.4039\n",
            "Epoch 35/100\n",
            "3260702/3260702 [==============================] - 95s 29us/sample - loss: 1.3702 - val_loss: 1.4337\n",
            "Epoch 36/100\n",
            "3260702/3260702 [==============================] - 95s 29us/sample - loss: 1.3973 - val_loss: 1.5506\n",
            "Epoch 37/100\n",
            "3260702/3260702 [==============================] - 96s 29us/sample - loss: 1.4179 - val_loss: 1.4088\n",
            "Epoch 38/100\n",
            "3260702/3260702 [==============================] - 96s 29us/sample - loss: 1.3847 - val_loss: 1.5479\n",
            "Epoch 39/100\n",
            "3260702/3260702 [==============================] - 95s 29us/sample - loss: 1.4376 - val_loss: 1.4556\n",
            "Epoch 40/100\n",
            "3260702/3260702 [==============================] - 96s 29us/sample - loss: 1.4192 - val_loss: 1.7679\n",
            "Epoch 41/100\n",
            "3260702/3260702 [==============================] - 96s 29us/sample - loss: 1.3875 - val_loss: 1.4234\n",
            "Epoch 42/100\n",
            "3260702/3260702 [==============================] - 95s 29us/sample - loss: 1.4074 - val_loss: 1.6680\n",
            "Epoch 43/100\n",
            "3260702/3260702 [==============================] - 96s 29us/sample - loss: 1.4658 - val_loss: 1.6155\n",
            "Epoch 44/100\n",
            "3260702/3260702 [==============================] - 96s 29us/sample - loss: 1.4305 - val_loss: 1.5336\n",
            "Epoch 45/100\n",
            "3260702/3260702 [==============================] - 96s 29us/sample - loss: 1.5098 - val_loss: 1.6101\n",
            "Epoch 46/100\n",
            "3260702/3260702 [==============================] - 96s 29us/sample - loss: 1.4889 - val_loss: 1.5659\n",
            "Epoch 47/100\n",
            "3260702/3260702 [==============================] - 97s 30us/sample - loss: 1.4050 - val_loss: 1.4300\n",
            "Epoch 48/100\n",
            "3260702/3260702 [==============================] - 96s 29us/sample - loss: 1.4253 - val_loss: 1.4561\n",
            "Epoch 49/100\n",
            "3260702/3260702 [==============================] - 96s 29us/sample - loss: 1.4765 - val_loss: 1.4535\n",
            "Epoch 50/100\n",
            "3260702/3260702 [==============================] - 96s 29us/sample - loss: 1.4477 - val_loss: 1.6139\n",
            "Epoch 51/100\n",
            "3260702/3260702 [==============================] - 96s 30us/sample - loss: 1.5460 - val_loss: 1.5462\n",
            "Epoch 52/100\n",
            " 732928/3260702 [=====>........................] - ETA: 1:02 - loss: 1.5153"
          ],
          "name": "stdout"
        }
      ]
    },
    {
      "cell_type": "code",
      "metadata": {
        "id": "3n7g2bZYEwi8",
        "colab_type": "code",
        "outputId": "9acb5c19-224b-42bc-f798-da9dd839f217",
        "colab": {
          "base_uri": "https://localhost:8080/",
          "height": 501
        }
      },
      "source": [
        "plot_history(history)"
      ],
      "execution_count": 0,
      "outputs": [
        {
          "output_type": "display_data",
          "data": {
            "image/png": "[encoded data removed]",
            "text/plain": [
              "<Figure size 1080x576 with 1 Axes>"
            ]
          },
          "metadata": {
            "tags": []
          }
        }
      ]
    },
    {
      "cell_type": "markdown",
      "metadata": {
        "id": "gLQsXUR-D-gg",
        "colab_type": "text"
      },
      "source": [
        "# Train on whole data with the best model"
      ]
    },
    {
      "cell_type": "code",
      "metadata": {
        "id": "fLzXi6OEEDT8",
        "colab_type": "code",
        "outputId": "910582af-b7bd-46dc-e926-2c5ef11916b6",
        "colab": {
          "base_uri": "https://localhost:8080/",
          "height": 221
        }
      },
      "source": [
        "model_dnn.fit(x,y,epochs=5,batch_size=512,validation_data=(x_val,y_val))"
      ],
      "execution_count": 0,
      "outputs": [
        {
          "output_type": "stream",
          "text": [
            "Train on 4658147 samples, validate on 1397445 samples\n",
            "Epoch 1/5\n",
            "4658147/4658147 [==============================] - 41s 9us/sample - loss: 3.1120 - val_loss: 3.0486\n",
            "Epoch 2/5\n",
            "4658147/4658147 [==============================] - 41s 9us/sample - loss: 3.0955 - val_loss: 3.1948\n",
            "Epoch 3/5\n",
            "4658147/4658147 [==============================] - 41s 9us/sample - loss: 3.0829 - val_loss: 3.0855\n",
            "Epoch 4/5\n",
            "4658147/4658147 [==============================] - 41s 9us/sample - loss: 3.0748 - val_loss: 2.9660\n",
            "Epoch 5/5\n",
            "4658147/4658147 [==============================] - 40s 9us/sample - loss: 3.0661 - val_loss: 3.0940\n"
          ],
          "name": "stdout"
        },
        {
          "output_type": "execute_result",
          "data": {
            "text/plain": [
              "<tensorflow.python.keras.callbacks.History at 0x7f44c7110588>"
            ]
          },
          "metadata": {
            "tags": []
          },
          "execution_count": 23
        }
      ]
    },
    {
      "cell_type": "markdown",
      "metadata": {
        "id": "bsWsfTC3_rJe",
        "colab_type": "text"
      },
      "source": [
        "# Serialize the model"
      ]
    },
    {
      "cell_type": "code",
      "metadata": {
        "id": "4mm-Sy-R_rJh",
        "colab_type": "code",
        "colab": {}
      },
      "source": [
        "tf.keras.models.save_model(model_dnn,'kaggle_model_dnn_exp_2_1.h5',overwrite=True,include_optimizer=True)"
      ],
      "execution_count": 0,
      "outputs": []
    },
    {
      "cell_type": "code",
      "metadata": {
        "id": "WhTlMCWH_rJ3",
        "colab_type": "code",
        "colab": {}
      },
      "source": [
        "!ls"
      ],
      "execution_count": 0,
      "outputs": []
    },
    {
      "cell_type": "markdown",
      "metadata": {
        "id": "33gJdaCV_rJ8",
        "colab_type": "text"
      },
      "source": [
        "# Create Submission file"
      ]
    },
    {
      "cell_type": "code",
      "metadata": {
        "id": "QQZCplF8INAf",
        "colab_type": "code",
        "outputId": "8d8dc5ff-1a12-49b3-a56b-28cae9078143",
        "colab": {
          "base_uri": "https://localhost:8080/",
          "height": 34
        }
      },
      "source": [
        "import gc\n",
        "gc.collect()"
      ],
      "execution_count": 0,
      "outputs": [
        {
          "output_type": "execute_result",
          "data": {
            "text/plain": [
              "634"
            ]
          },
          "metadata": {
            "tags": []
          },
          "execution_count": 37
        }
      ]
    },
    {
      "cell_type": "code",
      "metadata": {
        "id": "QNkeYenM_rJ_",
        "colab_type": "code",
        "outputId": "40fde428-c3db-4e09-992c-9f37b7bc72aa",
        "colab": {
          "base_uri": "https://localhost:8080/",
          "height": 204
        }
      },
      "source": [
        "#test=pd.read_csv('test_feat_eng_v2.csv')\n",
        "test_predictions=model_dnn.predict(test,verbose=1,batch_size=10000)\n",
        "test_predictions[:10]"
      ],
      "execution_count": 0,
      "outputs": [
        {
          "output_type": "stream",
          "text": [
            "2505542/2505542 [==============================] - 3s 1us/sample\n"
          ],
          "name": "stdout"
        },
        {
          "output_type": "execute_result",
          "data": {
            "text/plain": [
              "array([[  2.0752168],\n",
              "       [142.85901  ],\n",
              "       [ -0.8733392],\n",
              "       [138.78284  ],\n",
              "       [  2.9148402],\n",
              "       [ 81.625374 ],\n",
              "       [  2.5074658],\n",
              "       [ -9.147455 ],\n",
              "       [ -9.425726 ],\n",
              "       [ 83.44547  ]], dtype=float32)"
            ]
          },
          "metadata": {
            "tags": []
          },
          "execution_count": 31
        }
      ]
    },
    {
      "cell_type": "code",
      "metadata": {
        "id": "rQDPCLCo_rKF",
        "colab_type": "code",
        "outputId": "b6b22843-4b9f-4280-e48d-2b93336b78cc",
        "colab": {
          "base_uri": "https://localhost:8080/",
          "height": 34
        }
      },
      "source": [
        "test_predictions.shape"
      ],
      "execution_count": 0,
      "outputs": [
        {
          "output_type": "execute_result",
          "data": {
            "text/plain": [
              "(2505542, 1)"
            ]
          },
          "metadata": {
            "tags": []
          },
          "execution_count": 32
        }
      ]
    },
    {
      "cell_type": "code",
      "metadata": {
        "id": "H5ztViLY_rKL",
        "colab_type": "code",
        "outputId": "751e58d8-742d-41b5-f23a-0253733e07e5",
        "colab": {
          "base_uri": "https://localhost:8080/",
          "height": 204
        }
      },
      "source": [
        "sample_submission=pd.read_csv('sample_submission.csv')\n",
        "sample_submission.head()"
      ],
      "execution_count": 0,
      "outputs": [
        {
          "output_type": "execute_result",
          "data": {
            "text/html": [
              "<div>\n",
              "<style scoped>\n",
              "    .dataframe tbody tr th:only-of-type {\n",
              "        vertical-align: middle;\n",
              "    }\n",
              "\n",
              "    .dataframe tbody tr th {\n",
              "        vertical-align: top;\n",
              "    }\n",
              "\n",
              "    .dataframe thead th {\n",
              "        text-align: right;\n",
              "    }\n",
              "</style>\n",
              "<table border=\"1\" class=\"dataframe\">\n",
              "  <thead>\n",
              "    <tr style=\"text-align: right;\">\n",
              "      <th></th>\n",
              "      <th>id</th>\n",
              "      <th>scalar_coupling_constant</th>\n",
              "    </tr>\n",
              "  </thead>\n",
              "  <tbody>\n",
              "    <tr>\n",
              "      <th>0</th>\n",
              "      <td>4658147</td>\n",
              "      <td>0</td>\n",
              "    </tr>\n",
              "    <tr>\n",
              "      <th>1</th>\n",
              "      <td>4658148</td>\n",
              "      <td>0</td>\n",
              "    </tr>\n",
              "    <tr>\n",
              "      <th>2</th>\n",
              "      <td>4658149</td>\n",
              "      <td>0</td>\n",
              "    </tr>\n",
              "    <tr>\n",
              "      <th>3</th>\n",
              "      <td>4658150</td>\n",
              "      <td>0</td>\n",
              "    </tr>\n",
              "    <tr>\n",
              "      <th>4</th>\n",
              "      <td>4658151</td>\n",
              "      <td>0</td>\n",
              "    </tr>\n",
              "  </tbody>\n",
              "</table>\n",
              "</div>"
            ],
            "text/plain": [
              "        id  scalar_coupling_constant\n",
              "0  4658147                         0\n",
              "1  4658148                         0\n",
              "2  4658149                         0\n",
              "3  4658150                         0\n",
              "4  4658151                         0"
            ]
          },
          "metadata": {
            "tags": []
          },
          "execution_count": 33
        }
      ]
    },
    {
      "cell_type": "code",
      "metadata": {
        "id": "DX5pCXoG_rKW",
        "colab_type": "code",
        "outputId": "e4961db7-79bd-4b10-b349-4fc23c4287b0",
        "colab": {
          "base_uri": "https://localhost:8080/",
          "height": 204
        }
      },
      "source": [
        "sample_submission['scalar_coupling_constant']=test_predictions\n",
        "sample_submission.head()"
      ],
      "execution_count": 0,
      "outputs": [
        {
          "output_type": "execute_result",
          "data": {
            "text/html": [
              "<div>\n",
              "<style scoped>\n",
              "    .dataframe tbody tr th:only-of-type {\n",
              "        vertical-align: middle;\n",
              "    }\n",
              "\n",
              "    .dataframe tbody tr th {\n",
              "        vertical-align: top;\n",
              "    }\n",
              "\n",
              "    .dataframe thead th {\n",
              "        text-align: right;\n",
              "    }\n",
              "</style>\n",
              "<table border=\"1\" class=\"dataframe\">\n",
              "  <thead>\n",
              "    <tr style=\"text-align: right;\">\n",
              "      <th></th>\n",
              "      <th>id</th>\n",
              "      <th>scalar_coupling_constant</th>\n",
              "    </tr>\n",
              "  </thead>\n",
              "  <tbody>\n",
              "    <tr>\n",
              "      <th>0</th>\n",
              "      <td>4658147</td>\n",
              "      <td>2.075217</td>\n",
              "    </tr>\n",
              "    <tr>\n",
              "      <th>1</th>\n",
              "      <td>4658148</td>\n",
              "      <td>142.859009</td>\n",
              "    </tr>\n",
              "    <tr>\n",
              "      <th>2</th>\n",
              "      <td>4658149</td>\n",
              "      <td>-0.873339</td>\n",
              "    </tr>\n",
              "    <tr>\n",
              "      <th>3</th>\n",
              "      <td>4658150</td>\n",
              "      <td>138.782837</td>\n",
              "    </tr>\n",
              "    <tr>\n",
              "      <th>4</th>\n",
              "      <td>4658151</td>\n",
              "      <td>2.914840</td>\n",
              "    </tr>\n",
              "  </tbody>\n",
              "</table>\n",
              "</div>"
            ],
            "text/plain": [
              "        id  scalar_coupling_constant\n",
              "0  4658147                  2.075217\n",
              "1  4658148                142.859009\n",
              "2  4658149                 -0.873339\n",
              "3  4658150                138.782837\n",
              "4  4658151                  2.914840"
            ]
          },
          "metadata": {
            "tags": []
          },
          "execution_count": 34
        }
      ]
    },
    {
      "cell_type": "code",
      "metadata": {
        "id": "yLREMC7I_rKe",
        "colab_type": "code",
        "colab": {}
      },
      "source": [
        "sample_submission.to_csv('sample_submission_exp_2.csv',index=False)"
      ],
      "execution_count": 0,
      "outputs": []
    },
    {
      "cell_type": "code",
      "metadata": {
        "id": "lL3tjc8K_rKm",
        "colab_type": "code",
        "outputId": "12cfc61a-3c84-4713-96a3-5194685fa815",
        "colab": {
          "base_uri": "https://localhost:8080/",
          "height": 357
        }
      },
      "source": [
        "!ls"
      ],
      "execution_count": 0,
      "outputs": [
        {
          "output_type": "stream",
          "text": [
            "data.covs.pickle\n",
            "dipole_moments.csv.zip\n",
            "kaggle.json\n",
            "kaggle_model_nn_v2_04.h5\n",
            "magnetic_shielding_tensors.csv.zip\n",
            "mulliken_charges.csv.zip\n",
            "potential_energy.csv.zip\n",
            "sample_data\n",
            "sample_submission.csv.zip\n",
            "sample_submission_distance_baseline_test_02.csv\n",
            "sample_submission_external_feat_v2_01.csv\n",
            "scalar_coupling_contributions.csv.zip\n",
            "structures.csv.zip\n",
            "structures.zip\n",
            "test.csv.zip\n",
            "test_etl.csv\n",
            "test_feat_eng_v2.csv\n",
            "train.csv.zip\n",
            "train_etl.csv\n",
            "train_feat_eng_v2.csv\n"
          ],
          "name": "stdout"
        }
      ]
    },
    {
      "cell_type": "code",
      "metadata": {
        "id": "QNH2GDOU_rKz",
        "colab_type": "code",
        "outputId": "462c1fe3-5e0b-4fc0-cc5c-aebad3f7bcb4",
        "colab": {
          "base_uri": "https://localhost:8080/",
          "height": 187
        }
      },
      "source": [
        "!head sample_submission_distance_baseline_test.csv"
      ],
      "execution_count": 0,
      "outputs": [
        {
          "output_type": "stream",
          "text": [
            "id,scalar_coupling_constant\n",
            "4658147,-3.2472324\n",
            "4658148,91.86721\n",
            "4658149,10.933329\n",
            "4658150,107.796974\n",
            "4658151,1.5662003\n",
            "4658152,107.1634\n",
            "4658153,2.08945\n",
            "4658154,-11.683802\n",
            "4658155,-10.687826\n"
          ],
          "name": "stdout"
        }
      ]
    },
    {
      "cell_type": "markdown",
      "metadata": {
        "id": "o6rIYcGm_rLA",
        "colab_type": "text"
      },
      "source": [
        "# Upload to IBM object store"
      ]
    },
    {
      "cell_type": "code",
      "metadata": {
        "id": "CMDeLsAS_rLD",
        "colab_type": "code",
        "colab": {}
      },
      "source": [
        "from ibm_botocore.client import Config\n",
        "import ibm_boto3\n",
        "def upload_file_cos(credentials,local_file_name,key):  \n",
        "    cos = ibm_boto3.client(service_name='s3',\n",
        "    ibm_api_key_id=credentials['IBM_API_KEY_ID'],\n",
        "    ibm_service_instance_id=credentials['IAM_SERVICE_ID'],\n",
        "    ibm_auth_endpoint=credentials['IBM_AUTH_ENDPOINT'],\n",
        "    config=Config(signature_version='oauth'),\n",
        "    endpoint_url=credentials['ENDPOINT'])\n",
        "    try:\n",
        "        res=cos.upload_file(Filename=local_file_name, Bucket=credentials['BUCKET'],Key=key)\n",
        "    except Exception as e:\n",
        "        print(Exception, e)\n",
        "    else:\n",
        "        print('File Uploaded')"
      ],
      "execution_count": 0,
      "outputs": []
    },
    {
      "cell_type": "code",
      "metadata": {
        "id": "7Z3plS9F_rLK",
        "colab_type": "code",
        "colab": {}
      },
      "source": [
        "upload_file_cos(credentials_2,'sample_submission_test_3.csv','sample_submission_test_3.csv')"
      ],
      "execution_count": 0,
      "outputs": []
    },
    {
      "cell_type": "code",
      "metadata": {
        "id": "aO0Wc-vi_rLN",
        "colab_type": "code",
        "colab": {}
      },
      "source": [
        "upload_file_cos(credentials_2,'kaggle_model_nn_03.h5','kaggle_model_nn_03.h5')"
      ],
      "execution_count": 0,
      "outputs": []
    },
    {
      "cell_type": "code",
      "metadata": {
        "id": "LISDbv6Q_rLT",
        "colab_type": "code",
        "colab": {}
      },
      "source": [
        ""
      ],
      "execution_count": 0,
      "outputs": []
    }
  ]
}