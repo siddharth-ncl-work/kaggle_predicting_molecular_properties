{
  "nbformat": 4,
  "nbformat_minor": 0,
  "metadata": {
    "kernelspec": {
      "name": "python3",
      "display_name": "Python 3"
    },
    "language_info": {
      "mimetype": "text/x-python",
      "nbconvert_exporter": "python",
      "version": "3.6.8",
      "name": "python",
      "file_extension": ".py",
      "pygments_lexer": "ipython3",
      "codemirror_mode": {
        "version": 3,
        "name": "ipython"
      }
    },
    "colab": {
      "name": "c4_w4_model_train_eval.ipynb",
      "version": "0.3.2",
      "provenance": [],
      "toc_visible": true,
      "include_colab_link": true
    },
    "accelerator": "GPU"
  },
  "cells": [
    {
      "cell_type": "markdown",
      "metadata": {
        "id": "view-in-github",
        "colab_type": "text"
      },
      "source": [
        "<a href=\"https://colab.research.google.com/github/ss-ghule/kaggle_predicting_molecular_properties/blob/master/c4_w4_model_train_eval_exp_1_orig_my_std.ipynb\" target=\"_parent\"><img src=\"https://colab.research.google.com/assets/colab-badge.svg\" alt=\"Open In Colab\"/></a>"
      ]
    },
    {
      "cell_type": "markdown",
      "metadata": {
        "collapsed": true,
        "id": "yagcl-cp_rGY",
        "colab_type": "text"
      },
      "source": [
        "# Training & Evaluation\n",
        "\n",
        "## ##Training & Evaluation is currently being carried out in google Colaboratory due to less free resources available in IBM watson studio"
      ]
    },
    {
      "cell_type": "markdown",
      "metadata": {
        "id": "FR40RxvC_rGc",
        "colab_type": "text"
      },
      "source": [
        "# Download Data"
      ]
    },
    {
      "cell_type": "code",
      "metadata": {
        "id": "sSaJy3Ky_rGe",
        "colab_type": "code",
        "colab": {}
      },
      "source": [
        "# The code was removed by Watson Studio for sharing."
      ],
      "execution_count": 0,
      "outputs": []
    },
    {
      "cell_type": "code",
      "metadata": {
        "id": "NupJV6Uc_rGn",
        "colab_type": "code",
        "colab": {}
      },
      "source": [
        "'''\n",
        "from ibm_botocore.client import Config\n",
        "import ibm_boto3\n",
        "def download_file_cos(credentials,local_file_name,key):  \n",
        "    cos = ibm_boto3.client(service_name='s3',\n",
        "    ibm_api_key_id=credentials['IBM_API_KEY_ID'],\n",
        "    ibm_service_instance_id=credentials['IAM_SERVICE_ID'],\n",
        "    ibm_auth_endpoint=credentials['IBM_AUTH_ENDPOINT'],\n",
        "    config=Config(signature_version='oauth'),\n",
        "    endpoint_url=credentials['ENDPOINT'])\n",
        "    try:\n",
        "        res=cos.download_file(Bucket=credentials['BUCKET'],Key=key,Filename=local_file_name)\n",
        "    except Exception as e:\n",
        "        print(Exception, e)\n",
        "    else:\n",
        "        print('File Downloaded')\n",
        "'''"
      ],
      "execution_count": 0,
      "outputs": []
    },
    {
      "cell_type": "code",
      "metadata": {
        "id": "-E3LKXE2_rGr",
        "colab_type": "code",
        "outputId": "b82edecc-ce30-4605-d5ab-26e1fee965a0",
        "colab": {
          "base_uri": "https://localhost:8080/",
          "height": 442
        }
      },
      "source": [
        "#download_file_cos(credentials_2,'train_feat_eng.csv','train_feat_eng.csv')\n",
        "#ownload_file_cos(credentials_2,'test_feat_eng.csv','test_feat_eng.csv')\n",
        "#download_file_cos(credentials_2,'sample_submission.csv','sample_submission.csv')\n",
        "!ls"
      ],
      "execution_count": 3,
      "outputs": [
        {
          "output_type": "stream",
          "text": [
            "connectivity_model_nn_03.h5\n",
            "data.covs.pickle\n",
            "dipole_moments.csv.zip\n",
            "kaggle.json\n",
            "magnetic_shielding_tensors.csv.zip\n",
            "mulliken_charges.csv.zip\n",
            "pairs_dict.pkl\n",
            "potential_energy.csv.zip\n",
            "sample_data\n",
            "sample_submission.csv.zip\n",
            "scalar_coupling_contributions.csv.zip\n",
            "structures.csv.zip\n",
            "structures.zip\n",
            "test.csv.zip\n",
            "test_etl.csv\n",
            "test_feat_eng_v2_orig_my_ext_not_std.csv\n",
            "test_feat_eng_v2_orig_my_ext_std.csv\n",
            "test_feat_eng_v2_orig_my_not_std.csv\n",
            "test_feat_eng_v2_orig_my_std.csv\n",
            "train.csv.zip\n",
            "train_etl.csv\n",
            "train_feat_eng_v2_orig_my_ext_not_std.csv\n",
            "train_feat_eng_v2_orig_my_ext_std.csv\n",
            "train_feat_eng_v2_orig_my_not_std.csv\n",
            "train_feat_eng_v2_orig_my_std.csv\n"
          ],
          "name": "stdout"
        }
      ]
    },
    {
      "cell_type": "code",
      "metadata": {
        "id": "7XwY9zM7X3Jp",
        "colab_type": "code",
        "colab": {}
      },
      "source": [
        ""
      ],
      "execution_count": 0,
      "outputs": []
    },
    {
      "cell_type": "markdown",
      "metadata": {
        "id": "xfE1SqV5X9oa",
        "colab_type": "text"
      },
      "source": [
        "# EXP NO.1 (orig+my+std)"
      ]
    },
    {
      "cell_type": "markdown",
      "metadata": {
        "id": "bPykO9S6_rG0",
        "colab_type": "text"
      },
      "source": [
        "# Dowload Data"
      ]
    },
    {
      "cell_type": "code",
      "metadata": {
        "id": "60DvXJFH_rG2",
        "colab_type": "code",
        "colab": {}
      },
      "source": [
        "import pandas as pd\n",
        "import numpy as np\n",
        "import matplotlib.pyplot as plt\n",
        "import tensorflow as tf\n",
        "from tensorflow import keras\n",
        "import pickle\n",
        "%matplotlib inline"
      ],
      "execution_count": 0,
      "outputs": []
    },
    {
      "cell_type": "code",
      "metadata": {
        "id": "oIaMPaH1_rG_",
        "colab_type": "code",
        "outputId": "39cc03f1-3f8f-4c6f-f415-a095d08c8247",
        "colab": {
          "base_uri": "https://localhost:8080/",
          "height": 34
        }
      },
      "source": [
        "tf.__version__"
      ],
      "execution_count": 2,
      "outputs": [
        {
          "output_type": "execute_result",
          "data": {
            "text/plain": [
              "'1.14.0'"
            ]
          },
          "metadata": {
            "tags": []
          },
          "execution_count": 2
        }
      ]
    },
    {
      "cell_type": "code",
      "metadata": {
        "id": "OxbPFU2t_rHE",
        "colab_type": "code",
        "outputId": "69667c5f-ea21-47c6-d167-1b8b4e6cc725",
        "colab": {
          "base_uri": "https://localhost:8080/",
          "height": 224
        }
      },
      "source": [
        "train=pd.read_csv('train_feat_eng_v2_orig_my_std.csv')\n",
        "train.head()"
      ],
      "execution_count": 4,
      "outputs": [
        {
          "output_type": "execute_result",
          "data": {
            "text/html": [
              "<div>\n",
              "<style scoped>\n",
              "    .dataframe tbody tr th:only-of-type {\n",
              "        vertical-align: middle;\n",
              "    }\n",
              "\n",
              "    .dataframe tbody tr th {\n",
              "        vertical-align: top;\n",
              "    }\n",
              "\n",
              "    .dataframe thead th {\n",
              "        text-align: right;\n",
              "    }\n",
              "</style>\n",
              "<table border=\"1\" class=\"dataframe\">\n",
              "  <thead>\n",
              "    <tr style=\"text-align: right;\">\n",
              "      <th></th>\n",
              "      <th>id</th>\n",
              "      <th>molecule_name</th>\n",
              "      <th>atom_index_0</th>\n",
              "      <th>atom_index_1</th>\n",
              "      <th>atom_0</th>\n",
              "      <th>x_0</th>\n",
              "      <th>y_0</th>\n",
              "      <th>z_0</th>\n",
              "      <th>atom_1</th>\n",
              "      <th>x_1</th>\n",
              "      <th>y_1</th>\n",
              "      <th>z_1</th>\n",
              "      <th>mulliken_charge_0</th>\n",
              "      <th>mulliken_charge_1</th>\n",
              "      <th>type</th>\n",
              "      <th>scalar_coupling_constant</th>\n",
              "      <th>distance</th>\n",
              "      <th>type_enc</th>\n",
              "      <th>atom_1_enc</th>\n",
              "      <th>atom_0_enc</th>\n",
              "      <th>pairs</th>\n",
              "      <th>pairs_enc</th>\n",
              "      <th>bond</th>\n",
              "      <th>bond_int</th>\n",
              "    </tr>\n",
              "  </thead>\n",
              "  <tbody>\n",
              "    <tr>\n",
              "      <th>0</th>\n",
              "      <td>0</td>\n",
              "      <td>dsgdb9nsd_000001</td>\n",
              "      <td>1</td>\n",
              "      <td>0</td>\n",
              "      <td>H</td>\n",
              "      <td>-0.058940</td>\n",
              "      <td>0.101017</td>\n",
              "      <td>-0.028861</td>\n",
              "      <td>C</td>\n",
              "      <td>-0.074536</td>\n",
              "      <td>0.838296</td>\n",
              "      <td>-0.055483</td>\n",
              "      <td>0.263942</td>\n",
              "      <td>-2.057703</td>\n",
              "      <td>1JHC</td>\n",
              "      <td>84.8076</td>\n",
              "      <td>-1.722482</td>\n",
              "      <td>0</td>\n",
              "      <td>0</td>\n",
              "      <td>1</td>\n",
              "      <td>c_h</td>\n",
              "      <td>2</td>\n",
              "      <td>0.919759</td>\n",
              "      <td>1</td>\n",
              "    </tr>\n",
              "    <tr>\n",
              "      <th>1</th>\n",
              "      <td>1</td>\n",
              "      <td>dsgdb9nsd_000001</td>\n",
              "      <td>1</td>\n",
              "      <td>2</td>\n",
              "      <td>H</td>\n",
              "      <td>-0.058940</td>\n",
              "      <td>0.101017</td>\n",
              "      <td>-0.028861</td>\n",
              "      <td>H</td>\n",
              "      <td>0.617919</td>\n",
              "      <td>1.052165</td>\n",
              "      <td>-0.061633</td>\n",
              "      <td>0.263942</td>\n",
              "      <td>0.729230</td>\n",
              "      <td>2JHH</td>\n",
              "      <td>-11.2570</td>\n",
              "      <td>-0.784301</td>\n",
              "      <td>3</td>\n",
              "      <td>1</td>\n",
              "      <td>1</td>\n",
              "      <td>h_h</td>\n",
              "      <td>11</td>\n",
              "      <td>0.648310</td>\n",
              "      <td>1</td>\n",
              "    </tr>\n",
              "    <tr>\n",
              "      <th>2</th>\n",
              "      <td>2</td>\n",
              "      <td>dsgdb9nsd_000001</td>\n",
              "      <td>1</td>\n",
              "      <td>3</td>\n",
              "      <td>H</td>\n",
              "      <td>-0.058940</td>\n",
              "      <td>0.101017</td>\n",
              "      <td>-0.028861</td>\n",
              "      <td>H</td>\n",
              "      <td>-0.431513</td>\n",
              "      <td>1.042984</td>\n",
              "      <td>-0.759868</td>\n",
              "      <td>0.263942</td>\n",
              "      <td>0.729234</td>\n",
              "      <td>2JHH</td>\n",
              "      <td>-11.2548</td>\n",
              "      <td>-0.784264</td>\n",
              "      <td>3</td>\n",
              "      <td>1</td>\n",
              "      <td>1</td>\n",
              "      <td>h_h</td>\n",
              "      <td>11</td>\n",
              "      <td>0.648205</td>\n",
              "      <td>1</td>\n",
              "    </tr>\n",
              "    <tr>\n",
              "      <th>3</th>\n",
              "      <td>3</td>\n",
              "      <td>dsgdb9nsd_000001</td>\n",
              "      <td>1</td>\n",
              "      <td>4</td>\n",
              "      <td>H</td>\n",
              "      <td>-0.058940</td>\n",
              "      <td>0.101017</td>\n",
              "      <td>-0.028861</td>\n",
              "      <td>H</td>\n",
              "      <td>-0.420021</td>\n",
              "      <td>1.037555</td>\n",
              "      <td>0.659852</td>\n",
              "      <td>0.263942</td>\n",
              "      <td>0.729234</td>\n",
              "      <td>2JHH</td>\n",
              "      <td>-11.2543</td>\n",
              "      <td>-0.784251</td>\n",
              "      <td>3</td>\n",
              "      <td>1</td>\n",
              "      <td>1</td>\n",
              "      <td>h_h</td>\n",
              "      <td>11</td>\n",
              "      <td>0.648170</td>\n",
              "      <td>1</td>\n",
              "    </tr>\n",
              "    <tr>\n",
              "      <th>4</th>\n",
              "      <td>4</td>\n",
              "      <td>dsgdb9nsd_000001</td>\n",
              "      <td>2</td>\n",
              "      <td>0</td>\n",
              "      <td>H</td>\n",
              "      <td>0.514726</td>\n",
              "      <td>0.793727</td>\n",
              "      <td>-0.029947</td>\n",
              "      <td>C</td>\n",
              "      <td>-0.074536</td>\n",
              "      <td>0.838296</td>\n",
              "      <td>-0.055483</td>\n",
              "      <td>0.263964</td>\n",
              "      <td>-2.057703</td>\n",
              "      <td>1JHC</td>\n",
              "      <td>84.8074</td>\n",
              "      <td>-1.722484</td>\n",
              "      <td>0</td>\n",
              "      <td>0</td>\n",
              "      <td>1</td>\n",
              "      <td>c_h</td>\n",
              "      <td>2</td>\n",
              "      <td>0.919759</td>\n",
              "      <td>1</td>\n",
              "    </tr>\n",
              "  </tbody>\n",
              "</table>\n",
              "</div>"
            ],
            "text/plain": [
              "   id     molecule_name  atom_index_0  ...  pairs_enc      bond  bond_int\n",
              "0   0  dsgdb9nsd_000001             1  ...          2  0.919759         1\n",
              "1   1  dsgdb9nsd_000001             1  ...         11  0.648310         1\n",
              "2   2  dsgdb9nsd_000001             1  ...         11  0.648205         1\n",
              "3   3  dsgdb9nsd_000001             1  ...         11  0.648170         1\n",
              "4   4  dsgdb9nsd_000001             2  ...          2  0.919759         1\n",
              "\n",
              "[5 rows x 24 columns]"
            ]
          },
          "metadata": {
            "tags": []
          },
          "execution_count": 4
        }
      ]
    },
    {
      "cell_type": "code",
      "metadata": {
        "id": "5o6ysyiF_rHL",
        "colab_type": "code",
        "outputId": "b87f1c4b-b128-4384-917d-bfcfa2deb099",
        "colab": {
          "base_uri": "https://localhost:8080/",
          "height": 34
        }
      },
      "source": [
        "train.shape"
      ],
      "execution_count": 5,
      "outputs": [
        {
          "output_type": "execute_result",
          "data": {
            "text/plain": [
              "(4658147, 24)"
            ]
          },
          "metadata": {
            "tags": []
          },
          "execution_count": 5
        }
      ]
    },
    {
      "cell_type": "code",
      "metadata": {
        "id": "Gyb8B2Y6_rHR",
        "colab_type": "code",
        "outputId": "d16710da-2fd1-4bcd-ddca-27669c61fb8b",
        "colab": {
          "base_uri": "https://localhost:8080/",
          "height": 224
        }
      },
      "source": [
        "test=pd.read_csv('test_feat_eng_v2_orig_my_std.csv')\n",
        "test.head()"
      ],
      "execution_count": 6,
      "outputs": [
        {
          "output_type": "execute_result",
          "data": {
            "text/html": [
              "<div>\n",
              "<style scoped>\n",
              "    .dataframe tbody tr th:only-of-type {\n",
              "        vertical-align: middle;\n",
              "    }\n",
              "\n",
              "    .dataframe tbody tr th {\n",
              "        vertical-align: top;\n",
              "    }\n",
              "\n",
              "    .dataframe thead th {\n",
              "        text-align: right;\n",
              "    }\n",
              "</style>\n",
              "<table border=\"1\" class=\"dataframe\">\n",
              "  <thead>\n",
              "    <tr style=\"text-align: right;\">\n",
              "      <th></th>\n",
              "      <th>id</th>\n",
              "      <th>molecule_name</th>\n",
              "      <th>atom_index_0</th>\n",
              "      <th>atom_index_1</th>\n",
              "      <th>atom_0</th>\n",
              "      <th>x_0</th>\n",
              "      <th>y_0</th>\n",
              "      <th>z_0</th>\n",
              "      <th>atom_1</th>\n",
              "      <th>x_1</th>\n",
              "      <th>y_1</th>\n",
              "      <th>z_1</th>\n",
              "      <th>mulliken_charge_0</th>\n",
              "      <th>mulliken_charge_1</th>\n",
              "      <th>type</th>\n",
              "      <th>distance</th>\n",
              "      <th>type_enc</th>\n",
              "      <th>atom_1_enc</th>\n",
              "      <th>atom_0_enc</th>\n",
              "      <th>pairs</th>\n",
              "      <th>pairs_enc</th>\n",
              "      <th>bond</th>\n",
              "      <th>bond_int</th>\n",
              "    </tr>\n",
              "  </thead>\n",
              "  <tbody>\n",
              "    <tr>\n",
              "      <th>0</th>\n",
              "      <td>4658147</td>\n",
              "      <td>dsgdb9nsd_000004</td>\n",
              "      <td>2</td>\n",
              "      <td>0</td>\n",
              "      <td>H</td>\n",
              "      <td>-1.004343</td>\n",
              "      <td>0.10386</td>\n",
              "      <td>0.609053</td>\n",
              "      <td>C</td>\n",
              "      <td>0.339301</td>\n",
              "      <td>0.223874</td>\n",
              "      <td>0.734382</td>\n",
              "      <td>-7.526702e-13</td>\n",
              "      <td>-0.098154</td>\n",
              "      <td>2JHC</td>\n",
              "      <td>-0.135391</td>\n",
              "      <td>2</td>\n",
              "      <td>0</td>\n",
              "      <td>1</td>\n",
              "      <td>c_h</td>\n",
              "      <td>2</td>\n",
              "      <td>0.413226</td>\n",
              "      <td>0</td>\n",
              "    </tr>\n",
              "    <tr>\n",
              "      <th>1</th>\n",
              "      <td>4658148</td>\n",
              "      <td>dsgdb9nsd_000004</td>\n",
              "      <td>2</td>\n",
              "      <td>1</td>\n",
              "      <td>H</td>\n",
              "      <td>-1.004343</td>\n",
              "      <td>0.10386</td>\n",
              "      <td>0.609053</td>\n",
              "      <td>C</td>\n",
              "      <td>-0.471207</td>\n",
              "      <td>0.223874</td>\n",
              "      <td>0.734382</td>\n",
              "      <td>-7.526702e-13</td>\n",
              "      <td>-0.098154</td>\n",
              "      <td>1JHC</td>\n",
              "      <td>-1.763005</td>\n",
              "      <td>0</td>\n",
              "      <td>0</td>\n",
              "      <td>1</td>\n",
              "      <td>c_h</td>\n",
              "      <td>2</td>\n",
              "      <td>0.917924</td>\n",
              "      <td>1</td>\n",
              "    </tr>\n",
              "    <tr>\n",
              "      <th>2</th>\n",
              "      <td>4658149</td>\n",
              "      <td>dsgdb9nsd_000004</td>\n",
              "      <td>2</td>\n",
              "      <td>3</td>\n",
              "      <td>H</td>\n",
              "      <td>-1.004343</td>\n",
              "      <td>0.10386</td>\n",
              "      <td>0.609053</td>\n",
              "      <td>H</td>\n",
              "      <td>1.057219</td>\n",
              "      <td>0.223874</td>\n",
              "      <td>0.734382</td>\n",
              "      <td>-7.526702e-13</td>\n",
              "      <td>0.663743</td>\n",
              "      <td>3JHH</td>\n",
              "      <td>1.306289</td>\n",
              "      <td>6</td>\n",
              "      <td>1</td>\n",
              "      <td>1</td>\n",
              "      <td>h_h</td>\n",
              "      <td>11</td>\n",
              "      <td>0.173375</td>\n",
              "      <td>0</td>\n",
              "    </tr>\n",
              "    <tr>\n",
              "      <th>3</th>\n",
              "      <td>4658150</td>\n",
              "      <td>dsgdb9nsd_000004</td>\n",
              "      <td>3</td>\n",
              "      <td>0</td>\n",
              "      <td>H</td>\n",
              "      <td>0.884018</td>\n",
              "      <td>0.10386</td>\n",
              "      <td>0.609053</td>\n",
              "      <td>C</td>\n",
              "      <td>0.339301</td>\n",
              "      <td>0.223874</td>\n",
              "      <td>0.734382</td>\n",
              "      <td>-7.526702e-13</td>\n",
              "      <td>-0.098154</td>\n",
              "      <td>1JHC</td>\n",
              "      <td>-1.763005</td>\n",
              "      <td>0</td>\n",
              "      <td>0</td>\n",
              "      <td>1</td>\n",
              "      <td>c_h</td>\n",
              "      <td>2</td>\n",
              "      <td>0.917924</td>\n",
              "      <td>1</td>\n",
              "    </tr>\n",
              "    <tr>\n",
              "      <th>4</th>\n",
              "      <td>4658151</td>\n",
              "      <td>dsgdb9nsd_000004</td>\n",
              "      <td>3</td>\n",
              "      <td>1</td>\n",
              "      <td>H</td>\n",
              "      <td>0.884018</td>\n",
              "      <td>0.10386</td>\n",
              "      <td>0.609053</td>\n",
              "      <td>C</td>\n",
              "      <td>-0.471207</td>\n",
              "      <td>0.223874</td>\n",
              "      <td>0.734382</td>\n",
              "      <td>-7.526702e-13</td>\n",
              "      <td>-0.098154</td>\n",
              "      <td>2JHC</td>\n",
              "      <td>-0.135391</td>\n",
              "      <td>2</td>\n",
              "      <td>0</td>\n",
              "      <td>1</td>\n",
              "      <td>c_h</td>\n",
              "      <td>2</td>\n",
              "      <td>0.413226</td>\n",
              "      <td>0</td>\n",
              "    </tr>\n",
              "  </tbody>\n",
              "</table>\n",
              "</div>"
            ],
            "text/plain": [
              "        id     molecule_name  atom_index_0  ...  pairs_enc      bond  bond_int\n",
              "0  4658147  dsgdb9nsd_000004             2  ...          2  0.413226         0\n",
              "1  4658148  dsgdb9nsd_000004             2  ...          2  0.917924         1\n",
              "2  4658149  dsgdb9nsd_000004             2  ...         11  0.173375         0\n",
              "3  4658150  dsgdb9nsd_000004             3  ...          2  0.917924         1\n",
              "4  4658151  dsgdb9nsd_000004             3  ...          2  0.413226         0\n",
              "\n",
              "[5 rows x 23 columns]"
            ]
          },
          "metadata": {
            "tags": []
          },
          "execution_count": 6
        }
      ]
    },
    {
      "cell_type": "code",
      "metadata": {
        "id": "Qpmn8Mae8aza",
        "colab_type": "code",
        "outputId": "3707fbe1-c02f-4b0c-8fbe-5bbfc76864bf",
        "colab": {
          "base_uri": "https://localhost:8080/",
          "height": 34
        }
      },
      "source": [
        "test.shape"
      ],
      "execution_count": 7,
      "outputs": [
        {
          "output_type": "execute_result",
          "data": {
            "text/plain": [
              "(2505542, 23)"
            ]
          },
          "metadata": {
            "tags": []
          },
          "execution_count": 7
        }
      ]
    },
    {
      "cell_type": "markdown",
      "metadata": {
        "id": "AEZkRqd1Y4-F",
        "colab_type": "text"
      },
      "source": [
        "# Drop Columns"
      ]
    },
    {
      "cell_type": "code",
      "metadata": {
        "id": "qbPmcu3x6Ojk",
        "colab_type": "code",
        "outputId": "e9798cb2-1809-4811-f925-9ad743cd1ccd",
        "colab": {
          "base_uri": "https://localhost:8080/",
          "height": 119
        }
      },
      "source": [
        "train.columns"
      ],
      "execution_count": 8,
      "outputs": [
        {
          "output_type": "execute_result",
          "data": {
            "text/plain": [
              "Index(['id', 'molecule_name', 'atom_index_0', 'atom_index_1', 'atom_0', 'x_0',\n",
              "       'y_0', 'z_0', 'atom_1', 'x_1', 'y_1', 'z_1', 'mulliken_charge_0',\n",
              "       'mulliken_charge_1', 'type', 'scalar_coupling_constant', 'distance',\n",
              "       'type_enc', 'atom_1_enc', 'atom_0_enc', 'pairs', 'pairs_enc', 'bond',\n",
              "       'bond_int'],\n",
              "      dtype='object')"
            ]
          },
          "metadata": {
            "tags": []
          },
          "execution_count": 8
        }
      ]
    },
    {
      "cell_type": "code",
      "metadata": {
        "id": "h1OnN58FZMtk",
        "colab_type": "code",
        "colab": {}
      },
      "source": [
        "drop_cols=['id', 'molecule_name','atom_0','atom_1','type', 'pairs','bond']"
      ],
      "execution_count": 0,
      "outputs": []
    },
    {
      "cell_type": "code",
      "metadata": {
        "id": "KhsiUFhelOx3",
        "colab_type": "code",
        "outputId": "815d020a-686f-4227-9a13-a3f297e855ea",
        "colab": {
          "base_uri": "https://localhost:8080/",
          "height": 224
        }
      },
      "source": [
        "train.drop(drop_cols,axis=1,inplace=True)\n",
        "train.head()"
      ],
      "execution_count": 10,
      "outputs": [
        {
          "output_type": "execute_result",
          "data": {
            "text/html": [
              "<div>\n",
              "<style scoped>\n",
              "    .dataframe tbody tr th:only-of-type {\n",
              "        vertical-align: middle;\n",
              "    }\n",
              "\n",
              "    .dataframe tbody tr th {\n",
              "        vertical-align: top;\n",
              "    }\n",
              "\n",
              "    .dataframe thead th {\n",
              "        text-align: right;\n",
              "    }\n",
              "</style>\n",
              "<table border=\"1\" class=\"dataframe\">\n",
              "  <thead>\n",
              "    <tr style=\"text-align: right;\">\n",
              "      <th></th>\n",
              "      <th>atom_index_0</th>\n",
              "      <th>atom_index_1</th>\n",
              "      <th>x_0</th>\n",
              "      <th>y_0</th>\n",
              "      <th>z_0</th>\n",
              "      <th>x_1</th>\n",
              "      <th>y_1</th>\n",
              "      <th>z_1</th>\n",
              "      <th>mulliken_charge_0</th>\n",
              "      <th>mulliken_charge_1</th>\n",
              "      <th>scalar_coupling_constant</th>\n",
              "      <th>distance</th>\n",
              "      <th>type_enc</th>\n",
              "      <th>atom_1_enc</th>\n",
              "      <th>atom_0_enc</th>\n",
              "      <th>pairs_enc</th>\n",
              "      <th>bond_int</th>\n",
              "    </tr>\n",
              "  </thead>\n",
              "  <tbody>\n",
              "    <tr>\n",
              "      <th>0</th>\n",
              "      <td>1</td>\n",
              "      <td>0</td>\n",
              "      <td>-0.058940</td>\n",
              "      <td>0.101017</td>\n",
              "      <td>-0.028861</td>\n",
              "      <td>-0.074536</td>\n",
              "      <td>0.838296</td>\n",
              "      <td>-0.055483</td>\n",
              "      <td>0.263942</td>\n",
              "      <td>-2.057703</td>\n",
              "      <td>84.8076</td>\n",
              "      <td>-1.722482</td>\n",
              "      <td>0</td>\n",
              "      <td>0</td>\n",
              "      <td>1</td>\n",
              "      <td>2</td>\n",
              "      <td>1</td>\n",
              "    </tr>\n",
              "    <tr>\n",
              "      <th>1</th>\n",
              "      <td>1</td>\n",
              "      <td>2</td>\n",
              "      <td>-0.058940</td>\n",
              "      <td>0.101017</td>\n",
              "      <td>-0.028861</td>\n",
              "      <td>0.617919</td>\n",
              "      <td>1.052165</td>\n",
              "      <td>-0.061633</td>\n",
              "      <td>0.263942</td>\n",
              "      <td>0.729230</td>\n",
              "      <td>-11.2570</td>\n",
              "      <td>-0.784301</td>\n",
              "      <td>3</td>\n",
              "      <td>1</td>\n",
              "      <td>1</td>\n",
              "      <td>11</td>\n",
              "      <td>1</td>\n",
              "    </tr>\n",
              "    <tr>\n",
              "      <th>2</th>\n",
              "      <td>1</td>\n",
              "      <td>3</td>\n",
              "      <td>-0.058940</td>\n",
              "      <td>0.101017</td>\n",
              "      <td>-0.028861</td>\n",
              "      <td>-0.431513</td>\n",
              "      <td>1.042984</td>\n",
              "      <td>-0.759868</td>\n",
              "      <td>0.263942</td>\n",
              "      <td>0.729234</td>\n",
              "      <td>-11.2548</td>\n",
              "      <td>-0.784264</td>\n",
              "      <td>3</td>\n",
              "      <td>1</td>\n",
              "      <td>1</td>\n",
              "      <td>11</td>\n",
              "      <td>1</td>\n",
              "    </tr>\n",
              "    <tr>\n",
              "      <th>3</th>\n",
              "      <td>1</td>\n",
              "      <td>4</td>\n",
              "      <td>-0.058940</td>\n",
              "      <td>0.101017</td>\n",
              "      <td>-0.028861</td>\n",
              "      <td>-0.420021</td>\n",
              "      <td>1.037555</td>\n",
              "      <td>0.659852</td>\n",
              "      <td>0.263942</td>\n",
              "      <td>0.729234</td>\n",
              "      <td>-11.2543</td>\n",
              "      <td>-0.784251</td>\n",
              "      <td>3</td>\n",
              "      <td>1</td>\n",
              "      <td>1</td>\n",
              "      <td>11</td>\n",
              "      <td>1</td>\n",
              "    </tr>\n",
              "    <tr>\n",
              "      <th>4</th>\n",
              "      <td>2</td>\n",
              "      <td>0</td>\n",
              "      <td>0.514726</td>\n",
              "      <td>0.793727</td>\n",
              "      <td>-0.029947</td>\n",
              "      <td>-0.074536</td>\n",
              "      <td>0.838296</td>\n",
              "      <td>-0.055483</td>\n",
              "      <td>0.263964</td>\n",
              "      <td>-2.057703</td>\n",
              "      <td>84.8074</td>\n",
              "      <td>-1.722484</td>\n",
              "      <td>0</td>\n",
              "      <td>0</td>\n",
              "      <td>1</td>\n",
              "      <td>2</td>\n",
              "      <td>1</td>\n",
              "    </tr>\n",
              "  </tbody>\n",
              "</table>\n",
              "</div>"
            ],
            "text/plain": [
              "   atom_index_0  atom_index_1       x_0  ...  atom_0_enc  pairs_enc  bond_int\n",
              "0             1             0 -0.058940  ...           1          2         1\n",
              "1             1             2 -0.058940  ...           1         11         1\n",
              "2             1             3 -0.058940  ...           1         11         1\n",
              "3             1             4 -0.058940  ...           1         11         1\n",
              "4             2             0  0.514726  ...           1          2         1\n",
              "\n",
              "[5 rows x 17 columns]"
            ]
          },
          "metadata": {
            "tags": []
          },
          "execution_count": 10
        }
      ]
    },
    {
      "cell_type": "code",
      "metadata": {
        "id": "7i5W5r2__rHa",
        "colab_type": "code",
        "outputId": "ff607b52-80a0-4793-e9ab-8a055311265b",
        "colab": {
          "base_uri": "https://localhost:8080/",
          "height": 102
        }
      },
      "source": [
        "test.columns"
      ],
      "execution_count": 11,
      "outputs": [
        {
          "output_type": "execute_result",
          "data": {
            "text/plain": [
              "Index(['id', 'molecule_name', 'atom_index_0', 'atom_index_1', 'atom_0', 'x_0',\n",
              "       'y_0', 'z_0', 'atom_1', 'x_1', 'y_1', 'z_1', 'mulliken_charge_0',\n",
              "       'mulliken_charge_1', 'type', 'distance', 'type_enc', 'atom_1_enc',\n",
              "       'atom_0_enc', 'pairs', 'pairs_enc', 'bond', 'bond_int'],\n",
              "      dtype='object')"
            ]
          },
          "metadata": {
            "tags": []
          },
          "execution_count": 11
        }
      ]
    },
    {
      "cell_type": "code",
      "metadata": {
        "id": "v7vjC_oJ8_i_",
        "colab_type": "code",
        "outputId": "f078860e-976a-4b8c-f94e-89b07ce9753b",
        "colab": {
          "base_uri": "https://localhost:8080/",
          "height": 224
        }
      },
      "source": [
        "test.drop(drop_cols,axis=1,inplace=True)\n",
        "test.head()"
      ],
      "execution_count": 12,
      "outputs": [
        {
          "output_type": "execute_result",
          "data": {
            "text/html": [
              "<div>\n",
              "<style scoped>\n",
              "    .dataframe tbody tr th:only-of-type {\n",
              "        vertical-align: middle;\n",
              "    }\n",
              "\n",
              "    .dataframe tbody tr th {\n",
              "        vertical-align: top;\n",
              "    }\n",
              "\n",
              "    .dataframe thead th {\n",
              "        text-align: right;\n",
              "    }\n",
              "</style>\n",
              "<table border=\"1\" class=\"dataframe\">\n",
              "  <thead>\n",
              "    <tr style=\"text-align: right;\">\n",
              "      <th></th>\n",
              "      <th>atom_index_0</th>\n",
              "      <th>atom_index_1</th>\n",
              "      <th>x_0</th>\n",
              "      <th>y_0</th>\n",
              "      <th>z_0</th>\n",
              "      <th>x_1</th>\n",
              "      <th>y_1</th>\n",
              "      <th>z_1</th>\n",
              "      <th>mulliken_charge_0</th>\n",
              "      <th>mulliken_charge_1</th>\n",
              "      <th>distance</th>\n",
              "      <th>type_enc</th>\n",
              "      <th>atom_1_enc</th>\n",
              "      <th>atom_0_enc</th>\n",
              "      <th>pairs_enc</th>\n",
              "      <th>bond_int</th>\n",
              "    </tr>\n",
              "  </thead>\n",
              "  <tbody>\n",
              "    <tr>\n",
              "      <th>0</th>\n",
              "      <td>2</td>\n",
              "      <td>0</td>\n",
              "      <td>-1.004343</td>\n",
              "      <td>0.10386</td>\n",
              "      <td>0.609053</td>\n",
              "      <td>0.339301</td>\n",
              "      <td>0.223874</td>\n",
              "      <td>0.734382</td>\n",
              "      <td>-7.526702e-13</td>\n",
              "      <td>-0.098154</td>\n",
              "      <td>-0.135391</td>\n",
              "      <td>2</td>\n",
              "      <td>0</td>\n",
              "      <td>1</td>\n",
              "      <td>2</td>\n",
              "      <td>0</td>\n",
              "    </tr>\n",
              "    <tr>\n",
              "      <th>1</th>\n",
              "      <td>2</td>\n",
              "      <td>1</td>\n",
              "      <td>-1.004343</td>\n",
              "      <td>0.10386</td>\n",
              "      <td>0.609053</td>\n",
              "      <td>-0.471207</td>\n",
              "      <td>0.223874</td>\n",
              "      <td>0.734382</td>\n",
              "      <td>-7.526702e-13</td>\n",
              "      <td>-0.098154</td>\n",
              "      <td>-1.763005</td>\n",
              "      <td>0</td>\n",
              "      <td>0</td>\n",
              "      <td>1</td>\n",
              "      <td>2</td>\n",
              "      <td>1</td>\n",
              "    </tr>\n",
              "    <tr>\n",
              "      <th>2</th>\n",
              "      <td>2</td>\n",
              "      <td>3</td>\n",
              "      <td>-1.004343</td>\n",
              "      <td>0.10386</td>\n",
              "      <td>0.609053</td>\n",
              "      <td>1.057219</td>\n",
              "      <td>0.223874</td>\n",
              "      <td>0.734382</td>\n",
              "      <td>-7.526702e-13</td>\n",
              "      <td>0.663743</td>\n",
              "      <td>1.306289</td>\n",
              "      <td>6</td>\n",
              "      <td>1</td>\n",
              "      <td>1</td>\n",
              "      <td>11</td>\n",
              "      <td>0</td>\n",
              "    </tr>\n",
              "    <tr>\n",
              "      <th>3</th>\n",
              "      <td>3</td>\n",
              "      <td>0</td>\n",
              "      <td>0.884018</td>\n",
              "      <td>0.10386</td>\n",
              "      <td>0.609053</td>\n",
              "      <td>0.339301</td>\n",
              "      <td>0.223874</td>\n",
              "      <td>0.734382</td>\n",
              "      <td>-7.526702e-13</td>\n",
              "      <td>-0.098154</td>\n",
              "      <td>-1.763005</td>\n",
              "      <td>0</td>\n",
              "      <td>0</td>\n",
              "      <td>1</td>\n",
              "      <td>2</td>\n",
              "      <td>1</td>\n",
              "    </tr>\n",
              "    <tr>\n",
              "      <th>4</th>\n",
              "      <td>3</td>\n",
              "      <td>1</td>\n",
              "      <td>0.884018</td>\n",
              "      <td>0.10386</td>\n",
              "      <td>0.609053</td>\n",
              "      <td>-0.471207</td>\n",
              "      <td>0.223874</td>\n",
              "      <td>0.734382</td>\n",
              "      <td>-7.526702e-13</td>\n",
              "      <td>-0.098154</td>\n",
              "      <td>-0.135391</td>\n",
              "      <td>2</td>\n",
              "      <td>0</td>\n",
              "      <td>1</td>\n",
              "      <td>2</td>\n",
              "      <td>0</td>\n",
              "    </tr>\n",
              "  </tbody>\n",
              "</table>\n",
              "</div>"
            ],
            "text/plain": [
              "   atom_index_0  atom_index_1       x_0  ...  atom_0_enc  pairs_enc  bond_int\n",
              "0             2             0 -1.004343  ...           1          2         0\n",
              "1             2             1 -1.004343  ...           1          2         1\n",
              "2             2             3 -1.004343  ...           1         11         0\n",
              "3             3             0  0.884018  ...           1          2         1\n",
              "4             3             1  0.884018  ...           1          2         0\n",
              "\n",
              "[5 rows x 16 columns]"
            ]
          },
          "metadata": {
            "tags": []
          },
          "execution_count": 12
        }
      ]
    },
    {
      "cell_type": "code",
      "metadata": {
        "id": "6Q5wC_DdlwjM",
        "colab_type": "code",
        "outputId": "fb09e0c8-6fb6-4639-c3a9-7ed8550ce853",
        "colab": {
          "base_uri": "https://localhost:8080/",
          "height": 323
        }
      },
      "source": [
        "train.dtypes"
      ],
      "execution_count": 13,
      "outputs": [
        {
          "output_type": "execute_result",
          "data": {
            "text/plain": [
              "atom_index_0                  int64\n",
              "atom_index_1                  int64\n",
              "x_0                         float64\n",
              "y_0                         float64\n",
              "z_0                         float64\n",
              "x_1                         float64\n",
              "y_1                         float64\n",
              "z_1                         float64\n",
              "mulliken_charge_0           float64\n",
              "mulliken_charge_1           float64\n",
              "scalar_coupling_constant    float64\n",
              "distance                    float64\n",
              "type_enc                      int64\n",
              "atom_1_enc                    int64\n",
              "atom_0_enc                    int64\n",
              "pairs_enc                     int64\n",
              "bond_int                      int64\n",
              "dtype: object"
            ]
          },
          "metadata": {
            "tags": []
          },
          "execution_count": 13
        }
      ]
    },
    {
      "cell_type": "code",
      "metadata": {
        "id": "FMR5iy77lyCc",
        "colab_type": "code",
        "outputId": "fc6809c1-fa3f-4057-80b6-0df8b16fea7f",
        "colab": {
          "base_uri": "https://localhost:8080/",
          "height": 306
        }
      },
      "source": [
        "test.dtypes"
      ],
      "execution_count": 14,
      "outputs": [
        {
          "output_type": "execute_result",
          "data": {
            "text/plain": [
              "atom_index_0           int64\n",
              "atom_index_1           int64\n",
              "x_0                  float64\n",
              "y_0                  float64\n",
              "z_0                  float64\n",
              "x_1                  float64\n",
              "y_1                  float64\n",
              "z_1                  float64\n",
              "mulliken_charge_0    float64\n",
              "mulliken_charge_1    float64\n",
              "distance             float64\n",
              "type_enc               int64\n",
              "atom_1_enc             int64\n",
              "atom_0_enc             int64\n",
              "pairs_enc              int64\n",
              "bond_int               int64\n",
              "dtype: object"
            ]
          },
          "metadata": {
            "tags": []
          },
          "execution_count": 14
        }
      ]
    },
    {
      "cell_type": "code",
      "metadata": {
        "id": "lt8wOjTkl5fR",
        "colab_type": "code",
        "colab": {
          "base_uri": "https://localhost:8080/",
          "height": 51
        },
        "outputId": "f2c2ded3-ff66-41b4-e75a-9ee4c99822fa"
      },
      "source": [
        "print(train.shape)\n",
        "print(test.shape)"
      ],
      "execution_count": 15,
      "outputs": [
        {
          "output_type": "stream",
          "text": [
            "(4658147, 17)\n",
            "(2505542, 16)\n"
          ],
          "name": "stdout"
        }
      ]
    },
    {
      "cell_type": "code",
      "metadata": {
        "id": "R7q9vFFv5va6",
        "colab_type": "code",
        "colab": {}
      },
      "source": [
        ""
      ],
      "execution_count": 0,
      "outputs": []
    },
    {
      "cell_type": "code",
      "metadata": {
        "id": "eOBmZL8X5vRu",
        "colab_type": "code",
        "colab": {}
      },
      "source": [
        ""
      ],
      "execution_count": 0,
      "outputs": []
    },
    {
      "cell_type": "markdown",
      "metadata": {
        "id": "nn54CC0B54v2",
        "colab_type": "text"
      },
      "source": [
        "# Creating training, validation and testing data"
      ]
    },
    {
      "cell_type": "code",
      "metadata": {
        "id": "1FxlHYha_rHn",
        "colab_type": "code",
        "outputId": "97ec74cf-2461-4614-f04a-aafa04705106",
        "colab": {
          "base_uri": "https://localhost:8080/",
          "height": 224
        }
      },
      "source": [
        "x=train.drop('scalar_coupling_constant',axis=1)\n",
        "x.head()"
      ],
      "execution_count": 16,
      "outputs": [
        {
          "output_type": "execute_result",
          "data": {
            "text/html": [
              "<div>\n",
              "<style scoped>\n",
              "    .dataframe tbody tr th:only-of-type {\n",
              "        vertical-align: middle;\n",
              "    }\n",
              "\n",
              "    .dataframe tbody tr th {\n",
              "        vertical-align: top;\n",
              "    }\n",
              "\n",
              "    .dataframe thead th {\n",
              "        text-align: right;\n",
              "    }\n",
              "</style>\n",
              "<table border=\"1\" class=\"dataframe\">\n",
              "  <thead>\n",
              "    <tr style=\"text-align: right;\">\n",
              "      <th></th>\n",
              "      <th>atom_index_0</th>\n",
              "      <th>atom_index_1</th>\n",
              "      <th>x_0</th>\n",
              "      <th>y_0</th>\n",
              "      <th>z_0</th>\n",
              "      <th>x_1</th>\n",
              "      <th>y_1</th>\n",
              "      <th>z_1</th>\n",
              "      <th>mulliken_charge_0</th>\n",
              "      <th>mulliken_charge_1</th>\n",
              "      <th>distance</th>\n",
              "      <th>type_enc</th>\n",
              "      <th>atom_1_enc</th>\n",
              "      <th>atom_0_enc</th>\n",
              "      <th>pairs_enc</th>\n",
              "      <th>bond_int</th>\n",
              "    </tr>\n",
              "  </thead>\n",
              "  <tbody>\n",
              "    <tr>\n",
              "      <th>0</th>\n",
              "      <td>1</td>\n",
              "      <td>0</td>\n",
              "      <td>-0.058940</td>\n",
              "      <td>0.101017</td>\n",
              "      <td>-0.028861</td>\n",
              "      <td>-0.074536</td>\n",
              "      <td>0.838296</td>\n",
              "      <td>-0.055483</td>\n",
              "      <td>0.263942</td>\n",
              "      <td>-2.057703</td>\n",
              "      <td>-1.722482</td>\n",
              "      <td>0</td>\n",
              "      <td>0</td>\n",
              "      <td>1</td>\n",
              "      <td>2</td>\n",
              "      <td>1</td>\n",
              "    </tr>\n",
              "    <tr>\n",
              "      <th>1</th>\n",
              "      <td>1</td>\n",
              "      <td>2</td>\n",
              "      <td>-0.058940</td>\n",
              "      <td>0.101017</td>\n",
              "      <td>-0.028861</td>\n",
              "      <td>0.617919</td>\n",
              "      <td>1.052165</td>\n",
              "      <td>-0.061633</td>\n",
              "      <td>0.263942</td>\n",
              "      <td>0.729230</td>\n",
              "      <td>-0.784301</td>\n",
              "      <td>3</td>\n",
              "      <td>1</td>\n",
              "      <td>1</td>\n",
              "      <td>11</td>\n",
              "      <td>1</td>\n",
              "    </tr>\n",
              "    <tr>\n",
              "      <th>2</th>\n",
              "      <td>1</td>\n",
              "      <td>3</td>\n",
              "      <td>-0.058940</td>\n",
              "      <td>0.101017</td>\n",
              "      <td>-0.028861</td>\n",
              "      <td>-0.431513</td>\n",
              "      <td>1.042984</td>\n",
              "      <td>-0.759868</td>\n",
              "      <td>0.263942</td>\n",
              "      <td>0.729234</td>\n",
              "      <td>-0.784264</td>\n",
              "      <td>3</td>\n",
              "      <td>1</td>\n",
              "      <td>1</td>\n",
              "      <td>11</td>\n",
              "      <td>1</td>\n",
              "    </tr>\n",
              "    <tr>\n",
              "      <th>3</th>\n",
              "      <td>1</td>\n",
              "      <td>4</td>\n",
              "      <td>-0.058940</td>\n",
              "      <td>0.101017</td>\n",
              "      <td>-0.028861</td>\n",
              "      <td>-0.420021</td>\n",
              "      <td>1.037555</td>\n",
              "      <td>0.659852</td>\n",
              "      <td>0.263942</td>\n",
              "      <td>0.729234</td>\n",
              "      <td>-0.784251</td>\n",
              "      <td>3</td>\n",
              "      <td>1</td>\n",
              "      <td>1</td>\n",
              "      <td>11</td>\n",
              "      <td>1</td>\n",
              "    </tr>\n",
              "    <tr>\n",
              "      <th>4</th>\n",
              "      <td>2</td>\n",
              "      <td>0</td>\n",
              "      <td>0.514726</td>\n",
              "      <td>0.793727</td>\n",
              "      <td>-0.029947</td>\n",
              "      <td>-0.074536</td>\n",
              "      <td>0.838296</td>\n",
              "      <td>-0.055483</td>\n",
              "      <td>0.263964</td>\n",
              "      <td>-2.057703</td>\n",
              "      <td>-1.722484</td>\n",
              "      <td>0</td>\n",
              "      <td>0</td>\n",
              "      <td>1</td>\n",
              "      <td>2</td>\n",
              "      <td>1</td>\n",
              "    </tr>\n",
              "  </tbody>\n",
              "</table>\n",
              "</div>"
            ],
            "text/plain": [
              "   atom_index_0  atom_index_1       x_0  ...  atom_0_enc  pairs_enc  bond_int\n",
              "0             1             0 -0.058940  ...           1          2         1\n",
              "1             1             2 -0.058940  ...           1         11         1\n",
              "2             1             3 -0.058940  ...           1         11         1\n",
              "3             1             4 -0.058940  ...           1         11         1\n",
              "4             2             0  0.514726  ...           1          2         1\n",
              "\n",
              "[5 rows x 16 columns]"
            ]
          },
          "metadata": {
            "tags": []
          },
          "execution_count": 16
        }
      ]
    },
    {
      "cell_type": "code",
      "metadata": {
        "id": "69y8suV9_rHt",
        "colab_type": "code",
        "outputId": "ad56b0d6-5803-43ff-c1f8-46762422301e",
        "colab": {
          "base_uri": "https://localhost:8080/",
          "height": 119
        }
      },
      "source": [
        "y=train['scalar_coupling_constant']\n",
        "y.head()"
      ],
      "execution_count": 17,
      "outputs": [
        {
          "output_type": "execute_result",
          "data": {
            "text/plain": [
              "0    84.8076\n",
              "1   -11.2570\n",
              "2   -11.2548\n",
              "3   -11.2543\n",
              "4    84.8074\n",
              "Name: scalar_coupling_constant, dtype: float64"
            ]
          },
          "metadata": {
            "tags": []
          },
          "execution_count": 17
        }
      ]
    },
    {
      "cell_type": "code",
      "metadata": {
        "id": "dfPU-R6P_rH0",
        "colab_type": "code",
        "colab": {}
      },
      "source": [
        "from sklearn.model_selection import train_test_split"
      ],
      "execution_count": 0,
      "outputs": []
    },
    {
      "cell_type": "code",
      "metadata": {
        "id": "-Uw7yBgD_rH7",
        "colab_type": "code",
        "colab": {}
      },
      "source": [
        "x_train,x_val,y_train,y_val=train_test_split(x,y,test_size=0.3)"
      ],
      "execution_count": 0,
      "outputs": []
    },
    {
      "cell_type": "code",
      "metadata": {
        "id": "t4vu5JeB_rIB",
        "colab_type": "code",
        "outputId": "6ce2d4fe-8e17-454d-85c4-7846b6eeb717",
        "colab": {
          "base_uri": "https://localhost:8080/",
          "height": 51
        }
      },
      "source": [
        "print('x_train: {}   y_train: {}'.format(x_train.shape,y_train.shape))\n",
        "print('x_val: {}   y_val: {}'.format(x_val.shape,y_val.shape))"
      ],
      "execution_count": 20,
      "outputs": [
        {
          "output_type": "stream",
          "text": [
            "x_train: (3260702, 16)   y_train: (3260702,)\n",
            "x_val: (1397445, 16)   y_val: (1397445,)\n"
          ],
          "name": "stdout"
        }
      ]
    },
    {
      "cell_type": "code",
      "metadata": {
        "id": "JfRqlI4W_rIU",
        "colab_type": "code",
        "outputId": "9ec8be36-b6a2-4780-90b5-175c8dd09d7e",
        "colab": {
          "base_uri": "https://localhost:8080/",
          "height": 34
        }
      },
      "source": [
        "x_test=test\n",
        "x_test.shape"
      ],
      "execution_count": 21,
      "outputs": [
        {
          "output_type": "execute_result",
          "data": {
            "text/plain": [
              "(2505542, 16)"
            ]
          },
          "metadata": {
            "tags": []
          },
          "execution_count": 21
        }
      ]
    },
    {
      "cell_type": "markdown",
      "metadata": {
        "id": "Mbtu4x0v_rIg",
        "colab_type": "text"
      },
      "source": [
        "# Training & Evaluation"
      ]
    },
    {
      "cell_type": "code",
      "metadata": {
        "id": "041dH63j9Dq0",
        "colab_type": "code",
        "outputId": "3a7f11e5-f258-4f02-f28b-24d5a44e28d6",
        "colab": {
          "base_uri": "https://localhost:8080/",
          "height": 34
        }
      },
      "source": [
        "import gc\n",
        "gc.collect()"
      ],
      "execution_count": 22,
      "outputs": [
        {
          "output_type": "execute_result",
          "data": {
            "text/plain": [
              "0"
            ]
          },
          "metadata": {
            "tags": []
          },
          "execution_count": 22
        }
      ]
    },
    {
      "cell_type": "markdown",
      "metadata": {
        "id": "miw6Nj3Vamx4",
        "colab_type": "text"
      },
      "source": [
        "## Linear Model (Baseline)"
      ]
    },
    {
      "cell_type": "code",
      "metadata": {
        "id": "So1sLtuhalKo",
        "colab_type": "code",
        "colab": {}
      },
      "source": [
        "from sklearn.linear_model import LinearRegression"
      ],
      "execution_count": 0,
      "outputs": []
    },
    {
      "cell_type": "code",
      "metadata": {
        "id": "bc4XHU2oamEn",
        "colab_type": "code",
        "colab": {}
      },
      "source": [
        "model_lr=LinearRegression()"
      ],
      "execution_count": 0,
      "outputs": []
    },
    {
      "cell_type": "code",
      "metadata": {
        "id": "p-mNtT5-al_o",
        "colab_type": "code",
        "colab": {
          "base_uri": "https://localhost:8080/",
          "height": 34
        },
        "outputId": "5248e1d6-8b3d-4151-ecf0-c022eaeacf2b"
      },
      "source": [
        "model_lr.fit(x_train,y_train)"
      ],
      "execution_count": 26,
      "outputs": [
        {
          "output_type": "execute_result",
          "data": {
            "text/plain": [
              "LinearRegression(copy_X=True, fit_intercept=True, n_jobs=None, normalize=False)"
            ]
          },
          "metadata": {
            "tags": []
          },
          "execution_count": 26
        }
      ]
    },
    {
      "cell_type": "code",
      "metadata": {
        "id": "YE60nINHal61",
        "colab_type": "code",
        "colab": {
          "base_uri": "https://localhost:8080/",
          "height": 34
        },
        "outputId": "d4c5a4b4-63ac-4d69-c148-e6f446731cd0"
      },
      "source": [
        "model_lr.score(x_train,y_train)"
      ],
      "execution_count": 29,
      "outputs": [
        {
          "output_type": "execute_result",
          "data": {
            "text/plain": [
              "0.6465675917835193"
            ]
          },
          "metadata": {
            "tags": []
          },
          "execution_count": 29
        }
      ]
    },
    {
      "cell_type": "code",
      "metadata": {
        "id": "pZIhPeQ8al1_",
        "colab_type": "code",
        "colab": {}
      },
      "source": [
        "from sklearn.metrics import mean_absolute_error"
      ],
      "execution_count": 0,
      "outputs": []
    },
    {
      "cell_type": "code",
      "metadata": {
        "id": "Q4PN8xYIalyO",
        "colab_type": "code",
        "colab": {}
      },
      "source": [
        "y_pred=model_lr.predict(x_val)"
      ],
      "execution_count": 0,
      "outputs": []
    },
    {
      "cell_type": "code",
      "metadata": {
        "id": "FrjnCNnZalr7",
        "colab_type": "code",
        "colab": {
          "base_uri": "https://localhost:8080/",
          "height": 34
        },
        "outputId": "9ddc75af-7ed5-4884-b078-a96113fdbfde"
      },
      "source": [
        "mean_absolute_error(y_val,y_pred)"
      ],
      "execution_count": 32,
      "outputs": [
        {
          "output_type": "execute_result",
          "data": {
            "text/plain": [
              "16.263165786971904"
            ]
          },
          "metadata": {
            "tags": []
          },
          "execution_count": 32
        }
      ]
    },
    {
      "cell_type": "markdown",
      "metadata": {
        "id": "iT7BeO-1cfoW",
        "colab_type": "text"
      },
      "source": [
        "## GBM (Baseline)"
      ]
    },
    {
      "cell_type": "code",
      "metadata": {
        "id": "MPMYXuG6almZ",
        "colab_type": "code",
        "colab": {}
      },
      "source": [
        "from sklearn.ensemble import GradientBoostingRegressor"
      ],
      "execution_count": 0,
      "outputs": []
    },
    {
      "cell_type": "code",
      "metadata": {
        "id": "6ZjHylibalhD",
        "colab_type": "code",
        "colab": {}
      },
      "source": [
        "model_gbm=GradientBoostingRegressor()"
      ],
      "execution_count": 0,
      "outputs": []
    },
    {
      "cell_type": "code",
      "metadata": {
        "id": "Z5TDjWrpekYj",
        "colab_type": "code",
        "colab": {
          "base_uri": "https://localhost:8080/",
          "height": 170
        },
        "outputId": "11e3ca2d-ea8a-4414-b293-0d0587f0096a"
      },
      "source": [
        "model_gbm.fit(x_train,y_train)"
      ],
      "execution_count": 35,
      "outputs": [
        {
          "output_type": "execute_result",
          "data": {
            "text/plain": [
              "GradientBoostingRegressor(alpha=0.9, criterion='friedman_mse', init=None,\n",
              "                          learning_rate=0.1, loss='ls', max_depth=3,\n",
              "                          max_features=None, max_leaf_nodes=None,\n",
              "                          min_impurity_decrease=0.0, min_impurity_split=None,\n",
              "                          min_samples_leaf=1, min_samples_split=2,\n",
              "                          min_weight_fraction_leaf=0.0, n_estimators=100,\n",
              "                          n_iter_no_change=None, presort='auto',\n",
              "                          random_state=None, subsample=1.0, tol=0.0001,\n",
              "                          validation_fraction=0.1, verbose=0, warm_start=False)"
            ]
          },
          "metadata": {
            "tags": []
          },
          "execution_count": 35
        }
      ]
    },
    {
      "cell_type": "code",
      "metadata": {
        "id": "q4ZJ0OXpexKv",
        "colab_type": "code",
        "colab": {
          "base_uri": "https://localhost:8080/",
          "height": 34
        },
        "outputId": "86356a24-1105-4180-bab0-19e4aa69559a"
      },
      "source": [
        "model_gbm.score(x_train,y_train)"
      ],
      "execution_count": 36,
      "outputs": [
        {
          "output_type": "execute_result",
          "data": {
            "text/plain": [
              "0.988358235128943"
            ]
          },
          "metadata": {
            "tags": []
          },
          "execution_count": 36
        }
      ]
    },
    {
      "cell_type": "code",
      "metadata": {
        "id": "6tcBUt98exxN",
        "colab_type": "code",
        "colab": {}
      },
      "source": [
        "y_pred=model_gbm.predict(x_val)"
      ],
      "execution_count": 0,
      "outputs": []
    },
    {
      "cell_type": "code",
      "metadata": {
        "id": "5biq2a0vexrV",
        "colab_type": "code",
        "colab": {
          "base_uri": "https://localhost:8080/",
          "height": 34
        },
        "outputId": "af01d9b1-748a-41ec-d080-b7af5e5b69da"
      },
      "source": [
        "mean_absolute_error(y_val,y_pred)"
      ],
      "execution_count": 40,
      "outputs": [
        {
          "output_type": "execute_result",
          "data": {
            "text/plain": [
              "2.4829541034621534"
            ]
          },
          "metadata": {
            "tags": []
          },
          "execution_count": 40
        }
      ]
    },
    {
      "cell_type": "code",
      "metadata": {
        "id": "fUu5rVJEexDb",
        "colab_type": "code",
        "colab": {}
      },
      "source": [
        ""
      ],
      "execution_count": 0,
      "outputs": []
    },
    {
      "cell_type": "markdown",
      "metadata": {
        "id": "_F4rF2fQlHC6",
        "colab_type": "text"
      },
      "source": [
        "## lightgbm (Baseline test)"
      ]
    },
    {
      "cell_type": "code",
      "metadata": {
        "id": "6msU7YyXew6w",
        "colab_type": "code",
        "colab": {}
      },
      "source": [
        "import lightgbm"
      ],
      "execution_count": 0,
      "outputs": []
    },
    {
      "cell_type": "code",
      "metadata": {
        "id": "P4RnichYlOtQ",
        "colab_type": "code",
        "colab": {
          "base_uri": "https://localhost:8080/",
          "height": 582
        },
        "outputId": "ef8ed20f-3ec0-4d5e-9a1c-c607b56d34d6"
      },
      "source": [
        "%%timeit\n",
        "params = {'boosting': 'gbdt', 'colsample_bytree': 1, \n",
        "          'learning_rate': 0.1, 'max_depth': 40, 'metric': 'mae',\n",
        "          'min_child_samples': 50, 'num_leaves': 500, \n",
        "          'objective': 'regression', 'reg_alpha': 0.5, \n",
        "          'reg_lambda': 0.8, 'subsample': 0.5 }\n",
        "lgtrain = lightgbm.Dataset(x_train, label=y_train)\n",
        "lgval = lightgbm.Dataset(x_val, label=y_val)\n",
        "\n",
        "model_lgb = lightgbm.train(params, lgtrain, 5000, \n",
        "                      valid_sets=[lgtrain, lgval], early_stopping_rounds=2, \n",
        "                      verbose_eval=500)\n"
      ],
      "execution_count": 90,
      "outputs": [
        {
          "output_type": "stream",
          "text": [
            "Training until validation scores don't improve for 2 rounds.\n",
            "[500]\ttraining's l1: 1.41036\tvalid_1's l1: 1.51036\n",
            "[1000]\ttraining's l1: 1.2593\tvalid_1's l1: 1.42543\n",
            "[1500]\ttraining's l1: 1.15682\tvalid_1's l1: 1.37838\n",
            "[2000]\ttraining's l1: 1.07693\tvalid_1's l1: 1.34625\n",
            "[2500]\ttraining's l1: 1.00956\tvalid_1's l1: 1.3218\n",
            "Early stopping, best iteration is:\n",
            "[2899]\ttraining's l1: 0.964452\tvalid_1's l1: 1.30726\n",
            "Training until validation scores don't improve for 2 rounds.\n",
            "[500]\ttraining's l1: 1.41036\tvalid_1's l1: 1.51036\n",
            "[1000]\ttraining's l1: 1.2593\tvalid_1's l1: 1.42543\n"
          ],
          "name": "stdout"
        },
        {
          "output_type": "error",
          "ename": "KeyboardInterrupt",
          "evalue": "ignored",
          "traceback": [
            "\u001b[0;31m---------------------------------------------------------------------------\u001b[0m",
            "\u001b[0;31mKeyboardInterrupt\u001b[0m                         Traceback (most recent call last)",
            "\u001b[0;32m<ipython-input-90-b733fd93cb06>\u001b[0m in \u001b[0;36m<module>\u001b[0;34m()\u001b[0m\n\u001b[0;32m----> 1\u001b[0;31m \u001b[0mget_ipython\u001b[0m\u001b[0;34m(\u001b[0m\u001b[0;34m)\u001b[0m\u001b[0;34m.\u001b[0m\u001b[0mrun_cell_magic\u001b[0m\u001b[0;34m(\u001b[0m\u001b[0;34m'timeit'\u001b[0m\u001b[0;34m,\u001b[0m \u001b[0;34m''\u001b[0m\u001b[0;34m,\u001b[0m \u001b[0;34m\"params = {'boosting': 'gbdt', 'colsample_bytree': 1, \\n          'learning_rate': 0.1, 'max_depth': 40, 'metric': 'mae',\\n          'min_child_samples': 50, 'num_leaves': 500, \\n          'objective': 'regression', 'reg_alpha': 0.5, \\n          'reg_lambda': 0.8, 'subsample': 0.5 }\\nlgtrain = lightgbm.Dataset(x_train, label=y_train)\\nlgval = lightgbm.Dataset(x_val, label=y_val)\\n\\nmodel_lgb = lightgbm.train(params, lgtrain, 5000, \\n                      valid_sets=[lgtrain, lgval], early_stopping_rounds=2, \\n                      verbose_eval=500)\"\u001b[0m\u001b[0;34m)\u001b[0m\u001b[0;34m\u001b[0m\u001b[0;34m\u001b[0m\u001b[0m\n\u001b[0m",
            "\u001b[0;32m/usr/local/lib/python3.6/dist-packages/IPython/core/interactiveshell.py\u001b[0m in \u001b[0;36mrun_cell_magic\u001b[0;34m(self, magic_name, line, cell)\u001b[0m\n\u001b[1;32m   2115\u001b[0m             \u001b[0mmagic_arg_s\u001b[0m \u001b[0;34m=\u001b[0m \u001b[0mself\u001b[0m\u001b[0;34m.\u001b[0m\u001b[0mvar_expand\u001b[0m\u001b[0;34m(\u001b[0m\u001b[0mline\u001b[0m\u001b[0;34m,\u001b[0m \u001b[0mstack_depth\u001b[0m\u001b[0;34m)\u001b[0m\u001b[0;34m\u001b[0m\u001b[0;34m\u001b[0m\u001b[0m\n\u001b[1;32m   2116\u001b[0m             \u001b[0;32mwith\u001b[0m \u001b[0mself\u001b[0m\u001b[0;34m.\u001b[0m\u001b[0mbuiltin_trap\u001b[0m\u001b[0;34m:\u001b[0m\u001b[0;34m\u001b[0m\u001b[0;34m\u001b[0m\u001b[0m\n\u001b[0;32m-> 2117\u001b[0;31m                 \u001b[0mresult\u001b[0m \u001b[0;34m=\u001b[0m \u001b[0mfn\u001b[0m\u001b[0;34m(\u001b[0m\u001b[0mmagic_arg_s\u001b[0m\u001b[0;34m,\u001b[0m \u001b[0mcell\u001b[0m\u001b[0;34m)\u001b[0m\u001b[0;34m\u001b[0m\u001b[0;34m\u001b[0m\u001b[0m\n\u001b[0m\u001b[1;32m   2118\u001b[0m             \u001b[0;32mreturn\u001b[0m \u001b[0mresult\u001b[0m\u001b[0;34m\u001b[0m\u001b[0;34m\u001b[0m\u001b[0m\n\u001b[1;32m   2119\u001b[0m \u001b[0;34m\u001b[0m\u001b[0m\n",
            "\u001b[0;32m</usr/local/lib/python3.6/dist-packages/decorator.py:decorator-gen-59>\u001b[0m in \u001b[0;36mtimeit\u001b[0;34m(self, line, cell)\u001b[0m\n",
            "\u001b[0;32m/usr/local/lib/python3.6/dist-packages/IPython/core/magic.py\u001b[0m in \u001b[0;36m<lambda>\u001b[0;34m(f, *a, **k)\u001b[0m\n\u001b[1;32m    186\u001b[0m     \u001b[0;31m# but it's overkill for just that one bit of state.\u001b[0m\u001b[0;34m\u001b[0m\u001b[0;34m\u001b[0m\u001b[0;34m\u001b[0m\u001b[0m\n\u001b[1;32m    187\u001b[0m     \u001b[0;32mdef\u001b[0m \u001b[0mmagic_deco\u001b[0m\u001b[0;34m(\u001b[0m\u001b[0marg\u001b[0m\u001b[0;34m)\u001b[0m\u001b[0;34m:\u001b[0m\u001b[0;34m\u001b[0m\u001b[0;34m\u001b[0m\u001b[0m\n\u001b[0;32m--> 188\u001b[0;31m         \u001b[0mcall\u001b[0m \u001b[0;34m=\u001b[0m \u001b[0;32mlambda\u001b[0m \u001b[0mf\u001b[0m\u001b[0;34m,\u001b[0m \u001b[0;34m*\u001b[0m\u001b[0ma\u001b[0m\u001b[0;34m,\u001b[0m \u001b[0;34m**\u001b[0m\u001b[0mk\u001b[0m\u001b[0;34m:\u001b[0m \u001b[0mf\u001b[0m\u001b[0;34m(\u001b[0m\u001b[0;34m*\u001b[0m\u001b[0ma\u001b[0m\u001b[0;34m,\u001b[0m \u001b[0;34m**\u001b[0m\u001b[0mk\u001b[0m\u001b[0;34m)\u001b[0m\u001b[0;34m\u001b[0m\u001b[0;34m\u001b[0m\u001b[0m\n\u001b[0m\u001b[1;32m    189\u001b[0m \u001b[0;34m\u001b[0m\u001b[0m\n\u001b[1;32m    190\u001b[0m         \u001b[0;32mif\u001b[0m \u001b[0mcallable\u001b[0m\u001b[0;34m(\u001b[0m\u001b[0marg\u001b[0m\u001b[0;34m)\u001b[0m\u001b[0;34m:\u001b[0m\u001b[0;34m\u001b[0m\u001b[0;34m\u001b[0m\u001b[0m\n",
            "\u001b[0;32m/usr/local/lib/python3.6/dist-packages/IPython/core/magics/execution.py\u001b[0m in \u001b[0;36mtimeit\u001b[0;34m(self, line, cell)\u001b[0m\n\u001b[1;32m   1060\u001b[0m                     \u001b[0;32mbreak\u001b[0m\u001b[0;34m\u001b[0m\u001b[0;34m\u001b[0m\u001b[0m\n\u001b[1;32m   1061\u001b[0m                 \u001b[0mnumber\u001b[0m \u001b[0;34m*=\u001b[0m \u001b[0;36m10\u001b[0m\u001b[0;34m\u001b[0m\u001b[0;34m\u001b[0m\u001b[0m\n\u001b[0;32m-> 1062\u001b[0;31m         \u001b[0mall_runs\u001b[0m \u001b[0;34m=\u001b[0m \u001b[0mtimer\u001b[0m\u001b[0;34m.\u001b[0m\u001b[0mrepeat\u001b[0m\u001b[0;34m(\u001b[0m\u001b[0mrepeat\u001b[0m\u001b[0;34m,\u001b[0m \u001b[0mnumber\u001b[0m\u001b[0;34m)\u001b[0m\u001b[0;34m\u001b[0m\u001b[0;34m\u001b[0m\u001b[0m\n\u001b[0m\u001b[1;32m   1063\u001b[0m         \u001b[0mbest\u001b[0m \u001b[0;34m=\u001b[0m \u001b[0mmin\u001b[0m\u001b[0;34m(\u001b[0m\u001b[0mall_runs\u001b[0m\u001b[0;34m)\u001b[0m \u001b[0;34m/\u001b[0m \u001b[0mnumber\u001b[0m\u001b[0;34m\u001b[0m\u001b[0;34m\u001b[0m\u001b[0m\n\u001b[1;32m   1064\u001b[0m \u001b[0;34m\u001b[0m\u001b[0m\n",
            "\u001b[0;32m/usr/lib/python3.6/timeit.py\u001b[0m in \u001b[0;36mrepeat\u001b[0;34m(self, repeat, number)\u001b[0m\n\u001b[1;32m    204\u001b[0m         \u001b[0mr\u001b[0m \u001b[0;34m=\u001b[0m \u001b[0;34m[\u001b[0m\u001b[0;34m]\u001b[0m\u001b[0;34m\u001b[0m\u001b[0;34m\u001b[0m\u001b[0m\n\u001b[1;32m    205\u001b[0m         \u001b[0;32mfor\u001b[0m \u001b[0mi\u001b[0m \u001b[0;32min\u001b[0m \u001b[0mrange\u001b[0m\u001b[0;34m(\u001b[0m\u001b[0mrepeat\u001b[0m\u001b[0;34m)\u001b[0m\u001b[0;34m:\u001b[0m\u001b[0;34m\u001b[0m\u001b[0;34m\u001b[0m\u001b[0m\n\u001b[0;32m--> 206\u001b[0;31m             \u001b[0mt\u001b[0m \u001b[0;34m=\u001b[0m \u001b[0mself\u001b[0m\u001b[0;34m.\u001b[0m\u001b[0mtimeit\u001b[0m\u001b[0;34m(\u001b[0m\u001b[0mnumber\u001b[0m\u001b[0;34m)\u001b[0m\u001b[0;34m\u001b[0m\u001b[0;34m\u001b[0m\u001b[0m\n\u001b[0m\u001b[1;32m    207\u001b[0m             \u001b[0mr\u001b[0m\u001b[0;34m.\u001b[0m\u001b[0mappend\u001b[0m\u001b[0;34m(\u001b[0m\u001b[0mt\u001b[0m\u001b[0;34m)\u001b[0m\u001b[0;34m\u001b[0m\u001b[0;34m\u001b[0m\u001b[0m\n\u001b[1;32m    208\u001b[0m         \u001b[0;32mreturn\u001b[0m \u001b[0mr\u001b[0m\u001b[0;34m\u001b[0m\u001b[0;34m\u001b[0m\u001b[0m\n",
            "\u001b[0;32m/usr/local/lib/python3.6/dist-packages/IPython/core/magics/execution.py\u001b[0m in \u001b[0;36mtimeit\u001b[0;34m(self, number)\u001b[0m\n\u001b[1;32m    137\u001b[0m         \u001b[0mgc\u001b[0m\u001b[0;34m.\u001b[0m\u001b[0mdisable\u001b[0m\u001b[0;34m(\u001b[0m\u001b[0;34m)\u001b[0m\u001b[0;34m\u001b[0m\u001b[0;34m\u001b[0m\u001b[0m\n\u001b[1;32m    138\u001b[0m         \u001b[0;32mtry\u001b[0m\u001b[0;34m:\u001b[0m\u001b[0;34m\u001b[0m\u001b[0;34m\u001b[0m\u001b[0m\n\u001b[0;32m--> 139\u001b[0;31m             \u001b[0mtiming\u001b[0m \u001b[0;34m=\u001b[0m \u001b[0mself\u001b[0m\u001b[0;34m.\u001b[0m\u001b[0minner\u001b[0m\u001b[0;34m(\u001b[0m\u001b[0mit\u001b[0m\u001b[0;34m,\u001b[0m \u001b[0mself\u001b[0m\u001b[0;34m.\u001b[0m\u001b[0mtimer\u001b[0m\u001b[0;34m)\u001b[0m\u001b[0;34m\u001b[0m\u001b[0;34m\u001b[0m\u001b[0m\n\u001b[0m\u001b[1;32m    140\u001b[0m         \u001b[0;32mfinally\u001b[0m\u001b[0;34m:\u001b[0m\u001b[0;34m\u001b[0m\u001b[0;34m\u001b[0m\u001b[0m\n\u001b[1;32m    141\u001b[0m             \u001b[0;32mif\u001b[0m \u001b[0mgcold\u001b[0m\u001b[0;34m:\u001b[0m\u001b[0;34m\u001b[0m\u001b[0;34m\u001b[0m\u001b[0m\n",
            "\u001b[0;32m<magic-timeit>\u001b[0m in \u001b[0;36minner\u001b[0;34m(_it, _timer)\u001b[0m\n",
            "\u001b[0;32m/usr/local/lib/python3.6/dist-packages/lightgbm/engine.py\u001b[0m in \u001b[0;36mtrain\u001b[0;34m(params, train_set, num_boost_round, valid_sets, valid_names, fobj, feval, init_model, feature_name, categorical_feature, early_stopping_rounds, evals_result, verbose_eval, learning_rates, keep_training_booster, callbacks)\u001b[0m\n\u001b[1;32m    216\u001b[0m                                     evaluation_result_list=None))\n\u001b[1;32m    217\u001b[0m \u001b[0;34m\u001b[0m\u001b[0m\n\u001b[0;32m--> 218\u001b[0;31m         \u001b[0mbooster\u001b[0m\u001b[0;34m.\u001b[0m\u001b[0mupdate\u001b[0m\u001b[0;34m(\u001b[0m\u001b[0mfobj\u001b[0m\u001b[0;34m=\u001b[0m\u001b[0mfobj\u001b[0m\u001b[0;34m)\u001b[0m\u001b[0;34m\u001b[0m\u001b[0;34m\u001b[0m\u001b[0m\n\u001b[0m\u001b[1;32m    219\u001b[0m \u001b[0;34m\u001b[0m\u001b[0m\n\u001b[1;32m    220\u001b[0m         \u001b[0mevaluation_result_list\u001b[0m \u001b[0;34m=\u001b[0m \u001b[0;34m[\u001b[0m\u001b[0;34m]\u001b[0m\u001b[0;34m\u001b[0m\u001b[0;34m\u001b[0m\u001b[0m\n",
            "\u001b[0;32m/usr/local/lib/python3.6/dist-packages/lightgbm/basic.py\u001b[0m in \u001b[0;36mupdate\u001b[0;34m(self, train_set, fobj)\u001b[0m\n\u001b[1;32m   1800\u001b[0m             _safe_call(_LIB.LGBM_BoosterUpdateOneIter(\n\u001b[1;32m   1801\u001b[0m                 \u001b[0mself\u001b[0m\u001b[0;34m.\u001b[0m\u001b[0mhandle\u001b[0m\u001b[0;34m,\u001b[0m\u001b[0;34m\u001b[0m\u001b[0;34m\u001b[0m\u001b[0m\n\u001b[0;32m-> 1802\u001b[0;31m                 ctypes.byref(is_finished)))\n\u001b[0m\u001b[1;32m   1803\u001b[0m             \u001b[0mself\u001b[0m\u001b[0;34m.\u001b[0m\u001b[0m__is_predicted_cur_iter\u001b[0m \u001b[0;34m=\u001b[0m \u001b[0;34m[\u001b[0m\u001b[0;32mFalse\u001b[0m \u001b[0;32mfor\u001b[0m \u001b[0m_\u001b[0m \u001b[0;32min\u001b[0m \u001b[0mrange_\u001b[0m\u001b[0;34m(\u001b[0m\u001b[0mself\u001b[0m\u001b[0;34m.\u001b[0m\u001b[0m__num_dataset\u001b[0m\u001b[0;34m)\u001b[0m\u001b[0;34m]\u001b[0m\u001b[0;34m\u001b[0m\u001b[0;34m\u001b[0m\u001b[0m\n\u001b[1;32m   1804\u001b[0m             \u001b[0;32mreturn\u001b[0m \u001b[0mis_finished\u001b[0m\u001b[0;34m.\u001b[0m\u001b[0mvalue\u001b[0m \u001b[0;34m==\u001b[0m \u001b[0;36m1\u001b[0m\u001b[0;34m\u001b[0m\u001b[0;34m\u001b[0m\u001b[0m\n",
            "\u001b[0;31mKeyboardInterrupt\u001b[0m: "
          ]
        }
      ]
    },
    {
      "cell_type": "code",
      "metadata": {
        "id": "1g1bR_N-lOo1",
        "colab_type": "code",
        "colab": {
          "base_uri": "https://localhost:8080/",
          "height": 164
        },
        "outputId": "1517ab49-5dfb-4566-ac3b-bc020c5b1c43"
      },
      "source": [
        "y_pred = model_lgb.predict(x_val)"
      ],
      "execution_count": 47,
      "outputs": [
        {
          "output_type": "error",
          "ename": "NameError",
          "evalue": "ignored",
          "traceback": [
            "\u001b[0;31m---------------------------------------------------------------------------\u001b[0m",
            "\u001b[0;31mNameError\u001b[0m                                 Traceback (most recent call last)",
            "\u001b[0;32m<ipython-input-47-0ce0ccf1f802>\u001b[0m in \u001b[0;36m<module>\u001b[0;34m()\u001b[0m\n\u001b[0;32m----> 1\u001b[0;31m \u001b[0my_pred\u001b[0m \u001b[0;34m=\u001b[0m \u001b[0mmodel_lgb\u001b[0m\u001b[0;34m.\u001b[0m\u001b[0mpredict\u001b[0m\u001b[0;34m(\u001b[0m\u001b[0mx_val\u001b[0m\u001b[0;34m)\u001b[0m\u001b[0;34m\u001b[0m\u001b[0;34m\u001b[0m\u001b[0m\n\u001b[0m",
            "\u001b[0;31mNameError\u001b[0m: name 'model_lgb' is not defined"
          ]
        }
      ]
    },
    {
      "cell_type": "markdown",
      "metadata": {
        "id": "jqo4YC3xke90",
        "colab_type": "text"
      },
      "source": [
        "## xgboost (baseline)"
      ]
    },
    {
      "cell_type": "code",
      "metadata": {
        "id": "9115wTEVlOiE",
        "colab_type": "code",
        "colab": {}
      },
      "source": [
        "import xgboost as xgb"
      ],
      "execution_count": 0,
      "outputs": []
    },
    {
      "cell_type": "code",
      "metadata": {
        "id": "soIxYse-lObp",
        "colab_type": "code",
        "colab": {}
      },
      "source": [
        ""
      ],
      "execution_count": 0,
      "outputs": []
    },
    {
      "cell_type": "markdown",
      "metadata": {
        "id": "3o21WUAJaxer",
        "colab_type": "text"
      },
      "source": [
        "## NN Model"
      ]
    },
    {
      "cell_type": "code",
      "metadata": {
        "id": "riBObD5Llnc5",
        "colab_type": "code",
        "colab": {}
      },
      "source": [
        "def plot_history(history):\n",
        "  hist = pd.DataFrame(history.history)\n",
        "  hist['epoch'] = history.epoch\n",
        "  plt.figure(figsize=(15,8))\n",
        "  plt.xlabel('Epoch')\n",
        "  plt.ylabel('Mean Abs Error')\n",
        "  plt.plot(hist['epoch'], hist['loss'],\n",
        "           label='Train Error')\n",
        "  plt.plot(hist['epoch'], hist['val_loss'],\n",
        "           label = 'Val Error')\n",
        "  plt.ylim([0,20])\n",
        "  plt.legend()\n",
        "\n",
        "\n",
        "  plt.show()"
      ],
      "execution_count": 0,
      "outputs": []
    },
    {
      "cell_type": "markdown",
      "metadata": {
        "id": "05Ixa1Wz5zyK",
        "colab_type": "text"
      },
      "source": [
        "### Shallow NN"
      ]
    },
    {
      "cell_type": "code",
      "metadata": {
        "id": "68k2eU0a_rIh",
        "colab_type": "code",
        "outputId": "f06746a7-35e6-45eb-9188-9dc6c8823cb4",
        "colab": {
          "base_uri": "https://localhost:8080/",
          "height": 289
        }
      },
      "source": [
        "input_shape=(16,)\n",
        "model_nn_small=keras.Sequential()\n",
        "model_nn_small.add(keras.layers.Dense(10,activation='relu',input_shape=input_shape))\n",
        "model_nn_small.add(keras.layers.Dense(20,activation='relu'))\n",
        "model_nn_small.add(keras.layers.Dense(20,activation='relu'))\n",
        "model_nn_small.add(keras.layers.Dense(1))\n",
        "\n",
        "model_nn_small.summary()"
      ],
      "execution_count": 53,
      "outputs": [
        {
          "output_type": "stream",
          "text": [
            "Model: \"sequential_1\"\n",
            "_________________________________________________________________\n",
            "Layer (type)                 Output Shape              Param #   \n",
            "=================================================================\n",
            "dense_8 (Dense)              (None, 10)                170       \n",
            "_________________________________________________________________\n",
            "dense_9 (Dense)              (None, 20)                220       \n",
            "_________________________________________________________________\n",
            "dense_10 (Dense)             (None, 20)                420       \n",
            "_________________________________________________________________\n",
            "dense_11 (Dense)             (None, 1)                 21        \n",
            "=================================================================\n",
            "Total params: 831\n",
            "Trainable params: 831\n",
            "Non-trainable params: 0\n",
            "_________________________________________________________________\n"
          ],
          "name": "stdout"
        }
      ]
    },
    {
      "cell_type": "code",
      "metadata": {
        "id": "dgs9mXm0_rIt",
        "colab_type": "code",
        "colab": {}
      },
      "source": [
        "model_nn_small.compile(optimizer='adam',loss='mean_absolute_error')"
      ],
      "execution_count": 0,
      "outputs": []
    },
    {
      "cell_type": "code",
      "metadata": {
        "id": "oobsTgkw_rI3",
        "colab_type": "code",
        "outputId": "3ceb420d-02c9-4d7d-a17d-8b880cc3deaa",
        "colab": {
          "base_uri": "https://localhost:8080/",
          "height": 731
        }
      },
      "source": [
        "model_nn_small.fit(x_train,y_train,epochs=20,batch_size=512,validation_data=(x_val,y_val))"
      ],
      "execution_count": 55,
      "outputs": [
        {
          "output_type": "stream",
          "text": [
            "Train on 3260702 samples, validate on 1397445 samples\n",
            "Epoch 1/20\n",
            "3260702/3260702 [==============================] - 28s 8us/sample - loss: 3.9966 - val_loss: 3.3210\n",
            "Epoch 2/20\n",
            "3260702/3260702 [==============================] - 24s 7us/sample - loss: 3.2898 - val_loss: 3.2375\n",
            "Epoch 3/20\n",
            "3260702/3260702 [==============================] - 24s 7us/sample - loss: 3.1999 - val_loss: 3.1575\n",
            "Epoch 4/20\n",
            "3260702/3260702 [==============================] - 24s 7us/sample - loss: 3.1303 - val_loss: 3.0933\n",
            "Epoch 5/20\n",
            "3260702/3260702 [==============================] - 24s 7us/sample - loss: 3.0936 - val_loss: 3.0836\n",
            "Epoch 6/20\n",
            "3260702/3260702 [==============================] - 25s 8us/sample - loss: 3.0389 - val_loss: 3.0108\n",
            "Epoch 7/20\n",
            "3260702/3260702 [==============================] - 24s 7us/sample - loss: 3.0091 - val_loss: 2.9942\n",
            "Epoch 8/20\n",
            "3260702/3260702 [==============================] - 24s 7us/sample - loss: 2.9875 - val_loss: 2.9861\n",
            "Epoch 9/20\n",
            "3260702/3260702 [==============================] - 24s 7us/sample - loss: 2.9677 - val_loss: 2.9733\n",
            "Epoch 10/20\n",
            "3260702/3260702 [==============================] - 24s 8us/sample - loss: 2.9479 - val_loss: 2.9212\n",
            "Epoch 11/20\n",
            "3260702/3260702 [==============================] - 24s 7us/sample - loss: 2.9134 - val_loss: 2.8795\n",
            "Epoch 12/20\n",
            "3260702/3260702 [==============================] - 23s 7us/sample - loss: 2.8787 - val_loss: 2.8473\n",
            "Epoch 13/20\n",
            "3260702/3260702 [==============================] - 24s 7us/sample - loss: 2.8492 - val_loss: 2.8195\n",
            "Epoch 14/20\n",
            "3260702/3260702 [==============================] - 23s 7us/sample - loss: 2.8209 - val_loss: 2.8246\n",
            "Epoch 15/20\n",
            "3260702/3260702 [==============================] - 24s 7us/sample - loss: 2.7928 - val_loss: 2.7904\n",
            "Epoch 16/20\n",
            "3260702/3260702 [==============================] - 23s 7us/sample - loss: 2.7725 - val_loss: 2.7924\n",
            "Epoch 17/20\n",
            "3260702/3260702 [==============================] - 24s 7us/sample - loss: 2.7571 - val_loss: 2.7297\n",
            "Epoch 18/20\n",
            "3260702/3260702 [==============================] - 23s 7us/sample - loss: 2.7445 - val_loss: 2.7263\n",
            "Epoch 19/20\n",
            "3260702/3260702 [==============================] - 24s 7us/sample - loss: 2.7352 - val_loss: 2.7462\n",
            "Epoch 20/20\n",
            "3260702/3260702 [==============================] - 23s 7us/sample - loss: 2.7248 - val_loss: 2.7216\n"
          ],
          "name": "stdout"
        },
        {
          "output_type": "execute_result",
          "data": {
            "text/plain": [
              "<tensorflow.python.keras.callbacks.History at 0x7f0351bb1da0>"
            ]
          },
          "metadata": {
            "tags": []
          },
          "execution_count": 55
        }
      ]
    },
    {
      "cell_type": "markdown",
      "metadata": {
        "id": "baIejqQ85uPf",
        "colab_type": "text"
      },
      "source": [
        "###  DNN"
      ]
    },
    {
      "cell_type": "code",
      "metadata": {
        "id": "XRxPSFVo53uu",
        "colab_type": "code",
        "colab": {
          "base_uri": "https://localhost:8080/",
          "height": 459
        },
        "outputId": "31742c83-2921-4b07-a235-e5d2fc6245f0"
      },
      "source": [
        "input_shape=(16,)\n",
        "model_dnn=keras.Sequential()\n",
        "model_dnn.add(keras.layers.Dense(64,activation='relu',input_shape=input_shape))\n",
        "model_dnn.add(keras.layers.Dense(128,activation='relu'))\n",
        "model_dnn.add(keras.layers.Dense(256,activation='relu'))\n",
        "model_dnn.add(keras.layers.Dense(512,activation='relu'))\n",
        "model_dnn.add(keras.layers.Dense(512,activation='relu'))\n",
        "model_dnn.add(keras.layers.Dense(128,activation='relu'))\n",
        "model_dnn.add(keras.layers.Dense(64,activation='relu'))\n",
        "model_dnn.add(keras.layers.Dense(8,activation='relu'))\n",
        "model_dnn.add(keras.layers.Dense(1))\n",
        "\n",
        "model_dnn.summary()"
      ],
      "execution_count": 93,
      "outputs": [
        {
          "output_type": "stream",
          "text": [
            "Model: \"sequential_5\"\n",
            "_________________________________________________________________\n",
            "Layer (type)                 Output Shape              Param #   \n",
            "=================================================================\n",
            "dense_39 (Dense)             (None, 64)                1088      \n",
            "_________________________________________________________________\n",
            "dense_40 (Dense)             (None, 128)               8320      \n",
            "_________________________________________________________________\n",
            "dense_41 (Dense)             (None, 256)               33024     \n",
            "_________________________________________________________________\n",
            "dense_42 (Dense)             (None, 512)               131584    \n",
            "_________________________________________________________________\n",
            "dense_43 (Dense)             (None, 512)               262656    \n",
            "_________________________________________________________________\n",
            "dense_44 (Dense)             (None, 128)               65664     \n",
            "_________________________________________________________________\n",
            "dense_45 (Dense)             (None, 64)                8256      \n",
            "_________________________________________________________________\n",
            "dense_46 (Dense)             (None, 8)                 520       \n",
            "_________________________________________________________________\n",
            "dense_47 (Dense)             (None, 1)                 9         \n",
            "=================================================================\n",
            "Total params: 511,121\n",
            "Trainable params: 511,121\n",
            "Non-trainable params: 0\n",
            "_________________________________________________________________\n"
          ],
          "name": "stdout"
        }
      ]
    },
    {
      "cell_type": "code",
      "metadata": {
        "id": "cf7mEtSD53pC",
        "colab_type": "code",
        "colab": {}
      },
      "source": [
        "model_dnn.compile(optimizer=tf.train.AdamOptimizer(learning_rate=0.01),loss='mean_absolute_error')"
      ],
      "execution_count": 0,
      "outputs": []
    },
    {
      "cell_type": "code",
      "metadata": {
        "id": "aLXeNgfJ53ib",
        "colab_type": "code",
        "colab": {
          "base_uri": "https://localhost:8080/",
          "height": 1000
        },
        "outputId": "c5f05f55-5966-4e85-9e59-4a80ea7d7ab1"
      },
      "source": [
        "history=model_dnn.fit(x_train,y_train,epochs=30,batch_size=512,validation_data=(x_val,y_val))"
      ],
      "execution_count": 101,
      "outputs": [
        {
          "output_type": "stream",
          "text": [
            "Train on 3260702 samples, validate on 1397445 samples\n",
            "Epoch 1/30\n",
            "3260702/3260702 [==============================] - 34s 11us/sample - loss: 4.0756 - val_loss: 4.2941\n",
            "Epoch 2/30\n",
            "3260702/3260702 [==============================] - 33s 10us/sample - loss: 4.3109 - val_loss: 4.3459\n",
            "Epoch 3/30\n",
            "3260702/3260702 [==============================] - 33s 10us/sample - loss: 4.2874 - val_loss: 4.2649\n",
            "Epoch 4/30\n",
            "3260702/3260702 [==============================] - 34s 10us/sample - loss: 4.2680 - val_loss: 4.1865\n",
            "Epoch 5/30\n",
            "3260702/3260702 [==============================] - 33s 10us/sample - loss: 4.2460 - val_loss: 4.2146\n",
            "Epoch 6/30\n",
            "3260702/3260702 [==============================] - 33s 10us/sample - loss: 4.2319 - val_loss: 4.1680\n",
            "Epoch 7/30\n",
            "3260702/3260702 [==============================] - 33s 10us/sample - loss: 4.2263 - val_loss: 4.2226\n",
            "Epoch 8/30\n",
            "3260702/3260702 [==============================] - 33s 10us/sample - loss: 4.2128 - val_loss: 4.2664\n",
            "Epoch 9/30\n",
            "3260702/3260702 [==============================] - 33s 10us/sample - loss: 4.8300 - val_loss: 4.2555\n",
            "Epoch 10/30\n",
            "3260702/3260702 [==============================] - 33s 10us/sample - loss: 4.2581 - val_loss: 4.3321\n",
            "Epoch 11/30\n",
            "3260702/3260702 [==============================] - 33s 10us/sample - loss: 4.2288 - val_loss: 4.2359\n",
            "Epoch 12/30\n",
            "3260702/3260702 [==============================] - 33s 10us/sample - loss: 4.2105 - val_loss: 4.3369\n",
            "Epoch 13/30\n",
            "3260702/3260702 [==============================] - 33s 10us/sample - loss: 4.1972 - val_loss: 4.1735\n",
            "Epoch 14/30\n",
            "3260702/3260702 [==============================] - 34s 10us/sample - loss: 4.2685 - val_loss: 4.1699\n",
            "Epoch 15/30\n",
            "3260702/3260702 [==============================] - 33s 10us/sample - loss: 4.2372 - val_loss: 4.2640\n",
            "Epoch 16/30\n",
            "3260702/3260702 [==============================] - 33s 10us/sample - loss: 4.2119 - val_loss: 4.1406\n",
            "Epoch 17/30\n",
            "3260702/3260702 [==============================] - 33s 10us/sample - loss: 4.2070 - val_loss: 4.1755\n",
            "Epoch 18/30\n",
            "3260702/3260702 [==============================] - 33s 10us/sample - loss: 4.2739 - val_loss: 4.2449\n",
            "Epoch 19/30\n",
            "3260702/3260702 [==============================] - 33s 10us/sample - loss: 4.3150 - val_loss: 4.2594\n",
            "Epoch 20/30\n",
            "3260702/3260702 [==============================] - 33s 10us/sample - loss: 4.6811 - val_loss: 4.7428\n",
            "Epoch 21/30\n",
            "3260702/3260702 [==============================] - 33s 10us/sample - loss: 4.8488 - val_loss: 4.7884\n",
            "Epoch 22/30\n",
            "3260702/3260702 [==============================] - 33s 10us/sample - loss: 4.6966 - val_loss: 4.7142\n",
            "Epoch 23/30\n",
            "3260702/3260702 [==============================] - 34s 10us/sample - loss: 16.5898 - val_loss: 17.8400\n",
            "Epoch 24/30\n",
            "3260702/3260702 [==============================] - 33s 10us/sample - loss: 12.3786 - val_loss: 17.8231\n",
            "Epoch 25/30\n",
            "3260702/3260702 [==============================] - 33s 10us/sample - loss: 5.6993 - val_loss: 5.4168\n",
            "Epoch 26/30\n",
            "3260702/3260702 [==============================] - 33s 10us/sample - loss: 5.4224 - val_loss: 5.4173\n",
            "Epoch 27/30\n",
            "3260702/3260702 [==============================] - 33s 10us/sample - loss: 5.4224 - val_loss: 5.4181\n",
            "Epoch 28/30\n",
            "3260702/3260702 [==============================] - 33s 10us/sample - loss: 5.4225 - val_loss: 5.4268\n",
            "Epoch 29/30\n",
            "3260702/3260702 [==============================] - 33s 10us/sample - loss: 5.4226 - val_loss: 5.4334\n",
            "Epoch 30/30\n",
            "3260702/3260702 [==============================] - 33s 10us/sample - loss: 5.4224 - val_loss: 5.4176\n"
          ],
          "name": "stdout"
        }
      ]
    },
    {
      "cell_type": "code",
      "metadata": {
        "id": "W64LdZN9FBaw",
        "colab_type": "code",
        "colab": {
          "base_uri": "https://localhost:8080/",
          "height": 501
        },
        "outputId": "d9979893-8b0c-42c1-e57f-d77fdf1ccd87"
      },
      "source": [
        "plot_history(history)"
      ],
      "execution_count": 104,
      "outputs": [
        {
          "output_type": "display_data",
          "data": {
            "image/png": "[encoded data removed]",
            "text/plain": [
              "<Figure size 1080x576 with 1 Axes>"
            ]
          },
          "metadata": {
            "tags": []
          }
        }
      ]
    },
    {
      "cell_type": "code",
      "metadata": {
        "id": "3n7g2bZYEwi8",
        "colab_type": "code",
        "colab": {}
      },
      "source": [
        ""
      ],
      "execution_count": 0,
      "outputs": []
    },
    {
      "cell_type": "markdown",
      "metadata": {
        "id": "gLQsXUR-D-gg",
        "colab_type": "text"
      },
      "source": [
        "# Train on whole data with the best model"
      ]
    },
    {
      "cell_type": "code",
      "metadata": {
        "id": "fLzXi6OEEDT8",
        "colab_type": "code",
        "outputId": "910582af-b7bd-46dc-e926-2c5ef11916b6",
        "colab": {
          "base_uri": "https://localhost:8080/",
          "height": 221
        }
      },
      "source": [
        "model_dnn.fit(x,y,epochs=5,batch_size=512,validation_data=(x_val,y_val))"
      ],
      "execution_count": 0,
      "outputs": [
        {
          "output_type": "stream",
          "text": [
            "Train on 4658147 samples, validate on 1397445 samples\n",
            "Epoch 1/5\n",
            "4658147/4658147 [==============================] - 41s 9us/sample - loss: 3.1120 - val_loss: 3.0486\n",
            "Epoch 2/5\n",
            "4658147/4658147 [==============================] - 41s 9us/sample - loss: 3.0955 - val_loss: 3.1948\n",
            "Epoch 3/5\n",
            "4658147/4658147 [==============================] - 41s 9us/sample - loss: 3.0829 - val_loss: 3.0855\n",
            "Epoch 4/5\n",
            "4658147/4658147 [==============================] - 41s 9us/sample - loss: 3.0748 - val_loss: 2.9660\n",
            "Epoch 5/5\n",
            "4658147/4658147 [==============================] - 40s 9us/sample - loss: 3.0661 - val_loss: 3.0940\n"
          ],
          "name": "stdout"
        },
        {
          "output_type": "execute_result",
          "data": {
            "text/plain": [
              "<tensorflow.python.keras.callbacks.History at 0x7f44c7110588>"
            ]
          },
          "metadata": {
            "tags": []
          },
          "execution_count": 23
        }
      ]
    },
    {
      "cell_type": "markdown",
      "metadata": {
        "id": "bsWsfTC3_rJe",
        "colab_type": "text"
      },
      "source": [
        "# Serialize the model"
      ]
    },
    {
      "cell_type": "code",
      "metadata": {
        "id": "4mm-Sy-R_rJh",
        "colab_type": "code",
        "colab": {
          "base_uri": "https://localhost:8080/",
          "height": 54
        },
        "outputId": "455e8963-f54a-40df-cf4a-9d6364f86b09"
      },
      "source": [
        "tf.keras.models.save_model(model_dnn,'kaggle_model_dnn_exp_1.h5',overwrite=True,include_optimizer=True)"
      ],
      "execution_count": 106,
      "outputs": [
        {
          "output_type": "stream",
          "text": [
            "W0816 20:01:40.772604 139653762348928 hdf5_format.py:110] TensorFlow optimizers do not make it possible to access optimizer attributes or optimizer state after instantiation. As a result, we cannot save the optimizer as part of the model save file. You will have to compile your model again after loading it. Prefer using a Keras optimizer instead (see keras.io/optimizers).\n"
          ],
          "name": "stderr"
        }
      ]
    },
    {
      "cell_type": "code",
      "metadata": {
        "id": "WhTlMCWH_rJ3",
        "colab_type": "code",
        "colab": {}
      },
      "source": [
        "!ls"
      ],
      "execution_count": 0,
      "outputs": []
    },
    {
      "cell_type": "markdown",
      "metadata": {
        "id": "33gJdaCV_rJ8",
        "colab_type": "text"
      },
      "source": [
        "# Create Submission file"
      ]
    },
    {
      "cell_type": "code",
      "metadata": {
        "id": "QQZCplF8INAf",
        "colab_type": "code",
        "outputId": "8d8dc5ff-1a12-49b3-a56b-28cae9078143",
        "colab": {
          "base_uri": "https://localhost:8080/",
          "height": 34
        }
      },
      "source": [
        "import gc\n",
        "gc.collect()"
      ],
      "execution_count": 0,
      "outputs": [
        {
          "output_type": "execute_result",
          "data": {
            "text/plain": [
              "634"
            ]
          },
          "metadata": {
            "tags": []
          },
          "execution_count": 37
        }
      ]
    },
    {
      "cell_type": "code",
      "metadata": {
        "id": "QNkeYenM_rJ_",
        "colab_type": "code",
        "outputId": "5d332dd5-d536-4bf6-9cdc-b8fbedcec559",
        "colab": {
          "base_uri": "https://localhost:8080/",
          "height": 204
        }
      },
      "source": [
        "#test=pd.read_csv('test_feat_eng_v2.csv')\n",
        "test_predictions=model_dnn.predict(test,verbose=1,batch_size=10000)\n",
        "test_predictions[:10]"
      ],
      "execution_count": 113,
      "outputs": [
        {
          "output_type": "stream",
          "text": [
            "2505542/2505542 [==============================] - 2s 1us/sample\n"
          ],
          "name": "stdout"
        },
        {
          "output_type": "execute_result",
          "data": {
            "text/plain": [
              "array([[ 1.4251924],\n",
              "       [87.362045 ],\n",
              "       [ 1.4251924],\n",
              "       [87.362045 ],\n",
              "       [ 1.4251924],\n",
              "       [87.362045 ],\n",
              "       [ 1.4251924],\n",
              "       [ 1.4251924],\n",
              "       [ 1.4251924],\n",
              "       [87.362045 ]], dtype=float32)"
            ]
          },
          "metadata": {
            "tags": []
          },
          "execution_count": 113
        }
      ]
    },
    {
      "cell_type": "code",
      "metadata": {
        "id": "rQDPCLCo_rKF",
        "colab_type": "code",
        "outputId": "36b38575-ffd5-4e41-bb1b-8c1870aa4ced",
        "colab": {
          "base_uri": "https://localhost:8080/",
          "height": 34
        }
      },
      "source": [
        "test_predictions.shape"
      ],
      "execution_count": 114,
      "outputs": [
        {
          "output_type": "execute_result",
          "data": {
            "text/plain": [
              "(2505542, 1)"
            ]
          },
          "metadata": {
            "tags": []
          },
          "execution_count": 114
        }
      ]
    },
    {
      "cell_type": "code",
      "metadata": {
        "id": "H5ztViLY_rKL",
        "colab_type": "code",
        "outputId": "0218f04f-5c12-4ebc-ce5a-229664b37493",
        "colab": {
          "base_uri": "https://localhost:8080/",
          "height": 204
        }
      },
      "source": [
        "sample_submission=pd.read_csv('sample_submission.csv.zip')\n",
        "sample_submission.head()"
      ],
      "execution_count": 115,
      "outputs": [
        {
          "output_type": "execute_result",
          "data": {
            "text/html": [
              "<div>\n",
              "<style scoped>\n",
              "    .dataframe tbody tr th:only-of-type {\n",
              "        vertical-align: middle;\n",
              "    }\n",
              "\n",
              "    .dataframe tbody tr th {\n",
              "        vertical-align: top;\n",
              "    }\n",
              "\n",
              "    .dataframe thead th {\n",
              "        text-align: right;\n",
              "    }\n",
              "</style>\n",
              "<table border=\"1\" class=\"dataframe\">\n",
              "  <thead>\n",
              "    <tr style=\"text-align: right;\">\n",
              "      <th></th>\n",
              "      <th>id</th>\n",
              "      <th>scalar_coupling_constant</th>\n",
              "    </tr>\n",
              "  </thead>\n",
              "  <tbody>\n",
              "    <tr>\n",
              "      <th>0</th>\n",
              "      <td>4658147</td>\n",
              "      <td>0</td>\n",
              "    </tr>\n",
              "    <tr>\n",
              "      <th>1</th>\n",
              "      <td>4658148</td>\n",
              "      <td>0</td>\n",
              "    </tr>\n",
              "    <tr>\n",
              "      <th>2</th>\n",
              "      <td>4658149</td>\n",
              "      <td>0</td>\n",
              "    </tr>\n",
              "    <tr>\n",
              "      <th>3</th>\n",
              "      <td>4658150</td>\n",
              "      <td>0</td>\n",
              "    </tr>\n",
              "    <tr>\n",
              "      <th>4</th>\n",
              "      <td>4658151</td>\n",
              "      <td>0</td>\n",
              "    </tr>\n",
              "  </tbody>\n",
              "</table>\n",
              "</div>"
            ],
            "text/plain": [
              "        id  scalar_coupling_constant\n",
              "0  4658147                         0\n",
              "1  4658148                         0\n",
              "2  4658149                         0\n",
              "3  4658150                         0\n",
              "4  4658151                         0"
            ]
          },
          "metadata": {
            "tags": []
          },
          "execution_count": 115
        }
      ]
    },
    {
      "cell_type": "code",
      "metadata": {
        "id": "DX5pCXoG_rKW",
        "colab_type": "code",
        "outputId": "3ae07303-cd2b-4edf-dc7a-ea4954a9f4f9",
        "colab": {
          "base_uri": "https://localhost:8080/",
          "height": 204
        }
      },
      "source": [
        "sample_submission['scalar_coupling_constant']=test_predictions\n",
        "sample_submission.head()"
      ],
      "execution_count": 116,
      "outputs": [
        {
          "output_type": "execute_result",
          "data": {
            "text/html": [
              "<div>\n",
              "<style scoped>\n",
              "    .dataframe tbody tr th:only-of-type {\n",
              "        vertical-align: middle;\n",
              "    }\n",
              "\n",
              "    .dataframe tbody tr th {\n",
              "        vertical-align: top;\n",
              "    }\n",
              "\n",
              "    .dataframe thead th {\n",
              "        text-align: right;\n",
              "    }\n",
              "</style>\n",
              "<table border=\"1\" class=\"dataframe\">\n",
              "  <thead>\n",
              "    <tr style=\"text-align: right;\">\n",
              "      <th></th>\n",
              "      <th>id</th>\n",
              "      <th>scalar_coupling_constant</th>\n",
              "    </tr>\n",
              "  </thead>\n",
              "  <tbody>\n",
              "    <tr>\n",
              "      <th>0</th>\n",
              "      <td>4658147</td>\n",
              "      <td>1.425192</td>\n",
              "    </tr>\n",
              "    <tr>\n",
              "      <th>1</th>\n",
              "      <td>4658148</td>\n",
              "      <td>87.362045</td>\n",
              "    </tr>\n",
              "    <tr>\n",
              "      <th>2</th>\n",
              "      <td>4658149</td>\n",
              "      <td>1.425192</td>\n",
              "    </tr>\n",
              "    <tr>\n",
              "      <th>3</th>\n",
              "      <td>4658150</td>\n",
              "      <td>87.362045</td>\n",
              "    </tr>\n",
              "    <tr>\n",
              "      <th>4</th>\n",
              "      <td>4658151</td>\n",
              "      <td>1.425192</td>\n",
              "    </tr>\n",
              "  </tbody>\n",
              "</table>\n",
              "</div>"
            ],
            "text/plain": [
              "        id  scalar_coupling_constant\n",
              "0  4658147                  1.425192\n",
              "1  4658148                 87.362045\n",
              "2  4658149                  1.425192\n",
              "3  4658150                 87.362045\n",
              "4  4658151                  1.425192"
            ]
          },
          "metadata": {
            "tags": []
          },
          "execution_count": 116
        }
      ]
    },
    {
      "cell_type": "code",
      "metadata": {
        "id": "yLREMC7I_rKe",
        "colab_type": "code",
        "colab": {}
      },
      "source": [
        "sample_submission.to_csv('sample_submission_exp_1.csv',index=False)"
      ],
      "execution_count": 0,
      "outputs": []
    },
    {
      "cell_type": "code",
      "metadata": {
        "id": "lL3tjc8K_rKm",
        "colab_type": "code",
        "outputId": "12cfc61a-3c84-4713-96a3-5194685fa815",
        "colab": {
          "base_uri": "https://localhost:8080/",
          "height": 357
        }
      },
      "source": [
        "!ls"
      ],
      "execution_count": 0,
      "outputs": [
        {
          "output_type": "stream",
          "text": [
            "data.covs.pickle\n",
            "dipole_moments.csv.zip\n",
            "kaggle.json\n",
            "kaggle_model_nn_v2_04.h5\n",
            "magnetic_shielding_tensors.csv.zip\n",
            "mulliken_charges.csv.zip\n",
            "potential_energy.csv.zip\n",
            "sample_data\n",
            "sample_submission.csv.zip\n",
            "sample_submission_distance_baseline_test_02.csv\n",
            "sample_submission_external_feat_v2_01.csv\n",
            "scalar_coupling_contributions.csv.zip\n",
            "structures.csv.zip\n",
            "structures.zip\n",
            "test.csv.zip\n",
            "test_etl.csv\n",
            "test_feat_eng_v2.csv\n",
            "train.csv.zip\n",
            "train_etl.csv\n",
            "train_feat_eng_v2.csv\n"
          ],
          "name": "stdout"
        }
      ]
    },
    {
      "cell_type": "code",
      "metadata": {
        "id": "QNH2GDOU_rKz",
        "colab_type": "code",
        "outputId": "462c1fe3-5e0b-4fc0-cc5c-aebad3f7bcb4",
        "colab": {
          "base_uri": "https://localhost:8080/",
          "height": 187
        }
      },
      "source": [
        "!head sample_submission_distance_baseline_test.csv"
      ],
      "execution_count": 0,
      "outputs": [
        {
          "output_type": "stream",
          "text": [
            "id,scalar_coupling_constant\n",
            "4658147,-3.2472324\n",
            "4658148,91.86721\n",
            "4658149,10.933329\n",
            "4658150,107.796974\n",
            "4658151,1.5662003\n",
            "4658152,107.1634\n",
            "4658153,2.08945\n",
            "4658154,-11.683802\n",
            "4658155,-10.687826\n"
          ],
          "name": "stdout"
        }
      ]
    },
    {
      "cell_type": "markdown",
      "metadata": {
        "id": "o6rIYcGm_rLA",
        "colab_type": "text"
      },
      "source": [
        "# Upload to IBM object store"
      ]
    },
    {
      "cell_type": "code",
      "metadata": {
        "id": "CMDeLsAS_rLD",
        "colab_type": "code",
        "colab": {}
      },
      "source": [
        "from ibm_botocore.client import Config\n",
        "import ibm_boto3\n",
        "def upload_file_cos(credentials,local_file_name,key):  \n",
        "    cos = ibm_boto3.client(service_name='s3',\n",
        "    ibm_api_key_id=credentials['IBM_API_KEY_ID'],\n",
        "    ibm_service_instance_id=credentials['IAM_SERVICE_ID'],\n",
        "    ibm_auth_endpoint=credentials['IBM_AUTH_ENDPOINT'],\n",
        "    config=Config(signature_version='oauth'),\n",
        "    endpoint_url=credentials['ENDPOINT'])\n",
        "    try:\n",
        "        res=cos.upload_file(Filename=local_file_name, Bucket=credentials['BUCKET'],Key=key)\n",
        "    except Exception as e:\n",
        "        print(Exception, e)\n",
        "    else:\n",
        "        print('File Uploaded')"
      ],
      "execution_count": 0,
      "outputs": []
    },
    {
      "cell_type": "code",
      "metadata": {
        "id": "7Z3plS9F_rLK",
        "colab_type": "code",
        "colab": {}
      },
      "source": [
        "upload_file_cos(credentials_2,'sample_submission_test_3.csv','sample_submission_test_3.csv')"
      ],
      "execution_count": 0,
      "outputs": []
    },
    {
      "cell_type": "code",
      "metadata": {
        "id": "aO0Wc-vi_rLN",
        "colab_type": "code",
        "colab": {}
      },
      "source": [
        "upload_file_cos(credentials_2,'kaggle_model_nn_03.h5','kaggle_model_nn_03.h5')"
      ],
      "execution_count": 0,
      "outputs": []
    },
    {
      "cell_type": "code",
      "metadata": {
        "id": "LISDbv6Q_rLT",
        "colab_type": "code",
        "colab": {}
      },
      "source": [
        ""
      ],
      "execution_count": 0,
      "outputs": []
    }
  ]
}