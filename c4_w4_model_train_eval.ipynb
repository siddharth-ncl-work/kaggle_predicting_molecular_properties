{
  "nbformat": 4,
  "nbformat_minor": 0,
  "metadata": {
    "kernelspec": {
      "name": "python3",
      "display_name": "Python 3"
    },
    "language_info": {
      "mimetype": "text/x-python",
      "nbconvert_exporter": "python",
      "version": "3.6.8",
      "name": "python",
      "file_extension": ".py",
      "pygments_lexer": "ipython3",
      "codemirror_mode": {
        "version": 3,
        "name": "ipython"
      }
    },
    "colab": {
      "name": "c4_w4_model_train_eval.ipynb",
      "version": "0.3.2",
      "provenance": [],
      "toc_visible": true,
      "include_colab_link": true
    },
    "accelerator": "GPU"
  },
  "cells": [
    {
      "cell_type": "markdown",
      "metadata": {
        "id": "view-in-github",
        "colab_type": "text"
      },
      "source": [
        "<a href=\"https://colab.research.google.com/github/ss-ghule/kaggle_predicting_molecular_properties/blob/master/c4_w4_model_train_eval.ipynb\" target=\"_parent\"><img src=\"https://colab.research.google.com/assets/colab-badge.svg\" alt=\"Open In Colab\"/></a>"
      ]
    },
    {
      "cell_type": "markdown",
      "metadata": {
        "collapsed": true,
        "id": "yagcl-cp_rGY",
        "colab_type": "text"
      },
      "source": [
        "# Training & Evaluation\n",
        "\n",
        "## ##Training & Evaluation is currently being carried out in google Colaboratory due to less free resources available in IBM watson studio"
      ]
    },
    {
      "cell_type": "markdown",
      "metadata": {
        "id": "FR40RxvC_rGc",
        "colab_type": "text"
      },
      "source": [
        "# Download Data"
      ]
    },
    {
      "cell_type": "code",
      "metadata": {
        "id": "sSaJy3Ky_rGe",
        "colab_type": "code",
        "colab": {}
      },
      "source": [
        "# The code was removed by Watson Studio for sharing."
      ],
      "execution_count": 0,
      "outputs": []
    },
    {
      "cell_type": "code",
      "metadata": {
        "id": "NupJV6Uc_rGn",
        "colab_type": "code",
        "colab": {}
      },
      "source": [
        "'''\n",
        "from ibm_botocore.client import Config\n",
        "import ibm_boto3\n",
        "def download_file_cos(credentials,local_file_name,key):  \n",
        "    cos = ibm_boto3.client(service_name='s3',\n",
        "    ibm_api_key_id=credentials['IBM_API_KEY_ID'],\n",
        "    ibm_service_instance_id=credentials['IAM_SERVICE_ID'],\n",
        "    ibm_auth_endpoint=credentials['IBM_AUTH_ENDPOINT'],\n",
        "    config=Config(signature_version='oauth'),\n",
        "    endpoint_url=credentials['ENDPOINT'])\n",
        "    try:\n",
        "        res=cos.download_file(Bucket=credentials['BUCKET'],Key=key,Filename=local_file_name)\n",
        "    except Exception as e:\n",
        "        print(Exception, e)\n",
        "    else:\n",
        "        print('File Downloaded')\n",
        "'''"
      ],
      "execution_count": 0,
      "outputs": []
    },
    {
      "cell_type": "code",
      "metadata": {
        "id": "-E3LKXE2_rGr",
        "colab_type": "code",
        "colab": {
          "base_uri": "https://localhost:8080/",
          "height": 153
        },
        "outputId": "d0b261b9-2886-412b-dce8-7e35dd0fd7fb"
      },
      "source": [
        "#download_file_cos(credentials_2,'train_feat_eng.csv','train_feat_eng.csv')\n",
        "#ownload_file_cos(credentials_2,'test_feat_eng.csv','test_feat_eng.csv')\n",
        "#download_file_cos(credentials_2,'sample_submission.csv','sample_submission.csv')\n",
        "!ls"
      ],
      "execution_count": 1,
      "outputs": [
        {
          "output_type": "stream",
          "text": [
            "dipole_moments.csv.zip\t\t       structures.csv.zip\n",
            "kaggle.json\t\t\t       structures.zip\n",
            "magnetic_shielding_tensors.csv.zip     test.csv.zip\n",
            "mulliken_charges.csv.zip\t       test_etl.csv\n",
            "potential_energy.csv.zip\t       test_feat_eng_v2.csv\n",
            "sample_data\t\t\t       train.csv.zip\n",
            "sample_submission.csv.zip\t       train_etl.csv\n",
            "scalar_coupling_contributions.csv.zip  train_feat_eng_v2.csv\n"
          ],
          "name": "stdout"
        }
      ]
    },
    {
      "cell_type": "markdown",
      "metadata": {
        "id": "bPykO9S6_rG0",
        "colab_type": "text"
      },
      "source": [
        "# Dowload Data"
      ]
    },
    {
      "cell_type": "code",
      "metadata": {
        "id": "60DvXJFH_rG2",
        "colab_type": "code",
        "colab": {}
      },
      "source": [
        "import pandas as pd\n",
        "import numpy as np\n",
        "import matplotlib.pyplot as plt\n",
        "import tensorflow as tf\n",
        "from tensorflow import keras\n",
        "import pickle\n",
        "%matplotlib inline"
      ],
      "execution_count": 0,
      "outputs": []
    },
    {
      "cell_type": "code",
      "metadata": {
        "id": "oIaMPaH1_rG_",
        "colab_type": "code",
        "colab": {
          "base_uri": "https://localhost:8080/",
          "height": 34
        },
        "outputId": "34ff4481-d877-4219-fd01-8ae3850d857e"
      },
      "source": [
        "tf.__version__"
      ],
      "execution_count": 2,
      "outputs": [
        {
          "output_type": "execute_result",
          "data": {
            "text/plain": [
              "'1.14.0'"
            ]
          },
          "metadata": {
            "tags": []
          },
          "execution_count": 2
        }
      ]
    },
    {
      "cell_type": "code",
      "metadata": {
        "id": "OxbPFU2t_rHE",
        "colab_type": "code",
        "colab": {
          "base_uri": "https://localhost:8080/",
          "height": 224
        },
        "outputId": "78412412-1b63-4c87-a039-b889c2e4b790"
      },
      "source": [
        "train=pd.read_csv('train_feat_eng_v2_with_bonds.csv')\n",
        "train.head()"
      ],
      "execution_count": 3,
      "outputs": [
        {
          "output_type": "execute_result",
          "data": {
            "text/html": [
              "<div>\n",
              "<style scoped>\n",
              "    .dataframe tbody tr th:only-of-type {\n",
              "        vertical-align: middle;\n",
              "    }\n",
              "\n",
              "    .dataframe tbody tr th {\n",
              "        vertical-align: top;\n",
              "    }\n",
              "\n",
              "    .dataframe thead th {\n",
              "        text-align: right;\n",
              "    }\n",
              "</style>\n",
              "<table border=\"1\" class=\"dataframe\">\n",
              "  <thead>\n",
              "    <tr style=\"text-align: right;\">\n",
              "      <th></th>\n",
              "      <th>atom_index_0</th>\n",
              "      <th>atom_index_1</th>\n",
              "      <th>x_0</th>\n",
              "      <th>y_0</th>\n",
              "      <th>z_0</th>\n",
              "      <th>x_1</th>\n",
              "      <th>y_1</th>\n",
              "      <th>z_1</th>\n",
              "      <th>distance</th>\n",
              "      <th>type_enc</th>\n",
              "      <th>atom_1_enc</th>\n",
              "      <th>atom_0_enc</th>\n",
              "      <th>rc_A</th>\n",
              "      <th>rc_B</th>\n",
              "      <th>rc_C</th>\n",
              "      <th>mu</th>\n",
              "      <th>alpha</th>\n",
              "      <th>homo</th>\n",
              "      <th>lumo</th>\n",
              "      <th>gap</th>\n",
              "      <th>r2</th>\n",
              "      <th>zpve</th>\n",
              "      <th>U0</th>\n",
              "      <th>U</th>\n",
              "      <th>H</th>\n",
              "      <th>G</th>\n",
              "      <th>Cv</th>\n",
              "      <th>freqs_min</th>\n",
              "      <th>freqs_max</th>\n",
              "      <th>freqs_mean</th>\n",
              "      <th>linear</th>\n",
              "      <th>mulliken_min</th>\n",
              "      <th>mulliken_max</th>\n",
              "      <th>mulliken_mean</th>\n",
              "      <th>mulliken_atom_0</th>\n",
              "      <th>mulliken_atom_1</th>\n",
              "      <th>pairs_enc</th>\n",
              "      <th>bond_int</th>\n",
              "      <th>scalar_coupling_constant</th>\n",
              "    </tr>\n",
              "  </thead>\n",
              "  <tbody>\n",
              "    <tr>\n",
              "      <th>0</th>\n",
              "      <td>1</td>\n",
              "      <td>0</td>\n",
              "      <td>0.002150</td>\n",
              "      <td>-0.006031</td>\n",
              "      <td>0.001976</td>\n",
              "      <td>-0.012698</td>\n",
              "      <td>1.085804</td>\n",
              "      <td>0.008001</td>\n",
              "      <td>1.091953</td>\n",
              "      <td>0</td>\n",
              "      <td>0</td>\n",
              "      <td>1</td>\n",
              "      <td>157.7118</td>\n",
              "      <td>157.70997</td>\n",
              "      <td>157.70699</td>\n",
              "      <td>0.0</td>\n",
              "      <td>13.21</td>\n",
              "      <td>-0.3877</td>\n",
              "      <td>0.1171</td>\n",
              "      <td>0.5048</td>\n",
              "      <td>35.3641</td>\n",
              "      <td>0.044749</td>\n",
              "      <td>-40.47893</td>\n",
              "      <td>-40.476062</td>\n",
              "      <td>-40.475117</td>\n",
              "      <td>-40.498597</td>\n",
              "      <td>6.469</td>\n",
              "      <td>1341.307</td>\n",
              "      <td>3151.7078</td>\n",
              "      <td>2182.525478</td>\n",
              "      <td>1.0</td>\n",
              "      <td>-0.535689</td>\n",
              "      <td>0.133923</td>\n",
              "      <td>0.0</td>\n",
              "      <td>0.133921</td>\n",
              "      <td>-0.535689</td>\n",
              "      <td>2</td>\n",
              "      <td>1</td>\n",
              "      <td>84.8076</td>\n",
              "    </tr>\n",
              "    <tr>\n",
              "      <th>1</th>\n",
              "      <td>1</td>\n",
              "      <td>2</td>\n",
              "      <td>0.002150</td>\n",
              "      <td>-0.006031</td>\n",
              "      <td>0.001976</td>\n",
              "      <td>1.011731</td>\n",
              "      <td>1.463751</td>\n",
              "      <td>0.000277</td>\n",
              "      <td>1.783120</td>\n",
              "      <td>3</td>\n",
              "      <td>1</td>\n",
              "      <td>1</td>\n",
              "      <td>157.7118</td>\n",
              "      <td>157.70997</td>\n",
              "      <td>157.70699</td>\n",
              "      <td>0.0</td>\n",
              "      <td>13.21</td>\n",
              "      <td>-0.3877</td>\n",
              "      <td>0.1171</td>\n",
              "      <td>0.5048</td>\n",
              "      <td>35.3641</td>\n",
              "      <td>0.044749</td>\n",
              "      <td>-40.47893</td>\n",
              "      <td>-40.476062</td>\n",
              "      <td>-40.475117</td>\n",
              "      <td>-40.498597</td>\n",
              "      <td>6.469</td>\n",
              "      <td>1341.307</td>\n",
              "      <td>3151.7078</td>\n",
              "      <td>2182.525478</td>\n",
              "      <td>1.0</td>\n",
              "      <td>-0.535689</td>\n",
              "      <td>0.133923</td>\n",
              "      <td>0.0</td>\n",
              "      <td>0.133921</td>\n",
              "      <td>0.133922</td>\n",
              "      <td>11</td>\n",
              "      <td>1</td>\n",
              "      <td>-11.2570</td>\n",
              "    </tr>\n",
              "    <tr>\n",
              "      <th>2</th>\n",
              "      <td>1</td>\n",
              "      <td>3</td>\n",
              "      <td>0.002150</td>\n",
              "      <td>-0.006031</td>\n",
              "      <td>0.001976</td>\n",
              "      <td>-0.540815</td>\n",
              "      <td>1.447527</td>\n",
              "      <td>-0.876644</td>\n",
              "      <td>1.783147</td>\n",
              "      <td>3</td>\n",
              "      <td>1</td>\n",
              "      <td>1</td>\n",
              "      <td>157.7118</td>\n",
              "      <td>157.70997</td>\n",
              "      <td>157.70699</td>\n",
              "      <td>0.0</td>\n",
              "      <td>13.21</td>\n",
              "      <td>-0.3877</td>\n",
              "      <td>0.1171</td>\n",
              "      <td>0.5048</td>\n",
              "      <td>35.3641</td>\n",
              "      <td>0.044749</td>\n",
              "      <td>-40.47893</td>\n",
              "      <td>-40.476062</td>\n",
              "      <td>-40.475117</td>\n",
              "      <td>-40.498597</td>\n",
              "      <td>6.469</td>\n",
              "      <td>1341.307</td>\n",
              "      <td>3151.7078</td>\n",
              "      <td>2182.525478</td>\n",
              "      <td>1.0</td>\n",
              "      <td>-0.535689</td>\n",
              "      <td>0.133923</td>\n",
              "      <td>0.0</td>\n",
              "      <td>0.133921</td>\n",
              "      <td>0.133923</td>\n",
              "      <td>11</td>\n",
              "      <td>1</td>\n",
              "      <td>-11.2548</td>\n",
              "    </tr>\n",
              "    <tr>\n",
              "      <th>3</th>\n",
              "      <td>1</td>\n",
              "      <td>4</td>\n",
              "      <td>0.002150</td>\n",
              "      <td>-0.006031</td>\n",
              "      <td>0.001976</td>\n",
              "      <td>-0.523814</td>\n",
              "      <td>1.437933</td>\n",
              "      <td>0.906397</td>\n",
              "      <td>1.783157</td>\n",
              "      <td>3</td>\n",
              "      <td>1</td>\n",
              "      <td>1</td>\n",
              "      <td>157.7118</td>\n",
              "      <td>157.70997</td>\n",
              "      <td>157.70699</td>\n",
              "      <td>0.0</td>\n",
              "      <td>13.21</td>\n",
              "      <td>-0.3877</td>\n",
              "      <td>0.1171</td>\n",
              "      <td>0.5048</td>\n",
              "      <td>35.3641</td>\n",
              "      <td>0.044749</td>\n",
              "      <td>-40.47893</td>\n",
              "      <td>-40.476062</td>\n",
              "      <td>-40.475117</td>\n",
              "      <td>-40.498597</td>\n",
              "      <td>6.469</td>\n",
              "      <td>1341.307</td>\n",
              "      <td>3151.7078</td>\n",
              "      <td>2182.525478</td>\n",
              "      <td>1.0</td>\n",
              "      <td>-0.535689</td>\n",
              "      <td>0.133923</td>\n",
              "      <td>0.0</td>\n",
              "      <td>0.133921</td>\n",
              "      <td>0.133923</td>\n",
              "      <td>11</td>\n",
              "      <td>1</td>\n",
              "      <td>-11.2543</td>\n",
              "    </tr>\n",
              "    <tr>\n",
              "      <th>4</th>\n",
              "      <td>2</td>\n",
              "      <td>0</td>\n",
              "      <td>1.011731</td>\n",
              "      <td>1.463751</td>\n",
              "      <td>0.000277</td>\n",
              "      <td>-0.012698</td>\n",
              "      <td>1.085804</td>\n",
              "      <td>0.008001</td>\n",
              "      <td>1.091952</td>\n",
              "      <td>0</td>\n",
              "      <td>0</td>\n",
              "      <td>1</td>\n",
              "      <td>157.7118</td>\n",
              "      <td>157.70997</td>\n",
              "      <td>157.70699</td>\n",
              "      <td>0.0</td>\n",
              "      <td>13.21</td>\n",
              "      <td>-0.3877</td>\n",
              "      <td>0.1171</td>\n",
              "      <td>0.5048</td>\n",
              "      <td>35.3641</td>\n",
              "      <td>0.044749</td>\n",
              "      <td>-40.47893</td>\n",
              "      <td>-40.476062</td>\n",
              "      <td>-40.475117</td>\n",
              "      <td>-40.498597</td>\n",
              "      <td>6.469</td>\n",
              "      <td>1341.307</td>\n",
              "      <td>3151.7078</td>\n",
              "      <td>2182.525478</td>\n",
              "      <td>1.0</td>\n",
              "      <td>-0.535689</td>\n",
              "      <td>0.133923</td>\n",
              "      <td>0.0</td>\n",
              "      <td>0.133922</td>\n",
              "      <td>-0.535689</td>\n",
              "      <td>2</td>\n",
              "      <td>1</td>\n",
              "      <td>84.8074</td>\n",
              "    </tr>\n",
              "  </tbody>\n",
              "</table>\n",
              "</div>"
            ],
            "text/plain": [
              "   atom_index_0  atom_index_1  ...  bond_int  scalar_coupling_constant\n",
              "0             1             0  ...         1                   84.8076\n",
              "1             1             2  ...         1                  -11.2570\n",
              "2             1             3  ...         1                  -11.2548\n",
              "3             1             4  ...         1                  -11.2543\n",
              "4             2             0  ...         1                   84.8074\n",
              "\n",
              "[5 rows x 39 columns]"
            ]
          },
          "metadata": {
            "tags": []
          },
          "execution_count": 3
        }
      ]
    },
    {
      "cell_type": "code",
      "metadata": {
        "id": "5o6ysyiF_rHL",
        "colab_type": "code",
        "colab": {
          "base_uri": "https://localhost:8080/",
          "height": 34
        },
        "outputId": "d0efffd7-62bc-4307-b976-bcf52e055c2b"
      },
      "source": [
        "train.shape"
      ],
      "execution_count": 4,
      "outputs": [
        {
          "output_type": "execute_result",
          "data": {
            "text/plain": [
              "(4658147, 39)"
            ]
          },
          "metadata": {
            "tags": []
          },
          "execution_count": 4
        }
      ]
    },
    {
      "cell_type": "code",
      "metadata": {
        "id": "Gyb8B2Y6_rHR",
        "colab_type": "code",
        "colab": {
          "base_uri": "https://localhost:8080/",
          "height": 224
        },
        "outputId": "71b82b6a-7157-44df-a02b-1e6e6013878e"
      },
      "source": [
        "test=pd.read_csv('test_feat_eng_v2_with_bonds.csv')\n",
        "test.head()"
      ],
      "execution_count": 5,
      "outputs": [
        {
          "output_type": "execute_result",
          "data": {
            "text/html": [
              "<div>\n",
              "<style scoped>\n",
              "    .dataframe tbody tr th:only-of-type {\n",
              "        vertical-align: middle;\n",
              "    }\n",
              "\n",
              "    .dataframe tbody tr th {\n",
              "        vertical-align: top;\n",
              "    }\n",
              "\n",
              "    .dataframe thead th {\n",
              "        text-align: right;\n",
              "    }\n",
              "</style>\n",
              "<table border=\"1\" class=\"dataframe\">\n",
              "  <thead>\n",
              "    <tr style=\"text-align: right;\">\n",
              "      <th></th>\n",
              "      <th>atom_index_0</th>\n",
              "      <th>atom_index_1</th>\n",
              "      <th>x_0</th>\n",
              "      <th>y_0</th>\n",
              "      <th>z_0</th>\n",
              "      <th>x_1</th>\n",
              "      <th>y_1</th>\n",
              "      <th>z_1</th>\n",
              "      <th>distance</th>\n",
              "      <th>type_enc</th>\n",
              "      <th>atom_0_enc</th>\n",
              "      <th>atom_1_enc</th>\n",
              "      <th>scalar_coupling_constant</th>\n",
              "      <th>rc_A</th>\n",
              "      <th>rc_B</th>\n",
              "      <th>rc_C</th>\n",
              "      <th>mu</th>\n",
              "      <th>alpha</th>\n",
              "      <th>homo</th>\n",
              "      <th>lumo</th>\n",
              "      <th>gap</th>\n",
              "      <th>r2</th>\n",
              "      <th>zpve</th>\n",
              "      <th>U0</th>\n",
              "      <th>U</th>\n",
              "      <th>H</th>\n",
              "      <th>G</th>\n",
              "      <th>Cv</th>\n",
              "      <th>freqs_min</th>\n",
              "      <th>freqs_max</th>\n",
              "      <th>freqs_mean</th>\n",
              "      <th>linear</th>\n",
              "      <th>mulliken_min</th>\n",
              "      <th>mulliken_max</th>\n",
              "      <th>mulliken_mean</th>\n",
              "      <th>mulliken_atom_0</th>\n",
              "      <th>mulliken_atom_1</th>\n",
              "      <th>pairs_enc</th>\n",
              "      <th>bond_int</th>\n",
              "    </tr>\n",
              "  </thead>\n",
              "  <tbody>\n",
              "    <tr>\n",
              "      <th>0</th>\n",
              "      <td>2</td>\n",
              "      <td>0</td>\n",
              "      <td>-1.661639</td>\n",
              "      <td>0.0</td>\n",
              "      <td>1.0</td>\n",
              "      <td>0.599539</td>\n",
              "      <td>0.0</td>\n",
              "      <td>1.0</td>\n",
              "      <td>2.261178</td>\n",
              "      <td>2</td>\n",
              "      <td>1</td>\n",
              "      <td>0</td>\n",
              "      <td>NaN</td>\n",
              "      <td>0.0</td>\n",
              "      <td>35.610036</td>\n",
              "      <td>35.610036</td>\n",
              "      <td>0.0</td>\n",
              "      <td>16.28</td>\n",
              "      <td>-0.2845</td>\n",
              "      <td>0.0506</td>\n",
              "      <td>0.3351</td>\n",
              "      <td>59.5248</td>\n",
              "      <td>0.026841</td>\n",
              "      <td>-77.308427</td>\n",
              "      <td>-77.305527</td>\n",
              "      <td>-77.304583</td>\n",
              "      <td>-77.327429</td>\n",
              "      <td>8.574</td>\n",
              "      <td>549.7648</td>\n",
              "      <td>3557.8599</td>\n",
              "      <td>1683.122114</td>\n",
              "      <td>0.0</td>\n",
              "      <td>-0.207019</td>\n",
              "      <td>0.207019</td>\n",
              "      <td>0.0</td>\n",
              "      <td>0.207019</td>\n",
              "      <td>-0.207019</td>\n",
              "      <td>2</td>\n",
              "      <td>1</td>\n",
              "    </tr>\n",
              "    <tr>\n",
              "      <th>1</th>\n",
              "      <td>2</td>\n",
              "      <td>1</td>\n",
              "      <td>-1.661639</td>\n",
              "      <td>0.0</td>\n",
              "      <td>1.0</td>\n",
              "      <td>-0.599539</td>\n",
              "      <td>0.0</td>\n",
              "      <td>1.0</td>\n",
              "      <td>1.062099</td>\n",
              "      <td>0</td>\n",
              "      <td>1</td>\n",
              "      <td>0</td>\n",
              "      <td>NaN</td>\n",
              "      <td>0.0</td>\n",
              "      <td>35.610036</td>\n",
              "      <td>35.610036</td>\n",
              "      <td>0.0</td>\n",
              "      <td>16.28</td>\n",
              "      <td>-0.2845</td>\n",
              "      <td>0.0506</td>\n",
              "      <td>0.3351</td>\n",
              "      <td>59.5248</td>\n",
              "      <td>0.026841</td>\n",
              "      <td>-77.308427</td>\n",
              "      <td>-77.305527</td>\n",
              "      <td>-77.304583</td>\n",
              "      <td>-77.327429</td>\n",
              "      <td>8.574</td>\n",
              "      <td>549.7648</td>\n",
              "      <td>3557.8599</td>\n",
              "      <td>1683.122114</td>\n",
              "      <td>0.0</td>\n",
              "      <td>-0.207019</td>\n",
              "      <td>0.207019</td>\n",
              "      <td>0.0</td>\n",
              "      <td>0.207019</td>\n",
              "      <td>-0.207019</td>\n",
              "      <td>11</td>\n",
              "      <td>1</td>\n",
              "    </tr>\n",
              "    <tr>\n",
              "      <th>2</th>\n",
              "      <td>2</td>\n",
              "      <td>3</td>\n",
              "      <td>-1.661639</td>\n",
              "      <td>0.0</td>\n",
              "      <td>1.0</td>\n",
              "      <td>1.661639</td>\n",
              "      <td>0.0</td>\n",
              "      <td>1.0</td>\n",
              "      <td>3.323277</td>\n",
              "      <td>6</td>\n",
              "      <td>1</td>\n",
              "      <td>1</td>\n",
              "      <td>NaN</td>\n",
              "      <td>0.0</td>\n",
              "      <td>35.610036</td>\n",
              "      <td>35.610036</td>\n",
              "      <td>0.0</td>\n",
              "      <td>16.28</td>\n",
              "      <td>-0.2845</td>\n",
              "      <td>0.0506</td>\n",
              "      <td>0.3351</td>\n",
              "      <td>59.5248</td>\n",
              "      <td>0.026841</td>\n",
              "      <td>-77.308427</td>\n",
              "      <td>-77.305527</td>\n",
              "      <td>-77.304583</td>\n",
              "      <td>-77.327429</td>\n",
              "      <td>8.574</td>\n",
              "      <td>549.7648</td>\n",
              "      <td>3557.8599</td>\n",
              "      <td>1683.122114</td>\n",
              "      <td>0.0</td>\n",
              "      <td>-0.207019</td>\n",
              "      <td>0.207019</td>\n",
              "      <td>0.0</td>\n",
              "      <td>0.207019</td>\n",
              "      <td>0.207019</td>\n",
              "      <td>11</td>\n",
              "      <td>1</td>\n",
              "    </tr>\n",
              "    <tr>\n",
              "      <th>3</th>\n",
              "      <td>3</td>\n",
              "      <td>0</td>\n",
              "      <td>1.661639</td>\n",
              "      <td>0.0</td>\n",
              "      <td>1.0</td>\n",
              "      <td>0.599539</td>\n",
              "      <td>0.0</td>\n",
              "      <td>1.0</td>\n",
              "      <td>1.062099</td>\n",
              "      <td>0</td>\n",
              "      <td>1</td>\n",
              "      <td>0</td>\n",
              "      <td>NaN</td>\n",
              "      <td>0.0</td>\n",
              "      <td>35.610036</td>\n",
              "      <td>35.610036</td>\n",
              "      <td>0.0</td>\n",
              "      <td>16.28</td>\n",
              "      <td>-0.2845</td>\n",
              "      <td>0.0506</td>\n",
              "      <td>0.3351</td>\n",
              "      <td>59.5248</td>\n",
              "      <td>0.026841</td>\n",
              "      <td>-77.308427</td>\n",
              "      <td>-77.305527</td>\n",
              "      <td>-77.304583</td>\n",
              "      <td>-77.327429</td>\n",
              "      <td>8.574</td>\n",
              "      <td>549.7648</td>\n",
              "      <td>3557.8599</td>\n",
              "      <td>1683.122114</td>\n",
              "      <td>0.0</td>\n",
              "      <td>-0.207019</td>\n",
              "      <td>0.207019</td>\n",
              "      <td>0.0</td>\n",
              "      <td>0.207019</td>\n",
              "      <td>-0.207019</td>\n",
              "      <td>11</td>\n",
              "      <td>1</td>\n",
              "    </tr>\n",
              "    <tr>\n",
              "      <th>4</th>\n",
              "      <td>3</td>\n",
              "      <td>1</td>\n",
              "      <td>1.661639</td>\n",
              "      <td>0.0</td>\n",
              "      <td>1.0</td>\n",
              "      <td>-0.599539</td>\n",
              "      <td>0.0</td>\n",
              "      <td>1.0</td>\n",
              "      <td>2.261178</td>\n",
              "      <td>2</td>\n",
              "      <td>1</td>\n",
              "      <td>0</td>\n",
              "      <td>NaN</td>\n",
              "      <td>0.0</td>\n",
              "      <td>35.610036</td>\n",
              "      <td>35.610036</td>\n",
              "      <td>0.0</td>\n",
              "      <td>16.28</td>\n",
              "      <td>-0.2845</td>\n",
              "      <td>0.0506</td>\n",
              "      <td>0.3351</td>\n",
              "      <td>59.5248</td>\n",
              "      <td>0.026841</td>\n",
              "      <td>-77.308427</td>\n",
              "      <td>-77.305527</td>\n",
              "      <td>-77.304583</td>\n",
              "      <td>-77.327429</td>\n",
              "      <td>8.574</td>\n",
              "      <td>549.7648</td>\n",
              "      <td>3557.8599</td>\n",
              "      <td>1683.122114</td>\n",
              "      <td>0.0</td>\n",
              "      <td>-0.207019</td>\n",
              "      <td>0.207019</td>\n",
              "      <td>0.0</td>\n",
              "      <td>0.207019</td>\n",
              "      <td>-0.207019</td>\n",
              "      <td>2</td>\n",
              "      <td>1</td>\n",
              "    </tr>\n",
              "  </tbody>\n",
              "</table>\n",
              "</div>"
            ],
            "text/plain": [
              "   atom_index_0  atom_index_1       x_0  ...  mulliken_atom_1  pairs_enc  bond_int\n",
              "0             2             0 -1.661639  ...        -0.207019          2         1\n",
              "1             2             1 -1.661639  ...        -0.207019         11         1\n",
              "2             2             3 -1.661639  ...         0.207019         11         1\n",
              "3             3             0  1.661639  ...        -0.207019         11         1\n",
              "4             3             1  1.661639  ...        -0.207019          2         1\n",
              "\n",
              "[5 rows x 39 columns]"
            ]
          },
          "metadata": {
            "tags": []
          },
          "execution_count": 5
        }
      ]
    },
    {
      "cell_type": "code",
      "metadata": {
        "id": "Qpmn8Mae8aza",
        "colab_type": "code",
        "colab": {
          "base_uri": "https://localhost:8080/",
          "height": 34
        },
        "outputId": "df145871-4cff-48c9-d910-c76ee84f23dc"
      },
      "source": [
        "test.shape"
      ],
      "execution_count": 6,
      "outputs": [
        {
          "output_type": "execute_result",
          "data": {
            "text/plain": [
              "(2505542, 39)"
            ]
          },
          "metadata": {
            "tags": []
          },
          "execution_count": 6
        }
      ]
    },
    {
      "cell_type": "code",
      "metadata": {
        "id": "qbPmcu3x6Ojk",
        "colab_type": "code",
        "colab": {
          "base_uri": "https://localhost:8080/",
          "height": 153
        },
        "outputId": "c8e58946-4a0e-4d0e-ed21-7f0be7ef04f8"
      },
      "source": [
        "train.columns"
      ],
      "execution_count": 7,
      "outputs": [
        {
          "output_type": "execute_result",
          "data": {
            "text/plain": [
              "Index(['atom_index_0', 'atom_index_1', 'x_0', 'y_0', 'z_0', 'x_1', 'y_1',\n",
              "       'z_1', 'distance', 'type_enc', 'atom_1_enc', 'atom_0_enc', 'rc_A',\n",
              "       'rc_B', 'rc_C', 'mu', 'alpha', 'homo', 'lumo', 'gap', 'r2', 'zpve',\n",
              "       'U0', 'U', 'H', 'G', 'Cv', 'freqs_min', 'freqs_max', 'freqs_mean',\n",
              "       'linear', 'mulliken_min', 'mulliken_max', 'mulliken_mean',\n",
              "       'mulliken_atom_0', 'mulliken_atom_1', 'pairs_enc', 'bond_int',\n",
              "       'scalar_coupling_constant'],\n",
              "      dtype='object')"
            ]
          },
          "metadata": {
            "tags": []
          },
          "execution_count": 7
        }
      ]
    },
    {
      "cell_type": "code",
      "metadata": {
        "id": "KhsiUFhelOx3",
        "colab_type": "code",
        "colab": {
          "base_uri": "https://localhost:8080/",
          "height": 224
        },
        "outputId": "a1830859-e5f5-466b-a454-7cb6d1e8ec78"
      },
      "source": [
        "test.drop('scalar_coupling_constant',axis=1,inplace=True)\n",
        "test=test[['atom_index_0', 'atom_index_1', 'x_0', 'y_0', 'z_0', 'x_1', 'y_1',\n",
        "       'z_1', 'distance', 'type_enc', 'atom_1_enc', 'atom_0_enc', 'rc_A',\n",
        "       'rc_B', 'rc_C', 'mu', 'alpha', 'homo', 'lumo', 'gap', 'r2', 'zpve',\n",
        "       'U0', 'U', 'H', 'G', 'Cv', 'freqs_min', 'freqs_max', 'freqs_mean',\n",
        "       'linear', 'mulliken_min', 'mulliken_max', 'mulliken_mean',\n",
        "       'mulliken_atom_0', 'mulliken_atom_1', 'pairs_enc', 'bond_int',]]\n",
        "test.head()"
      ],
      "execution_count": 8,
      "outputs": [
        {
          "output_type": "execute_result",
          "data": {
            "text/html": [
              "<div>\n",
              "<style scoped>\n",
              "    .dataframe tbody tr th:only-of-type {\n",
              "        vertical-align: middle;\n",
              "    }\n",
              "\n",
              "    .dataframe tbody tr th {\n",
              "        vertical-align: top;\n",
              "    }\n",
              "\n",
              "    .dataframe thead th {\n",
              "        text-align: right;\n",
              "    }\n",
              "</style>\n",
              "<table border=\"1\" class=\"dataframe\">\n",
              "  <thead>\n",
              "    <tr style=\"text-align: right;\">\n",
              "      <th></th>\n",
              "      <th>atom_index_0</th>\n",
              "      <th>atom_index_1</th>\n",
              "      <th>x_0</th>\n",
              "      <th>y_0</th>\n",
              "      <th>z_0</th>\n",
              "      <th>x_1</th>\n",
              "      <th>y_1</th>\n",
              "      <th>z_1</th>\n",
              "      <th>distance</th>\n",
              "      <th>type_enc</th>\n",
              "      <th>atom_1_enc</th>\n",
              "      <th>atom_0_enc</th>\n",
              "      <th>rc_A</th>\n",
              "      <th>rc_B</th>\n",
              "      <th>rc_C</th>\n",
              "      <th>mu</th>\n",
              "      <th>alpha</th>\n",
              "      <th>homo</th>\n",
              "      <th>lumo</th>\n",
              "      <th>gap</th>\n",
              "      <th>r2</th>\n",
              "      <th>zpve</th>\n",
              "      <th>U0</th>\n",
              "      <th>U</th>\n",
              "      <th>H</th>\n",
              "      <th>G</th>\n",
              "      <th>Cv</th>\n",
              "      <th>freqs_min</th>\n",
              "      <th>freqs_max</th>\n",
              "      <th>freqs_mean</th>\n",
              "      <th>linear</th>\n",
              "      <th>mulliken_min</th>\n",
              "      <th>mulliken_max</th>\n",
              "      <th>mulliken_mean</th>\n",
              "      <th>mulliken_atom_0</th>\n",
              "      <th>mulliken_atom_1</th>\n",
              "      <th>pairs_enc</th>\n",
              "      <th>bond_int</th>\n",
              "    </tr>\n",
              "  </thead>\n",
              "  <tbody>\n",
              "    <tr>\n",
              "      <th>0</th>\n",
              "      <td>2</td>\n",
              "      <td>0</td>\n",
              "      <td>-1.661639</td>\n",
              "      <td>0.0</td>\n",
              "      <td>1.0</td>\n",
              "      <td>0.599539</td>\n",
              "      <td>0.0</td>\n",
              "      <td>1.0</td>\n",
              "      <td>2.261178</td>\n",
              "      <td>2</td>\n",
              "      <td>0</td>\n",
              "      <td>1</td>\n",
              "      <td>0.0</td>\n",
              "      <td>35.610036</td>\n",
              "      <td>35.610036</td>\n",
              "      <td>0.0</td>\n",
              "      <td>16.28</td>\n",
              "      <td>-0.2845</td>\n",
              "      <td>0.0506</td>\n",
              "      <td>0.3351</td>\n",
              "      <td>59.5248</td>\n",
              "      <td>0.026841</td>\n",
              "      <td>-77.308427</td>\n",
              "      <td>-77.305527</td>\n",
              "      <td>-77.304583</td>\n",
              "      <td>-77.327429</td>\n",
              "      <td>8.574</td>\n",
              "      <td>549.7648</td>\n",
              "      <td>3557.8599</td>\n",
              "      <td>1683.122114</td>\n",
              "      <td>0.0</td>\n",
              "      <td>-0.207019</td>\n",
              "      <td>0.207019</td>\n",
              "      <td>0.0</td>\n",
              "      <td>0.207019</td>\n",
              "      <td>-0.207019</td>\n",
              "      <td>2</td>\n",
              "      <td>1</td>\n",
              "    </tr>\n",
              "    <tr>\n",
              "      <th>1</th>\n",
              "      <td>2</td>\n",
              "      <td>1</td>\n",
              "      <td>-1.661639</td>\n",
              "      <td>0.0</td>\n",
              "      <td>1.0</td>\n",
              "      <td>-0.599539</td>\n",
              "      <td>0.0</td>\n",
              "      <td>1.0</td>\n",
              "      <td>1.062099</td>\n",
              "      <td>0</td>\n",
              "      <td>0</td>\n",
              "      <td>1</td>\n",
              "      <td>0.0</td>\n",
              "      <td>35.610036</td>\n",
              "      <td>35.610036</td>\n",
              "      <td>0.0</td>\n",
              "      <td>16.28</td>\n",
              "      <td>-0.2845</td>\n",
              "      <td>0.0506</td>\n",
              "      <td>0.3351</td>\n",
              "      <td>59.5248</td>\n",
              "      <td>0.026841</td>\n",
              "      <td>-77.308427</td>\n",
              "      <td>-77.305527</td>\n",
              "      <td>-77.304583</td>\n",
              "      <td>-77.327429</td>\n",
              "      <td>8.574</td>\n",
              "      <td>549.7648</td>\n",
              "      <td>3557.8599</td>\n",
              "      <td>1683.122114</td>\n",
              "      <td>0.0</td>\n",
              "      <td>-0.207019</td>\n",
              "      <td>0.207019</td>\n",
              "      <td>0.0</td>\n",
              "      <td>0.207019</td>\n",
              "      <td>-0.207019</td>\n",
              "      <td>11</td>\n",
              "      <td>1</td>\n",
              "    </tr>\n",
              "    <tr>\n",
              "      <th>2</th>\n",
              "      <td>2</td>\n",
              "      <td>3</td>\n",
              "      <td>-1.661639</td>\n",
              "      <td>0.0</td>\n",
              "      <td>1.0</td>\n",
              "      <td>1.661639</td>\n",
              "      <td>0.0</td>\n",
              "      <td>1.0</td>\n",
              "      <td>3.323277</td>\n",
              "      <td>6</td>\n",
              "      <td>1</td>\n",
              "      <td>1</td>\n",
              "      <td>0.0</td>\n",
              "      <td>35.610036</td>\n",
              "      <td>35.610036</td>\n",
              "      <td>0.0</td>\n",
              "      <td>16.28</td>\n",
              "      <td>-0.2845</td>\n",
              "      <td>0.0506</td>\n",
              "      <td>0.3351</td>\n",
              "      <td>59.5248</td>\n",
              "      <td>0.026841</td>\n",
              "      <td>-77.308427</td>\n",
              "      <td>-77.305527</td>\n",
              "      <td>-77.304583</td>\n",
              "      <td>-77.327429</td>\n",
              "      <td>8.574</td>\n",
              "      <td>549.7648</td>\n",
              "      <td>3557.8599</td>\n",
              "      <td>1683.122114</td>\n",
              "      <td>0.0</td>\n",
              "      <td>-0.207019</td>\n",
              "      <td>0.207019</td>\n",
              "      <td>0.0</td>\n",
              "      <td>0.207019</td>\n",
              "      <td>0.207019</td>\n",
              "      <td>11</td>\n",
              "      <td>1</td>\n",
              "    </tr>\n",
              "    <tr>\n",
              "      <th>3</th>\n",
              "      <td>3</td>\n",
              "      <td>0</td>\n",
              "      <td>1.661639</td>\n",
              "      <td>0.0</td>\n",
              "      <td>1.0</td>\n",
              "      <td>0.599539</td>\n",
              "      <td>0.0</td>\n",
              "      <td>1.0</td>\n",
              "      <td>1.062099</td>\n",
              "      <td>0</td>\n",
              "      <td>0</td>\n",
              "      <td>1</td>\n",
              "      <td>0.0</td>\n",
              "      <td>35.610036</td>\n",
              "      <td>35.610036</td>\n",
              "      <td>0.0</td>\n",
              "      <td>16.28</td>\n",
              "      <td>-0.2845</td>\n",
              "      <td>0.0506</td>\n",
              "      <td>0.3351</td>\n",
              "      <td>59.5248</td>\n",
              "      <td>0.026841</td>\n",
              "      <td>-77.308427</td>\n",
              "      <td>-77.305527</td>\n",
              "      <td>-77.304583</td>\n",
              "      <td>-77.327429</td>\n",
              "      <td>8.574</td>\n",
              "      <td>549.7648</td>\n",
              "      <td>3557.8599</td>\n",
              "      <td>1683.122114</td>\n",
              "      <td>0.0</td>\n",
              "      <td>-0.207019</td>\n",
              "      <td>0.207019</td>\n",
              "      <td>0.0</td>\n",
              "      <td>0.207019</td>\n",
              "      <td>-0.207019</td>\n",
              "      <td>11</td>\n",
              "      <td>1</td>\n",
              "    </tr>\n",
              "    <tr>\n",
              "      <th>4</th>\n",
              "      <td>3</td>\n",
              "      <td>1</td>\n",
              "      <td>1.661639</td>\n",
              "      <td>0.0</td>\n",
              "      <td>1.0</td>\n",
              "      <td>-0.599539</td>\n",
              "      <td>0.0</td>\n",
              "      <td>1.0</td>\n",
              "      <td>2.261178</td>\n",
              "      <td>2</td>\n",
              "      <td>0</td>\n",
              "      <td>1</td>\n",
              "      <td>0.0</td>\n",
              "      <td>35.610036</td>\n",
              "      <td>35.610036</td>\n",
              "      <td>0.0</td>\n",
              "      <td>16.28</td>\n",
              "      <td>-0.2845</td>\n",
              "      <td>0.0506</td>\n",
              "      <td>0.3351</td>\n",
              "      <td>59.5248</td>\n",
              "      <td>0.026841</td>\n",
              "      <td>-77.308427</td>\n",
              "      <td>-77.305527</td>\n",
              "      <td>-77.304583</td>\n",
              "      <td>-77.327429</td>\n",
              "      <td>8.574</td>\n",
              "      <td>549.7648</td>\n",
              "      <td>3557.8599</td>\n",
              "      <td>1683.122114</td>\n",
              "      <td>0.0</td>\n",
              "      <td>-0.207019</td>\n",
              "      <td>0.207019</td>\n",
              "      <td>0.0</td>\n",
              "      <td>0.207019</td>\n",
              "      <td>-0.207019</td>\n",
              "      <td>2</td>\n",
              "      <td>1</td>\n",
              "    </tr>\n",
              "  </tbody>\n",
              "</table>\n",
              "</div>"
            ],
            "text/plain": [
              "   atom_index_0  atom_index_1       x_0  ...  mulliken_atom_1  pairs_enc  bond_int\n",
              "0             2             0 -1.661639  ...        -0.207019          2         1\n",
              "1             2             1 -1.661639  ...        -0.207019         11         1\n",
              "2             2             3 -1.661639  ...         0.207019         11         1\n",
              "3             3             0  1.661639  ...        -0.207019         11         1\n",
              "4             3             1  1.661639  ...        -0.207019          2         1\n",
              "\n",
              "[5 rows x 38 columns]"
            ]
          },
          "metadata": {
            "tags": []
          },
          "execution_count": 8
        }
      ]
    },
    {
      "cell_type": "code",
      "metadata": {
        "id": "7i5W5r2__rHa",
        "colab_type": "code",
        "colab": {
          "base_uri": "https://localhost:8080/",
          "height": 34
        },
        "outputId": "85799be4-b950-4788-c66c-22b399771da0"
      },
      "source": [
        "test.shape"
      ],
      "execution_count": 9,
      "outputs": [
        {
          "output_type": "execute_result",
          "data": {
            "text/plain": [
              "(2505542, 38)"
            ]
          },
          "metadata": {
            "tags": []
          },
          "execution_count": 9
        }
      ]
    },
    {
      "cell_type": "code",
      "metadata": {
        "id": "v7vjC_oJ8_i_",
        "colab_type": "code",
        "colab": {
          "base_uri": "https://localhost:8080/",
          "height": 34
        },
        "outputId": "e4c16720-558f-4f67-c097-b3f14ddb58b4"
      },
      "source": [
        "train.shape"
      ],
      "execution_count": 10,
      "outputs": [
        {
          "output_type": "execute_result",
          "data": {
            "text/plain": [
              "(4658147, 39)"
            ]
          },
          "metadata": {
            "tags": []
          },
          "execution_count": 10
        }
      ]
    },
    {
      "cell_type": "code",
      "metadata": {
        "id": "6Q5wC_DdlwjM",
        "colab_type": "code",
        "colab": {
          "base_uri": "https://localhost:8080/",
          "height": 153
        },
        "outputId": "b3971d5b-fca8-4a65-9304-3bf4662b9a24"
      },
      "source": [
        "train.columns"
      ],
      "execution_count": 11,
      "outputs": [
        {
          "output_type": "execute_result",
          "data": {
            "text/plain": [
              "Index(['atom_index_0', 'atom_index_1', 'x_0', 'y_0', 'z_0', 'x_1', 'y_1',\n",
              "       'z_1', 'distance', 'type_enc', 'atom_1_enc', 'atom_0_enc', 'rc_A',\n",
              "       'rc_B', 'rc_C', 'mu', 'alpha', 'homo', 'lumo', 'gap', 'r2', 'zpve',\n",
              "       'U0', 'U', 'H', 'G', 'Cv', 'freqs_min', 'freqs_max', 'freqs_mean',\n",
              "       'linear', 'mulliken_min', 'mulliken_max', 'mulliken_mean',\n",
              "       'mulliken_atom_0', 'mulliken_atom_1', 'pairs_enc', 'bond_int',\n",
              "       'scalar_coupling_constant'],\n",
              "      dtype='object')"
            ]
          },
          "metadata": {
            "tags": []
          },
          "execution_count": 11
        }
      ]
    },
    {
      "cell_type": "code",
      "metadata": {
        "id": "FMR5iy77lyCc",
        "colab_type": "code",
        "colab": {
          "base_uri": "https://localhost:8080/",
          "height": 136
        },
        "outputId": "6dfad007-cc4b-41c1-c529-c634138c7d72"
      },
      "source": [
        "test.columns"
      ],
      "execution_count": 12,
      "outputs": [
        {
          "output_type": "execute_result",
          "data": {
            "text/plain": [
              "Index(['atom_index_0', 'atom_index_1', 'x_0', 'y_0', 'z_0', 'x_1', 'y_1',\n",
              "       'z_1', 'distance', 'type_enc', 'atom_1_enc', 'atom_0_enc', 'rc_A',\n",
              "       'rc_B', 'rc_C', 'mu', 'alpha', 'homo', 'lumo', 'gap', 'r2', 'zpve',\n",
              "       'U0', 'U', 'H', 'G', 'Cv', 'freqs_min', 'freqs_max', 'freqs_mean',\n",
              "       'linear', 'mulliken_min', 'mulliken_max', 'mulliken_mean',\n",
              "       'mulliken_atom_0', 'mulliken_atom_1', 'pairs_enc', 'bond_int'],\n",
              "      dtype='object')"
            ]
          },
          "metadata": {
            "tags": []
          },
          "execution_count": 12
        }
      ]
    },
    {
      "cell_type": "code",
      "metadata": {
        "id": "lt8wOjTkl5fR",
        "colab_type": "code",
        "colab": {}
      },
      "source": [
        ""
      ],
      "execution_count": 0,
      "outputs": []
    },
    {
      "cell_type": "code",
      "metadata": {
        "id": "R7q9vFFv5va6",
        "colab_type": "code",
        "colab": {}
      },
      "source": [
        ""
      ],
      "execution_count": 0,
      "outputs": []
    },
    {
      "cell_type": "code",
      "metadata": {
        "id": "eOBmZL8X5vRu",
        "colab_type": "code",
        "colab": {}
      },
      "source": [
        ""
      ],
      "execution_count": 0,
      "outputs": []
    },
    {
      "cell_type": "markdown",
      "metadata": {
        "id": "nn54CC0B54v2",
        "colab_type": "text"
      },
      "source": [
        "# Creating training, validation and testing data"
      ]
    },
    {
      "cell_type": "code",
      "metadata": {
        "id": "1FxlHYha_rHn",
        "colab_type": "code",
        "colab": {
          "base_uri": "https://localhost:8080/",
          "height": 224
        },
        "outputId": "0f8695da-5661-4187-fcb4-d8347b10184b"
      },
      "source": [
        "x=train.drop('scalar_coupling_constant',axis=1)\n",
        "x.head()"
      ],
      "execution_count": 13,
      "outputs": [
        {
          "output_type": "execute_result",
          "data": {
            "text/html": [
              "<div>\n",
              "<style scoped>\n",
              "    .dataframe tbody tr th:only-of-type {\n",
              "        vertical-align: middle;\n",
              "    }\n",
              "\n",
              "    .dataframe tbody tr th {\n",
              "        vertical-align: top;\n",
              "    }\n",
              "\n",
              "    .dataframe thead th {\n",
              "        text-align: right;\n",
              "    }\n",
              "</style>\n",
              "<table border=\"1\" class=\"dataframe\">\n",
              "  <thead>\n",
              "    <tr style=\"text-align: right;\">\n",
              "      <th></th>\n",
              "      <th>atom_index_0</th>\n",
              "      <th>atom_index_1</th>\n",
              "      <th>x_0</th>\n",
              "      <th>y_0</th>\n",
              "      <th>z_0</th>\n",
              "      <th>x_1</th>\n",
              "      <th>y_1</th>\n",
              "      <th>z_1</th>\n",
              "      <th>distance</th>\n",
              "      <th>type_enc</th>\n",
              "      <th>atom_1_enc</th>\n",
              "      <th>atom_0_enc</th>\n",
              "      <th>rc_A</th>\n",
              "      <th>rc_B</th>\n",
              "      <th>rc_C</th>\n",
              "      <th>mu</th>\n",
              "      <th>alpha</th>\n",
              "      <th>homo</th>\n",
              "      <th>lumo</th>\n",
              "      <th>gap</th>\n",
              "      <th>r2</th>\n",
              "      <th>zpve</th>\n",
              "      <th>U0</th>\n",
              "      <th>U</th>\n",
              "      <th>H</th>\n",
              "      <th>G</th>\n",
              "      <th>Cv</th>\n",
              "      <th>freqs_min</th>\n",
              "      <th>freqs_max</th>\n",
              "      <th>freqs_mean</th>\n",
              "      <th>linear</th>\n",
              "      <th>mulliken_min</th>\n",
              "      <th>mulliken_max</th>\n",
              "      <th>mulliken_mean</th>\n",
              "      <th>mulliken_atom_0</th>\n",
              "      <th>mulliken_atom_1</th>\n",
              "      <th>pairs_enc</th>\n",
              "      <th>bond_int</th>\n",
              "    </tr>\n",
              "  </thead>\n",
              "  <tbody>\n",
              "    <tr>\n",
              "      <th>0</th>\n",
              "      <td>1</td>\n",
              "      <td>0</td>\n",
              "      <td>0.002150</td>\n",
              "      <td>-0.006031</td>\n",
              "      <td>0.001976</td>\n",
              "      <td>-0.012698</td>\n",
              "      <td>1.085804</td>\n",
              "      <td>0.008001</td>\n",
              "      <td>1.091953</td>\n",
              "      <td>0</td>\n",
              "      <td>0</td>\n",
              "      <td>1</td>\n",
              "      <td>157.7118</td>\n",
              "      <td>157.70997</td>\n",
              "      <td>157.70699</td>\n",
              "      <td>0.0</td>\n",
              "      <td>13.21</td>\n",
              "      <td>-0.3877</td>\n",
              "      <td>0.1171</td>\n",
              "      <td>0.5048</td>\n",
              "      <td>35.3641</td>\n",
              "      <td>0.044749</td>\n",
              "      <td>-40.47893</td>\n",
              "      <td>-40.476062</td>\n",
              "      <td>-40.475117</td>\n",
              "      <td>-40.498597</td>\n",
              "      <td>6.469</td>\n",
              "      <td>1341.307</td>\n",
              "      <td>3151.7078</td>\n",
              "      <td>2182.525478</td>\n",
              "      <td>1.0</td>\n",
              "      <td>-0.535689</td>\n",
              "      <td>0.133923</td>\n",
              "      <td>0.0</td>\n",
              "      <td>0.133921</td>\n",
              "      <td>-0.535689</td>\n",
              "      <td>2</td>\n",
              "      <td>1</td>\n",
              "    </tr>\n",
              "    <tr>\n",
              "      <th>1</th>\n",
              "      <td>1</td>\n",
              "      <td>2</td>\n",
              "      <td>0.002150</td>\n",
              "      <td>-0.006031</td>\n",
              "      <td>0.001976</td>\n",
              "      <td>1.011731</td>\n",
              "      <td>1.463751</td>\n",
              "      <td>0.000277</td>\n",
              "      <td>1.783120</td>\n",
              "      <td>3</td>\n",
              "      <td>1</td>\n",
              "      <td>1</td>\n",
              "      <td>157.7118</td>\n",
              "      <td>157.70997</td>\n",
              "      <td>157.70699</td>\n",
              "      <td>0.0</td>\n",
              "      <td>13.21</td>\n",
              "      <td>-0.3877</td>\n",
              "      <td>0.1171</td>\n",
              "      <td>0.5048</td>\n",
              "      <td>35.3641</td>\n",
              "      <td>0.044749</td>\n",
              "      <td>-40.47893</td>\n",
              "      <td>-40.476062</td>\n",
              "      <td>-40.475117</td>\n",
              "      <td>-40.498597</td>\n",
              "      <td>6.469</td>\n",
              "      <td>1341.307</td>\n",
              "      <td>3151.7078</td>\n",
              "      <td>2182.525478</td>\n",
              "      <td>1.0</td>\n",
              "      <td>-0.535689</td>\n",
              "      <td>0.133923</td>\n",
              "      <td>0.0</td>\n",
              "      <td>0.133921</td>\n",
              "      <td>0.133922</td>\n",
              "      <td>11</td>\n",
              "      <td>1</td>\n",
              "    </tr>\n",
              "    <tr>\n",
              "      <th>2</th>\n",
              "      <td>1</td>\n",
              "      <td>3</td>\n",
              "      <td>0.002150</td>\n",
              "      <td>-0.006031</td>\n",
              "      <td>0.001976</td>\n",
              "      <td>-0.540815</td>\n",
              "      <td>1.447527</td>\n",
              "      <td>-0.876644</td>\n",
              "      <td>1.783147</td>\n",
              "      <td>3</td>\n",
              "      <td>1</td>\n",
              "      <td>1</td>\n",
              "      <td>157.7118</td>\n",
              "      <td>157.70997</td>\n",
              "      <td>157.70699</td>\n",
              "      <td>0.0</td>\n",
              "      <td>13.21</td>\n",
              "      <td>-0.3877</td>\n",
              "      <td>0.1171</td>\n",
              "      <td>0.5048</td>\n",
              "      <td>35.3641</td>\n",
              "      <td>0.044749</td>\n",
              "      <td>-40.47893</td>\n",
              "      <td>-40.476062</td>\n",
              "      <td>-40.475117</td>\n",
              "      <td>-40.498597</td>\n",
              "      <td>6.469</td>\n",
              "      <td>1341.307</td>\n",
              "      <td>3151.7078</td>\n",
              "      <td>2182.525478</td>\n",
              "      <td>1.0</td>\n",
              "      <td>-0.535689</td>\n",
              "      <td>0.133923</td>\n",
              "      <td>0.0</td>\n",
              "      <td>0.133921</td>\n",
              "      <td>0.133923</td>\n",
              "      <td>11</td>\n",
              "      <td>1</td>\n",
              "    </tr>\n",
              "    <tr>\n",
              "      <th>3</th>\n",
              "      <td>1</td>\n",
              "      <td>4</td>\n",
              "      <td>0.002150</td>\n",
              "      <td>-0.006031</td>\n",
              "      <td>0.001976</td>\n",
              "      <td>-0.523814</td>\n",
              "      <td>1.437933</td>\n",
              "      <td>0.906397</td>\n",
              "      <td>1.783157</td>\n",
              "      <td>3</td>\n",
              "      <td>1</td>\n",
              "      <td>1</td>\n",
              "      <td>157.7118</td>\n",
              "      <td>157.70997</td>\n",
              "      <td>157.70699</td>\n",
              "      <td>0.0</td>\n",
              "      <td>13.21</td>\n",
              "      <td>-0.3877</td>\n",
              "      <td>0.1171</td>\n",
              "      <td>0.5048</td>\n",
              "      <td>35.3641</td>\n",
              "      <td>0.044749</td>\n",
              "      <td>-40.47893</td>\n",
              "      <td>-40.476062</td>\n",
              "      <td>-40.475117</td>\n",
              "      <td>-40.498597</td>\n",
              "      <td>6.469</td>\n",
              "      <td>1341.307</td>\n",
              "      <td>3151.7078</td>\n",
              "      <td>2182.525478</td>\n",
              "      <td>1.0</td>\n",
              "      <td>-0.535689</td>\n",
              "      <td>0.133923</td>\n",
              "      <td>0.0</td>\n",
              "      <td>0.133921</td>\n",
              "      <td>0.133923</td>\n",
              "      <td>11</td>\n",
              "      <td>1</td>\n",
              "    </tr>\n",
              "    <tr>\n",
              "      <th>4</th>\n",
              "      <td>2</td>\n",
              "      <td>0</td>\n",
              "      <td>1.011731</td>\n",
              "      <td>1.463751</td>\n",
              "      <td>0.000277</td>\n",
              "      <td>-0.012698</td>\n",
              "      <td>1.085804</td>\n",
              "      <td>0.008001</td>\n",
              "      <td>1.091952</td>\n",
              "      <td>0</td>\n",
              "      <td>0</td>\n",
              "      <td>1</td>\n",
              "      <td>157.7118</td>\n",
              "      <td>157.70997</td>\n",
              "      <td>157.70699</td>\n",
              "      <td>0.0</td>\n",
              "      <td>13.21</td>\n",
              "      <td>-0.3877</td>\n",
              "      <td>0.1171</td>\n",
              "      <td>0.5048</td>\n",
              "      <td>35.3641</td>\n",
              "      <td>0.044749</td>\n",
              "      <td>-40.47893</td>\n",
              "      <td>-40.476062</td>\n",
              "      <td>-40.475117</td>\n",
              "      <td>-40.498597</td>\n",
              "      <td>6.469</td>\n",
              "      <td>1341.307</td>\n",
              "      <td>3151.7078</td>\n",
              "      <td>2182.525478</td>\n",
              "      <td>1.0</td>\n",
              "      <td>-0.535689</td>\n",
              "      <td>0.133923</td>\n",
              "      <td>0.0</td>\n",
              "      <td>0.133922</td>\n",
              "      <td>-0.535689</td>\n",
              "      <td>2</td>\n",
              "      <td>1</td>\n",
              "    </tr>\n",
              "  </tbody>\n",
              "</table>\n",
              "</div>"
            ],
            "text/plain": [
              "   atom_index_0  atom_index_1       x_0  ...  mulliken_atom_1  pairs_enc  bond_int\n",
              "0             1             0  0.002150  ...        -0.535689          2         1\n",
              "1             1             2  0.002150  ...         0.133922         11         1\n",
              "2             1             3  0.002150  ...         0.133923         11         1\n",
              "3             1             4  0.002150  ...         0.133923         11         1\n",
              "4             2             0  1.011731  ...        -0.535689          2         1\n",
              "\n",
              "[5 rows x 38 columns]"
            ]
          },
          "metadata": {
            "tags": []
          },
          "execution_count": 13
        }
      ]
    },
    {
      "cell_type": "code",
      "metadata": {
        "id": "69y8suV9_rHt",
        "colab_type": "code",
        "colab": {
          "base_uri": "https://localhost:8080/",
          "height": 119
        },
        "outputId": "611a6c9b-0cdd-4f4b-f0f3-03799882bb96"
      },
      "source": [
        "y=train['scalar_coupling_constant']\n",
        "y.head()"
      ],
      "execution_count": 14,
      "outputs": [
        {
          "output_type": "execute_result",
          "data": {
            "text/plain": [
              "0    84.8076\n",
              "1   -11.2570\n",
              "2   -11.2548\n",
              "3   -11.2543\n",
              "4    84.8074\n",
              "Name: scalar_coupling_constant, dtype: float64"
            ]
          },
          "metadata": {
            "tags": []
          },
          "execution_count": 14
        }
      ]
    },
    {
      "cell_type": "code",
      "metadata": {
        "id": "dfPU-R6P_rH0",
        "colab_type": "code",
        "colab": {}
      },
      "source": [
        "from sklearn.model_selection import train_test_split"
      ],
      "execution_count": 0,
      "outputs": []
    },
    {
      "cell_type": "code",
      "metadata": {
        "id": "-Uw7yBgD_rH7",
        "colab_type": "code",
        "colab": {}
      },
      "source": [
        "x_train,x_val,y_train,y_val=train_test_split(x,y,test_size=0.3)"
      ],
      "execution_count": 0,
      "outputs": []
    },
    {
      "cell_type": "code",
      "metadata": {
        "id": "t4vu5JeB_rIB",
        "colab_type": "code",
        "colab": {
          "base_uri": "https://localhost:8080/",
          "height": 51
        },
        "outputId": "f98354db-8fa1-40c2-d6e6-a2bb63826792"
      },
      "source": [
        "print('x_train: {}   y_train: {}'.format(x_train.shape,y_train.shape))\n",
        "print('x_val: {}   y_val: {}'.format(x_val.shape,y_val.shape))"
      ],
      "execution_count": 17,
      "outputs": [
        {
          "output_type": "stream",
          "text": [
            "x_train: (3260702, 38)   y_train: (3260702,)\n",
            "x_val: (1397445, 38)   y_val: (1397445,)\n"
          ],
          "name": "stdout"
        }
      ]
    },
    {
      "cell_type": "code",
      "metadata": {
        "id": "JfRqlI4W_rIU",
        "colab_type": "code",
        "colab": {
          "base_uri": "https://localhost:8080/",
          "height": 34
        },
        "outputId": "c2ad1dc0-332f-4a0d-fa3b-a2e937f64188"
      },
      "source": [
        "x_test=test\n",
        "x_test.shape"
      ],
      "execution_count": 18,
      "outputs": [
        {
          "output_type": "execute_result",
          "data": {
            "text/plain": [
              "(2505542, 38)"
            ]
          },
          "metadata": {
            "tags": []
          },
          "execution_count": 18
        }
      ]
    },
    {
      "cell_type": "markdown",
      "metadata": {
        "id": "Mbtu4x0v_rIg",
        "colab_type": "text"
      },
      "source": [
        "# Training & Evaluation"
      ]
    },
    {
      "cell_type": "code",
      "metadata": {
        "id": "041dH63j9Dq0",
        "colab_type": "code",
        "colab": {
          "base_uri": "https://localhost:8080/",
          "height": 34
        },
        "outputId": "fa08de67-107c-4a66-9884-7587a3b6800b"
      },
      "source": [
        "import gc\n",
        "gc.collect()"
      ],
      "execution_count": 32,
      "outputs": [
        {
          "output_type": "execute_result",
          "data": {
            "text/plain": [
              "328"
            ]
          },
          "metadata": {
            "tags": []
          },
          "execution_count": 32
        }
      ]
    },
    {
      "cell_type": "code",
      "metadata": {
        "id": "68k2eU0a_rIh",
        "colab_type": "code",
        "colab": {
          "base_uri": "https://localhost:8080/",
          "height": 445
        },
        "outputId": "c2badb92-37a2-4055-e5b1-24db43fd6962"
      },
      "source": [
        "input_shape=(38,)\n",
        "model_nn=keras.Sequential()\n",
        "model_nn.add(keras.layers.Dense(64,activation='relu',input_shape=input_shape))\n",
        "model_nn.add(keras.layers.Dense(128,activation='relu'))\n",
        "#model_nn.add(keras.layers.Dense(256,activation='relu'))\n",
        "#model_nn.add(keras.layers.Dense(512,activation='relu'))\n",
        "model_nn.add(keras.layers.Dense(128,activation='relu'))\n",
        "model_nn.add(keras.layers.Dense(64,activation='relu'))\n",
        "model_nn.add(keras.layers.Dense(8,activation='relu'))\n",
        "model_nn.add(keras.layers.Dense(1))\n",
        "\n",
        "model_nn.summary()"
      ],
      "execution_count": 19,
      "outputs": [
        {
          "output_type": "stream",
          "text": [
            "WARNING: Logging before flag parsing goes to stderr.\n",
            "W0814 16:29:07.790420 139934774769536 deprecation.py:506] From /usr/local/lib/python3.6/dist-packages/tensorflow/python/ops/init_ops.py:1251: calling VarianceScaling.__init__ (from tensorflow.python.ops.init_ops) with dtype is deprecated and will be removed in a future version.\n",
            "Instructions for updating:\n",
            "Call initializer instance with the dtype argument instead of passing it to the constructor\n"
          ],
          "name": "stderr"
        },
        {
          "output_type": "stream",
          "text": [
            "Model: \"sequential\"\n",
            "_________________________________________________________________\n",
            "Layer (type)                 Output Shape              Param #   \n",
            "=================================================================\n",
            "dense (Dense)                (None, 64)                2496      \n",
            "_________________________________________________________________\n",
            "dense_1 (Dense)              (None, 128)               8320      \n",
            "_________________________________________________________________\n",
            "dense_2 (Dense)              (None, 128)               16512     \n",
            "_________________________________________________________________\n",
            "dense_3 (Dense)              (None, 64)                8256      \n",
            "_________________________________________________________________\n",
            "dense_4 (Dense)              (None, 8)                 520       \n",
            "_________________________________________________________________\n",
            "dense_5 (Dense)              (None, 1)                 9         \n",
            "=================================================================\n",
            "Total params: 36,113\n",
            "Trainable params: 36,113\n",
            "Non-trainable params: 0\n",
            "_________________________________________________________________\n"
          ],
          "name": "stdout"
        }
      ]
    },
    {
      "cell_type": "code",
      "metadata": {
        "id": "dgs9mXm0_rIt",
        "colab_type": "code",
        "colab": {}
      },
      "source": [
        "model_nn.compile(optimizer='adam',loss='mean_absolute_error')"
      ],
      "execution_count": 0,
      "outputs": []
    },
    {
      "cell_type": "code",
      "metadata": {
        "id": "oobsTgkw_rI3",
        "colab_type": "code",
        "colab": {
          "base_uri": "https://localhost:8080/",
          "height": 731
        },
        "outputId": "a0aff14f-3730-4e46-b0f2-05004260b0ec"
      },
      "source": [
        "model_nn.fit(x_train,y_train,epochs=20,batch_size=512,validation_data=(x_val,y_val))"
      ],
      "execution_count": 22,
      "outputs": [
        {
          "output_type": "stream",
          "text": [
            "Train on 3260702 samples, validate on 1397445 samples\n",
            "Epoch 1/20\n",
            "3260702/3260702 [==============================] - 30s 9us/sample - loss: 3.9214 - val_loss: 3.6140\n",
            "Epoch 2/20\n",
            "3260702/3260702 [==============================] - 31s 9us/sample - loss: 3.6764 - val_loss: 3.5721\n",
            "Epoch 3/20\n",
            "3260702/3260702 [==============================] - 30s 9us/sample - loss: 3.6493 - val_loss: 3.5280\n",
            "Epoch 4/20\n",
            "3260702/3260702 [==============================] - 30s 9us/sample - loss: 3.4700 - val_loss: 3.4285\n",
            "Epoch 5/20\n",
            "3260702/3260702 [==============================] - 30s 9us/sample - loss: 3.3946 - val_loss: 3.3059\n",
            "Epoch 6/20\n",
            "3260702/3260702 [==============================] - 30s 9us/sample - loss: 3.3506 - val_loss: 3.2760\n",
            "Epoch 7/20\n",
            "3260702/3260702 [==============================] - 30s 9us/sample - loss: 3.3378 - val_loss: 3.2740\n",
            "Epoch 8/20\n",
            "3260702/3260702 [==============================] - 30s 9us/sample - loss: 3.2873 - val_loss: 3.2224\n",
            "Epoch 9/20\n",
            "3260702/3260702 [==============================] - 30s 9us/sample - loss: 3.2718 - val_loss: 3.1942\n",
            "Epoch 10/20\n",
            "3260702/3260702 [==============================] - 30s 9us/sample - loss: 3.2518 - val_loss: 3.1543\n",
            "Epoch 11/20\n",
            "3260702/3260702 [==============================] - 30s 9us/sample - loss: 3.2284 - val_loss: 3.2699\n",
            "Epoch 12/20\n",
            "3260702/3260702 [==============================] - 31s 9us/sample - loss: 3.2187 - val_loss: 3.1921\n",
            "Epoch 13/20\n",
            "3260702/3260702 [==============================] - 30s 9us/sample - loss: 3.1948 - val_loss: 3.1754\n",
            "Epoch 14/20\n",
            "3260702/3260702 [==============================] - 30s 9us/sample - loss: 3.1817 - val_loss: 3.1148\n",
            "Epoch 15/20\n",
            "3260702/3260702 [==============================] - 30s 9us/sample - loss: 3.1672 - val_loss: 3.0871\n",
            "Epoch 16/20\n",
            "3260702/3260702 [==============================] - 30s 9us/sample - loss: 3.1565 - val_loss: 3.1197\n",
            "Epoch 17/20\n",
            "3260702/3260702 [==============================] - 30s 9us/sample - loss: 3.1391 - val_loss: 3.1351\n",
            "Epoch 18/20\n",
            "3260702/3260702 [==============================] - 30s 9us/sample - loss: 3.1364 - val_loss: 3.1110\n",
            "Epoch 19/20\n",
            "3260702/3260702 [==============================] - 30s 9us/sample - loss: 3.1257 - val_loss: 3.0460\n",
            "Epoch 20/20\n",
            "3260702/3260702 [==============================] - 30s 9us/sample - loss: 3.1071 - val_loss: 3.0453\n"
          ],
          "name": "stdout"
        },
        {
          "output_type": "execute_result",
          "data": {
            "text/plain": [
              "<tensorflow.python.keras.callbacks.History at 0x7f44d001c400>"
            ]
          },
          "metadata": {
            "tags": []
          },
          "execution_count": 22
        }
      ]
    },
    {
      "cell_type": "markdown",
      "metadata": {
        "id": "gLQsXUR-D-gg",
        "colab_type": "text"
      },
      "source": [
        "# Train on whole data"
      ]
    },
    {
      "cell_type": "code",
      "metadata": {
        "id": "fLzXi6OEEDT8",
        "colab_type": "code",
        "colab": {
          "base_uri": "https://localhost:8080/",
          "height": 221
        },
        "outputId": "910582af-b7bd-46dc-e926-2c5ef11916b6"
      },
      "source": [
        "model_nn.fit(x,y,epochs=5,batch_size=512,validation_data=(x_val,y_val))"
      ],
      "execution_count": 23,
      "outputs": [
        {
          "output_type": "stream",
          "text": [
            "Train on 4658147 samples, validate on 1397445 samples\n",
            "Epoch 1/5\n",
            "4658147/4658147 [==============================] - 41s 9us/sample - loss: 3.1120 - val_loss: 3.0486\n",
            "Epoch 2/5\n",
            "4658147/4658147 [==============================] - 41s 9us/sample - loss: 3.0955 - val_loss: 3.1948\n",
            "Epoch 3/5\n",
            "4658147/4658147 [==============================] - 41s 9us/sample - loss: 3.0829 - val_loss: 3.0855\n",
            "Epoch 4/5\n",
            "4658147/4658147 [==============================] - 41s 9us/sample - loss: 3.0748 - val_loss: 2.9660\n",
            "Epoch 5/5\n",
            "4658147/4658147 [==============================] - 40s 9us/sample - loss: 3.0661 - val_loss: 3.0940\n"
          ],
          "name": "stdout"
        },
        {
          "output_type": "execute_result",
          "data": {
            "text/plain": [
              "<tensorflow.python.keras.callbacks.History at 0x7f44c7110588>"
            ]
          },
          "metadata": {
            "tags": []
          },
          "execution_count": 23
        }
      ]
    },
    {
      "cell_type": "markdown",
      "metadata": {
        "id": "bsWsfTC3_rJe",
        "colab_type": "text"
      },
      "source": [
        "# Serialize the model"
      ]
    },
    {
      "cell_type": "code",
      "metadata": {
        "id": "4mm-Sy-R_rJh",
        "colab_type": "code",
        "colab": {}
      },
      "source": [
        "tf.keras.models.save_model(model_nn,'kaggle_model_nn_v2_with_bonds.h5',overwrite=True,include_optimizer=True)"
      ],
      "execution_count": 0,
      "outputs": []
    },
    {
      "cell_type": "code",
      "metadata": {
        "id": "WhTlMCWH_rJ3",
        "colab_type": "code",
        "colab": {}
      },
      "source": [
        "!ls"
      ],
      "execution_count": 0,
      "outputs": []
    },
    {
      "cell_type": "markdown",
      "metadata": {
        "id": "33gJdaCV_rJ8",
        "colab_type": "text"
      },
      "source": [
        "# Create Submission file"
      ]
    },
    {
      "cell_type": "code",
      "metadata": {
        "id": "QQZCplF8INAf",
        "colab_type": "code",
        "colab": {
          "base_uri": "https://localhost:8080/",
          "height": 34
        },
        "outputId": "8d8dc5ff-1a12-49b3-a56b-28cae9078143"
      },
      "source": [
        "import gc\n",
        "gc.collect()"
      ],
      "execution_count": 37,
      "outputs": [
        {
          "output_type": "execute_result",
          "data": {
            "text/plain": [
              "634"
            ]
          },
          "metadata": {
            "tags": []
          },
          "execution_count": 37
        }
      ]
    },
    {
      "cell_type": "code",
      "metadata": {
        "id": "QNkeYenM_rJ_",
        "colab_type": "code",
        "colab": {
          "base_uri": "https://localhost:8080/",
          "height": 204
        },
        "outputId": "9c05eef0-589e-41ba-d221-294fd13aebeb"
      },
      "source": [
        "#test=pd.read_csv('test_feat_eng_v2.csv')\n",
        "test_predictions=model_nn.predict(test,verbose=1,batch_size=10000)\n",
        "test_predictions[:10]"
      ],
      "execution_count": 25,
      "outputs": [
        {
          "output_type": "stream",
          "text": [
            "2505542/2505542 [==============================] - 1s 1us/sample\n"
          ],
          "name": "stdout"
        },
        {
          "output_type": "execute_result",
          "data": {
            "text/plain": [
              "array([[ 20.150017 ],\n",
              "       [  0.5381685],\n",
              "       [ -3.6198368],\n",
              "       [  0.5381685],\n",
              "       [  4.5417128],\n",
              "       [ 74.119545 ],\n",
              "       [ -9.192482 ],\n",
              "       [ -5.4883533],\n",
              "       [-11.815308 ],\n",
              "       [ 75.20229  ]], dtype=float32)"
            ]
          },
          "metadata": {
            "tags": []
          },
          "execution_count": 25
        }
      ]
    },
    {
      "cell_type": "code",
      "metadata": {
        "id": "rQDPCLCo_rKF",
        "colab_type": "code",
        "colab": {
          "base_uri": "https://localhost:8080/",
          "height": 34
        },
        "outputId": "4d6477de-13eb-4d69-d6aa-f1c389239cfa"
      },
      "source": [
        "test_predictions.shape"
      ],
      "execution_count": 26,
      "outputs": [
        {
          "output_type": "execute_result",
          "data": {
            "text/plain": [
              "(2505542, 1)"
            ]
          },
          "metadata": {
            "tags": []
          },
          "execution_count": 26
        }
      ]
    },
    {
      "cell_type": "code",
      "metadata": {
        "id": "H5ztViLY_rKL",
        "colab_type": "code",
        "colab": {
          "base_uri": "https://localhost:8080/",
          "height": 204
        },
        "outputId": "d3d5b3b8-8926-4833-b724-041421e6cf2c"
      },
      "source": [
        "sample_submission=pd.read_csv('sample_submission.csv.zip')\n",
        "sample_submission.head()"
      ],
      "execution_count": 27,
      "outputs": [
        {
          "output_type": "execute_result",
          "data": {
            "text/html": [
              "<div>\n",
              "<style scoped>\n",
              "    .dataframe tbody tr th:only-of-type {\n",
              "        vertical-align: middle;\n",
              "    }\n",
              "\n",
              "    .dataframe tbody tr th {\n",
              "        vertical-align: top;\n",
              "    }\n",
              "\n",
              "    .dataframe thead th {\n",
              "        text-align: right;\n",
              "    }\n",
              "</style>\n",
              "<table border=\"1\" class=\"dataframe\">\n",
              "  <thead>\n",
              "    <tr style=\"text-align: right;\">\n",
              "      <th></th>\n",
              "      <th>id</th>\n",
              "      <th>scalar_coupling_constant</th>\n",
              "    </tr>\n",
              "  </thead>\n",
              "  <tbody>\n",
              "    <tr>\n",
              "      <th>0</th>\n",
              "      <td>4658147</td>\n",
              "      <td>0</td>\n",
              "    </tr>\n",
              "    <tr>\n",
              "      <th>1</th>\n",
              "      <td>4658148</td>\n",
              "      <td>0</td>\n",
              "    </tr>\n",
              "    <tr>\n",
              "      <th>2</th>\n",
              "      <td>4658149</td>\n",
              "      <td>0</td>\n",
              "    </tr>\n",
              "    <tr>\n",
              "      <th>3</th>\n",
              "      <td>4658150</td>\n",
              "      <td>0</td>\n",
              "    </tr>\n",
              "    <tr>\n",
              "      <th>4</th>\n",
              "      <td>4658151</td>\n",
              "      <td>0</td>\n",
              "    </tr>\n",
              "  </tbody>\n",
              "</table>\n",
              "</div>"
            ],
            "text/plain": [
              "        id  scalar_coupling_constant\n",
              "0  4658147                         0\n",
              "1  4658148                         0\n",
              "2  4658149                         0\n",
              "3  4658150                         0\n",
              "4  4658151                         0"
            ]
          },
          "metadata": {
            "tags": []
          },
          "execution_count": 27
        }
      ]
    },
    {
      "cell_type": "code",
      "metadata": {
        "id": "DX5pCXoG_rKW",
        "colab_type": "code",
        "colab": {
          "base_uri": "https://localhost:8080/",
          "height": 204
        },
        "outputId": "17525c60-eee3-4010-8498-d129eb01feb5"
      },
      "source": [
        "sample_submission['scalar_coupling_constant']=test_predictions\n",
        "sample_submission.head()"
      ],
      "execution_count": 28,
      "outputs": [
        {
          "output_type": "execute_result",
          "data": {
            "text/html": [
              "<div>\n",
              "<style scoped>\n",
              "    .dataframe tbody tr th:only-of-type {\n",
              "        vertical-align: middle;\n",
              "    }\n",
              "\n",
              "    .dataframe tbody tr th {\n",
              "        vertical-align: top;\n",
              "    }\n",
              "\n",
              "    .dataframe thead th {\n",
              "        text-align: right;\n",
              "    }\n",
              "</style>\n",
              "<table border=\"1\" class=\"dataframe\">\n",
              "  <thead>\n",
              "    <tr style=\"text-align: right;\">\n",
              "      <th></th>\n",
              "      <th>id</th>\n",
              "      <th>scalar_coupling_constant</th>\n",
              "    </tr>\n",
              "  </thead>\n",
              "  <tbody>\n",
              "    <tr>\n",
              "      <th>0</th>\n",
              "      <td>4658147</td>\n",
              "      <td>20.150017</td>\n",
              "    </tr>\n",
              "    <tr>\n",
              "      <th>1</th>\n",
              "      <td>4658148</td>\n",
              "      <td>0.538168</td>\n",
              "    </tr>\n",
              "    <tr>\n",
              "      <th>2</th>\n",
              "      <td>4658149</td>\n",
              "      <td>-3.619837</td>\n",
              "    </tr>\n",
              "    <tr>\n",
              "      <th>3</th>\n",
              "      <td>4658150</td>\n",
              "      <td>0.538168</td>\n",
              "    </tr>\n",
              "    <tr>\n",
              "      <th>4</th>\n",
              "      <td>4658151</td>\n",
              "      <td>4.541713</td>\n",
              "    </tr>\n",
              "  </tbody>\n",
              "</table>\n",
              "</div>"
            ],
            "text/plain": [
              "        id  scalar_coupling_constant\n",
              "0  4658147                 20.150017\n",
              "1  4658148                  0.538168\n",
              "2  4658149                 -3.619837\n",
              "3  4658150                  0.538168\n",
              "4  4658151                  4.541713"
            ]
          },
          "metadata": {
            "tags": []
          },
          "execution_count": 28
        }
      ]
    },
    {
      "cell_type": "code",
      "metadata": {
        "id": "yLREMC7I_rKe",
        "colab_type": "code",
        "colab": {}
      },
      "source": [
        "sample_submission.to_csv('sample_submission_external_feat_v2_with_bonds.csv',index=False)"
      ],
      "execution_count": 0,
      "outputs": []
    },
    {
      "cell_type": "code",
      "metadata": {
        "id": "lL3tjc8K_rKm",
        "colab_type": "code",
        "colab": {
          "base_uri": "https://localhost:8080/",
          "height": 357
        },
        "outputId": "12cfc61a-3c84-4713-96a3-5194685fa815"
      },
      "source": [
        "!ls"
      ],
      "execution_count": 35,
      "outputs": [
        {
          "output_type": "stream",
          "text": [
            "data.covs.pickle\n",
            "dipole_moments.csv.zip\n",
            "kaggle.json\n",
            "kaggle_model_nn_v2_04.h5\n",
            "magnetic_shielding_tensors.csv.zip\n",
            "mulliken_charges.csv.zip\n",
            "potential_energy.csv.zip\n",
            "sample_data\n",
            "sample_submission.csv.zip\n",
            "sample_submission_distance_baseline_test_02.csv\n",
            "sample_submission_external_feat_v2_01.csv\n",
            "scalar_coupling_contributions.csv.zip\n",
            "structures.csv.zip\n",
            "structures.zip\n",
            "test.csv.zip\n",
            "test_etl.csv\n",
            "test_feat_eng_v2.csv\n",
            "train.csv.zip\n",
            "train_etl.csv\n",
            "train_feat_eng_v2.csv\n"
          ],
          "name": "stdout"
        }
      ]
    },
    {
      "cell_type": "code",
      "metadata": {
        "id": "QNH2GDOU_rKz",
        "colab_type": "code",
        "colab": {
          "base_uri": "https://localhost:8080/",
          "height": 187
        },
        "outputId": "462c1fe3-5e0b-4fc0-cc5c-aebad3f7bcb4"
      },
      "source": [
        "!head sample_submission_distance_baseline_test.csv"
      ],
      "execution_count": 44,
      "outputs": [
        {
          "output_type": "stream",
          "text": [
            "id,scalar_coupling_constant\n",
            "4658147,-3.2472324\n",
            "4658148,91.86721\n",
            "4658149,10.933329\n",
            "4658150,107.796974\n",
            "4658151,1.5662003\n",
            "4658152,107.1634\n",
            "4658153,2.08945\n",
            "4658154,-11.683802\n",
            "4658155,-10.687826\n"
          ],
          "name": "stdout"
        }
      ]
    },
    {
      "cell_type": "markdown",
      "metadata": {
        "id": "o6rIYcGm_rLA",
        "colab_type": "text"
      },
      "source": [
        "# Upload to IBM object store"
      ]
    },
    {
      "cell_type": "code",
      "metadata": {
        "id": "CMDeLsAS_rLD",
        "colab_type": "code",
        "colab": {}
      },
      "source": [
        "from ibm_botocore.client import Config\n",
        "import ibm_boto3\n",
        "def upload_file_cos(credentials,local_file_name,key):  \n",
        "    cos = ibm_boto3.client(service_name='s3',\n",
        "    ibm_api_key_id=credentials['IBM_API_KEY_ID'],\n",
        "    ibm_service_instance_id=credentials['IAM_SERVICE_ID'],\n",
        "    ibm_auth_endpoint=credentials['IBM_AUTH_ENDPOINT'],\n",
        "    config=Config(signature_version='oauth'),\n",
        "    endpoint_url=credentials['ENDPOINT'])\n",
        "    try:\n",
        "        res=cos.upload_file(Filename=local_file_name, Bucket=credentials['BUCKET'],Key=key)\n",
        "    except Exception as e:\n",
        "        print(Exception, e)\n",
        "    else:\n",
        "        print('File Uploaded')"
      ],
      "execution_count": 0,
      "outputs": []
    },
    {
      "cell_type": "code",
      "metadata": {
        "id": "7Z3plS9F_rLK",
        "colab_type": "code",
        "colab": {}
      },
      "source": [
        "upload_file_cos(credentials_2,'sample_submission_test_3.csv','sample_submission_test_3.csv')"
      ],
      "execution_count": 0,
      "outputs": []
    },
    {
      "cell_type": "code",
      "metadata": {
        "id": "aO0Wc-vi_rLN",
        "colab_type": "code",
        "colab": {}
      },
      "source": [
        "upload_file_cos(credentials_2,'kaggle_model_nn_03.h5','kaggle_model_nn_03.h5')"
      ],
      "execution_count": 0,
      "outputs": []
    },
    {
      "cell_type": "code",
      "metadata": {
        "id": "LISDbv6Q_rLT",
        "colab_type": "code",
        "colab": {}
      },
      "source": [
        ""
      ],
      "execution_count": 0,
      "outputs": []
    }
  ]
}