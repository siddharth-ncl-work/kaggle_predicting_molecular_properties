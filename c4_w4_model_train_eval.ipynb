{
  "nbformat": 4,
  "nbformat_minor": 0,
  "metadata": {
    "kernelspec": {
      "name": "python3",
      "display_name": "Python 3"
    },
    "language_info": {
      "mimetype": "text/x-python",
      "nbconvert_exporter": "python",
      "version": "3.6.8",
      "name": "python",
      "file_extension": ".py",
      "pygments_lexer": "ipython3",
      "codemirror_mode": {
        "version": 3,
        "name": "ipython"
      }
    },
    "colab": {
      "name": "c4_w4_model_train_eval.ipynb",
      "version": "0.3.2",
      "provenance": [],
      "toc_visible": true,
      "include_colab_link": true
    }
  },
  "cells": [
    {
      "cell_type": "markdown",
      "metadata": {
        "id": "view-in-github",
        "colab_type": "text"
      },
      "source": [
        "<a href=\"https://colab.research.google.com/github/ss-ghule/kaggle_predicting_molecular_properties/blob/master/c4_w4_model_train_eval.ipynb\" target=\"_parent\"><img src=\"https://colab.research.google.com/assets/colab-badge.svg\" alt=\"Open In Colab\"/></a>"
      ]
    },
    {
      "cell_type": "markdown",
      "metadata": {
        "collapsed": true,
        "id": "yagcl-cp_rGY",
        "colab_type": "text"
      },
      "source": [
        "# Training & Evaluation\n",
        "\n",
        "## ##Training & Evaluation is currently being carried out in google Colaboratory due to less free resources available in IBM watson studio"
      ]
    },
    {
      "cell_type": "markdown",
      "metadata": {
        "id": "FR40RxvC_rGc",
        "colab_type": "text"
      },
      "source": [
        "# Download Data"
      ]
    },
    {
      "cell_type": "code",
      "metadata": {
        "id": "sSaJy3Ky_rGe",
        "colab_type": "code",
        "colab": {}
      },
      "source": [
        "# The code was removed by Watson Studio for sharing."
      ],
      "execution_count": 0,
      "outputs": []
    },
    {
      "cell_type": "code",
      "metadata": {
        "id": "NupJV6Uc_rGn",
        "colab_type": "code",
        "colab": {}
      },
      "source": [
        "from ibm_botocore.client import Config\n",
        "import ibm_boto3\n",
        "def download_file_cos(credentials,local_file_name,key):  \n",
        "    cos = ibm_boto3.client(service_name='s3',\n",
        "    ibm_api_key_id=credentials['IBM_API_KEY_ID'],\n",
        "    ibm_service_instance_id=credentials['IAM_SERVICE_ID'],\n",
        "    ibm_auth_endpoint=credentials['IBM_AUTH_ENDPOINT'],\n",
        "    config=Config(signature_version='oauth'),\n",
        "    endpoint_url=credentials['ENDPOINT'])\n",
        "    try:\n",
        "        res=cos.download_file(Bucket=credentials['BUCKET'],Key=key,Filename=local_file_name)\n",
        "    except Exception as e:\n",
        "        print(Exception, e)\n",
        "    else:\n",
        "        print('File Downloaded')"
      ],
      "execution_count": 0,
      "outputs": []
    },
    {
      "cell_type": "code",
      "metadata": {
        "id": "-E3LKXE2_rGr",
        "colab_type": "code",
        "colab": {},
        "outputId": "8d3c617b-8b80-447e-d298-7686fe928ca6"
      },
      "source": [
        "download_file_cos(credentials_2,'train_feat_eng.csv','train_feat_eng.csv')\n",
        "download_file_cos(credentials_2,'test_feat_eng.csv','test_feat_eng.csv')\n",
        "download_file_cos(credentials_2,'sample_submission.csv','sample_submission.csv')\n",
        "!ls"
      ],
      "execution_count": 0,
      "outputs": [
        {
          "output_type": "stream",
          "text": [
            "File Downloaded\n",
            "File Downloaded\n",
            "File Downloaded\n",
            "sample_submission.csv  test_feat_eng.csv  train_feat_eng.csv\n"
          ],
          "name": "stdout"
        }
      ]
    },
    {
      "cell_type": "markdown",
      "metadata": {
        "id": "bPykO9S6_rG0",
        "colab_type": "text"
      },
      "source": [
        "# Creating training, validation and testing data"
      ]
    },
    {
      "cell_type": "code",
      "metadata": {
        "id": "60DvXJFH_rG2",
        "colab_type": "code",
        "colab": {}
      },
      "source": [
        "import pandas as pd\n",
        "import numpy as np\n",
        "import matplotlib.pyplot as plt\n",
        "import tensorflow as tf\n",
        "from tensorflow import keras\n",
        "import pickle\n",
        "%matplotlib inline"
      ],
      "execution_count": 0,
      "outputs": []
    },
    {
      "cell_type": "code",
      "metadata": {
        "id": "oIaMPaH1_rG_",
        "colab_type": "code",
        "colab": {
          "base_uri": "https://localhost:8080/",
          "height": 34
        },
        "outputId": "7c6fd0ee-2a3e-401d-a2ca-c38ad451bd3d"
      },
      "source": [
        "tf.__version__"
      ],
      "execution_count": 2,
      "outputs": [
        {
          "output_type": "execute_result",
          "data": {
            "text/plain": [
              "'1.14.0'"
            ]
          },
          "metadata": {
            "tags": []
          },
          "execution_count": 2
        }
      ]
    },
    {
      "cell_type": "code",
      "metadata": {
        "id": "OxbPFU2t_rHE",
        "colab_type": "code",
        "colab": {
          "base_uri": "https://localhost:8080/",
          "height": 224
        },
        "outputId": "84f58267-87c7-45ff-a2c3-8b7bdb24ae7b"
      },
      "source": [
        "train=pd.read_csv('train_feat_eng_v2.csv')\n",
        "train.head()"
      ],
      "execution_count": 6,
      "outputs": [
        {
          "output_type": "execute_result",
          "data": {
            "text/html": [
              "<div>\n",
              "<style scoped>\n",
              "    .dataframe tbody tr th:only-of-type {\n",
              "        vertical-align: middle;\n",
              "    }\n",
              "\n",
              "    .dataframe tbody tr th {\n",
              "        vertical-align: top;\n",
              "    }\n",
              "\n",
              "    .dataframe thead th {\n",
              "        text-align: right;\n",
              "    }\n",
              "</style>\n",
              "<table border=\"1\" class=\"dataframe\">\n",
              "  <thead>\n",
              "    <tr style=\"text-align: right;\">\n",
              "      <th></th>\n",
              "      <th>atom_index_0</th>\n",
              "      <th>atom_index_1</th>\n",
              "      <th>x_0</th>\n",
              "      <th>y_0</th>\n",
              "      <th>z_0</th>\n",
              "      <th>x_1</th>\n",
              "      <th>y_1</th>\n",
              "      <th>z_1</th>\n",
              "      <th>mulliken_charge_0</th>\n",
              "      <th>mulliken_charge_1</th>\n",
              "      <th>distance</th>\n",
              "      <th>type_enc</th>\n",
              "      <th>scalar_coupling_constant</th>\n",
              "    </tr>\n",
              "  </thead>\n",
              "  <tbody>\n",
              "    <tr>\n",
              "      <th>0</th>\n",
              "      <td>1</td>\n",
              "      <td>0</td>\n",
              "      <td>0.002150</td>\n",
              "      <td>-0.006031</td>\n",
              "      <td>0.001976</td>\n",
              "      <td>-0.012698</td>\n",
              "      <td>1.085804</td>\n",
              "      <td>0.008001</td>\n",
              "      <td>0.133921</td>\n",
              "      <td>-0.535689</td>\n",
              "      <td>1.091953</td>\n",
              "      <td>0</td>\n",
              "      <td>84.8076</td>\n",
              "    </tr>\n",
              "    <tr>\n",
              "      <th>1</th>\n",
              "      <td>1</td>\n",
              "      <td>2</td>\n",
              "      <td>0.002150</td>\n",
              "      <td>-0.006031</td>\n",
              "      <td>0.001976</td>\n",
              "      <td>1.011731</td>\n",
              "      <td>1.463751</td>\n",
              "      <td>0.000277</td>\n",
              "      <td>0.133921</td>\n",
              "      <td>0.133922</td>\n",
              "      <td>1.783120</td>\n",
              "      <td>3</td>\n",
              "      <td>-11.2570</td>\n",
              "    </tr>\n",
              "    <tr>\n",
              "      <th>2</th>\n",
              "      <td>1</td>\n",
              "      <td>3</td>\n",
              "      <td>0.002150</td>\n",
              "      <td>-0.006031</td>\n",
              "      <td>0.001976</td>\n",
              "      <td>-0.540815</td>\n",
              "      <td>1.447527</td>\n",
              "      <td>-0.876644</td>\n",
              "      <td>0.133921</td>\n",
              "      <td>0.133923</td>\n",
              "      <td>1.783147</td>\n",
              "      <td>3</td>\n",
              "      <td>-11.2548</td>\n",
              "    </tr>\n",
              "    <tr>\n",
              "      <th>3</th>\n",
              "      <td>1</td>\n",
              "      <td>4</td>\n",
              "      <td>0.002150</td>\n",
              "      <td>-0.006031</td>\n",
              "      <td>0.001976</td>\n",
              "      <td>-0.523814</td>\n",
              "      <td>1.437933</td>\n",
              "      <td>0.906397</td>\n",
              "      <td>0.133921</td>\n",
              "      <td>0.133923</td>\n",
              "      <td>1.783157</td>\n",
              "      <td>3</td>\n",
              "      <td>-11.2543</td>\n",
              "    </tr>\n",
              "    <tr>\n",
              "      <th>4</th>\n",
              "      <td>2</td>\n",
              "      <td>0</td>\n",
              "      <td>1.011731</td>\n",
              "      <td>1.463751</td>\n",
              "      <td>0.000277</td>\n",
              "      <td>-0.012698</td>\n",
              "      <td>1.085804</td>\n",
              "      <td>0.008001</td>\n",
              "      <td>0.133922</td>\n",
              "      <td>-0.535689</td>\n",
              "      <td>1.091952</td>\n",
              "      <td>0</td>\n",
              "      <td>84.8074</td>\n",
              "    </tr>\n",
              "  </tbody>\n",
              "</table>\n",
              "</div>"
            ],
            "text/plain": [
              "   atom_index_0  atom_index_1  ...  type_enc  scalar_coupling_constant\n",
              "0             1             0  ...         0                   84.8076\n",
              "1             1             2  ...         3                  -11.2570\n",
              "2             1             3  ...         3                  -11.2548\n",
              "3             1             4  ...         3                  -11.2543\n",
              "4             2             0  ...         0                   84.8074\n",
              "\n",
              "[5 rows x 13 columns]"
            ]
          },
          "metadata": {
            "tags": []
          },
          "execution_count": 6
        }
      ]
    },
    {
      "cell_type": "code",
      "metadata": {
        "id": "5o6ysyiF_rHL",
        "colab_type": "code",
        "colab": {
          "base_uri": "https://localhost:8080/",
          "height": 34
        },
        "outputId": "eaa32b2a-90e5-49ce-bd8c-f15db5e4e79a"
      },
      "source": [
        "train.shape"
      ],
      "execution_count": 7,
      "outputs": [
        {
          "output_type": "execute_result",
          "data": {
            "text/plain": [
              "(4658147, 13)"
            ]
          },
          "metadata": {
            "tags": []
          },
          "execution_count": 7
        }
      ]
    },
    {
      "cell_type": "code",
      "metadata": {
        "id": "Gyb8B2Y6_rHR",
        "colab_type": "code",
        "colab": {
          "base_uri": "https://localhost:8080/",
          "height": 224
        },
        "outputId": "615111c5-d136-4b57-f76f-75f8d97496d6"
      },
      "source": [
        "test=pd.read_csv('test_feat_eng_v2.csv')\n",
        "test.head()"
      ],
      "execution_count": 36,
      "outputs": [
        {
          "output_type": "execute_result",
          "data": {
            "text/html": [
              "<div>\n",
              "<style scoped>\n",
              "    .dataframe tbody tr th:only-of-type {\n",
              "        vertical-align: middle;\n",
              "    }\n",
              "\n",
              "    .dataframe tbody tr th {\n",
              "        vertical-align: top;\n",
              "    }\n",
              "\n",
              "    .dataframe thead th {\n",
              "        text-align: right;\n",
              "    }\n",
              "</style>\n",
              "<table border=\"1\" class=\"dataframe\">\n",
              "  <thead>\n",
              "    <tr style=\"text-align: right;\">\n",
              "      <th></th>\n",
              "      <th>atom_index_0</th>\n",
              "      <th>atom_index_1</th>\n",
              "      <th>x_0</th>\n",
              "      <th>y_0</th>\n",
              "      <th>z_0</th>\n",
              "      <th>x_1</th>\n",
              "      <th>y_1</th>\n",
              "      <th>z_1</th>\n",
              "      <th>mulliken_charge_0</th>\n",
              "      <th>mulliken_charge_1</th>\n",
              "      <th>distance</th>\n",
              "      <th>type_enc</th>\n",
              "    </tr>\n",
              "  </thead>\n",
              "  <tbody>\n",
              "    <tr>\n",
              "      <th>0</th>\n",
              "      <td>2</td>\n",
              "      <td>0</td>\n",
              "      <td>-1.661639</td>\n",
              "      <td>0.0</td>\n",
              "      <td>1.0</td>\n",
              "      <td>0.599539</td>\n",
              "      <td>0.0</td>\n",
              "      <td>1.0</td>\n",
              "      <td>NaN</td>\n",
              "      <td>-0.064872</td>\n",
              "      <td>2.261178</td>\n",
              "      <td>2</td>\n",
              "    </tr>\n",
              "    <tr>\n",
              "      <th>1</th>\n",
              "      <td>2</td>\n",
              "      <td>1</td>\n",
              "      <td>-1.661639</td>\n",
              "      <td>0.0</td>\n",
              "      <td>1.0</td>\n",
              "      <td>-0.599539</td>\n",
              "      <td>0.0</td>\n",
              "      <td>1.0</td>\n",
              "      <td>NaN</td>\n",
              "      <td>-0.064872</td>\n",
              "      <td>1.062099</td>\n",
              "      <td>0</td>\n",
              "    </tr>\n",
              "    <tr>\n",
              "      <th>2</th>\n",
              "      <td>2</td>\n",
              "      <td>3</td>\n",
              "      <td>-1.661639</td>\n",
              "      <td>0.0</td>\n",
              "      <td>1.0</td>\n",
              "      <td>1.661639</td>\n",
              "      <td>0.0</td>\n",
              "      <td>1.0</td>\n",
              "      <td>NaN</td>\n",
              "      <td>0.118187</td>\n",
              "      <td>3.323277</td>\n",
              "      <td>6</td>\n",
              "    </tr>\n",
              "    <tr>\n",
              "      <th>3</th>\n",
              "      <td>3</td>\n",
              "      <td>0</td>\n",
              "      <td>1.661639</td>\n",
              "      <td>0.0</td>\n",
              "      <td>1.0</td>\n",
              "      <td>0.599539</td>\n",
              "      <td>0.0</td>\n",
              "      <td>1.0</td>\n",
              "      <td>NaN</td>\n",
              "      <td>-0.064872</td>\n",
              "      <td>1.062099</td>\n",
              "      <td>0</td>\n",
              "    </tr>\n",
              "    <tr>\n",
              "      <th>4</th>\n",
              "      <td>3</td>\n",
              "      <td>1</td>\n",
              "      <td>1.661639</td>\n",
              "      <td>0.0</td>\n",
              "      <td>1.0</td>\n",
              "      <td>-0.599539</td>\n",
              "      <td>0.0</td>\n",
              "      <td>1.0</td>\n",
              "      <td>NaN</td>\n",
              "      <td>-0.064872</td>\n",
              "      <td>2.261178</td>\n",
              "      <td>2</td>\n",
              "    </tr>\n",
              "  </tbody>\n",
              "</table>\n",
              "</div>"
            ],
            "text/plain": [
              "   atom_index_0  atom_index_1       x_0  ...  mulliken_charge_1  distance  type_enc\n",
              "0             2             0 -1.661639  ...          -0.064872  2.261178         2\n",
              "1             2             1 -1.661639  ...          -0.064872  1.062099         0\n",
              "2             2             3 -1.661639  ...           0.118187  3.323277         6\n",
              "3             3             0  1.661639  ...          -0.064872  1.062099         0\n",
              "4             3             1  1.661639  ...          -0.064872  2.261178         2\n",
              "\n",
              "[5 rows x 12 columns]"
            ]
          },
          "metadata": {
            "tags": []
          },
          "execution_count": 36
        }
      ]
    },
    {
      "cell_type": "code",
      "metadata": {
        "id": "7i5W5r2__rHa",
        "colab_type": "code",
        "colab": {
          "base_uri": "https://localhost:8080/",
          "height": 34
        },
        "outputId": "f046c838-237f-498c-8bcd-db446942d801"
      },
      "source": [
        "test.shape"
      ],
      "execution_count": 11,
      "outputs": [
        {
          "output_type": "execute_result",
          "data": {
            "text/plain": [
              "(2505542, 12)"
            ]
          },
          "metadata": {
            "tags": []
          },
          "execution_count": 11
        }
      ]
    },
    {
      "cell_type": "code",
      "metadata": {
        "id": "f1JdfrJH_rHg",
        "colab_type": "code",
        "colab": {
          "base_uri": "https://localhost:8080/",
          "height": 85
        },
        "outputId": "f45bd7a2-1d6e-48c5-cae9-da56869ab5e3"
      },
      "source": [
        "train.columns"
      ],
      "execution_count": 12,
      "outputs": [
        {
          "output_type": "execute_result",
          "data": {
            "text/plain": [
              "Index(['atom_index_0', 'atom_index_1', 'x_0', 'y_0', 'z_0', 'x_1', 'y_1',\n",
              "       'z_1', 'mulliken_charge_0', 'mulliken_charge_1', 'distance', 'type_enc',\n",
              "       'scalar_coupling_constant'],\n",
              "      dtype='object')"
            ]
          },
          "metadata": {
            "tags": []
          },
          "execution_count": 12
        }
      ]
    },
    {
      "cell_type": "code",
      "metadata": {
        "id": "1FxlHYha_rHn",
        "colab_type": "code",
        "colab": {
          "base_uri": "https://localhost:8080/",
          "height": 224
        },
        "outputId": "5d734f46-cce1-4b8c-a2fc-5ccfe8660155"
      },
      "source": [
        "x=train.drop('scalar_coupling_constant',axis=1)\n",
        "x.head()"
      ],
      "execution_count": 13,
      "outputs": [
        {
          "output_type": "execute_result",
          "data": {
            "text/html": [
              "<div>\n",
              "<style scoped>\n",
              "    .dataframe tbody tr th:only-of-type {\n",
              "        vertical-align: middle;\n",
              "    }\n",
              "\n",
              "    .dataframe tbody tr th {\n",
              "        vertical-align: top;\n",
              "    }\n",
              "\n",
              "    .dataframe thead th {\n",
              "        text-align: right;\n",
              "    }\n",
              "</style>\n",
              "<table border=\"1\" class=\"dataframe\">\n",
              "  <thead>\n",
              "    <tr style=\"text-align: right;\">\n",
              "      <th></th>\n",
              "      <th>atom_index_0</th>\n",
              "      <th>atom_index_1</th>\n",
              "      <th>x_0</th>\n",
              "      <th>y_0</th>\n",
              "      <th>z_0</th>\n",
              "      <th>x_1</th>\n",
              "      <th>y_1</th>\n",
              "      <th>z_1</th>\n",
              "      <th>mulliken_charge_0</th>\n",
              "      <th>mulliken_charge_1</th>\n",
              "      <th>distance</th>\n",
              "      <th>type_enc</th>\n",
              "    </tr>\n",
              "  </thead>\n",
              "  <tbody>\n",
              "    <tr>\n",
              "      <th>0</th>\n",
              "      <td>1</td>\n",
              "      <td>0</td>\n",
              "      <td>0.002150</td>\n",
              "      <td>-0.006031</td>\n",
              "      <td>0.001976</td>\n",
              "      <td>-0.012698</td>\n",
              "      <td>1.085804</td>\n",
              "      <td>0.008001</td>\n",
              "      <td>0.133921</td>\n",
              "      <td>-0.535689</td>\n",
              "      <td>1.091953</td>\n",
              "      <td>0</td>\n",
              "    </tr>\n",
              "    <tr>\n",
              "      <th>1</th>\n",
              "      <td>1</td>\n",
              "      <td>2</td>\n",
              "      <td>0.002150</td>\n",
              "      <td>-0.006031</td>\n",
              "      <td>0.001976</td>\n",
              "      <td>1.011731</td>\n",
              "      <td>1.463751</td>\n",
              "      <td>0.000277</td>\n",
              "      <td>0.133921</td>\n",
              "      <td>0.133922</td>\n",
              "      <td>1.783120</td>\n",
              "      <td>3</td>\n",
              "    </tr>\n",
              "    <tr>\n",
              "      <th>2</th>\n",
              "      <td>1</td>\n",
              "      <td>3</td>\n",
              "      <td>0.002150</td>\n",
              "      <td>-0.006031</td>\n",
              "      <td>0.001976</td>\n",
              "      <td>-0.540815</td>\n",
              "      <td>1.447527</td>\n",
              "      <td>-0.876644</td>\n",
              "      <td>0.133921</td>\n",
              "      <td>0.133923</td>\n",
              "      <td>1.783147</td>\n",
              "      <td>3</td>\n",
              "    </tr>\n",
              "    <tr>\n",
              "      <th>3</th>\n",
              "      <td>1</td>\n",
              "      <td>4</td>\n",
              "      <td>0.002150</td>\n",
              "      <td>-0.006031</td>\n",
              "      <td>0.001976</td>\n",
              "      <td>-0.523814</td>\n",
              "      <td>1.437933</td>\n",
              "      <td>0.906397</td>\n",
              "      <td>0.133921</td>\n",
              "      <td>0.133923</td>\n",
              "      <td>1.783157</td>\n",
              "      <td>3</td>\n",
              "    </tr>\n",
              "    <tr>\n",
              "      <th>4</th>\n",
              "      <td>2</td>\n",
              "      <td>0</td>\n",
              "      <td>1.011731</td>\n",
              "      <td>1.463751</td>\n",
              "      <td>0.000277</td>\n",
              "      <td>-0.012698</td>\n",
              "      <td>1.085804</td>\n",
              "      <td>0.008001</td>\n",
              "      <td>0.133922</td>\n",
              "      <td>-0.535689</td>\n",
              "      <td>1.091952</td>\n",
              "      <td>0</td>\n",
              "    </tr>\n",
              "  </tbody>\n",
              "</table>\n",
              "</div>"
            ],
            "text/plain": [
              "   atom_index_0  atom_index_1       x_0  ...  mulliken_charge_1  distance  type_enc\n",
              "0             1             0  0.002150  ...          -0.535689  1.091953         0\n",
              "1             1             2  0.002150  ...           0.133922  1.783120         3\n",
              "2             1             3  0.002150  ...           0.133923  1.783147         3\n",
              "3             1             4  0.002150  ...           0.133923  1.783157         3\n",
              "4             2             0  1.011731  ...          -0.535689  1.091952         0\n",
              "\n",
              "[5 rows x 12 columns]"
            ]
          },
          "metadata": {
            "tags": []
          },
          "execution_count": 13
        }
      ]
    },
    {
      "cell_type": "code",
      "metadata": {
        "id": "69y8suV9_rHt",
        "colab_type": "code",
        "colab": {
          "base_uri": "https://localhost:8080/",
          "height": 119
        },
        "outputId": "a52cc3ef-6ad0-4749-c867-b5ff8ce093ad"
      },
      "source": [
        "y=train['scalar_coupling_constant']\n",
        "y.head()"
      ],
      "execution_count": 14,
      "outputs": [
        {
          "output_type": "execute_result",
          "data": {
            "text/plain": [
              "0    84.8076\n",
              "1   -11.2570\n",
              "2   -11.2548\n",
              "3   -11.2543\n",
              "4    84.8074\n",
              "Name: scalar_coupling_constant, dtype: float64"
            ]
          },
          "metadata": {
            "tags": []
          },
          "execution_count": 14
        }
      ]
    },
    {
      "cell_type": "code",
      "metadata": {
        "id": "dfPU-R6P_rH0",
        "colab_type": "code",
        "colab": {}
      },
      "source": [
        "from sklearn.model_selection import train_test_split"
      ],
      "execution_count": 0,
      "outputs": []
    },
    {
      "cell_type": "code",
      "metadata": {
        "id": "-Uw7yBgD_rH7",
        "colab_type": "code",
        "colab": {}
      },
      "source": [
        "x_train,x_val,y_train,y_val=train_test_split(x,y,test_size=0.3)"
      ],
      "execution_count": 0,
      "outputs": []
    },
    {
      "cell_type": "code",
      "metadata": {
        "id": "t4vu5JeB_rIB",
        "colab_type": "code",
        "colab": {
          "base_uri": "https://localhost:8080/",
          "height": 51
        },
        "outputId": "ec2f4715-e99f-4a1a-eac0-e95db7eb21ca"
      },
      "source": [
        "print('x_train: {}   y_train: {}'.format(x_train.shape,y_train.shape))\n",
        "print('x_val: {}   y_val: {}'.format(x_val.shape,y_val.shape))"
      ],
      "execution_count": 17,
      "outputs": [
        {
          "output_type": "stream",
          "text": [
            "x_train: (3260702, 12)   y_train: (3260702,)\n",
            "x_val: (1397445, 12)   y_val: (1397445,)\n"
          ],
          "name": "stdout"
        }
      ]
    },
    {
      "cell_type": "code",
      "metadata": {
        "id": "JfRqlI4W_rIU",
        "colab_type": "code",
        "colab": {
          "base_uri": "https://localhost:8080/",
          "height": 34
        },
        "outputId": "0eefdbaa-e1f8-4d7a-ba93-ce23a9a928fc"
      },
      "source": [
        "x_test=test\n",
        "x_test.shape"
      ],
      "execution_count": 18,
      "outputs": [
        {
          "output_type": "execute_result",
          "data": {
            "text/plain": [
              "(2505542, 12)"
            ]
          },
          "metadata": {
            "tags": []
          },
          "execution_count": 18
        }
      ]
    },
    {
      "cell_type": "markdown",
      "metadata": {
        "id": "Mbtu4x0v_rIg",
        "colab_type": "text"
      },
      "source": [
        "# Training & Evaluation"
      ]
    },
    {
      "cell_type": "code",
      "metadata": {
        "id": "68k2eU0a_rIh",
        "colab_type": "code",
        "colab": {
          "base_uri": "https://localhost:8080/",
          "height": 323
        },
        "outputId": "ca675306-1fb0-4af2-8a70-f0737c4495f7"
      },
      "source": [
        "input_shape=(12,)\n",
        "model_nn=keras.Sequential()\n",
        "model_nn.add(keras.layers.Dense(256,activation='relu',input_shape=input_shape))\n",
        "model_nn.add(keras.layers.Dense(128,activation='relu'))\n",
        "model_nn.add(keras.layers.Dense(64,activation='relu'))\n",
        "model_nn.add(keras.layers.Dense(8,activation='relu'))\n",
        "model_nn.add(keras.layers.Dense(1))\n",
        "\n",
        "model_nn.summary()"
      ],
      "execution_count": 22,
      "outputs": [
        {
          "output_type": "stream",
          "text": [
            "Model: \"sequential_1\"\n",
            "_________________________________________________________________\n",
            "Layer (type)                 Output Shape              Param #   \n",
            "=================================================================\n",
            "dense_5 (Dense)              (None, 256)               3328      \n",
            "_________________________________________________________________\n",
            "dense_6 (Dense)              (None, 128)               32896     \n",
            "_________________________________________________________________\n",
            "dense_7 (Dense)              (None, 64)                8256      \n",
            "_________________________________________________________________\n",
            "dense_8 (Dense)              (None, 8)                 520       \n",
            "_________________________________________________________________\n",
            "dense_9 (Dense)              (None, 1)                 9         \n",
            "=================================================================\n",
            "Total params: 45,009\n",
            "Trainable params: 45,009\n",
            "Non-trainable params: 0\n",
            "_________________________________________________________________\n"
          ],
          "name": "stdout"
        }
      ]
    },
    {
      "cell_type": "code",
      "metadata": {
        "id": "dgs9mXm0_rIt",
        "colab_type": "code",
        "colab": {}
      },
      "source": [
        "model_nn.compile(optimizer='adam',loss='mean_absolute_error')"
      ],
      "execution_count": 0,
      "outputs": []
    },
    {
      "cell_type": "code",
      "metadata": {
        "id": "oobsTgkw_rI3",
        "colab_type": "code",
        "colab": {
          "base_uri": "https://localhost:8080/",
          "height": 221
        },
        "outputId": "c56d7abb-c9e5-4669-fd71-ccfeb8fb8195"
      },
      "source": [
        "model_nn.fit(x_train,y_train,epochs=5,batch_size=512,validation_data=(x_val,y_val))"
      ],
      "execution_count": 24,
      "outputs": [
        {
          "output_type": "stream",
          "text": [
            "Train on 3260702 samples, validate on 1397445 samples\n",
            "Epoch 1/5\n",
            "3260702/3260702 [==============================] - 57s 18us/sample - loss: 4.0241 - val_loss: 3.4875\n",
            "Epoch 2/5\n",
            "3260702/3260702 [==============================] - 57s 17us/sample - loss: 3.2489 - val_loss: 3.1321\n",
            "Epoch 3/5\n",
            "3260702/3260702 [==============================] - 58s 18us/sample - loss: 2.9526 - val_loss: 3.0191\n",
            "Epoch 4/5\n",
            "3260702/3260702 [==============================] - 56s 17us/sample - loss: 2.7707 - val_loss: 2.8840\n",
            "Epoch 5/5\n",
            "3260702/3260702 [==============================] - 56s 17us/sample - loss: 2.6427 - val_loss: 2.6091\n"
          ],
          "name": "stdout"
        },
        {
          "output_type": "execute_result",
          "data": {
            "text/plain": [
              "<tensorflow.python.keras.callbacks.History at 0x7f6c51cde0f0>"
            ]
          },
          "metadata": {
            "tags": []
          },
          "execution_count": 24
        }
      ]
    },
    {
      "cell_type": "markdown",
      "metadata": {
        "id": "gLQsXUR-D-gg",
        "colab_type": "text"
      },
      "source": [
        "# Train on whole data"
      ]
    },
    {
      "cell_type": "code",
      "metadata": {
        "id": "fLzXi6OEEDT8",
        "colab_type": "code",
        "colab": {
          "base_uri": "https://localhost:8080/",
          "height": 221
        },
        "outputId": "d041f1b0-d02a-4322-d096-99b4bae66c47"
      },
      "source": [
        "model_nn.fit(x,y,epochs=5,batch_size=512,validation_data=(x_val,y_val))"
      ],
      "execution_count": 25,
      "outputs": [
        {
          "output_type": "stream",
          "text": [
            "Train on 4658147 samples, validate on 1397445 samples\n",
            "Epoch 1/5\n",
            "4658147/4658147 [==============================] - 76s 16us/sample - loss: 2.5600 - val_loss: 2.4878\n",
            "Epoch 2/5\n",
            "4658147/4658147 [==============================] - 77s 16us/sample - loss: 2.4934 - val_loss: 2.4628\n",
            "Epoch 3/5\n",
            "4658147/4658147 [==============================] - 79s 17us/sample - loss: 2.4412 - val_loss: 2.3996\n",
            "Epoch 4/5\n",
            "4658147/4658147 [==============================] - 81s 17us/sample - loss: 2.4006 - val_loss: 2.3612\n",
            "Epoch 5/5\n",
            "4658147/4658147 [==============================] - 78s 17us/sample - loss: 2.3657 - val_loss: 2.3981\n"
          ],
          "name": "stdout"
        },
        {
          "output_type": "execute_result",
          "data": {
            "text/plain": [
              "<tensorflow.python.keras.callbacks.History at 0x7f6c4cfd5278>"
            ]
          },
          "metadata": {
            "tags": []
          },
          "execution_count": 25
        }
      ]
    },
    {
      "cell_type": "markdown",
      "metadata": {
        "id": "bsWsfTC3_rJe",
        "colab_type": "text"
      },
      "source": [
        "# Serialize the model"
      ]
    },
    {
      "cell_type": "code",
      "metadata": {
        "id": "4mm-Sy-R_rJh",
        "colab_type": "code",
        "colab": {}
      },
      "source": [
        "tf.keras.models.save_model(model_nn,'kaggle_model_nn_03.h5',overwrite=True,include_optimizer=True)"
      ],
      "execution_count": 0,
      "outputs": []
    },
    {
      "cell_type": "code",
      "metadata": {
        "id": "WhTlMCWH_rJ3",
        "colab_type": "code",
        "colab": {}
      },
      "source": [
        "!ls"
      ],
      "execution_count": 0,
      "outputs": []
    },
    {
      "cell_type": "markdown",
      "metadata": {
        "id": "33gJdaCV_rJ8",
        "colab_type": "text"
      },
      "source": [
        "# Create Submission file"
      ]
    },
    {
      "cell_type": "code",
      "metadata": {
        "id": "QQZCplF8INAf",
        "colab_type": "code",
        "colab": {
          "base_uri": "https://localhost:8080/",
          "height": 34
        },
        "outputId": "8d8dc5ff-1a12-49b3-a56b-28cae9078143"
      },
      "source": [
        "import gc\n",
        "gc.collect()"
      ],
      "execution_count": 37,
      "outputs": [
        {
          "output_type": "execute_result",
          "data": {
            "text/plain": [
              "634"
            ]
          },
          "metadata": {
            "tags": []
          },
          "execution_count": 37
        }
      ]
    },
    {
      "cell_type": "code",
      "metadata": {
        "id": "QNkeYenM_rJ_",
        "colab_type": "code",
        "colab": {
          "base_uri": "https://localhost:8080/",
          "height": 204
        },
        "outputId": "7a89701f-3d7b-4757-f11e-3fdbc5d21f37"
      },
      "source": [
        "test=pd.read_csv('test_feat_eng_v2.csv')\n",
        "test_predictions=model_nn.predict(test,verbose=1,batch_size=10000)\n",
        "test_predictions[:10]"
      ],
      "execution_count": 38,
      "outputs": [
        {
          "output_type": "stream",
          "text": [
            "2505542/2505542 [==============================] - 7s 3us/sample\n"
          ],
          "name": "stdout"
        },
        {
          "output_type": "execute_result",
          "data": {
            "text/plain": [
              "array([[ -3.2472324],\n",
              "       [ 91.86721  ],\n",
              "       [ 10.933329 ],\n",
              "       [107.796974 ],\n",
              "       [  1.5662003],\n",
              "       [107.1634   ],\n",
              "       [  2.08945  ],\n",
              "       [-11.683802 ],\n",
              "       [-10.687826 ],\n",
              "       [109.37023  ]], dtype=float32)"
            ]
          },
          "metadata": {
            "tags": []
          },
          "execution_count": 38
        }
      ]
    },
    {
      "cell_type": "code",
      "metadata": {
        "id": "rQDPCLCo_rKF",
        "colab_type": "code",
        "colab": {
          "base_uri": "https://localhost:8080/",
          "height": 34
        },
        "outputId": "941b90d9-b4f4-48ed-c9df-e97d7a411b9e"
      },
      "source": [
        "test_predictions.shape"
      ],
      "execution_count": 39,
      "outputs": [
        {
          "output_type": "execute_result",
          "data": {
            "text/plain": [
              "(2505542, 1)"
            ]
          },
          "metadata": {
            "tags": []
          },
          "execution_count": 39
        }
      ]
    },
    {
      "cell_type": "code",
      "metadata": {
        "id": "H5ztViLY_rKL",
        "colab_type": "code",
        "colab": {
          "base_uri": "https://localhost:8080/",
          "height": 204
        },
        "outputId": "7beae74f-09c2-48d2-a8bb-1ab87c03e131"
      },
      "source": [
        "sample_submission=pd.read_csv('sample_submission.csv.zip')\n",
        "sample_submission.head()"
      ],
      "execution_count": 40,
      "outputs": [
        {
          "output_type": "execute_result",
          "data": {
            "text/html": [
              "<div>\n",
              "<style scoped>\n",
              "    .dataframe tbody tr th:only-of-type {\n",
              "        vertical-align: middle;\n",
              "    }\n",
              "\n",
              "    .dataframe tbody tr th {\n",
              "        vertical-align: top;\n",
              "    }\n",
              "\n",
              "    .dataframe thead th {\n",
              "        text-align: right;\n",
              "    }\n",
              "</style>\n",
              "<table border=\"1\" class=\"dataframe\">\n",
              "  <thead>\n",
              "    <tr style=\"text-align: right;\">\n",
              "      <th></th>\n",
              "      <th>id</th>\n",
              "      <th>scalar_coupling_constant</th>\n",
              "    </tr>\n",
              "  </thead>\n",
              "  <tbody>\n",
              "    <tr>\n",
              "      <th>0</th>\n",
              "      <td>4658147</td>\n",
              "      <td>0</td>\n",
              "    </tr>\n",
              "    <tr>\n",
              "      <th>1</th>\n",
              "      <td>4658148</td>\n",
              "      <td>0</td>\n",
              "    </tr>\n",
              "    <tr>\n",
              "      <th>2</th>\n",
              "      <td>4658149</td>\n",
              "      <td>0</td>\n",
              "    </tr>\n",
              "    <tr>\n",
              "      <th>3</th>\n",
              "      <td>4658150</td>\n",
              "      <td>0</td>\n",
              "    </tr>\n",
              "    <tr>\n",
              "      <th>4</th>\n",
              "      <td>4658151</td>\n",
              "      <td>0</td>\n",
              "    </tr>\n",
              "  </tbody>\n",
              "</table>\n",
              "</div>"
            ],
            "text/plain": [
              "        id  scalar_coupling_constant\n",
              "0  4658147                         0\n",
              "1  4658148                         0\n",
              "2  4658149                         0\n",
              "3  4658150                         0\n",
              "4  4658151                         0"
            ]
          },
          "metadata": {
            "tags": []
          },
          "execution_count": 40
        }
      ]
    },
    {
      "cell_type": "code",
      "metadata": {
        "id": "DX5pCXoG_rKW",
        "colab_type": "code",
        "colab": {
          "base_uri": "https://localhost:8080/",
          "height": 204
        },
        "outputId": "5ae975c0-9eda-4386-e877-1e28859dfcab"
      },
      "source": [
        "sample_submission['scalar_coupling_constant']=test_predictions\n",
        "sample_submission.head()"
      ],
      "execution_count": 41,
      "outputs": [
        {
          "output_type": "execute_result",
          "data": {
            "text/html": [
              "<div>\n",
              "<style scoped>\n",
              "    .dataframe tbody tr th:only-of-type {\n",
              "        vertical-align: middle;\n",
              "    }\n",
              "\n",
              "    .dataframe tbody tr th {\n",
              "        vertical-align: top;\n",
              "    }\n",
              "\n",
              "    .dataframe thead th {\n",
              "        text-align: right;\n",
              "    }\n",
              "</style>\n",
              "<table border=\"1\" class=\"dataframe\">\n",
              "  <thead>\n",
              "    <tr style=\"text-align: right;\">\n",
              "      <th></th>\n",
              "      <th>id</th>\n",
              "      <th>scalar_coupling_constant</th>\n",
              "    </tr>\n",
              "  </thead>\n",
              "  <tbody>\n",
              "    <tr>\n",
              "      <th>0</th>\n",
              "      <td>4658147</td>\n",
              "      <td>-3.247232</td>\n",
              "    </tr>\n",
              "    <tr>\n",
              "      <th>1</th>\n",
              "      <td>4658148</td>\n",
              "      <td>91.867210</td>\n",
              "    </tr>\n",
              "    <tr>\n",
              "      <th>2</th>\n",
              "      <td>4658149</td>\n",
              "      <td>10.933329</td>\n",
              "    </tr>\n",
              "    <tr>\n",
              "      <th>3</th>\n",
              "      <td>4658150</td>\n",
              "      <td>107.796974</td>\n",
              "    </tr>\n",
              "    <tr>\n",
              "      <th>4</th>\n",
              "      <td>4658151</td>\n",
              "      <td>1.566200</td>\n",
              "    </tr>\n",
              "  </tbody>\n",
              "</table>\n",
              "</div>"
            ],
            "text/plain": [
              "        id  scalar_coupling_constant\n",
              "0  4658147                 -3.247232\n",
              "1  4658148                 91.867210\n",
              "2  4658149                 10.933329\n",
              "3  4658150                107.796974\n",
              "4  4658151                  1.566200"
            ]
          },
          "metadata": {
            "tags": []
          },
          "execution_count": 41
        }
      ]
    },
    {
      "cell_type": "code",
      "metadata": {
        "id": "yLREMC7I_rKe",
        "colab_type": "code",
        "colab": {}
      },
      "source": [
        "sample_submission.to_csv('sample_submission_distance_baseline_test.csv',index=False)"
      ],
      "execution_count": 0,
      "outputs": []
    },
    {
      "cell_type": "code",
      "metadata": {
        "id": "lL3tjc8K_rKm",
        "colab_type": "code",
        "colab": {
          "base_uri": "https://localhost:8080/",
          "height": 323
        },
        "outputId": "6249f96f-13ae-4e8b-e71a-05b1242f8f00"
      },
      "source": [
        "!ls"
      ],
      "execution_count": 43,
      "outputs": [
        {
          "output_type": "stream",
          "text": [
            "champs-scalar-coupling_new.zip\n",
            "dipole_moments.csv.zip\n",
            "kaggle.json\n",
            "magnetic_shielding_tensors.csv.zip\n",
            "mulliken_charges.csv.zip\n",
            "potential_energy.csv.zip\n",
            "sample_data\n",
            "sample_submission.csv.zip\n",
            "sample_submission_distance_baseline_test.csv\n",
            "scalar_coupling_contributions.csv.zip\n",
            "structures.csv.zip\n",
            "structures.zip\n",
            "test.csv.zip\n",
            "test_etl.csv\n",
            "test_feat_eng_v2.csv\n",
            "train.csv.zip\n",
            "train_etl.csv\n",
            "train_feat_eng_v2.csv\n"
          ],
          "name": "stdout"
        }
      ]
    },
    {
      "cell_type": "code",
      "metadata": {
        "id": "QNH2GDOU_rKz",
        "colab_type": "code",
        "colab": {
          "base_uri": "https://localhost:8080/",
          "height": 187
        },
        "outputId": "462c1fe3-5e0b-4fc0-cc5c-aebad3f7bcb4"
      },
      "source": [
        "!head sample_submission_distance_baseline_test.csv"
      ],
      "execution_count": 44,
      "outputs": [
        {
          "output_type": "stream",
          "text": [
            "id,scalar_coupling_constant\n",
            "4658147,-3.2472324\n",
            "4658148,91.86721\n",
            "4658149,10.933329\n",
            "4658150,107.796974\n",
            "4658151,1.5662003\n",
            "4658152,107.1634\n",
            "4658153,2.08945\n",
            "4658154,-11.683802\n",
            "4658155,-10.687826\n"
          ],
          "name": "stdout"
        }
      ]
    },
    {
      "cell_type": "markdown",
      "metadata": {
        "id": "o6rIYcGm_rLA",
        "colab_type": "text"
      },
      "source": [
        "# Upload to IBM object store"
      ]
    },
    {
      "cell_type": "code",
      "metadata": {
        "id": "CMDeLsAS_rLD",
        "colab_type": "code",
        "colab": {}
      },
      "source": [
        "from ibm_botocore.client import Config\n",
        "import ibm_boto3\n",
        "def upload_file_cos(credentials,local_file_name,key):  \n",
        "    cos = ibm_boto3.client(service_name='s3',\n",
        "    ibm_api_key_id=credentials['IBM_API_KEY_ID'],\n",
        "    ibm_service_instance_id=credentials['IAM_SERVICE_ID'],\n",
        "    ibm_auth_endpoint=credentials['IBM_AUTH_ENDPOINT'],\n",
        "    config=Config(signature_version='oauth'),\n",
        "    endpoint_url=credentials['ENDPOINT'])\n",
        "    try:\n",
        "        res=cos.upload_file(Filename=local_file_name, Bucket=credentials['BUCKET'],Key=key)\n",
        "    except Exception as e:\n",
        "        print(Exception, e)\n",
        "    else:\n",
        "        print('File Uploaded')"
      ],
      "execution_count": 0,
      "outputs": []
    },
    {
      "cell_type": "code",
      "metadata": {
        "id": "7Z3plS9F_rLK",
        "colab_type": "code",
        "colab": {}
      },
      "source": [
        "upload_file_cos(credentials_2,'sample_submission_test_3.csv','sample_submission_test_3.csv')"
      ],
      "execution_count": 0,
      "outputs": []
    },
    {
      "cell_type": "code",
      "metadata": {
        "id": "aO0Wc-vi_rLN",
        "colab_type": "code",
        "colab": {}
      },
      "source": [
        "upload_file_cos(credentials_2,'kaggle_model_nn_03.h5','kaggle_model_nn_03.h5')"
      ],
      "execution_count": 0,
      "outputs": []
    },
    {
      "cell_type": "code",
      "metadata": {
        "id": "LISDbv6Q_rLT",
        "colab_type": "code",
        "colab": {}
      },
      "source": [
        ""
      ],
      "execution_count": 0,
      "outputs": []
    }
  ]
}