{
  "nbformat": 4,
  "nbformat_minor": 0,
  "metadata": {
    "kernelspec": {
      "name": "python3",
      "display_name": "Python 3"
    },
    "language_info": {
      "mimetype": "text/x-python",
      "nbconvert_exporter": "python",
      "version": "3.6.8",
      "name": "python",
      "file_extension": ".py",
      "pygments_lexer": "ipython3",
      "codemirror_mode": {
        "version": 3,
        "name": "ipython"
      }
    },
    "colab": {
      "name": "c4_w4_model_deployment.ipynb",
      "version": "0.3.2",
      "provenance": [],
      "toc_visible": true,
      "include_colab_link": true
    },
    "accelerator": "GPU"
  },
  "cells": [
    {
      "cell_type": "markdown",
      "metadata": {
        "id": "view-in-github",
        "colab_type": "text"
      },
      "source": [
        "<a href=\"https://colab.research.google.com/github/ss-ghule/kaggle_predicting_molecular_properties/blob/master/c4_w4_model_deployment.ipynb\" target=\"_parent\"><img src=\"https://colab.research.google.com/assets/colab-badge.svg\" alt=\"Open In Colab\"/></a>"
      ]
    },
    {
      "cell_type": "markdown",
      "metadata": {
        "id": "fjY5LJkwMT76",
        "colab_type": "text"
      },
      "source": [
        "# Implemented in Google Colaboratory \n",
        "### (Github: https://github.com/ss-ghule/kaggle_predicting_molecular_properties.git)"
      ]
    },
    {
      "cell_type": "markdown",
      "metadata": {
        "id": "ZfPuUwttMYlq",
        "colab_type": "text"
      },
      "source": [
        "## Step-1: Download Model and Test data"
      ]
    },
    {
      "cell_type": "code",
      "metadata": {
        "id": "fn4AgMYcMq1A",
        "colab_type": "code",
        "outputId": "747676cd-9c91-4cc3-e2b3-db1f87abe849",
        "colab": {
          "base_uri": "https://localhost:8080/",
          "height": 122
        }
      },
      "source": [
        "from google.colab import drive\n",
        "drive.mount('/content/drive')"
      ],
      "execution_count": 4,
      "outputs": [
        {
          "output_type": "stream",
          "text": [
            "Go to this URL in a browser: https://accounts.google.com/o/oauth2/auth?client_id=947318989803-6bn6qk8qdgf4n4g3pfee6491hc0brc4i.apps.googleusercontent.com&redirect_uri=urn%3Aietf%3Awg%3Aoauth%3A2.0%3Aoob&scope=email%20https%3A%2F%2Fwww.googleapis.com%2Fauth%2Fdocs.test%20https%3A%2F%2Fwww.googleapis.com%2Fauth%2Fdrive%20https%3A%2F%2Fwww.googleapis.com%2Fauth%2Fdrive.photos.readonly%20https%3A%2F%2Fwww.googleapis.com%2Fauth%2Fpeopleapi.readonly&response_type=code\n",
            "\n",
            "Enter your authorization code:\n",
            "··········\n",
            "Mounted at /content/drive\n"
          ],
          "name": "stdout"
        }
      ]
    },
    {
      "cell_type": "code",
      "metadata": {
        "id": "nk_Ifyl9Xct9",
        "colab_type": "code",
        "colab": {}
      },
      "source": [
        "import pandas as pd\n",
        "import numpy as np\n",
        "import matplotlib.pyplot as plt\n",
        "import tensorflow as tf\n",
        "from tensorflow import keras\n",
        "import pickle\n",
        "%matplotlib inline"
      ],
      "execution_count": 0,
      "outputs": []
    },
    {
      "cell_type": "code",
      "metadata": {
        "id": "OrmHYI8TMT7_",
        "colab_type": "code",
        "colab": {
          "base_uri": "https://localhost:8080/",
          "height": 224
        },
        "outputId": "6f8cd302-871e-4485-9be5-61a0b0761ff7"
      },
      "source": [
        "test=pd.read_csv('/content/drive/My Drive/Non-Project/Data/test_feat_eng_v2_orig_my_ext_std.csv')\n",
        "test.head()"
      ],
      "execution_count": 8,
      "outputs": [
        {
          "output_type": "execute_result",
          "data": {
            "text/html": [
              "<div>\n",
              "<style scoped>\n",
              "    .dataframe tbody tr th:only-of-type {\n",
              "        vertical-align: middle;\n",
              "    }\n",
              "\n",
              "    .dataframe tbody tr th {\n",
              "        vertical-align: top;\n",
              "    }\n",
              "\n",
              "    .dataframe thead th {\n",
              "        text-align: right;\n",
              "    }\n",
              "</style>\n",
              "<table border=\"1\" class=\"dataframe\">\n",
              "  <thead>\n",
              "    <tr style=\"text-align: right;\">\n",
              "      <th></th>\n",
              "      <th>id</th>\n",
              "      <th>molecule_name</th>\n",
              "      <th>atom_index_0</th>\n",
              "      <th>atom_index_1</th>\n",
              "      <th>atom_0</th>\n",
              "      <th>x_0</th>\n",
              "      <th>y_0</th>\n",
              "      <th>z_0</th>\n",
              "      <th>atom_1</th>\n",
              "      <th>x_1</th>\n",
              "      <th>y_1</th>\n",
              "      <th>z_1</th>\n",
              "      <th>mulliken_charge_0</th>\n",
              "      <th>mulliken_charge_1</th>\n",
              "      <th>type</th>\n",
              "      <th>distance</th>\n",
              "      <th>type_enc</th>\n",
              "      <th>atom_1_enc</th>\n",
              "      <th>atom_0_enc</th>\n",
              "      <th>pairs</th>\n",
              "      <th>pairs_enc</th>\n",
              "      <th>bond</th>\n",
              "      <th>bond_int</th>\n",
              "      <th>rc_A</th>\n",
              "      <th>rc_B</th>\n",
              "      <th>rc_C</th>\n",
              "      <th>mu</th>\n",
              "      <th>alpha</th>\n",
              "      <th>homo</th>\n",
              "      <th>lumo</th>\n",
              "      <th>gap</th>\n",
              "      <th>r2</th>\n",
              "      <th>zpve</th>\n",
              "      <th>U0</th>\n",
              "      <th>U</th>\n",
              "      <th>H</th>\n",
              "      <th>G</th>\n",
              "      <th>Cv</th>\n",
              "      <th>freqs_min</th>\n",
              "      <th>freqs_max</th>\n",
              "      <th>freqs_mean</th>\n",
              "      <th>linear</th>\n",
              "      <th>mulliken_min</th>\n",
              "      <th>mulliken_max</th>\n",
              "      <th>mulliken_mean</th>\n",
              "      <th>mulliken_atom_0</th>\n",
              "      <th>mulliken_atom_1</th>\n",
              "    </tr>\n",
              "  </thead>\n",
              "  <tbody>\n",
              "    <tr>\n",
              "      <th>0</th>\n",
              "      <td>4658147</td>\n",
              "      <td>dsgdb9nsd_000004</td>\n",
              "      <td>2</td>\n",
              "      <td>0</td>\n",
              "      <td>H</td>\n",
              "      <td>-1.004343</td>\n",
              "      <td>0.10386</td>\n",
              "      <td>0.609053</td>\n",
              "      <td>C</td>\n",
              "      <td>0.339301</td>\n",
              "      <td>0.223874</td>\n",
              "      <td>0.734382</td>\n",
              "      <td>-7.526702e-13</td>\n",
              "      <td>-0.098154</td>\n",
              "      <td>2JHC</td>\n",
              "      <td>-0.135391</td>\n",
              "      <td>2</td>\n",
              "      <td>0</td>\n",
              "      <td>1</td>\n",
              "      <td>c_h</td>\n",
              "      <td>2</td>\n",
              "      <td>0.413226</td>\n",
              "      <td>0</td>\n",
              "      <td>-0.005852</td>\n",
              "      <td>53.781574</td>\n",
              "      <td>72.108874</td>\n",
              "      <td>-1.695411</td>\n",
              "      <td>-8.00613</td>\n",
              "      <td>-2.23906</td>\n",
              "      <td>0.620926</td>\n",
              "      <td>1.55828</td>\n",
              "      <td>-4.019122</td>\n",
              "      <td>-4.281468</td>\n",
              "      <td>8.79113</td>\n",
              "      <td>8.79103</td>\n",
              "      <td>8.79103</td>\n",
              "      <td>8.791399</td>\n",
              "      <td>-5.962155</td>\n",
              "      <td>9.328732</td>\n",
              "      <td>0.269821</td>\n",
              "      <td>5.586155</td>\n",
              "      <td>-20.644519</td>\n",
              "      <td>3.192231</td>\n",
              "      <td>-1.326326</td>\n",
              "      <td>0.000943</td>\n",
              "      <td>1.897446</td>\n",
              "      <td>-0.689773</td>\n",
              "    </tr>\n",
              "    <tr>\n",
              "      <th>1</th>\n",
              "      <td>4658148</td>\n",
              "      <td>dsgdb9nsd_000004</td>\n",
              "      <td>2</td>\n",
              "      <td>1</td>\n",
              "      <td>H</td>\n",
              "      <td>-1.004343</td>\n",
              "      <td>0.10386</td>\n",
              "      <td>0.609053</td>\n",
              "      <td>C</td>\n",
              "      <td>-0.471207</td>\n",
              "      <td>0.223874</td>\n",
              "      <td>0.734382</td>\n",
              "      <td>-7.526702e-13</td>\n",
              "      <td>-0.098154</td>\n",
              "      <td>1JHC</td>\n",
              "      <td>-1.763005</td>\n",
              "      <td>0</td>\n",
              "      <td>0</td>\n",
              "      <td>1</td>\n",
              "      <td>c_h</td>\n",
              "      <td>2</td>\n",
              "      <td>0.917924</td>\n",
              "      <td>1</td>\n",
              "      <td>-0.005852</td>\n",
              "      <td>53.781574</td>\n",
              "      <td>72.108874</td>\n",
              "      <td>-1.695411</td>\n",
              "      <td>-8.00613</td>\n",
              "      <td>-2.23906</td>\n",
              "      <td>0.620926</td>\n",
              "      <td>1.55828</td>\n",
              "      <td>-4.019122</td>\n",
              "      <td>-4.281468</td>\n",
              "      <td>8.79113</td>\n",
              "      <td>8.79103</td>\n",
              "      <td>8.79103</td>\n",
              "      <td>8.791399</td>\n",
              "      <td>-5.962155</td>\n",
              "      <td>9.328732</td>\n",
              "      <td>0.269821</td>\n",
              "      <td>5.586155</td>\n",
              "      <td>-20.644519</td>\n",
              "      <td>3.192231</td>\n",
              "      <td>-1.326326</td>\n",
              "      <td>0.000943</td>\n",
              "      <td>1.897446</td>\n",
              "      <td>-0.689773</td>\n",
              "    </tr>\n",
              "    <tr>\n",
              "      <th>2</th>\n",
              "      <td>4658149</td>\n",
              "      <td>dsgdb9nsd_000004</td>\n",
              "      <td>2</td>\n",
              "      <td>3</td>\n",
              "      <td>H</td>\n",
              "      <td>-1.004343</td>\n",
              "      <td>0.10386</td>\n",
              "      <td>0.609053</td>\n",
              "      <td>H</td>\n",
              "      <td>1.057219</td>\n",
              "      <td>0.223874</td>\n",
              "      <td>0.734382</td>\n",
              "      <td>-7.526702e-13</td>\n",
              "      <td>0.663743</td>\n",
              "      <td>3JHH</td>\n",
              "      <td>1.306289</td>\n",
              "      <td>6</td>\n",
              "      <td>1</td>\n",
              "      <td>1</td>\n",
              "      <td>h_h</td>\n",
              "      <td>11</td>\n",
              "      <td>0.173375</td>\n",
              "      <td>0</td>\n",
              "      <td>-0.005852</td>\n",
              "      <td>53.781574</td>\n",
              "      <td>72.108874</td>\n",
              "      <td>-1.695411</td>\n",
              "      <td>-8.00613</td>\n",
              "      <td>-2.23906</td>\n",
              "      <td>0.620926</td>\n",
              "      <td>1.55828</td>\n",
              "      <td>-4.019122</td>\n",
              "      <td>-4.281468</td>\n",
              "      <td>8.79113</td>\n",
              "      <td>8.79103</td>\n",
              "      <td>8.79103</td>\n",
              "      <td>8.791399</td>\n",
              "      <td>-5.962155</td>\n",
              "      <td>9.328732</td>\n",
              "      <td>0.269821</td>\n",
              "      <td>5.586155</td>\n",
              "      <td>-20.644519</td>\n",
              "      <td>3.192231</td>\n",
              "      <td>-1.326326</td>\n",
              "      <td>0.000943</td>\n",
              "      <td>1.897446</td>\n",
              "      <td>1.033461</td>\n",
              "    </tr>\n",
              "    <tr>\n",
              "      <th>3</th>\n",
              "      <td>4658150</td>\n",
              "      <td>dsgdb9nsd_000004</td>\n",
              "      <td>3</td>\n",
              "      <td>0</td>\n",
              "      <td>H</td>\n",
              "      <td>0.884018</td>\n",
              "      <td>0.10386</td>\n",
              "      <td>0.609053</td>\n",
              "      <td>C</td>\n",
              "      <td>0.339301</td>\n",
              "      <td>0.223874</td>\n",
              "      <td>0.734382</td>\n",
              "      <td>-7.526702e-13</td>\n",
              "      <td>-0.098154</td>\n",
              "      <td>1JHC</td>\n",
              "      <td>-1.763005</td>\n",
              "      <td>0</td>\n",
              "      <td>0</td>\n",
              "      <td>1</td>\n",
              "      <td>c_h</td>\n",
              "      <td>2</td>\n",
              "      <td>0.917924</td>\n",
              "      <td>1</td>\n",
              "      <td>-0.005852</td>\n",
              "      <td>53.781574</td>\n",
              "      <td>72.108874</td>\n",
              "      <td>-1.695411</td>\n",
              "      <td>-8.00613</td>\n",
              "      <td>-2.23906</td>\n",
              "      <td>0.620926</td>\n",
              "      <td>1.55828</td>\n",
              "      <td>-4.019122</td>\n",
              "      <td>-4.281468</td>\n",
              "      <td>8.79113</td>\n",
              "      <td>8.79103</td>\n",
              "      <td>8.79103</td>\n",
              "      <td>8.791399</td>\n",
              "      <td>-5.962155</td>\n",
              "      <td>9.328732</td>\n",
              "      <td>0.269821</td>\n",
              "      <td>5.586155</td>\n",
              "      <td>-20.644519</td>\n",
              "      <td>3.192231</td>\n",
              "      <td>-1.326326</td>\n",
              "      <td>0.000943</td>\n",
              "      <td>1.897446</td>\n",
              "      <td>-0.689773</td>\n",
              "    </tr>\n",
              "    <tr>\n",
              "      <th>4</th>\n",
              "      <td>4658151</td>\n",
              "      <td>dsgdb9nsd_000004</td>\n",
              "      <td>3</td>\n",
              "      <td>1</td>\n",
              "      <td>H</td>\n",
              "      <td>0.884018</td>\n",
              "      <td>0.10386</td>\n",
              "      <td>0.609053</td>\n",
              "      <td>C</td>\n",
              "      <td>-0.471207</td>\n",
              "      <td>0.223874</td>\n",
              "      <td>0.734382</td>\n",
              "      <td>-7.526702e-13</td>\n",
              "      <td>-0.098154</td>\n",
              "      <td>2JHC</td>\n",
              "      <td>-0.135391</td>\n",
              "      <td>2</td>\n",
              "      <td>0</td>\n",
              "      <td>1</td>\n",
              "      <td>c_h</td>\n",
              "      <td>2</td>\n",
              "      <td>0.413226</td>\n",
              "      <td>0</td>\n",
              "      <td>-0.005852</td>\n",
              "      <td>53.781574</td>\n",
              "      <td>72.108874</td>\n",
              "      <td>-1.695411</td>\n",
              "      <td>-8.00613</td>\n",
              "      <td>-2.23906</td>\n",
              "      <td>0.620926</td>\n",
              "      <td>1.55828</td>\n",
              "      <td>-4.019122</td>\n",
              "      <td>-4.281468</td>\n",
              "      <td>8.79113</td>\n",
              "      <td>8.79103</td>\n",
              "      <td>8.79103</td>\n",
              "      <td>8.791399</td>\n",
              "      <td>-5.962155</td>\n",
              "      <td>9.328732</td>\n",
              "      <td>0.269821</td>\n",
              "      <td>5.586155</td>\n",
              "      <td>-20.644519</td>\n",
              "      <td>3.192231</td>\n",
              "      <td>-1.326326</td>\n",
              "      <td>0.000943</td>\n",
              "      <td>1.897446</td>\n",
              "      <td>-0.689773</td>\n",
              "    </tr>\n",
              "  </tbody>\n",
              "</table>\n",
              "</div>"
            ],
            "text/plain": [
              "        id     molecule_name  ...  mulliken_atom_0  mulliken_atom_1\n",
              "0  4658147  dsgdb9nsd_000004  ...         1.897446        -0.689773\n",
              "1  4658148  dsgdb9nsd_000004  ...         1.897446        -0.689773\n",
              "2  4658149  dsgdb9nsd_000004  ...         1.897446         1.033461\n",
              "3  4658150  dsgdb9nsd_000004  ...         1.897446        -0.689773\n",
              "4  4658151  dsgdb9nsd_000004  ...         1.897446        -0.689773\n",
              "\n",
              "[5 rows x 47 columns]"
            ]
          },
          "metadata": {
            "tags": []
          },
          "execution_count": 8
        }
      ]
    },
    {
      "cell_type": "code",
      "metadata": {
        "id": "3BfjRXgCXN4U",
        "colab_type": "code",
        "colab": {
          "base_uri": "https://localhost:8080/",
          "height": 34
        },
        "outputId": "727134c7-bfcc-4cc5-969c-bd8a31a637bb"
      },
      "source": [
        "test.shape"
      ],
      "execution_count": 9,
      "outputs": [
        {
          "output_type": "execute_result",
          "data": {
            "text/plain": [
              "(2505542, 47)"
            ]
          },
          "metadata": {
            "tags": []
          },
          "execution_count": 9
        }
      ]
    },
    {
      "cell_type": "code",
      "metadata": {
        "id": "0avHf-I4XsV7",
        "colab_type": "code",
        "colab": {
          "base_uri": "https://localhost:8080/",
          "height": 224
        },
        "outputId": "baa4a2d3-7d6c-4f0f-d948-9dc71b32768a"
      },
      "source": [
        "model_dnn=tf.keras.models.load_model('/content/drive/My Drive/Non-Project/kaggle_model_dnn_exp_2.h5',\n",
        "    custom_objects=None,\n",
        "    compile=True\n",
        ")"
      ],
      "execution_count": 10,
      "outputs": [
        {
          "output_type": "stream",
          "text": [
            "WARNING: Logging before flag parsing goes to stderr.\n",
            "W0819 19:35:03.403361 140160575367040 deprecation.py:506] From /usr/local/lib/python3.6/dist-packages/tensorflow/python/ops/init_ops.py:97: calling GlorotUniform.__init__ (from tensorflow.python.ops.init_ops) with dtype is deprecated and will be removed in a future version.\n",
            "Instructions for updating:\n",
            "Call initializer instance with the dtype argument instead of passing it to the constructor\n",
            "W0819 19:35:03.405134 140160575367040 deprecation.py:506] From /usr/local/lib/python3.6/dist-packages/tensorflow/python/ops/init_ops.py:1251: calling VarianceScaling.__init__ (from tensorflow.python.ops.init_ops) with dtype is deprecated and will be removed in a future version.\n",
            "Instructions for updating:\n",
            "Call initializer instance with the dtype argument instead of passing it to the constructor\n",
            "W0819 19:35:03.407849 140160575367040 deprecation.py:506] From /usr/local/lib/python3.6/dist-packages/tensorflow/python/ops/init_ops.py:97: calling Zeros.__init__ (from tensorflow.python.ops.init_ops) with dtype is deprecated and will be removed in a future version.\n",
            "Instructions for updating:\n",
            "Call initializer instance with the dtype argument instead of passing it to the constructor\n",
            "W0819 19:35:06.877943 140160575367040 hdf5_format.py:221] No training configuration found in save file: the model was *not* compiled. Compile it manually.\n"
          ],
          "name": "stderr"
        }
      ]
    },
    {
      "cell_type": "markdown",
      "metadata": {
        "id": "98A62NoEYiS8",
        "colab_type": "text"
      },
      "source": [
        "### Remove unwanted columns from test set"
      ]
    },
    {
      "cell_type": "code",
      "metadata": {
        "id": "EtuN0CcdYti7",
        "colab_type": "code",
        "colab": {}
      },
      "source": [
        "drop_cols=['id', 'molecule_name','atom_0','atom_1','type', 'pairs','bond','mulliken_charge_0','mulliken_charge_1']"
      ],
      "execution_count": 0,
      "outputs": []
    },
    {
      "cell_type": "code",
      "metadata": {
        "id": "HjymEXK5Yndy",
        "colab_type": "code",
        "colab": {
          "base_uri": "https://localhost:8080/",
          "height": 224
        },
        "outputId": "864e84b5-e4ba-447b-ede4-efc056739662"
      },
      "source": [
        "test.drop(drop_cols,axis=1,inplace=True)\n",
        "test.head()"
      ],
      "execution_count": 14,
      "outputs": [
        {
          "output_type": "execute_result",
          "data": {
            "text/html": [
              "<div>\n",
              "<style scoped>\n",
              "    .dataframe tbody tr th:only-of-type {\n",
              "        vertical-align: middle;\n",
              "    }\n",
              "\n",
              "    .dataframe tbody tr th {\n",
              "        vertical-align: top;\n",
              "    }\n",
              "\n",
              "    .dataframe thead th {\n",
              "        text-align: right;\n",
              "    }\n",
              "</style>\n",
              "<table border=\"1\" class=\"dataframe\">\n",
              "  <thead>\n",
              "    <tr style=\"text-align: right;\">\n",
              "      <th></th>\n",
              "      <th>atom_index_0</th>\n",
              "      <th>atom_index_1</th>\n",
              "      <th>x_0</th>\n",
              "      <th>y_0</th>\n",
              "      <th>z_0</th>\n",
              "      <th>x_1</th>\n",
              "      <th>y_1</th>\n",
              "      <th>z_1</th>\n",
              "      <th>distance</th>\n",
              "      <th>type_enc</th>\n",
              "      <th>atom_1_enc</th>\n",
              "      <th>atom_0_enc</th>\n",
              "      <th>pairs_enc</th>\n",
              "      <th>bond_int</th>\n",
              "      <th>rc_A</th>\n",
              "      <th>rc_B</th>\n",
              "      <th>rc_C</th>\n",
              "      <th>mu</th>\n",
              "      <th>alpha</th>\n",
              "      <th>homo</th>\n",
              "      <th>lumo</th>\n",
              "      <th>gap</th>\n",
              "      <th>r2</th>\n",
              "      <th>zpve</th>\n",
              "      <th>U0</th>\n",
              "      <th>U</th>\n",
              "      <th>H</th>\n",
              "      <th>G</th>\n",
              "      <th>Cv</th>\n",
              "      <th>freqs_min</th>\n",
              "      <th>freqs_max</th>\n",
              "      <th>freqs_mean</th>\n",
              "      <th>linear</th>\n",
              "      <th>mulliken_min</th>\n",
              "      <th>mulliken_max</th>\n",
              "      <th>mulliken_mean</th>\n",
              "      <th>mulliken_atom_0</th>\n",
              "      <th>mulliken_atom_1</th>\n",
              "    </tr>\n",
              "  </thead>\n",
              "  <tbody>\n",
              "    <tr>\n",
              "      <th>0</th>\n",
              "      <td>2</td>\n",
              "      <td>0</td>\n",
              "      <td>-1.004343</td>\n",
              "      <td>0.10386</td>\n",
              "      <td>0.609053</td>\n",
              "      <td>0.339301</td>\n",
              "      <td>0.223874</td>\n",
              "      <td>0.734382</td>\n",
              "      <td>-0.135391</td>\n",
              "      <td>2</td>\n",
              "      <td>0</td>\n",
              "      <td>1</td>\n",
              "      <td>2</td>\n",
              "      <td>0</td>\n",
              "      <td>-0.005852</td>\n",
              "      <td>53.781574</td>\n",
              "      <td>72.108874</td>\n",
              "      <td>-1.695411</td>\n",
              "      <td>-8.00613</td>\n",
              "      <td>-2.23906</td>\n",
              "      <td>0.620926</td>\n",
              "      <td>1.55828</td>\n",
              "      <td>-4.019122</td>\n",
              "      <td>-4.281468</td>\n",
              "      <td>8.79113</td>\n",
              "      <td>8.79103</td>\n",
              "      <td>8.79103</td>\n",
              "      <td>8.791399</td>\n",
              "      <td>-5.962155</td>\n",
              "      <td>9.328732</td>\n",
              "      <td>0.269821</td>\n",
              "      <td>5.586155</td>\n",
              "      <td>-20.644519</td>\n",
              "      <td>3.192231</td>\n",
              "      <td>-1.326326</td>\n",
              "      <td>0.000943</td>\n",
              "      <td>1.897446</td>\n",
              "      <td>-0.689773</td>\n",
              "    </tr>\n",
              "    <tr>\n",
              "      <th>1</th>\n",
              "      <td>2</td>\n",
              "      <td>1</td>\n",
              "      <td>-1.004343</td>\n",
              "      <td>0.10386</td>\n",
              "      <td>0.609053</td>\n",
              "      <td>-0.471207</td>\n",
              "      <td>0.223874</td>\n",
              "      <td>0.734382</td>\n",
              "      <td>-1.763005</td>\n",
              "      <td>0</td>\n",
              "      <td>0</td>\n",
              "      <td>1</td>\n",
              "      <td>2</td>\n",
              "      <td>1</td>\n",
              "      <td>-0.005852</td>\n",
              "      <td>53.781574</td>\n",
              "      <td>72.108874</td>\n",
              "      <td>-1.695411</td>\n",
              "      <td>-8.00613</td>\n",
              "      <td>-2.23906</td>\n",
              "      <td>0.620926</td>\n",
              "      <td>1.55828</td>\n",
              "      <td>-4.019122</td>\n",
              "      <td>-4.281468</td>\n",
              "      <td>8.79113</td>\n",
              "      <td>8.79103</td>\n",
              "      <td>8.79103</td>\n",
              "      <td>8.791399</td>\n",
              "      <td>-5.962155</td>\n",
              "      <td>9.328732</td>\n",
              "      <td>0.269821</td>\n",
              "      <td>5.586155</td>\n",
              "      <td>-20.644519</td>\n",
              "      <td>3.192231</td>\n",
              "      <td>-1.326326</td>\n",
              "      <td>0.000943</td>\n",
              "      <td>1.897446</td>\n",
              "      <td>-0.689773</td>\n",
              "    </tr>\n",
              "    <tr>\n",
              "      <th>2</th>\n",
              "      <td>2</td>\n",
              "      <td>3</td>\n",
              "      <td>-1.004343</td>\n",
              "      <td>0.10386</td>\n",
              "      <td>0.609053</td>\n",
              "      <td>1.057219</td>\n",
              "      <td>0.223874</td>\n",
              "      <td>0.734382</td>\n",
              "      <td>1.306289</td>\n",
              "      <td>6</td>\n",
              "      <td>1</td>\n",
              "      <td>1</td>\n",
              "      <td>11</td>\n",
              "      <td>0</td>\n",
              "      <td>-0.005852</td>\n",
              "      <td>53.781574</td>\n",
              "      <td>72.108874</td>\n",
              "      <td>-1.695411</td>\n",
              "      <td>-8.00613</td>\n",
              "      <td>-2.23906</td>\n",
              "      <td>0.620926</td>\n",
              "      <td>1.55828</td>\n",
              "      <td>-4.019122</td>\n",
              "      <td>-4.281468</td>\n",
              "      <td>8.79113</td>\n",
              "      <td>8.79103</td>\n",
              "      <td>8.79103</td>\n",
              "      <td>8.791399</td>\n",
              "      <td>-5.962155</td>\n",
              "      <td>9.328732</td>\n",
              "      <td>0.269821</td>\n",
              "      <td>5.586155</td>\n",
              "      <td>-20.644519</td>\n",
              "      <td>3.192231</td>\n",
              "      <td>-1.326326</td>\n",
              "      <td>0.000943</td>\n",
              "      <td>1.897446</td>\n",
              "      <td>1.033461</td>\n",
              "    </tr>\n",
              "    <tr>\n",
              "      <th>3</th>\n",
              "      <td>3</td>\n",
              "      <td>0</td>\n",
              "      <td>0.884018</td>\n",
              "      <td>0.10386</td>\n",
              "      <td>0.609053</td>\n",
              "      <td>0.339301</td>\n",
              "      <td>0.223874</td>\n",
              "      <td>0.734382</td>\n",
              "      <td>-1.763005</td>\n",
              "      <td>0</td>\n",
              "      <td>0</td>\n",
              "      <td>1</td>\n",
              "      <td>2</td>\n",
              "      <td>1</td>\n",
              "      <td>-0.005852</td>\n",
              "      <td>53.781574</td>\n",
              "      <td>72.108874</td>\n",
              "      <td>-1.695411</td>\n",
              "      <td>-8.00613</td>\n",
              "      <td>-2.23906</td>\n",
              "      <td>0.620926</td>\n",
              "      <td>1.55828</td>\n",
              "      <td>-4.019122</td>\n",
              "      <td>-4.281468</td>\n",
              "      <td>8.79113</td>\n",
              "      <td>8.79103</td>\n",
              "      <td>8.79103</td>\n",
              "      <td>8.791399</td>\n",
              "      <td>-5.962155</td>\n",
              "      <td>9.328732</td>\n",
              "      <td>0.269821</td>\n",
              "      <td>5.586155</td>\n",
              "      <td>-20.644519</td>\n",
              "      <td>3.192231</td>\n",
              "      <td>-1.326326</td>\n",
              "      <td>0.000943</td>\n",
              "      <td>1.897446</td>\n",
              "      <td>-0.689773</td>\n",
              "    </tr>\n",
              "    <tr>\n",
              "      <th>4</th>\n",
              "      <td>3</td>\n",
              "      <td>1</td>\n",
              "      <td>0.884018</td>\n",
              "      <td>0.10386</td>\n",
              "      <td>0.609053</td>\n",
              "      <td>-0.471207</td>\n",
              "      <td>0.223874</td>\n",
              "      <td>0.734382</td>\n",
              "      <td>-0.135391</td>\n",
              "      <td>2</td>\n",
              "      <td>0</td>\n",
              "      <td>1</td>\n",
              "      <td>2</td>\n",
              "      <td>0</td>\n",
              "      <td>-0.005852</td>\n",
              "      <td>53.781574</td>\n",
              "      <td>72.108874</td>\n",
              "      <td>-1.695411</td>\n",
              "      <td>-8.00613</td>\n",
              "      <td>-2.23906</td>\n",
              "      <td>0.620926</td>\n",
              "      <td>1.55828</td>\n",
              "      <td>-4.019122</td>\n",
              "      <td>-4.281468</td>\n",
              "      <td>8.79113</td>\n",
              "      <td>8.79103</td>\n",
              "      <td>8.79103</td>\n",
              "      <td>8.791399</td>\n",
              "      <td>-5.962155</td>\n",
              "      <td>9.328732</td>\n",
              "      <td>0.269821</td>\n",
              "      <td>5.586155</td>\n",
              "      <td>-20.644519</td>\n",
              "      <td>3.192231</td>\n",
              "      <td>-1.326326</td>\n",
              "      <td>0.000943</td>\n",
              "      <td>1.897446</td>\n",
              "      <td>-0.689773</td>\n",
              "    </tr>\n",
              "  </tbody>\n",
              "</table>\n",
              "</div>"
            ],
            "text/plain": [
              "   atom_index_0  atom_index_1  ...  mulliken_atom_0  mulliken_atom_1\n",
              "0             2             0  ...         1.897446        -0.689773\n",
              "1             2             1  ...         1.897446        -0.689773\n",
              "2             2             3  ...         1.897446         1.033461\n",
              "3             3             0  ...         1.897446        -0.689773\n",
              "4             3             1  ...         1.897446        -0.689773\n",
              "\n",
              "[5 rows x 38 columns]"
            ]
          },
          "metadata": {
            "tags": []
          },
          "execution_count": 14
        }
      ]
    },
    {
      "cell_type": "code",
      "metadata": {
        "id": "uvdoLbNVYnYM",
        "colab_type": "code",
        "colab": {
          "base_uri": "https://localhost:8080/",
          "height": 34
        },
        "outputId": "f5bc7b20-fd68-46ec-dc15-1953bada69ea"
      },
      "source": [
        "test.shape"
      ],
      "execution_count": 15,
      "outputs": [
        {
          "output_type": "execute_result",
          "data": {
            "text/plain": [
              "(2505542, 38)"
            ]
          },
          "metadata": {
            "tags": []
          },
          "execution_count": 15
        }
      ]
    },
    {
      "cell_type": "code",
      "metadata": {
        "id": "JF1wUaHCYnUU",
        "colab_type": "code",
        "colab": {}
      },
      "source": [
        ""
      ],
      "execution_count": 0,
      "outputs": []
    },
    {
      "cell_type": "code",
      "metadata": {
        "id": "QprsqdjGYnNF",
        "colab_type": "code",
        "colab": {}
      },
      "source": [
        ""
      ],
      "execution_count": 0,
      "outputs": []
    },
    {
      "cell_type": "markdown",
      "metadata": {
        "id": "JtE-q4-lYFLe",
        "colab_type": "text"
      },
      "source": [
        "## Step-2: Make predictions from model"
      ]
    },
    {
      "cell_type": "code",
      "metadata": {
        "id": "OLWCxnLWYBuM",
        "colab_type": "code",
        "colab": {
          "base_uri": "https://localhost:8080/",
          "height": 204
        },
        "outputId": "2fc6e330-0417-4cac-ec79-972645acc35b"
      },
      "source": [
        "test_predictions=model_dnn.predict(test,verbose=1,batch_size=10000)\n",
        "test_predictions[:10]"
      ],
      "execution_count": 16,
      "outputs": [
        {
          "output_type": "stream",
          "text": [
            "2505542/2505542 [==============================] - 4s 2us/sample\n"
          ],
          "name": "stdout"
        },
        {
          "output_type": "execute_result",
          "data": {
            "text/plain": [
              "array([[  2.0758033 ],\n",
              "       [142.82864   ],\n",
              "       [ -0.86928594],\n",
              "       [138.73883   ],\n",
              "       [  2.9163547 ],\n",
              "       [ 81.635155  ],\n",
              "       [  2.5056806 ],\n",
              "       [ -9.135171  ],\n",
              "       [ -9.423362  ],\n",
              "       [ 83.45984   ]], dtype=float32)"
            ]
          },
          "metadata": {
            "tags": []
          },
          "execution_count": 16
        }
      ]
    },
    {
      "cell_type": "code",
      "metadata": {
        "id": "0i4GjZSsYRDn",
        "colab_type": "code",
        "colab": {
          "base_uri": "https://localhost:8080/",
          "height": 34
        },
        "outputId": "c384df07-22dc-4eaa-e060-af89778e2bab"
      },
      "source": [
        "test_predictions.shape"
      ],
      "execution_count": 17,
      "outputs": [
        {
          "output_type": "execute_result",
          "data": {
            "text/plain": [
              "(2505542, 1)"
            ]
          },
          "metadata": {
            "tags": []
          },
          "execution_count": 17
        }
      ]
    },
    {
      "cell_type": "markdown",
      "metadata": {
        "id": "hCBap19uZirj",
        "colab_type": "text"
      },
      "source": [
        "## Step-3: Create Sample Submission"
      ]
    },
    {
      "cell_type": "code",
      "metadata": {
        "id": "3Ds3nMUsY5PI",
        "colab_type": "code",
        "colab": {
          "base_uri": "https://localhost:8080/",
          "height": 204
        },
        "outputId": "5e6a045d-08fa-4592-f245-ec93e85cdab2"
      },
      "source": [
        "sample_submission=pd.read_csv('/content/drive/My Drive/Non-Project/Data/sample_submission.csv')\n",
        "sample_submission.head()"
      ],
      "execution_count": 18,
      "outputs": [
        {
          "output_type": "execute_result",
          "data": {
            "text/html": [
              "<div>\n",
              "<style scoped>\n",
              "    .dataframe tbody tr th:only-of-type {\n",
              "        vertical-align: middle;\n",
              "    }\n",
              "\n",
              "    .dataframe tbody tr th {\n",
              "        vertical-align: top;\n",
              "    }\n",
              "\n",
              "    .dataframe thead th {\n",
              "        text-align: right;\n",
              "    }\n",
              "</style>\n",
              "<table border=\"1\" class=\"dataframe\">\n",
              "  <thead>\n",
              "    <tr style=\"text-align: right;\">\n",
              "      <th></th>\n",
              "      <th>id</th>\n",
              "      <th>scalar_coupling_constant</th>\n",
              "    </tr>\n",
              "  </thead>\n",
              "  <tbody>\n",
              "    <tr>\n",
              "      <th>0</th>\n",
              "      <td>4658147</td>\n",
              "      <td>0</td>\n",
              "    </tr>\n",
              "    <tr>\n",
              "      <th>1</th>\n",
              "      <td>4658148</td>\n",
              "      <td>0</td>\n",
              "    </tr>\n",
              "    <tr>\n",
              "      <th>2</th>\n",
              "      <td>4658149</td>\n",
              "      <td>0</td>\n",
              "    </tr>\n",
              "    <tr>\n",
              "      <th>3</th>\n",
              "      <td>4658150</td>\n",
              "      <td>0</td>\n",
              "    </tr>\n",
              "    <tr>\n",
              "      <th>4</th>\n",
              "      <td>4658151</td>\n",
              "      <td>0</td>\n",
              "    </tr>\n",
              "  </tbody>\n",
              "</table>\n",
              "</div>"
            ],
            "text/plain": [
              "        id  scalar_coupling_constant\n",
              "0  4658147                         0\n",
              "1  4658148                         0\n",
              "2  4658149                         0\n",
              "3  4658150                         0\n",
              "4  4658151                         0"
            ]
          },
          "metadata": {
            "tags": []
          },
          "execution_count": 18
        }
      ]
    },
    {
      "cell_type": "code",
      "metadata": {
        "id": "4lrwPrMlZfgE",
        "colab_type": "code",
        "colab": {
          "base_uri": "https://localhost:8080/",
          "height": 204
        },
        "outputId": "da074bc4-55de-4067-8f4a-eea1cecb49de"
      },
      "source": [
        "sample_submission['scalar_coupling_constant']=test_predictions\n",
        "sample_submission.head()"
      ],
      "execution_count": 19,
      "outputs": [
        {
          "output_type": "execute_result",
          "data": {
            "text/html": [
              "<div>\n",
              "<style scoped>\n",
              "    .dataframe tbody tr th:only-of-type {\n",
              "        vertical-align: middle;\n",
              "    }\n",
              "\n",
              "    .dataframe tbody tr th {\n",
              "        vertical-align: top;\n",
              "    }\n",
              "\n",
              "    .dataframe thead th {\n",
              "        text-align: right;\n",
              "    }\n",
              "</style>\n",
              "<table border=\"1\" class=\"dataframe\">\n",
              "  <thead>\n",
              "    <tr style=\"text-align: right;\">\n",
              "      <th></th>\n",
              "      <th>id</th>\n",
              "      <th>scalar_coupling_constant</th>\n",
              "    </tr>\n",
              "  </thead>\n",
              "  <tbody>\n",
              "    <tr>\n",
              "      <th>0</th>\n",
              "      <td>4658147</td>\n",
              "      <td>2.075803</td>\n",
              "    </tr>\n",
              "    <tr>\n",
              "      <th>1</th>\n",
              "      <td>4658148</td>\n",
              "      <td>142.828644</td>\n",
              "    </tr>\n",
              "    <tr>\n",
              "      <th>2</th>\n",
              "      <td>4658149</td>\n",
              "      <td>-0.869286</td>\n",
              "    </tr>\n",
              "    <tr>\n",
              "      <th>3</th>\n",
              "      <td>4658150</td>\n",
              "      <td>138.738831</td>\n",
              "    </tr>\n",
              "    <tr>\n",
              "      <th>4</th>\n",
              "      <td>4658151</td>\n",
              "      <td>2.916355</td>\n",
              "    </tr>\n",
              "  </tbody>\n",
              "</table>\n",
              "</div>"
            ],
            "text/plain": [
              "        id  scalar_coupling_constant\n",
              "0  4658147                  2.075803\n",
              "1  4658148                142.828644\n",
              "2  4658149                 -0.869286\n",
              "3  4658150                138.738831\n",
              "4  4658151                  2.916355"
            ]
          },
          "metadata": {
            "tags": []
          },
          "execution_count": 19
        }
      ]
    },
    {
      "cell_type": "code",
      "metadata": {
        "id": "sxMgJtKZZm2q",
        "colab_type": "code",
        "colab": {}
      },
      "source": [
        "sample_submission.to_csv('sample_submission_demo.csv',index=False)"
      ],
      "execution_count": 0,
      "outputs": []
    },
    {
      "cell_type": "code",
      "metadata": {
        "id": "AeG-ZP9KZruA",
        "colab_type": "code",
        "colab": {}
      },
      "source": [
        ""
      ],
      "execution_count": 0,
      "outputs": []
    }
  ]
}